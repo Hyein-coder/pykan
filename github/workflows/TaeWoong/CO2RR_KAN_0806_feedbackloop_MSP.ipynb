{
 "cells": [
  {
   "cell_type": "markdown",
   "id": "0895cbba",
   "metadata": {},
   "source": [
    "## CO2RR 공정 datasheet 분석"
   ]
  },
  {
   "cell_type": "markdown",
   "id": "4e0157fd",
   "metadata": {},
   "source": [
    "----------------------------------"
   ]
  },
  {
   "cell_type": "markdown",
   "id": "499fd6e3",
   "metadata": {},
   "source": [
    "-------"
   ]
  },
  {
   "cell_type": "markdown",
   "id": "4d576959",
   "metadata": {},
   "source": [
    "Output 중 Required energy_total (MJ/kgCO), MSP 분석 예정"
   ]
  },
  {
   "cell_type": "markdown",
   "id": "bd5404b7",
   "metadata": {},
   "source": [
    "step0. 라이브러리 정리"
   ]
  },
  {
   "cell_type": "code",
   "execution_count": 1,
   "id": "ed16aea4",
   "metadata": {},
   "outputs": [
    {
     "name": "stdout",
     "output_type": "stream",
     "text": [
      "cpu\n"
     ]
    }
   ],
   "source": [
    "import pandas as pd\n",
    "import numpy as np\n",
    "import torch\n",
    "from sklearn.preprocessing import StandardScaler\n",
    "from sklearn.model_selection import train_test_split\n",
    "from sklearn.metrics import mean_squared_error, r2_score\n",
    "from kan import KAN\n",
    "from kan.utils import ex_round\n",
    "device = torch.device('cuda' if torch.cuda.is_available() else 'cpu')\n",
    "print(device)"
   ]
  },
  {
   "cell_type": "markdown",
   "id": "f34c39e8",
   "metadata": {},
   "source": [
    "step1. 엑셀 파일 불러오기"
   ]
  },
  {
   "cell_type": "code",
   "execution_count": 2,
   "id": "c0466943",
   "metadata": {},
   "outputs": [],
   "source": [
    "# 엑셀 데이터 로드 \n",
    "filepath = r\"C:\\Users\\kepco201\\Desktop\\KAN_python\\pykan-master\\github\\workflows\\TaeWoong\\25.01.14_CO2RR_GSA.xlsx\"\n",
    "xls = pd.ExcelFile(filepath) \n",
    "df_in  = pd.read_excel(xls, sheet_name='Input')\n",
    "df_out = pd.read_excel(xls, sheet_name='Output')\n",
    "\n"
   ]
  },
  {
   "cell_type": "markdown",
   "id": "12dafb3a",
   "metadata": {},
   "source": [
    "step2.결측값 대체 및 이상치 제거"
   ]
  },
  {
   "cell_type": "raw",
   "id": "d0c919d6",
   "metadata": {
    "vscode": {
     "languageId": "raw"
    }
   },
   "source": [
    "# [기존 step2]\n",
    "# df_in  = df_in.fillna(df_in.mean(numeric_only=True))\n",
    "# df_out = df_out.fillna(df_out.mean(numeric_only=True))\n",
    "\n",
    "# [수정된 step2] : 결측치가 있는 행 삭제\n",
    "\n",
    "# 1. 삭제 전 데이터 크기 확인\n",
    "print(f\"결측값 삭제 전 Input 데이터 크기: {df_in.shape}\")\n",
    "print(f\"결측값 삭제 전 Output 데이터 크기: {df_out.shape}\")\n",
    "\n",
    "# 2. 결측치가 있는 행 삭제\n",
    "# 두 데이터프레임의 인덱스를 맞추기 위해, 한쪽에서 삭제된 인덱스를 다른 쪽에도 적용\n",
    "na_rows_in = df_in.isnull().any(axis=1)\n",
    "na_rows_out = df_out.isnull().any(axis=1)\n",
    "rows_to_drop = na_rows_in | na_rows_out # 둘 중 하나라도 결측치가 있으면 삭제 대상\n",
    "\n",
    "df_in_cleaned = df_in[~rows_to_drop]\n",
    "df_out_cleaned = df_out[~rows_to_drop]\n",
    "\n",
    "# 3. 삭제 후 데이터 크기 확인\n",
    "print(f\"결측값 삭제 후 Input 데이터 크기: {df_in_cleaned.shape}\")\n",
    "print(f\"결측값 삭제 후 Output 데이터 크기: {df_out_cleaned.shape}\")\n",
    "\n",
    "# 이후 step3 에서는 df_in_cleaned와 df_out_cleaned 를 사용합니다.\n",
    "# X = df_in_cleaned[[...]].values\n",
    "# y = df_out_cleaned[[...]].values.reshape(-1, 1)\n",
    "\n",
    "\n"
   ]
  },
  {
   "cell_type": "markdown",
   "id": "77407cf1",
   "metadata": {},
   "source": [
    "이상치(Outlier) 제거 / 전체 데이터의 10% 이내로 극소량만 제거"
   ]
  },
  {
   "cell_type": "code",
   "execution_count": 3,
   "id": "cb9b8719",
   "metadata": {},
   "outputs": [
    {
     "name": "stdout",
     "output_type": "stream",
     "text": [
      "--- 이상치 제거 시작 ---\n",
      "이상치 제거 전 데이터 수: 2501 개\n",
      "이상치 제거 후 데이터 수: 2378 개 (123 개 제거됨)\n",
      "--- 이상치 제거 완료 ---\n",
      "\n"
     ]
    }
   ],
   "source": [
    "# 이상치(Outlier) 제거 (IQR 방식) ---\n",
    "\n",
    "print(\"--- 이상치 제거 시작 ---\")\n",
    "\n",
    "\n",
    "print(f\"이상치 제거 전 데이터 수: {len(df_in)} 개\")   # len(df_in) 을 통해 이상치 제거 전 데이터 길이(개수) 출력\n",
    "\n",
    "\n",
    "def remove_outliers_iqr(df_in, df_out):              # outlier 제거 함수 정의\n",
    "    \n",
    "    combined_df = pd.concat([df_in, df_out], axis=1) # pd.concat = 2개를 합치기 // 입력 변수(X)와 출력 변수(y)를 합쳐서 전체 데이터프레임 생성 // x랑 y를 한번에 고려\n",
    "                                                     # axis = 1 --- 오른쪽으로 합치기 --- 데이터 구조를 보면 예쁘게 정리가 된다\n",
    "    \n",
    "    numeric_cols = combined_df.select_dtypes(include=np.number).columns  # .select_dtypes 를 통해 특정 열만 출력 outlier 를 탐지할 숫자형 컬럼만 선택\n",
    "                                    # numeric_cols = 숫자로만 구성된 열들의 이름 리스트 (.colums = 그 열의 이름을 리스트로 출력)\n",
    "\n",
    "    # 각 컬럼에 대해 이상치 경계 계산 \n",
    "    Q1 = combined_df[numeric_cols].quantile(0.25)   # .quantile(0.25) = 데이터를 오름차순으로 정렬했을 떄 하위 25% 지점 \n",
    "    Q3 = combined_df[numeric_cols].quantile(0.75)   # .quantile(0.75) = 데이터를 오름차순으로 정렬했을 떄 상위 25% 지점 \n",
    "    IQR = Q3 - Q1 # IQR은 대략 상위 25% - 상위75% = 중간정도의 값에 해당\n",
    "    \n",
    "    lower_bound = Q1 - 6 * IQR  # 보통은 1.5* IQR을 진행하지만 최대한 삭제되는 데이터가 적도록 진행\n",
    "    upper_bound = Q3 + 6 * IQR\n",
    "    \n",
    "\n",
    "    # 밑의 줄은 공부를 더 해보자\n",
    "    # 모든 컬럼에 대해 정상 범위 내에 있는 데이터만 True로 표시\n",
    "    # (row의 어떤 컬럼이라도 이상치면 해당 row 전체가 False가 됨)\n",
    "    condition = ~((combined_df[numeric_cols] < lower_bound) | (combined_df[numeric_cols] > upper_bound)).any(axis=1)\n",
    "    \n",
    "\n",
    "    # 정상 범위에 있는 데이터만 필터링\n",
    "    df_in_no_outliers = df_in[condition]\n",
    "    df_out_no_outliers = df_out[condition]\n",
    "    \n",
    "    return df_in_no_outliers, df_out_no_outliers\n",
    "\n",
    "# 3. 함수를 사용하여 이상치 제거\n",
    "#    이전에 결측치를 제거한 df_in_cleaned, df_out_cleaned를 사용합니다.\n",
    "df_in_final, df_out_final = remove_outliers_iqr(df_in, df_out)\n",
    "\n",
    "\n",
    "# 4. 이상치 제거 후 남은 데이터 개수 확인\n",
    "removed_count = len(df_in) - len(df_in_final)  # 몇 개 지웠는지 세기\n",
    "print(f\"이상치 제거 후 데이터 수: {len(df_in_final)} 개 ({removed_count} 개 제거됨)\")\n",
    "print(\"--- 이상치 제거 완료 ---\\n\")\n",
    "\n",
    "\n",
    "# 이제 'df_in_final'과 'df_out_final'을 사용하자\n",
    "\n"
   ]
  },
  {
   "cell_type": "markdown",
   "id": "c1592a6a",
   "metadata": {},
   "source": [
    "step3. 엑셀 파일 속 data 추출 및 !predict 할 데이터 이름 입력! // 이상치 제거 후 X, Y 정의하기"
   ]
  },
  {
   "cell_type": "code",
   "execution_count": 4,
   "id": "b7eba938",
   "metadata": {},
   "outputs": [
    {
     "name": "stdout",
     "output_type": "stream",
     "text": [
      "[[1.97379048e+03 9.73836465e-01 3.72471012e-02 ... 2.89292283e+02\n",
      "  3.14514194e+00 1.49940024e-01]\n",
      " [1.95631747e+03 9.63060776e-01 5.54118353e-02 ... 2.92153805e+02\n",
      "  3.24190324e+00 2.49900040e-01]\n",
      " [1.93884446e+03 9.52285086e-01 7.35765694e-02 ... 2.95015327e+02\n",
      "  3.33866453e+00 3.49860056e-01]\n",
      " ...\n",
      " [1.61155538e+02 5.37714914e-01 5.36423431e-01 ... 3.38318006e+02\n",
      "  4.66133547e+00 1.65013994e+00]\n",
      " [1.43682527e+02 5.26939224e-01 5.54588165e-01 ... 3.41179528e+02\n",
      "  4.75809676e+00 1.75009996e+00]\n",
      " [1.26209516e+02 5.16163535e-01 5.72752899e-01 ... 3.44041050e+02\n",
      "  4.85485806e+00 1.85005998e+00]]\n",
      "====================\n",
      "[[1.01270078]\n",
      " [0.77514288]\n",
      " [0.64809651]\n",
      " ...\n",
      " [0.78464141]\n",
      " [0.92776384]\n",
      " [1.18767663]]\n"
     ]
    }
   ],
   "source": [
    "# 입력·출력 변수 선택 및 numpy 변환    # outlier 삭제를 원하지 않을시에는 df_in_final 을 df_in으로, df_out_final을 df_out으로 바꾸면 된다\n",
    "X = df_in_final[[\n",
    "    \"Current density (mA/cm2)\", \"Faradaic efficiency (%)\", \"CO coversion\",\n",
    "    \"Voltage (V)\", \"Electricity cost ($/kWh)\",\n",
    "    \"Membrain cost ($/m2)\", \"Catpure energy (GJ/ton)\",  # catpure energy? excel 파일에서 이렇게 오타가 났기에 그냥 사용\n",
    "    \"Crossover rate\"\n",
    "]].values\n",
    "\n",
    "\n",
    "\n",
    "\n",
    "predicting = \"MSP ($/kgCO)\" # 다른 output 변수 보고싶으면 이거 보면 됨 # Required energy_total (MJ/kgCO) # MSP ($/kgCO)\n",
    "###### 이거를 수정해서 다른 output도 보자\n",
    "\n",
    "y = df_out_final[predicting].values.reshape(-1, 1)   # df_out_final[] 는 pandas datatframe이기에 이것을 skitlearn 이나 Keras 형태로 바꾸기 -- 그래야 \n",
    "                                                     # .values 를 통해 Numpy 배열로 변환 (값만 뽑기 때문) # 그 후에 reshape(-1.1) 을 통해 \n",
    "                                                     # .reshape()을 이용해 열 1개\n",
    "print(X)\n",
    "print(\"====================\")\n",
    "print(y)\n",
    "\n",
    "\n",
    "\n",
    "\n"
   ]
  },
  {
   "cell_type": "markdown",
   "id": "620e7b8a",
   "metadata": {},
   "source": [
    "추가한 부분 -- y값을 input variable X_9로 추가한다 -- feedback loop"
   ]
  },
  {
   "cell_type": "code",
   "execution_count": 5,
   "id": "000d646a",
   "metadata": {},
   "outputs": [
    {
     "name": "stdout",
     "output_type": "stream",
     "text": [
      "(2378, 8)\n",
      "(2378, 9)\n"
     ]
    }
   ],
   "source": [
    "# **핵심: y값을 X에 추가해서 9개 피처로 만들기**\n",
    "print(X.shape)\n",
    "X = np.concatenate([X, y], axis=1)  # numpy.concatenate( [numpy배열1, numpy 배열2], axis = 1) 이면 옆방향으로 이어붙이기\n",
    "print(X.shape)\n"
   ]
  },
  {
   "cell_type": "markdown",
   "id": "39df47d1",
   "metadata": {},
   "source": [
    "step4. train_set, valadation_set, test_set 만들기 (64:16:20) 우측 하단 RAW로 일단 설정해놓음 나중에 python으로 바꾸기"
   ]
  },
  {
   "cell_type": "code",
   "execution_count": 6,
   "id": "c5e4f043",
   "metadata": {},
   "outputs": [
    {
     "name": "stdout",
     "output_type": "stream",
     "text": [
      "[[6.39764094e+02 8.75483806e-01 2.88958417e-01 ... 3.22830868e+00\n",
      "  3.92243103e-01 3.37695018e-01]\n",
      " [1.92303079e+02 6.42141144e-01 1.31609356e-01 ... 3.07636945e+00\n",
      "  1.13674530e+00 8.94332130e-01]\n",
      " [1.80057977e+03 5.59070372e-01 2.64424230e-01 ... 3.93042783e+00\n",
      "  1.81567373e+00 4.11109448e-01]\n",
      " ...\n",
      " [1.23612555e+03 6.04132347e-01 1.88462615e-01 ... 4.33506597e+00\n",
      "  1.76129548e+00 5.07979505e-01]\n",
      " [1.70637745e+03 6.59774090e-01 1.61333467e-01 ... 3.23470612e+00\n",
      "  1.97241104e+00 4.87968237e-01]\n",
      " [1.03100760e+03 8.20625750e-01 1.96483407e-01 ... 3.72091164e+00\n",
      "  1.93482607e+00 4.25265032e-01]]\n",
      "전체 데이터셋 크기: 2378\n",
      "훈련셋 크기: 1521 (64.0%)\n",
      "검증셋 크기: 381 (16.0%)\n",
      "테스트셋 크기: 476 (20.0%)\n"
     ]
    }
   ],
   "source": [
    "# 1단계: 먼저 train+val과 test로 분할 (80:20)\n",
    "X_temp, X_test, y_temp, y_test = train_test_split(X, y, test_size=0.2, random_state=42)\n",
    "\n",
    "\n",
    "# 2단계: train+val을 train과 val로 분할 (64:16, 전체 대비)\n",
    "X_train, X_val, y_train, y_val = train_test_split(X_temp, y_temp, test_size=0.2, random_state=42)  # 0.2 × 0.8 = 0.16 (전체의 16%)\n",
    "\n",
    "\n",
    "# 최종 비율 확인\n",
    "# (X[:,0])~(X[:,7]) 에 각각의 입력변수들의 값들이 각각 저장됨\n",
    "\n",
    "\n",
    "\n",
    "print(X_val)\n",
    "print(f\"전체 데이터셋 크기: {len(X)}\")\n",
    "print(f\"훈련셋 크기: {len(X_train)} ({len(X_train)/len(X)*100:.1f}%)\")\n",
    "print(f\"검증셋 크기: {len(X_val)} ({len(X_val)/len(X)*100:.1f}%)\")  \n",
    "print(f\"테스트셋 크기: {len(X_test)} ({len(X_test)/len(X)*100:.1f}%)\")\n",
    "\n",
    "\n"
   ]
  },
  {
   "cell_type": "markdown",
   "id": "c8e1d9a9",
   "metadata": {},
   "source": [
    "step4-1. 층화추출(Stratified Sampling on y)을 하고 싶을 때 step4 대신 실행 / 데이터의 밀도가 다른 점을 고려"
   ]
  },
  {
   "cell_type": "raw",
   "id": "836e051a",
   "metadata": {
    "vscode": {
     "languageId": "raw"
    }
   },
   "source": [
    "\n",
    "\n",
    "# ===================================================================\n",
    "# Step 4: 데이터 분할 (훈련/검증/테스트 6:2:2, 층화 추출 적용)\n",
    "# ===================================================================\n",
    "\n",
    "from sklearn.model_selection import train_test_split\n",
    "import pandas as pd\n",
    "import numpy as np\n",
    "\n",
    "print(\"--- 데이터 분할 시작 (훈련/검증/테스트, 층화 추출 방식) ---\")\n",
    "\n",
    "# 1. 층화 추출을 위한 y값 그룹(strata) 생성\n",
    "num_bins = 5\n",
    "try:\n",
    "    y_binned = pd.cut(y.flatten(), bins=num_bins, labels=False)\n",
    "    stratify_option = y_binned\n",
    "    print(f\"y값을 {num_bins}개 구간으로 나누어 층화 추출을 진행합니다.\")\n",
    "except ValueError as e:\n",
    "    print(f\"경고: y값으로 층화 추출을 시도했으나 실패했습니다. ({e})\")\n",
    "    print(\"일반 무작위 추출 방식으로 전환합니다.\")\n",
    "    stratify_option = None\n",
    "\n",
    "# 2. 먼저, 훈련+검증 데이터(80%)와 최종 테스트 데이터(20%)로 분할합니다.\n",
    "X_train_val, X_test, y_train_val, y_test = train_test_split(\n",
    "    X, y, \n",
    "    test_size=0.2, \n",
    "    random_state=42, \n",
    "    stratify=stratify_option\n",
    ")\n",
    "\n",
    "# 3. 다음으로, 훈련+검증 데이터(X_train_val)를 다시 훈련 데이터(75%)와 검증 데이터(25%)로 분할합니다.\n",
    "#    (전체 데이터의 80% 중 75%는 60%, 25%는 20%에 해당하여, 최종적으로 60:20:20 비율이 됩니다.)\n",
    "\n",
    "# 층화 추출을 두 번째 분할에도 일관되게 적용하기 위해 y_train_val 그룹을 다시 만듭니다.\n",
    "try:\n",
    "    y_train_val_binned = pd.cut(y_train_val.flatten(), bins=num_bins, labels=False)\n",
    "    stratify_option_2 = y_train_val_binned\n",
    "except ValueError:\n",
    "    stratify_option_2 = None # 분할이 불가능하면 일반 추출\n",
    "\n",
    "X_train, X_val, y_train, y_val = train_test_split(\n",
    "    X_train_val, y_train_val,\n",
    "    test_size=0.25, # 80% 중 25%는 전체의 20%\n",
    "    random_state=42,\n",
    "    stratify=stratify_option_2\n",
    ")\n",
    "\n",
    "print(\"\\n--- 최종 분할 후 데이터셋 크기 ---\")\n",
    "print(f\"훈련 데이터 (X_train): {X_train.shape}\")\n",
    "print(f\"검증 데이터 (X_val): {X_val.shape}\")\n",
    "print(f\"테스트 데이터 (X_test): {X_test.shape}\")\n",
    "print(\"\\n--- 데이터 분할 완료 ---\")\n",
    "\n"
   ]
  },
  {
   "cell_type": "markdown",
   "id": "9cd52a27",
   "metadata": {},
   "source": [
    "step5. 데이터 정규화(normalization)_전처리 과정"
   ]
  },
  {
   "cell_type": "code",
   "execution_count": 7,
   "id": "7c5cc170",
   "metadata": {},
   "outputs": [
    {
     "name": "stdout",
     "output_type": "stream",
     "text": [
      "정규화 후 통계:\n",
      "X_train_norm: mean=0.4729, std=0.2342\n",
      "X_val_norm: mean=0.4761, std=0.2365\n",
      "X_test_norm: mean=0.4763, std=0.2350\n",
      "y_train_norm: mean=0.2647, std=0.1361\n",
      "y_val_norm: mean=0.2583, std=0.1516\n",
      "y_test_norm: mean=0.2700, std=0.1425\n"
     ]
    }
   ],
   "source": [
    "# 중요: 훈련 데이터(X_train, y_train)의 최소/최대값을 기준으로 스케일러를 학습(fit)하고,\n",
    "# 이 기준으로 모든 데이터셋(train, val, test)을 동일하게 변환합니다.\n",
    "# 이렇게 해야 테스트 과정에서 미래 정보(테스트셋의 최소/최대값)가 모델에 유출되는 것을 막을 수 있다.\n",
    "# validation dataset이나 test data로 스케일링을 할 시 데이터 누수 발생 가능\n",
    "\n",
    "from sklearn.preprocessing import MinMaxScaler\n",
    "import numpy as np\n",
    "\n",
    "\n",
    "\n",
    "# 1. MinMaxScaler 객체 생성 --- 범위를 0.1~0.9로 재설정\n",
    "scaler_X = MinMaxScaler(feature_range=(0.1, 0.9))\n",
    "scaler_y = MinMaxScaler(feature_range=(0.1, 0.9))\n",
    "\n",
    "\n",
    "\n",
    "\n",
    "X_train_norm = scaler_X.fit_transform(X_train) # 훈련 데이터로 스케일러 학습 및 변환 (fit_transform)\n",
    "y_train_norm = scaler_y.fit_transform(y_train) # X_train의 각 변수(컬럼)별로 최소값은 0, 최대값은 1이 되도록 변환됩니다.\n",
    "\n",
    "# 3. 학습된 스케일러로 검증 및 테스트 데이터 변환 (transform)\n",
    "# X_train의 기준으로 나머지 데이터들을 변환합니다.\n",
    "X_val_norm = scaler_X.transform(X_val)\n",
    "X_test_norm = scaler_X.transform(X_test)\n",
    "\n",
    "y_val_norm = scaler_y.transform(y_val)   # y_val 과 y_test 도 y_train 의 정규분포를 따라 변환된다\n",
    "y_test_norm = scaler_y.transform(y_test)\n",
    "\n",
    "\n",
    "#print(X_train_norm)\n",
    "\n",
    "#print(X_val_norm)\n",
    "\n",
    "#print(X_test_norm)\n",
    "\n",
    "#print(y_train_norm)\n",
    "\n",
    "#print(y_val_norm)\n",
    "\n",
    "#print(y_test_norm)\n",
    "\n",
    "# X_train_norm 은 [[x0~x7], [x0~x7],....,[x0~x7]] 에서 각 x0~x7은 각 열마다 각각 범위가 0~1로 범위가 변환됨\n",
    "# 이 변환된 정도를 X_val_norm 과 X_test_norm도 적용받음\n",
    "\n",
    "# 정규화 후 통계 확인\n",
    "print(\"정규화 후 통계:\")\n",
    "print(f\"X_train_norm: mean={X_train_norm.mean():.4f}, std={X_train_norm.std():.4f}\")\n",
    "print(f\"X_val_norm: mean={X_val_norm.mean():.4f}, std={X_val_norm.std():.4f}\")\n",
    "print(f\"X_test_norm: mean={X_test_norm.mean():.4f}, std={X_test_norm.std():.4f}\")\n",
    "print(f\"y_train_norm: mean={y_train_norm.mean():.4f}, std={y_train_norm.std():.4f}\")\n",
    "print(f\"y_val_norm: mean={y_val_norm.mean():.4f}, std={y_val_norm.std():.4f}\")\n",
    "print(f\"y_test_norm: mean={y_test_norm.mean():.4f}, std={y_test_norm.std():.4f}\")\n",
    "\n"
   ]
  },
  {
   "cell_type": "markdown",
   "id": "9ad59c20",
   "metadata": {},
   "source": [
    "step6. tensor 변환"
   ]
  },
  {
   "cell_type": "code",
   "execution_count": 8,
   "id": "482b4c61",
   "metadata": {},
   "outputs": [
    {
     "name": "stdout",
     "output_type": "stream",
     "text": [
      "모든 텐서가 cpu에 배치됨\n"
     ]
    }
   ],
   "source": [
    "# 딥러닝을 진행하기 전 모든 데이터셋을 tensor로 변환  # 원래는 numpy 배열이었음 --- 아까 scikitlearn의 train test split 이나 .fit transform 스케일러를 사용하였기에 \n",
    "X_train_tensor = torch.tensor(X_train_norm, dtype=torch.float32, device=device)\n",
    "X_val_tensor = torch.tensor(X_val_norm, dtype=torch.float32, device=device)\n",
    "X_test_tensor = torch.tensor(X_test_norm, dtype=torch.float32, device=device)\n",
    "y_train_tensor = torch.tensor(y_train_norm, dtype=torch.float32, device=device)\n",
    "y_val_tensor = torch.tensor(y_val_norm, dtype=torch.float32, device=device)\n",
    "y_test_tensor = torch.tensor(y_test_norm, dtype=torch.float32, device=device)\n",
    "\n",
    "print(f\"모든 텐서가 {device}에 배치됨\")\n"
   ]
  },
  {
   "cell_type": "markdown",
   "id": "996a7ee0",
   "metadata": {},
   "source": [
    "step7. dataset dictionary 만들기"
   ]
  },
  {
   "cell_type": "code",
   "execution_count": 9,
   "id": "d8165a42",
   "metadata": {},
   "outputs": [
    {
     "name": "stdout",
     "output_type": "stream",
     "text": [
      "train_input: torch.Size([1521, 9])\n",
      "train_label: torch.Size([1521, 1])\n",
      "val_input: torch.Size([381, 9])\n",
      "val_label: torch.Size([381, 1])\n",
      "test_input: torch.Size([476, 9])\n",
      "test_label: torch.Size([476, 1])\n"
     ]
    }
   ],
   "source": [
    "# 나중에 정의하기 편하게 dataset을 정의하기 -- 참고로 dataset들은 tensor 이다\n",
    "\n",
    "dataset = {'train_input': X_train_tensor,'train_label': y_train_tensor,\n",
    "            'val_input': X_val_tensor, 'val_label': y_val_tensor,\n",
    "            'test_input': X_test_tensor,'test_label': y_test_tensor }    # dataset dictionary에 key값과 value 값을 설정한다\n",
    "\n",
    "# 데이터셋 검토차 크기 확인\n",
    "for key, value in dataset.items():                     #.items()를 쓰면 key와 value 값을 묶어서 출력 // .items()가 없으면 오직 key만 출력\n",
    "    print(f\"{key}: {value.shape}\")\n",
    "\n"
   ]
  },
  {
   "cell_type": "code",
   "execution_count": 10,
   "id": "4a2d709a",
   "metadata": {},
   "outputs": [
    {
     "name": "stdout",
     "output_type": "stream",
     "text": [
      "torch.Size([1521, 9])\n"
     ]
    }
   ],
   "source": [
    "print(dataset['train_input'].shape)  # (샘플수, 피처수)\n"
   ]
  },
  {
   "cell_type": "markdown",
   "id": "7f52eab5",
   "metadata": {},
   "source": [
    "step8. 1개의 KAN 모델 생성"
   ]
  },
  {
   "cell_type": "code",
   "execution_count": 11,
   "id": "227d86c0",
   "metadata": {},
   "outputs": [
    {
     "name": "stdout",
     "output_type": "stream",
     "text": [
      "checkpoint directory created: ./model\n",
      "saving model version 0.0\n"
     ]
    }
   ],
   "source": [
    "# KAN 모델 생성\n",
    "model = KAN(width=[9,16,1], grid=3, k=3, seed=42, device=device)"
   ]
  },
  {
   "cell_type": "markdown",
   "id": "d6debc95",
   "metadata": {},
   "source": [
    "step9. KAN 학습 및 prune 후 재학습"
   ]
  },
  {
   "cell_type": "code",
   "execution_count": 12,
   "id": "947446ce",
   "metadata": {},
   "outputs": [
    {
     "name": "stderr",
     "output_type": "stream",
     "text": [
      "| train_loss: 1.50e-02 | test_loss: 1.63e-02 | reg: 2.68e+00 | : 100%|█| 50/50 [00:32<00:00,  1.55it\n"
     ]
    },
    {
     "name": "stdout",
     "output_type": "stream",
     "text": [
      "saving model version 0.1\n"
     ]
    },
    {
     "data": {
      "image/png": "[encoded data removed]",
      "text/plain": [
       "<Figure size 500x400 with 178 Axes>"
      ]
     },
     "metadata": {},
     "output_type": "display_data"
    }
   ],
   "source": [
    "# KAN 학습\n",
    "model.fit(dataset, opt=\"LBFGS\", steps=50, lamb=0.004)\n",
    "model.plot()"
   ]
  },
  {
   "cell_type": "code",
   "execution_count": 13,
   "id": "cb1a179d",
   "metadata": {},
   "outputs": [
    {
     "name": "stdout",
     "output_type": "stream",
     "text": [
      "-0.7375224338339356\n",
      "0.006206231083055698\n"
     ]
    }
   ],
   "source": [
    "import numpy as np\n",
    "print(np.corrcoef(X[:,2], y.reshape(-1))[0,1])  # x_3-y\n",
    "print(np.corrcoef(X[:,3], y.reshape(-1))[0,1])  # x_4-y\n"
   ]
  },
  {
   "cell_type": "markdown",
   "id": "d2f2ba8b",
   "metadata": {},
   "source": [
    "model의 성질을 잠깐 출력해보자"
   ]
  },
  {
   "cell_type": "code",
   "execution_count": 14,
   "id": "bbe9133d",
   "metadata": {},
   "outputs": [
    {
     "name": "stdout",
     "output_type": "stream",
     "text": [
      "--- 모델의 전체 구조 (print) ---\n",
      "MultKAN(\n",
      "  (act_fun): ModuleList(\n",
      "    (0-1): 2 x KANLayer(\n",
      "      (base_fun): SiLU()\n",
      "    )\n",
      "  )\n",
      "  (base_fun): SiLU()\n",
      "  (symbolic_fun): ModuleList(\n",
      "    (0-1): 2 x Symbolic_KANLayer()\n",
      "  )\n",
      ")\n",
      "\n",
      "--- 모델의 모든 속성 리스트 (dir) ---\n",
      "['T_destination', '__annotations__', '__call__', '__class__', '__delattr__', '__dict__', '__dir__', '__doc__', '__eq__', '__format__', '__ge__', '__getattr__', '__getattribute__', '__getstate__', '__gt__', '__hash__', '__init__', '__init_subclass__', '__le__', '__lt__', '__module__', '__ne__', '__new__', '__reduce__', '__reduce_ex__', '__repr__', '__setattr__', '__setstate__', '__sizeof__', '__str__', '__subclasshook__', '__weakref__', '_apply', '_backward_hooks', '_backward_pre_hooks', '_buffers', '_call_impl', '_compiled_call_impl', '_forward_hooks', '_forward_hooks_always_called', '_forward_hooks_with_kwargs', '_forward_pre_hooks', '_forward_pre_hooks_with_kwargs', '_get_backward_hooks', '_get_backward_pre_hooks', '_get_name', '_is_full_backward_hook', '_load_from_state_dict', '_load_state_dict_post_hooks', '_load_state_dict_pre_hooks', '_maybe_warn_non_full_backward_hook', '_modules', '_named_members', '_non_persistent_buffers_set', '_parameters', '_register_load_state_dict_pre_hook', '_register_state_dict_hook', '_replicate_for_data_parallel', '_save_to_state_dict', '_slow_forward', '_state_dict_hooks', '_state_dict_pre_hooks', '_version', '_wrapped_call_impl', 'act_fun', 'acts', 'acts_premult', 'acts_scale', 'acts_scale_spline', 'add_module', 'affine_trainable', 'apply', 'attribute', 'auto_save', 'auto_swap', 'auto_swap_l', 'auto_symbolic', 'base_fun', 'base_fun_name', 'bfloat16', 'buffers', 'cache_data', 'call_super_init', 'checkout', 'children', 'ckpt_path', 'compile', 'connection_cost', 'copy', 'cpu', 'cuda', 'depth', 'device', 'disable_symbolic_in_fit', 'double', 'dump_patches', 'edge_actscale', 'edge_scores', 'edge_scores_all', 'eval', 'evaluate', 'expand_depth', 'expand_width', 'extra_repr', 'feature_interaction', 'feature_score', 'fit', 'fix_symbolic', 'float', 'forward', 'get_act', 'get_buffer', 'get_extra_state', 'get_fun', 'get_parameter', 'get_params', 'get_range', 'get_reg', 'get_submodule', 'grid', 'grid_eps', 'grid_range', 'half', 'history', 'initialize_from_another_model', 'initialize_grid_from_another_model', 'input_id', 'ipu', 'k', 'load_state_dict', 'loadckpt', 'log_history', 'module', 'modules', 'mtia', 'mult_arity', 'mult_homo', 'n_edge', 'n_mult', 'n_sum', 'named_buffers', 'named_children', 'named_modules', 'named_parameters', 'node_attribute', 'node_bias', 'node_bias_0', 'node_bias_1', 'node_scale', 'node_scale_0', 'node_scale_1', 'node_scores', 'node_scores_all', 'parameters', 'perturb', 'plot', 'prune', 'prune_edge', 'prune_input', 'prune_node', 'refine', 'reg', 'register_backward_hook', 'register_buffer', 'register_forward_hook', 'register_forward_pre_hook', 'register_full_backward_hook', 'register_full_backward_pre_hook', 'register_load_state_dict_post_hook', 'register_load_state_dict_pre_hook', 'register_module', 'register_parameter', 'register_state_dict_post_hook', 'register_state_dict_pre_hook', 'remove_edge', 'remove_node', 'requires_grad_', 'rewind', 'round', 'save_act', 'saveckpt', 'sb_trainable', 'set_extra_state', 'set_mode', 'set_submodule', 'share_memory', 'sp_trainable', 'speed', 'spline_postacts', 'spline_postsplines', 'spline_preacts', 'state_dict', 'state_id', 'subnode_actscale', 'subnode_bias', 'subnode_bias_0', 'subnode_bias_1', 'subnode_scale', 'subnode_scale_0', 'subnode_scale_1', 'subnode_scores', 'subnode_scores_all', 'suggest_symbolic', 'swap', 'symbolic_enabled', 'symbolic_formula', 'symbolic_fun', 'to', 'to_empty', 'train', 'training', 'tree', 'type', 'unfix_symbolic', 'unfix_symbolic_all', 'update_grid', 'update_grid_from_samples', 'width', 'width_in', 'width_out', 'xpu', 'zero_grad']\n"
     ]
    }
   ],
   "source": [
    "# 1. 모델의 전체 구조를 친절하게 출력해보기 (가장 추천!)\n",
    "print(\"--- 모델의 전체 구조 (print) ---\")\n",
    "print(model)\n",
    "\n",
    "# 2. 모델이 가진 모든 속성(변수, 함수) 리스트를 확인해보기\n",
    "print(\"\\n--- 모델의 모든 속성 리스트 (dir) ---\")\n",
    "print(dir(model))\n"
   ]
  },
  {
   "cell_type": "markdown",
   "id": "2ad68e51",
   "metadata": {},
   "source": [
    "학습가능 파라미터 수 "
   ]
  },
  {
   "cell_type": "code",
   "execution_count": 15,
   "id": "553f6ac5",
   "metadata": {},
   "outputs": [
    {
     "name": "stdout",
     "output_type": "stream",
     "text": [
      "학습가능 파라미터 수: 1,920\n",
      "act_fun.0.coef                           torch.Size([9, 16, 6])   864\n",
      "act_fun.0.scale_base                     torch.Size([9, 16])   144\n",
      "act_fun.0.scale_sp                       torch.Size([9, 16])   144\n",
      "act_fun.1.coef                           torch.Size([16, 1, 6])    96\n",
      "act_fun.1.scale_base                     torch.Size([16, 1])    16\n",
      "act_fun.1.scale_sp                       torch.Size([16, 1])    16\n",
      "symbolic_fun.0.affine                    torch.Size([16, 9, 4])   576\n",
      "symbolic_fun.1.affine                    torch.Size([1, 16, 4])    64\n"
     ]
    }
   ],
   "source": [
    "num_params = sum(p.numel() for p in model.parameters() if p.requires_grad)\n",
    "print(f\"학습가능 파라미터 수: {num_params:,}\")\n",
    "\n",
    "for name, p in model.named_parameters():\n",
    "    if p.requires_grad:\n",
    "        print(f\"{name:40s} {p.shape} {p.numel():5d}\")\n"
   ]
  },
  {
   "cell_type": "markdown",
   "id": "91261a8c",
   "metadata": {},
   "source": [
    "학습가능한 파라미터의 리스트를 나열해보자"
   ]
  },
  {
   "cell_type": "code",
   "execution_count": 16,
   "id": "324ce580",
   "metadata": {},
   "outputs": [
    {
     "name": "stdout",
     "output_type": "stream",
     "text": [
      "(감지된 모델 타입: MultKAN)\n",
      "\n",
      "  [ Layer 0 (KANLayer) ] \n",
      " \n",
      " > Coefficients Shape: (9, 16, 6)\n",
      "  > Coefficients List (전체 파라미터)\n",
      "[[[ 2.49351002e-03  2.37229164e-03  1.67733990e-03  3.76928179e-03\n",
      "    1.42682809e-03  1.39188124e-02]\n",
      "  [ 5.06219175e-03  5.20557016e-02  2.25369371e-02  1.42628690e-02\n",
      "   -2.96338201e-02  5.48190996e-03]\n",
      "  [-4.28801170e-03  2.59324879e-04 -4.16248711e-03 -6.85776258e-03\n",
      "   -1.26274368e-02 -1.00185890e-02]\n",
      "  [-1.86985321e-02 -4.25211079e-02 -1.17291305e-02  8.98110773e-03\n",
      "    4.63870876e-02  5.83035313e-02]\n",
      "  [ 1.87125131e-02 -2.94661056e-03 -1.93559062e-02 -3.65995690e-02\n",
      "   -6.42037913e-02 -6.07109927e-02]\n",
      "  [-8.62830505e-02 -1.18342556e-01 -6.17569871e-02 -2.41737254e-02\n",
      "    4.84871641e-02  5.18002138e-02]\n",
      "  [ 1.41049940e-02  8.89272243e-03  4.47827904e-03 -3.00505478e-03\n",
      "   -9.16102529e-03 -1.68544687e-02]\n",
      "  [ 3.72584653e-03  5.95710799e-02  1.19140986e-02 -1.09810857e-02\n",
      "   -7.28645176e-02 -3.34291235e-02]\n",
      "  [-8.92885868e-03 -1.26874736e-02 -1.61370654e-02 -2.05427334e-02\n",
      "   -2.57683471e-02 -3.06496080e-02]\n",
      "  [-2.17043441e-02 -1.52527764e-02 -7.46254995e-03  2.03362224e-03\n",
      "    1.30133098e-02  2.53820643e-02]\n",
      "  [-9.11261421e-03 -3.37768085e-02 -1.13605037e-02  2.19915388e-03\n",
      "    2.84834430e-02  2.93237716e-02]\n",
      "  [-7.69571811e-02 -5.16170673e-02 -3.35295312e-02 -8.03440623e-03\n",
      "    1.88373215e-02  5.51675670e-02]\n",
      "  [-1.04821501e-02 -3.37387295e-03  6.40382897e-03  1.81862339e-02\n",
      "    3.18465158e-02  4.68626618e-02]\n",
      "  [ 7.76007352e-03 -3.94011586e-04 -8.81978869e-03 -1.94169283e-02\n",
      "   -3.10465842e-02 -4.55966890e-02]\n",
      "  [-1.88582465e-02 -1.16594031e-01 -8.67082551e-02 -7.66120255e-02\n",
      "   -5.57154976e-02 -4.06507589e-02]\n",
      "  [-4.05244483e-03  4.30613235e-02  1.05925985e-02  2.84457710e-05\n",
      "   -4.17605862e-02  3.27153853e-03]]\n",
      "\n",
      " [[-2.33756397e-02 -9.81259197e-02 -3.48251201e-02  1.38157397e-03\n",
      "    7.38234445e-02  7.88780898e-02]\n",
      "  [ 5.17742932e-02  3.95087786e-02  2.29975525e-02  3.79217207e-03\n",
      "   -2.00519562e-02 -3.95852067e-02]\n",
      "  [-2.51062252e-02 -1.95994340e-02 -9.85392462e-03  2.68055941e-04\n",
      "    1.31391380e-02  2.85359453e-02]\n",
      "  [-5.06164543e-02 -6.17311262e-02 -3.21974456e-02 -1.63842328e-02\n",
      "    2.63720509e-02 -9.29043535e-03]\n",
      "  [-2.45353188e-02 -1.63021032e-02 -2.33536530e-02 -2.75800452e-02\n",
      "   -3.55120115e-02 -3.73680182e-02]\n",
      "  [-3.56190763e-02 -6.85149953e-02 -1.96713749e-02  9.42470599e-03\n",
      "    7.20967427e-02  5.66524751e-02]\n",
      "  [ 3.18484493e-02  5.59419207e-02  2.95228269e-02  1.23814885e-02\n",
      "   -1.84602924e-02 -2.32582614e-02]\n",
      "  [ 5.91305196e-02  4.89982888e-02  3.89380455e-02  2.60670632e-02\n",
      "    1.16674453e-02 -5.38335787e-03]\n",
      "  [-3.56473066e-02 -4.77022603e-02 -2.94503756e-02 -1.59913991e-02\n",
      "    6.96404651e-03  1.58966463e-02]\n",
      "  [ 1.57041997e-02  1.23121515e-02  1.42964609e-02  1.58164576e-02\n",
      "    1.84341799e-02  1.57496948e-02]\n",
      "  [-2.20998693e-02 -3.32293510e-02  8.28803051e-03  3.57693322e-02\n",
      "    9.88304839e-02  4.46739458e-02]\n",
      "  [-2.94888746e-02 -4.96024154e-02 -3.11506409e-02 -1.94341093e-02\n",
      "    2.59531615e-03 -7.54941488e-04]\n",
      "  [ 5.49813127e-03  1.31649524e-02  1.07099153e-02  1.13164131e-02\n",
      "    8.52685235e-03  1.66277997e-02]\n",
      "  [-1.28728757e-02 -3.71145085e-02  5.38802892e-03  3.03819608e-02\n",
      "    8.93451571e-02  5.26761264e-02]\n",
      "  [-9.34546366e-02 -1.97767243e-01 -1.00790516e-01 -4.60151583e-02\n",
      "    6.86077699e-02  5.51646724e-02]\n",
      "  [ 2.95768376e-03 -4.93752770e-04 -5.04670804e-03 -1.02193523e-02\n",
      "   -1.65957436e-02 -2.28685644e-02]]\n",
      "\n",
      " [[-2.97885612e-02  2.19394499e-03 -1.67268869e-02 -2.03461349e-02\n",
      "   -4.26633358e-02 -1.93732902e-02]\n",
      "  [ 1.38688758e-02  1.25211045e-01 -1.92758883e-03  1.13408146e-02\n",
      "   -1.30836368e-01 -6.21515922e-02]\n",
      "  [ 8.19163173e-02  1.01356052e-01  4.82702181e-02  6.88024424e-03\n",
      "   -6.01301119e-02 -8.83413181e-02]\n",
      "  [-4.32530902e-02 -3.82432826e-02 -1.84425507e-02 -4.45558643e-03\n",
      "    2.51609832e-02  1.24500357e-02]\n",
      "  [-4.01064381e-02 -9.80987772e-02 -3.76956388e-02  1.34072185e-03\n",
      "    7.26179257e-02  8.93177763e-02]\n",
      "  [ 1.73035040e-02  2.99535356e-02  4.40602051e-03 -8.01778305e-03\n",
      "   -4.93771620e-02  7.33774062e-03]\n",
      "  [-2.81051341e-02 -1.76987108e-02 -9.25024878e-03  2.45656411e-04\n",
      "    1.45519050e-02  1.35000357e-02]\n",
      "  [-3.01086251e-02 -2.09688339e-02 -1.28554413e-02 -2.26471596e-03\n",
      "    9.07907076e-03  2.36901417e-02]\n",
      "  [-6.50852965e-03 -3.49145359e-03  1.90801860e-03  7.50087062e-03\n",
      "    1.57213528e-02  1.82111245e-02]\n",
      "  [-1.27011854e-02 -8.83388966e-02 -3.54056023e-02 -9.47288331e-03\n",
      "    5.19209318e-02  3.37797925e-02]\n",
      "  [ 2.07635574e-02  1.68686323e-02  1.27222966e-02  7.80451857e-03\n",
      "    1.97605765e-03 -4.29856637e-03]\n",
      "  [-2.43817549e-03  3.41363735e-02  3.29470332e-03 -8.26844480e-03\n",
      "   -4.86432686e-02 -1.50051247e-02]\n",
      "  [-6.49286583e-02 -5.99849746e-02 -4.87367474e-02 -3.60366479e-02\n",
      "   -2.11124457e-02 -4.63867793e-03]\n",
      "  [-4.09944654e-02 -3.06135304e-02 -3.34908515e-02 -3.33715715e-02\n",
      "   -3.54305990e-02 -3.39865647e-02]\n",
      "  [-3.69558856e-02 -1.97528616e-01 -9.98781174e-02 -3.44376899e-02\n",
      "    9.07819197e-02  1.32646412e-02]\n",
      "  [-5.10759242e-02 -6.47650287e-02 -3.37698311e-02 -8.56005773e-03\n",
      "    2.84364168e-02  4.72360775e-02]]\n",
      "\n",
      " [[-6.02771901e-03 -2.18009204e-03  3.36590433e-03  9.89044085e-03\n",
      "    1.75342299e-02  2.58419383e-02]\n",
      "  [ 2.46392768e-02  1.95743050e-03  1.54126426e-02  1.37840286e-02\n",
      "    2.90450957e-02  1.04935160e-02]\n",
      "  [-6.60722191e-03 -6.91968715e-03 -1.13454852e-02 -1.57716535e-02\n",
      "   -2.15794798e-02 -2.61387471e-02]\n",
      "  [ 1.35164708e-02  3.93173238e-03  1.45087135e-03 -5.26783196e-03\n",
      "   -8.81407037e-03 -2.56063994e-02]\n",
      "  [-2.74464935e-02 -1.05734028e-01 -4.54798937e-02 -1.46717448e-02\n",
      "    6.10783882e-02  8.55225883e-03]\n",
      "  [ 8.39347765e-03 -6.53457316e-03 -1.41755315e-02 -2.62120627e-02\n",
      "   -3.80763635e-02 -5.57815544e-02]\n",
      "  [-4.34011817e-02 -8.76975060e-02 -3.55154648e-02 -4.06439928e-03\n",
      "    5.87282404e-02  6.47297502e-02]\n",
      "  [-3.71370725e-02 -3.41840982e-02 -2.24097390e-02 -1.01197502e-02\n",
      "    5.39720803e-03  1.86959300e-02]\n",
      "  [-2.99382675e-02 -2.19555106e-02 -1.29473144e-02 -2.27748626e-03\n",
      "    1.09821362e-02  2.09268052e-02]\n",
      "  [-1.19835269e-02  8.47352576e-03 -4.73695062e-03 -3.64224240e-03\n",
      "   -2.13563181e-02  1.05904676e-02]\n",
      "  [ 3.89464572e-02  3.74247879e-02  3.69821787e-02  3.59166563e-02\n",
      "    3.51443328e-02  3.35614458e-02]\n",
      "  [-3.24956551e-02 -8.69212523e-02 -4.04579639e-02 -1.64875314e-02\n",
      "    3.54573093e-02  4.27701063e-02]\n",
      "  [-5.49052954e-02 -1.23275645e-01 -5.45715503e-02 -1.36156036e-02\n",
      "    7.04952180e-02  5.77669553e-02]\n",
      "  [-3.91241089e-02 -3.75439599e-02 -1.80810895e-02  1.06355967e-03\n",
      "    2.57873237e-02  4.53987978e-02]\n",
      "  [-8.32607001e-02 -1.99672535e-01 -9.69139710e-02 -4.19798121e-02\n",
      "    8.62793177e-02  3.63085978e-02]\n",
      "  [-1.80209277e-03 -7.47301104e-03 -8.75310725e-05  7.02122506e-03\n",
      "    1.43784136e-02  2.98677068e-02]]\n",
      "\n",
      " [[ 2.83066966e-02  1.30728455e-02  1.62653420e-02  1.47094056e-02\n",
      "    1.67208835e-02  1.07807666e-02]\n",
      "  [-3.46090156e-03 -3.40033658e-02  1.68713909e-02  4.74770777e-02\n",
      "    1.13394469e-01  8.97825360e-02]\n",
      "  [ 3.01011018e-02  4.81499955e-02  1.71384250e-03 -2.91479826e-02\n",
      "   -9.66364220e-02 -5.22869676e-02]\n",
      "  [ 4.76348698e-02  4.23920453e-02  1.61139257e-02 -1.02639152e-02\n",
      "   -4.48090844e-02 -6.98394328e-02]\n",
      "  [-5.02269790e-02 -8.45085010e-02 -2.85358652e-02  8.47892184e-03\n",
      "    9.04983357e-02  2.27398295e-02]\n",
      "  [-4.32912856e-02 -3.82050201e-02 -2.73824986e-02 -1.51020503e-02\n",
      "   -9.05530876e-04  1.59401707e-02]\n",
      "  [-2.81034019e-02 -2.65812501e-02 -2.35800557e-02 -2.01573893e-02\n",
      "   -1.61633324e-02 -1.16492324e-02]\n",
      "  [ 5.77365905e-02  5.61553575e-02  5.46095297e-02  5.23446091e-02\n",
      "    4.99631129e-02  4.74789403e-02]\n",
      "  [-1.93830766e-02 -9.39028617e-03  1.28778815e-03  1.45159122e-02\n",
      "    2.95479521e-02  4.64142822e-02]\n",
      "  [-5.41926920e-02 -6.87276125e-02 -3.45048904e-02 -6.55580871e-03\n",
      "    3.61735225e-02  5.33597358e-02]\n",
      "  [ 3.00653335e-02  3.55882123e-02 -8.75474326e-03 -3.99091244e-02\n",
      "   -1.02196917e-01 -7.87262544e-02]\n",
      "  [-4.75079007e-02 -8.15614089e-02 -4.39005718e-02 -2.53001563e-02\n",
      "    2.13637128e-02  7.11761555e-03]\n",
      "  [ 1.62906554e-02  4.80023809e-02  9.93079133e-03 -1.04677230e-02\n",
      "   -5.65309599e-02 -5.25122248e-02]\n",
      "  [ 1.81353167e-02  1.33381868e-02  7.80977681e-03  2.15718508e-04\n",
      "   -7.46720983e-03 -1.68074593e-02]\n",
      "  [-7.09639117e-02 -9.12790671e-02 -6.27070814e-02 -4.03478220e-02\n",
      "   -4.37871646e-03  8.74940678e-03]\n",
      "  [ 3.93761741e-03  2.60289162e-02 -1.65062249e-02 -4.30242531e-02\n",
      "   -9.92617905e-02 -8.85375589e-02]]\n",
      "\n",
      " [[-7.77370036e-02 -6.32455274e-02 -4.43586893e-02 -2.15655304e-02\n",
      "    4.74859169e-03  3.39493901e-02]\n",
      "  [ 8.16220231e-03 -1.41429398e-02 -3.21484357e-03 -5.86304860e-03\n",
      "    5.77825308e-03 -1.17631545e-02]\n",
      "  [ 5.83745576e-02  4.74863425e-02  3.35222594e-02  1.64427366e-02\n",
      "   -2.99921469e-03 -2.55320054e-02]\n",
      "  [ 6.18579201e-02  7.92573243e-02  2.91251224e-02 -9.63927992e-03\n",
      "   -7.45273083e-02 -9.28198919e-02]\n",
      "  [-8.37219208e-02 -1.08397290e-01 -4.85623069e-02 -2.78021675e-03\n",
      "    7.43401647e-02  9.38453227e-02]\n",
      "  [-2.95306812e-03 -2.33368520e-02 -2.70141456e-02 -3.65625396e-02\n",
      "   -4.31798957e-02 -6.05806001e-02]\n",
      "  [-9.26616415e-02 -1.39088452e-01 -6.21368736e-02 -6.92215562e-03\n",
      "    9.32989046e-02  9.28539708e-02]\n",
      "  [ 4.66383249e-02  4.59336974e-02  2.06769370e-02 -1.33824814e-03\n",
      "   -3.50439474e-02 -4.67275865e-02]\n",
      "  [ 5.43467961e-02  3.65354232e-02  2.44311150e-02  5.95705071e-03\n",
      "   -1.11735612e-02 -4.31423336e-02]\n",
      "  [ 2.09113266e-02  2.32834406e-02  2.39730831e-02  2.53368244e-02\n",
      "    2.65772790e-02  2.86103096e-02]\n",
      "  [ 7.28031397e-02  5.98326251e-02  3.97307388e-02  1.78597793e-02\n",
      "   -9.36803222e-03 -3.93273644e-02]\n",
      "  [-5.28621711e-02 -6.65590838e-02 -4.04205285e-02 -1.98240522e-02\n",
      "    1.11600989e-02  3.41119878e-02]\n",
      "  [ 3.57810855e-02  2.66977865e-02  2.37232354e-02  1.80398952e-02\n",
      "    1.34817697e-02  1.38256850e-03]\n",
      "  [-7.83083960e-02 -1.08691365e-01 -6.59876019e-02 -4.15552147e-02\n",
      "    1.37194032e-02  3.14242742e-03]\n",
      "  [-7.79802352e-02 -1.17838942e-01 -6.63302913e-02 -3.11383959e-02\n",
      "    3.35336030e-02  4.52834964e-02]\n",
      "  [ 1.62964445e-02  5.76114096e-02  3.06149423e-02  1.93342101e-02\n",
      "   -9.03599057e-03 -1.20548727e-02]]\n",
      "\n",
      " [[ 3.66317108e-02  6.54881224e-02  2.06478592e-02 -5.16897300e-03\n",
      "   -6.46007136e-02 -3.80535498e-02]\n",
      "  [ 3.76625210e-02  7.13961571e-02  4.07081395e-02  2.14325450e-02\n",
      "   -1.30502367e-02 -2.12203674e-02]\n",
      "  [-5.44187389e-02 -6.30653128e-02 -3.05416137e-02 -1.96325500e-03\n",
      "    3.97608839e-02  5.79025894e-02]\n",
      "  [ 4.33300901e-03  2.77250353e-02 -8.11211672e-03 -2.80191731e-02\n",
      "   -7.38713369e-02 -6.60127029e-02]\n",
      "  [-1.45995356e-02 -2.54937727e-03 -1.75884052e-03  3.78343114e-03\n",
      "    6.06670836e-03  1.91999599e-02]\n",
      "  [-5.02863415e-02 -3.31251360e-02 -1.28963822e-02  1.18686976e-02\n",
      "    4.00392264e-02  7.22501203e-02]\n",
      "  [-6.97014183e-02 -1.06591187e-01 -3.94566096e-02  5.55734243e-03\n",
      "    9.20938104e-02  8.40169787e-02]\n",
      "  [ 2.38041906e-03  4.18512989e-03  2.94524734e-03  2.40652403e-03\n",
      "    1.12235907e-03  1.56174519e-03]\n",
      "  [ 4.42054980e-02  8.56337845e-02  2.96818744e-02 -6.78239204e-03\n",
      "   -7.40125179e-02 -8.77403170e-02]\n",
      "  [ 2.82111987e-02  2.38392409e-02  1.72870886e-02  9.20773577e-03\n",
      "   -1.69299892e-04 -8.21831729e-03]\n",
      "  [-1.47171132e-02 -1.78722013e-02 -1.04698827e-02 -4.16774815e-03\n",
      "    5.53059252e-03  7.62835424e-03]\n",
      "  [-5.74120805e-02 -4.69888970e-02 -3.18996757e-02 -1.39999064e-02\n",
      "    6.55474886e-03  2.95130275e-02]\n",
      "  [-5.80229722e-02 -6.30028099e-02 -4.85215485e-02 -3.63874286e-02\n",
      "   -1.84068959e-02 -8.96887761e-03]\n",
      "  [ 1.69616640e-02  5.29513098e-02  1.02773895e-02 -1.16854412e-02\n",
      "   -6.47936463e-02 -4.86889146e-02]\n",
      "  [-7.72263110e-02 -1.94707513e-01 -9.38094035e-02 -4.26940545e-02\n",
      "    7.91970342e-02  2.86483411e-02]\n",
      "  [-5.56002632e-02 -4.42829989e-02 -2.79015303e-02 -8.70396476e-03\n",
      "    1.37581164e-02  3.79819721e-02]]\n",
      "\n",
      " [[-2.54154354e-02 -9.65792462e-02 -2.37738956e-02  2.05321684e-02\n",
      "    1.08833060e-01  9.15062279e-02]\n",
      "  [-7.48193171e-03  4.46040230e-03  9.81035456e-03  2.03642063e-02\n",
      "    3.02710216e-02  3.62447388e-02]\n",
      "  [ 5.08179478e-02  3.54193412e-02  3.21554840e-02  2.28084996e-02\n",
      "    1.79458708e-02 -6.15528133e-03]\n",
      "  [ 4.52786051e-02  7.36740306e-02  3.28564458e-02  1.05761550e-02\n",
      "   -4.51140553e-02 -3.73653299e-03]\n",
      "  [-5.96291106e-03 -3.14828358e-03  3.38387908e-03  1.03781242e-02\n",
      "    1.92188863e-02  2.62791645e-02]\n",
      "  [-1.20386900e-02  2.47385018e-02 -1.98269822e-02 -4.29264568e-02\n",
      "   -1.02029614e-01 -5.71107380e-02]\n",
      "  [-1.97173152e-02 -2.39734445e-02 -2.44033784e-02 -2.69874185e-02\n",
      "   -2.76819337e-02 -3.45260575e-02]\n",
      "  [ 7.77817192e-03  3.36378366e-02  1.04521643e-02  1.93937763e-03\n",
      "   -2.64762677e-02 -6.93902792e-03]\n",
      "  [ 3.45446579e-02  5.18486388e-02  9.01862886e-03 -1.82053410e-02\n",
      "   -7.61639923e-02 -5.71116991e-02]\n",
      "  [ 6.14531860e-02  6.41651303e-02  3.28239314e-02  1.03715807e-02\n",
      "   -3.28853987e-02 -2.51615904e-02]\n",
      "  [-4.05912586e-02 -3.51848416e-02 -2.05012057e-02 -6.56134216e-03\n",
      "    1.25828711e-02  2.95207649e-02]\n",
      "  [ 8.27609282e-03  6.49979664e-03 -2.26931609e-02 -4.70301323e-02\n",
      "   -8.79103690e-02 -8.51868391e-02]\n",
      "  [ 4.42420840e-02  4.59962934e-02  3.06787882e-02  1.67579539e-02\n",
      "   -2.92440527e-03 -1.38747161e-02]\n",
      "  [-4.12439592e-02 -3.45875211e-02 -1.55384112e-02  4.09315340e-03\n",
      "    2.86607277e-02  5.23516834e-02]\n",
      "  [-2.57576220e-02 -1.27875790e-01 -4.95760068e-02 -1.29936887e-02\n",
      "    7.62182325e-02  4.90595996e-02]\n",
      "  [-7.70440921e-02 -8.14523473e-02 -2.82531288e-02  1.49051948e-02\n",
      "    8.48669037e-02  1.03402592e-01]]\n",
      "\n",
      " [[ 1.88554563e-02 -1.05238091e-02 -7.64452014e-03 -2.74068909e-03\n",
      "    3.04141850e-03  1.39768235e-02]\n",
      "  [ 5.01422472e-02  1.66622877e-01  2.15988769e-03 -6.56745257e-03\n",
      "   -1.44314012e-02  2.99924761e-02]\n",
      "  [ 3.93392630e-02  1.81027818e-02  1.31243179e-02 -4.30302345e-04\n",
      "   -2.05058157e-02 -4.07067873e-02]\n",
      "  [-1.68501735e-02 -1.66569855e-02 -2.22987644e-02 -3.29564661e-02\n",
      "   -4.93007973e-02 -7.23112002e-02]\n",
      "  [-4.03916053e-02 -9.13329795e-02 -6.60399720e-02 -4.21663746e-02\n",
      "    4.24157530e-02  2.27188803e-02]\n",
      "  [ 3.96563159e-03 -2.02943059e-03 -7.51765259e-03 -1.80200282e-02\n",
      "   -3.43172811e-02 -5.75513802e-02]\n",
      "  [ 1.76903624e-02 -4.71278392e-02 -4.40069623e-02 -4.24483754e-02\n",
      "   -3.81658524e-02 -3.74140702e-02]\n",
      "  [-4.03785631e-02  6.99122027e-02  5.13134785e-02  2.59736422e-02\n",
      "   -1.84412189e-02 -7.14676678e-02]\n",
      "  [ 2.44194455e-03  8.72278064e-02  6.42910823e-02  2.94452552e-02\n",
      "   -2.80593224e-02 -1.06786586e-01]\n",
      "  [-2.74961721e-02 -8.62241536e-02 -6.10363744e-02 -3.12543698e-02\n",
      "    6.24317490e-02  5.60557051e-03]\n",
      "  [-7.32743880e-03  6.60174713e-02  3.68591473e-02  4.25124634e-03\n",
      "   -8.70346799e-02 -9.30658430e-02]\n",
      "  [-3.06920819e-02 -2.67104749e-02 -4.01952602e-02 -5.66967577e-02\n",
      "   -1.01140320e-01 -1.06942087e-01]\n",
      "  [-2.43240036e-02 -1.56085296e-02 -2.12207343e-02 -2.95721982e-02\n",
      "   -4.51899618e-02 -6.19108118e-02]\n",
      "  [-9.39280726e-03 -7.14880303e-02 -4.37093377e-02 -9.64401010e-03\n",
      "    8.10541287e-02  8.25736448e-02]\n",
      "  [-5.89620806e-02 -1.35993257e-01 -1.03950344e-01 -5.86432889e-02\n",
      "    6.12443127e-02  7.26104677e-02]\n",
      "  [ 4.35612351e-02 -6.72337553e-03 -3.40748485e-03 -1.63015991e-03\n",
      "    3.52762733e-03  5.82561223e-03]]]\n",
      "\n",
      "  [ Layer 1 (KANLayer) ] \n",
      " \n",
      " > Coefficients Shape: (16, 1, 6)\n",
      "  > Coefficients List (전체 파라미터)\n",
      "[[[ 3.6209352e-02  3.6671836e-02  3.6990136e-02  3.7537932e-02\n",
      "    3.7982896e-02  3.8787927e-02]]\n",
      "\n",
      " [[ 2.7403474e-01  5.5391210e-01  7.4580319e-02 -1.9818988e-01\n",
      "   -3.0028018e-01 -4.0118119e-01]]\n",
      "\n",
      " [[ 1.3399683e-01  1.3453303e-01  1.3411069e-01  1.3384345e-01\n",
      "    1.3347067e-01  1.3329886e-01]]\n",
      "\n",
      " [[ 6.8322212e-02  6.7560345e-02  6.7274705e-02  6.6877134e-02\n",
      "    6.6547059e-02  6.6321895e-02]]\n",
      "\n",
      " [[ 1.2179083e-01  1.2318033e-01  1.2408013e-01  1.2508996e-01\n",
      "    1.2609316e-01  1.2686220e-01]]\n",
      "\n",
      " [[ 1.6292496e-01  1.6423200e-01  1.6381003e-01  1.6341940e-01\n",
      "    1.6306257e-01  1.6277428e-01]]\n",
      "\n",
      " [[ 8.0346629e-02  8.1206940e-02  8.1536278e-02  8.2092099e-02\n",
      "    8.2480058e-02  8.3471037e-02]]\n",
      "\n",
      " [[ 1.6023336e-01  1.5928017e-01  1.5899025e-01  1.5846747e-01\n",
      "    1.5803555e-01  1.5726498e-01]]\n",
      "\n",
      " [[ 8.1400067e-02  8.1056364e-02  8.0753833e-02  8.0469504e-02\n",
      "    8.0153771e-02  7.9984725e-02]]\n",
      "\n",
      " [[ 3.1211354e-02  3.2667689e-02  3.3543050e-02  3.4465179e-02\n",
      "    3.5089903e-02  3.6154222e-02]]\n",
      "\n",
      " [[ 8.4189057e-02  8.3772294e-02  8.3432235e-02  8.2971536e-02\n",
      "    8.2391471e-02  8.2375713e-02]]\n",
      "\n",
      " [[-1.2625322e-02 -1.1896668e-02 -1.1901887e-02 -1.1512236e-02\n",
      "   -1.1201395e-02 -1.0773349e-02]]\n",
      "\n",
      " [[ 2.2746030e-04  6.3527917e-04  8.7425153e-04  1.1336930e-03\n",
      "    1.4517888e-03  1.8011538e-03]]\n",
      "\n",
      " [[ 1.2532559e-01  1.2641336e-01  1.2679926e-01  1.2719606e-01\n",
      "    1.2748003e-01  1.2762837e-01]]\n",
      "\n",
      " [[-2.4012569e-02 -2.2728534e-02 -2.0588506e-02 -1.9975852e-02\n",
      "   -1.8543554e-02 -1.8471584e-02]]\n",
      "\n",
      " [[ 8.7616369e-02  8.6830795e-02  8.6261541e-02  8.5551426e-02\n",
      "    8.4966719e-02  8.4146954e-02]]]\n"
     ]
    }
   ],
   "source": [
    "import numpy as np\n",
    "import torch\n",
    "\n",
    "def print_parameters(model):\n",
    "  \n",
    "    \n",
    "    target_layers = None\n",
    "    model_type_name = type(model).__name__   # class 이름 알려주기  -- 보통 MultKIKAN이다\n",
    "    \n",
    "    print(f\"(감지된 모델 타입: {model_type_name})\")\n",
    "    \n",
    "\n",
    "\n",
    "   \n",
    "    if model_type_name == 'MultKAN':\n",
    "        target_layers = model.act_fun\n",
    "    elif model_type_name == 'KAN':\n",
    "        target_layers = model.layers\n",
    "    else:\n",
    "        print(f\"[에러] 지원되지 않는 모델 타입입니다: {model_type_name}\")\n",
    "        return\n",
    "\n",
    "\n",
    "\n",
    "\n",
    "\n",
    "    # layer 자체의 coef 속성에 직접 접근합니다.\n",
    "    for i, layer in enumerate(target_layers):                        # enumerate 는 layer의 원소와 이름을 쌍으로 가져옴   # (0, 첫번째 레이어), (1, 두번째 레이어), ...\n",
    "\n",
    "        print(f\"\\n  [ Layer {i} ({type(layer).__name__}) ] \")\n",
    "        \n",
    "        # 'KANLayer' 객체(layer)가 가진 .coef 속성을 직접 가져옵니다.\n",
    "        # 이로써 내부 for문이 완전히 사라지고 코드가 더 간결해졌습니다.\n",
    "        coeffs = layer.coef.detach().cpu().numpy()\n",
    "        \n",
    "        print(f\" \\n > Coefficients Shape: {coeffs.shape}\")\n",
    "        print(f\"  > Coefficients List (전체 파라미터)\")\n",
    "        print(f\"{coeffs}\")  # 이게 파라미터들의 리스트\n",
    "            \n",
    "    \n",
    "\n",
    "# 이 최종 완성된 함수를 실행합니다.\n",
    "print_parameters(model)\n",
    "\n",
    "# [팁] 파라미터 리스트가 너무 길어서 [...]로 생략된다면,NumPy의 출력 옵션을 설정하여 전체 배열을 볼 수 있음\n",
    "# np.set_printoptions(threshold=np.inf)\n",
    "\n",
    "\n"
   ]
  },
  {
   "cell_type": "code",
   "execution_count": 17,
   "id": "97aa8bd6",
   "metadata": {},
   "outputs": [
    {
     "name": "stdout",
     "output_type": "stream",
     "text": [
      "saving model version 0.2\n"
     ]
    },
    {
     "data": {
      "image/png": "[encoded data removed]",
      "text/plain": [
       "<Figure size 500x400 with 13 Axes>"
      ]
     },
     "metadata": {},
     "output_type": "display_data"
    }
   ],
   "source": [
    "#pruning\n",
    "model = model.prune(node_th=1e-2, edge_th=3e-2)  # 더 자르고 싶으면 값을 높이고, 덜 자르고 변수를 많이 있게 하고 싶으면 값을 낮추기\n",
    "model.plot()"
   ]
  },
  {
   "cell_type": "code",
   "execution_count": 18,
   "id": "8a81d2f9",
   "metadata": {},
   "outputs": [
    {
     "name": "stdout",
     "output_type": "stream",
     "text": [
      "x_1와 y의 상관계수: -0.3083\n",
      "x_2와 y의 상관계수: -0.1990\n",
      "x_3와 y의 상관계수: -0.7375\n",
      "x_4와 y의 상관계수: 0.0062\n",
      "x_5와 y의 상관계수: -0.0153\n",
      "x_6와 y의 상관계수: 0.0018\n",
      "x_7와 y의 상관계수: 0.0215\n",
      "x_8와 y의 상관계수: 0.0348\n",
      "x_9와 y의 상관계수: 1.0000\n"
     ]
    }
   ],
   "source": [
    "import numpy as np\n",
    "\n",
    "print(f\"x_1와 y의 상관계수: {np.corrcoef(X[:,0], y.reshape(-1))[0,1]:.4f}\")\n",
    "print(f\"x_2와 y의 상관계수: {np.corrcoef(X[:,1], y.reshape(-1))[0,1]:.4f}\")\n",
    "print(f\"x_3와 y의 상관계수: {np.corrcoef(X[:,2], y.reshape(-1))[0,1]:.4f}\")\n",
    "print(f\"x_4와 y의 상관계수: {np.corrcoef(X[:,3], y.reshape(-1))[0,1]:.4f}\")\n",
    "print(f\"x_5와 y의 상관계수: {np.corrcoef(X[:,4], y.reshape(-1))[0,1]:.4f}\")\n",
    "print(f\"x_6와 y의 상관계수: {np.corrcoef(X[:,5], y.reshape(-1))[0,1]:.4f}\")\n",
    "print(f\"x_7와 y의 상관계수: {np.corrcoef(X[:,6], y.reshape(-1))[0,1]:.4f}\")\n",
    "print(f\"x_8와 y의 상관계수: {np.corrcoef(X[:,7], y.reshape(-1))[0,1]:.4f}\")\n",
    "print(f\"x_9와 y의 상관계수: {np.corrcoef(X[:,8], y.reshape(-1))[0,1]:.4f}\")"
   ]
  },
  {
   "cell_type": "code",
   "execution_count": 19,
   "id": "52219276",
   "metadata": {},
   "outputs": [
    {
     "name": "stderr",
     "output_type": "stream",
     "text": [
      "| train_loss: 1.74e-05 | test_loss: 1.68e-05 | reg: 3.91e+00 | : 100%|█| 50/50 [00:09<00:00,  5.43it\n"
     ]
    },
    {
     "name": "stdout",
     "output_type": "stream",
     "text": [
      "saving model version 0.3\n"
     ]
    },
    {
     "data": {
      "image/png": "[encoded data removed]",
      "text/plain": [
       "<Figure size 500x400 with 13 Axes>"
      ]
     },
     "metadata": {},
     "output_type": "display_data"
    }
   ],
   "source": [
    "#학습\n",
    "model.fit(dataset, opt=\"LBFGS\", steps=50)  # update_grid = False일때랑 // True일때랑 차이는 아직은 잘... 와닿지는 않는다\n",
    "model.plot()"
   ]
  },
  {
   "cell_type": "markdown",
   "id": "6d477e33",
   "metadata": {},
   "source": [
    "step10. KAN refine(grid extension) 후 재학습"
   ]
  },
  {
   "cell_type": "code",
   "execution_count": 20,
   "id": "29921454",
   "metadata": {},
   "outputs": [
    {
     "name": "stdout",
     "output_type": "stream",
     "text": [
      "saving model version 0.4\n"
     ]
    },
    {
     "name": "stderr",
     "output_type": "stream",
     "text": [
      "| train_loss: 2.08e-06 | test_loss: 1.84e-06 | reg: 3.91e+00 | : 100%|█| 50/50 [00:05<00:00,  8.77it\n"
     ]
    },
    {
     "name": "stdout",
     "output_type": "stream",
     "text": [
      "saving model version 0.5\n"
     ]
    },
    {
     "data": {
      "image/png": "[encoded data removed]",
      "text/plain": [
       "<Figure size 500x400 with 13 Axes>"
      ]
     },
     "metadata": {},
     "output_type": "display_data"
    }
   ],
   "source": [
    "# refine(grid extension) 그리드 세분화(구간 세분화)(전체 구간 개수 30개로 변화)\n",
    "model = model.refine(30)\n",
    "model.fit(dataset, opt=\"LBFGS\", steps=50)\n",
    "model.plot()"
   ]
  },
  {
   "cell_type": "markdown",
   "id": "445c58e6",
   "metadata": {},
   "source": [
    "step11. KAN symbolification"
   ]
  },
  {
   "cell_type": "code",
   "execution_count": 21,
   "id": "666a6d8c",
   "metadata": {},
   "outputs": [
    {
     "name": "stdout",
     "output_type": "stream",
     "text": [
      "fixing (0,0,0) with 0\n",
      "fixing (0,1,0) with 0\n",
      "fixing (0,2,0) with x, r2=0.00010501040378585458, c=1\n",
      "fixing (0,3,0) with 0\n",
      "fixing (0,4,0) with 0\n",
      "fixing (0,5,0) with 0\n",
      "fixing (0,6,0) with 0\n",
      "fixing (0,7,0) with 0\n",
      "fixing (0,8,0) with x, r2=0.999890923500061, c=1\n",
      "fixing (1,0,0) with x, r2=0.999890923500061, c=1\n",
      "saving model version 0.6\n"
     ]
    }
   ],
   "source": [
    "# 자동 모드로 심볼릭 회귀 수행\n",
    "lib = ['x', 'x^2', 'x^3', 'x^4', 'exp', 'log', 'sqrt', 'tanh', 'sin']   #'x^(-1)', 'x^(-2)', 'x^(-3)', 'x^(-4)'\n",
    "model.auto_symbolic(lib=lib)\n"
   ]
  },
  {
   "cell_type": "code",
   "execution_count": 22,
   "id": "eb7e1c7e",
   "metadata": {},
   "outputs": [
    {
     "name": "stderr",
     "output_type": "stream",
     "text": [
      "| train_loss: 7.47e-08 | test_loss: 6.56e-08 | reg: 0.00e+00 | : 100%|█| 50/50 [00:03<00:00, 15.47it\n"
     ]
    },
    {
     "name": "stdout",
     "output_type": "stream",
     "text": [
      "saving model version 0.7\n"
     ]
    },
    {
     "data": {
      "image/png": "[encoded data removed]",
      "text/plain": [
       "<Figure size 500x400 with 13 Axes>"
      ]
     },
     "metadata": {},
     "output_type": "display_data"
    }
   ],
   "source": [
    "# symbolic 함수로 대체 후 학습\n",
    "model.fit(dataset, opt=\"LBFGS\", steps=50)\n",
    "model.plot()"
   ]
  },
  {
   "cell_type": "markdown",
   "id": "a2914843",
   "metadata": {},
   "source": [
    "step12. symbolic 수식 출력"
   ]
  },
  {
   "cell_type": "code",
   "execution_count": 23,
   "id": "9988d940",
   "metadata": {},
   "outputs": [
    {
     "name": "stdout",
     "output_type": "stream",
     "text": [
      "formula = 1.0*x_9\n",
      "x_1: Current density, x_2: Faradaic efficiency, ... x_8: crossover rate, x_9: MSP ($/kgCO)\n"
     ]
    }
   ],
   "source": [
    "# 심볼릭 수식 출력\n",
    "formula = ex_round(model.symbolic_formula()[0][0], 4)  # ex_round(  , 4) -- 소수점 뒤에 숫자 4개\n",
    "print(\"formula =\" , formula)  \n",
    "print(f\"x_1: Current density, x_2: Faradaic efficiency, ... x_8: crossover rate, x_9: {predicting}\")"
   ]
  },
  {
   "cell_type": "markdown",
   "id": "f43772d9",
   "metadata": {},
   "source": [
    "step13. KAN이 예측한 수식 정확도 검증을 위한 함수 정의"
   ]
  },
  {
   "cell_type": "code",
   "execution_count": 24,
   "id": "d723e550",
   "metadata": {},
   "outputs": [],
   "source": [
    "# validation set으로 성능을 평가하는 함수 만들기\n",
    "def evaluate_model_performance(model, dataset, scaler_y, phase=\"validation\"):    # phase = validation 아니면 test 이다\n",
    "    \n",
    "    \n",
    "    if phase == \"validation\":\n",
    "        input_tensor = dataset['val_input']\n",
    "        label_tensor = dataset['val_label']\n",
    "    elif phase == \"test\":\n",
    "        input_tensor = dataset['test_input']\n",
    "        label_tensor = dataset['test_label']\n",
    "    else:\n",
    "        raise ValueError(\"phase는 'validation' 또는 'test'만 가능합니다\")\n",
    "    \n",
    "    # 예측 수행\n",
    "    with torch.no_grad():  # 굳이 기울기 계산할 필요 X because 이거는 test 이기에 학습 X --- 시간 더 빠르게 하려고 torch.no_grad()\n",
    "        pred_norm = model(input_tensor) #input_tensor 는 val_inut or test_input / pred_norm은 그에 대한 출력값\n",
    "    \n",
    "    # 역정규화\n",
    "    pred_real = scaler_y.inverse_transform(pred_norm.cpu().detach().numpy())   # pred_real 은 0.1~0.9 사이의 입력 val_input or test_input을 받고 출력된 값은 다시 역정규화 한 실제 출력값\n",
    "    label_real = scaler_y.inverse_transform(label_tensor.cpu().detach().numpy()) # label_real은 0.1~0.9 사이의 입력 val_label or test_label을 받고 출력한 값 역정규화\n",
    "    # inverse_transform 함수는  numpy 를 입력으로 받기 떄문에 pytorch tensor를 cpu로 옮기고 numpy로 변환\n",
    "    \n",
    "    # numpy는 cpu에서만 돌아가니까 tensor를 .cpu로 옮기고 그다음 tensor의 추가정보 (numpy 정보 + 어떻게 계산되었는지 식에 대한 정보)를 detach --- 그 다음에 .numpy()를 통해 numpy로 변환\n",
    "    \n",
    "    # 성능 지표 계산 from 역정규화된 label_real, pred_real 값들 from val input or test input + numpy에서 계산\n",
    "    rmse = np.sqrt(mean_squared_error(label_real, pred_real))  # 오차 제곱 평균의 루트\n",
    "    r2 = r2_score(label_real, pred_real)  #1에 가까울수록 좋다 \n",
    "    mae = np.mean(np.abs(label_real - pred_real)) # 오차 절댓값들의 평균 -- MAE\n",
    "    \n",
    "    print(f\"{phase} SET 성능 평가\") # phase = validation 또는 test \n",
    "    print(f\"RMSE: {rmse:.4f}\")     # f\"{변수:포맷코드}\"\n",
    "    print(f\"R²: {r2:.4f}\")\n",
    "    print(f\"MAE: {mae:.4f}\")\n",
    "    \n",
    "    print(f\"실제값 평균: {label_real.mean():.4f}\")  #label_real의 평균값(실제값)\n",
    "    print(f\"예측값 평균: {pred_real.mean():.4f}\")   #pred_real의 평균값(KAN 모델로 예측한 값)\n",
    "    \n",
    "    return pred_real, label_real, {'rmse': rmse, 'r2': r2, 'mae': mae}"
   ]
  },
  {
   "cell_type": "markdown",
   "id": "fb77ff0c",
   "metadata": {},
   "source": [
    "Step14. Validation data(검증셋)으로 성능 평가"
   ]
  },
  {
   "cell_type": "code",
   "execution_count": 25,
   "id": "497efffd",
   "metadata": {},
   "outputs": [
    {
     "name": "stdout",
     "output_type": "stream",
     "text": [
      "validation SET 성능 평가\n",
      "RMSE: 0.0000\n",
      "R²: 1.0000\n",
      "MAE: 0.0000\n",
      "실제값 평균: 0.4463\n",
      "예측값 평균: 0.4463\n"
     ]
    }
   ],
   "source": [
    "# validation dataset(검증셋)으로 성능 평가 (모델 개발 과정에서)\n",
    "val_pred, val_actual, val_metrics = evaluate_model_performance(model, dataset, scaler_y, \"validation\")\n",
    "\n",
    "#scaler_y : step5 에서 정의한 정규화된 y 변환법\n",
    "# validation --- 검증셋 이용할거라는 의미 / 나중에 \n",
    "# val_pred 변수: evaluate_model_performance 함수가 반환한 첫 번째 결과물(pred_real)(모델의 예측값 배열)이 저장\n",
    "# val_actual 변수: 함수가 반환한 두 번째 결과물(label_real)(실제 정답 값 배열)이 저장\n",
    "# val_metrics 변수: 함수가 반환한 세 번째 결과물(RMSE, R², MAE가 담긴 딕셔너리)이 저장\n"
   ]
  },
  {
   "cell_type": "markdown",
   "id": "937e66a3",
   "metadata": {},
   "source": [
    "step15. KAN이 예측한 수식의 정확도 최종계산 _ using test_input, test_label"
   ]
  },
  {
   "cell_type": "code",
   "execution_count": 26,
   "id": "8acf1afc",
   "metadata": {},
   "outputs": [
    {
     "name": "stdout",
     "output_type": "stream",
     "text": [
      "최종 테스트셋 평가\n",
      "test SET 성능 평가\n",
      "RMSE: 0.0000\n",
      "R²: 1.0000\n",
      "MAE: 0.0000\n",
      "실제값 평균: 0.4667\n",
      "예측값 평균: 0.4667\n",
      "\n",
      "최종 모델 성능:\n",
      "테스트셋 RMSE: 0.0000\n",
      "테스트셋 R²: 1.0000\n",
      "테스트셋 MAE: 0.0000\n"
     ]
    }
   ],
   "source": [
    "# 모든 모델 개발이 완료된 후 최종 한 번만 수행\n",
    "print(\"최종 테스트셋 평가\")\n",
    "\n",
    "\n",
    "# 최종 테스트셋 평가(phase만 'test'로 변경하여 테스트 데이터를 사용)(이전에 정의한 evaluate_model_performance 함수를 그대로 사용)\n",
    "test_pred, test_actual, test_metrics = evaluate_model_performance(\n",
    "    model, dataset, scaler_y, \"test\"\n",
    ")\n",
    "\n",
    "# test_pred : 모델의 예측값 , test_actual : 실제 정답 값 배열 , test_metrics : (RMSE, R², MAE가 담긴 딕셔너리)\n",
    "\n",
    "print(f\"\\n최종 모델 성능:\")\n",
    "print(f\"테스트셋 RMSE: {test_metrics['rmse']:.4f}\")\n",
    "print(f\"테스트셋 R²: {test_metrics['r2']:.4f}\")\n",
    "print(f\"테스트셋 MAE: {test_metrics['mae']:.4f}\")\n"
   ]
  },
  {
   "cell_type": "markdown",
   "id": "cd9bb436",
   "metadata": {},
   "source": [
    "step16. KAN 예측값 / 실제값 그래프"
   ]
  },
  {
   "cell_type": "code",
   "execution_count": 27,
   "id": "7931b4ce",
   "metadata": {},
   "outputs": [
    {
     "data": {
      "image/png": "[encoded data removed]",
      "text/plain": [
       "<Figure size 400x400 with 1 Axes>"
      ]
     },
     "metadata": {},
     "output_type": "display_data"
    }
   ],
   "source": [
    "# step14. KAN 예측값 / 실제값 그래프\n",
    "import matplotlib.pyplot as plt\n",
    "\n",
    "plt.figure(figsize=(4, 4))  # 도화지 그리기~\n",
    "\n",
    "# test_actual (x축) vs test_pred (y축) , alpha = 투명도\n",
    "plt.scatter(test_actual, test_pred, alpha=0.7, edgecolors='k', label='Model Predictions')\n",
    "\n",
    "# 제일 작은 값, 제일 큰 값 설정\n",
    "min_val = min(test_actual.min(), test_pred.min())\n",
    "max_val = max(test_actual.max(), test_pred.max())\n",
    "plt.plot([min_val, max_val], [min_val, max_val], 'r--', linewidth=2, label='Perfect Fit (y=x)')  # y = x 선긋기\n",
    "\n",
    "# 그래프 제목과 축 레이블 설정\n",
    "plt.xlabel(\"Actual \" + predicting , fontsize=12)   # Actual 다음에 우리가 보고자 하는 output predicting 변수가 뜸\n",
    "plt.ylabel(\"Predicted \" + predicting, fontsize=12) # \n",
    "plt.title(f'Test Set: Actual vs. Predicted (R² = {test_metrics[\"r2\"]:.4f})', fontsize=14)\n",
    "plt.legend()\n",
    "plt.grid(True)  # 격자 on \n",
    "plt.axis('equal') # x, y축 스케일을 동일하게 설정\n",
    "plt.tight_layout()\n",
    "plt.show()\n"
   ]
  },
  {
   "cell_type": "markdown",
   "id": "c9f2f548",
   "metadata": {},
   "source": [
    "잔차 플롯 (Residual Plot): 모델의 예측 오차 패턴 분석"
   ]
  },
  {
   "cell_type": "code",
   "execution_count": 28,
   "id": "da62b6b9",
   "metadata": {},
   "outputs": [
    {
     "data": {
      "image/png": "[encoded data removed]",
      "text/plain": [
       "<Figure size 700x400 with 1 Axes>"
      ]
     },
     "metadata": {},
     "output_type": "display_data"
    }
   ],
   "source": [
    "# 1. 잔차 계산 (실제값 - 예측값)\n",
    "residuals = test_actual - test_pred\n",
    "\n",
    "# 2. 잔차 플롯 시각화\n",
    "plt.figure(figsize=(7, 4))\n",
    "\n",
    "# x축은 예측값, y축은 잔차\n",
    "plt.scatter(test_pred, residuals, alpha=0.7, edgecolors='k')\n",
    "\n",
    "# y=0 기준선 추가 (오차가 0인 선)\n",
    "plt.axhline(y=0, color='r', linestyle='--', linewidth=2)\n",
    "\n",
    "plt.xlabel(\"Predicted \"+predicting, fontsize=12)\n",
    "plt.ylabel('Residuals (Actual - Predicted)', fontsize=12)\n",
    "plt.title('Residual Plot for Test Set', fontsize=14)\n",
    "plt.grid(True)\n",
    "plt.show()\n"
   ]
  },
  {
   "cell_type": "markdown",
   "id": "85cd30ad",
   "metadata": {},
   "source": [
    "2. 개별 변수 영향도 플롯 (Partial Dependence Plot): 변수-결과 관계 시각화"
   ]
  },
  {
   "cell_type": "code",
   "execution_count": 29,
   "id": "ff333b84",
   "metadata": {},
   "outputs": [
    {
     "name": "stdout",
     "output_type": "stream",
     "text": [
      "--- 모든 입력 변수에 대한 개별 영향도 플롯 ---\n"
     ]
    },
    {
     "data": {
      "image/png": "[encoded data removed]",
      "text/plain": [
       "<Figure size 500x400 with 13 Axes>"
      ]
     },
     "metadata": {},
     "output_type": "display_data"
    }
   ],
   "source": [
    "import numpy as np\n",
    "import matplotlib.pyplot as plt\n",
    "\n",
    "# 1. (NameError 해결) feature_names 리스트를 먼저 정의합니다.\n",
    "feature_names = [\n",
    "    \"Current density\", \"Faradaic efficiency\", \"CO coversion\", \"Voltage\",\n",
    "    \"Electricity cost\", \"Membrain cost\", \"Capture energy\", \"Crossover rate\"\n",
    "]\n",
    "\n",
    "try:\n",
    "    print(\"--- 모든 입력 변수에 대한 개별 영향도 플롯 ---\")\n",
    "    \n",
    "    # 2. (TypeError 해결) 'vars' 인자 없이 plot() 함수를 호출합니다.\n",
    "    # 이렇게 하면 8개 변수 각각에 대한 영향도 그래프가 한 번에 그려집니다.\n",
    "    model.plot()\n",
    "    \n",
    "    # 전체 그래프에 대한 제목 설정 (선택 사항)\n",
    "    plt.suptitle('Partial Dependence Plots for All Features', y=1.02)\n",
    "    plt.show()\n",
    "\n",
    "except Exception as e:\n",
    "    print(f\"오류가 발생했습니다: {e}\")\n",
    "    print(\"이전 단계에서 'model' 객체가 성공적으로 생성되었는지 확인해주세요.\")\n",
    "\n"
   ]
  },
  {
   "cell_type": "code",
   "execution_count": 30,
   "id": "22bee12d",
   "metadata": {},
   "outputs": [
    {
     "name": "stdout",
     "output_type": "stream",
     "text": [
      "formula= 1.0*x_9\n"
     ]
    }
   ],
   "source": [
    "# step11의 코드를 다시 실행\n",
    "formula = ex_round(model.symbolic_formula()[0][0], 4) # 유효숫자 설정 시 \n",
    "print(\"formula=\", formula)\n",
    "\n",
    "# 여기서 맨 왼쪽부터  x_1부터 x_9\n"
   ]
  },
  {
   "cell_type": "markdown",
   "id": "7180d5fa",
   "metadata": {},
   "source": [
    "-------"
   ]
  },
  {
   "cell_type": "markdown",
   "id": "7b03ef06",
   "metadata": {},
   "source": [
    "------"
   ]
  },
  {
   "cell_type": "markdown",
   "id": "c161d08d",
   "metadata": {},
   "source": [
    "------------------------------------------------------------------------------------------------------------------------------------------------"
   ]
  },
  {
   "cell_type": "markdown",
   "id": "61f2ffb4",
   "metadata": {},
   "source": [
    "step17.실제 KAN이 구현한 수식에 X값을 대입해서 결과 구해보기_역정규화 이용"
   ]
  },
  {
   "cell_type": "code",
   "execution_count": 31,
   "id": "bd032dac",
   "metadata": {},
   "outputs": [
    {
     "name": "stdout",
     "output_type": "stream",
     "text": [
      "--- [입력 변수(X) 정규화 키] ---\n",
      "x_1 (Current density (mA/cm2)):\n",
      "  min = 123.17073171\n",
      "  max = 1999.62015194\n",
      "\n",
      "x_2 (Faradaic efficiency (%)):\n",
      "  min = 0.50009796\n",
      "  max = 0.98970612\n",
      "\n",
      "x_3 (CO coversion):\n",
      "  min = 0.02733906\n",
      "  max = 0.59988205\n",
      "\n",
      "x_4 (Voltage (V)):\n",
      "  min = 1.30043982\n",
      "  max = 3.49868053\n",
      "\n",
      "x_5 (Electricity cost ($/kWh)):\n",
      "  min = 0.05002999\n",
      "  max = 0.09999000\n",
      "\n",
      "x_6 (Membrain cost ($/m2)):\n",
      "  min = 285.03798481\n",
      "  max = 348.32067173\n",
      "\n",
      "x_7 (Catpure energy (GJ/ton)):\n",
      "  min = 3.00039984\n",
      "  max = 4.99640144\n",
      "\n",
      "x_8 (Crossover rate):\n",
      "  min = 0.00039984\n",
      "  max = 1.99880048\n",
      "\n",
      "--- [출력 변수(y) 역정규화 키] ---\n",
      "y_min = 0.17031000\n",
      "y_max = 1.56500635\n"
     ]
    }
   ],
   "source": [
    "# 이전에 학습에 사용했던 scaler_X 와 scaler_y 객체가 필요합니다.\n",
    "\n",
    "# 1. 입력 변수(X)의 최소/최대값 추출\n",
    "#    사용된 변수의 순서에 맞게 이름을 지정합니다.\n",
    "feature_names = [\n",
    "    \"Current density (mA/cm2)\", \"Faradaic efficiency (%)\", \"CO coversion\",\n",
    "    \"Voltage (V)\", \"Electricity cost ($/kWh)\", \"Membrain cost ($/m2)\",\n",
    "    \"Catpure energy (GJ/ton)\", \"Crossover rate\"\n",
    "]\n",
    "\n",
    "print(\"--- [입력 변수(X) 정규화 키] ---\")\n",
    "for i, name in enumerate(feature_names):\n",
    "    min_val = scaler_X.data_min_[i]\n",
    "    max_val = scaler_X.data_max_[i]\n",
    "    print(f\"x_{i+1} ({name}):\")\n",
    "    print(f\"  min = {min_val:.8f}\")\n",
    "    print(f\"  max = {max_val:.8f}\\n\")\n",
    "\n",
    "# 2. 출력 변수(y)의 최소/최대값 추출\n",
    "y_min = scaler_y.data_min_[0]\n",
    "y_max = scaler_y.data_max_[0]\n",
    "\n",
    "print(\"--- [출력 변수(y) 역정규화 키] ---\")\n",
    "print(f\"y_min = {y_min:.8f}\")\n",
    "print(f\"y_max = {y_max:.8f}\")\n"
   ]
  },
  {
   "cell_type": "code",
   "execution_count": 35,
   "id": "b562d0ba",
   "metadata": {},
   "outputs": [
    {
     "name": "stdout",
     "output_type": "stream",
     "text": [
      "formula= 7.58577326541832e-8*x_3 + 1.00000010585615*x_9 - 4.10887770474488e-8\n",
      "x_1: Current density, x_2: Faradaic efficiency, ... x_8: crossover rate, x_9: MSP ($/kgCO)\n"
     ]
    }
   ],
   "source": [
    "# step11의 코드를 다시 실행\n",
    "formula = model.symbolic_formula()[0][0]\n",
    "print(\"formula=\", formula)\n",
    "print(f\"x_1: Current density, x_2: Faradaic efficiency, ... x_8: crossover rate, x_9: {predicting}\")\n"
   ]
  },
  {
   "cell_type": "markdown",
   "id": "6bf9a624",
   "metadata": {},
   "source": [
    "python에서도 시험삼아 몇 개 출력해보기"
   ]
  },
  {
   "cell_type": "code",
   "execution_count": 33,
   "id": "a983cab0",
   "metadata": {},
   "outputs": [
    {
     "name": "stdout",
     "output_type": "stream",
     "text": [
      "▶ 자동으로 감지된 수식: y = 7.58577326541832e-8*x_3 + 1.00000010585615*x_9 - 4.10887770474488e-8\n",
      "\n",
      "==============================================================\n",
      "### 역정규화 (Inverse Normalization)에 사용되는 수식 ###\n",
      "실제값 = (정규화된 값 * (최대값 - 최소값)) + 최소값\n",
      "실제값 = (정규화된 값 * 1.7434) + 0.0023\n",
      "==============================================================\n",
      "\n",
      "--------- [단순화된 수식 모델]의 예측 성능 ---------\n",
      "    실제값   수식 예측값 \n",
      "0   0.38     0.38\n",
      "1   0.43     0.43\n",
      "2   0.53     0.53\n",
      "3   0.19     0.19\n",
      "4   0.60     0.60\n",
      "5   0.45     0.45\n",
      "6   0.20     0.20\n",
      "7   0.37     0.37\n",
      "8   0.46     0.46\n",
      "9   0.32     0.32\n",
      "10  0.83     0.83\n",
      "11  0.27     0.27\n",
      "12  0.35     0.35\n",
      "13  0.38     0.38\n",
      "14  0.30     0.30\n",
      "15  0.21     0.21\n",
      "16  0.31     0.31\n",
      "17  0.18     0.18\n",
      "18  0.37     0.37\n",
      "19  0.37     0.37\n",
      "20  0.90     0.90\n",
      "21  0.30     0.30\n",
      "22  0.57     0.57\n",
      "23  0.42     0.42\n",
      "24  0.29     0.29\n",
      "25  0.27     0.27\n",
      "26  0.26     0.26\n",
      "27  0.33     0.33\n",
      "28  0.37     0.37\n",
      "29  0.82     0.82\n"
     ]
    }
   ],
   "source": [
    "import numpy as np\n",
    "import pandas as pd\n",
    "from sympy import sympify, symbols, lambdify \n",
    "# sympy 라이브러리 추가\n",
    "\n",
    "# 1. KAN 모델에서 직접 심볼릭 수식 문자열을 가져오기\n",
    "formula_str = model.symbolic_formula()[0][0] # 실제 모델에서 가져오는 코드\n",
    "\n",
    "print(f\"▶ 자동으로 감지된 수식: y = {formula_str}\\n\")\n",
    "\n",
    "# 2. 모든 변수(x_1 ~ x_8)를 기호로 정의\n",
    "num_features = len(feature_names)\n",
    "x_vars = symbols(f'x_1:{num_features + 2}')\n",
    "\n",
    "# 3. 문자열 수식을 실제 계산 가능한 함수로 변환합니다. (핵심 부분)\n",
    "#    lambdify는 sympy 수식을 매우 빠른 numpy 함수로 바꿔주는 기능입니다.\n",
    "symbolic_func = lambdify(x_vars, sympify(formula_str), 'numpy')\n",
    "\n",
    "# 4. 새로운 '만능' 예측 함수를 정의합니다.\n",
    "def auto_symbolic_prediction(x_norm):\n",
    "    \"\"\"\n",
    "    정규화된 입력 데이터(x_norm)를 받아,\n",
    "    자동으로 생성된 symbolic_func를 사용해 예측값을 반환합니다.\n",
    "    \"\"\"\n",
    "    # x_norm 배열의 각 열을 개별 인자로 분리하여 함수에 전달합니다.\n",
    "    # 예: symbolic_func(x_norm[:,0], x_norm[:,1], ..., x_norm[:,7])\n",
    "    # x_norm.T는 배열을 전치하여 각 행이 변수가 되도록 합니다.\n",
    "    return symbolic_func(*x_norm.T)\n",
    "\n",
    "# --- [자동화된 수식 처리 부분 끝] ---\n",
    "\n",
    "\n",
    "# 2. 역정규화에 사용되는 수식 출력 (이전과 동일)\n",
    "min_val = scaler_y.min_[0]\n",
    "scale_range = 1 / scaler_y.scale_[0]\n",
    "print(\"==============================================================\")\n",
    "print(\"### 역정규화 (Inverse Normalization)에 사용되는 수식 ###\")\n",
    "print(f\"실제값 = (정규화된 값 * (최대값 - 최소값)) + 최소값\")\n",
    "print(f\"실제값 = (정규화된 값 * {scale_range:.4f}) + {min_val:.4f}\")\n",
    "print(\"==============================================================\\n\")\n",
    "\n",
    "\n",
    "# 4. 테스트 데이터셋 전체를 사용하여 예측을 수행합니다.\n",
    "test_input_norm = dataset['test_input']\n",
    "# 여기서 새롭게 정의한 자동화 함수를 호출합니다!\n",
    "y_pred_norm = auto_symbolic_prediction(test_input_norm)\n",
    "\n",
    "\n",
    "# 5. 이후 모든 코드는 이전과 완전히 동일합니다.\n",
    "y_pred_norm_reshaped = y_pred_norm.reshape(-1, 1)\n",
    "y_pred_real_scale = scaler_y.inverse_transform(y_pred_norm_reshaped)\n",
    "y_true_real_scale = scaler_y.inverse_transform(dataset['test_label'])\n",
    "results_df = pd.DataFrame({\n",
    "    '실제값 ': y_true_real_scale.flatten(),\n",
    "    '수식 예측값 ': y_pred_real_scale.flatten()\n",
    "})\n",
    "pd.options.display.float_format = '{:.2f}'.format\n",
    "\n",
    "print(\"--------- [단순화된 수식 모델]의 예측 성능 ---------\")\n",
    "print(results_df.head(30))\n"
   ]
  }
 ],
 "metadata": {
  "kernelspec": {
   "display_name": "venv",
   "language": "python",
   "name": "python3"
  },
  "language_info": {
   "codemirror_mode": {
    "name": "ipython",
    "version": 3
   },
   "file_extension": ".py",
   "mimetype": "text/x-python",
   "name": "python",
   "nbconvert_exporter": "python",
   "pygments_lexer": "ipython3",
   "version": "3.11.9"
  }
 },
 "nbformat": 4,
 "nbformat_minor": 5
}
