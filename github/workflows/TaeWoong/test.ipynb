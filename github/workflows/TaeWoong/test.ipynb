{
 "cells": [
  {
   "cell_type": "code",
   "execution_count": null,
   "id": "16c6be8c",
   "metadata": {},
   "outputs": [],
   "source": [
    "from kan import *\n",
    "\n",
    "# initialize KAN with G=3\n",
    "model = KAN(width=[2,5,1], grid=3, k=3, seed = 0)\n",
    "\n",
    "# create dataset\n",
    "f = lambda x: torch.exp(torch.sin(torch.pi*x[:,[0]]) + x[:,[1]]**2)\n",
    "dataset = create_dataset(f, n_var=2)"
   ]
  },
  {
   "cell_type": "code",
   "execution_count": null,
   "id": "dbb6ee0e",
   "metadata": {},
   "outputs": [
    {
     "name": "stdout",
     "output_type": "stream",
     "text": [
      "checkpoint directory created: ./model\n",
      "saving model version 0.0\n",
      "=== Step 1: 스케일 파라미터 수정 실험 준비 ===\n",
      "첫 번째 레이어 엣지 개수: torch.Size([2, 5])\n",
      "원본 scale_base : tensor([ 0.3199,  0.2844, -0.4189,  0.2136,  0.3882], grad_fn=<SliceBackward0>)\n",
      "원본 scale_sp : tensor([0.7071, 0.7071, 0.7071, 0.7071, 0.7071], grad_fn=<SliceBackward0>)\n",
      "\n",
      "--- 원본 모델 상태 ---\n"
     ]
    },
    {
     "ename": "Exception",
     "evalue": "model hasn't seen any data yet.",
     "output_type": "error",
     "traceback": [
      "\u001b[31m---------------------------------------------------------------------------\u001b[39m",
      "\u001b[31mException\u001b[39m                                 Traceback (most recent call last)",
      "\u001b[36mCell\u001b[39m\u001b[36m \u001b[39m\u001b[32mIn[4]\u001b[39m\u001b[32m, line 23\u001b[39m\n\u001b[32m     20\u001b[39m \u001b[38;5;28mprint\u001b[39m(\u001b[33mf\u001b[39m\u001b[33m\"\u001b[39m\u001b[33m원본 scale_sp : \u001b[39m\u001b[38;5;132;01m{\u001b[39;00moriginal_scale_sp[\u001b[32m0\u001b[39m,\u001b[38;5;250m \u001b[39m:]\u001b[38;5;132;01m}\u001b[39;00m\u001b[33m\"\u001b[39m)\n\u001b[32m     22\u001b[39m \u001b[38;5;28mprint\u001b[39m(\u001b[33m\"\u001b[39m\u001b[38;5;130;01m\\n\u001b[39;00m\u001b[33m--- 원본 모델 상태 ---\u001b[39m\u001b[33m\"\u001b[39m)\n\u001b[32m---> \u001b[39m\u001b[32m23\u001b[39m \u001b[43mmodel\u001b[49m\u001b[43m.\u001b[49m\u001b[43mplot\u001b[49m\u001b[43m(\u001b[49m\u001b[43m)\u001b[49m\n\u001b[32m     24\u001b[39m \u001b[38;5;28;01mtry\u001b[39;00m:\n\u001b[32m     25\u001b[39m     formula_original = ex_round(model.symbolic_formula()[\u001b[32m0\u001b[39m][\u001b[32m0\u001b[39m], \u001b[32m4\u001b[39m)\n",
      "\u001b[36mFile \u001b[39m\u001b[32m~\\Desktop\\KAN_python\\pykan-master\\kan\\MultKAN.py:1068\u001b[39m, in \u001b[36mMultKAN.plot\u001b[39m\u001b[34m(self, folder, beta, metric, scale, tick, sample, in_vars, out_vars, title, varscale)\u001b[39m\n\u001b[32m   1066\u001b[39m \u001b[38;5;28;01mif\u001b[39;00m \u001b[38;5;28mself\u001b[39m.acts == \u001b[38;5;28;01mNone\u001b[39;00m:\n\u001b[32m   1067\u001b[39m     \u001b[38;5;28;01mif\u001b[39;00m \u001b[38;5;28mself\u001b[39m.cache_data == \u001b[38;5;28;01mNone\u001b[39;00m:\n\u001b[32m-> \u001b[39m\u001b[32m1068\u001b[39m         \u001b[38;5;28;01mraise\u001b[39;00m \u001b[38;5;167;01mException\u001b[39;00m(\u001b[33m'\u001b[39m\u001b[33mmodel hasn\u001b[39m\u001b[38;5;130;01m\\'\u001b[39;00m\u001b[33mt seen any data yet.\u001b[39m\u001b[33m'\u001b[39m)\n\u001b[32m   1069\u001b[39m     \u001b[38;5;28mself\u001b[39m.forward(\u001b[38;5;28mself\u001b[39m.cache_data)\n\u001b[32m   1071\u001b[39m \u001b[38;5;28;01mif\u001b[39;00m metric == \u001b[33m'\u001b[39m\u001b[33mbackward\u001b[39m\u001b[33m'\u001b[39m:\n",
      "\u001b[31mException\u001b[39m: model hasn't seen any data yet."
     ]
    }
   ],
   "source": [
    "import torch\n",
    "import numpy as np\n",
    "\n",
    "\n",
    "\n",
    "# 테스트용 입력 데이터 생성\n",
    "input_tensor = torch.tensor([[0.5, 0.2]])\n",
    "\n",
    "\n",
    "# 원본 파라미터 백업\n",
    "original_scale_base = model.act_fun[0].scale_base.clone()\n",
    "original_scale_sp = model.act_fun[0].scale_sp.clone()\n",
    "\n",
    "print(\"=== Step 1: 스케일 파라미터 수정 실험 준비 ===\")\n",
    "print(f\"첫 번째 레이어 엣지 개수: {model.act_fun[0].scale_base.shape}\")\n",
    "print(f\"원본 scale_base : {original_scale_base[0, :]}\")\n",
    "print(f\"원본 scale_sp : {original_scale_sp[0, :]}\")\n",
    "\n",
    "print(\"\\n--- 원본 모델 상태 ---\")\n",
    "model.plot()\n",
    "try:\n",
    "    formula_original = ex_round(model.symbolic_formula()[0][0], 4)\n",
    "    print(f\"원본 공식: {formula_original}\")\n",
    "except:\n",
    "    print(\"심볼릭 공식 생성 실패 (아직 심볼화되지 않았을 수 있음)\")\n",
    "\n"
   ]
  }
 ],
 "metadata": {
  "kernelspec": {
   "display_name": "venv",
   "language": "python",
   "name": "python3"
  },
  "language_info": {
   "codemirror_mode": {
    "name": "ipython",
    "version": 3
   },
   "file_extension": ".py",
   "mimetype": "text/x-python",
   "name": "python",
   "nbconvert_exporter": "python",
   "pygments_lexer": "ipython3",
   "version": "3.11.9"
  }
 },
 "nbformat": 4,
 "nbformat_minor": 5
}
