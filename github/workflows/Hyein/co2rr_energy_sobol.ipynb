{
 "cells": [
  {
   "cell_type": "code",
   "id": "initial_id",
   "metadata": {
    "collapsed": true,
    "ExecuteTime": {
     "end_time": "2025-10-29T08:18:05.451982Z",
     "start_time": "2025-10-29T08:18:02.348564Z"
    }
   },
   "source": [
    "import pandas as pd\n",
    "import numpy as np\n",
    "import torch\n",
    "import os\n",
    "from sklearn.preprocessing import StandardScaler\n",
    "from sklearn.model_selection import train_test_split\n",
    "from sklearn.metrics import mean_squared_error, r2_score\n",
    "from kan import KAN\n",
    "from kan.utils import ex_round\n",
    "from kan.custom_utils import remove_outliers_iqr\n",
    "\n",
    "device = torch.device('cuda' if torch.cuda.is_available() else 'cpu')\n",
    "print(f\"This script is running on {device}.\")\n",
    "\n",
    "dir_current = os.getcwd()\n",
    "dir_parent = os.path.dirname(dir_current)\n",
    "filepath = os.path.join(dir_parent, \"TaeWoong\", \"25.01.14_CO2RR_GSA.xlsx\")\n",
    "\n",
    "xls = pd.ExcelFile(filepath)\n",
    "df_in  = pd.read_excel(xls, sheet_name='Input')\n",
    "df_out = pd.read_excel(xls, sheet_name='Output')\n",
    "\n",
    "df_in_final, df_out_final = remove_outliers_iqr(df_in, df_out)\n",
    "\n",
    "removed_count = len(df_in) - len(df_in_final)  # 몇 개 지웠는지 세기\n",
    "print(f\"이상치 제거 후 데이터 수: {len(df_in_final)} 개 ({removed_count} 개 제거됨)\")\n",
    "print(\"--- 이상치 제거 완료 ---\\n\")"
   ],
   "outputs": [
    {
     "name": "stdout",
     "output_type": "stream",
     "text": [
      "This script is running on cpu.\n",
      "이상치 제거 후 데이터 수: 2378 개 (123 개 제거됨)\n",
      "--- 이상치 제거 완료 ---\n",
      "\n"
     ]
    }
   ],
   "execution_count": 1
  },
  {
   "metadata": {
    "ExecuteTime": {
     "end_time": "2025-10-29T08:18:15.393863Z",
     "start_time": "2025-10-29T08:18:15.381736Z"
    }
   },
   "cell_type": "code",
   "source": [
    "name_X = [\n",
    "    \"Current density (mA/cm2)\",\n",
    "    \"Faradaic efficiency (%)\",\n",
    "    \"CO coversion\",\n",
    "    \"Voltage (V)\",\n",
    "    \"Electricity cost ($/kWh)\",\n",
    "    \"Membrain cost ($/m2)\",\n",
    "    \"Catpure energy (GJ/ton)\",\n",
    "    \"Crossover rate\"\n",
    "]\n",
    "name_y = \"Required energy_total (MJ/kgCO)\" # Required energy_total (MJ/kgCO) # MSP ($/kgCO)\n",
    "X = df_in_final[name_X].values\n",
    "\n",
    "\n",
    "y = df_out_final[name_y].values.reshape(-1, 1)   # df_out_final[] 는 pandas datatframe이기에 이것을 skitlearn 이나 Keras 형태로 바꾸기 -- 그래야\n",
    "                                                     # .values 를 통해 Numpy 배열로 변환 (값만 뽑기 때문) # 그 후에 reshape(-1.1) 을 통해\n",
    "                                                     # .reshape()을 이용해 열 1\n"
   ],
   "id": "49ffe4b290d7e8d5",
   "outputs": [],
   "execution_count": 2
  },
  {
   "metadata": {
    "ExecuteTime": {
     "end_time": "2025-10-29T08:18:49.207846Z",
     "start_time": "2025-10-29T08:18:49.190795Z"
    }
   },
   "cell_type": "code",
   "source": [
    "from sklearn.preprocessing import MinMaxScaler\n",
    "\n",
    "scaler_X = MinMaxScaler(feature_range=(0.1, 0.9))\n",
    "scaler_y = MinMaxScaler(feature_range=(0.1, 0.9))\n",
    "\n",
    "X_norm = scaler_X.fit_transform(X)\n",
    "y_norm = scaler_y.fit_transform(y)\n"
   ],
   "id": "4138b7e8251d6e8a",
   "outputs": [],
   "execution_count": 3
  },
  {
   "metadata": {
    "ExecuteTime": {
     "end_time": "2025-10-29T08:19:07.074311Z",
     "start_time": "2025-10-29T08:19:06.790838Z"
    }
   },
   "cell_type": "code",
   "source": [
    "from SALib.analyze.sobol import analyze\n",
    "\n",
    "nx = X_norm.shape[1]\n",
    "y_norm_flat = y_norm.flatten()\n",
    "\n",
    "denominator = nx * 2 + 2\n",
    "n_analysis = int(len(y_norm_flat) / denominator) * denominator\n",
    "\n",
    "problem = {\n",
    "    'num_vars': nx,\n",
    "    'names': [f'x{i+1}' for i in range(nx)],\n",
    "    'bounds': [[0.1, 0.9]] * nx\n",
    "}\n",
    "\n",
    "Si = analyze(problem, y_norm.reshape([-1]), print_to_console=True)"
   ],
   "id": "a900b19f6262436e",
   "outputs": [
    {
     "ename": "RuntimeError",
     "evalue": "\n        Incorrect number of samples in model output file.\n        Confirm that calc_second_order matches option used during sampling.",
     "output_type": "error",
     "traceback": [
      "\u001B[1;31m---------------------------------------------------------------------------\u001B[0m",
      "\u001B[1;31mRuntimeError\u001B[0m                              Traceback (most recent call last)",
      "Cell \u001B[1;32mIn[4], line 10\u001B[0m\n\u001B[0;32m      3\u001B[0m nx \u001B[38;5;241m=\u001B[39m X_norm\u001B[38;5;241m.\u001B[39mshape[\u001B[38;5;241m1\u001B[39m]\n\u001B[0;32m      4\u001B[0m problem \u001B[38;5;241m=\u001B[39m {\n\u001B[0;32m      5\u001B[0m     \u001B[38;5;124m'\u001B[39m\u001B[38;5;124mnum_vars\u001B[39m\u001B[38;5;124m'\u001B[39m: nx,\n\u001B[0;32m      6\u001B[0m     \u001B[38;5;124m'\u001B[39m\u001B[38;5;124mnames\u001B[39m\u001B[38;5;124m'\u001B[39m: [\u001B[38;5;124mf\u001B[39m\u001B[38;5;124m'\u001B[39m\u001B[38;5;124mx\u001B[39m\u001B[38;5;132;01m{\u001B[39;00mi\u001B[38;5;241m+\u001B[39m\u001B[38;5;241m1\u001B[39m\u001B[38;5;132;01m}\u001B[39;00m\u001B[38;5;124m'\u001B[39m \u001B[38;5;28;01mfor\u001B[39;00m i \u001B[38;5;129;01min\u001B[39;00m \u001B[38;5;28mrange\u001B[39m(nx)],\n\u001B[0;32m      7\u001B[0m     \u001B[38;5;124m'\u001B[39m\u001B[38;5;124mbounds\u001B[39m\u001B[38;5;124m'\u001B[39m: [[\u001B[38;5;241m0.1\u001B[39m, \u001B[38;5;241m0.9\u001B[39m]] \u001B[38;5;241m*\u001B[39m nx\n\u001B[0;32m      8\u001B[0m }\n\u001B[1;32m---> 10\u001B[0m Si \u001B[38;5;241m=\u001B[39m \u001B[43manalyze\u001B[49m\u001B[43m(\u001B[49m\u001B[43mproblem\u001B[49m\u001B[43m,\u001B[49m\u001B[43m \u001B[49m\u001B[43my_norm\u001B[49m\u001B[38;5;241;43m.\u001B[39;49m\u001B[43mreshape\u001B[49m\u001B[43m(\u001B[49m\u001B[43m[\u001B[49m\u001B[38;5;241;43m-\u001B[39;49m\u001B[38;5;241;43m1\u001B[39;49m\u001B[43m]\u001B[49m\u001B[43m)\u001B[49m\u001B[43m,\u001B[49m\u001B[43m \u001B[49m\u001B[43mprint_to_console\u001B[49m\u001B[38;5;241;43m=\u001B[39;49m\u001B[38;5;28;43;01mTrue\u001B[39;49;00m\u001B[43m)\u001B[49m\n",
      "File \u001B[1;32m~\\miniconda3\\envs\\pykan-new\\lib\\site-packages\\SALib\\analyze\\sobol.py:119\u001B[0m, in \u001B[0;36manalyze\u001B[1;34m(problem, Y, calc_second_order, num_resamples, conf_level, print_to_console, parallel, n_processors, keep_resamples, seed)\u001B[0m\n\u001B[0;32m    117\u001B[0m     N \u001B[38;5;241m=\u001B[39m \u001B[38;5;28mint\u001B[39m(Y\u001B[38;5;241m.\u001B[39msize \u001B[38;5;241m/\u001B[39m (D \u001B[38;5;241m+\u001B[39m \u001B[38;5;241m2\u001B[39m))\n\u001B[0;32m    118\u001B[0m \u001B[38;5;28;01melse\u001B[39;00m:\n\u001B[1;32m--> 119\u001B[0m     \u001B[38;5;28;01mraise\u001B[39;00m \u001B[38;5;167;01mRuntimeError\u001B[39;00m(\n\u001B[0;32m    120\u001B[0m \u001B[38;5;250m        \u001B[39m\u001B[38;5;124;03m\"\"\"\u001B[39;00m\n\u001B[0;32m    121\u001B[0m \u001B[38;5;124;03m    Incorrect number of samples in model output file.\u001B[39;00m\n\u001B[0;32m    122\u001B[0m \u001B[38;5;124;03m    Confirm that calc_second_order matches option used during sampling.\"\"\"\u001B[39;00m\n\u001B[0;32m    123\u001B[0m     )\n\u001B[0;32m    125\u001B[0m \u001B[38;5;28;01mif\u001B[39;00m \u001B[38;5;129;01mnot\u001B[39;00m \u001B[38;5;241m0\u001B[39m \u001B[38;5;241m<\u001B[39m conf_level \u001B[38;5;241m<\u001B[39m \u001B[38;5;241m1\u001B[39m:\n\u001B[0;32m    126\u001B[0m     \u001B[38;5;28;01mraise\u001B[39;00m \u001B[38;5;167;01mRuntimeError\u001B[39;00m(\u001B[38;5;124m\"\u001B[39m\u001B[38;5;124mConfidence level must be between 0-1.\u001B[39m\u001B[38;5;124m\"\u001B[39m)\n",
      "\u001B[1;31mRuntimeError\u001B[0m: \n        Incorrect number of samples in model output file.\n        Confirm that calc_second_order matches option used during sampling."
     ]
    }
   ],
   "execution_count": 4
  }
 ],
 "metadata": {
  "kernelspec": {
   "display_name": "Python 3",
   "language": "python",
   "name": "python3"
  },
  "language_info": {
   "codemirror_mode": {
    "name": "ipython",
    "version": 2
   },
   "file_extension": ".py",
   "mimetype": "text/x-python",
   "name": "python",
   "nbconvert_exporter": "python",
   "pygments_lexer": "ipython2",
   "version": "2.7.6"
  }
 },
 "nbformat": 4,
 "nbformat_minor": 5
}
