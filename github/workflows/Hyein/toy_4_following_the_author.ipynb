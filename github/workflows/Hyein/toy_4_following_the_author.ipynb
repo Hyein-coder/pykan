{
 "cells": [
  {
   "metadata": {},
   "cell_type": "markdown",
   "source": "# Toy 4 (Exponential): Follow the Authors' Built-in Functions",
   "id": "4bdb2fa78ac545b1"
  },
  {
   "metadata": {
    "ExecuteTime": {
     "end_time": "2025-10-31T02:26:08.141370Z",
     "start_time": "2025-10-31T02:26:05.982330Z"
    }
   },
   "cell_type": "code",
   "source": [
    "import torch\n",
    "from kan import create_dataset\n",
    "from kan.custom import MultKAN\n",
    "import numpy as np\n",
    "import matplotlib.pyplot as plt\n",
    "\n",
    "device = torch.device('cuda' if torch.cuda.is_available() else 'cpu')\n",
    "\n",
    "f = lambda x: torch.exp(-2 * x[:, [0]]) + x[:, [1]]\n",
    "dataset = create_dataset(f, n_var=2, train_num=1000, test_num=100, device=device, normalize_label=True)"
   ],
   "id": "ce5af8af7dff85e2",
   "outputs": [],
   "execution_count": 1
  },
  {
   "metadata": {},
   "cell_type": "code",
   "source": [
    "model = MultKAN(width=[2,2,1], grid=3, k=3, seed=0, device=device)\n",
    "model.fit(dataset, opt='LBFGS', steps=20, lamb=0.002, lamb_entropy=2.)\n",
    "model.plot()"
   ],
   "id": "bbdef892dfc80025",
   "outputs": [],
   "execution_count": null
  },
  {
   "metadata": {},
   "cell_type": "code",
   "source": [
    "model = model.prune(edge_th=1e-2)\n",
    "model.plot()"
   ],
   "id": "b895c50981ef3142",
   "outputs": [],
   "execution_count": null
  },
  {
   "metadata": {},
   "cell_type": "code",
   "source": [
    "grids = [3, 5, 10, 20, 50]\n",
    "\n",
    "train_rmse = []\n",
    "test_rmse = []\n",
    "\n",
    "for i in range(len(grids)):\n",
    "    model = model.refine(grids[i])\n",
    "    results = model.fit(dataset, opt='LBFGS', steps=50, stop_grid_update_step=20)\n",
    "    train_rmse.append(results['train_loss'][-1].item())\n",
    "    test_rmse.append(results['test_loss'][-1].item())\n"
   ],
   "id": "c4296f2fa4424b9f",
   "outputs": [],
   "execution_count": null
  },
  {
   "metadata": {},
   "cell_type": "code",
   "source": [
    "n_params = np.array(grids) * (2*2+2*1)\n",
    "plt.plot(n_params, train_rmse, marker=\"o\")\n",
    "plt.plot(n_params, test_rmse, marker=\"o\")\n",
    "plt.plot(n_params, 300*n_params**(-2.), color=\"black\", ls=\"--\")\n",
    "plt.legend(['train', 'test', r'$N^{-4}$'], loc=\"lower left\")\n",
    "plt.xscale('log')\n",
    "plt.yscale('log')\n",
    "print(train_rmse)\n",
    "print(test_rmse)"
   ],
   "id": "853e31a7da2c1fb3",
   "outputs": [],
   "execution_count": null
  },
  {
   "metadata": {},
   "cell_type": "markdown",
   "source": [
    "그냥 학습하는 것보다 조금씩 grid를 refine해가는 것이 성능을 좋게 한다.\n",
    "\n",
    "아래는 매번 새로운 KAN을 정의하고 바로 처음부터 finer grid로 학습하는 예시.\n",
    "\n",
    "오히려 grid가 많을수록 학습이 덜 되어서 정확도가 떨어진다."
   ],
   "id": "d5e67ec3aa8cf80"
  },
  {
   "metadata": {},
   "cell_type": "code",
   "source": [
    "train_rmse_restart = []\n",
    "test_rmse_restart = []\n",
    "\n",
    "for i in range(len(grids)):\n",
    "    model = MultKAN(width=[2,2,1], grid=grids[i], k=3, seed=0, device=device)\n",
    "    results = model.fit(dataset, opt=\"LBFGS\", steps=50, stop_grid_update_step=30)\n",
    "    train_rmse_restart.append(results['train_loss'][-1].item())\n",
    "    test_rmse_restart.append(results['test_loss'][-1].item())\n",
    "\n",
    "n_params = np.array(grids) * (2*2+2*1)\n",
    "plt.plot(n_params, train_rmse_restart, marker=\"o\")\n",
    "plt.plot(n_params, train_rmse_restart, marker=\"o\")\n",
    "plt.plot(n_params, 300*n_params**(-2.), color=\"black\", ls=\"--\")\n",
    "plt.legend(['train', 'test', r'$N^{-4}$'], loc=\"lower left\")\n",
    "plt.xscale('log')\n",
    "plt.yscale('log')\n",
    "print(train_rmse)\n",
    "print(test_rmse)"
   ],
   "id": "cf42198b433c3122",
   "outputs": [],
   "execution_count": null
  },
  {
   "metadata": {},
   "cell_type": "markdown",
   "source": "배신: 사실 layer가 1단계만 있으면 바로 학습한다....",
   "id": "8ff363b1a7c7debe"
  },
  {
   "metadata": {
    "ExecuteTime": {
     "end_time": "2025-10-31T03:32:41.334666Z",
     "start_time": "2025-10-31T03:32:37.322412Z"
    }
   },
   "cell_type": "code",
   "source": [
    "# grids_to_sym = [3, 5, 10, 20]\n",
    "grids_to_sym = [10]\n",
    "\n",
    "train_rmse_sym = []\n",
    "test_rmse_sym = []\n",
    "\n",
    "model = MultKAN(width=[2,1], grid=3, k=3, seed=0, device=device)\n",
    "model.fit(dataset, opt='LBFGS', steps=20,\n",
    "          lamb=0.01, lamb_entropy=0.1, lamb_coef=0.1, lamb_coefdiff=0.5)\n",
    "model = model.prune(edge_th=0.03, node_th=0.01)\n",
    "\n",
    "for i in range(len(grids_to_sym)):\n",
    "    model = model.refine(grids_to_sym[i])\n",
    "    results = model.fit(dataset, opt='LBFGS', steps=50, stop_grid_update_step=20)\n",
    "    train_rmse_sym.append(results['train_loss'][-1].item())\n",
    "    test_rmse_sym.append(results['test_loss'][-1].item())\n",
    "\n",
    "model.plot()"
   ],
   "id": "aa177310cec6ee0d",
   "outputs": [
    {
     "name": "stderr",
     "output_type": "stream",
     "text": [
      "| train_loss: 1.42e-02 | test_loss: 1.49e-02 | reg: 2.21e+00 | : 100%|█| 20/20 [00:02<00:00,  9.48it\n",
      "| train_loss: 3.15e-05 | test_loss: 3.66e-05 | reg: 4.65e+00 | : 100%|█| 50/50 [00:01<00:00, 30.45it\n"
     ]
    },
    {
     "data": {
      "text/plain": [
       "<Figure size 500x200 with 4 Axes>"
      ],
      "image/png": "[encoded data removed]"
     },
     "metadata": {},
     "output_type": "display_data",
     "jetTransient": {
      "display_id": null
     }
    }
   ],
   "execution_count": 2
  },
  {
   "metadata": {
    "ExecuteTime": {
     "end_time": "2025-10-31T03:32:41.637454Z",
     "start_time": "2025-10-31T03:32:41.346119Z"
    }
   },
   "cell_type": "code",
   "source": "model.auto_symbolic()",
   "id": "ba097c365adec5ed",
   "outputs": [
    {
     "name": "stdout",
     "output_type": "stream",
     "text": [
      "r2 is 1.0000003576278687\n",
      "fixing (0,0,0) with exp, r2=1.0, c=2\n",
      "r2 is 1.0000004768371582\n",
      "fixing (0,1,0) with x, r2=1.0, c=1\n"
     ]
    }
   ],
   "execution_count": 3
  },
  {
   "metadata": {
    "ExecuteTime": {
     "end_time": "2025-10-31T03:32:41.836182Z",
     "start_time": "2025-10-31T03:32:41.644618Z"
    }
   },
   "cell_type": "code",
   "source": [
    "from kan.utils import ex_round\n",
    "ex_round(model.symbolic_formula()[0][0], 4)"
   ],
   "id": "f42aecccdbb3638f",
   "outputs": [
    {
     "data": {
      "text/plain": [
       "0.5095*x_2 - 0.929 + 0.5095*exp(-2.0*x_1)"
      ],
      "text/latex": "$\\displaystyle 0.5095 x_{2} - 0.929 + 0.5095 e^{- 2.0 x_{1}}$"
     },
     "execution_count": 4,
     "metadata": {},
     "output_type": "execute_result"
    }
   ],
   "execution_count": 4
  },
  {
   "metadata": {
    "ExecuteTime": {
     "end_time": "2025-10-31T03:32:41.897399Z",
     "start_time": "2025-10-31T03:32:41.847038Z"
    }
   },
   "cell_type": "code",
   "source": [
    "fig, ax = plt.subplots()\n",
    "model.forward(dataset['train_input'])\n",
    "scores_tot = model.feature_score\n",
    "ax.bar([f\"x{i}\" for i in range(scores_tot.shape[0])], scores_tot.tolist())\n",
    "# ax.set_xticks([f\"x{i}\" for i in range(score_L0.shape[0])])\n",
    "ax.set_ylabel(\"Attribution score\")"
   ],
   "id": "8986dbbb4a3747aa",
   "outputs": [
    {
     "data": {
      "text/plain": [
       "Text(0, 0.5, 'Attribution score')"
      ]
     },
     "execution_count": 5,
     "metadata": {},
     "output_type": "execute_result"
    },
    {
     "data": {
      "text/plain": [
       "<Figure size 640x480 with 1 Axes>"
      ],
      "image/png": "[encoded data removed]"
     },
     "metadata": {},
     "output_type": "display_data",
     "jetTransient": {
      "display_id": null
     }
    }
   ],
   "execution_count": 5
  },
  {
   "metadata": {
    "ExecuteTime": {
     "end_time": "2025-10-31T03:32:42.019057Z",
     "start_time": "2025-10-31T03:32:41.915510Z"
    }
   },
   "cell_type": "code",
   "source": [
    "mask_idx = 0\n",
    "mask_interval = [-1, -0.5, 0., 0.5, 1]\n",
    "# mask_interval = [-1, 0.5, 1]\n",
    "\n",
    "x_mask = dataset['train_input'][:, mask_idx]\n",
    "y_vals = dataset['train_label'].ravel()\n",
    "\n",
    "masks = [ ((x_mask > lb) & (x_mask <= ub)) for lb, ub in zip(mask_interval[:-1], mask_interval[1:])]\n",
    "labels = [f'{ub:.2f}' for lb, ub in zip(mask_interval[:-1], mask_interval[1:])]\n",
    "print([sum(x) for x in masks])\n",
    "\n",
    "scores_interval = []\n",
    "for mask in masks:\n",
    "    if np.any(mask.numpy()):\n",
    "        x_tensor_masked = dataset['train_input'][mask, :]\n",
    "        model.forward(x_tensor_masked)\n",
    "        scores_interval.append(model.feature_score.detach().cpu().numpy())\n",
    "    else:\n",
    "        scores_interval.append(np.zeros(scores_tot.shape))\n",
    "\n",
    "width = 0.25\n",
    "fig, ax = plt.subplots(figsize=(6,4))\n",
    "xticks = np.arange(len(masks)) * (width * scores_tot.shape[0] * 1.2)\n",
    "xticklabels = labels\n",
    "max_score = max([max(s) for s in scores_interval])\n",
    "for idx in range(scores_tot.shape[0]):\n",
    "    bars = ax.bar(xticks + idx * width, [s[idx] for s in scores_interval], width, label=f\"x{idx}\")\n",
    "    ax.bar_label(bars, fmt='%.2f', fontsize=7, padding=3)\n",
    "ax.margins(x=0.1)\n",
    "ax.set_ylim(0, max_score * 1.1)\n",
    "\n",
    "ax.set_xticks(xticks)\n",
    "ax.set_xticklabels(xticklabels, rotation=10, ha='center', fontsize=8)\n",
    "ax.legend(loc='upper left', bbox_to_anchor=(1, 1), fontsize=8)\n",
    "\n",
    "plt.tight_layout()\n",
    "plt.show()"
   ],
   "id": "da088e013bbcd062",
   "outputs": [
    {
     "name": "stdout",
     "output_type": "stream",
     "text": [
      "[tensor(251), tensor(241), tensor(256), tensor(252)]\n"
     ]
    },
    {
     "data": {
      "text/plain": [
       "<Figure size 600x400 with 1 Axes>"
      ],
      "image/png": "[encoded data removed]"
     },
     "metadata": {},
     "output_type": "display_data",
     "jetTransient": {
      "display_id": null
     }
    }
   ],
   "execution_count": 6
  },
  {
   "metadata": {
    "ExecuteTime": {
     "end_time": "2025-10-31T03:32:42.279833Z",
     "start_time": "2025-10-31T03:32:42.026919Z"
    }
   },
   "cell_type": "code",
   "source": [
    "from kan.custom_utils import plot_activation_and_spline_coefficients\n",
    "\n",
    "plot_activation_and_spline_coefficients(model, x=dataset)"
   ],
   "id": "f1eb140aa6ec57a9",
   "outputs": [
    {
     "data": {
      "text/plain": [
       "<Figure size 450x262.5 with 4 Axes>"
      ],
      "image/png": "[encoded data removed]"
     },
     "metadata": {},
     "output_type": "display_data",
     "jetTransient": {
      "display_id": null
     }
    },
    {
     "data": {
      "text/plain": [
       "[<Figure size 450x262.5 with 4 Axes>]"
      ]
     },
     "execution_count": 7,
     "metadata": {},
     "output_type": "execute_result"
    }
   ],
   "execution_count": 7
  },
  {
   "metadata": {},
   "cell_type": "markdown",
   "source": [
    "학습이 안정적으로 되고 나면 spline coefficients의 값 자체도 신뢰할 만함.\n",
    "\n",
    "Spline coefficients의 값 ~ 함수의 값 이라고 보면 안 되나?\n",
    "\n",
    "한 가지 설명이 안 되는 것은 Spline coefficients의 기울기가 변하는 것은 덜 중요한 변수에서 관찰됨."
   ],
   "id": "ddba2081da79bfb7"
  },
  {
   "metadata": {
    "ExecuteTime": {
     "end_time": "2025-10-31T03:32:42.294520Z",
     "start_time": "2025-10-31T03:32:42.288530Z"
    }
   },
   "cell_type": "code",
   "source": "model.subnode_actscale",
   "id": "b6f553f4f6078cb3",
   "outputs": [
    {
     "data": {
      "text/plain": [
       "[tensor([1.0000])]"
      ]
     },
     "execution_count": 8,
     "metadata": {},
     "output_type": "execute_result"
    }
   ],
   "execution_count": 8
  },
  {
   "metadata": {},
   "cell_type": "markdown",
   "source": "한 번 spline coefficients의 기울기 방향이 변하는 x1의 영역에 대해서 attribution score를 추적하자.",
   "id": "e4b7b6cf97f616e4"
  },
  {
   "metadata": {},
   "cell_type": "code",
   "outputs": [
    {
     "name": "stdout",
     "output_type": "stream",
     "text": [
      "[tensor(757), tensor(243)]\n"
     ]
    },
    {
     "data": {
      "text/plain": [
       "<Figure size 450x300 with 1 Axes>"
      ],
      "image/png": "[encoded data removed]"
     },
     "metadata": {},
     "output_type": "display_data",
     "jetTransient": {
      "display_id": null
     }
    }
   ],
   "execution_count": 13,
   "source": [
    "mask_idx = 1\n",
    "# mask_interval = [-1, -0.5, 0., 0.5, 1]\n",
    "mask_interval = [-1, 0.5, 1]\n",
    "\n",
    "x_mask = dataset['train_input'][:, mask_idx]\n",
    "y_vals = dataset['train_label'].ravel()\n",
    "\n",
    "masks = [ ((x_mask > lb) & (x_mask <= ub)) for lb, ub in zip(mask_interval[:-1], mask_interval[1:])]\n",
    "labels = [f'{ub:.2f}' for lb, ub in zip(mask_interval[:-1], mask_interval[1:])]\n",
    "print([sum(x) for x in masks])\n",
    "\n",
    "scores_interval = []\n",
    "scores_interval_norm = []\n",
    "for mask in masks:\n",
    "    if np.any(mask.numpy()):\n",
    "        x_tensor_masked = dataset['train_input'][mask, :]\n",
    "        x_std = torch.std(x_tensor_masked, dim=0).detach().cpu().numpy()\n",
    "        model.forward(x_tensor_masked)\n",
    "\n",
    "        score_masked = model.feature_score.detach().cpu().numpy()\n",
    "        score_norm = score_masked / x_std\n",
    "        scores_interval.append(score_masked)\n",
    "        scores_interval_norm.append(score_norm)\n",
    "    else:\n",
    "        scores_interval.append(np.zeros(scores_tot.shape))\n",
    "        scores_interval_norm.append(np.zeros(scores_tot.shape))\n",
    "\n",
    "width = 0.25\n",
    "fig, ax = plt.subplots(figsize=(6,4))\n",
    "xticks = np.arange(len(masks)) * (width * scores_tot.shape[0] * 1.2)\n",
    "xticklabels = labels\n",
    "max_score = max([max(s) for s in scores_interval])\n",
    "for idx in range(scores_tot.shape[0]):\n",
    "    bars = ax.bar(xticks + idx * width, [s[idx] for s in scores_interval], width, label=f\"x{idx}\")\n",
    "    ax.bar_label(bars, fmt='%.2f', fontsize=7, padding=3)\n",
    "ax.margins(x=0.1)\n",
    "ax.set_ylim(0, max_score * 1.1)\n",
    "\n",
    "ax.set_xticks(xticks)\n",
    "ax.set_xticklabels(xticklabels, rotation=10, ha='center', fontsize=8)\n",
    "ax.legend(loc='upper left', bbox_to_anchor=(1, 1), fontsize=8)\n",
    "\n",
    "plt.tight_layout()\n",
    "plt.show()"
   ],
   "id": "cd21a439638ecd9e"
  },
  {
   "metadata": {},
   "cell_type": "markdown",
   "source": "Attribution score가 input data의 분포에 영향을 받기 때문에 input의 std로 나눠서 비교하기 -- x1의 영역에 대해서는 attribution score의 역전이 일어나지 않음. ",
   "id": "6ee8e019d17321a5"
  },
  {
   "metadata": {
    "ExecuteTime": {
     "end_time": "2025-10-31T03:37:38.039071Z",
     "start_time": "2025-10-31T03:37:37.972740Z"
    }
   },
   "cell_type": "code",
   "source": [
    "fig, ax = plt.subplots(figsize=(6,4))\n",
    "xticks = np.arange(len(masks)) * (width * scores_tot.shape[0] * 1.2)\n",
    "xticklabels = labels\n",
    "max_score = max([max(s) for s in scores_interval_norm])\n",
    "for idx in range(scores_tot.shape[0]):\n",
    "    bars = ax.bar(xticks + idx * width, [s[idx] for s in scores_interval_norm], width, label=f\"x{idx}\")\n",
    "    ax.bar_label(bars, fmt='%.2f', fontsize=7, padding=3)\n",
    "ax.margins(x=0.1)\n",
    "ax.set_ylim(0, max_score * 1.1)\n",
    "\n",
    "ax.set_xticks(xticks)\n",
    "ax.set_xticklabels(xticklabels, rotation=10, ha='center', fontsize=8)\n",
    "ax.legend(loc='upper left', bbox_to_anchor=(1, 1), fontsize=8)\n",
    "\n",
    "plt.tight_layout()\n",
    "plt.show()"
   ],
   "id": "6d6f057cbf05d86c",
   "outputs": [
    {
     "data": {
      "text/plain": [
       "<Figure size 450x300 with 1 Axes>"
      ],
      "image/png": "[encoded data removed]"
     },
     "metadata": {},
     "output_type": "display_data",
     "jetTransient": {
      "display_id": null
     }
    }
   ],
   "execution_count": 14
  }
 ],
 "metadata": {
  "kernelspec": {
   "display_name": "Python 3",
   "language": "python",
   "name": "python3"
  },
  "language_info": {
   "codemirror_mode": {
    "name": "ipython",
    "version": 2
   },
   "file_extension": ".py",
   "mimetype": "text/x-python",
   "name": "python",
   "nbconvert_exporter": "python",
   "pygments_lexer": "ipython2",
   "version": "2.7.6"
  }
 },
 "nbformat": 4,
 "nbformat_minor": 5
}
