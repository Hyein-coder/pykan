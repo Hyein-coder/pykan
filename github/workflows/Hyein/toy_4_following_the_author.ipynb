{
 "cells": [
  {
   "metadata": {},
   "cell_type": "markdown",
   "source": "# Toy 4 (Exponential): Follow the Authors' Built-in Functions",
   "id": "4bdb2fa78ac545b1"
  },
  {
   "metadata": {
    "ExecuteTime": {
     "end_time": "2025-10-31T02:26:08.141370Z",
     "start_time": "2025-10-31T02:26:05.982330Z"
    }
   },
   "cell_type": "code",
   "source": [
    "import torch\n",
    "from kan import create_dataset\n",
    "from kan.custom import MultKAN\n",
    "import numpy as np\n",
    "import matplotlib.pyplot as plt\n",
    "\n",
    "device = torch.device('cuda' if torch.cuda.is_available() else 'cpu')\n",
    "\n",
    "f = lambda x: torch.exp(-2 * x[:, [0]]) + x[:, [1]]\n",
    "dataset = create_dataset(f, n_var=2, train_num=1000, test_num=100, device=device, normalize_label=True)"
   ],
   "id": "ce5af8af7dff85e2",
   "outputs": [],
   "execution_count": 1
  },
  {
   "metadata": {},
   "cell_type": "code",
   "source": [
    "model = MultKAN(width=[2,2,1], grid=3, k=3, seed=0, device=device)\n",
    "model.fit(dataset, opt='LBFGS', steps=20, lamb=0.002, lamb_entropy=2.)\n",
    "model.plot()"
   ],
   "id": "bbdef892dfc80025",
   "outputs": [],
   "execution_count": null
  },
  {
   "metadata": {},
   "cell_type": "code",
   "source": [
    "model = model.prune(edge_th=1e-2)\n",
    "model.plot()"
   ],
   "id": "b895c50981ef3142",
   "outputs": [],
   "execution_count": null
  },
  {
   "metadata": {},
   "cell_type": "code",
   "source": [
    "grids = [3, 5, 10, 20, 50]\n",
    "\n",
    "train_rmse = []\n",
    "test_rmse = []\n",
    "\n",
    "for i in range(len(grids)):\n",
    "    model = model.refine(grids[i])\n",
    "    results = model.fit(dataset, opt='LBFGS', steps=50, stop_grid_update_step=20)\n",
    "    train_rmse.append(results['train_loss'][-1].item())\n",
    "    test_rmse.append(results['test_loss'][-1].item())\n"
   ],
   "id": "c4296f2fa4424b9f",
   "outputs": [],
   "execution_count": null
  },
  {
   "metadata": {},
   "cell_type": "code",
   "source": [
    "n_params = np.array(grids) * (2*2+2*1)\n",
    "plt.plot(n_params, train_rmse, marker=\"o\")\n",
    "plt.plot(n_params, test_rmse, marker=\"o\")\n",
    "plt.plot(n_params, 300*n_params**(-2.), color=\"black\", ls=\"--\")\n",
    "plt.legend(['train', 'test', r'$N^{-4}$'], loc=\"lower left\")\n",
    "plt.xscale('log')\n",
    "plt.yscale('log')\n",
    "print(train_rmse)\n",
    "print(test_rmse)"
   ],
   "id": "853e31a7da2c1fb3",
   "outputs": [],
   "execution_count": null
  },
  {
   "metadata": {},
   "cell_type": "markdown",
   "source": [
    "그냥 학습하는 것보다 조금씩 grid를 refine해가는 것이 성능을 좋게 한다.\n",
    "\n",
    "아래는 매번 새로운 KAN을 정의하고 바로 처음부터 finer grid로 학습하는 예시.\n",
    "\n",
    "오히려 grid가 많을수록 학습이 덜 되어서 정확도가 떨어진다."
   ],
   "id": "d5e67ec3aa8cf80"
  },
  {
   "metadata": {},
   "cell_type": "code",
   "source": [
    "train_rmse_restart = []\n",
    "test_rmse_restart = []\n",
    "\n",
    "for i in range(len(grids)):\n",
    "    model = MultKAN(width=[2,2,1], grid=grids[i], k=3, seed=0, device=device)\n",
    "    results = model.fit(dataset, opt=\"LBFGS\", steps=50, stop_grid_update_step=30)\n",
    "    train_rmse_restart.append(results['train_loss'][-1].item())\n",
    "    test_rmse_restart.append(results['test_loss'][-1].item())\n",
    "\n",
    "n_params = np.array(grids) * (2*2+2*1)\n",
    "plt.plot(n_params, train_rmse_restart, marker=\"o\")\n",
    "plt.plot(n_params, train_rmse_restart, marker=\"o\")\n",
    "plt.plot(n_params, 300*n_params**(-2.), color=\"black\", ls=\"--\")\n",
    "plt.legend(['train', 'test', r'$N^{-4}$'], loc=\"lower left\")\n",
    "plt.xscale('log')\n",
    "plt.yscale('log')\n",
    "print(train_rmse)\n",
    "print(test_rmse)"
   ],
   "id": "cf42198b433c3122",
   "outputs": [],
   "execution_count": null
  },
  {
   "metadata": {},
   "cell_type": "markdown",
   "source": "배신: 사실 layer가 1단계만 있으면 바로 학습한다....",
   "id": "8ff363b1a7c7debe"
  },
  {
   "metadata": {
    "ExecuteTime": {
     "end_time": "2025-10-31T03:32:41.334666Z",
     "start_time": "2025-10-31T03:32:37.322412Z"
    }
   },
   "cell_type": "code",
   "source": [
    "# grids_to_sym = [3, 5, 10, 20]\n",
    "grids_to_sym = [10]\n",
    "\n",
    "train_rmse_sym = []\n",
    "test_rmse_sym = []\n",
    "\n",
    "model = MultKAN(width=[2,1], grid=3, k=3, seed=0, device=device)\n",
    "model.fit(dataset, opt='LBFGS', steps=20,\n",
    "          lamb=0.01, lamb_entropy=0.1, lamb_coef=0.1, lamb_coefdiff=0.5)\n",
    "model = model.prune(edge_th=0.03, node_th=0.01)\n",
    "\n",
    "for i in range(len(grids_to_sym)):\n",
    "    model = model.refine(grids_to_sym[i])\n",
    "    results = model.fit(dataset, opt='LBFGS', steps=50, stop_grid_update_step=20)\n",
    "    train_rmse_sym.append(results['train_loss'][-1].item())\n",
    "    test_rmse_sym.append(results['test_loss'][-1].item())\n",
    "\n",
    "model.plot()"
   ],
   "id": "aa177310cec6ee0d",
   "outputs": [
    {
     "name": "stderr",
     "output_type": "stream",
     "text": [
      "| train_loss: 1.42e-02 | test_loss: 1.49e-02 | reg: 2.21e+00 | : 100%|█| 20/20 [00:02<00:00,  9.48it\n",
      "| train_loss: 3.15e-05 | test_loss: 3.66e-05 | reg: 4.65e+00 | : 100%|█| 50/50 [00:01<00:00, 30.45it\n"
     ]
    },
    {
     "data": {
      "text/plain": [
       "<Figure size 500x200 with 4 Axes>"
      ],
      "image/png": "[encoded data removed]"
     },
     "metadata": {},
     "output_type": "display_data",
     "jetTransient": {
      "display_id": null
     }
    }
   ],
   "execution_count": 2
  },
  {
   "metadata": {},
   "cell_type": "code",
   "source": [
    "from kan.custom_utils import plot_activation_and_spline_coefficients\n",
    "\n",
    "plot_activation_and_spline_coefficients(model, x=dataset)"
   ],
   "id": "ba097c365adec5ed",
   "execution_count": null,
   "outputs": []
  },
  {
   "metadata": {},
   "cell_type": "code",
   "outputs": [
    {
     "name": "stdout",
     "output_type": "stream",
     "text": [
      "r2 is 1.0000003576278687\n",
      "fixing (0,0,0) with exp, r2=1.0, c=2\n",
      "r2 is 1.0000004768371582\n",
      "fixing (0,1,0) with x, r2=1.0, c=1\n"
     ]
    }
   ],
   "execution_count": 3,
   "source": "model.auto_symbolic()",
   "id": "f3e89fa1b4150c0b"
  },
  {
   "metadata": {
    "ExecuteTime": {
     "end_time": "2025-10-31T03:32:41.836182Z",
     "start_time": "2025-10-31T03:32:41.644618Z"
    }
   },
   "cell_type": "code",
   "source": [
    "from kan.utils import ex_round\n",
    "ex_round(model.symbolic_formula()[0][0], 4)"
   ],
   "id": "f42aecccdbb3638f",
   "outputs": [
    {
     "data": {
      "text/plain": [
       "0.5095*x_2 - 0.929 + 0.5095*exp(-2.0*x_1)"
      ],
      "text/latex": "$\\displaystyle 0.5095 x_{2} - 0.929 + 0.5095 e^{- 2.0 x_{1}}$"
     },
     "execution_count": 4,
     "metadata": {},
     "output_type": "execute_result"
    }
   ],
   "execution_count": 4
  }
 ],
 "metadata": {
  "kernelspec": {
   "display_name": "Python 3",
   "language": "python",
   "name": "python3"
  },
  "language_info": {
   "codemirror_mode": {
    "name": "ipython",
    "version": 2
   },
   "file_extension": ".py",
   "mimetype": "text/x-python",
   "name": "python",
   "nbconvert_exporter": "python",
   "pygments_lexer": "ipython2",
   "version": "2.7.6"
  }
 },
 "nbformat": 4,
 "nbformat_minor": 5
}
