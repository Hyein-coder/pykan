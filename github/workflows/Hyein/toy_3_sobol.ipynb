{
 "cells": [
  {
   "metadata": {
    "ExecuteTime": {
     "end_time": "2025-10-29T06:02:31.394682Z",
     "start_time": "2025-10-29T06:02:25.968066Z"
    }
   },
   "cell_type": "code",
   "source": [
    "import pandas as pd\n",
    "from kan.custom_utils import (plot_data_per_interval,\n",
    "                              plot_activation_and_spline_coefficients, get_masks)\n",
    "import matplotlib.pyplot as plt\n",
    "import os\n",
    "import datetime\n",
    "import json\n",
    "import numpy as np\n",
    "plt.rcParams['figure.figsize'] = (15, 8)\n",
    "plt.rcParams['figure.dpi'] = 75\n",
    "plt.rcParams['savefig.dpi'] = 75*10\n",
    "\n",
    "root_dir = os.path.join(os.getcwd())\n",
    "save_dir = os.path.join(root_dir, \"custom_figures\")\n",
    "time_stamp = datetime.datetime.now().strftime('%Y%m%d_%H%M')\n",
    "\n",
    "ground_truth = lambda x0, x1: np.sin(2*x0) + 5*x1\n",
    "\n",
    "import torch\n",
    "from sklearn.model_selection import train_test_split\n",
    "from sklearn.preprocessing import MinMaxScaler\n",
    "from kan.experiments.multkan_hparam_sweep import evaluate_params, _to_tensor, _build_dataset\n",
    "from kan.utils import ex_round\n",
    "\n",
    "device = torch.device('cuda' if torch.cuda.is_available() else 'cpu')\n",
    "print(f\"This script is running on {device}.\")\n",
    "\n",
    "x1_grid = np.linspace(-np.pi, np.pi, 60)\n",
    "x2_grid = np.linspace(-1, 1, 30)\n",
    "\n",
    "x1, x2= np.meshgrid(x1_grid, x2_grid)\n",
    "X = np.stack((x1.flatten(), x2.flatten()), axis=1)\n",
    "\n",
    "y_mesh = ground_truth(x1, x2)\n",
    "y = y_mesh.flatten().reshape(-1, 1)\n",
    "\n",
    "X_temp, X_test, y_temp, y_test = train_test_split(X, y, test_size=0.2, random_state=42)\n",
    "X_train, X_val, y_train, y_val = train_test_split(X_temp, y_temp, test_size=0.2, random_state=42)  # 0.2 × 0.8 = 0.16 (전체의 16%)\n",
    "\n",
    "scaler_X = MinMaxScaler(feature_range=(0.1, 0.9))\n",
    "scaler_y = MinMaxScaler(feature_range=(0.1, 0.9))\n",
    "X_train_norm = scaler_X.fit_transform(X_train)\n",
    "y_train_norm = scaler_y.fit_transform(y_train)\n",
    "X_val_norm = scaler_X.transform(X_val)\n",
    "X_test_norm = scaler_X.transform(X_test)\n",
    "y_val_norm = scaler_y.transform(y_val)\n",
    "y_test_norm = scaler_y.transform(y_test)\n"
   ],
   "id": "362dea71b5ed36be",
   "outputs": [
    {
     "name": "stdout",
     "output_type": "stream",
     "text": [
      "This script is running on cpu.\n"
     ]
    }
   ],
   "execution_count": 1
  },
  {
   "metadata": {
    "ExecuteTime": {
     "end_time": "2025-10-29T06:02:55.902241Z",
     "start_time": "2025-10-29T06:02:55.868333Z"
    }
   },
   "cell_type": "code",
   "source": [
    "from SALib.analyze.sobol import analyze\n",
    "\n",
    "X_norm = np.concatenate([X_train_norm, X_val_norm, X_test_norm])\n",
    "y_norm = np.concatenate([y_train_norm, y_val_norm, y_test_norm])\n",
    "\n",
    "nx = X_norm.shape[1]\n",
    "problem = {\n",
    "    'num_vars': nx,\n",
    "    'names': [f'x{i+1}' for i in range(nx)],\n",
    "    'bounds': [[0.1, 0.9]] * nx\n",
    "}\n",
    "\n",
    "Si = analyze(problem, y_norm.reshape([-1]), print_to_console=True)\n"
   ],
   "id": "9f7fb16750417c1f",
   "outputs": [
    {
     "name": "stdout",
     "output_type": "stream",
     "text": [
      "          ST   ST_conf\n",
      "x1  0.974101  0.138121\n",
      "x2  1.080693  0.141988\n",
      "          S1   S1_conf\n",
      "x1  0.089537  0.156158\n",
      "x2 -0.013932  0.154908\n",
      "                S2  S2_conf\n",
      "[x1, x2] -0.091881  0.21938\n",
      "[ 0.08953655 -0.01393186]\n"
     ]
    }
   ],
   "execution_count": 2
  },
  {
   "metadata": {},
   "cell_type": "markdown",
   "source": [
    "x1 ~ x2.\n",
    "그런데 negative S1 이 나온다.. (데이터가 부족하거나 너무 x2에 대한 dependency가 떨어져서 그런 걸수도 있음).\n",
    "하지만 이런 상태에서도 학습은 가능했기 때문에 ST만 사용하면 될듯."
   ],
   "id": "d4f8d904276e2e96"
  }
 ],
 "metadata": {
  "kernelspec": {
   "display_name": "Python 3",
   "language": "python",
   "name": "python3"
  },
  "language_info": {
   "codemirror_mode": {
    "name": "ipython",
    "version": 2
   },
   "file_extension": ".py",
   "mimetype": "text/x-python",
   "name": "python",
   "nbconvert_exporter": "python",
   "pygments_lexer": "ipython2",
   "version": "2.7.6"
  }
 },
 "nbformat": 4,
 "nbformat_minor": 5
}
