{
 "cells": [
  {
   "cell_type": "code",
   "id": "initial_id",
   "metadata": {
    "collapsed": true,
    "ExecuteTime": {
     "end_time": "2025-10-29T08:14:48.744119Z",
     "start_time": "2025-10-29T08:14:48.710114Z"
    }
   },
   "source": [
    "import pandas as pd\n",
    "import matplotlib.pyplot as plt\n",
    "import os\n",
    "import numpy as np\n",
    "\n",
    "import torch\n",
    "from sklearn.model_selection import train_test_split\n",
    "from sklearn.preprocessing import MinMaxScaler\n",
    "\n",
    "plt.rcParams['figure.figsize'] = (11, 6)\n",
    "plt.rcParams['figure.dpi'] = 75\n",
    "plt.rcParams['savefig.dpi'] = 75*10\n",
    "\n",
    "file_name = \"exponential2_20251029_0928\"\n",
    "groud_truth = lambda x1, x2: np.exp(-2*x1) + x2\n",
    "# d_opt = pd.read_excel(os.path.join(os.getcwd(), \"multkan_sweep_autosave\", file_name + \".xlsx\"), sheet_name='best_spline_avg_by_params')\n",
    "d_opt = pd.read_excel(os.path.join(os.getcwd(), \"multkan_sweep_autosave\", file_name + \".xlsx\"), sheet_name='best_avg_by_params')\n",
    "\n",
    "save_heading = os.path.join(os.getcwd(), \"custom_figures\", file_name)\n",
    "\n",
    "x1_grid = np.linspace(-1, 1, 120)\n",
    "x2_grid = np.linspace(-1, 1, 120)\n",
    "\n",
    "x1, x2= np.meshgrid(x1_grid, x2_grid)\n",
    "X = np.stack((x1.flatten(), x2.flatten()), axis=1)\n",
    "y_mesh = groud_truth(x1, x2)\n",
    "\n",
    "y = y_mesh.flatten().reshape(-1, 1)\n",
    "\n",
    "device = torch.device('cuda' if torch.cuda.is_available() else 'cpu')\n",
    "print(f\"This script is running on {device}.\")\n",
    "\n",
    "X_temp, X_test, y_temp, y_test = train_test_split(X, y, test_size=0.2, random_state=42)\n",
    "X_train, X_val, y_train, y_val = train_test_split(X_temp, y_temp, test_size=0.2, random_state=42)  # 0.2 × 0.8 = 0.16 (전체의 16%)\n",
    "\n",
    "print(f\"전체 데이터셋 크기: {len(X)}\")\n",
    "print(f\"훈련셋 크기: {len(X_train)} ({len(X_train)/len(X)*100:.1f}%)\")\n",
    "print(f\"검증셋 크기: {len(X_val)} ({len(X_val)/len(X)*100:.1f}%)\")\n",
    "print(f\"테스트셋 크기: {len(X_test)} ({len(X_test)/len(X)*100:.1f}%)\")\n",
    "\n",
    "# 1. MinMaxScaler 객체 생성 --- 범위를 0.1~0.9로 재설정\n",
    "scaler_X = MinMaxScaler(feature_range=(0.1, 0.9))\n",
    "scaler_y = MinMaxScaler(feature_range=(0.1, 0.9))\n",
    "\n",
    "X_train_norm = scaler_X.fit_transform(X_train)\n",
    "y_train_norm = scaler_y.fit_transform(y_train)\n",
    "X_val_norm = scaler_X.transform(X_val)\n",
    "X_test_norm = scaler_X.transform(X_test)\n",
    "\n",
    "y_val_norm = scaler_y.transform(y_val)\n",
    "y_test_norm = scaler_y.transform(y_test)\n",
    "\n",
    "X_norm = np.concatenate([X_train_norm, X_val_norm, X_test_norm])\n",
    "y_norm = np.concatenate([y_train_norm, y_val_norm, y_test_norm])\n"
   ],
   "outputs": [
    {
     "name": "stdout",
     "output_type": "stream",
     "text": [
      "This script is running on cpu.\n",
      "전체 데이터셋 크기: 14400\n",
      "훈련셋 크기: 9216 (64.0%)\n",
      "검증셋 크기: 2304 (16.0%)\n",
      "테스트셋 크기: 2880 (20.0%)\n"
     ]
    }
   ],
   "execution_count": 24
  },
  {
   "metadata": {
    "ExecuteTime": {
     "end_time": "2025-10-29T08:14:48.954119Z",
     "start_time": "2025-10-29T08:14:48.903118Z"
    }
   },
   "cell_type": "code",
   "source": [
    "from SALib.analyze.sobol import analyze\n",
    "\n",
    "nx = X_norm.shape[1]\n",
    "problem = {\n",
    "    'num_vars': nx,\n",
    "    'names': [f'x{i+1}' for i in range(nx)],\n",
    "    'bounds': [[0.1, 0.9]] * nx\n",
    "}\n",
    "y_norm_flat = y_norm.flatten()\n",
    "Si = analyze(problem, y_norm_flat, print_to_console=True)"
   ],
   "id": "ed302f9720660aa3",
   "outputs": [
    {
     "name": "stdout",
     "output_type": "stream",
     "text": [
      "          ST   ST_conf\n",
      "x1  1.029740  0.058949\n",
      "x2  1.004789  0.067802\n",
      "          S1   S1_conf\n",
      "x1 -0.044816  0.050162\n",
      "x2 -0.030148  0.052596\n",
      "                S2   S2_conf\n",
      "[x1, x2]  0.073611  0.069818\n"
     ]
    }
   ],
   "execution_count": 25
  },
  {
   "metadata": {},
   "cell_type": "code",
   "outputs": [],
   "execution_count": null,
   "source": "",
   "id": "6a31832dbab7dcd2"
  }
 ],
 "metadata": {
  "kernelspec": {
   "display_name": "Python 3",
   "language": "python",
   "name": "python3"
  },
  "language_info": {
   "codemirror_mode": {
    "name": "ipython",
    "version": 2
   },
   "file_extension": ".py",
   "mimetype": "text/x-python",
   "name": "python",
   "nbconvert_exporter": "python",
   "pygments_lexer": "ipython2",
   "version": "2.7.6"
  }
 },
 "nbformat": 4,
 "nbformat_minor": 5
}
