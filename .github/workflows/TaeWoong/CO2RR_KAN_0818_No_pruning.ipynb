{
 "cells": [
  {
   "cell_type": "markdown",
   "id": "0895cbba",
   "metadata": {},
   "source": [
    "## CO2RR 공정 datasheet 분석"
   ]
  },
  {
   "cell_type": "markdown",
   "id": "4e0157fd",
   "metadata": {},
   "source": [
    "----------------------------------"
   ]
  },
  {
   "cell_type": "markdown",
   "id": "499fd6e3",
   "metadata": {},
   "source": [
    "-------"
   ]
  },
  {
   "cell_type": "markdown",
   "id": "4d576959",
   "metadata": {},
   "source": [
    "Output 중 Required energy_total (MJ/kgCO), MSP 분석 예정"
   ]
  },
  {
   "cell_type": "markdown",
   "id": "bd5404b7",
   "metadata": {},
   "source": [
    "step0. 라이브러리 정리"
   ]
  },
  {
   "cell_type": "code",
   "execution_count": 1,
   "id": "ed16aea4",
   "metadata": {},
   "outputs": [
    {
     "name": "stdout",
     "output_type": "stream",
     "text": [
      "cpu\n"
     ]
    }
   ],
   "source": [
    "import pandas as pd\n",
    "import numpy as np\n",
    "import torch\n",
    "from sklearn.preprocessing import StandardScaler\n",
    "from sklearn.model_selection import train_test_split\n",
    "from sklearn.metrics import mean_squared_error, r2_score\n",
    "from kan import KAN\n",
    "from kan.utils import ex_round\n",
    "device = torch.device('cuda' if torch.cuda.is_available() else 'cpu')\n",
    "print(device)"
   ]
  },
  {
   "cell_type": "markdown",
   "id": "f34c39e8",
   "metadata": {},
   "source": [
    "step1. 엑셀 파일 불러오기"
   ]
  },
  {
   "cell_type": "code",
   "execution_count": 2,
   "id": "c0466943",
   "metadata": {},
   "outputs": [],
   "source": [
    "# 엑셀 데이터 로드 \n",
    "filepath = r\"C:\\Users\\kepco201\\Desktop\\KAN_python\\pykan-master\\.github\\workflows\\TaeWoong\\25.01.14_CO2RR_GSA.xlsx\"\n",
    "xls = pd.ExcelFile(filepath) \n",
    "df_in  = pd.read_excel(xls, sheet_name='Input')\n",
    "df_out = pd.read_excel(xls, sheet_name='Output')\n",
    "\n"
   ]
  },
  {
   "cell_type": "markdown",
   "id": "12dafb3a",
   "metadata": {},
   "source": [
    "step2.결측값 대체 및 이상치 제거"
   ]
  },
  {
   "cell_type": "raw",
   "id": "d0c919d6",
   "metadata": {
    "vscode": {
     "languageId": "raw"
    }
   },
   "source": [
    "# [기존 step2]\n",
    "# df_in  = df_in.fillna(df_in.mean(numeric_only=True))\n",
    "# df_out = df_out.fillna(df_out.mean(numeric_only=True))\n",
    "\n",
    "# [수정된 step2] : 결측치가 있는 행 삭제\n",
    "\n",
    "# 1. 삭제 전 데이터 크기 확인\n",
    "print(f\"결측값 삭제 전 Input 데이터 크기: {df_in.shape}\")\n",
    "print(f\"결측값 삭제 전 Output 데이터 크기: {df_out.shape}\")\n",
    "\n",
    "# 2. 결측치가 있는 행 삭제\n",
    "# 두 데이터프레임의 인덱스를 맞추기 위해, 한쪽에서 삭제된 인덱스를 다른 쪽에도 적용\n",
    "na_rows_in = df_in.isnull().any(axis=1)\n",
    "na_rows_out = df_out.isnull().any(axis=1)\n",
    "rows_to_drop = na_rows_in | na_rows_out # 둘 중 하나라도 결측치가 있으면 삭제 대상\n",
    "\n",
    "df_in_cleaned = df_in[~rows_to_drop]\n",
    "df_out_cleaned = df_out[~rows_to_drop]\n",
    "\n",
    "# 3. 삭제 후 데이터 크기 확인\n",
    "print(f\"결측값 삭제 후 Input 데이터 크기: {df_in_cleaned.shape}\")\n",
    "print(f\"결측값 삭제 후 Output 데이터 크기: {df_out_cleaned.shape}\")\n",
    "\n",
    "# 이후 step3 에서는 df_in_cleaned와 df_out_cleaned 를 사용합니다.\n",
    "# X = df_in_cleaned[[...]].values\n",
    "# y = df_out_cleaned[[...]].values.reshape(-1, 1)\n",
    "\n",
    "\n"
   ]
  },
  {
   "cell_type": "markdown",
   "id": "77407cf1",
   "metadata": {},
   "source": [
    "이상치(Outlier) 제거 / 전체 데이터의 10% 이내로 극소량만 제거"
   ]
  },
  {
   "cell_type": "code",
   "execution_count": 3,
   "id": "cb9b8719",
   "metadata": {},
   "outputs": [
    {
     "name": "stdout",
     "output_type": "stream",
     "text": [
      "--- 이상치 제거 시작 ---\n",
      "이상치 제거 전 데이터 수: 2501 개\n",
      "이상치 제거 후 데이터 수: 2378 개 (123 개 제거됨)\n",
      "--- 이상치 제거 완료 ---\n",
      "\n"
     ]
    }
   ],
   "source": [
    "# 이상치(Outlier) 제거 (IQR 방식) ---\n",
    "\n",
    "print(\"--- 이상치 제거 시작 ---\")\n",
    "\n",
    "\n",
    "print(f\"이상치 제거 전 데이터 수: {len(df_in)} 개\")   # len(df_in) 을 통해 이상치 제거 전 데이터 길이(개수) 출력\n",
    "\n",
    "\n",
    "def remove_outliers_iqr(df_in, df_out):              # outlier 제거 함수 정의\n",
    "    \n",
    "    combined_df = pd.concat([df_in, df_out], axis=1) # pd.concat = 2개를 합치기 // 입력 변수(X)와 출력 변수(y)를 합쳐서 전체 데이터프레임 생성 // x랑 y를 한번에 고려\n",
    "                                                     # axis = 1 --- 오른쪽으로 합치기 --- 데이터 구조를 보면 예쁘게 정리가 된다\n",
    "    \n",
    "    numeric_cols = combined_df.select_dtypes(include=np.number).columns  # .select_dtypes 를 통해 특정 열만 출력 outlier 를 탐지할 숫자형 컬럼만 선택\n",
    "                                    # numeric_cols = 숫자로만 구성된 열들의 이름 리스트 (.colums = 그 열의 이름을 리스트로 출력)\n",
    "\n",
    "    # 각 컬럼에 대해 이상치 경계 계산 \n",
    "    Q1 = combined_df[numeric_cols].quantile(0.25)   # .quantile(0.25) = 데이터를 오름차순으로 정렬했을 떄 하위 25% 지점 \n",
    "    Q3 = combined_df[numeric_cols].quantile(0.75)   # .quantile(0.75) = 데이터를 오름차순으로 정렬했을 떄 상위 25% 지점 \n",
    "    IQR = Q3 - Q1 # IQR은 대략 상위 25% - 상위75% = 중간정도의 값에 해당\n",
    "    \n",
    "    lower_bound = Q1 - 6 * IQR  # 보통은 1.5* IQR을 진행하지만 최대한 삭제되는 데이터가 적도록 진행\n",
    "    upper_bound = Q3 + 6 * IQR\n",
    "    \n",
    "\n",
    "    # 밑의 줄은 공부를 더 해보자\n",
    "    # 모든 컬럼에 대해 정상 범위 내에 있는 데이터만 True로 표시\n",
    "    # (row의 어떤 컬럼이라도 이상치면 해당 row 전체가 False가 됨)\n",
    "    condition = ~((combined_df[numeric_cols] < lower_bound) | (combined_df[numeric_cols] > upper_bound)).any(axis=1)\n",
    "    \n",
    "\n",
    "    # 정상 범위에 있는 데이터만 필터링\n",
    "    df_in_no_outliers = df_in[condition]\n",
    "    df_out_no_outliers = df_out[condition]\n",
    "    \n",
    "    return df_in_no_outliers, df_out_no_outliers\n",
    "\n",
    "# 3. 함수를 사용하여 이상치 제거\n",
    "#    이전에 결측치를 제거한 df_in_cleaned, df_out_cleaned를 사용합니다.\n",
    "df_in_final, df_out_final = remove_outliers_iqr(df_in, df_out)\n",
    "\n",
    "\n",
    "# 4. 이상치 제거 후 남은 데이터 개수 확인\n",
    "removed_count = len(df_in) - len(df_in_final)  # 몇 개 지웠는지 세기\n",
    "print(f\"이상치 제거 후 데이터 수: {len(df_in_final)} 개 ({removed_count} 개 제거됨)\")\n",
    "print(\"--- 이상치 제거 완료 ---\\n\")\n",
    "\n",
    "\n",
    "# 이제 'df_in_final'과 'df_out_final'을 사용하자\n",
    "\n",
    "\n",
    "\n",
    "\n",
    "# 입력 변수(X) 선택\n",
    "# 모델이 '총 필요 에너지'를 예측하는 데 사용할 정보(컬럼)들을 선택\n",
    "X = df_in_final[[\n",
    "    \"Current density (mA/cm2)\", \n",
    "    \"Faradaic efficiency (%)\", \n",
    "    \"CO coversion\",\n",
    "    \"Voltage (V)\", \n",
    "    \"Electricity cost ($/kWh)\", \n",
    "    \"Membrain cost ($/m2)\",\n",
    "    \"Catpure energy (GJ/ton)\", \n",
    "    \"Crossover rate\"\n",
    "]].values\n",
    "\n",
    "\n",
    "\n",
    "## 이 밑의 코드 수정하기!!!! \n",
    "\n",
    "# 출력 변수(y) 선택\n",
    "# 모델이 최종적으로 맞춰야 할 정답(타겟)을 선택\n",
    "y = df_out_final['Required energy_total (MJ/kgCO)'].values.reshape(-1, 1)\n"
   ]
  },
  {
   "cell_type": "markdown",
   "id": "e01c4177",
   "metadata": {},
   "source": [
    "이상치 제거 후 X, Y 정의하기"
   ]
  },
  {
   "cell_type": "code",
   "execution_count": 4,
   "id": "2044e67e",
   "metadata": {},
   "outputs": [],
   "source": [
    "# 입력 변수(X) 선택\n",
    "# 모델이 '총 필요 에너지'를 예측하는 데 사용할 정보(컬럼)들을 선택\n",
    "X = df_in_final[[\n",
    "    \"Current density (mA/cm2)\", \n",
    "    \"Faradaic efficiency (%)\", \n",
    "    \"CO coversion\",\n",
    "    \"Voltage (V)\", \n",
    "    \"Electricity cost ($/kWh)\", \n",
    "    \"Membrain cost ($/m2)\",\n",
    "    \"Catpure energy (GJ/ton)\", \n",
    "    \"Crossover rate\"\n",
    "]].values\n",
    "\n",
    "\n",
    "\n",
    "## 이 밑의 코드 수정하기!!!! \n",
    "\n",
    "# 출력 변수(y) 선택\n",
    "# 모델이 최종적으로 맞춰야 할 정답(타겟)을 선택\n",
    "y = df_out_final['Required energy_total (MJ/kgCO)'].values.reshape(-1, 1)"
   ]
  },
  {
   "cell_type": "markdown",
   "id": "c1592a6a",
   "metadata": {},
   "source": [
    "step3. 엑셀 파일 속 data 추출 및 !predict 할 데이터 이름 입력!"
   ]
  },
  {
   "cell_type": "code",
   "execution_count": 5,
   "id": "b7eba938",
   "metadata": {},
   "outputs": [
    {
     "name": "stdout",
     "output_type": "stream",
     "text": [
      "[[1.97379048e+03 9.73836465e-01 3.72471012e-02 ... 2.89292283e+02\n",
      "  3.14514194e+00 1.49940024e-01]\n",
      " [1.95631747e+03 9.63060776e-01 5.54118353e-02 ... 2.92153805e+02\n",
      "  3.24190324e+00 2.49900040e-01]\n",
      " [1.93884446e+03 9.52285086e-01 7.35765694e-02 ... 2.95015327e+02\n",
      "  3.33866453e+00 3.49860056e-01]\n",
      " ...\n",
      " [1.61155538e+02 5.37714914e-01 5.36423431e-01 ... 3.38318006e+02\n",
      "  4.66133547e+00 1.65013994e+00]\n",
      " [1.43682527e+02 5.26939224e-01 5.54588165e-01 ... 3.41179528e+02\n",
      "  4.75809676e+00 1.75009996e+00]\n",
      " [1.26209516e+02 5.16163535e-01 5.72752899e-01 ... 3.44041050e+02\n",
      "  4.85485806e+00 1.85005998e+00]]\n",
      "====================\n",
      "[[137.83276055]\n",
      " [ 97.65612097]\n",
      " [ 77.61576681]\n",
      " ...\n",
      " [ 47.34602399]\n",
      " [ 50.01962389]\n",
      " [ 53.6021701 ]]\n"
     ]
    }
   ],
   "source": [
    "# 입력·출력 변수 선택 및 numpy 변환    # outlier 삭제를 원하지 않을시에는 df_in_final 을 df_in으로, df_out_final을 df_out으로 바꾸면 된다\n",
    "X = df_in_final[[\n",
    "    \"Current density (mA/cm2)\", \"Faradaic efficiency (%)\", \"CO coversion\",\n",
    "    \"Voltage (V)\", \"Electricity cost ($/kWh)\",\n",
    "    \"Membrain cost ($/m2)\", \"Catpure energy (GJ/ton)\",  # catpure energy? excel 파일에서 이렇게 오타가 났기에 그냥 사용\n",
    "    \"Crossover rate\"\n",
    "]].values\n",
    "\n",
    "\n",
    "\n",
    "\n",
    "predicting = \"Required energy_total (MJ/kgCO)\" # 다른 output 변수 보고싶으면 이거 보면 됨 # Required energy_total (MJ/kgCO) # MSP ($/kgCO)\n",
    "###### 이거를 수정해서 다른 output도 보자\n",
    "\n",
    "y = df_out_final[predicting].values.reshape(-1, 1)   # df_out_final[] 는 pandas datatframe이기에 이것을 skitlearn 이나 Keras 형태로 바꾸기 -- 그래야 \n",
    "                                                     # .values 를 통해 Numpy 배열로 변환 (값만 뽑기 때문) # 그 후에 reshape(-1.1) 을 통해 \n",
    "                                                     # .reshape()을 이용해 열 1개\n",
    "print(X)\n",
    "print(\"====================\")\n",
    "print(y)\n",
    "\n",
    "\n",
    "\n",
    "\n"
   ]
  },
  {
   "cell_type": "markdown",
   "id": "39df47d1",
   "metadata": {},
   "source": [
    "step4. train_set, valadation_set, test_set 만들기 (64:16:20) 우측 하단 RAW로 일단 설정해놓음 나중에 python으로 바꾸기"
   ]
  },
  {
   "cell_type": "code",
   "execution_count": 6,
   "id": "c5e4f043",
   "metadata": {},
   "outputs": [
    {
     "name": "stdout",
     "output_type": "stream",
     "text": [
      "[[6.39764094e+02 8.75483806e-01 2.88958417e-01 ... 3.31531387e+02\n",
      "  3.22830868e+00 3.92243103e-01]\n",
      " [1.92303079e+02 6.42141144e-01 1.31609356e-01 ... 3.46927896e+02\n",
      "  3.07636945e+00 1.13674530e+00]\n",
      " [1.80057977e+03 5.59070372e-01 2.64424230e-01 ... 3.34950020e+02\n",
      "  3.93042783e+00 1.81567373e+00]\n",
      " ...\n",
      " [1.23612555e+03 6.04132347e-01 1.88462615e-01 ... 2.99953352e+02\n",
      "  4.33506597e+00 1.76129548e+00]\n",
      " [1.70637745e+03 6.59774090e-01 1.61333467e-01 ... 3.05549780e+02\n",
      "  3.23470612e+00 1.97241104e+00]\n",
      " [1.03100760e+03 8.20625750e-01 1.96483407e-01 ... 3.39052379e+02\n",
      "  3.72091164e+00 1.93482607e+00]]\n",
      "전체 데이터셋 크기: 2378\n",
      "훈련셋 크기: 1521 (64.0%)\n",
      "검증셋 크기: 381 (16.0%)\n",
      "테스트셋 크기: 476 (20.0%)\n"
     ]
    }
   ],
   "source": [
    "# 1단계: 먼저 train+val과 test로 분할 (80:20)\n",
    "X_temp, X_test, y_temp, y_test = train_test_split(X, y, test_size=0.2, random_state=42)\n",
    "\n",
    "\n",
    "# 2단계: train+val을 train과 val로 분할 (64:16, 전체 대비)\n",
    "X_train, X_val, y_train, y_val = train_test_split(X_temp, y_temp, test_size=0.2, random_state=42)  # 0.2 × 0.8 = 0.16 (전체의 16%)\n",
    "\n",
    "\n",
    "# 최종 비율 확인\n",
    "# (X[:,0])~(X[:,7]) 에 각각의 입력변수들의 값들이 각각 저장됨\n",
    "\n",
    "\n",
    "\n",
    "print(X_val)\n",
    "print(f\"전체 데이터셋 크기: {len(X)}\")\n",
    "print(f\"훈련셋 크기: {len(X_train)} ({len(X_train)/len(X)*100:.1f}%)\")\n",
    "print(f\"검증셋 크기: {len(X_val)} ({len(X_val)/len(X)*100:.1f}%)\")  \n",
    "print(f\"테스트셋 크기: {len(X_test)} ({len(X_test)/len(X)*100:.1f}%)\")\n",
    "\n",
    "\n"
   ]
  },
  {
   "cell_type": "markdown",
   "id": "c8e1d9a9",
   "metadata": {},
   "source": [
    "step4-1. 층화추출(Stratified Sampling on y)을 하고 싶을 때 step4 대신 실행 / 데이터의 밀도가 다른 점을 고려"
   ]
  },
  {
   "cell_type": "raw",
   "id": "836e051a",
   "metadata": {
    "vscode": {
     "languageId": "raw"
    }
   },
   "source": [
    "\n",
    "\n",
    "# ===================================================================\n",
    "# Step 4: 데이터 분할 (훈련/검증/테스트 6:2:2, 층화 추출 적용)\n",
    "# ===================================================================\n",
    "\n",
    "from sklearn.model_selection import train_test_split\n",
    "import pandas as pd\n",
    "import numpy as np\n",
    "\n",
    "print(\"--- 데이터 분할 시작 (훈련/검증/테스트, 층화 추출 방식) ---\")\n",
    "\n",
    "# 1. 층화 추출을 위한 y값 그룹(strata) 생성\n",
    "num_bins = 5\n",
    "try:\n",
    "    y_binned = pd.cut(y.flatten(), bins=num_bins, labels=False)\n",
    "    stratify_option = y_binned\n",
    "    print(f\"y값을 {num_bins}개 구간으로 나누어 층화 추출을 진행합니다.\")\n",
    "except ValueError as e:\n",
    "    print(f\"경고: y값으로 층화 추출을 시도했으나 실패했습니다. ({e})\")\n",
    "    print(\"일반 무작위 추출 방식으로 전환합니다.\")\n",
    "    stratify_option = None\n",
    "\n",
    "# 2. 먼저, 훈련+검증 데이터(80%)와 최종 테스트 데이터(20%)로 분할합니다.\n",
    "X_train_val, X_test, y_train_val, y_test = train_test_split(\n",
    "    X, y, \n",
    "    test_size=0.2, \n",
    "    random_state=42, \n",
    "    stratify=stratify_option\n",
    ")\n",
    "\n",
    "# 3. 다음으로, 훈련+검증 데이터(X_train_val)를 다시 훈련 데이터(75%)와 검증 데이터(25%)로 분할합니다.\n",
    "#    (전체 데이터의 80% 중 75%는 60%, 25%는 20%에 해당하여, 최종적으로 60:20:20 비율이 됩니다.)\n",
    "\n",
    "# 층화 추출을 두 번째 분할에도 일관되게 적용하기 위해 y_train_val 그룹을 다시 만듭니다.\n",
    "try:\n",
    "    y_train_val_binned = pd.cut(y_train_val.flatten(), bins=num_bins, labels=False)\n",
    "    stratify_option_2 = y_train_val_binned\n",
    "except ValueError:\n",
    "    stratify_option_2 = None # 분할이 불가능하면 일반 추출\n",
    "\n",
    "X_train, X_val, y_train, y_val = train_test_split(\n",
    "    X_train_val, y_train_val,\n",
    "    test_size=0.25, # 80% 중 25%는 전체의 20%\n",
    "    random_state=42,\n",
    "    stratify=stratify_option_2\n",
    ")\n",
    "\n",
    "print(\"\\n--- 최종 분할 후 데이터셋 크기 ---\")\n",
    "print(f\"훈련 데이터 (X_train): {X_train.shape}\")\n",
    "print(f\"검증 데이터 (X_val): {X_val.shape}\")\n",
    "print(f\"테스트 데이터 (X_test): {X_test.shape}\")\n",
    "print(\"\\n--- 데이터 분할 완료 ---\")\n",
    "\n"
   ]
  },
  {
   "cell_type": "markdown",
   "id": "9cd52a27",
   "metadata": {},
   "source": [
    "step5. 데이터 정규화(normalization)_전처리 과정"
   ]
  },
  {
   "cell_type": "code",
   "execution_count": 7,
   "id": "7c5cc170",
   "metadata": {},
   "outputs": [
    {
     "name": "stdout",
     "output_type": "stream",
     "text": [
      "정규화 후 통계:\n",
      "X_train_norm: mean=0.4990, std=0.2308\n",
      "X_val_norm: mean=0.5033, std=0.2310\n",
      "X_test_norm: mean=0.5021, std=0.2315\n",
      "y_train_norm: mean=0.2327, std=0.1235\n",
      "y_val_norm: mean=0.2328, std=0.1356\n",
      "y_test_norm: mean=0.2393, std=0.1316\n"
     ]
    }
   ],
   "source": [
    "# 중요: 훈련 데이터(X_train, y_train)의 최소/최대값을 기준으로 스케일러를 학습(fit)하고,\n",
    "# 이 기준으로 모든 데이터셋(train, val, test)을 동일하게 변환합니다.\n",
    "# 이렇게 해야 테스트 과정에서 미래 정보(테스트셋의 최소/최대값)가 모델에 유출되는 것을 막을 수 있다.\n",
    "# validation dataset이나 test data로 스케일링을 할 시 데이터 누수 발생 가능\n",
    "\n",
    "from sklearn.preprocessing import MinMaxScaler\n",
    "import numpy as np\n",
    "\n",
    "\n",
    "\n",
    "# 1. MinMaxScaler 객체 생성 --- 범위를 0.1~0.9로 재설정\n",
    "scaler_X = MinMaxScaler(feature_range=(0.1, 0.9))\n",
    "scaler_y = MinMaxScaler(feature_range=(0.1, 0.9))\n",
    "\n",
    "\n",
    "\n",
    "\n",
    "X_train_norm = scaler_X.fit_transform(X_train) # 훈련 데이터로 스케일러 학습 및 변환 (fit_transform)\n",
    "y_train_norm = scaler_y.fit_transform(y_train) # X_train의 각 변수(컬럼)별로 최소값은 0, 최대값은 1이 되도록 변환됩니다.\n",
    "\n",
    "# 3. 학습된 스케일러로 검증 및 테스트 데이터 변환 (transform)\n",
    "# X_train의 기준으로 나머지 데이터들을 변환합니다.\n",
    "X_val_norm = scaler_X.transform(X_val)\n",
    "X_test_norm = scaler_X.transform(X_test)\n",
    "\n",
    "y_val_norm = scaler_y.transform(y_val)   # y_val 과 y_test 도 y_train 의 정규분포를 따라 변환된다\n",
    "y_test_norm = scaler_y.transform(y_test)\n",
    "\n",
    "\n",
    "#print(X_train_norm)\n",
    "\n",
    "#print(X_val_norm)\n",
    "\n",
    "#print(X_test_norm)\n",
    "\n",
    "#print(y_train_norm)\n",
    "\n",
    "#print(y_val_norm)\n",
    "\n",
    "#print(y_test_norm)\n",
    "\n",
    "# X_train_norm 은 [[x0~x7], [x0~x7],....,[x0~x7]] 에서 각 x0~x7은 각 열마다 각각 범위가 0~1로 범위가 변환됨\n",
    "# 이 변환된 정도를 X_val_norm 과 X_test_norm도 적용받음\n",
    "\n",
    "# 정규화 후 통계 확인\n",
    "print(\"정규화 후 통계:\")\n",
    "print(f\"X_train_norm: mean={X_train_norm.mean():.4f}, std={X_train_norm.std():.4f}\")\n",
    "print(f\"X_val_norm: mean={X_val_norm.mean():.4f}, std={X_val_norm.std():.4f}\")\n",
    "print(f\"X_test_norm: mean={X_test_norm.mean():.4f}, std={X_test_norm.std():.4f}\")\n",
    "print(f\"y_train_norm: mean={y_train_norm.mean():.4f}, std={y_train_norm.std():.4f}\")\n",
    "print(f\"y_val_norm: mean={y_val_norm.mean():.4f}, std={y_val_norm.std():.4f}\")\n",
    "print(f\"y_test_norm: mean={y_test_norm.mean():.4f}, std={y_test_norm.std():.4f}\")\n",
    "\n"
   ]
  },
  {
   "cell_type": "markdown",
   "id": "9ad59c20",
   "metadata": {},
   "source": [
    "step6. tensor 변환"
   ]
  },
  {
   "cell_type": "code",
   "execution_count": 8,
   "id": "482b4c61",
   "metadata": {},
   "outputs": [
    {
     "name": "stdout",
     "output_type": "stream",
     "text": [
      "모든 텐서가 cpu에 배치됨\n"
     ]
    }
   ],
   "source": [
    "# 딥러닝을 진행하기 전 모든 데이터셋을 tensor로 변환  # 원래는 numpy 배열이었음 --- 아까 scikitlearn의 train test split 이나 .fit transform 스케일러를 사용하였기에 \n",
    "X_train_tensor = torch.tensor(X_train_norm, dtype=torch.float32, device=device)\n",
    "X_val_tensor = torch.tensor(X_val_norm, dtype=torch.float32, device=device)\n",
    "X_test_tensor = torch.tensor(X_test_norm, dtype=torch.float32, device=device)\n",
    "y_train_tensor = torch.tensor(y_train_norm, dtype=torch.float32, device=device)\n",
    "y_val_tensor = torch.tensor(y_val_norm, dtype=torch.float32, device=device)\n",
    "y_test_tensor = torch.tensor(y_test_norm, dtype=torch.float32, device=device)\n",
    "\n",
    "print(f\"모든 텐서가 {device}에 배치됨\")\n"
   ]
  },
  {
   "cell_type": "markdown",
   "id": "996a7ee0",
   "metadata": {},
   "source": [
    "step7. dataset dictionary 만들기"
   ]
  },
  {
   "cell_type": "code",
   "execution_count": 9,
   "id": "d8165a42",
   "metadata": {},
   "outputs": [
    {
     "name": "stdout",
     "output_type": "stream",
     "text": [
      "train_input: torch.Size([1521, 8])\n",
      "train_label: torch.Size([1521, 1])\n",
      "val_input: torch.Size([381, 8])\n",
      "val_label: torch.Size([381, 1])\n",
      "test_input: torch.Size([476, 8])\n",
      "test_label: torch.Size([476, 1])\n"
     ]
    }
   ],
   "source": [
    "# 나중에 정의하기 편하게 dataset을 정의하기 -- 참고로 dataset들은 tensor 이다\n",
    "\n",
    "dataset = {'train_input': X_train_tensor,'train_label': y_train_tensor,\n",
    "            'val_input': X_val_tensor, 'val_label': y_val_tensor,\n",
    "            'test_input': X_test_tensor,'test_label': y_test_tensor }    # dataset dictionary에 key값과 value 값을 설정한다\n",
    "\n",
    "# 데이터셋 검토차 크기 확인\n",
    "for key, value in dataset.items():                     #.items()를 쓰면 key와 value 값을 묶어서 출력 // .items()가 없으면 오직 key만 출력\n",
    "    print(f\"{key}: {value.shape}\")\n",
    "\n"
   ]
  },
  {
   "cell_type": "markdown",
   "id": "7f52eab5",
   "metadata": {},
   "source": [
    "step8. 1개의 KAN 모델 생성"
   ]
  },
  {
   "cell_type": "code",
   "execution_count": 10,
   "id": "227d86c0",
   "metadata": {},
   "outputs": [
    {
     "name": "stdout",
     "output_type": "stream",
     "text": [
      "checkpoint directory created: ./model\n",
      "saving model version 0.0\n"
     ]
    }
   ],
   "source": [
    "# KAN 모델 생성\n",
    "model = KAN(width=[8,12,1], grid=3, k=3, seed=42, device=device)"
   ]
  },
  {
   "cell_type": "markdown",
   "id": "d6debc95",
   "metadata": {},
   "source": [
    "step9. KAN 학습"
   ]
  },
  {
   "cell_type": "code",
   "execution_count": 11,
   "id": "947446ce",
   "metadata": {},
   "outputs": [
    {
     "name": "stderr",
     "output_type": "stream",
     "text": [
      "| train_loss: 1.24e-01 | test_loss: 1.32e-01 | reg: 5.25e-01 | : 100%|█| 50/50 [00:53<00:00,  1.07s/\n"
     ]
    },
    {
     "name": "stdout",
     "output_type": "stream",
     "text": [
      "saving model version 0.1\n"
     ]
    },
    {
     "data": {
      "image/png": "[encoded data removed]",
      "text/plain": [
       "<Figure size 500x400 with 122 Axes>"
      ]
     },
     "metadata": {},
     "output_type": "display_data"
    }
   ],
   "source": [
    "# KAN 학습\n",
    "model.fit(dataset, opt=\"LBFGS\", steps=50, lamb=0.004)\n",
    "model.plot()"
   ]
  },
  {
   "cell_type": "markdown",
   "id": "d2f2ba8b",
   "metadata": {},
   "source": [
    "model의 성질을 잠깐 출력해보자"
   ]
  },
  {
   "cell_type": "code",
   "execution_count": 12,
   "id": "bbe9133d",
   "metadata": {},
   "outputs": [
    {
     "name": "stdout",
     "output_type": "stream",
     "text": [
      "--- 모델의 전체 구조 (print) ---\n",
      "MultKAN(\n",
      "  (act_fun): ModuleList(\n",
      "    (0-1): 2 x KANLayer(\n",
      "      (base_fun): SiLU()\n",
      "    )\n",
      "  )\n",
      "  (base_fun): SiLU()\n",
      "  (symbolic_fun): ModuleList(\n",
      "    (0-1): 2 x Symbolic_KANLayer()\n",
      "  )\n",
      ")\n",
      "\n",
      "--- 모델의 모든 속성 리스트 (dir) ---\n",
      "['T_destination', '__annotations__', '__call__', '__class__', '__delattr__', '__dict__', '__dir__', '__doc__', '__eq__', '__format__', '__ge__', '__getattr__', '__getattribute__', '__getstate__', '__gt__', '__hash__', '__init__', '__init_subclass__', '__le__', '__lt__', '__module__', '__ne__', '__new__', '__reduce__', '__reduce_ex__', '__repr__', '__setattr__', '__setstate__', '__sizeof__', '__str__', '__subclasshook__', '__weakref__', '_apply', '_backward_hooks', '_backward_pre_hooks', '_buffers', '_call_impl', '_compiled_call_impl', '_forward_hooks', '_forward_hooks_always_called', '_forward_hooks_with_kwargs', '_forward_pre_hooks', '_forward_pre_hooks_with_kwargs', '_get_backward_hooks', '_get_backward_pre_hooks', '_get_name', '_is_full_backward_hook', '_load_from_state_dict', '_load_state_dict_post_hooks', '_load_state_dict_pre_hooks', '_maybe_warn_non_full_backward_hook', '_modules', '_named_members', '_non_persistent_buffers_set', '_parameters', '_register_load_state_dict_pre_hook', '_register_state_dict_hook', '_replicate_for_data_parallel', '_save_to_state_dict', '_slow_forward', '_state_dict_hooks', '_state_dict_pre_hooks', '_version', '_wrapped_call_impl', 'act_fun', 'acts', 'acts_premult', 'acts_scale', 'acts_scale_spline', 'add_module', 'affine_trainable', 'apply', 'attribute', 'auto_save', 'auto_swap', 'auto_swap_l', 'auto_symbolic', 'base_fun', 'base_fun_name', 'bfloat16', 'buffers', 'cache_data', 'call_super_init', 'checkout', 'children', 'ckpt_path', 'compile', 'connection_cost', 'copy', 'cpu', 'cuda', 'depth', 'device', 'disable_symbolic_in_fit', 'double', 'dump_patches', 'edge_actscale', 'edge_scores', 'edge_scores_all', 'eval', 'evaluate', 'expand_depth', 'expand_width', 'extra_repr', 'feature_interaction', 'feature_score', 'fit', 'fix_symbolic', 'float', 'forward', 'get_act', 'get_buffer', 'get_extra_state', 'get_fun', 'get_parameter', 'get_params', 'get_range', 'get_reg', 'get_submodule', 'grid', 'grid_eps', 'grid_range', 'half', 'history', 'initialize_from_another_model', 'initialize_grid_from_another_model', 'input_id', 'ipu', 'k', 'load_state_dict', 'loadckpt', 'log_history', 'module', 'modules', 'mtia', 'mult_arity', 'mult_homo', 'n_edge', 'n_mult', 'n_sum', 'named_buffers', 'named_children', 'named_modules', 'named_parameters', 'node_attribute', 'node_bias', 'node_bias_0', 'node_bias_1', 'node_scale', 'node_scale_0', 'node_scale_1', 'node_scores', 'node_scores_all', 'parameters', 'perturb', 'plot', 'prune', 'prune_edge', 'prune_input', 'prune_node', 'refine', 'reg', 'register_backward_hook', 'register_buffer', 'register_forward_hook', 'register_forward_pre_hook', 'register_full_backward_hook', 'register_full_backward_pre_hook', 'register_load_state_dict_post_hook', 'register_load_state_dict_pre_hook', 'register_module', 'register_parameter', 'register_state_dict_post_hook', 'register_state_dict_pre_hook', 'remove_edge', 'remove_node', 'requires_grad_', 'rewind', 'round', 'save_act', 'saveckpt', 'sb_trainable', 'set_extra_state', 'set_mode', 'set_submodule', 'share_memory', 'sp_trainable', 'speed', 'spline_postacts', 'spline_postsplines', 'spline_preacts', 'state_dict', 'state_id', 'subnode_actscale', 'subnode_bias', 'subnode_bias_0', 'subnode_bias_1', 'subnode_scale', 'subnode_scale_0', 'subnode_scale_1', 'subnode_scores', 'subnode_scores_all', 'suggest_symbolic', 'swap', 'symbolic_enabled', 'symbolic_formula', 'symbolic_fun', 'to', 'to_empty', 'train', 'training', 'tree', 'type', 'unfix_symbolic', 'unfix_symbolic_all', 'update_grid', 'update_grid_from_samples', 'width', 'width_in', 'width_out', 'xpu', 'zero_grad']\n"
     ]
    }
   ],
   "source": [
    "# 1. 모델의 전체 구조를 친절하게 출력해보기 (가장 추천!)\n",
    "print(\"--- 모델의 전체 구조 (print) ---\")\n",
    "print(model)\n",
    "\n",
    "# 2. 모델이 가진 모든 속성(변수, 함수) 리스트를 확인해보기\n",
    "print(\"\\n--- 모델의 모든 속성 리스트 (dir) ---\")\n",
    "print(dir(model))\n"
   ]
  },
  {
   "cell_type": "markdown",
   "id": "2ad68e51",
   "metadata": {},
   "source": [
    "학습가능 파라미터 수 "
   ]
  },
  {
   "cell_type": "code",
   "execution_count": 13,
   "id": "553f6ac5",
   "metadata": {},
   "outputs": [
    {
     "name": "stdout",
     "output_type": "stream",
     "text": [
      "학습가능 파라미터 수: 1,296\n",
      "act_fun.0.coef                           torch.Size([8, 12, 6])   576\n",
      "act_fun.0.scale_base                     torch.Size([8, 12])    96\n",
      "act_fun.0.scale_sp                       torch.Size([8, 12])    96\n",
      "act_fun.1.coef                           torch.Size([12, 1, 6])    72\n",
      "act_fun.1.scale_base                     torch.Size([12, 1])    12\n",
      "act_fun.1.scale_sp                       torch.Size([12, 1])    12\n",
      "symbolic_fun.0.affine                    torch.Size([12, 8, 4])   384\n",
      "symbolic_fun.1.affine                    torch.Size([1, 12, 4])    48\n"
     ]
    }
   ],
   "source": [
    "num_params = sum(p.numel() for p in model.parameters() if p.requires_grad)\n",
    "print(f\"학습가능 파라미터 수: {num_params:,}\")\n",
    "\n",
    "for name, p in model.named_parameters():\n",
    "    if p.requires_grad:\n",
    "        print(f\"{name:40s} {p.shape} {p.numel():5d}\")\n"
   ]
  },
  {
   "cell_type": "markdown",
   "id": "91261a8c",
   "metadata": {},
   "source": [
    "학습가능한 파라미터의 리스트를 나열해보자"
   ]
  },
  {
   "cell_type": "code",
   "execution_count": 14,
   "id": "324ce580",
   "metadata": {},
   "outputs": [
    {
     "name": "stdout",
     "output_type": "stream",
     "text": [
      "(감지된 모델 타입: MultKAN)\n",
      "\n",
      "  [ Layer 0 (KANLayer) ] \n",
      " \n",
      " > Coefficients Shape: (8, 12, 6)\n",
      "  > Coefficients List (전체 파라미터)\n",
      "[[[ 3.78802456e-02  3.84736508e-02  3.84407006e-02  3.85491662e-02\n",
      "    3.86321805e-02  3.89701873e-02]\n",
      "  [ 1.38108004e-02  1.44853964e-01  5.58964163e-02  1.86383091e-02\n",
      "   -8.58800113e-02 -4.38541360e-02]\n",
      "  [-3.52440923e-02 -9.36602503e-02 -3.11715826e-02 -4.43858182e-04\n",
      "    8.44762474e-02  2.23598592e-02]\n",
      "  [-6.65195957e-02 -8.06378573e-02 -4.88280654e-02 -2.58124620e-02\n",
      "    2.11611427e-02 -6.38953585e-04]\n",
      "  [-3.04949656e-03  5.30570038e-02  3.65763274e-03 -2.56725382e-02\n",
      "   -8.69938582e-02 -7.07281828e-02]\n",
      "  [ 1.74291749e-02  9.87923983e-03  4.88083198e-04 -1.08802086e-02\n",
      "   -2.42675263e-02 -3.81195769e-02]\n",
      "  [ 1.65288635e-02  2.57576685e-02  2.54800711e-02  2.78096311e-02\n",
      "    2.94737685e-02  3.08345053e-02]\n",
      "  [-4.22980599e-02 -4.97190841e-02 -2.63948180e-02 -1.05014788e-02\n",
      "    2.83693746e-02 -1.11979675e-02]\n",
      "  [-1.72472764e-02 -2.89804786e-02 -4.89822626e-02 -6.46444857e-02\n",
      "   -1.01597436e-01 -5.30723520e-02]\n",
      "  [-2.15311851e-02 -2.95517081e-03 -1.91696715e-02 -2.59518586e-02\n",
      "   -4.82017621e-02 -2.44647488e-02]\n",
      "  [-1.84029266e-02  1.39055289e-02 -1.24450668e-03 -7.82997347e-03\n",
      "   -2.13778429e-02 -3.02630253e-02]\n",
      "  [-2.43828278e-02 -2.13418715e-02 -1.33443496e-03  1.25613920e-02\n",
      "    4.95587252e-02  3.15032154e-03]]\n",
      "\n",
      " [[-6.17530793e-02 -8.73147622e-02 -3.00085191e-02  4.70439065e-03\n",
      "    8.80572945e-02  2.73319986e-02]\n",
      "  [-2.19351649e-02 -1.48567688e-02 -1.78728141e-02 -1.83679182e-02\n",
      "   -2.14173086e-02 -1.84154604e-02]\n",
      "  [ 2.95157228e-02  4.55747964e-03 -8.86587426e-03 -2.38321722e-02\n",
      "   -5.04262187e-02 -3.23184766e-02]\n",
      "  [-2.52431240e-02 -1.10803366e-01 -6.13608882e-02 -4.00976427e-02\n",
      "    1.30443852e-02 -1.18945434e-03]\n",
      "  [-1.00627001e-02 -3.03673018e-02 -2.28662565e-02 -2.21537091e-02\n",
      "   -1.44200083e-02 -2.65817773e-02]\n",
      "  [-1.55063197e-02  1.06630877e-01  4.67963032e-02  3.09808385e-02\n",
      "   -3.34657431e-02  1.86860859e-02]\n",
      "  [ 7.96786323e-03  6.87920079e-02  3.52616943e-02  1.95891932e-02\n",
      "   -1.17536513e-02 -2.94024441e-02]\n",
      "  [-3.52256792e-03 -1.36535172e-03  2.25265510e-03  6.56672521e-03\n",
      "    1.11661656e-02  1.82056837e-02]\n",
      "  [-2.68553682e-02 -1.11612998e-01 -6.68362603e-02 -4.71464768e-02\n",
      "   -2.61396240e-03 -4.83339973e-04]\n",
      "  [-7.23409206e-02 -1.48462385e-01 -6.46239892e-02 -1.71183720e-02\n",
      "    9.18628648e-02  3.59537862e-02]\n",
      "  [-4.84210737e-02 -1.47739977e-01 -4.70667295e-02  8.34679045e-03\n",
      "    1.35741428e-01  7.88002536e-02]\n",
      "  [-1.93068981e-02  9.42458864e-03  2.70716976e-02  4.50370088e-02\n",
      "    8.26649293e-02  3.60421240e-02]]\n",
      "\n",
      " [[-2.26835720e-03 -3.52960899e-02 -1.62268505e-02 -9.74301342e-03\n",
      "    1.69391483e-02 -2.44879480e-02]\n",
      "  [-3.30679002e-03  2.67022364e-02  9.59240738e-03  4.60058590e-03\n",
      "   -1.58954039e-02  4.72356239e-03]\n",
      "  [-5.98204555e-03 -1.05083324e-02  1.20124584e-02  3.13813239e-02\n",
      "    6.22457340e-02  6.76077828e-02]\n",
      "  [-4.99291085e-02 -8.47571716e-02 -4.19332683e-02 -1.37472879e-02\n",
      "    4.02008370e-02  3.70731205e-02]\n",
      "  [-2.28459518e-02  6.50039986e-02 -1.48754206e-03 -9.48478747e-03\n",
      "   -9.34653282e-02  1.62785184e-02]\n",
      "  [ 9.20999236e-03  9.26478058e-02  5.91911264e-02  4.78709042e-02\n",
      "    1.46551700e-02  3.21335644e-02]\n",
      "  [-7.29772355e-03  8.90641138e-02  2.24908385e-02 -7.11487792e-03\n",
      "   -9.15902182e-02 -3.07604168e-02]\n",
      "  [-4.76583540e-02 -7.70936236e-02 -3.55734937e-02 -5.12271421e-03\n",
      "    5.15847318e-02  3.44303772e-02]\n",
      "  [-4.18428332e-03 -1.34199724e-01 -7.62024969e-02 -5.73479906e-02\n",
      "   -9.79662989e-04 -1.19024608e-02]\n",
      "  [ 1.12968320e-02  3.30360755e-02  1.32407667e-02 -9.77945281e-04\n",
      "   -2.44383644e-02 -3.03805210e-02]\n",
      "  [ 2.74334699e-02 -6.90019131e-02 -1.43134955e-03  2.86293365e-02\n",
      "    1.11125134e-01  5.89800477e-02]\n",
      "  [ 3.30969715e-03 -2.71424670e-02  9.89132747e-03  3.37444618e-02\n",
      "    8.55469331e-02  5.10018729e-02]]\n",
      "\n",
      " [[-4.47465107e-02 -4.21712585e-02 -3.88244428e-02 -3.48084904e-02\n",
      "   -3.01250312e-02 -2.51572430e-02]\n",
      "  [-4.21421602e-03 -5.44052757e-02 -3.51274833e-02 -3.26443575e-02\n",
      "   -1.55203985e-02 -2.39086654e-02]\n",
      "  [-4.31990884e-02 -1.14864714e-01 -5.77269755e-02 -3.27405632e-02\n",
      "    3.77353020e-02 -5.46705723e-03]\n",
      "  [ 1.28902569e-02  5.69285005e-02  1.08272107e-02 -1.94804948e-02\n",
      "   -7.40907341e-02 -7.89402053e-02]\n",
      "  [-1.07637141e-02  9.85747874e-02  2.33125854e-02 -1.17050735e-02\n",
      "   -9.91630182e-02 -7.14023933e-02]\n",
      "  [-8.39703623e-03  7.63108134e-02  3.86885218e-02  2.40824688e-02\n",
      "   -8.19927547e-03 -2.62304470e-02]\n",
      "  [ 3.57193537e-02  4.04760279e-02  4.03118730e-02  4.15692590e-02\n",
      "    4.20566872e-02  4.46056202e-02]\n",
      "  [-3.58117409e-02 -1.04681782e-01 -2.51445696e-02  9.94327571e-03\n",
      "    1.17011696e-01  3.16589475e-02]\n",
      "  [-1.00788912e-02 -8.25482905e-02 -4.46095802e-02 -3.15660164e-02\n",
      "    1.13956491e-02 -2.37600394e-02]\n",
      "  [-4.17633802e-02 -4.37871851e-02 -4.62029651e-02 -4.93026488e-02\n",
      "   -5.25390618e-02 -5.74802570e-02]\n",
      "  [ 1.01115592e-02 -3.15455869e-02 -2.96104904e-02 -3.08221374e-02\n",
      "   -4.32354473e-02  1.68509278e-02]\n",
      "  [-4.42133695e-02 -4.18120436e-02 -3.92996520e-02 -3.60666253e-02\n",
      "   -3.24625149e-02 -2.84586195e-02]]\n",
      "\n",
      " [[-1.22044394e-02 -1.81764513e-02  1.13654911e-04  1.03519978e-02\n",
      "    3.76624390e-02  1.11114718e-02]\n",
      "  [ 2.08271053e-02  4.77500819e-02  1.34399906e-02 -1.81793154e-03\n",
      "   -5.14939465e-02  1.00330599e-02]\n",
      "  [ 7.80868670e-03 -8.59051347e-02 -2.79264580e-02 -8.09900556e-03\n",
      "    6.04044646e-02  2.22576060e-03]\n",
      "  [ 3.37026268e-02  1.22215860e-02 -1.27373729e-02 -3.31713706e-02\n",
      "   -7.89104328e-02 -2.22163480e-02]\n",
      "  [ 2.59256084e-02 -3.15302722e-02 -6.28963299e-03  1.67160912e-03\n",
      "    2.61508022e-02  1.13269156e-02]\n",
      "  [-3.10271848e-02 -1.46012688e-02 -1.83664672e-02 -1.69356279e-02\n",
      "   -1.95972491e-02 -1.20468792e-02]\n",
      "  [-1.33464520e-03 -3.33948107e-03 -6.61828555e-03 -1.04261851e-02\n",
      "   -1.49486130e-02 -1.93063878e-02]\n",
      "  [ 1.09856902e-03 -5.20866411e-03 -1.39860837e-02 -2.42366306e-02\n",
      "   -3.64005305e-02 -4.84052934e-02]\n",
      "  [-3.31960469e-02 -9.20099765e-02 -5.73200248e-02 -4.12368365e-02\n",
      "   -1.09469041e-03 -2.68481467e-02]\n",
      "  [-6.65324973e-03  6.66607916e-02  1.29751880e-02 -1.34348460e-02\n",
      "   -7.59744570e-02 -5.71543202e-02]\n",
      "  [ 5.37666818e-03 -5.03422357e-02 -1.70780476e-02  8.02152033e-04\n",
      "    3.28438506e-02  5.58557548e-02]\n",
      "  [-1.54006714e-02  5.73193394e-02 -5.53989084e-03 -3.33637446e-02\n",
      "   -1.13945723e-01 -4.45406362e-02]]\n",
      "\n",
      " [[ 4.23446596e-02  9.15433466e-02  1.65847670e-02 -2.76254937e-02\n",
      "   -1.31655157e-01 -6.33061156e-02]\n",
      "  [-2.84834742e-03 -4.52041924e-02 -1.27566177e-02  3.94027308e-03\n",
      "    4.16212454e-02  3.56477648e-02]\n",
      "  [-1.27436696e-02 -8.74261037e-02 -2.65360028e-02  2.72968831e-03\n",
      "    7.75827840e-02  4.24483791e-02]\n",
      "  [-2.52064429e-02 -3.96699877e-04 -2.71785688e-02 -3.27447280e-02\n",
      "   -7.70177245e-02  1.04933614e-02]\n",
      "  [ 6.23898953e-02  1.07698224e-01  5.41510135e-02  2.74754614e-02\n",
      "   -4.63452712e-02  1.10038752e-02]\n",
      "  [-1.41313812e-02 -7.09400475e-02 -1.86498910e-02  1.27134016e-02\n",
      "    7.80461356e-02  6.09335154e-02]\n",
      "  [ 2.86529958e-02  5.01225963e-02  2.50012726e-02  4.61705867e-03\n",
      "   -2.30622757e-02 -5.21884486e-02]\n",
      "  [-5.27874343e-02 -1.04770161e-01 -2.06675548e-02  1.17296400e-02\n",
      "    1.30220115e-01  2.50515938e-02]\n",
      "  [ 3.90680507e-03 -9.96217504e-02 -1.59566533e-02  2.14519277e-02\n",
      "    1.27150953e-01  5.35673052e-02]\n",
      "  [-2.69144494e-02 -3.69128920e-02 -3.26526538e-02 -2.97786202e-02\n",
      "   -2.73615792e-02 -1.55765805e-02]\n",
      "  [-5.08845551e-03  5.86870965e-03 -6.50219340e-03 -1.54557442e-02\n",
      "   -2.91181281e-02 -4.06147763e-02]\n",
      "  [ 2.87187304e-02  2.04616897e-02  1.72089841e-02  1.65158380e-02\n",
      "    6.18711207e-03  3.79058868e-02]]\n",
      "\n",
      " [[ 3.31449206e-03 -4.00108146e-03  1.29612011e-03  3.47341108e-03\n",
      "    1.15215322e-02 -3.34167853e-03]\n",
      "  [ 1.91405918e-02  1.50922999e-01  5.54432683e-02  1.08720213e-02\n",
      "   -1.00405954e-01 -6.64190948e-02]\n",
      "  [-3.83592938e-04 -7.89511669e-03 -1.73218511e-02 -2.87131034e-02\n",
      "   -4.17771153e-02 -5.63035235e-02]\n",
      "  [-1.90546717e-02 -8.47440585e-02 -2.95330603e-02 -4.50816099e-03\n",
      "    6.35830909e-02  2.44424790e-02]\n",
      "  [ 8.22916161e-03 -1.15707889e-03  5.75785385e-03  9.98312887e-03\n",
      "    1.69450231e-02  2.23348439e-02]\n",
      "  [-1.17803477e-02  9.06200334e-03 -5.13309520e-03 -8.30509607e-03\n",
      "   -2.71899942e-02  5.23962430e-04]\n",
      "  [ 3.20489914e-03  8.87836739e-02  4.39932980e-02  2.66046301e-02\n",
      "   -1.92307923e-02 -8.30590632e-03]\n",
      "  [-5.65841906e-02 -1.36469260e-01 -7.33440518e-02 -4.56434675e-02\n",
      "    3.04887537e-02 -9.90767684e-03]\n",
      "  [-7.83872139e-03  5.89077768e-04 -1.65197998e-02 -3.02570853e-02\n",
      "   -5.07962480e-02 -6.40961677e-02]\n",
      "  [ 1.22731430e-02 -3.43455933e-02  1.92303210e-03  1.79770235e-02\n",
      "    6.53737932e-02  1.65415481e-02]\n",
      "  [ 1.56159261e-02 -8.01557079e-02  3.29871941e-03  3.83618958e-02\n",
      "    1.43739209e-01  6.68186843e-02]\n",
      "  [-5.07984087e-02 -5.00057377e-02 -1.41684664e-02  1.40492646e-02\n",
      "    6.54145256e-02  5.78143932e-02]]\n",
      "\n",
      " [[ 1.64175294e-02  5.98082654e-02 -9.24102310e-03 -4.62894328e-02\n",
      "   -1.42649189e-01 -4.95510697e-02]\n",
      "  [ 5.08857258e-02  1.14344366e-01  4.06485982e-02  4.48958599e-04\n",
      "   -9.52320620e-02 -3.29729877e-02]\n",
      "  [ 3.40345167e-02  1.09368779e-01  3.10254283e-02 -1.19727235e-02\n",
      "   -1.08957931e-01 -7.09326714e-02]\n",
      "  [-1.90338455e-02 -2.00247187e-02 -3.99116613e-02 -5.40541373e-02\n",
      "   -8.95984173e-02 -4.08394411e-02]\n",
      "  [ 4.05003577e-02  6.85297623e-02  1.83606502e-02 -8.12813360e-03\n",
      "   -8.01809579e-02 -1.09091075e-02]\n",
      "  [ 3.07943264e-04  1.09637191e-03  7.25681381e-03  1.35755856e-02\n",
      "    2.14070920e-02  2.94620134e-02]\n",
      "  [ 3.32633895e-03 -1.01421950e-02  1.74780805e-02  3.68688107e-02\n",
      "    7.30002895e-02  6.71208128e-02]\n",
      "  [-3.25081241e-03  3.25009553e-03 -2.49169040e-02 -4.47242968e-02\n",
      "   -8.39774236e-02 -6.87904805e-02]\n",
      "  [-5.07226475e-02 -1.24127798e-01 -5.24752401e-02 -1.11308908e-02\n",
      "    7.45085999e-02  5.81085607e-02]\n",
      "  [-2.68993024e-02 -1.04784101e-01 -4.85197939e-02 -2.64122430e-02\n",
      "    4.13663350e-02 -1.34866843e-02]\n",
      "  [-4.17627096e-02 -1.13357648e-01 -5.96594401e-02 -2.85195801e-02\n",
      "    2.96406318e-02  4.02154513e-02]\n",
      "  [ 2.14703418e-02  6.61792457e-02  4.71371077e-02  4.30547930e-02\n",
      "    2.55351570e-02  3.14619392e-02]]]\n",
      "\n",
      "  [ Layer 1 (KANLayer) ] \n",
      " \n",
      " > Coefficients Shape: (12, 1, 6)\n",
      "  > Coefficients List (전체 파라미터)\n",
      "[[[ 0.08907291  0.08921359  0.08936543  0.08953257  0.08970001\n",
      "    0.08984946]]\n",
      "\n",
      " [[ 0.08696669  0.08593379  0.08507872  0.08416831  0.08338225\n",
      "    0.08241697]]\n",
      "\n",
      " [[-0.00220217 -0.00197241 -0.00178612 -0.00157667 -0.00138708\n",
      "   -0.0011454 ]]\n",
      "\n",
      " [[ 0.07329201  0.07378384  0.07418844  0.07466502  0.07511753\n",
      "    0.07567424]]\n",
      "\n",
      " [[ 0.06427623  0.06352478  0.06289636  0.06223748  0.06167421\n",
      "    0.06097875]]\n",
      "\n",
      " [[ 0.08935224  0.08819708  0.08723979  0.08623528  0.08538372\n",
      "    0.08432975]]\n",
      "\n",
      " [[ 0.02647281  0.02589252  0.0254299   0.02492536  0.02450004\n",
      "    0.02391649]]\n",
      "\n",
      " [[ 0.02917205  0.02982729  0.03037429  0.03095376  0.03145642\n",
      "    0.03207628]]\n",
      "\n",
      " [[ 0.07553022  0.07722759  0.07861206  0.0801318   0.08146484\n",
      "    0.08312638]]\n",
      "\n",
      " [[-0.01019343 -0.01010836 -0.01005216 -0.0099877  -0.00993165\n",
      "   -0.00986767]]\n",
      "\n",
      " [[ 0.09145338  0.09257445  0.0934832   0.0945187   0.09546269\n",
      "    0.09662341]]\n",
      "\n",
      " [[ 0.07795397  0.0769667   0.07615926  0.07528931  0.07453954\n",
      "    0.07360769]]]\n"
     ]
    }
   ],
   "source": [
    "import numpy as np\n",
    "import torch\n",
    "\n",
    "def print_parameters(model):\n",
    "  \n",
    "    \n",
    "    target_layers = None\n",
    "    model_type_name = type(model).__name__   # class 이름 알려주기  -- 보통 MultKIKAN이다\n",
    "    \n",
    "    print(f\"(감지된 모델 타입: {model_type_name})\")\n",
    "    \n",
    "\n",
    "\n",
    "   \n",
    "    if model_type_name == 'MultKAN':\n",
    "        target_layers = model.act_fun\n",
    "    elif model_type_name == 'KAN':\n",
    "        target_layers = model.layers\n",
    "    else:\n",
    "        print(f\"[에러] 지원되지 않는 모델 타입입니다: {model_type_name}\")\n",
    "        return\n",
    "\n",
    "\n",
    "\n",
    "\n",
    "\n",
    "    # layer 자체의 coef 속성에 직접 접근합니다.\n",
    "    for i, layer in enumerate(target_layers):                        # enumerate 는 layer의 원소와 이름을 쌍으로 가져옴   # (0, 첫번째 레이어), (1, 두번째 레이어), ...\n",
    "\n",
    "        print(f\"\\n  [ Layer {i} ({type(layer).__name__}) ] \")\n",
    "        \n",
    "        # 'KANLayer' 객체(layer)가 가진 .coef 속성을 직접 가져옵니다.\n",
    "        # 이로써 내부 for문이 완전히 사라지고 코드가 더 간결해졌습니다.\n",
    "        coeffs = layer.coef.detach().cpu().numpy()\n",
    "        \n",
    "        print(f\" \\n > Coefficients Shape: {coeffs.shape}\")\n",
    "        print(f\"  > Coefficients List (전체 파라미터)\")\n",
    "        print(f\"{coeffs}\")  # 이게 파라미터들의 리스트\n",
    "            \n",
    "    \n",
    "\n",
    "# 이 최종 완성된 함수를 실행합니다.\n",
    "print_parameters(model)\n",
    "\n",
    "# [팁] 파라미터 리스트가 너무 길어서 [...]로 생략된다면,NumPy의 출력 옵션을 설정하여 전체 배열을 볼 수 있음\n",
    "# np.set_printoptions(threshold=np.inf)\n",
    "\n",
    "\n"
   ]
  },
  {
   "cell_type": "raw",
   "id": "97aa8bd6",
   "metadata": {
    "vscode": {
     "languageId": "raw"
    }
   },
   "source": [
    "#pruning\n",
    "model = model.prune(node_th=1e-2, edge_th=3e-2)  # 더 자르고 싶으면 값을 높이고, 덜 자르고 변수를 많이 있게 하고 싶으면 값을 낮추기\n",
    "model.plot()"
   ]
  },
  {
   "cell_type": "code",
   "execution_count": 15,
   "id": "52219276",
   "metadata": {},
   "outputs": [
    {
     "name": "stderr",
     "output_type": "stream",
     "text": [
      "| train_loss: 3.58e-03 | test_loss: 5.63e-03 | reg: 8.75e+00 | : 100%|█| 100/100 [00:44<00:00,  2.25\n"
     ]
    },
    {
     "name": "stdout",
     "output_type": "stream",
     "text": [
      "saving model version 0.2\n"
     ]
    },
    {
     "data": {
      "image/png": "[encoded data removed]",
      "text/plain": [
       "<Figure size 500x400 with 122 Axes>"
      ]
     },
     "metadata": {},
     "output_type": "display_data"
    }
   ],
   "source": [
    "#학습\n",
    "model.fit(dataset, opt=\"LBFGS\", steps=100)  # update_grid = 가 False일때랑 True일때의 차이는?\n",
    "model.plot()"
   ]
  },
  {
   "cell_type": "markdown",
   "id": "6d477e33",
   "metadata": {},
   "source": [
    "step10. KAN refine(grid extension) 후 재학습"
   ]
  },
  {
   "cell_type": "code",
   "execution_count": 16,
   "id": "29921454",
   "metadata": {},
   "outputs": [
    {
     "name": "stdout",
     "output_type": "stream",
     "text": [
      "saving model version 0.3\n"
     ]
    },
    {
     "name": "stderr",
     "output_type": "stream",
     "text": [
      "| train_loss: 7.33e-03 | test_loss: 1.37e-02 | reg: 5.69e+00 | : 100%|█| 50/50 [00:37<00:00,  1.32it\n"
     ]
    },
    {
     "name": "stdout",
     "output_type": "stream",
     "text": [
      "saving model version 0.4\n"
     ]
    },
    {
     "data": {
      "image/png": "[encoded data removed]",
      "text/plain": [
       "<Figure size 500x400 with 122 Axes>"
      ]
     },
     "metadata": {},
     "output_type": "display_data"
    }
   ],
   "source": [
    "# refine(grid extension) 그리드 세분화(구간 세분화)(전체 구간 개수 30개로 변화)\n",
    "model = model.refine(30)\n",
    "model.fit(dataset, opt=\"LBFGS\", steps=50)\n",
    "model.plot()"
   ]
  },
  {
   "cell_type": "markdown",
   "id": "445c58e6",
   "metadata": {},
   "source": [
    "step11. KAN symbolification"
   ]
  },
  {
   "cell_type": "code",
   "execution_count": 17,
   "id": "666a6d8c",
   "metadata": {},
   "outputs": [
    {
     "name": "stdout",
     "output_type": "stream",
     "text": [
      "fixing (0,0,0) with 0, r2=0.0, c=0\n",
      "fixing (0,0,1) with 0, r2=0.0, c=0\n",
      "fixing (0,0,2) with 0, r2=0.0, c=0\n",
      "fixing (0,0,3) with 0, r2=0.0, c=0\n",
      "fixing (0,0,4) with 0, r2=0.0, c=0\n",
      "fixing (0,0,5) with 0, r2=0.0, c=0\n",
      "fixing (0,0,6) with 0, r2=0.0, c=0\n",
      "fixing (0,0,7) with 0, r2=0.0, c=0\n",
      "fixing (0,0,8) with x, r2=0.9963113069534302, c=1\n",
      "fixing (0,0,9) with 0, r2=0.0, c=0\n",
      "fixing (0,0,10) with x, r2=0.9723721742630005, c=1\n",
      "fixing (0,0,11) with x, r2=0.9966227412223816, c=1\n",
      "fixing (0,1,0) with 0, r2=0.0, c=0\n",
      "fixing (0,1,1) with 0, r2=0.0, c=0\n",
      "fixing (0,1,2) with sin, r2=0.9964920878410339, c=2\n",
      "fixing (0,1,3) with 0, r2=0.0, c=0\n",
      "fixing (0,1,4) with 0, r2=0.0, c=0\n",
      "fixing (0,1,5) with 0, r2=0.0, c=0\n",
      "fixing (0,1,6) with 0, r2=0.0, c=0\n",
      "fixing (0,1,7) with 0, r2=0.0, c=0\n",
      "fixing (0,1,8) with x, r2=0.9634755849838257, c=1\n",
      "fixing (0,1,9) with 0, r2=0.0, c=0\n",
      "fixing (0,1,10) with 0, r2=0.0, c=0\n",
      "fixing (0,1,11) with x, r2=0.9868506193161011, c=1\n",
      "fixing (0,2,0) with 0, r2=0.0, c=0\n",
      "fixing (0,2,1) with x, r2=0.9454939961433411, c=1\n",
      "fixing (0,2,2) with 0, r2=0.0, c=0\n",
      "fixing (0,2,3) with 0, r2=0.0, c=0\n",
      "fixing (0,2,4) with 0, r2=0.0, c=0\n",
      "fixing (0,2,5) with 0, r2=0.0, c=0\n",
      "fixing (0,2,6) with 0, r2=0.0, c=0\n",
      "fixing (0,2,7) with 0, r2=0.0, c=0\n",
      "fixing (0,2,8) with x, r2=0.9588239789009094, c=1\n",
      "fixing (0,2,9) with 0, r2=0.0, c=0\n",
      "fixing (0,2,10) with 0, r2=0.0, c=0\n",
      "fixing (0,2,11) with x, r2=0.9551977515220642, c=1\n",
      "fixing (0,3,0) with 0, r2=0.0, c=0\n",
      "fixing (0,3,1) with sin, r2=0.9990290999412537, c=2\n",
      "fixing (0,3,2) with 0, r2=0.0, c=0\n",
      "fixing (0,3,3) with x, r2=0.9387803077697754, c=1\n",
      "fixing (0,3,4) with x, r2=0.9723638892173767, c=1\n",
      "fixing (0,3,5) with 0, r2=0.0, c=0\n",
      "fixing (0,3,6) with x, r2=0.9682539105415344, c=1\n",
      "fixing (0,3,7) with 0, r2=0.0, c=0\n",
      "fixing (0,3,8) with x, r2=0.9941213726997375, c=1\n",
      "fixing (0,3,9) with x, r2=0.9670944213867188, c=1\n",
      "fixing (0,3,10) with x, r2=0.9689019322395325, c=1\n",
      "fixing (0,3,11) with x, r2=0.9970839619636536, c=1\n",
      "fixing (0,4,0) with 0, r2=0.0, c=0\n",
      "fixing (0,4,1) with x, r2=0.9623247385025024, c=1\n",
      "fixing (0,4,2) with 0, r2=0.0, c=0\n",
      "fixing (0,4,3) with 0, r2=0.0, c=0\n",
      "fixing (0,4,4) with 0, r2=0.0, c=0\n",
      "fixing (0,4,5) with 0, r2=0.0, c=0\n",
      "fixing (0,4,6) with 0, r2=0.0, c=0\n",
      "fixing (0,4,7) with 0, r2=0.0, c=0\n",
      "fixing (0,4,8) with x, r2=0.9932361245155334, c=1\n",
      "fixing (0,4,9) with 0, r2=0.0, c=0\n",
      "fixing (0,4,10) with 0, r2=0.0, c=0\n",
      "fixing (0,4,11) with x, r2=0.984865665435791, c=1\n",
      "fixing (0,5,0) with 0, r2=0.0, c=0\n",
      "fixing (0,5,1) with x, r2=0.9843211770057678, c=1\n",
      "fixing (0,5,2) with 0, r2=0.0, c=0\n",
      "fixing (0,5,3) with 0, r2=0.0, c=0\n",
      "fixing (0,5,4) with 0, r2=0.0, c=0\n",
      "fixing (0,5,5) with 0, r2=0.0, c=0\n",
      "fixing (0,5,6) with 0, r2=0.0, c=0\n",
      "fixing (0,5,7) with 0, r2=0.0, c=0\n",
      "fixing (0,5,8) with x, r2=0.99237459897995, c=1\n",
      "fixing (0,5,9) with 0, r2=0.0, c=0\n",
      "fixing (0,5,10) with 0, r2=0.0, c=0\n",
      "fixing (0,5,11) with x, r2=0.9977951049804688, c=1\n",
      "fixing (0,6,0) with 0, r2=0.0, c=0\n",
      "fixing (0,6,1) with 0, r2=0.0, c=0\n",
      "fixing (0,6,2) with 0, r2=0.0, c=0\n",
      "fixing (0,6,3) with 0, r2=0.0, c=0\n",
      "fixing (0,6,4) with x, r2=0.9741434454917908, c=1\n",
      "fixing (0,6,5) with 0, r2=0.0, c=0\n",
      "fixing (0,6,6) with 0, r2=0.0, c=0\n",
      "fixing (0,6,7) with 0, r2=0.0, c=0\n",
      "fixing (0,6,8) with x, r2=0.9936842322349548, c=1\n",
      "fixing (0,6,9) with 0, r2=0.0, c=0\n",
      "fixing (0,6,10) with 0, r2=0.0, c=0\n",
      "fixing (0,6,11) with x, r2=0.9934499859809875, c=1\n",
      "fixing (0,7,0) with 0, r2=0.0, c=0\n",
      "fixing (0,7,1) with 0, r2=0.0, c=0\n",
      "fixing (0,7,2) with 0, r2=0.0, c=0\n",
      "fixing (0,7,3) with 0, r2=0.0, c=0\n",
      "fixing (0,7,4) with 0, r2=0.0, c=0\n",
      "fixing (0,7,5) with 0, r2=0.0, c=0\n",
      "fixing (0,7,6) with 0, r2=0.0, c=0\n",
      "fixing (0,7,7) with 0, r2=0.0, c=0\n",
      "fixing (0,7,8) with x, r2=0.9921069741249084, c=1\n",
      "fixing (0,7,9) with 0, r2=0.0, c=0\n",
      "fixing (0,7,10) with x, r2=0.9598731994628906, c=1\n",
      "fixing (0,7,11) with x, r2=0.996947705745697, c=1\n",
      "fixing (1,0,0) with 0, r2=0.0, c=0\n",
      "fixing (1,1,0) with 0, r2=0.0, c=0\n",
      "fixing (1,2,0) with 0, r2=0.0, c=0\n",
      "fixing (1,3,0) with 0, r2=0.0, c=0\n",
      "fixing (1,4,0) with 0, r2=0.0, c=0\n",
      "fixing (1,5,0) with 0, r2=0.0, c=0\n",
      "fixing (1,6,0) with 0, r2=0.0, c=0\n",
      "fixing (1,7,0) with 0, r2=0.0, c=0\n",
      "fixing (1,8,0) with x, r2=0.9631980061531067, c=1\n",
      "fixing (1,9,0) with 0, r2=0.0, c=0\n",
      "fixing (1,10,0) with 0, r2=0.0, c=0\n",
      "fixing (1,11,0) with 0, r2=0.0, c=0\n",
      "saving model version 0.5\n"
     ]
    }
   ],
   "source": [
    "# 자동 모드로 심볼릭 회귀 수행\n",
    "lib = ['x', 'x^2', 'x^3', 'x^4', 'exp', 'log', 'sqrt', 'tanh', 'sin', '0']   #'x^(-1)', 'x^(-2)', 'x^(-3)', 'x^(-4)'\n",
    "model.auto_symbolic(lib=lib)\n"
   ]
  },
  {
   "cell_type": "code",
   "execution_count": 18,
   "id": "eb7e1c7e",
   "metadata": {},
   "outputs": [
    {
     "name": "stderr",
     "output_type": "stream",
     "text": [
      "| train_loss: nan | test_loss: nan | reg: nan | : 100%|███████████████| 4/4 [00:08<00:00,  2.08s/it]\n"
     ]
    },
    {
     "name": "stdout",
     "output_type": "stream",
     "text": [
      "saving model version 0.6\n"
     ]
    },
    {
     "ename": "ValueError",
     "evalue": "alpha (nan) is outside 0-1 range",
     "output_type": "error",
     "traceback": [
      "\u001b[31m---------------------------------------------------------------------------\u001b[39m",
      "\u001b[31mValueError\u001b[39m                                Traceback (most recent call last)",
      "\u001b[36mCell\u001b[39m\u001b[36m \u001b[39m\u001b[32mIn[18]\u001b[39m\u001b[32m, line 3\u001b[39m\n\u001b[32m      1\u001b[39m \u001b[38;5;66;03m# symbolic 함수로 대체 후 학습\u001b[39;00m\n\u001b[32m      2\u001b[39m model.fit(dataset, opt=\u001b[33m\"\u001b[39m\u001b[33mLBFGS\u001b[39m\u001b[33m\"\u001b[39m, steps=\u001b[32m4\u001b[39m)\n\u001b[32m----> \u001b[39m\u001b[32m3\u001b[39m \u001b[43mmodel\u001b[49m\u001b[43m.\u001b[49m\u001b[43mplot\u001b[49m\u001b[43m(\u001b[49m\u001b[43m)\u001b[49m\n",
      "\u001b[36mFile \u001b[39m\u001b[32m~\\Desktop\\KAN_python\\pykan-master\\kan\\MultKAN.py:1202\u001b[39m, in \u001b[36mMultKAN.plot\u001b[39m\u001b[34m(self, folder, beta, metric, scale, tick, sample, in_vars, out_vars, title, varscale)\u001b[39m\n\u001b[32m   1199\u001b[39m                 color = \u001b[33m\"\u001b[39m\u001b[33mwhite\u001b[39m\u001b[33m\"\u001b[39m\n\u001b[32m   1200\u001b[39m                 alpha_mask = \u001b[32m0.\u001b[39m\n\u001b[32m-> \u001b[39m\u001b[32m1202\u001b[39m             \u001b[43mplt\u001b[49m\u001b[43m.\u001b[49m\u001b[43mplot\u001b[49m\u001b[43m(\u001b[49m\u001b[43m[\u001b[49m\u001b[32;43m1\u001b[39;49m\u001b[43m \u001b[49m\u001b[43m/\u001b[49m\u001b[43m \u001b[49m\u001b[43m(\u001b[49m\u001b[32;43m2\u001b[39;49m\u001b[43m \u001b[49m\u001b[43m*\u001b[49m\u001b[43m \u001b[49m\u001b[43mn\u001b[49m\u001b[43m)\u001b[49m\u001b[43m \u001b[49m\u001b[43m+\u001b[49m\u001b[43m \u001b[49m\u001b[43mi\u001b[49m\u001b[43m \u001b[49m\u001b[43m/\u001b[49m\u001b[43m \u001b[49m\u001b[43mn\u001b[49m\u001b[43m,\u001b[49m\u001b[43m \u001b[49m\u001b[32;43m1\u001b[39;49m\u001b[43m \u001b[49m\u001b[43m/\u001b[49m\u001b[43m \u001b[49m\u001b[43m(\u001b[49m\u001b[32;43m2\u001b[39;49m\u001b[43m \u001b[49m\u001b[43m*\u001b[49m\u001b[43m \u001b[49m\u001b[43mN\u001b[49m\u001b[43m)\u001b[49m\u001b[43m \u001b[49m\u001b[43m+\u001b[49m\u001b[43m \u001b[49m\u001b[43mid_\u001b[49m\u001b[43m \u001b[49m\u001b[43m/\u001b[49m\u001b[43m \u001b[49m\u001b[43mN\u001b[49m\u001b[43m]\u001b[49m\u001b[43m,\u001b[49m\u001b[43m \u001b[49m\u001b[43m[\u001b[49m\u001b[43ml\u001b[49m\u001b[43m \u001b[49m\u001b[43m*\u001b[49m\u001b[43m \u001b[49m\u001b[43m(\u001b[49m\u001b[43my0\u001b[49m\u001b[43m+\u001b[49m\u001b[43mz0\u001b[49m\u001b[43m)\u001b[49m\u001b[43m,\u001b[49m\u001b[43m \u001b[49m\u001b[43ml\u001b[49m\u001b[43m \u001b[49m\u001b[43m*\u001b[49m\u001b[43m \u001b[49m\u001b[43m(\u001b[49m\u001b[43my0\u001b[49m\u001b[43m+\u001b[49m\u001b[43mz0\u001b[49m\u001b[43m)\u001b[49m\u001b[43m \u001b[49m\u001b[43m+\u001b[49m\u001b[43m \u001b[49m\u001b[43my0\u001b[49m\u001b[43m/\u001b[49m\u001b[32;43m2\u001b[39;49m\u001b[43m \u001b[49m\u001b[43m-\u001b[49m\u001b[43m \u001b[49m\u001b[43my1\u001b[49m\u001b[43m]\u001b[49m\u001b[43m,\u001b[49m\u001b[43m \u001b[49m\u001b[43mcolor\u001b[49m\u001b[43m=\u001b[49m\u001b[43mcolor\u001b[49m\u001b[43m,\u001b[49m\u001b[43m \u001b[49m\u001b[43mlw\u001b[49m\u001b[43m=\u001b[49m\u001b[32;43m2\u001b[39;49m\u001b[43m \u001b[49m\u001b[43m*\u001b[49m\u001b[43m \u001b[49m\u001b[43mscale\u001b[49m\u001b[43m,\u001b[49m\u001b[43m \u001b[49m\u001b[43malpha\u001b[49m\u001b[43m=\u001b[49m\u001b[43malpha\u001b[49m\u001b[43m[\u001b[49m\u001b[43ml\u001b[49m\u001b[43m]\u001b[49m\u001b[43m[\u001b[49m\u001b[43mj\u001b[49m\u001b[43m]\u001b[49m\u001b[43m[\u001b[49m\u001b[43mi\u001b[49m\u001b[43m]\u001b[49m\u001b[43m \u001b[49m\u001b[43m*\u001b[49m\u001b[43m \u001b[49m\u001b[43malpha_mask\u001b[49m\u001b[43m)\u001b[49m\n\u001b[32m   1203\u001b[39m             plt.plot([\u001b[32m1\u001b[39m / (\u001b[32m2\u001b[39m * N) + id_ / N, \u001b[32m1\u001b[39m / (\u001b[32m2\u001b[39m * n_next) + j / n_next], [l * (y0+z0) + y0/\u001b[32m2\u001b[39m + y1, l * (y0+z0)+y0], color=color, lw=\u001b[32m2\u001b[39m * scale, alpha=alpha[l][j][i] * alpha_mask)\n\u001b[32m   1206\u001b[39m \u001b[38;5;66;03m# plot connections (pre-mult to post-mult, post-mult = next-layer input)\u001b[39;00m\n",
      "\u001b[36mFile \u001b[39m\u001b[32mc:\\Users\\kepco201\\Desktop\\KAN_python\\pykan-master\\venv\\Lib\\site-packages\\matplotlib\\pyplot.py:3838\u001b[39m, in \u001b[36mplot\u001b[39m\u001b[34m(scalex, scaley, data, *args, **kwargs)\u001b[39m\n\u001b[32m   3830\u001b[39m \u001b[38;5;129m@_copy_docstring_and_deprecators\u001b[39m(Axes.plot)\n\u001b[32m   3831\u001b[39m \u001b[38;5;28;01mdef\u001b[39;00m\u001b[38;5;250m \u001b[39m\u001b[34mplot\u001b[39m(\n\u001b[32m   3832\u001b[39m     *args: \u001b[38;5;28mfloat\u001b[39m | ArrayLike | \u001b[38;5;28mstr\u001b[39m,\n\u001b[32m   (...)\u001b[39m\u001b[32m   3836\u001b[39m     **kwargs,\n\u001b[32m   3837\u001b[39m ) -> \u001b[38;5;28mlist\u001b[39m[Line2D]:\n\u001b[32m-> \u001b[39m\u001b[32m3838\u001b[39m     \u001b[38;5;28;01mreturn\u001b[39;00m \u001b[43mgca\u001b[49m\u001b[43m(\u001b[49m\u001b[43m)\u001b[49m\u001b[43m.\u001b[49m\u001b[43mplot\u001b[49m\u001b[43m(\u001b[49m\n\u001b[32m   3839\u001b[39m \u001b[43m        \u001b[49m\u001b[43m*\u001b[49m\u001b[43margs\u001b[49m\u001b[43m,\u001b[49m\n\u001b[32m   3840\u001b[39m \u001b[43m        \u001b[49m\u001b[43mscalex\u001b[49m\u001b[43m=\u001b[49m\u001b[43mscalex\u001b[49m\u001b[43m,\u001b[49m\n\u001b[32m   3841\u001b[39m \u001b[43m        \u001b[49m\u001b[43mscaley\u001b[49m\u001b[43m=\u001b[49m\u001b[43mscaley\u001b[49m\u001b[43m,\u001b[49m\n\u001b[32m   3842\u001b[39m \u001b[43m        \u001b[49m\u001b[43m*\u001b[49m\u001b[43m*\u001b[49m\u001b[43m(\u001b[49m\u001b[43m{\u001b[49m\u001b[33;43m\"\u001b[39;49m\u001b[33;43mdata\u001b[39;49m\u001b[33;43m\"\u001b[39;49m\u001b[43m:\u001b[49m\u001b[43m \u001b[49m\u001b[43mdata\u001b[49m\u001b[43m}\u001b[49m\u001b[43m \u001b[49m\u001b[38;5;28;43;01mif\u001b[39;49;00m\u001b[43m \u001b[49m\u001b[43mdata\u001b[49m\u001b[43m \u001b[49m\u001b[38;5;129;43;01mis\u001b[39;49;00m\u001b[43m \u001b[49m\u001b[38;5;129;43;01mnot\u001b[39;49;00m\u001b[43m \u001b[49m\u001b[38;5;28;43;01mNone\u001b[39;49;00m\u001b[43m \u001b[49m\u001b[38;5;28;43;01melse\u001b[39;49;00m\u001b[43m \u001b[49m\u001b[43m{\u001b[49m\u001b[43m}\u001b[49m\u001b[43m)\u001b[49m\u001b[43m,\u001b[49m\n\u001b[32m   3843\u001b[39m \u001b[43m        \u001b[49m\u001b[43m*\u001b[49m\u001b[43m*\u001b[49m\u001b[43mkwargs\u001b[49m\u001b[43m,\u001b[49m\n\u001b[32m   3844\u001b[39m \u001b[43m    \u001b[49m\u001b[43m)\u001b[49m\n",
      "\u001b[36mFile \u001b[39m\u001b[32mc:\\Users\\kepco201\\Desktop\\KAN_python\\pykan-master\\venv\\Lib\\site-packages\\matplotlib\\axes\\_axes.py:1777\u001b[39m, in \u001b[36mAxes.plot\u001b[39m\u001b[34m(self, scalex, scaley, data, *args, **kwargs)\u001b[39m\n\u001b[32m   1534\u001b[39m \u001b[38;5;250m\u001b[39m\u001b[33;03m\"\"\"\u001b[39;00m\n\u001b[32m   1535\u001b[39m \u001b[33;03mPlot y versus x as lines and/or markers.\u001b[39;00m\n\u001b[32m   1536\u001b[39m \n\u001b[32m   (...)\u001b[39m\u001b[32m   1774\u001b[39m \u001b[33;03m(``'green'``) or hex strings (``'#008000'``).\u001b[39;00m\n\u001b[32m   1775\u001b[39m \u001b[33;03m\"\"\"\u001b[39;00m\n\u001b[32m   1776\u001b[39m kwargs = cbook.normalize_kwargs(kwargs, mlines.Line2D)\n\u001b[32m-> \u001b[39m\u001b[32m1777\u001b[39m lines = [*\u001b[38;5;28mself\u001b[39m._get_lines(\u001b[38;5;28mself\u001b[39m, *args, data=data, **kwargs)]\n\u001b[32m   1778\u001b[39m \u001b[38;5;28;01mfor\u001b[39;00m line \u001b[38;5;129;01min\u001b[39;00m lines:\n\u001b[32m   1779\u001b[39m     \u001b[38;5;28mself\u001b[39m.add_line(line)\n",
      "\u001b[36mFile \u001b[39m\u001b[32mc:\\Users\\kepco201\\Desktop\\KAN_python\\pykan-master\\venv\\Lib\\site-packages\\matplotlib\\axes\\_base.py:297\u001b[39m, in \u001b[36m_process_plot_var_args.__call__\u001b[39m\u001b[34m(self, axes, data, return_kwargs, *args, **kwargs)\u001b[39m\n\u001b[32m    295\u001b[39m     this += args[\u001b[32m0\u001b[39m],\n\u001b[32m    296\u001b[39m     args = args[\u001b[32m1\u001b[39m:]\n\u001b[32m--> \u001b[39m\u001b[32m297\u001b[39m \u001b[38;5;28;01myield from\u001b[39;00m \u001b[38;5;28;43mself\u001b[39;49m\u001b[43m.\u001b[49m\u001b[43m_plot_args\u001b[49m\u001b[43m(\u001b[49m\n\u001b[32m    298\u001b[39m \u001b[43m    \u001b[49m\u001b[43maxes\u001b[49m\u001b[43m,\u001b[49m\u001b[43m \u001b[49m\u001b[43mthis\u001b[49m\u001b[43m,\u001b[49m\u001b[43m \u001b[49m\u001b[43mkwargs\u001b[49m\u001b[43m,\u001b[49m\u001b[43m \u001b[49m\u001b[43mambiguous_fmt_datakey\u001b[49m\u001b[43m=\u001b[49m\u001b[43mambiguous_fmt_datakey\u001b[49m\u001b[43m,\u001b[49m\n\u001b[32m    299\u001b[39m \u001b[43m    \u001b[49m\u001b[43mreturn_kwargs\u001b[49m\u001b[43m=\u001b[49m\u001b[43mreturn_kwargs\u001b[49m\n\u001b[32m    300\u001b[39m \u001b[43m\u001b[49m\u001b[43m)\u001b[49m\n",
      "\u001b[36mFile \u001b[39m\u001b[32mc:\\Users\\kepco201\\Desktop\\KAN_python\\pykan-master\\venv\\Lib\\site-packages\\matplotlib\\axes\\_base.py:546\u001b[39m, in \u001b[36m_process_plot_var_args._plot_args\u001b[39m\u001b[34m(self, axes, tup, kwargs, return_kwargs, ambiguous_fmt_datakey)\u001b[39m\n\u001b[32m    544\u001b[39m     \u001b[38;5;28;01mreturn\u001b[39;00m \u001b[38;5;28mlist\u001b[39m(result)\n\u001b[32m    545\u001b[39m \u001b[38;5;28;01melse\u001b[39;00m:\n\u001b[32m--> \u001b[39m\u001b[32m546\u001b[39m     \u001b[38;5;28;01mreturn\u001b[39;00m \u001b[43m[\u001b[49m\u001b[43ml\u001b[49m\u001b[43m[\u001b[49m\u001b[32;43m0\u001b[39;49m\u001b[43m]\u001b[49m\u001b[43m \u001b[49m\u001b[38;5;28;43;01mfor\u001b[39;49;00m\u001b[43m \u001b[49m\u001b[43ml\u001b[49m\u001b[43m \u001b[49m\u001b[38;5;129;43;01min\u001b[39;49;00m\u001b[43m \u001b[49m\u001b[43mresult\u001b[49m\u001b[43m]\u001b[49m\n",
      "\u001b[36mFile \u001b[39m\u001b[32mc:\\Users\\kepco201\\Desktop\\KAN_python\\pykan-master\\venv\\Lib\\site-packages\\matplotlib\\axes\\_base.py:546\u001b[39m, in \u001b[36m<listcomp>\u001b[39m\u001b[34m(.0)\u001b[39m\n\u001b[32m    544\u001b[39m     \u001b[38;5;28;01mreturn\u001b[39;00m \u001b[38;5;28mlist\u001b[39m(result)\n\u001b[32m    545\u001b[39m \u001b[38;5;28;01melse\u001b[39;00m:\n\u001b[32m--> \u001b[39m\u001b[32m546\u001b[39m     \u001b[38;5;28;01mreturn\u001b[39;00m \u001b[43m[\u001b[49m\u001b[43ml\u001b[49m\u001b[43m[\u001b[49m\u001b[32;43m0\u001b[39;49m\u001b[43m]\u001b[49m\u001b[43m \u001b[49m\u001b[38;5;28;43;01mfor\u001b[39;49;00m\u001b[43m \u001b[49m\u001b[43ml\u001b[49m\u001b[43m \u001b[49m\u001b[38;5;129;43;01min\u001b[39;49;00m\u001b[43m \u001b[49m\u001b[43mresult\u001b[49m\u001b[43m]\u001b[49m\n",
      "\u001b[36mFile \u001b[39m\u001b[32mc:\\Users\\kepco201\\Desktop\\KAN_python\\pykan-master\\venv\\Lib\\site-packages\\matplotlib\\axes\\_base.py:539\u001b[39m, in \u001b[36m<genexpr>\u001b[39m\u001b[34m(.0)\u001b[39m\n\u001b[32m    534\u001b[39m \u001b[38;5;28;01melse\u001b[39;00m:\n\u001b[32m    535\u001b[39m     \u001b[38;5;28;01mraise\u001b[39;00m \u001b[38;5;167;01mValueError\u001b[39;00m(\n\u001b[32m    536\u001b[39m         \u001b[33mf\u001b[39m\u001b[33m\"\u001b[39m\u001b[33mlabel must be scalar or have the same length as the input \u001b[39m\u001b[33m\"\u001b[39m\n\u001b[32m    537\u001b[39m         \u001b[33mf\u001b[39m\u001b[33m\"\u001b[39m\u001b[33mdata, but found \u001b[39m\u001b[38;5;132;01m{\u001b[39;00m\u001b[38;5;28mlen\u001b[39m(label)\u001b[38;5;132;01m}\u001b[39;00m\u001b[33m for \u001b[39m\u001b[38;5;132;01m{\u001b[39;00mn_datasets\u001b[38;5;132;01m}\u001b[39;00m\u001b[33m datasets.\u001b[39m\u001b[33m\"\u001b[39m)\n\u001b[32m--> \u001b[39m\u001b[32m539\u001b[39m result = (\u001b[43mmake_artist\u001b[49m\u001b[43m(\u001b[49m\u001b[43maxes\u001b[49m\u001b[43m,\u001b[49m\u001b[43m \u001b[49m\u001b[43mx\u001b[49m\u001b[43m[\u001b[49m\u001b[43m:\u001b[49m\u001b[43m,\u001b[49m\u001b[43m \u001b[49m\u001b[43mj\u001b[49m\u001b[43m \u001b[49m\u001b[43m%\u001b[49m\u001b[43m \u001b[49m\u001b[43mncx\u001b[49m\u001b[43m]\u001b[49m\u001b[43m,\u001b[49m\u001b[43m \u001b[49m\u001b[43my\u001b[49m\u001b[43m[\u001b[49m\u001b[43m:\u001b[49m\u001b[43m,\u001b[49m\u001b[43m \u001b[49m\u001b[43mj\u001b[49m\u001b[43m \u001b[49m\u001b[43m%\u001b[49m\u001b[43m \u001b[49m\u001b[43mncy\u001b[49m\u001b[43m]\u001b[49m\u001b[43m,\u001b[49m\u001b[43m \u001b[49m\u001b[43mkw\u001b[49m\u001b[43m,\u001b[49m\n\u001b[32m    540\u001b[39m \u001b[43m                      \u001b[49m\u001b[43m{\u001b[49m\u001b[43m*\u001b[49m\u001b[43m*\u001b[49m\u001b[43mkwargs\u001b[49m\u001b[43m,\u001b[49m\u001b[43m \u001b[49m\u001b[33;43m'\u001b[39;49m\u001b[33;43mlabel\u001b[39;49m\u001b[33;43m'\u001b[39;49m\u001b[43m:\u001b[49m\u001b[43m \u001b[49m\u001b[43mlabel\u001b[49m\u001b[43m}\u001b[49m\u001b[43m)\u001b[49m\n\u001b[32m    541\u001b[39m           \u001b[38;5;28;01mfor\u001b[39;00m j, label \u001b[38;5;129;01min\u001b[39;00m \u001b[38;5;28menumerate\u001b[39m(labels))\n\u001b[32m    543\u001b[39m \u001b[38;5;28;01mif\u001b[39;00m return_kwargs:\n\u001b[32m    544\u001b[39m     \u001b[38;5;28;01mreturn\u001b[39;00m \u001b[38;5;28mlist\u001b[39m(result)\n",
      "\u001b[36mFile \u001b[39m\u001b[32mc:\\Users\\kepco201\\Desktop\\KAN_python\\pykan-master\\venv\\Lib\\site-packages\\matplotlib\\axes\\_base.py:338\u001b[39m, in \u001b[36m_process_plot_var_args._make_line\u001b[39m\u001b[34m(self, axes, x, y, kw, kwargs)\u001b[39m\n\u001b[32m    336\u001b[39m kw = {**kw, **kwargs}  \u001b[38;5;66;03m# Don't modify the original kw.\u001b[39;00m\n\u001b[32m    337\u001b[39m \u001b[38;5;28mself\u001b[39m._setdefaults(\u001b[38;5;28mself\u001b[39m._getdefaults(kw), kw)\n\u001b[32m--> \u001b[39m\u001b[32m338\u001b[39m seg = \u001b[43mmlines\u001b[49m\u001b[43m.\u001b[49m\u001b[43mLine2D\u001b[49m\u001b[43m(\u001b[49m\u001b[43mx\u001b[49m\u001b[43m,\u001b[49m\u001b[43m \u001b[49m\u001b[43my\u001b[49m\u001b[43m,\u001b[49m\u001b[43m \u001b[49m\u001b[43m*\u001b[49m\u001b[43m*\u001b[49m\u001b[43mkw\u001b[49m\u001b[43m)\u001b[49m\n\u001b[32m    339\u001b[39m \u001b[38;5;28;01mreturn\u001b[39;00m seg, kw\n",
      "\u001b[36mFile \u001b[39m\u001b[32mc:\\Users\\kepco201\\Desktop\\KAN_python\\pykan-master\\venv\\Lib\\site-packages\\matplotlib\\lines.py:421\u001b[39m, in \u001b[36mLine2D.__init__\u001b[39m\u001b[34m(self, xdata, ydata, linewidth, linestyle, color, gapcolor, marker, markersize, markeredgewidth, markeredgecolor, markerfacecolor, markerfacecoloralt, fillstyle, antialiased, dash_capstyle, solid_capstyle, dash_joinstyle, solid_joinstyle, pickradius, drawstyle, markevery, **kwargs)\u001b[39m\n\u001b[32m    417\u001b[39m \u001b[38;5;28mself\u001b[39m.set_markeredgewidth(markeredgewidth)\n\u001b[32m    419\u001b[39m \u001b[38;5;66;03m# update kwargs before updating data to give the caller a\u001b[39;00m\n\u001b[32m    420\u001b[39m \u001b[38;5;66;03m# chance to init axes (and hence unit support)\u001b[39;00m\n\u001b[32m--> \u001b[39m\u001b[32m421\u001b[39m \u001b[38;5;28;43mself\u001b[39;49m\u001b[43m.\u001b[49m\u001b[43m_internal_update\u001b[49m\u001b[43m(\u001b[49m\u001b[43mkwargs\u001b[49m\u001b[43m)\u001b[49m\n\u001b[32m    422\u001b[39m \u001b[38;5;28mself\u001b[39m.pickradius = pickradius\n\u001b[32m    423\u001b[39m \u001b[38;5;28mself\u001b[39m.ind_offset = \u001b[32m0\u001b[39m\n",
      "\u001b[36mFile \u001b[39m\u001b[32mc:\\Users\\kepco201\\Desktop\\KAN_python\\pykan-master\\venv\\Lib\\site-packages\\matplotlib\\artist.py:1233\u001b[39m, in \u001b[36mArtist._internal_update\u001b[39m\u001b[34m(self, kwargs)\u001b[39m\n\u001b[32m   1226\u001b[39m \u001b[38;5;28;01mdef\u001b[39;00m\u001b[38;5;250m \u001b[39m\u001b[34m_internal_update\u001b[39m(\u001b[38;5;28mself\u001b[39m, kwargs):\n\u001b[32m   1227\u001b[39m \u001b[38;5;250m    \u001b[39m\u001b[33;03m\"\"\"\u001b[39;00m\n\u001b[32m   1228\u001b[39m \u001b[33;03m    Update artist properties without prenormalizing them, but generating\u001b[39;00m\n\u001b[32m   1229\u001b[39m \u001b[33;03m    errors as if calling `set`.\u001b[39;00m\n\u001b[32m   1230\u001b[39m \n\u001b[32m   1231\u001b[39m \u001b[33;03m    The lack of prenormalization is to maintain backcompatibility.\u001b[39;00m\n\u001b[32m   1232\u001b[39m \u001b[33;03m    \"\"\"\u001b[39;00m\n\u001b[32m-> \u001b[39m\u001b[32m1233\u001b[39m     \u001b[38;5;28;01mreturn\u001b[39;00m \u001b[38;5;28;43mself\u001b[39;49m\u001b[43m.\u001b[49m\u001b[43m_update_props\u001b[49m\u001b[43m(\u001b[49m\n\u001b[32m   1234\u001b[39m \u001b[43m        \u001b[49m\u001b[43mkwargs\u001b[49m\u001b[43m,\u001b[49m\u001b[43m \u001b[49m\u001b[33;43m\"\u001b[39;49m\u001b[38;5;132;43;01m{cls.__name__}\u001b[39;49;00m\u001b[33;43m.set() got an unexpected keyword argument \u001b[39;49m\u001b[33;43m\"\u001b[39;49m\n\u001b[32m   1235\u001b[39m \u001b[43m        \u001b[49m\u001b[33;43m\"\u001b[39;49m\u001b[38;5;132;43;01m{prop_name!r}\u001b[39;49;00m\u001b[33;43m\"\u001b[39;49m\u001b[43m)\u001b[49m\n",
      "\u001b[36mFile \u001b[39m\u001b[32mc:\\Users\\kepco201\\Desktop\\KAN_python\\pykan-master\\venv\\Lib\\site-packages\\matplotlib\\artist.py:1209\u001b[39m, in \u001b[36mArtist._update_props\u001b[39m\u001b[34m(self, props, errfmt)\u001b[39m\n\u001b[32m   1205\u001b[39m             \u001b[38;5;28;01mif\u001b[39;00m \u001b[38;5;129;01mnot\u001b[39;00m \u001b[38;5;28mcallable\u001b[39m(func):\n\u001b[32m   1206\u001b[39m                 \u001b[38;5;28;01mraise\u001b[39;00m \u001b[38;5;167;01mAttributeError\u001b[39;00m(\n\u001b[32m   1207\u001b[39m                     errfmt.format(\u001b[38;5;28mcls\u001b[39m=\u001b[38;5;28mtype\u001b[39m(\u001b[38;5;28mself\u001b[39m), prop_name=k),\n\u001b[32m   1208\u001b[39m                     name=k)\n\u001b[32m-> \u001b[39m\u001b[32m1209\u001b[39m             ret.append(\u001b[43mfunc\u001b[49m\u001b[43m(\u001b[49m\u001b[43mv\u001b[49m\u001b[43m)\u001b[49m)\n\u001b[32m   1210\u001b[39m \u001b[38;5;28;01mif\u001b[39;00m ret:\n\u001b[32m   1211\u001b[39m     \u001b[38;5;28mself\u001b[39m.pchanged()\n",
      "\u001b[36mFile \u001b[39m\u001b[32mc:\\Users\\kepco201\\Desktop\\KAN_python\\pykan-master\\venv\\Lib\\site-packages\\matplotlib\\artist.py:1026\u001b[39m, in \u001b[36mArtist.set_alpha\u001b[39m\u001b[34m(self, alpha)\u001b[39m\n\u001b[32m   1023\u001b[39m     \u001b[38;5;28;01mraise\u001b[39;00m \u001b[38;5;167;01mTypeError\u001b[39;00m(\n\u001b[32m   1024\u001b[39m         \u001b[33mf\u001b[39m\u001b[33m'\u001b[39m\u001b[33malpha must be numeric or None, not \u001b[39m\u001b[38;5;132;01m{\u001b[39;00m\u001b[38;5;28mtype\u001b[39m(alpha)\u001b[38;5;132;01m}\u001b[39;00m\u001b[33m'\u001b[39m)\n\u001b[32m   1025\u001b[39m \u001b[38;5;28;01mif\u001b[39;00m alpha \u001b[38;5;129;01mis\u001b[39;00m \u001b[38;5;129;01mnot\u001b[39;00m \u001b[38;5;28;01mNone\u001b[39;00m \u001b[38;5;129;01mand\u001b[39;00m \u001b[38;5;129;01mnot\u001b[39;00m (\u001b[32m0\u001b[39m <= alpha <= \u001b[32m1\u001b[39m):\n\u001b[32m-> \u001b[39m\u001b[32m1026\u001b[39m     \u001b[38;5;28;01mraise\u001b[39;00m \u001b[38;5;167;01mValueError\u001b[39;00m(\u001b[33mf\u001b[39m\u001b[33m'\u001b[39m\u001b[33malpha (\u001b[39m\u001b[38;5;132;01m{\u001b[39;00malpha\u001b[38;5;132;01m}\u001b[39;00m\u001b[33m) is outside 0-1 range\u001b[39m\u001b[33m'\u001b[39m)\n\u001b[32m   1027\u001b[39m \u001b[38;5;28;01mif\u001b[39;00m alpha != \u001b[38;5;28mself\u001b[39m._alpha:\n\u001b[32m   1028\u001b[39m     \u001b[38;5;28mself\u001b[39m._alpha = alpha\n",
      "\u001b[31mValueError\u001b[39m: alpha (nan) is outside 0-1 range"
     ]
    },
    {
     "data": {
      "image/png": "[encoded data removed]",
      "text/plain": [
       "<Figure size 500x400 with 1 Axes>"
      ]
     },
     "metadata": {},
     "output_type": "display_data"
    }
   ],
   "source": [
    "# symbolic 함수로 대체 후 학습\n",
    "model.fit(dataset, opt=\"LBFGS\", steps=4)\n",
    "model.plot()"
   ]
  },
  {
   "cell_type": "markdown",
   "id": "a2914843",
   "metadata": {},
   "source": [
    "step12. symbolic 수식 출력"
   ]
  },
  {
   "cell_type": "code",
   "execution_count": null,
   "id": "9988d940",
   "metadata": {},
   "outputs": [
    {
     "name": "stdout",
     "output_type": "stream",
     "text": [
      "formula = -0.0044*x_1 - 0.083*x_2 - 0.3982*x_3 + 0.0942*x_4 - 0.0164*x_5 - 0.0024*x_6 + 0.0533*x_7 - 0.0078*x_8 + 0.4165\n",
      "(x_1: Current density, x_2: Faradaic efficiency, ... x_8: crossover rate)\n"
     ]
    }
   ],
   "source": [
    "# 심볼릭 수식 출력\n",
    "formula = ex_round(model.symbolic_formula()[0][0], 4)  # ex_round(  , 4) -- 소수점 뒤에 숫자 4개? // \n",
    "print(\"formula =\" , formula)  \n",
    "print('(x_1: Current density, x_2: Faradaic efficiency, ... x_8: crossover rate)')\n"
   ]
  },
  {
   "cell_type": "markdown",
   "id": "f43772d9",
   "metadata": {},
   "source": [
    "step13. KAN이 예측한 수식 정확도 검증을 위한 함수 정의"
   ]
  },
  {
   "cell_type": "code",
   "execution_count": null,
   "id": "d723e550",
   "metadata": {},
   "outputs": [],
   "source": [
    "# validation set으로 성능을 평가하는 함수 만들기\n",
    "def evaluate_model_performance(model, dataset, scaler_y, phase=\"validation\"):    # phase = validation 아니면 test 이다\n",
    "    \n",
    "    \n",
    "    if phase == \"validation\":\n",
    "        input_tensor = dataset['val_input']\n",
    "        label_tensor = dataset['val_label']\n",
    "    elif phase == \"test\":\n",
    "        input_tensor = dataset['test_input']\n",
    "        label_tensor = dataset['test_label']\n",
    "    else:\n",
    "        raise ValueError(\"phase는 'validation' 또는 'test'만 가능합니다\")\n",
    "    \n",
    "    # 예측 수행\n",
    "    with torch.no_grad():  # 굳이 기울기 계산할 필요 X because 이거는 test 이기에 학습 X --- 시간 더 빠르게 하려고 torch.no_grad()\n",
    "        pred_norm = model(input_tensor) #input_tensor 는 val_inut or test_input / pred_norm은 그에 대한 출력값\n",
    "    \n",
    "    # 역정규화\n",
    "    pred_real = scaler_y.inverse_transform(pred_norm.cpu().detach().numpy())   # pred_real 은 0.1~0.9 사이의 입력 val_input or test_input을 받고 출력된 값은 다시 역정규화 한 실제 출력값\n",
    "    label_real = scaler_y.inverse_transform(label_tensor.cpu().detach().numpy()) # label_real은 0.1~0.9 사이의 입력 val_label or test_label을 받고 출력한 값 역정규화\n",
    "    # inverse_transform 함수는  numpy 를 입력으로 받기 떄문에 pytorch tensor를 cpu로 옮기고 numpy로 변환\n",
    "    \n",
    "    # numpy는 cpu에서만 돌아가니까 tensor를 .cpu로 옮기고 그다음 tensor의 추가정보 (numpy 정보 + 어떻게 계산되었는지 식에 대한 정보)를 detach --- 그 다음에 .numpy()를 통해 numpy로 변환\n",
    "    \n",
    "    # 성능 지표 계산 from 역정규화된 label_real, pred_real 값들 from val input or test input + numpy에서 계산\n",
    "    rmse = np.sqrt(mean_squared_error(label_real, pred_real))  # 오차 제곱 평균의 루트\n",
    "    r2 = r2_score(label_real, pred_real)  #1에 가까울수록 좋다 \n",
    "    mae = np.mean(np.abs(label_real - pred_real)) # 오차 절댓값들의 평균 -- MAE\n",
    "    \n",
    "    print(f\"{phase} SET 성능 평가\") # phase = validation 또는 test \n",
    "    print(f\"RMSE: {rmse:.4f}\")     # f\"{변수:포맷코드}\"\n",
    "    print(f\"R²: {r2:.4f}\")\n",
    "    print(f\"MAE: {mae:.4f}\")\n",
    "    \n",
    "    print(f\"실제값 평균: {label_real.mean():.4f}\")  #label_real의 평균값(실제값)\n",
    "    print(f\"예측값 평균: {pred_real.mean():.4f}\")   #pred_real의 평균값(KAN 모델로 예측한 값)\n",
    "    \n",
    "    return pred_real, label_real, {'rmse': rmse, 'r2': r2, 'mae': mae}"
   ]
  },
  {
   "cell_type": "markdown",
   "id": "fb77ff0c",
   "metadata": {},
   "source": [
    "Step14. Validation data(검증셋)으로 성능 평가"
   ]
  },
  {
   "cell_type": "code",
   "execution_count": null,
   "id": "497efffd",
   "metadata": {},
   "outputs": [
    {
     "name": "stdout",
     "output_type": "stream",
     "text": [
      "validation SET 성능 평가\n",
      "RMSE: 20.9321\n",
      "R²: 0.6292\n",
      "MAE: 13.8934\n",
      "실제값 평균: 48.6630\n",
      "예측값 평균: 46.8287\n"
     ]
    }
   ],
   "source": [
    "# validation dataset(검증셋)으로 성능 평가 (모델 개발 과정에서)\n",
    "val_pred, val_actual, val_metrics = evaluate_model_performance(model, dataset, scaler_y, \"validation\")\n",
    "\n",
    "#scaler_y : step5 에서 정의한 정규화된 y 변환법\n",
    "# validation --- 검증셋 이용할거라는 의미 / 나중에 \n",
    "# val_pred 변수: evaluate_model_performance 함수가 반환한 첫 번째 결과물(pred_real)(모델의 예측값 배열)이 저장\n",
    "# val_actual 변수: 함수가 반환한 두 번째 결과물(label_real)(실제 정답 값 배열)이 저장\n",
    "# val_metrics 변수: 함수가 반환한 세 번째 결과물(RMSE, R², MAE가 담긴 딕셔너리)이 저장\n"
   ]
  },
  {
   "cell_type": "markdown",
   "id": "937e66a3",
   "metadata": {},
   "source": [
    "step15. KAN이 예측한 수식의 정확도 최종계산 _ using test_input, test_label"
   ]
  },
  {
   "cell_type": "code",
   "execution_count": null,
   "id": "8acf1afc",
   "metadata": {},
   "outputs": [
    {
     "name": "stdout",
     "output_type": "stream",
     "text": [
      "최종 테스트셋 평가\n",
      "test SET 성능 평가\n",
      "RMSE: 21.2031\n",
      "R²: 0.5964\n",
      "MAE: 14.3438\n",
      "실제값 평균: 50.3135\n",
      "예측값 평균: 49.7290\n",
      "\n",
      "최종 모델 성능:\n",
      "테스트셋 RMSE: 21.2031\n",
      "테스트셋 R²: 0.5964\n",
      "테스트셋 MAE: 14.3438\n"
     ]
    }
   ],
   "source": [
    "# 모든 모델 개발이 완료된 후 최종 한 번만 수행\n",
    "print(\"최종 테스트셋 평가\")\n",
    "\n",
    "\n",
    "# 최종 테스트셋 평가(phase만 'test'로 변경하여 테스트 데이터를 사용)(이전에 정의한 evaluate_model_performance 함수를 그대로 사용)\n",
    "test_pred, test_actual, test_metrics = evaluate_model_performance(\n",
    "    model, dataset, scaler_y, \"test\"\n",
    ")\n",
    "\n",
    "# test_pred : 모델의 예측값 , test_actual : 실제 정답 값 배열 , test_metrics : (RMSE, R², MAE가 담긴 딕셔너리)\n",
    "\n",
    "print(f\"\\n최종 모델 성능:\")\n",
    "print(f\"테스트셋 RMSE: {test_metrics['rmse']:.4f}\")\n",
    "print(f\"테스트셋 R²: {test_metrics['r2']:.4f}\")\n",
    "print(f\"테스트셋 MAE: {test_metrics['mae']:.4f}\")\n"
   ]
  },
  {
   "cell_type": "markdown",
   "id": "cd9bb436",
   "metadata": {},
   "source": [
    "step16. KAN 예측값 / 실제값 그래프"
   ]
  },
  {
   "cell_type": "code",
   "execution_count": null,
   "id": "7931b4ce",
   "metadata": {},
   "outputs": [
    {
     "data": {
      "image/png": "[encoded data removed]",
      "text/plain": [
       "<Figure size 400x400 with 1 Axes>"
      ]
     },
     "metadata": {},
     "output_type": "display_data"
    }
   ],
   "source": [
    "# step14. KAN 예측값 / 실제값 그래프\n",
    "import matplotlib.pyplot as plt\n",
    "\n",
    "plt.figure(figsize=(4, 4))  # 도화지 그리기~\n",
    "\n",
    "# test_actual (x축) vs test_pred (y축) , alpha = 투명도\n",
    "plt.scatter(test_actual, test_pred, alpha=0.7, edgecolors='k', label='Model Predictions')\n",
    "\n",
    "# 제일 작은 값, 제일 큰 값 설정\n",
    "min_val = min(test_actual.min(), test_pred.min())\n",
    "max_val = max(test_actual.max(), test_pred.max())\n",
    "plt.plot([min_val, max_val], [min_val, max_val], 'r--', linewidth=2, label='Perfect Fit (y=x)')  # y = x 선긋기\n",
    "\n",
    "# 그래프 제목과 축 레이블 설정\n",
    "plt.xlabel(\"Actual \" + predicting , fontsize=12)   # Actual 다음에 우리가 보고자 하는 output predicting 변수가 뜸\n",
    "plt.ylabel(\"Predicted \" + predicting, fontsize=12) # \n",
    "plt.title(f'Test Set: Actual vs. Predicted (R² = {test_metrics[\"r2\"]:.4f})', fontsize=14)\n",
    "plt.legend()\n",
    "plt.grid(True)  # 격자 on \n",
    "plt.axis('equal') # x, y축 스케일을 동일하게 설정\n",
    "plt.tight_layout()\n",
    "plt.show()\n"
   ]
  },
  {
   "cell_type": "markdown",
   "id": "c9f2f548",
   "metadata": {},
   "source": [
    "잔차 플롯 (Residual Plot): 모델의 예측 오차 패턴 분석"
   ]
  },
  {
   "cell_type": "code",
   "execution_count": null,
   "id": "da62b6b9",
   "metadata": {},
   "outputs": [
    {
     "data": {
      "image/png": "[encoded data removed]",
      "text/plain": [
       "<Figure size 700x400 with 1 Axes>"
      ]
     },
     "metadata": {},
     "output_type": "display_data"
    }
   ],
   "source": [
    "# 1. 잔차 계산 (실제값 - 예측값)\n",
    "residuals = test_actual - test_pred\n",
    "\n",
    "# 2. 잔차 플롯 시각화\n",
    "plt.figure(figsize=(7, 4))\n",
    "\n",
    "# x축은 예측값, y축은 잔차\n",
    "plt.scatter(test_pred, residuals, alpha=0.7, edgecolors='k')\n",
    "\n",
    "# y=0 기준선 추가 (오차가 0인 선)\n",
    "plt.axhline(y=0, color='r', linestyle='--', linewidth=2)\n",
    "\n",
    "plt.xlabel(\"Predicted \"+predicting, fontsize=12)\n",
    "plt.ylabel('Residuals (Actual - Predicted)', fontsize=12)\n",
    "plt.title('Residual Plot for Test Set', fontsize=14)\n",
    "plt.grid(True)\n",
    "plt.show()\n"
   ]
  },
  {
   "cell_type": "markdown",
   "id": "85cd30ad",
   "metadata": {},
   "source": [
    "2. 개별 변수 영향도 플롯 (Partial Dependence Plot): 변수-결과 관계 시각화"
   ]
  },
  {
   "cell_type": "code",
   "execution_count": null,
   "id": "ff333b84",
   "metadata": {},
   "outputs": [
    {
     "name": "stdout",
     "output_type": "stream",
     "text": [
      "--- 모든 입력 변수에 대한 개별 영향도 플롯 ---\n"
     ]
    },
    {
     "data": {
      "image/png": "[encoded data removed]",
      "text/plain": [
       "<Figure size 500x400 with 22 Axes>"
      ]
     },
     "metadata": {},
     "output_type": "display_data"
    }
   ],
   "source": [
    "import numpy as np\n",
    "import matplotlib.pyplot as plt\n",
    "\n",
    "# 1. (NameError 해결) feature_names 리스트를 먼저 정의합니다.\n",
    "feature_names = [\n",
    "    \"Current density\", \"Faradaic efficiency\", \"CO coversion\", \"Voltage\",\n",
    "    \"Electricity cost\", \"Membrain cost\", \"Capture energy\", \"Crossover rate\"\n",
    "]\n",
    "\n",
    "try:\n",
    "    print(\"--- 모든 입력 변수에 대한 개별 영향도 플롯 ---\")\n",
    "    \n",
    "    # 2. (TypeError 해결) 'vars' 인자 없이 plot() 함수를 호출합니다.\n",
    "    # 이렇게 하면 8개 변수 각각에 대한 영향도 그래프가 한 번에 그려집니다.\n",
    "    model.plot()\n",
    "    \n",
    "    # 전체 그래프에 대한 제목 설정 (선택 사항)\n",
    "    plt.suptitle('Partial Dependence Plots for All Features', y=1.02)\n",
    "    plt.show()\n",
    "\n",
    "except Exception as e:\n",
    "    print(f\"오류가 발생했습니다: {e}\")\n",
    "    print(\"이전 단계에서 'model' 객체가 성공적으로 생성되었는지 확인해주세요.\")\n",
    "\n"
   ]
  },
  {
   "cell_type": "code",
   "execution_count": null,
   "id": "22bee12d",
   "metadata": {},
   "outputs": [
    {
     "name": "stdout",
     "output_type": "stream",
     "text": [
      "formula= -0.0044*x_1 - 0.083*x_2 - 0.3982*x_3 + 0.0942*x_4 - 0.0164*x_5 - 0.0024*x_6 + 0.0533*x_7 - 0.0078*x_8 + 0.4165\n"
     ]
    }
   ],
   "source": [
    "# step11의 코드를 다시 실행\n",
    "formula = ex_round(model.symbolic_formula()[0][0], 4)\n",
    "print(\"formula=\", formula)\n",
    "\n",
    "# 여기서 맨 왼쪽부터  x_1부터 x_8 \n"
   ]
  },
  {
   "cell_type": "markdown",
   "id": "7180d5fa",
   "metadata": {},
   "source": [
    "-------"
   ]
  },
  {
   "cell_type": "markdown",
   "id": "7b03ef06",
   "metadata": {},
   "source": [
    "------"
   ]
  },
  {
   "cell_type": "markdown",
   "id": "c161d08d",
   "metadata": {},
   "source": [
    "------------------------------------------------------------------------------------------------------------------------------------------------"
   ]
  },
  {
   "cell_type": "markdown",
   "id": "61f2ffb4",
   "metadata": {},
   "source": [
    "step17.실제 KAN이 구현한 수식에 X값을 대입해서 결과 구해보기_역정규화 이용"
   ]
  },
  {
   "cell_type": "code",
   "execution_count": null,
   "id": "bd032dac",
   "metadata": {},
   "outputs": [
    {
     "name": "stdout",
     "output_type": "stream",
     "text": [
      "--- [입력 변수(X) 정규화 키] ---\n",
      "x_1 (Current density (mA/cm2)):\n",
      "  min = 123.17073171\n",
      "  max = 1999.62015194\n",
      "\n",
      "x_2 (Faradaic efficiency (%)):\n",
      "  min = 0.50009796\n",
      "  max = 0.98970612\n",
      "\n",
      "x_3 (CO coversion):\n",
      "  min = 0.02733906\n",
      "  max = 0.59988205\n",
      "\n",
      "x_4 (Voltage (V)):\n",
      "  min = 1.30043982\n",
      "  max = 3.49868053\n",
      "\n",
      "x_5 (Electricity cost ($/kWh)):\n",
      "  min = 0.05002999\n",
      "  max = 0.09999000\n",
      "\n",
      "x_6 (Membrain cost ($/m2)):\n",
      "  min = 285.03798481\n",
      "  max = 348.32067173\n",
      "\n",
      "x_7 (Catpure energy (GJ/ton)):\n",
      "  min = 3.00039984\n",
      "  max = 4.99640144\n",
      "\n",
      "x_8 (Crossover rate):\n",
      "  min = 0.00039984\n",
      "  max = 1.99880048\n",
      "\n",
      "--- [출력 변수(y) 역정규화 키] ---\n",
      "y_min = 14.99042938\n",
      "y_max = 217.83096166\n"
     ]
    }
   ],
   "source": [
    "# 이전에 학습에 사용했던 scaler_X 와 scaler_y 객체가 필요합니다.\n",
    "\n",
    "# 1. 입력 변수(X)의 최소/최대값 추출\n",
    "#    사용된 변수의 순서에 맞게 이름을 지정합니다.\n",
    "feature_names = [\n",
    "    \"Current density (mA/cm2)\", \"Faradaic efficiency (%)\", \"CO coversion\",\n",
    "    \"Voltage (V)\", \"Electricity cost ($/kWh)\", \"Membrain cost ($/m2)\",\n",
    "    \"Catpure energy (GJ/ton)\", \"Crossover rate\"\n",
    "]\n",
    "\n",
    "print(\"--- [입력 변수(X) 정규화 키] ---\")\n",
    "for i, name in enumerate(feature_names):\n",
    "    min_val = scaler_X.data_min_[i]\n",
    "    max_val = scaler_X.data_max_[i]\n",
    "    print(f\"x_{i+1} ({name}):\")\n",
    "    print(f\"  min = {min_val:.8f}\")\n",
    "    print(f\"  max = {max_val:.8f}\\n\")\n",
    "\n",
    "# 2. 출력 변수(y)의 최소/최대값 추출\n",
    "y_min = scaler_y.data_min_[0]\n",
    "y_max = scaler_y.data_max_[0]\n",
    "\n",
    "print(\"--- [출력 변수(y) 역정규화 키] ---\")\n",
    "print(f\"y_min = {y_min:.8f}\")\n",
    "print(f\"y_max = {y_max:.8f}\")\n"
   ]
  },
  {
   "cell_type": "code",
   "execution_count": null,
   "id": "b562d0ba",
   "metadata": {},
   "outputs": [
    {
     "name": "stdout",
     "output_type": "stream",
     "text": [
      "formula= -0.0044*x_1 - 0.083*x_2 - 0.3982*x_3 + 0.0942*x_4 - 0.0164*x_5 - 0.0024*x_6 + 0.0533*x_7 - 0.0078*x_8 + 0.4165\n",
      "(x_1: Current density, x_2: Faradaic efficiency, ... x_8: crossover rate)\n"
     ]
    }
   ],
   "source": [
    "# step11의 코드를 다시 실행\n",
    "formula = ex_round(model.symbolic_formula()[0][0], 4)\n",
    "print(\"formula=\", formula)\n",
    "print('(x_1: Current density, x_2: Faradaic efficiency, ... x_8: crossover rate)')\n"
   ]
  },
  {
   "cell_type": "markdown",
   "id": "6bf9a624",
   "metadata": {},
   "source": [
    "python에서도 시험삼아 몇 개 출력해보기"
   ]
  },
  {
   "cell_type": "code",
   "execution_count": null,
   "id": "a983cab0",
   "metadata": {},
   "outputs": [
    {
     "name": "stdout",
     "output_type": "stream",
     "text": [
      "▶ 자동으로 감지된 수식: y = -0.00437066355945951*x_1 - 0.0830103916189426*x_2 - 0.398220942751059*x_3 + 0.0941507257080641*x_4 - 0.0164056923453479*x_5 - 0.00243606416678437*x_6 + 0.0532599991729951*x_7 - 0.00775626840670367*x_8 + 0.416510341047831\n",
      "\n",
      "==============================================================\n",
      "### 역정규화 (Inverse Normalization)에 사용되는 수식 ###\n",
      "실제값 = (정규화된 값 * (최대값 - 최소값)) + 최소값\n",
      "실제값 = (정규화된 값 * 253.5507) + 0.0409\n",
      "==============================================================\n",
      "\n",
      "--------- [단순화된 수식 모델]의 예측 성능 ---------\n",
      "     실제값   수식 예측값 \n",
      "0   45.30    61.80\n",
      "1   40.06    52.20\n",
      "2   20.16    19.33\n",
      "3   19.25     1.09\n",
      "4   61.87    73.84\n",
      "5   45.20    61.27\n",
      "6   20.45     4.65\n",
      "7   49.03    67.81\n",
      "8   49.91    67.80\n",
      "9   27.39    39.18\n",
      "10  51.01    71.31\n",
      "11  34.97    38.70\n",
      "12  42.71    48.73\n",
      "13  30.27    47.96\n",
      "14  29.03    31.92\n",
      "15  26.70    10.93\n",
      "16  36.01    50.40\n",
      "17  24.82    12.96\n",
      "18  35.81    50.89\n",
      "19  53.95    69.78\n",
      "20  42.39    59.77\n",
      "21  29.30     9.03\n",
      "22  31.46    34.99\n",
      "23  49.61    63.50\n",
      "24  26.20    22.99\n",
      "25  38.95    33.19\n",
      "26  27.72    12.62\n",
      "27  36.66    31.30\n",
      "28  36.64    54.29\n",
      "29 111.45    91.11\n"
     ]
    }
   ],
   "source": [
    "import numpy as np\n",
    "import pandas as pd\n",
    "from sympy import sympify, symbols, lambdify \n",
    "# sympy 라이브러리 추가\n",
    "\n",
    "# 1. KAN 모델에서 직접 심볼릭 수식 문자열을 가져오기\n",
    "formula_str = model.symbolic_formula()[0][0] # 실제 모델에서 가져오는 코드\n",
    "\n",
    "print(f\"▶ 자동으로 감지된 수식: y = {formula_str}\\n\")\n",
    "\n",
    "# 2. 모든 변수(x_1 ~ x_8)를 기호로 정의\n",
    "num_features = len(feature_names)\n",
    "x_vars = symbols(f'x_1:{num_features + 1}')\n",
    "\n",
    "# 3. 문자열 수식을 실제 계산 가능한 함수로 변환합니다. (핵심 부분)\n",
    "#    lambdify는 sympy 수식을 매우 빠른 numpy 함수로 바꿔주는 기능입니다.\n",
    "symbolic_func = lambdify(x_vars, sympify(formula_str), 'numpy')\n",
    "\n",
    "# 4. 새로운 '만능' 예측 함수를 정의합니다.\n",
    "def auto_symbolic_prediction(x_norm):\n",
    "    \"\"\"\n",
    "    정규화된 입력 데이터(x_norm)를 받아,\n",
    "    자동으로 생성된 symbolic_func를 사용해 예측값을 반환합니다.\n",
    "    \"\"\"\n",
    "    # x_norm 배열의 각 열을 개별 인자로 분리하여 함수에 전달합니다.\n",
    "    # 예: symbolic_func(x_norm[:,0], x_norm[:,1], ..., x_norm[:,7])\n",
    "    # x_norm.T는 배열을 전치하여 각 행이 변수가 되도록 합니다.\n",
    "    return symbolic_func(*x_norm.T)\n",
    "\n",
    "# --- [자동화된 수식 처리 부분 끝] ---\n",
    "\n",
    "\n",
    "# 2. 역정규화에 사용되는 수식 출력 (이전과 동일)\n",
    "min_val = scaler_y.min_[0]\n",
    "scale_range = 1 / scaler_y.scale_[0]\n",
    "print(\"==============================================================\")\n",
    "print(\"### 역정규화 (Inverse Normalization)에 사용되는 수식 ###\")\n",
    "print(f\"실제값 = (정규화된 값 * (최대값 - 최소값)) + 최소값\")\n",
    "print(f\"실제값 = (정규화된 값 * {scale_range:.4f}) + {min_val:.4f}\")\n",
    "print(\"==============================================================\\n\")\n",
    "\n",
    "\n",
    "# 4. 테스트 데이터셋 전체를 사용하여 예측을 수행합니다.\n",
    "test_input_norm = dataset['test_input']\n",
    "# 여기서 새롭게 정의한 자동화 함수를 호출합니다!\n",
    "y_pred_norm = auto_symbolic_prediction(test_input_norm)\n",
    "\n",
    "\n",
    "# 5. 이후 모든 코드는 이전과 완전히 동일합니다.\n",
    "y_pred_norm_reshaped = y_pred_norm.reshape(-1, 1)\n",
    "y_pred_real_scale = scaler_y.inverse_transform(y_pred_norm_reshaped)\n",
    "y_true_real_scale = scaler_y.inverse_transform(dataset['test_label'])\n",
    "results_df = pd.DataFrame({\n",
    "    '실제값 ': y_true_real_scale.flatten(),\n",
    "    '수식 예측값 ': y_pred_real_scale.flatten()\n",
    "})\n",
    "pd.options.display.float_format = '{:.2f}'.format\n",
    "\n",
    "print(\"--------- [단순화된 수식 모델]의 예측 성능 ---------\")\n",
    "print(results_df.head(30))\n"
   ]
  }
 ],
 "metadata": {
  "kernelspec": {
   "display_name": "venv",
   "language": "python",
   "name": "python3"
  },
  "language_info": {
   "codemirror_mode": {
    "name": "ipython",
    "version": 3
   },
   "file_extension": ".py",
   "mimetype": "text/x-python",
   "name": "python",
   "nbconvert_exporter": "python",
   "pygments_lexer": "ipython3",
   "version": "3.11.9"
  }
 },
 "nbformat": 4,
 "nbformat_minor": 5
}
