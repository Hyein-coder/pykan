{
 "cells": [
  {
   "cell_type": "markdown",
   "id": "0895cbba",
   "metadata": {},
   "source": [
    "## CO2RR 공정 datasheet 분석"
   ]
  },
  {
   "cell_type": "markdown",
   "id": "4e0157fd",
   "metadata": {},
   "source": [
    "----------------------------------"
   ]
  },
  {
   "cell_type": "markdown",
   "id": "499fd6e3",
   "metadata": {},
   "source": [
    "-------"
   ]
  },
  {
   "cell_type": "markdown",
   "id": "4d576959",
   "metadata": {},
   "source": [
    "Output 중 Required energy_total (MJ/kgCO), MSP 분석 예정"
   ]
  },
  {
   "cell_type": "markdown",
   "id": "bd5404b7",
   "metadata": {},
   "source": [
    "step0. 라이브러리 정리"
   ]
  },
  {
   "cell_type": "code",
   "execution_count": 1,
   "id": "ed16aea4",
   "metadata": {},
   "outputs": [
    {
     "name": "stdout",
     "output_type": "stream",
     "text": [
      "cpu\n"
     ]
    }
   ],
   "source": [
    "import pandas as pd\n",
    "import numpy as np\n",
    "import torch\n",
    "from sklearn.preprocessing import StandardScaler\n",
    "from sklearn.model_selection import train_test_split\n",
    "from sklearn.metrics import mean_squared_error, r2_score\n",
    "from kan import KAN\n",
    "from kan.utils import ex_round\n",
    "device = torch.device('cuda' if torch.cuda.is_available() else 'cpu')\n",
    "print(device)"
   ]
  },
  {
   "cell_type": "markdown",
   "id": "f34c39e8",
   "metadata": {},
   "source": [
    "step1. 엑셀 파일 불러오기"
   ]
  },
  {
   "cell_type": "code",
   "execution_count": 2,
   "id": "c0466943",
   "metadata": {},
   "outputs": [],
   "source": [
    "# 엑셀 데이터 로드 \n",
    "filepath = r\"C:\\Users\\kepco201\\Desktop\\KAN_python\\pykan-master\\.github\\workflows\\TaeWoong\\25.01.14_CO2RR_GSA.xlsx\"\n",
    "xls = pd.ExcelFile(filepath) \n",
    "df_in  = pd.read_excel(xls, sheet_name='Input')\n",
    "df_out = pd.read_excel(xls, sheet_name='Output')\n",
    "\n"
   ]
  },
  {
   "cell_type": "markdown",
   "id": "12dafb3a",
   "metadata": {},
   "source": [
    "step2.결측값 대체 및 이상치 제거"
   ]
  },
  {
   "cell_type": "raw",
   "id": "d0c919d6",
   "metadata": {
    "vscode": {
     "languageId": "raw"
    }
   },
   "source": [
    "# [기존 step2]\n",
    "# df_in  = df_in.fillna(df_in.mean(numeric_only=True))\n",
    "# df_out = df_out.fillna(df_out.mean(numeric_only=True))\n",
    "\n",
    "# [수정된 step2] : 결측치가 있는 행 삭제\n",
    "\n",
    "# 1. 삭제 전 데이터 크기 확인\n",
    "print(f\"결측값 삭제 전 Input 데이터 크기: {df_in.shape}\")\n",
    "print(f\"결측값 삭제 전 Output 데이터 크기: {df_out.shape}\")\n",
    "\n",
    "# 2. 결측치가 있는 행 삭제\n",
    "# 두 데이터프레임의 인덱스를 맞추기 위해, 한쪽에서 삭제된 인덱스를 다른 쪽에도 적용\n",
    "na_rows_in = df_in.isnull().any(axis=1)\n",
    "na_rows_out = df_out.isnull().any(axis=1)\n",
    "rows_to_drop = na_rows_in | na_rows_out # 둘 중 하나라도 결측치가 있으면 삭제 대상\n",
    "\n",
    "df_in_cleaned = df_in[~rows_to_drop]\n",
    "df_out_cleaned = df_out[~rows_to_drop]\n",
    "\n",
    "# 3. 삭제 후 데이터 크기 확인\n",
    "print(f\"결측값 삭제 후 Input 데이터 크기: {df_in_cleaned.shape}\")\n",
    "print(f\"결측값 삭제 후 Output 데이터 크기: {df_out_cleaned.shape}\")\n",
    "\n",
    "# 이후 step3 에서는 df_in_cleaned와 df_out_cleaned 를 사용합니다.\n",
    "# X = df_in_cleaned[[...]].values\n",
    "# y = df_out_cleaned[[...]].values.reshape(-1, 1)\n",
    "\n",
    "\n"
   ]
  },
  {
   "cell_type": "markdown",
   "id": "77407cf1",
   "metadata": {},
   "source": [
    "이상치(Outlier) 제거 / 전체 데이터의 10% 이내로 극소량만 제거"
   ]
  },
  {
   "cell_type": "code",
   "execution_count": 3,
   "id": "cb9b8719",
   "metadata": {},
   "outputs": [
    {
     "name": "stdout",
     "output_type": "stream",
     "text": [
      "--- 이상치 제거 시작 ---\n",
      "이상치 제거 전 데이터 수: 2501 개\n",
      "이상치 제거 후 데이터 수: 2378 개 (123 개 제거됨)\n",
      "--- 이상치 제거 완료 ---\n",
      "\n"
     ]
    }
   ],
   "source": [
    "# 이상치(Outlier) 제거 (IQR 방식) ---\n",
    "\n",
    "print(\"--- 이상치 제거 시작 ---\")\n",
    "\n",
    "\n",
    "print(f\"이상치 제거 전 데이터 수: {len(df_in)} 개\")   # len(df_in) 을 통해 이상치 제거 전 데이터 길이(개수) 출력\n",
    "\n",
    "\n",
    "def remove_outliers_iqr(df_in, df_out):              # outlier 제거 함수 정의\n",
    "    \n",
    "    combined_df = pd.concat([df_in, df_out], axis=1) # pd.concat = 2개를 합치기 // 입력 변수(X)와 출력 변수(y)를 합쳐서 전체 데이터프레임 생성 // x랑 y를 한번에 고려\n",
    "                                                     # axis = 1 --- 오른쪽으로 합치기 --- 데이터 구조를 보면 예쁘게 정리가 된다\n",
    "    \n",
    "    numeric_cols = combined_df.select_dtypes(include=np.number).columns  # .select_dtypes 를 통해 특정 열만 출력 outlier 를 탐지할 숫자형 컬럼만 선택\n",
    "                                    # numeric_cols = 숫자로만 구성된 열들의 이름 리스트 (.colums = 그 열의 이름을 리스트로 출력)\n",
    "\n",
    "    # 각 컬럼에 대해 이상치 경계 계산 \n",
    "    Q1 = combined_df[numeric_cols].quantile(0.25)   # .quantile(0.25) = 데이터를 오름차순으로 정렬했을 떄 하위 25% 지점 \n",
    "    Q3 = combined_df[numeric_cols].quantile(0.75)   # .quantile(0.75) = 데이터를 오름차순으로 정렬했을 떄 상위 25% 지점 \n",
    "    IQR = Q3 - Q1 # IQR은 대략 상위 25% - 상위75% = 중간정도의 값에 해당\n",
    "    \n",
    "    lower_bound = Q1 - 6 * IQR  # 보통은 1.5* IQR을 진행하지만 최대한 삭제되는 데이터가 적도록 진행\n",
    "    upper_bound = Q3 + 6 * IQR\n",
    "    \n",
    "\n",
    "    # 밑의 줄은 공부를 더 해보자\n",
    "    # 모든 컬럼에 대해 정상 범위 내에 있는 데이터만 True로 표시\n",
    "    # (row의 어떤 컬럼이라도 이상치면 해당 row 전체가 False가 됨)\n",
    "    condition = ~((combined_df[numeric_cols] < lower_bound) | (combined_df[numeric_cols] > upper_bound)).any(axis=1)\n",
    "    \n",
    "\n",
    "    # 정상 범위에 있는 데이터만 필터링\n",
    "    df_in_no_outliers = df_in[condition]\n",
    "    df_out_no_outliers = df_out[condition]\n",
    "    \n",
    "    return df_in_no_outliers, df_out_no_outliers\n",
    "\n",
    "# 3. 함수를 사용하여 이상치 제거\n",
    "#    이전에 결측치를 제거한 df_in_cleaned, df_out_cleaned를 사용합니다.\n",
    "df_in_final, df_out_final = remove_outliers_iqr(df_in, df_out)\n",
    "\n",
    "\n",
    "# 4. 이상치 제거 후 남은 데이터 개수 확인\n",
    "removed_count = len(df_in) - len(df_in_final)  # 몇 개 지웠는지 세기\n",
    "print(f\"이상치 제거 후 데이터 수: {len(df_in_final)} 개 ({removed_count} 개 제거됨)\")\n",
    "print(\"--- 이상치 제거 완료 ---\\n\")\n",
    "\n",
    "\n",
    "# 이제 'df_in_final'과 'df_out_final'을 사용하자\n",
    "\n",
    "\n",
    "\n",
    "\n",
    "# 입력 변수(X) 선택\n",
    "# 모델이 '총 필요 에너지'를 예측하는 데 사용할 정보(컬럼)들을 선택\n",
    "X = df_in_final[[\n",
    "    \"Current density (mA/cm2)\", \n",
    "    \"Faradaic efficiency (%)\", \n",
    "    \"CO coversion\",\n",
    "    \"Voltage (V)\", \n",
    "    \"Electricity cost ($/kWh)\", \n",
    "    \"Membrain cost ($/m2)\",\n",
    "    \"Catpure energy (GJ/ton)\", \n",
    "    \"Crossover rate\"\n",
    "]].values\n",
    "\n",
    "\n",
    "\n",
    "## 이 밑의 코드 수정하기!!!! \n",
    "\n",
    "# 출력 변수(y) 선택\n",
    "# 모델이 최종적으로 맞춰야 할 정답(타겟)을 선택\n",
    "y = df_out_final['Required energy_total (MJ/kgCO)'].values.reshape(-1, 1)\n"
   ]
  },
  {
   "cell_type": "markdown",
   "id": "e01c4177",
   "metadata": {},
   "source": [
    "이상치 제거 후 X, Y 정의하기"
   ]
  },
  {
   "cell_type": "code",
   "execution_count": 4,
   "id": "2044e67e",
   "metadata": {},
   "outputs": [],
   "source": [
    "# 입력 변수(X) 선택\n",
    "# 모델이 '총 필요 에너지'를 예측하는 데 사용할 정보(컬럼)들을 선택\n",
    "X = df_in_final[[\n",
    "    \"Current density (mA/cm2)\", \n",
    "    \"Faradaic efficiency (%)\", \n",
    "    \"CO coversion\",\n",
    "    \"Voltage (V)\", \n",
    "    \"Electricity cost ($/kWh)\", \n",
    "    \"Membrain cost ($/m2)\",\n",
    "    \"Catpure energy (GJ/ton)\", \n",
    "    \"Crossover rate\"\n",
    "]].values\n",
    "\n",
    "\n",
    "\n",
    "## 이 밑의 코드 수정하기!!!! \n",
    "\n",
    "# 출력 변수(y) 선택\n",
    "# 모델이 최종적으로 맞춰야 할 정답(타겟)을 선택\n",
    "y = df_out_final['Required energy_total (MJ/kgCO)'].values.reshape(-1, 1)"
   ]
  },
  {
   "cell_type": "markdown",
   "id": "c1592a6a",
   "metadata": {},
   "source": [
    "step3. 엑셀 파일 속 data 추출 및 !predict 할 데이터 이름 입력!"
   ]
  },
  {
   "cell_type": "code",
   "execution_count": 5,
   "id": "b7eba938",
   "metadata": {},
   "outputs": [
    {
     "name": "stdout",
     "output_type": "stream",
     "text": [
      "[[1.97379048e+03 9.73836465e-01 3.72471012e-02 ... 2.89292283e+02\n",
      "  3.14514194e+00 1.49940024e-01]\n",
      " [1.95631747e+03 9.63060776e-01 5.54118353e-02 ... 2.92153805e+02\n",
      "  3.24190324e+00 2.49900040e-01]\n",
      " [1.93884446e+03 9.52285086e-01 7.35765694e-02 ... 2.95015327e+02\n",
      "  3.33866453e+00 3.49860056e-01]\n",
      " ...\n",
      " [1.61155538e+02 5.37714914e-01 5.36423431e-01 ... 3.38318006e+02\n",
      "  4.66133547e+00 1.65013994e+00]\n",
      " [1.43682527e+02 5.26939224e-01 5.54588165e-01 ... 3.41179528e+02\n",
      "  4.75809676e+00 1.75009996e+00]\n",
      " [1.26209516e+02 5.16163535e-01 5.72752899e-01 ... 3.44041050e+02\n",
      "  4.85485806e+00 1.85005998e+00]]\n",
      "====================\n",
      "[[137.83276055]\n",
      " [ 97.65612097]\n",
      " [ 77.61576681]\n",
      " ...\n",
      " [ 47.34602399]\n",
      " [ 50.01962389]\n",
      " [ 53.6021701 ]]\n"
     ]
    }
   ],
   "source": [
    "# 입력·출력 변수 선택 및 numpy 변환    # outlier 삭제를 원하지 않을시에는 df_in_final 을 df_in으로, df_out_final을 df_out으로 바꾸면 된다\n",
    "X = df_in_final[[\n",
    "    \"Current density (mA/cm2)\", \"Faradaic efficiency (%)\", \"CO coversion\",\n",
    "    \"Voltage (V)\", \"Electricity cost ($/kWh)\",\n",
    "    \"Membrain cost ($/m2)\", \"Catpure energy (GJ/ton)\",  # catpure energy? excel 파일에서 이렇게 오타가 났기에 그냥 사용\n",
    "    \"Crossover rate\"\n",
    "]].values\n",
    "\n",
    "\n",
    "\n",
    "\n",
    "predicting = \"Required energy_total (MJ/kgCO)\" # 다른 output 변수 보고싶으면 이거 보면 됨 # Required energy_total (MJ/kgCO) # MSP ($/kgCO)\n",
    "###### 이거를 수정해서 다른 output도 보자\n",
    "\n",
    "y = df_out_final[predicting].values.reshape(-1, 1)   # df_out_final[] 는 pandas datatframe이기에 이것을 skitlearn 이나 Keras 형태로 바꾸기 -- 그래야 \n",
    "                                                     # .values 를 통해 Numpy 배열로 변환 (값만 뽑기 때문) # 그 후에 reshape(-1.1) 을 통해 \n",
    "                                                     # .reshape()을 이용해 열 1개\n",
    "print(X)\n",
    "print(\"====================\")\n",
    "print(y)\n",
    "\n",
    "\n",
    "\n",
    "\n"
   ]
  },
  {
   "cell_type": "markdown",
   "id": "39df47d1",
   "metadata": {},
   "source": [
    "step4. train_set, valadation_set, test_set 만들기 (64:16:20) 우측 하단 RAW로 일단 설정해놓음 나중에 python으로 바꾸기"
   ]
  },
  {
   "cell_type": "code",
   "execution_count": 6,
   "id": "c5e4f043",
   "metadata": {},
   "outputs": [
    {
     "name": "stdout",
     "output_type": "stream",
     "text": [
      "[[6.39764094e+02 8.75483806e-01 2.88958417e-01 ... 3.31531387e+02\n",
      "  3.22830868e+00 3.92243103e-01]\n",
      " [1.92303079e+02 6.42141144e-01 1.31609356e-01 ... 3.46927896e+02\n",
      "  3.07636945e+00 1.13674530e+00]\n",
      " [1.80057977e+03 5.59070372e-01 2.64424230e-01 ... 3.34950020e+02\n",
      "  3.93042783e+00 1.81567373e+00]\n",
      " ...\n",
      " [1.23612555e+03 6.04132347e-01 1.88462615e-01 ... 2.99953352e+02\n",
      "  4.33506597e+00 1.76129548e+00]\n",
      " [1.70637745e+03 6.59774090e-01 1.61333467e-01 ... 3.05549780e+02\n",
      "  3.23470612e+00 1.97241104e+00]\n",
      " [1.03100760e+03 8.20625750e-01 1.96483407e-01 ... 3.39052379e+02\n",
      "  3.72091164e+00 1.93482607e+00]]\n",
      "전체 데이터셋 크기: 2378\n",
      "훈련셋 크기: 1521 (64.0%)\n",
      "검증셋 크기: 381 (16.0%)\n",
      "테스트셋 크기: 476 (20.0%)\n"
     ]
    }
   ],
   "source": [
    "# 1단계: 먼저 train+val과 test로 분할 (80:20)\n",
    "X_temp, X_test, y_temp, y_test = train_test_split(X, y, test_size=0.2, random_state=42)\n",
    "\n",
    "\n",
    "# 2단계: train+val을 train과 val로 분할 (64:16, 전체 대비)\n",
    "X_train, X_val, y_train, y_val = train_test_split(X_temp, y_temp, test_size=0.2, random_state=42)  # 0.2 × 0.8 = 0.16 (전체의 16%)\n",
    "\n",
    "\n",
    "# 최종 비율 확인\n",
    "# (X[:,0])~(X[:,7]) 에 각각의 입력변수들의 값들이 각각 저장됨\n",
    "\n",
    "\n",
    "\n",
    "print(X_val)\n",
    "print(f\"전체 데이터셋 크기: {len(X)}\")\n",
    "print(f\"훈련셋 크기: {len(X_train)} ({len(X_train)/len(X)*100:.1f}%)\")\n",
    "print(f\"검증셋 크기: {len(X_val)} ({len(X_val)/len(X)*100:.1f}%)\")  \n",
    "print(f\"테스트셋 크기: {len(X_test)} ({len(X_test)/len(X)*100:.1f}%)\")\n",
    "\n",
    "\n"
   ]
  },
  {
   "cell_type": "markdown",
   "id": "c8e1d9a9",
   "metadata": {},
   "source": [
    "step4-1. 층화추출(Stratified Sampling on y)을 하고 싶을 때 step4 대신 실행 / 데이터의 밀도가 다른 점을 고려"
   ]
  },
  {
   "cell_type": "raw",
   "id": "836e051a",
   "metadata": {
    "vscode": {
     "languageId": "raw"
    }
   },
   "source": [
    "\n",
    "\n",
    "# ===================================================================\n",
    "# Step 4: 데이터 분할 (훈련/검증/테스트 6:2:2, 층화 추출 적용)\n",
    "# ===================================================================\n",
    "\n",
    "from sklearn.model_selection import train_test_split\n",
    "import pandas as pd\n",
    "import numpy as np\n",
    "\n",
    "print(\"--- 데이터 분할 시작 (훈련/검증/테스트, 층화 추출 방식) ---\")\n",
    "\n",
    "# 1. 층화 추출을 위한 y값 그룹(strata) 생성\n",
    "num_bins = 5\n",
    "try:\n",
    "    y_binned = pd.cut(y.flatten(), bins=num_bins, labels=False)\n",
    "    stratify_option = y_binned\n",
    "    print(f\"y값을 {num_bins}개 구간으로 나누어 층화 추출을 진행합니다.\")\n",
    "except ValueError as e:\n",
    "    print(f\"경고: y값으로 층화 추출을 시도했으나 실패했습니다. ({e})\")\n",
    "    print(\"일반 무작위 추출 방식으로 전환합니다.\")\n",
    "    stratify_option = None\n",
    "\n",
    "# 2. 먼저, 훈련+검증 데이터(80%)와 최종 테스트 데이터(20%)로 분할합니다.\n",
    "X_train_val, X_test, y_train_val, y_test = train_test_split(\n",
    "    X, y, \n",
    "    test_size=0.2, \n",
    "    random_state=42, \n",
    "    stratify=stratify_option\n",
    ")\n",
    "\n",
    "# 3. 다음으로, 훈련+검증 데이터(X_train_val)를 다시 훈련 데이터(75%)와 검증 데이터(25%)로 분할합니다.\n",
    "#    (전체 데이터의 80% 중 75%는 60%, 25%는 20%에 해당하여, 최종적으로 60:20:20 비율이 됩니다.)\n",
    "\n",
    "# 층화 추출을 두 번째 분할에도 일관되게 적용하기 위해 y_train_val 그룹을 다시 만듭니다.\n",
    "try:\n",
    "    y_train_val_binned = pd.cut(y_train_val.flatten(), bins=num_bins, labels=False)\n",
    "    stratify_option_2 = y_train_val_binned\n",
    "except ValueError:\n",
    "    stratify_option_2 = None # 분할이 불가능하면 일반 추출\n",
    "\n",
    "X_train, X_val, y_train, y_val = train_test_split(\n",
    "    X_train_val, y_train_val,\n",
    "    test_size=0.25, # 80% 중 25%는 전체의 20%\n",
    "    random_state=42,\n",
    "    stratify=stratify_option_2\n",
    ")\n",
    "\n",
    "print(\"\\n--- 최종 분할 후 데이터셋 크기 ---\")\n",
    "print(f\"훈련 데이터 (X_train): {X_train.shape}\")\n",
    "print(f\"검증 데이터 (X_val): {X_val.shape}\")\n",
    "print(f\"테스트 데이터 (X_test): {X_test.shape}\")\n",
    "print(\"\\n--- 데이터 분할 완료 ---\")\n",
    "\n"
   ]
  },
  {
   "cell_type": "markdown",
   "id": "9cd52a27",
   "metadata": {},
   "source": [
    "step5. 데이터 정규화(normalization)_전처리 과정"
   ]
  },
  {
   "cell_type": "code",
   "execution_count": 7,
   "id": "7c5cc170",
   "metadata": {},
   "outputs": [
    {
     "name": "stdout",
     "output_type": "stream",
     "text": [
      "정규화 후 통계:\n",
      "X_train_norm: mean=0.4990, std=0.2308\n",
      "X_val_norm: mean=0.5033, std=0.2310\n",
      "X_test_norm: mean=0.5021, std=0.2315\n",
      "y_train_norm: mean=0.2327, std=0.1235\n",
      "y_val_norm: mean=0.2328, std=0.1356\n",
      "y_test_norm: mean=0.2393, std=0.1316\n"
     ]
    }
   ],
   "source": [
    "# 중요: 훈련 데이터(X_train, y_train)의 최소/최대값을 기준으로 스케일러를 학습(fit)하고,\n",
    "# 이 기준으로 모든 데이터셋(train, val, test)을 동일하게 변환합니다.\n",
    "# 이렇게 해야 테스트 과정에서 미래 정보(테스트셋의 최소/최대값)가 모델에 유출되는 것을 막을 수 있다.\n",
    "# validation dataset이나 test data로 스케일링을 할 시 데이터 누수 발생 가능\n",
    "\n",
    "from sklearn.preprocessing import MinMaxScaler\n",
    "import numpy as np\n",
    "\n",
    "\n",
    "\n",
    "# 1. MinMaxScaler 객체 생성 --- 범위를 0.1~0.9로 재설정\n",
    "scaler_X = MinMaxScaler(feature_range=(0.1, 0.9))\n",
    "scaler_y = MinMaxScaler(feature_range=(0.1, 0.9))\n",
    "\n",
    "\n",
    "\n",
    "\n",
    "X_train_norm = scaler_X.fit_transform(X_train) # 훈련 데이터로 스케일러 학습 및 변환 (fit_transform)\n",
    "y_train_norm = scaler_y.fit_transform(y_train) # X_train의 각 변수(컬럼)별로 최소값은 0, 최대값은 1이 되도록 변환됩니다.\n",
    "\n",
    "# 3. 학습된 스케일러로 검증 및 테스트 데이터 변환 (transform)\n",
    "# X_train의 기준으로 나머지 데이터들을 변환합니다.\n",
    "X_val_norm = scaler_X.transform(X_val)\n",
    "X_test_norm = scaler_X.transform(X_test)\n",
    "\n",
    "y_val_norm = scaler_y.transform(y_val)   # y_val 과 y_test 도 y_train 의 정규분포를 따라 변환된다\n",
    "y_test_norm = scaler_y.transform(y_test)\n",
    "\n",
    "\n",
    "#print(X_train_norm)\n",
    "\n",
    "#print(X_val_norm)\n",
    "\n",
    "#print(X_test_norm)\n",
    "\n",
    "#print(y_train_norm)\n",
    "\n",
    "#print(y_val_norm)\n",
    "\n",
    "#print(y_test_norm)\n",
    "\n",
    "# X_train_norm 은 [[x0~x7], [x0~x7],....,[x0~x7]] 에서 각 x0~x7은 각 열마다 각각 범위가 0~1로 범위가 변환됨\n",
    "# 이 변환된 정도를 X_val_norm 과 X_test_norm도 적용받음\n",
    "\n",
    "# 정규화 후 통계 확인\n",
    "print(\"정규화 후 통계:\")\n",
    "print(f\"X_train_norm: mean={X_train_norm.mean():.4f}, std={X_train_norm.std():.4f}\")\n",
    "print(f\"X_val_norm: mean={X_val_norm.mean():.4f}, std={X_val_norm.std():.4f}\")\n",
    "print(f\"X_test_norm: mean={X_test_norm.mean():.4f}, std={X_test_norm.std():.4f}\")\n",
    "print(f\"y_train_norm: mean={y_train_norm.mean():.4f}, std={y_train_norm.std():.4f}\")\n",
    "print(f\"y_val_norm: mean={y_val_norm.mean():.4f}, std={y_val_norm.std():.4f}\")\n",
    "print(f\"y_test_norm: mean={y_test_norm.mean():.4f}, std={y_test_norm.std():.4f}\")\n",
    "\n"
   ]
  },
  {
   "cell_type": "markdown",
   "id": "9ad59c20",
   "metadata": {},
   "source": [
    "step6. tensor 변환"
   ]
  },
  {
   "cell_type": "code",
   "execution_count": 8,
   "id": "482b4c61",
   "metadata": {},
   "outputs": [
    {
     "name": "stdout",
     "output_type": "stream",
     "text": [
      "모든 텐서가 cpu에 배치됨\n"
     ]
    }
   ],
   "source": [
    "# 딥러닝을 진행하기 전 모든 데이터셋을 tensor로 변환  # 원래는 numpy 배열이었음 --- 아까 scikitlearn의 train test split 이나 .fit transform 스케일러를 사용하였기에 \n",
    "X_train_tensor = torch.tensor(X_train_norm, dtype=torch.float32, device=device)\n",
    "X_val_tensor = torch.tensor(X_val_norm, dtype=torch.float32, device=device)\n",
    "X_test_tensor = torch.tensor(X_test_norm, dtype=torch.float32, device=device)\n",
    "y_train_tensor = torch.tensor(y_train_norm, dtype=torch.float32, device=device)\n",
    "y_val_tensor = torch.tensor(y_val_norm, dtype=torch.float32, device=device)\n",
    "y_test_tensor = torch.tensor(y_test_norm, dtype=torch.float32, device=device)\n",
    "\n",
    "print(f\"모든 텐서가 {device}에 배치됨\")\n"
   ]
  },
  {
   "cell_type": "markdown",
   "id": "996a7ee0",
   "metadata": {},
   "source": [
    "step7. dataset dictionary 만들기"
   ]
  },
  {
   "cell_type": "code",
   "execution_count": 9,
   "id": "d8165a42",
   "metadata": {},
   "outputs": [
    {
     "name": "stdout",
     "output_type": "stream",
     "text": [
      "train_input: torch.Size([1521, 8])\n",
      "train_label: torch.Size([1521, 1])\n",
      "val_input: torch.Size([381, 8])\n",
      "val_label: torch.Size([381, 1])\n",
      "test_input: torch.Size([476, 8])\n",
      "test_label: torch.Size([476, 1])\n"
     ]
    }
   ],
   "source": [
    "# 나중에 정의하기 편하게 dataset을 정의하기 -- 참고로 dataset들은 tensor 이다\n",
    "\n",
    "dataset = {'train_input': X_train_tensor,'train_label': y_train_tensor,\n",
    "            'val_input': X_val_tensor, 'val_label': y_val_tensor,\n",
    "            'test_input': X_test_tensor,'test_label': y_test_tensor }    # dataset dictionary에 key값과 value 값을 설정한다\n",
    "\n",
    "# 데이터셋 검토차 크기 확인\n",
    "for key, value in dataset.items():                     #.items()를 쓰면 key와 value 값을 묶어서 출력 // .items()가 없으면 오직 key만 출력\n",
    "    print(f\"{key}: {value.shape}\")\n",
    "\n"
   ]
  },
  {
   "cell_type": "markdown",
   "id": "7f52eab5",
   "metadata": {},
   "source": [
    "step8. 1개의 KAN 모델 생성"
   ]
  },
  {
   "cell_type": "code",
   "execution_count": 10,
   "id": "227d86c0",
   "metadata": {},
   "outputs": [
    {
     "name": "stdout",
     "output_type": "stream",
     "text": [
      "checkpoint directory created: ./model\n",
      "saving model version 0.0\n"
     ]
    }
   ],
   "source": [
    "# KAN 모델 생성\n",
    "model = KAN(width=[8,12,1], grid=3, k=3, seed=42, device=device, grid_range=[-2, 2])\n"
   ]
  },
  {
   "cell_type": "markdown",
   "id": "d6debc95",
   "metadata": {},
   "source": [
    "step9. KAN 학습"
   ]
  },
  {
   "cell_type": "code",
   "execution_count": 11,
   "id": "947446ce",
   "metadata": {},
   "outputs": [
    {
     "name": "stderr",
     "output_type": "stream",
     "text": [
      "| train_loss: 1.24e-01 | test_loss: 1.32e-01 | reg: 3.71e-01 | : 100%|█| 100/100 [00:51<00:00,  1.96\n"
     ]
    },
    {
     "name": "stdout",
     "output_type": "stream",
     "text": [
      "saving model version 0.1\n"
     ]
    },
    {
     "data": {
      "image/png": "[encoded data removed]",
      "text/plain": [
       "<Figure size 500x400 with 122 Axes>"
      ]
     },
     "metadata": {},
     "output_type": "display_data"
    }
   ],
   "source": [
    "# KAN 학습\n",
    "model.fit(dataset, opt=\"LBFGS\", steps=100, lamb=0.004) # update_grid = 가 False일때랑 True일때의 차이는?\n",
    "model.plot()"
   ]
  },
  {
   "cell_type": "markdown",
   "id": "d2f2ba8b",
   "metadata": {},
   "source": [
    "model의 성질을 잠깐 출력해보자"
   ]
  },
  {
   "cell_type": "code",
   "execution_count": 12,
   "id": "bbe9133d",
   "metadata": {},
   "outputs": [
    {
     "name": "stdout",
     "output_type": "stream",
     "text": [
      "--- 모델의 전체 구조 (print) ---\n",
      "MultKAN(\n",
      "  (act_fun): ModuleList(\n",
      "    (0-1): 2 x KANLayer(\n",
      "      (base_fun): SiLU()\n",
      "    )\n",
      "  )\n",
      "  (base_fun): SiLU()\n",
      "  (symbolic_fun): ModuleList(\n",
      "    (0-1): 2 x Symbolic_KANLayer()\n",
      "  )\n",
      ")\n",
      "\n",
      "--- 모델의 모든 속성 리스트 (dir) ---\n",
      "['T_destination', '__annotations__', '__call__', '__class__', '__delattr__', '__dict__', '__dir__', '__doc__', '__eq__', '__format__', '__ge__', '__getattr__', '__getattribute__', '__getstate__', '__gt__', '__hash__', '__init__', '__init_subclass__', '__le__', '__lt__', '__module__', '__ne__', '__new__', '__reduce__', '__reduce_ex__', '__repr__', '__setattr__', '__setstate__', '__sizeof__', '__str__', '__subclasshook__', '__weakref__', '_apply', '_backward_hooks', '_backward_pre_hooks', '_buffers', '_call_impl', '_compiled_call_impl', '_forward_hooks', '_forward_hooks_always_called', '_forward_hooks_with_kwargs', '_forward_pre_hooks', '_forward_pre_hooks_with_kwargs', '_get_backward_hooks', '_get_backward_pre_hooks', '_get_name', '_is_full_backward_hook', '_load_from_state_dict', '_load_state_dict_post_hooks', '_load_state_dict_pre_hooks', '_maybe_warn_non_full_backward_hook', '_modules', '_named_members', '_non_persistent_buffers_set', '_parameters', '_register_load_state_dict_pre_hook', '_register_state_dict_hook', '_replicate_for_data_parallel', '_save_to_state_dict', '_slow_forward', '_state_dict_hooks', '_state_dict_pre_hooks', '_version', '_wrapped_call_impl', 'act_fun', 'acts', 'acts_premult', 'acts_scale', 'acts_scale_spline', 'add_module', 'affine_trainable', 'apply', 'attribute', 'auto_save', 'auto_swap', 'auto_swap_l', 'auto_symbolic', 'base_fun', 'base_fun_name', 'bfloat16', 'buffers', 'cache_data', 'call_super_init', 'checkout', 'children', 'ckpt_path', 'compile', 'connection_cost', 'copy', 'cpu', 'cuda', 'depth', 'device', 'disable_symbolic_in_fit', 'double', 'dump_patches', 'edge_actscale', 'edge_scores', 'edge_scores_all', 'eval', 'evaluate', 'expand_depth', 'expand_width', 'extra_repr', 'feature_interaction', 'feature_score', 'fit', 'fix_symbolic', 'float', 'forward', 'get_act', 'get_buffer', 'get_extra_state', 'get_fun', 'get_parameter', 'get_params', 'get_range', 'get_reg', 'get_submodule', 'grid', 'grid_eps', 'grid_range', 'half', 'history', 'initialize_from_another_model', 'initialize_grid_from_another_model', 'input_id', 'ipu', 'k', 'load_state_dict', 'loadckpt', 'log_history', 'module', 'modules', 'mtia', 'mult_arity', 'mult_homo', 'n_edge', 'n_mult', 'n_sum', 'named_buffers', 'named_children', 'named_modules', 'named_parameters', 'node_attribute', 'node_bias', 'node_bias_0', 'node_bias_1', 'node_scale', 'node_scale_0', 'node_scale_1', 'node_scores', 'node_scores_all', 'parameters', 'perturb', 'plot', 'prune', 'prune_edge', 'prune_input', 'prune_node', 'refine', 'reg', 'register_backward_hook', 'register_buffer', 'register_forward_hook', 'register_forward_pre_hook', 'register_full_backward_hook', 'register_full_backward_pre_hook', 'register_load_state_dict_post_hook', 'register_load_state_dict_pre_hook', 'register_module', 'register_parameter', 'register_state_dict_post_hook', 'register_state_dict_pre_hook', 'remove_edge', 'remove_node', 'requires_grad_', 'rewind', 'round', 'save_act', 'saveckpt', 'sb_trainable', 'set_extra_state', 'set_mode', 'set_submodule', 'share_memory', 'sp_trainable', 'speed', 'spline_postacts', 'spline_postsplines', 'spline_preacts', 'state_dict', 'state_id', 'subnode_actscale', 'subnode_bias', 'subnode_bias_0', 'subnode_bias_1', 'subnode_scale', 'subnode_scale_0', 'subnode_scale_1', 'subnode_scores', 'subnode_scores_all', 'suggest_symbolic', 'swap', 'symbolic_enabled', 'symbolic_formula', 'symbolic_fun', 'to', 'to_empty', 'train', 'training', 'tree', 'type', 'unfix_symbolic', 'unfix_symbolic_all', 'update_grid', 'update_grid_from_samples', 'width', 'width_in', 'width_out', 'xpu', 'zero_grad']\n"
     ]
    }
   ],
   "source": [
    "# 1. 모델의 전체 구조를 친절하게 출력해보기 (가장 추천!)\n",
    "print(\"--- 모델의 전체 구조 (print) ---\")\n",
    "print(model)\n",
    "\n",
    "# 2. 모델이 가진 모든 속성(변수, 함수) 리스트를 확인해보기\n",
    "print(\"\\n--- 모델의 모든 속성 리스트 (dir) ---\")\n",
    "print(dir(model))\n"
   ]
  },
  {
   "cell_type": "markdown",
   "id": "2ad68e51",
   "metadata": {},
   "source": [
    "학습가능 파라미터 수 "
   ]
  },
  {
   "cell_type": "code",
   "execution_count": 13,
   "id": "553f6ac5",
   "metadata": {},
   "outputs": [
    {
     "name": "stdout",
     "output_type": "stream",
     "text": [
      "학습가능 파라미터 수: 1,296\n",
      "act_fun.0.coef                           torch.Size([8, 12, 6])   576\n",
      "act_fun.0.scale_base                     torch.Size([8, 12])    96\n",
      "act_fun.0.scale_sp                       torch.Size([8, 12])    96\n",
      "act_fun.1.coef                           torch.Size([12, 1, 6])    72\n",
      "act_fun.1.scale_base                     torch.Size([12, 1])    12\n",
      "act_fun.1.scale_sp                       torch.Size([12, 1])    12\n",
      "symbolic_fun.0.affine                    torch.Size([12, 8, 4])   384\n",
      "symbolic_fun.1.affine                    torch.Size([1, 12, 4])    48\n"
     ]
    }
   ],
   "source": [
    "num_params = sum(p.numel() for p in model.parameters() if p.requires_grad)\n",
    "print(f\"학습가능 파라미터 수: {num_params:,}\")\n",
    "\n",
    "for name, p in model.named_parameters():\n",
    "    if p.requires_grad:\n",
    "        print(f\"{name:40s} {p.shape} {p.numel():5d}\")\n"
   ]
  },
  {
   "cell_type": "markdown",
   "id": "91261a8c",
   "metadata": {},
   "source": [
    "학습가능한 파라미터의 리스트를 나열해보자"
   ]
  },
  {
   "cell_type": "code",
   "execution_count": 14,
   "id": "324ce580",
   "metadata": {},
   "outputs": [
    {
     "name": "stdout",
     "output_type": "stream",
     "text": [
      "(감지된 모델 타입: MultKAN)\n",
      "\n",
      "  [ Layer 0 (KANLayer) ] \n",
      " \n",
      " > Coefficients Shape: (8, 12, 6)\n",
      "  > Coefficients List (전체 파라미터)\n",
      "[[[ 3.88405174e-02  5.24510816e-02  4.39568572e-02  4.01412398e-02\n",
      "    3.08746025e-02  3.17133702e-02]\n",
      "  [ 3.94308306e-02  1.22486986e-01  5.77976517e-02  3.41466218e-02\n",
      "   -4.41159867e-02 -3.18001281e-03]\n",
      "  [-4.29705791e-02 -9.55207050e-02 -3.78541201e-02 -4.88956179e-03\n",
      "    6.93194941e-02  3.98392193e-02]\n",
      "  [-6.87586814e-02 -6.33889064e-02 -4.33491580e-02 -2.25472879e-02\n",
      "    3.19786253e-03  3.27614322e-02]\n",
      "  [ 1.97693650e-02  5.56798726e-02  1.82182025e-02 -2.21468089e-03\n",
      "   -4.74576205e-02 -4.42209542e-02]\n",
      "  [ 2.09524911e-02  2.06595361e-02  1.55560495e-02  1.00485180e-02\n",
      "    3.52128549e-03 -5.45594841e-03]\n",
      "  [ 2.66373754e-02  1.41232042e-02  2.00054068e-02  2.02056915e-02\n",
      "    2.32274011e-02  3.22990492e-02]\n",
      "  [-4.61025573e-02 -5.66461273e-02 -2.79815048e-02 -3.19394958e-03\n",
      "    3.34995650e-02  4.85876426e-02]\n",
      "  [-2.42513753e-02 -3.56268436e-02 -4.78984900e-02 -6.24479391e-02\n",
      "   -7.94652626e-02 -1.01276137e-01]\n",
      "  [-1.94851570e-02 -1.77613720e-02 -2.37555839e-02 -3.23198885e-02\n",
      "   -3.97023931e-02 -5.12589924e-02]\n",
      "  [-1.40413679e-02 -3.91127449e-03  9.09682829e-04  8.48725438e-03\n",
      "    1.59663763e-02  2.78075412e-02]\n",
      "  [-1.96653605e-02 -1.87967569e-02  5.96609549e-04  1.95734166e-02\n",
      "    4.52217162e-02  6.34022877e-02]]\n",
      "\n",
      " [[-5.61585687e-02 -7.46712387e-02 -3.06752324e-02  1.71396125e-03\n",
      "    6.19332381e-02  5.30810989e-02]\n",
      "  [-4.85102087e-03 -3.28324847e-02 -2.66272407e-02 -2.89032049e-02\n",
      "   -2.44187508e-02 -3.97188514e-02]\n",
      "  [ 1.56150432e-02  1.39308476e-03 -4.76439530e-03 -2.26000100e-02\n",
      "   -2.88431346e-02 -8.21204931e-02]\n",
      "  [-4.38882262e-02 -7.62969628e-02 -5.03231809e-02 -4.10713442e-02\n",
      "   -1.07424967e-02 -1.83837358e-02]\n",
      "  [-1.58072263e-02  5.07274782e-03 -5.84181910e-03 -7.10002100e-03\n",
      "   -2.13203505e-02  6.41486095e-03]\n",
      "  [ 5.49941743e-03  8.32717568e-02  3.59483659e-02  1.66277215e-02\n",
      "   -3.94334681e-02  1.38214952e-03]\n",
      "  [ 4.25102599e-02  4.03787009e-02  3.49359177e-02  3.02793775e-02\n",
      "    2.21841149e-02  2.28140652e-02]\n",
      "  [-1.63118299e-02 -9.65045299e-03 -1.77539396e-03  7.17112795e-03\n",
      "    1.74781941e-02  3.06473430e-02]\n",
      "  [-5.60570545e-02 -9.14255232e-02 -6.52200803e-02 -5.39545156e-02\n",
      "   -2.53357720e-02 -2.61359289e-02]\n",
      "  [-8.26104432e-02 -1.48434818e-01 -7.46406168e-02 -3.60363126e-02\n",
      "    5.57165705e-02  2.62363292e-02]\n",
      "  [-6.35786057e-02 -1.54192954e-01 -6.59690127e-02 -1.99726336e-02\n",
      "    8.77074823e-02  5.44531569e-02]\n",
      "  [-5.77328494e-03  2.16787914e-03  2.09184829e-02  4.25432958e-02\n",
      "    6.62455112e-02  1.01474822e-01]]\n",
      "\n",
      " [[ 1.88179000e-03 -1.33543406e-02  6.60424214e-03  8.96399375e-03\n",
      "    3.07137631e-02  3.13186869e-02]\n",
      "  [ 5.57845458e-03  9.68229305e-03  1.26550859e-03 -8.58964399e-03\n",
      "   -1.74976550e-02 -3.71125974e-02]\n",
      "  [-2.32197270e-02 -9.78803821e-03 -7.50469553e-05  1.68537386e-02\n",
      "    2.91232485e-02  6.58319443e-02]\n",
      "  [-6.15288951e-02 -6.22067563e-02 -4.23162505e-02 -2.31435280e-02\n",
      "    1.31718314e-03  2.85851303e-02]\n",
      "  [-1.83509775e-02  6.34723008e-02  2.56824447e-03 -3.57915685e-02\n",
      "   -1.17681779e-01 -5.13743199e-02]\n",
      "  [ 3.27320695e-02  7.21290857e-02  4.77865823e-02  4.20691893e-02\n",
      "    1.73502248e-02  2.16409657e-02]\n",
      "  [ 2.71167490e-03  7.43849277e-02  1.46143679e-02 -1.05869044e-02\n",
      "   -8.56844783e-02 -5.76638319e-02]\n",
      "  [-5.77170737e-02 -8.58823881e-02 -4.44745086e-02 -2.33396273e-02\n",
      "    2.50211880e-02  3.72406133e-02]\n",
      "  [-3.46085094e-02 -1.09110683e-01 -7.01599643e-02 -5.72575480e-02\n",
      "   -1.75193772e-02 -3.12741660e-02]\n",
      "  [ 2.52972078e-02  1.41015882e-02  1.58321243e-02  1.50003554e-02\n",
      "    1.83658861e-02 -2.04835203e-03]\n",
      "  [ 1.23938248e-02 -6.37754351e-02 -6.56209793e-03  2.68193539e-02\n",
      "    9.63584483e-02  7.46132359e-02]\n",
      "  [-2.81898910e-03 -2.04514358e-02  8.20969976e-03  2.63339430e-02\n",
      "    6.22739047e-02  6.59694374e-02]]\n",
      "\n",
      " [[-4.25014831e-02 -2.83461642e-02 -3.25730033e-02 -3.17066833e-02\n",
      "   -3.57269086e-02 -2.68594418e-02]\n",
      "  [-2.88244374e-02 -2.43929792e-02 -2.87471116e-02 -3.02669611e-02\n",
      "   -3.57482098e-02 -3.21643054e-02]\n",
      "  [-5.66828325e-02 -1.08948223e-01 -6.36347756e-02 -3.56369279e-02\n",
      "    2.15483364e-02 -3.45599907e-03]\n",
      "  [ 4.00792509e-02  5.56274392e-02  2.69215535e-02  2.11332813e-02\n",
      "   -1.04807382e-02 -1.64564643e-02]\n",
      "  [ 1.97206959e-02  9.38556567e-02  3.79727222e-02  1.49310287e-02\n",
      "   -5.13235889e-02 -2.36118305e-02]\n",
      "  [ 3.24705131e-02  4.95227836e-02  3.94758433e-02  3.65351774e-02\n",
      "    2.68697459e-02  3.18304747e-02]\n",
      "  [ 3.04513834e-02  3.90112810e-02  3.70021909e-02  3.82537059e-02\n",
      "    3.66571471e-02  4.22335118e-02]\n",
      "  [-4.24807593e-02 -1.12211257e-01 -3.55093181e-02  3.60074826e-03\n",
      "    1.01157717e-01  5.99988252e-02]\n",
      "  [-2.34750286e-02 -6.98842034e-02 -3.30681242e-02 -1.83987841e-02\n",
      "    2.35629808e-02  1.30678900e-02]\n",
      "  [-5.06851673e-02 -3.96250784e-02 -4.64430042e-02 -4.89730388e-02\n",
      "   -5.66311218e-02 -5.32878265e-02]\n",
      "  [-1.98500976e-02 -3.10768634e-02 -3.66718397e-02 -4.71677221e-02\n",
      "   -5.44312298e-02 -7.88861290e-02]\n",
      "  [-4.12603617e-02 -4.26236503e-02 -4.18855250e-02 -4.08762395e-02\n",
      "   -4.08235043e-02 -3.54958102e-02]]\n",
      "\n",
      " [[-5.71151730e-03 -7.14472553e-05  7.41597451e-03  2.04030946e-02\n",
      "    2.84363553e-02  6.03761598e-02]\n",
      "  [ 1.98053624e-02  4.14599553e-02  5.99967642e-03 -1.66924410e-02\n",
      "   -6.22212999e-02 -5.24774529e-02]\n",
      "  [-9.15488042e-03 -7.43514970e-02 -2.42338814e-02 -2.78370222e-03\n",
      "    5.82676567e-02  1.53054493e-02]\n",
      "  [ 2.92998478e-02  2.78827474e-02 -2.38201278e-03 -2.79329624e-02\n",
      "   -6.82104155e-02 -7.89550915e-02]\n",
      "  [ 4.47047688e-03  1.53707797e-02  9.97223519e-03  9.53685865e-03\n",
      "    3.41621600e-03  1.29699446e-02]\n",
      "  [-6.66265981e-03 -3.39434296e-02 -2.66428329e-02 -2.86524240e-02\n",
      "   -2.25811228e-02 -3.67833003e-02]\n",
      "  [ 2.17424915e-03 -1.54928584e-03 -8.34154058e-03 -1.45804826e-02\n",
      "   -2.48589311e-02 -2.43745036e-02]\n",
      "  [-9.07864422e-03 -8.08029715e-03 -5.85542666e-03 -2.64224713e-03\n",
      "    2.55126710e-04  4.77880705e-03]\n",
      "  [-4.99434508e-02 -7.83061609e-02 -4.98409830e-02 -3.24131250e-02\n",
      "    1.77293050e-03  2.97591579e-03]\n",
      "  [ 1.59502998e-02  4.16309871e-02  1.60745308e-02  4.68211342e-03\n",
      "   -2.60267500e-02 -1.40341036e-02]\n",
      "  [-3.54307033e-02 -3.41712050e-02 -2.59036291e-02 -1.84745062e-02\n",
      "   -6.97135646e-03 -5.53446356e-03]\n",
      "  [-5.53522259e-03  4.54200432e-02 -7.67493201e-03 -3.73139754e-02\n",
      "   -1.05008110e-01 -7.24789277e-02]]\n",
      "\n",
      " [[ 5.05547412e-02  1.05758362e-01  3.11089642e-02 -5.07874135e-03\n",
      "   -1.00399166e-01 -6.86363578e-02]\n",
      "  [-2.51864437e-02 -2.37525031e-02 -1.51255121e-02 -7.85534829e-03\n",
      "    2.87833833e-03  1.41596496e-02]\n",
      "  [-3.09423022e-02 -8.07601288e-02 -3.69166210e-02 -8.78504477e-03\n",
      "    4.66803759e-02  2.83989217e-02]\n",
      "  [-2.49755178e-02  1.72892772e-03 -3.32705230e-02 -5.50150052e-02\n",
      "   -1.05858669e-01 -7.13359565e-02]\n",
      "  [ 6.97633401e-02  1.17290542e-01  6.36024848e-02  3.10079511e-02\n",
      "   -3.83646227e-02 -1.27915060e-02]\n",
      "  [-3.22136283e-02 -4.95148934e-02 -2.48511583e-02 -9.21005663e-03\n",
      "    2.19832603e-02  2.06476226e-02]\n",
      "  [ 6.39675409e-02  3.20983119e-02  3.11888512e-02  2.52598543e-02\n",
      "    1.72825921e-02  2.06788573e-02]\n",
      "  [-5.14645651e-02 -1.14883244e-01 -3.71669047e-02  1.30809052e-02\n",
      "    1.17667794e-01  7.02145472e-02]\n",
      "  [-9.66022350e-03 -9.30601582e-02 -1.60847045e-02  1.90834999e-02\n",
      "    1.14539184e-01  7.63756484e-02]\n",
      "  [-5.06784022e-02 -3.01949549e-02 -3.30496244e-02 -3.62269767e-02\n",
      "   -3.14465761e-02 -6.65868744e-02]\n",
      "  [-5.56226680e-03 -4.26677195e-03  6.45436812e-04  5.83793223e-03\n",
      "    1.22458506e-02  1.81641709e-02]\n",
      "  [ 2.40490306e-02  1.38610471e-02  7.65553396e-03 -5.01523912e-03\n",
      "   -1.12005882e-02 -5.06397933e-02]]\n",
      "\n",
      " [[ 1.08846882e-02  1.31283291e-02  1.69878416e-02  1.52636552e-02\n",
      "    1.49378413e-02  4.75271530e-02]\n",
      "  [ 4.81781475e-02  1.31364316e-01  6.29200190e-02  3.70082967e-02\n",
      "   -4.39099222e-02 -7.53517309e-03]\n",
      "  [-1.15234395e-02 -4.71427292e-03 -1.11873252e-02 -1.50491474e-02\n",
      "   -2.28276625e-02 -2.33280193e-02]\n",
      "  [-2.84267999e-02 -5.83325624e-02 -2.22962424e-02 -9.97079536e-04\n",
      "    4.44763452e-02  3.55105773e-02]\n",
      "  [ 2.28117574e-02  7.24808173e-03  7.23927980e-03  1.91274250e-03\n",
      "   -1.42157776e-04 -1.28907263e-02]\n",
      "  [-3.25520919e-03  2.43601899e-05 -1.40396487e-02 -2.59875413e-02\n",
      "   -4.22351100e-02 -6.01475984e-02]\n",
      "  [ 2.90703718e-02  6.06997125e-02  3.53872068e-02  2.72035282e-02\n",
      "   -8.96306650e-04  4.65532625e-03]\n",
      "  [-7.36299157e-02 -1.32455081e-01 -8.12325329e-02 -5.08756302e-02\n",
      "    1.19000142e-02 -1.30695282e-02]\n",
      "  [-8.49645678e-03 -1.27350364e-03 -2.66184495e-03 -1.20046013e-03\n",
      "   -2.52269744e-03  2.81126448e-03]\n",
      "  [ 3.80543550e-03 -2.68046688e-02  8.26081540e-03  2.89506484e-02\n",
      "    7.32010826e-02  6.18299991e-02]\n",
      "  [ 1.04480807e-03 -7.92645514e-02 -1.39410759e-03  3.31160426e-02\n",
      "    1.28519401e-01  8.87911841e-02]\n",
      "  [-5.72517179e-02 -4.73341495e-02 -2.85540279e-02 -6.55342499e-03\n",
      "    1.74993873e-02  5.21296859e-02]]\n",
      "\n",
      " [[ 2.12670844e-02  7.19347373e-02 -2.03414331e-03 -3.77912708e-02\n",
      "   -1.32822871e-01 -8.70719999e-02]\n",
      "  [ 5.89602366e-02  1.08191065e-01  4.64587547e-02  1.02872634e-02\n",
      "   -6.70462325e-02 -3.80853377e-02]\n",
      "  [ 5.02595827e-02  8.93659592e-02  3.96329053e-02  8.88818502e-03\n",
      "   -5.42797595e-02 -3.00493799e-02]\n",
      "  [-1.44196097e-02 -1.36176459e-02 -3.42744552e-02 -5.49195856e-02\n",
      "   -8.24327245e-02 -9.19957086e-02]\n",
      "  [ 4.49169278e-02  8.15749615e-02  2.88936291e-02 -7.18832947e-03\n",
      "   -7.57321492e-02 -5.11293039e-02]\n",
      "  [ 5.88575006e-03  1.61429937e-03 -2.22003227e-03 -7.56332092e-03\n",
      "   -1.25333611e-02 -2.20043790e-02]\n",
      "  [-1.15287909e-02  1.29859967e-04  6.55836519e-03  1.70831457e-02\n",
      "    2.50885189e-02  4.67606932e-02]\n",
      "  [ 1.15723338e-03 -1.56346448e-02 -2.22746935e-02 -3.61014083e-02\n",
      "   -4.51121591e-02 -7.94482231e-02]\n",
      "  [-7.05175400e-02 -1.20022625e-01 -6.76815435e-02 -3.26796770e-02\n",
      "    2.89749522e-02  2.64138151e-02]\n",
      "  [-4.01663072e-02 -9.24758092e-02 -4.45714220e-02 -1.85065214e-02\n",
      "    4.15164568e-02  9.72986035e-03]\n",
      "  [-7.49095753e-02 -1.02743834e-01 -7.20497519e-02 -5.35133034e-02\n",
      "   -1.83186084e-02 -1.33617260e-02]\n",
      "  [ 4.64936793e-02  3.79160680e-02  3.90173681e-02  3.65921631e-02\n",
      "    3.70304249e-02  3.09692118e-02]]]\n",
      "\n",
      "  [ Layer 1 (KANLayer) ] \n",
      " \n",
      " > Coefficients Shape: (12, 1, 6)\n",
      "  > Coefficients List (전체 파라미터)\n",
      "[[[0.0705714  0.07009967 0.07006856 0.07005816 0.07004101 0.07023817]]\n",
      "\n",
      " [[0.10083769 0.09985129 0.0993064  0.09857601 0.0982082  0.09801919]]\n",
      "\n",
      " [[0.01278496 0.01286126 0.01294225 0.01300327 0.01325961 0.01183869]]\n",
      "\n",
      " [[0.05970144 0.05949846 0.05982153 0.06031131 0.06091813 0.06158197]]\n",
      "\n",
      " [[0.0548129  0.05496132 0.05417218 0.05325385 0.05232749 0.05125211]]\n",
      "\n",
      " [[0.09817523 0.09610967 0.09542719 0.09451127 0.09375209 0.09262448]]\n",
      "\n",
      " [[0.04871488 0.04622915 0.04569246 0.04560119 0.04451411 0.04606628]]\n",
      "\n",
      " [[0.03224061 0.03295459 0.03328168 0.0337062  0.03410122 0.03448796]]\n",
      "\n",
      " [[0.06608269 0.07004626 0.07142518 0.07312277 0.07453085 0.07464682]]\n",
      "\n",
      " [[0.05265858 0.05216933 0.05344051 0.05340241 0.05370121 0.05380597]]\n",
      "\n",
      " [[0.09771162 0.10101462 0.10166994 0.10257593 0.10333848 0.10409639]]\n",
      "\n",
      " [[0.03831405 0.03691706 0.03646963 0.03584684 0.03540185 0.03398378]]]\n"
     ]
    }
   ],
   "source": [
    "import numpy as np\n",
    "import torch\n",
    "\n",
    "def print_parameters(model):\n",
    "  \n",
    "    \n",
    "    target_layers = None\n",
    "    model_type_name = type(model).__name__   # class 이름 알려주기  -- 보통 MultKIKAN이다\n",
    "    \n",
    "    print(f\"(감지된 모델 타입: {model_type_name})\")\n",
    "    \n",
    "\n",
    "\n",
    "   \n",
    "    if model_type_name == 'MultKAN':\n",
    "        target_layers = model.act_fun\n",
    "    elif model_type_name == 'KAN':\n",
    "        target_layers = model.layers\n",
    "    else:\n",
    "        print(f\"[에러] 지원되지 않는 모델 타입입니다: {model_type_name}\")\n",
    "        return\n",
    "\n",
    "\n",
    "\n",
    "\n",
    "\n",
    "    # layer 자체의 coef 속성에 직접 접근합니다.\n",
    "    for i, layer in enumerate(target_layers):                        # enumerate 는 layer의 원소와 이름을 쌍으로 가져옴   # (0, 첫번째 레이어), (1, 두번째 레이어), ...\n",
    "\n",
    "        print(f\"\\n  [ Layer {i} ({type(layer).__name__}) ] \")\n",
    "        \n",
    "        # 'KANLayer' 객체(layer)가 가진 .coef 속성을 직접 가져옵니다.\n",
    "        # 이로써 내부 for문이 완전히 사라지고 코드가 더 간결해졌습니다.\n",
    "        coeffs = layer.coef.detach().cpu().numpy()\n",
    "        \n",
    "        print(f\" \\n > Coefficients Shape: {coeffs.shape}\")\n",
    "        print(f\"  > Coefficients List (전체 파라미터)\")\n",
    "        print(f\"{coeffs}\")  # 이게 파라미터들의 리스트\n",
    "            \n",
    "    \n",
    "\n",
    "# 이 최종 완성된 함수를 실행합니다.\n",
    "print_parameters(model)\n",
    "\n",
    "# [팁] 파라미터 리스트가 너무 길어서 [...]로 생략된다면,NumPy의 출력 옵션을 설정하여 전체 배열을 볼 수 있음\n",
    "# np.set_printoptions(threshold=np.inf)\n",
    "\n",
    "\n"
   ]
  },
  {
   "cell_type": "raw",
   "id": "97aa8bd6",
   "metadata": {
    "vscode": {
     "languageId": "raw"
    }
   },
   "source": [
    "#pruning\n",
    "model = model.prune(node_th=1e-2, edge_th=3e-2)  # 더 자르고 싶으면 값을 높이고, 덜 자르고 변수를 많이 있게 하고 싶으면 값을 낮추기\n",
    "model.plot()"
   ]
  },
  {
   "cell_type": "raw",
   "id": "52219276",
   "metadata": {
    "vscode": {
     "languageId": "raw"
    }
   },
   "source": [
    "#학습\n",
    "model.fit(dataset, opt=\"LBFGS\", steps=100)  # update_grid = 가 False일때랑 True일때의 차이는?\n",
    "model.plot()"
   ]
  },
  {
   "cell_type": "markdown",
   "id": "6d477e33",
   "metadata": {},
   "source": [
    "step10. KAN refine(grid extension) 후 재학습"
   ]
  },
  {
   "cell_type": "code",
   "execution_count": 15,
   "id": "29921454",
   "metadata": {},
   "outputs": [
    {
     "name": "stdout",
     "output_type": "stream",
     "text": [
      "saving model version 0.2\n"
     ]
    },
    {
     "name": "stderr",
     "output_type": "stream",
     "text": [
      "| train_loss: 2.19e-05 | test_loss: 1.23e-02 | reg: 1.86e+01 | : 100%|█| 30/30 [00:19<00:00,  1.54it\n"
     ]
    },
    {
     "name": "stdout",
     "output_type": "stream",
     "text": [
      "saving model version 0.3\n"
     ]
    },
    {
     "data": {
      "image/png": "[encoded data removed]",
      "text/plain": [
       "<Figure size 500x400 with 122 Axes>"
      ]
     },
     "metadata": {},
     "output_type": "display_data"
    }
   ],
   "source": [
    "# refine(grid extension) 그리드 세분화(구간 세분화)(전체 구간 개수 30개로 변화)\n",
    "model = model.refine(30)\n",
    "model.fit(dataset, opt=\"LBFGS\", steps=30)\n",
    "model.plot()"
   ]
  },
  {
   "cell_type": "markdown",
   "id": "445c58e6",
   "metadata": {},
   "source": [
    "step11. KAN symbolification"
   ]
  },
  {
   "cell_type": "code",
   "execution_count": 16,
   "id": "666a6d8c",
   "metadata": {},
   "outputs": [
    {
     "name": "stdout",
     "output_type": "stream",
     "text": [
      "fixing (0,0,0) with 0, r2=0.0, c=0\n",
      "fixing (0,0,1) with 0, r2=0.0, c=0\n",
      "fixing (0,0,2) with 0, r2=0.0, c=0\n",
      "fixing (0,0,3) with 0, r2=0.0, c=0\n",
      "fixing (0,0,4) with 0, r2=0.0, c=0\n",
      "fixing (0,0,5) with 0, r2=0.0, c=0\n",
      "fixing (0,0,6) with 0, r2=0.0, c=0\n",
      "fixing (0,0,7) with 0, r2=0.0, c=0\n",
      "fixing (0,0,8) with 0, r2=0.0, c=0\n",
      "fixing (0,0,9) with 0, r2=0.0, c=0\n",
      "fixing (0,0,10) with 0, r2=0.0, c=0\n",
      "fixing (0,0,11) with x, r2=0.9680996537208557, c=1\n",
      "fixing (0,1,0) with 0, r2=0.0, c=0\n",
      "fixing (0,1,1) with 0, r2=0.0, c=0\n",
      "fixing (0,1,2) with x, r2=0.9437102675437927, c=1\n",
      "fixing (0,1,3) with 0, r2=0.0, c=0\n",
      "fixing (0,1,4) with 0, r2=0.0, c=0\n",
      "fixing (0,1,5) with 0, r2=0.0, c=0\n",
      "fixing (0,1,6) with 0, r2=0.0, c=0\n",
      "fixing (0,1,7) with 0, r2=0.0, c=0\n",
      "fixing (0,1,8) with 0, r2=0.0, c=0\n",
      "fixing (0,1,9) with 0, r2=0.0, c=0\n",
      "fixing (0,1,10) with 0, r2=0.0, c=0\n",
      "fixing (0,1,11) with x, r2=0.9890894889831543, c=1\n",
      "fixing (0,2,0) with 0, r2=0.0, c=0\n",
      "fixing (0,2,1) with 0, r2=0.0, c=0\n",
      "fixing (0,2,2) with 0, r2=0.0, c=0\n",
      "fixing (0,2,3) with 0, r2=0.0, c=0\n",
      "fixing (0,2,4) with 0, r2=0.0, c=0\n",
      "fixing (0,2,5) with 0, r2=0.0, c=0\n",
      "fixing (0,2,6) with 0, r2=0.0, c=0\n",
      "fixing (0,2,7) with 0, r2=0.0, c=0\n",
      "fixing (0,2,8) with 0, r2=0.0, c=0\n",
      "fixing (0,2,9) with x, r2=0.9452199935913086, c=1\n",
      "fixing (0,2,10) with 0, r2=0.0, c=0\n",
      "fixing (0,2,11) with x, r2=0.9821704030036926, c=1\n",
      "fixing (0,3,0) with x, r2=0.9416435956954956, c=1\n",
      "fixing (0,3,1) with x, r2=0.9865069389343262, c=1\n",
      "fixing (0,3,2) with x, r2=0.9745162129402161, c=1\n",
      "fixing (0,3,3) with x, r2=0.9859501123428345, c=1\n",
      "fixing (0,3,4) with 0, r2=0.0, c=0\n",
      "fixing (0,3,5) with x, r2=0.9821443557739258, c=1\n",
      "fixing (0,3,6) with 0, r2=0.0, c=0\n",
      "fixing (0,3,7) with x, r2=0.9880256652832031, c=1\n",
      "fixing (0,3,8) with x, r2=0.9916509985923767, c=1\n",
      "fixing (0,3,9) with x, r2=0.9481018781661987, c=1\n",
      "fixing (0,3,10) with x, r2=0.9786773324012756, c=1\n",
      "fixing (0,3,11) with 0, r2=0.0, c=0\n",
      "fixing (0,4,0) with 0, r2=0.0, c=0\n",
      "fixing (0,4,1) with 0, r2=0.0, c=0\n",
      "fixing (0,4,2) with 0, r2=0.0, c=0\n",
      "fixing (0,4,3) with 0, r2=0.0, c=0\n",
      "fixing (0,4,4) with 0, r2=0.0, c=0\n",
      "fixing (0,4,5) with x, r2=0.9787936806678772, c=1\n",
      "fixing (0,4,6) with 0, r2=0.0, c=0\n",
      "fixing (0,4,7) with x, r2=0.9885019063949585, c=1\n",
      "fixing (0,4,8) with x, r2=0.9504646062850952, c=1\n",
      "fixing (0,4,9) with 0, r2=0.0, c=0\n",
      "fixing (0,4,10) with 0, r2=0.0, c=0\n",
      "fixing (0,4,11) with x, r2=0.9880170226097107, c=1\n",
      "fixing (0,5,0) with 0, r2=0.0, c=0\n",
      "fixing (0,5,1) with x, r2=0.9666426777839661, c=1\n",
      "fixing (0,5,2) with 0, r2=0.0, c=0\n",
      "fixing (0,5,3) with 0, r2=0.0, c=0\n",
      "fixing (0,5,4) with 0, r2=0.0, c=0\n",
      "fixing (0,5,5) with x, r2=0.9608654379844666, c=1\n",
      "fixing (0,5,6) with 0, r2=0.0, c=0\n",
      "fixing (0,5,7) with x, r2=0.9731467366218567, c=1\n",
      "fixing (0,5,8) with 0, r2=0.0, c=0\n",
      "fixing (0,5,9) with x, r2=0.9463627934455872, c=1\n",
      "fixing (0,5,10) with 0, r2=0.0, c=0\n",
      "fixing (0,5,11) with x, r2=0.9854986071586609, c=1\n",
      "fixing (0,6,0) with 0, r2=0.0, c=0\n",
      "fixing (0,6,1) with x, r2=0.9613559246063232, c=1\n",
      "fixing (0,6,2) with 0, r2=0.0, c=0\n",
      "fixing (0,6,3) with 0, r2=0.0, c=0\n",
      "fixing (0,6,4) with x, r2=0.9870217442512512, c=1\n",
      "fixing (0,6,5) with x, r2=0.9898383021354675, c=1\n",
      "fixing (0,6,6) with x, r2=0.9658377766609192, c=1\n",
      "fixing (0,6,7) with 0, r2=0.0, c=0\n",
      "fixing (0,6,8) with x, r2=0.9447258114814758, c=1\n",
      "fixing (0,6,9) with x, r2=0.9716582894325256, c=1\n",
      "fixing (0,6,10) with x, r2=0.9575777649879456, c=1\n",
      "fixing (0,6,11) with 0, r2=0.0, c=0\n",
      "fixing (0,7,0) with x, r2=0.9607643485069275, c=1\n",
      "fixing (0,7,1) with 0, r2=0.0, c=0\n",
      "fixing (0,7,2) with x, r2=0.9714375734329224, c=1\n",
      "fixing (0,7,3) with 0, r2=0.0, c=0\n",
      "fixing (0,7,4) with 0, r2=0.0, c=0\n",
      "fixing (0,7,5) with 0, r2=0.0, c=0\n",
      "fixing (0,7,6) with 0, r2=0.0, c=0\n",
      "fixing (0,7,7) with x, r2=0.9770973324775696, c=1\n",
      "fixing (0,7,8) with 0, r2=0.0, c=0\n",
      "fixing (0,7,9) with 0, r2=0.0, c=0\n",
      "fixing (0,7,10) with 0, r2=0.0, c=0\n",
      "fixing (0,7,11) with x, r2=0.9724642038345337, c=1\n",
      "fixing (1,0,0) with 0, r2=0.0, c=0\n",
      "fixing (1,1,0) with 0, r2=0.0, c=0\n",
      "fixing (1,2,0) with 0, r2=0.0, c=0\n",
      "fixing (1,3,0) with 0, r2=0.0, c=0\n",
      "fixing (1,4,0) with x, r2=0.9444935321807861, c=1\n",
      "fixing (1,5,0) with x, r2=0.9443749785423279, c=1\n",
      "fixing (1,6,0) with 0, r2=0.0, c=0\n",
      "fixing (1,7,0) with 0, r2=0.0, c=0\n",
      "fixing (1,8,0) with 0, r2=0.0, c=0\n",
      "fixing (1,9,0) with 0, r2=0.0, c=0\n",
      "fixing (1,10,0) with 0, r2=0.0, c=0\n",
      "fixing (1,11,0) with 0, r2=0.0, c=0\n",
      "saving model version 0.4\n"
     ]
    }
   ],
   "source": [
    "# 자동 모드로 심볼릭 회귀 수행\n",
    "lib = ['x', 'x^2', 'x^3', 'x^4', 'exp', 'log', 'sqrt', 'tanh', 'sin', '0']   #'x^(-1)', 'x^(-2)', 'x^(-3)', 'x^(-4)'\n",
    "model.auto_symbolic(lib=lib)\n"
   ]
  },
  {
   "cell_type": "code",
   "execution_count": 17,
   "id": "eb7e1c7e",
   "metadata": {},
   "outputs": [
    {
     "name": "stderr",
     "output_type": "stream",
     "text": [
      "| train_loss: 1.21e-01 | test_loss: 1.29e-01 | reg: 0.00e+00 | : 100%|█| 20/20 [00:06<00:00,  3.26it\n"
     ]
    },
    {
     "name": "stdout",
     "output_type": "stream",
     "text": [
      "saving model version 0.5\n"
     ]
    },
    {
     "data": {
      "image/png": "[encoded data removed]",
      "text/plain": [
       "<Figure size 500x400 with 122 Axes>"
      ]
     },
     "metadata": {},
     "output_type": "display_data"
    }
   ],
   "source": [
    "# symbolic 함수로 대체 후 학습\n",
    "model.fit(dataset, opt=\"LBFGS\", steps=20)\n",
    "model.plot()"
   ]
  },
  {
   "cell_type": "markdown",
   "id": "a2914843",
   "metadata": {},
   "source": [
    "step12. symbolic 수식 출력"
   ]
  },
  {
   "cell_type": "code",
   "execution_count": 18,
   "id": "9988d940",
   "metadata": {},
   "outputs": [
    {
     "name": "stdout",
     "output_type": "stream",
     "text": [
      "formula = 0.081*x_4 - 0.0228*x_5 + 0.0043*x_6 + 0.0619*x_7 + 0.1709\n",
      "(x_1: Current density, x_2: Faradaic efficiency, ... x_8: crossover rate)\n"
     ]
    }
   ],
   "source": [
    "# 심볼릭 수식 출력\n",
    "formula = ex_round(model.symbolic_formula()[0][0], 4)  # ex_round(  , 4) -- 소수점 뒤에 숫자 4개? // \n",
    "print(\"formula =\" , formula)  \n",
    "print('(x_1: Current density, x_2: Faradaic efficiency, ... x_8: crossover rate)')\n"
   ]
  },
  {
   "cell_type": "markdown",
   "id": "f43772d9",
   "metadata": {},
   "source": [
    "step13. KAN이 예측한 수식 정확도 검증을 위한 함수 정의"
   ]
  },
  {
   "cell_type": "code",
   "execution_count": 19,
   "id": "d723e550",
   "metadata": {},
   "outputs": [],
   "source": [
    "# validation set으로 성능을 평가하는 함수 만들기\n",
    "def evaluate_model_performance(model, dataset, scaler_y, phase=\"validation\"):    # phase = validation 아니면 test 이다\n",
    "    \n",
    "    \n",
    "    if phase == \"validation\":\n",
    "        input_tensor = dataset['val_input']\n",
    "        label_tensor = dataset['val_label']\n",
    "    elif phase == \"test\":\n",
    "        input_tensor = dataset['test_input']\n",
    "        label_tensor = dataset['test_label']\n",
    "    else:\n",
    "        raise ValueError(\"phase는 'validation' 또는 'test'만 가능합니다\")\n",
    "    \n",
    "    # 예측 수행\n",
    "    with torch.no_grad():  # 굳이 기울기 계산할 필요 X because 이거는 test 이기에 학습 X --- 시간 더 빠르게 하려고 torch.no_grad()\n",
    "        pred_norm = model(input_tensor) #input_tensor 는 val_inut or test_input / pred_norm은 그에 대한 출력값\n",
    "    \n",
    "    # 역정규화\n",
    "    pred_real = scaler_y.inverse_transform(pred_norm.cpu().detach().numpy())   # pred_real 은 0.1~0.9 사이의 입력 val_input or test_input을 받고 출력된 값은 다시 역정규화 한 실제 출력값\n",
    "    label_real = scaler_y.inverse_transform(label_tensor.cpu().detach().numpy()) # label_real은 0.1~0.9 사이의 입력 val_label or test_label을 받고 출력한 값 역정규화\n",
    "    # inverse_transform 함수는  numpy 를 입력으로 받기 떄문에 pytorch tensor를 cpu로 옮기고 numpy로 변환\n",
    "    \n",
    "    # numpy는 cpu에서만 돌아가니까 tensor를 .cpu로 옮기고 그다음 tensor의 추가정보 (numpy 정보 + 어떻게 계산되었는지 식에 대한 정보)를 detach --- 그 다음에 .numpy()를 통해 numpy로 변환\n",
    "    \n",
    "    # 성능 지표 계산 from 역정규화된 label_real, pred_real 값들 from val input or test input + numpy에서 계산\n",
    "    rmse = np.sqrt(mean_squared_error(label_real, pred_real))  # 오차 제곱 평균의 루트\n",
    "    r2 = r2_score(label_real, pred_real)  #1에 가까울수록 좋다 \n",
    "    mae = np.mean(np.abs(label_real - pred_real)) # 오차 절댓값들의 평균 -- MAE\n",
    "    \n",
    "    print(f\"{phase} SET 성능 평가\") # phase = validation 또는 test \n",
    "    print(f\"RMSE: {rmse:.4f}\")     # f\"{변수:포맷코드}\"\n",
    "    print(f\"R²: {r2:.4f}\")\n",
    "    print(f\"MAE: {mae:.4f}\")\n",
    "    \n",
    "    print(f\"실제값 평균: {label_real.mean():.4f}\")  #label_real의 평균값(실제값)\n",
    "    print(f\"예측값 평균: {pred_real.mean():.4f}\")   #pred_real의 평균값(KAN 모델로 예측한 값)\n",
    "    \n",
    "    return pred_real, label_real, {'rmse': rmse, 'r2': r2, 'mae': mae}"
   ]
  },
  {
   "cell_type": "markdown",
   "id": "fb77ff0c",
   "metadata": {},
   "source": [
    "Step14. Validation data(검증셋)으로 성능 평가"
   ]
  },
  {
   "cell_type": "code",
   "execution_count": 20,
   "id": "497efffd",
   "metadata": {},
   "outputs": [
    {
     "name": "stdout",
     "output_type": "stream",
     "text": [
      "validation SET 성능 평가\n",
      "RMSE: 33.5391\n",
      "R²: 0.0481\n",
      "MAE: 22.7572\n",
      "실제값 평균: 48.6630\n",
      "예측값 평균: 48.8586\n"
     ]
    }
   ],
   "source": [
    "# validation dataset(검증셋)으로 성능 평가 (모델 개발 과정에서)\n",
    "val_pred, val_actual, val_metrics = evaluate_model_performance(model, dataset, scaler_y, \"validation\")\n",
    "\n",
    "#scaler_y : step5 에서 정의한 정규화된 y 변환법\n",
    "# validation --- 검증셋 이용할거라는 의미 / 나중에 \n",
    "# val_pred 변수: evaluate_model_performance 함수가 반환한 첫 번째 결과물(pred_real)(모델의 예측값 배열)이 저장\n",
    "# val_actual 변수: 함수가 반환한 두 번째 결과물(label_real)(실제 정답 값 배열)이 저장\n",
    "# val_metrics 변수: 함수가 반환한 세 번째 결과물(RMSE, R², MAE가 담긴 딕셔너리)이 저장\n"
   ]
  },
  {
   "cell_type": "markdown",
   "id": "937e66a3",
   "metadata": {},
   "source": [
    "step15. KAN이 예측한 수식의 정확도 최종계산 _ using test_input, test_label"
   ]
  },
  {
   "cell_type": "code",
   "execution_count": 21,
   "id": "8acf1afc",
   "metadata": {},
   "outputs": [
    {
     "name": "stdout",
     "output_type": "stream",
     "text": [
      "최종 테스트셋 평가\n",
      "test SET 성능 평가\n",
      "RMSE: 32.6599\n",
      "R²: 0.0424\n",
      "MAE: 21.8682\n",
      "실제값 평균: 50.3135\n",
      "예측값 평균: 48.8920\n",
      "\n",
      "최종 모델 성능:\n",
      "테스트셋 RMSE: 32.6599\n",
      "테스트셋 R²: 0.0424\n",
      "테스트셋 MAE: 21.8682\n"
     ]
    }
   ],
   "source": [
    "# 모든 모델 개발이 완료된 후 최종 한 번만 수행\n",
    "print(\"최종 테스트셋 평가\")\n",
    "\n",
    "\n",
    "# 최종 테스트셋 평가(phase만 'test'로 변경하여 테스트 데이터를 사용)(이전에 정의한 evaluate_model_performance 함수를 그대로 사용)\n",
    "test_pred, test_actual, test_metrics = evaluate_model_performance(\n",
    "    model, dataset, scaler_y, \"test\"\n",
    ")\n",
    "\n",
    "# test_pred : 모델의 예측값 , test_actual : 실제 정답 값 배열 , test_metrics : (RMSE, R², MAE가 담긴 딕셔너리)\n",
    "\n",
    "print(f\"\\n최종 모델 성능:\")\n",
    "print(f\"테스트셋 RMSE: {test_metrics['rmse']:.4f}\")\n",
    "print(f\"테스트셋 R²: {test_metrics['r2']:.4f}\")\n",
    "print(f\"테스트셋 MAE: {test_metrics['mae']:.4f}\")\n"
   ]
  },
  {
   "cell_type": "markdown",
   "id": "cd9bb436",
   "metadata": {},
   "source": [
    "step16. KAN 예측값 / 실제값 그래프"
   ]
  },
  {
   "cell_type": "code",
   "execution_count": 22,
   "id": "7931b4ce",
   "metadata": {},
   "outputs": [
    {
     "data": {
      "image/png": "[encoded data removed]",
      "text/plain": [
       "<Figure size 400x400 with 1 Axes>"
      ]
     },
     "metadata": {},
     "output_type": "display_data"
    }
   ],
   "source": [
    "# step14. KAN 예측값 / 실제값 그래프\n",
    "import matplotlib.pyplot as plt\n",
    "\n",
    "plt.figure(figsize=(4, 4))  # 도화지 그리기~\n",
    "\n",
    "# test_actual (x축) vs test_pred (y축) , alpha = 투명도\n",
    "plt.scatter(test_actual, test_pred, alpha=0.7, edgecolors='k', label='Model Predictions')\n",
    "\n",
    "# 제일 작은 값, 제일 큰 값 설정\n",
    "min_val = min(test_actual.min(), test_pred.min())\n",
    "max_val = max(test_actual.max(), test_pred.max())\n",
    "plt.plot([min_val, max_val], [min_val, max_val], 'r--', linewidth=2, label='Perfect Fit (y=x)')  # y = x 선긋기\n",
    "\n",
    "# 그래프 제목과 축 레이블 설정\n",
    "plt.xlabel(\"Actual \" + predicting , fontsize=12)   # Actual 다음에 우리가 보고자 하는 output predicting 변수가 뜸\n",
    "plt.ylabel(\"Predicted \" + predicting, fontsize=12) # \n",
    "plt.title(f'Test Set: Actual vs. Predicted (R² = {test_metrics[\"r2\"]:.4f})', fontsize=14)\n",
    "plt.legend()\n",
    "plt.grid(True)  # 격자 on \n",
    "plt.axis('equal') # x, y축 스케일을 동일하게 설정\n",
    "plt.tight_layout()\n",
    "plt.show()\n"
   ]
  },
  {
   "cell_type": "markdown",
   "id": "c9f2f548",
   "metadata": {},
   "source": [
    "잔차 플롯 (Residual Plot): 모델의 예측 오차 패턴 분석"
   ]
  },
  {
   "cell_type": "code",
   "execution_count": 23,
   "id": "da62b6b9",
   "metadata": {},
   "outputs": [
    {
     "data": {
      "image/png": "[encoded data removed]",
      "text/plain": [
       "<Figure size 700x400 with 1 Axes>"
      ]
     },
     "metadata": {},
     "output_type": "display_data"
    }
   ],
   "source": [
    "# 1. 잔차 계산 (실제값 - 예측값)\n",
    "residuals = test_actual - test_pred\n",
    "\n",
    "# 2. 잔차 플롯 시각화\n",
    "plt.figure(figsize=(7, 4))\n",
    "\n",
    "# x축은 예측값, y축은 잔차\n",
    "plt.scatter(test_pred, residuals, alpha=0.7, edgecolors='k')\n",
    "\n",
    "# y=0 기준선 추가 (오차가 0인 선)\n",
    "plt.axhline(y=0, color='r', linestyle='--', linewidth=2)\n",
    "\n",
    "plt.xlabel(\"Predicted \"+predicting, fontsize=12)\n",
    "plt.ylabel('Residuals (Actual - Predicted)', fontsize=12)\n",
    "plt.title('Residual Plot for Test Set', fontsize=14)\n",
    "plt.grid(True)\n",
    "plt.show()\n"
   ]
  },
  {
   "cell_type": "markdown",
   "id": "85cd30ad",
   "metadata": {},
   "source": [
    "2. 개별 변수 영향도 플롯 (Partial Dependence Plot): 변수-결과 관계 시각화"
   ]
  },
  {
   "cell_type": "code",
   "execution_count": 24,
   "id": "ff333b84",
   "metadata": {},
   "outputs": [
    {
     "name": "stdout",
     "output_type": "stream",
     "text": [
      "--- 모든 입력 변수에 대한 개별 영향도 플롯 ---\n"
     ]
    },
    {
     "data": {
      "image/png": "[encoded data removed]",
      "text/plain": [
       "<Figure size 500x400 with 122 Axes>"
      ]
     },
     "metadata": {},
     "output_type": "display_data"
    }
   ],
   "source": [
    "import numpy as np\n",
    "import matplotlib.pyplot as plt\n",
    "\n",
    "# 1. (NameError 해결) feature_names 리스트를 먼저 정의합니다.\n",
    "feature_names = [\n",
    "    \"Current density\", \"Faradaic efficiency\", \"CO coversion\", \"Voltage\",\n",
    "    \"Electricity cost\", \"Membrain cost\", \"Capture energy\", \"Crossover rate\"\n",
    "]\n",
    "\n",
    "try:\n",
    "    print(\"--- 모든 입력 변수에 대한 개별 영향도 플롯 ---\")\n",
    "    \n",
    "    # 2. (TypeError 해결) 'vars' 인자 없이 plot() 함수를 호출합니다.\n",
    "    # 이렇게 하면 8개 변수 각각에 대한 영향도 그래프가 한 번에 그려집니다.\n",
    "    model.plot()\n",
    "    \n",
    "    # 전체 그래프에 대한 제목 설정 (선택 사항)\n",
    "    plt.suptitle('Partial Dependence Plots for All Features', y=1.02)\n",
    "    plt.show()\n",
    "\n",
    "except Exception as e:\n",
    "    print(f\"오류가 발생했습니다: {e}\")\n",
    "    print(\"이전 단계에서 'model' 객체가 성공적으로 생성되었는지 확인해주세요.\")\n",
    "\n"
   ]
  },
  {
   "cell_type": "code",
   "execution_count": 25,
   "id": "22bee12d",
   "metadata": {},
   "outputs": [
    {
     "name": "stdout",
     "output_type": "stream",
     "text": [
      "formula= 0.081*x_4 - 0.0228*x_5 + 0.0043*x_6 + 0.0619*x_7 + 0.1709\n"
     ]
    }
   ],
   "source": [
    "# step11의 코드를 다시 실행\n",
    "formula = ex_round(model.symbolic_formula()[0][0], 4)\n",
    "print(\"formula=\", formula)\n",
    "\n",
    "# 여기서 맨 왼쪽부터  x_1부터 x_8 \n"
   ]
  },
  {
   "cell_type": "markdown",
   "id": "7180d5fa",
   "metadata": {},
   "source": [
    "-------"
   ]
  },
  {
   "cell_type": "markdown",
   "id": "7b03ef06",
   "metadata": {},
   "source": [
    "------"
   ]
  },
  {
   "cell_type": "markdown",
   "id": "c161d08d",
   "metadata": {},
   "source": [
    "------------------------------------------------------------------------------------------------------------------------------------------------"
   ]
  },
  {
   "cell_type": "markdown",
   "id": "61f2ffb4",
   "metadata": {},
   "source": [
    "step17.실제 KAN이 구현한 수식에 X값을 대입해서 결과 구해보기_역정규화 이용"
   ]
  },
  {
   "cell_type": "code",
   "execution_count": 26,
   "id": "bd032dac",
   "metadata": {},
   "outputs": [
    {
     "name": "stdout",
     "output_type": "stream",
     "text": [
      "--- [입력 변수(X) 정규화 키] ---\n",
      "x_1 (Current density (mA/cm2)):\n",
      "  min = 123.17073171\n",
      "  max = 1999.62015194\n",
      "\n",
      "x_2 (Faradaic efficiency (%)):\n",
      "  min = 0.50009796\n",
      "  max = 0.98970612\n",
      "\n",
      "x_3 (CO coversion):\n",
      "  min = 0.02733906\n",
      "  max = 0.59988205\n",
      "\n",
      "x_4 (Voltage (V)):\n",
      "  min = 1.30043982\n",
      "  max = 3.49868053\n",
      "\n",
      "x_5 (Electricity cost ($/kWh)):\n",
      "  min = 0.05002999\n",
      "  max = 0.09999000\n",
      "\n",
      "x_6 (Membrain cost ($/m2)):\n",
      "  min = 285.03798481\n",
      "  max = 348.32067173\n",
      "\n",
      "x_7 (Catpure energy (GJ/ton)):\n",
      "  min = 3.00039984\n",
      "  max = 4.99640144\n",
      "\n",
      "x_8 (Crossover rate):\n",
      "  min = 0.00039984\n",
      "  max = 1.99880048\n",
      "\n",
      "--- [출력 변수(y) 역정규화 키] ---\n",
      "y_min = 14.99042938\n",
      "y_max = 217.83096166\n"
     ]
    }
   ],
   "source": [
    "# 이전에 학습에 사용했던 scaler_X 와 scaler_y 객체가 필요합니다.\n",
    "\n",
    "# 1. 입력 변수(X)의 최소/최대값 추출\n",
    "#    사용된 변수의 순서에 맞게 이름을 지정합니다.\n",
    "feature_names = [\n",
    "    \"Current density (mA/cm2)\", \"Faradaic efficiency (%)\", \"CO coversion\",\n",
    "    \"Voltage (V)\", \"Electricity cost ($/kWh)\", \"Membrain cost ($/m2)\",\n",
    "    \"Catpure energy (GJ/ton)\", \"Crossover rate\"\n",
    "]\n",
    "\n",
    "print(\"--- [입력 변수(X) 정규화 키] ---\")\n",
    "for i, name in enumerate(feature_names):\n",
    "    min_val = scaler_X.data_min_[i]\n",
    "    max_val = scaler_X.data_max_[i]\n",
    "    print(f\"x_{i+1} ({name}):\")\n",
    "    print(f\"  min = {min_val:.8f}\")\n",
    "    print(f\"  max = {max_val:.8f}\\n\")\n",
    "\n",
    "# 2. 출력 변수(y)의 최소/최대값 추출\n",
    "y_min = scaler_y.data_min_[0]\n",
    "y_max = scaler_y.data_max_[0]\n",
    "\n",
    "print(\"--- [출력 변수(y) 역정규화 키] ---\")\n",
    "print(f\"y_min = {y_min:.8f}\")\n",
    "print(f\"y_max = {y_max:.8f}\")\n"
   ]
  },
  {
   "cell_type": "code",
   "execution_count": 27,
   "id": "b562d0ba",
   "metadata": {},
   "outputs": [
    {
     "name": "stdout",
     "output_type": "stream",
     "text": [
      "formula= 0.081*x_4 - 0.0228*x_5 + 0.0043*x_6 + 0.0619*x_7 + 0.1709\n",
      "(x_1: Current density, x_2: Faradaic efficiency, ... x_8: crossover rate)\n"
     ]
    }
   ],
   "source": [
    "# step11의 코드를 다시 실행\n",
    "formula = ex_round(model.symbolic_formula()[0][0], 4)\n",
    "print(\"formula=\", formula)\n",
    "print('(x_1: Current density, x_2: Faradaic efficiency, ... x_8: crossover rate)')\n"
   ]
  },
  {
   "cell_type": "markdown",
   "id": "6bf9a624",
   "metadata": {},
   "source": [
    "python에서도 시험삼아 몇 개 출력해보기"
   ]
  },
  {
   "cell_type": "code",
   "execution_count": 28,
   "id": "a983cab0",
   "metadata": {},
   "outputs": [
    {
     "name": "stdout",
     "output_type": "stream",
     "text": [
      "▶ 자동으로 감지된 수식: y = 0.0810100097025178*x_4 - 0.0227548987623934*x_5 + 0.00425919905519687*x_6 + 0.0618843167822873*x_7 + 0.170860631281902\n",
      "\n",
      "==============================================================\n",
      "### 역정규화 (Inverse Normalization)에 사용되는 수식 ###\n",
      "실제값 = (정규화된 값 * (최대값 - 최소값)) + 최소값\n",
      "실제값 = (정규화된 값 * 253.5507) + 0.0409\n",
      "==============================================================\n",
      "\n",
      "--------- [단순화된 수식 모델]의 예측 성능 ---------\n",
      "     실제값   수식 예측값 \n",
      "0   45.30    59.11\n",
      "1   40.06    38.81\n",
      "2   20.16    47.03\n",
      "3   19.25    45.45\n",
      "4   61.87    47.75\n",
      "5   45.20    57.75\n",
      "6   20.45    37.21\n",
      "7   49.03    54.83\n",
      "8   49.91    51.33\n",
      "9   27.39    39.73\n",
      "10  51.01    48.66\n",
      "11  34.97    55.27\n",
      "12  42.71    51.68\n",
      "13  30.27    41.29\n",
      "14  29.03    47.80\n",
      "15  26.70    44.68\n",
      "16  36.01    48.53\n",
      "17  24.82    50.96\n",
      "18  35.81    53.61\n",
      "19  53.95    60.24\n",
      "20  42.39    53.18\n",
      "21  29.30    41.80\n",
      "22  31.46    54.55\n",
      "23  49.61    46.87\n",
      "24  26.20    45.79\n",
      "25  38.95    52.64\n",
      "26  27.72    47.48\n",
      "27  36.66    49.82\n",
      "28  36.64    41.83\n",
      "29 111.45    57.22\n"
     ]
    }
   ],
   "source": [
    "import numpy as np\n",
    "import pandas as pd\n",
    "from sympy import sympify, symbols, lambdify \n",
    "# sympy 라이브러리 추가\n",
    "\n",
    "# 1. KAN 모델에서 직접 심볼릭 수식 문자열을 가져오기\n",
    "formula_str = model.symbolic_formula()[0][0] # 실제 모델에서 가져오는 코드\n",
    "\n",
    "print(f\"▶ 자동으로 감지된 수식: y = {formula_str}\\n\")\n",
    "\n",
    "# 2. 모든 변수(x_1 ~ x_8)를 기호로 정의\n",
    "num_features = len(feature_names)\n",
    "x_vars = symbols(f'x_1:{num_features + 1}')\n",
    "\n",
    "# 3. 문자열 수식을 실제 계산 가능한 함수로 변환합니다. (핵심 부분)\n",
    "#    lambdify는 sympy 수식을 매우 빠른 numpy 함수로 바꿔주는 기능입니다.\n",
    "symbolic_func = lambdify(x_vars, sympify(formula_str), 'numpy')\n",
    "\n",
    "# 4. 새로운 '만능' 예측 함수를 정의합니다.\n",
    "def auto_symbolic_prediction(x_norm):\n",
    "    \"\"\"\n",
    "    정규화된 입력 데이터(x_norm)를 받아,\n",
    "    자동으로 생성된 symbolic_func를 사용해 예측값을 반환합니다.\n",
    "    \"\"\"\n",
    "    # x_norm 배열의 각 열을 개별 인자로 분리하여 함수에 전달합니다.\n",
    "    # 예: symbolic_func(x_norm[:,0], x_norm[:,1], ..., x_norm[:,7])\n",
    "    # x_norm.T는 배열을 전치하여 각 행이 변수가 되도록 합니다.\n",
    "    return symbolic_func(*x_norm.T)\n",
    "\n",
    "# --- [자동화된 수식 처리 부분 끝] ---\n",
    "\n",
    "\n",
    "# 2. 역정규화에 사용되는 수식 출력 (이전과 동일)\n",
    "min_val = scaler_y.min_[0]\n",
    "scale_range = 1 / scaler_y.scale_[0]\n",
    "print(\"==============================================================\")\n",
    "print(\"### 역정규화 (Inverse Normalization)에 사용되는 수식 ###\")\n",
    "print(f\"실제값 = (정규화된 값 * (최대값 - 최소값)) + 최소값\")\n",
    "print(f\"실제값 = (정규화된 값 * {scale_range:.4f}) + {min_val:.4f}\")\n",
    "print(\"==============================================================\\n\")\n",
    "\n",
    "\n",
    "# 4. 테스트 데이터셋 전체를 사용하여 예측을 수행합니다.\n",
    "test_input_norm = dataset['test_input']\n",
    "# 여기서 새롭게 정의한 자동화 함수를 호출합니다!\n",
    "y_pred_norm = auto_symbolic_prediction(test_input_norm)\n",
    "\n",
    "\n",
    "# 5. 이후 모든 코드는 이전과 완전히 동일합니다.\n",
    "y_pred_norm_reshaped = y_pred_norm.reshape(-1, 1)\n",
    "y_pred_real_scale = scaler_y.inverse_transform(y_pred_norm_reshaped)\n",
    "y_true_real_scale = scaler_y.inverse_transform(dataset['test_label'])\n",
    "results_df = pd.DataFrame({\n",
    "    '실제값 ': y_true_real_scale.flatten(),\n",
    "    '수식 예측값 ': y_pred_real_scale.flatten()\n",
    "})\n",
    "pd.options.display.float_format = '{:.2f}'.format\n",
    "\n",
    "print(\"--------- [단순화된 수식 모델]의 예측 성능 ---------\")\n",
    "print(results_df.head(30))\n"
   ]
  }
 ],
 "metadata": {
  "kernelspec": {
   "display_name": "venv",
   "language": "python",
   "name": "python3"
  },
  "language_info": {
   "codemirror_mode": {
    "name": "ipython",
    "version": 3
   },
   "file_extension": ".py",
   "mimetype": "text/x-python",
   "name": "python",
   "nbconvert_exporter": "python",
   "pygments_lexer": "ipython3",
   "version": "3.11.9"
  }
 },
 "nbformat": 4,
 "nbformat_minor": 5
}
