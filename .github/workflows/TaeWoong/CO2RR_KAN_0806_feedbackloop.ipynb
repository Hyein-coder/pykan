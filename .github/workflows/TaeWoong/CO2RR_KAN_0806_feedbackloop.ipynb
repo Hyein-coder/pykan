{
 "cells": [
  {
   "cell_type": "markdown",
   "id": "0895cbba",
   "metadata": {},
   "source": [
    "## CO2RR 공정 datasheet 분석"
   ]
  },
  {
   "cell_type": "markdown",
   "id": "4e0157fd",
   "metadata": {},
   "source": [
    "----------------------------------"
   ]
  },
  {
   "cell_type": "markdown",
   "id": "499fd6e3",
   "metadata": {},
   "source": [
    "-------"
   ]
  },
  {
   "cell_type": "markdown",
   "id": "4d576959",
   "metadata": {},
   "source": [
    "Output 중 Required energy_total (MJ/kgCO), MSP 분석 예정"
   ]
  },
  {
   "cell_type": "markdown",
   "id": "bd5404b7",
   "metadata": {},
   "source": [
    "step0. 라이브러리 정리"
   ]
  },
  {
   "cell_type": "code",
   "execution_count": 1,
   "id": "ed16aea4",
   "metadata": {},
   "outputs": [
    {
     "name": "stdout",
     "output_type": "stream",
     "text": [
      "cpu\n"
     ]
    }
   ],
   "source": [
    "import pandas as pd\n",
    "import numpy as np\n",
    "import torch\n",
    "from sklearn.preprocessing import StandardScaler\n",
    "from sklearn.model_selection import train_test_split\n",
    "from sklearn.metrics import mean_squared_error, r2_score\n",
    "from kan import KAN\n",
    "from kan.utils import ex_round\n",
    "device = torch.device('cuda' if torch.cuda.is_available() else 'cpu')\n",
    "print(device)"
   ]
  },
  {
   "cell_type": "markdown",
   "id": "f34c39e8",
   "metadata": {},
   "source": [
    "step1. 엑셀 파일 불러오기"
   ]
  },
  {
   "cell_type": "code",
   "execution_count": 2,
   "id": "c0466943",
   "metadata": {},
   "outputs": [],
   "source": [
    "# 엑셀 데이터 로드 \n",
    "filepath = r\"C:\\Users\\kepco201\\Desktop\\KAN_python\\pykan-master\\.github\\workflows\\TaeWoong\\25.01.14_CO2RR_GSA.xlsx\"\n",
    "xls = pd.ExcelFile(filepath) \n",
    "df_in  = pd.read_excel(xls, sheet_name='Input')\n",
    "df_out = pd.read_excel(xls, sheet_name='Output')\n",
    "\n"
   ]
  },
  {
   "cell_type": "markdown",
   "id": "12dafb3a",
   "metadata": {},
   "source": [
    "step2.결측값 대체 및 이상치 제거"
   ]
  },
  {
   "cell_type": "raw",
   "id": "d0c919d6",
   "metadata": {
    "vscode": {
     "languageId": "raw"
    }
   },
   "source": [
    "# [기존 step2]\n",
    "# df_in  = df_in.fillna(df_in.mean(numeric_only=True))\n",
    "# df_out = df_out.fillna(df_out.mean(numeric_only=True))\n",
    "\n",
    "# [수정된 step2] : 결측치가 있는 행 삭제\n",
    "\n",
    "# 1. 삭제 전 데이터 크기 확인\n",
    "print(f\"결측값 삭제 전 Input 데이터 크기: {df_in.shape}\")\n",
    "print(f\"결측값 삭제 전 Output 데이터 크기: {df_out.shape}\")\n",
    "\n",
    "# 2. 결측치가 있는 행 삭제\n",
    "# 두 데이터프레임의 인덱스를 맞추기 위해, 한쪽에서 삭제된 인덱스를 다른 쪽에도 적용\n",
    "na_rows_in = df_in.isnull().any(axis=1)\n",
    "na_rows_out = df_out.isnull().any(axis=1)\n",
    "rows_to_drop = na_rows_in | na_rows_out # 둘 중 하나라도 결측치가 있으면 삭제 대상\n",
    "\n",
    "df_in_cleaned = df_in[~rows_to_drop]\n",
    "df_out_cleaned = df_out[~rows_to_drop]\n",
    "\n",
    "# 3. 삭제 후 데이터 크기 확인\n",
    "print(f\"결측값 삭제 후 Input 데이터 크기: {df_in_cleaned.shape}\")\n",
    "print(f\"결측값 삭제 후 Output 데이터 크기: {df_out_cleaned.shape}\")\n",
    "\n",
    "# 이후 step3 에서는 df_in_cleaned와 df_out_cleaned 를 사용합니다.\n",
    "# X = df_in_cleaned[[...]].values\n",
    "# y = df_out_cleaned[[...]].values.reshape(-1, 1)\n",
    "\n",
    "\n"
   ]
  },
  {
   "cell_type": "markdown",
   "id": "77407cf1",
   "metadata": {},
   "source": [
    "이상치(Outlier) 제거 / 전체 데이터의 10% 이내로 극소량만 제거"
   ]
  },
  {
   "cell_type": "code",
   "execution_count": 3,
   "id": "cb9b8719",
   "metadata": {},
   "outputs": [
    {
     "name": "stdout",
     "output_type": "stream",
     "text": [
      "--- 이상치 제거 시작 ---\n",
      "이상치 제거 전 데이터 수: 2501 개\n",
      "이상치 제거 후 데이터 수: 2378 개 (123 개 제거됨)\n",
      "--- 이상치 제거 완료 ---\n",
      "\n"
     ]
    }
   ],
   "source": [
    "# 이상치(Outlier) 제거 (IQR 방식) ---\n",
    "\n",
    "print(\"--- 이상치 제거 시작 ---\")\n",
    "\n",
    "\n",
    "print(f\"이상치 제거 전 데이터 수: {len(df_in)} 개\")   # len(df_in) 을 통해 이상치 제거 전 데이터 길이(개수) 출력\n",
    "\n",
    "\n",
    "def remove_outliers_iqr(df_in, df_out):              # outlier 제거 함수 정의\n",
    "    \n",
    "    combined_df = pd.concat([df_in, df_out], axis=1) # pd.concat = 2개를 합치기 // 입력 변수(X)와 출력 변수(y)를 합쳐서 전체 데이터프레임 생성 // x랑 y를 한번에 고려\n",
    "                                                     # axis = 1 --- 오른쪽으로 합치기 --- 데이터 구조를 보면 예쁘게 정리가 된다\n",
    "    \n",
    "    numeric_cols = combined_df.select_dtypes(include=np.number).columns  # .select_dtypes 를 통해 특정 열만 출력 outlier 를 탐지할 숫자형 컬럼만 선택\n",
    "                                    # numeric_cols = 숫자로만 구성된 열들의 이름 리스트 (.colums = 그 열의 이름을 리스트로 출력)\n",
    "\n",
    "    # 각 컬럼에 대해 이상치 경계 계산 \n",
    "    Q1 = combined_df[numeric_cols].quantile(0.25)   # .quantile(0.25) = 데이터를 오름차순으로 정렬했을 떄 하위 25% 지점 \n",
    "    Q3 = combined_df[numeric_cols].quantile(0.75)   # .quantile(0.75) = 데이터를 오름차순으로 정렬했을 떄 상위 25% 지점 \n",
    "    IQR = Q3 - Q1 # IQR은 대략 상위 25% - 상위75% = 중간정도의 값에 해당\n",
    "    \n",
    "    lower_bound = Q1 - 6 * IQR  # 보통은 1.5* IQR을 진행하지만 최대한 삭제되는 데이터가 적도록 진행\n",
    "    upper_bound = Q3 + 6 * IQR\n",
    "    \n",
    "\n",
    "    # 밑의 줄은 공부를 더 해보자\n",
    "    # 모든 컬럼에 대해 정상 범위 내에 있는 데이터만 True로 표시\n",
    "    # (row의 어떤 컬럼이라도 이상치면 해당 row 전체가 False가 됨)\n",
    "    condition = ~((combined_df[numeric_cols] < lower_bound) | (combined_df[numeric_cols] > upper_bound)).any(axis=1)\n",
    "    \n",
    "\n",
    "    # 정상 범위에 있는 데이터만 필터링\n",
    "    df_in_no_outliers = df_in[condition]\n",
    "    df_out_no_outliers = df_out[condition]\n",
    "    \n",
    "    return df_in_no_outliers, df_out_no_outliers\n",
    "\n",
    "# 3. 함수를 사용하여 이상치 제거\n",
    "#    이전에 결측치를 제거한 df_in_cleaned, df_out_cleaned를 사용합니다.\n",
    "df_in_final, df_out_final = remove_outliers_iqr(df_in, df_out)\n",
    "\n",
    "\n",
    "# 4. 이상치 제거 후 남은 데이터 개수 확인\n",
    "removed_count = len(df_in) - len(df_in_final)  # 몇 개 지웠는지 세기\n",
    "print(f\"이상치 제거 후 데이터 수: {len(df_in_final)} 개 ({removed_count} 개 제거됨)\")\n",
    "print(\"--- 이상치 제거 완료 ---\\n\")\n",
    "\n",
    "\n",
    "# 이제 'df_in_final'과 'df_out_final'을 사용하자\n",
    "\n"
   ]
  },
  {
   "cell_type": "markdown",
   "id": "c1592a6a",
   "metadata": {},
   "source": [
    "step3. 엑셀 파일 속 data 추출 및 !predict 할 데이터 이름 입력! // 이상치 제거 후 X, Y 정의하기"
   ]
  },
  {
   "cell_type": "code",
   "execution_count": 4,
   "id": "b7eba938",
   "metadata": {},
   "outputs": [
    {
     "name": "stdout",
     "output_type": "stream",
     "text": [
      "[[1.97379048e+03 9.73836465e-01 3.72471012e-02 ... 2.89292283e+02\n",
      "  3.14514194e+00 1.49940024e-01]\n",
      " [1.95631747e+03 9.63060776e-01 5.54118353e-02 ... 2.92153805e+02\n",
      "  3.24190324e+00 2.49900040e-01]\n",
      " [1.93884446e+03 9.52285086e-01 7.35765694e-02 ... 2.95015327e+02\n",
      "  3.33866453e+00 3.49860056e-01]\n",
      " ...\n",
      " [1.61155538e+02 5.37714914e-01 5.36423431e-01 ... 3.38318006e+02\n",
      "  4.66133547e+00 1.65013994e+00]\n",
      " [1.43682527e+02 5.26939224e-01 5.54588165e-01 ... 3.41179528e+02\n",
      "  4.75809676e+00 1.75009996e+00]\n",
      " [1.26209516e+02 5.16163535e-01 5.72752899e-01 ... 3.44041050e+02\n",
      "  4.85485806e+00 1.85005998e+00]]\n",
      "====================\n",
      "[[137.83276055]\n",
      " [ 97.65612097]\n",
      " [ 77.61576681]\n",
      " ...\n",
      " [ 47.34602399]\n",
      " [ 50.01962389]\n",
      " [ 53.6021701 ]]\n"
     ]
    }
   ],
   "source": [
    "# 입력·출력 변수 선택 및 numpy 변환    # outlier 삭제를 원하지 않을시에는 df_in_final 을 df_in으로, df_out_final을 df_out으로 바꾸면 된다\n",
    "X = df_in_final[[\n",
    "    \"Current density (mA/cm2)\", \"Faradaic efficiency (%)\", \"CO coversion\",\n",
    "    \"Voltage (V)\", \"Electricity cost ($/kWh)\",\n",
    "    \"Membrain cost ($/m2)\", \"Catpure energy (GJ/ton)\",  # catpure energy? excel 파일에서 이렇게 오타가 났기에 그냥 사용\n",
    "    \"Crossover rate\"\n",
    "]].values\n",
    "\n",
    "\n",
    "\n",
    "\n",
    "predicting = \"Required energy_total (MJ/kgCO)\" # 다른 output 변수 보고싶으면 이거 보면 됨 # Required energy_total (MJ/kgCO) # MSP ($/kgCO)\n",
    "###### 이거를 수정해서 다른 output도 보자\n",
    "\n",
    "y = df_out_final[predicting].values.reshape(-1, 1)   # df_out_final[] 는 pandas datatframe이기에 이것을 skitlearn 이나 Keras 형태로 바꾸기 -- 그래야 \n",
    "                                                     # .values 를 통해 Numpy 배열로 변환 (값만 뽑기 때문) # 그 후에 reshape(-1.1) 을 통해 \n",
    "                                                     # .reshape()을 이용해 열 1개\n",
    "print(X)\n",
    "print(\"====================\")\n",
    "print(y)\n",
    "\n",
    "\n",
    "\n",
    "\n"
   ]
  },
  {
   "cell_type": "markdown",
   "id": "620e7b8a",
   "metadata": {},
   "source": [
    "추가한 부분 -- y값을 input variable X_9로 추가한다 -- feedback loop"
   ]
  },
  {
   "cell_type": "code",
   "execution_count": 5,
   "id": "000d646a",
   "metadata": {},
   "outputs": [
    {
     "name": "stdout",
     "output_type": "stream",
     "text": [
      "(2378, 8)\n",
      "(2378, 9)\n"
     ]
    }
   ],
   "source": [
    "# **핵심: y값을 X에 추가해서 9개 피처로 만들기**\n",
    "print(X.shape)\n",
    "X = np.concatenate([X, y], axis=1)  # numpy.concatenate( [numpy배열1, numpy 배열2], axis = 1) 이면 옆방향으로 이어붙이기\n",
    "print(X.shape)\n"
   ]
  },
  {
   "cell_type": "markdown",
   "id": "39df47d1",
   "metadata": {},
   "source": [
    "step4. train_set, valadation_set, test_set 만들기 (64:16:20) 우측 하단 RAW로 일단 설정해놓음 나중에 python으로 바꾸기"
   ]
  },
  {
   "cell_type": "code",
   "execution_count": 6,
   "id": "c5e4f043",
   "metadata": {},
   "outputs": [
    {
     "name": "stdout",
     "output_type": "stream",
     "text": [
      "[[6.39764094e+02 8.75483806e-01 2.88958417e-01 ... 3.22830868e+00\n",
      "  3.92243103e-01 2.31302585e+01]\n",
      " [1.92303079e+02 6.42141144e-01 1.31609356e-01 ... 3.07636945e+00\n",
      "  1.13674530e+00 6.60698792e+01]\n",
      " [1.80057977e+03 5.59070372e-01 2.64424230e-01 ... 3.93042783e+00\n",
      "  1.81567373e+00 5.22713630e+01]\n",
      " ...\n",
      " [1.23612555e+03 6.04132347e-01 1.88462615e-01 ... 4.33506597e+00\n",
      "  1.76129548e+00 4.52431765e+01]\n",
      " [1.70637745e+03 6.59774090e-01 1.61333467e-01 ... 3.23470612e+00\n",
      "  1.97241104e+00 5.69643198e+01]\n",
      " [1.03100760e+03 8.20625750e-01 1.96483407e-01 ... 3.72091164e+00\n",
      "  1.93482607e+00 4.80965084e+01]]\n",
      "전체 데이터셋 크기: 2378\n",
      "훈련셋 크기: 1521 (64.0%)\n",
      "검증셋 크기: 381 (16.0%)\n",
      "테스트셋 크기: 476 (20.0%)\n"
     ]
    }
   ],
   "source": [
    "# 1단계: 먼저 train+val과 test로 분할 (80:20)\n",
    "X_temp, X_test, y_temp, y_test = train_test_split(X, y, test_size=0.2, random_state=42)\n",
    "\n",
    "\n",
    "# 2단계: train+val을 train과 val로 분할 (64:16, 전체 대비)\n",
    "X_train, X_val, y_train, y_val = train_test_split(X_temp, y_temp, test_size=0.2, random_state=42)  # 0.2 × 0.8 = 0.16 (전체의 16%)\n",
    "\n",
    "\n",
    "# 최종 비율 확인\n",
    "# (X[:,0])~(X[:,7]) 에 각각의 입력변수들의 값들이 각각 저장됨\n",
    "\n",
    "\n",
    "\n",
    "print(X_val)\n",
    "print(f\"전체 데이터셋 크기: {len(X)}\")\n",
    "print(f\"훈련셋 크기: {len(X_train)} ({len(X_train)/len(X)*100:.1f}%)\")\n",
    "print(f\"검증셋 크기: {len(X_val)} ({len(X_val)/len(X)*100:.1f}%)\")  \n",
    "print(f\"테스트셋 크기: {len(X_test)} ({len(X_test)/len(X)*100:.1f}%)\")\n",
    "\n",
    "\n"
   ]
  },
  {
   "cell_type": "markdown",
   "id": "c8e1d9a9",
   "metadata": {},
   "source": [
    "step4-1. 층화추출(Stratified Sampling on y)을 하고 싶을 때 step4 대신 실행 / 데이터의 밀도가 다른 점을 고려"
   ]
  },
  {
   "cell_type": "raw",
   "id": "836e051a",
   "metadata": {
    "vscode": {
     "languageId": "raw"
    }
   },
   "source": [
    "\n",
    "\n",
    "# ===================================================================\n",
    "# Step 4: 데이터 분할 (훈련/검증/테스트 6:2:2, 층화 추출 적용)\n",
    "# ===================================================================\n",
    "\n",
    "from sklearn.model_selection import train_test_split\n",
    "import pandas as pd\n",
    "import numpy as np\n",
    "\n",
    "print(\"--- 데이터 분할 시작 (훈련/검증/테스트, 층화 추출 방식) ---\")\n",
    "\n",
    "# 1. 층화 추출을 위한 y값 그룹(strata) 생성\n",
    "num_bins = 5\n",
    "try:\n",
    "    y_binned = pd.cut(y.flatten(), bins=num_bins, labels=False)\n",
    "    stratify_option = y_binned\n",
    "    print(f\"y값을 {num_bins}개 구간으로 나누어 층화 추출을 진행합니다.\")\n",
    "except ValueError as e:\n",
    "    print(f\"경고: y값으로 층화 추출을 시도했으나 실패했습니다. ({e})\")\n",
    "    print(\"일반 무작위 추출 방식으로 전환합니다.\")\n",
    "    stratify_option = None\n",
    "\n",
    "# 2. 먼저, 훈련+검증 데이터(80%)와 최종 테스트 데이터(20%)로 분할합니다.\n",
    "X_train_val, X_test, y_train_val, y_test = train_test_split(\n",
    "    X, y, \n",
    "    test_size=0.2, \n",
    "    random_state=42, \n",
    "    stratify=stratify_option\n",
    ")\n",
    "\n",
    "# 3. 다음으로, 훈련+검증 데이터(X_train_val)를 다시 훈련 데이터(75%)와 검증 데이터(25%)로 분할합니다.\n",
    "#    (전체 데이터의 80% 중 75%는 60%, 25%는 20%에 해당하여, 최종적으로 60:20:20 비율이 됩니다.)\n",
    "\n",
    "# 층화 추출을 두 번째 분할에도 일관되게 적용하기 위해 y_train_val 그룹을 다시 만듭니다.\n",
    "try:\n",
    "    y_train_val_binned = pd.cut(y_train_val.flatten(), bins=num_bins, labels=False)\n",
    "    stratify_option_2 = y_train_val_binned\n",
    "except ValueError:\n",
    "    stratify_option_2 = None # 분할이 불가능하면 일반 추출\n",
    "\n",
    "X_train, X_val, y_train, y_val = train_test_split(\n",
    "    X_train_val, y_train_val,\n",
    "    test_size=0.25, # 80% 중 25%는 전체의 20%\n",
    "    random_state=42,\n",
    "    stratify=stratify_option_2\n",
    ")\n",
    "\n",
    "print(\"\\n--- 최종 분할 후 데이터셋 크기 ---\")\n",
    "print(f\"훈련 데이터 (X_train): {X_train.shape}\")\n",
    "print(f\"검증 데이터 (X_val): {X_val.shape}\")\n",
    "print(f\"테스트 데이터 (X_test): {X_test.shape}\")\n",
    "print(\"\\n--- 데이터 분할 완료 ---\")\n",
    "\n"
   ]
  },
  {
   "cell_type": "markdown",
   "id": "9cd52a27",
   "metadata": {},
   "source": [
    "step5. 데이터 정규화(normalization)_전처리 과정"
   ]
  },
  {
   "cell_type": "code",
   "execution_count": 7,
   "id": "7c5cc170",
   "metadata": {},
   "outputs": [
    {
     "name": "stdout",
     "output_type": "stream",
     "text": [
      "정규화 후 통계:\n",
      "X_train_norm: mean=0.4694, std=0.2368\n",
      "X_val_norm: mean=0.4733, std=0.2381\n",
      "X_test_norm: mean=0.4729, std=0.2374\n",
      "y_train_norm: mean=0.2327, std=0.1235\n",
      "y_val_norm: mean=0.2328, std=0.1356\n",
      "y_test_norm: mean=0.2393, std=0.1316\n"
     ]
    }
   ],
   "source": [
    "# 중요: 훈련 데이터(X_train, y_train)의 최소/최대값을 기준으로 스케일러를 학습(fit)하고,\n",
    "# 이 기준으로 모든 데이터셋(train, val, test)을 동일하게 변환합니다.\n",
    "# 이렇게 해야 테스트 과정에서 미래 정보(테스트셋의 최소/최대값)가 모델에 유출되는 것을 막을 수 있다.\n",
    "# validation dataset이나 test data로 스케일링을 할 시 데이터 누수 발생 가능\n",
    "\n",
    "from sklearn.preprocessing import MinMaxScaler\n",
    "import numpy as np\n",
    "\n",
    "\n",
    "\n",
    "# 1. MinMaxScaler 객체 생성 --- 범위를 0.1~0.9로 재설정\n",
    "scaler_X = MinMaxScaler(feature_range=(0.1, 0.9))\n",
    "scaler_y = MinMaxScaler(feature_range=(0.1, 0.9))\n",
    "\n",
    "\n",
    "\n",
    "\n",
    "X_train_norm = scaler_X.fit_transform(X_train) # 훈련 데이터로 스케일러 학습 및 변환 (fit_transform)\n",
    "y_train_norm = scaler_y.fit_transform(y_train) # X_train의 각 변수(컬럼)별로 최소값은 0, 최대값은 1이 되도록 변환됩니다.\n",
    "\n",
    "# 3. 학습된 스케일러로 검증 및 테스트 데이터 변환 (transform)\n",
    "# X_train의 기준으로 나머지 데이터들을 변환합니다.\n",
    "X_val_norm = scaler_X.transform(X_val)\n",
    "X_test_norm = scaler_X.transform(X_test)\n",
    "\n",
    "y_val_norm = scaler_y.transform(y_val)   # y_val 과 y_test 도 y_train 의 정규분포를 따라 변환된다\n",
    "y_test_norm = scaler_y.transform(y_test)\n",
    "\n",
    "\n",
    "#print(X_train_norm)\n",
    "\n",
    "#print(X_val_norm)\n",
    "\n",
    "#print(X_test_norm)\n",
    "\n",
    "#print(y_train_norm)\n",
    "\n",
    "#print(y_val_norm)\n",
    "\n",
    "#print(y_test_norm)\n",
    "\n",
    "# X_train_norm 은 [[x0~x7], [x0~x7],....,[x0~x7]] 에서 각 x0~x7은 각 열마다 각각 범위가 0~1로 범위가 변환됨\n",
    "# 이 변환된 정도를 X_val_norm 과 X_test_norm도 적용받음\n",
    "\n",
    "# 정규화 후 통계 확인\n",
    "print(\"정규화 후 통계:\")\n",
    "print(f\"X_train_norm: mean={X_train_norm.mean():.4f}, std={X_train_norm.std():.4f}\")\n",
    "print(f\"X_val_norm: mean={X_val_norm.mean():.4f}, std={X_val_norm.std():.4f}\")\n",
    "print(f\"X_test_norm: mean={X_test_norm.mean():.4f}, std={X_test_norm.std():.4f}\")\n",
    "print(f\"y_train_norm: mean={y_train_norm.mean():.4f}, std={y_train_norm.std():.4f}\")\n",
    "print(f\"y_val_norm: mean={y_val_norm.mean():.4f}, std={y_val_norm.std():.4f}\")\n",
    "print(f\"y_test_norm: mean={y_test_norm.mean():.4f}, std={y_test_norm.std():.4f}\")\n",
    "\n"
   ]
  },
  {
   "cell_type": "markdown",
   "id": "9ad59c20",
   "metadata": {},
   "source": [
    "step6. tensor 변환"
   ]
  },
  {
   "cell_type": "code",
   "execution_count": 8,
   "id": "482b4c61",
   "metadata": {},
   "outputs": [
    {
     "name": "stdout",
     "output_type": "stream",
     "text": [
      "모든 텐서가 cpu에 배치됨\n"
     ]
    }
   ],
   "source": [
    "# 딥러닝을 진행하기 전 모든 데이터셋을 tensor로 변환  # 원래는 numpy 배열이었음 --- 아까 scikitlearn의 train test split 이나 .fit transform 스케일러를 사용하였기에 \n",
    "X_train_tensor = torch.tensor(X_train_norm, dtype=torch.float32, device=device)\n",
    "X_val_tensor = torch.tensor(X_val_norm, dtype=torch.float32, device=device)\n",
    "X_test_tensor = torch.tensor(X_test_norm, dtype=torch.float32, device=device)\n",
    "y_train_tensor = torch.tensor(y_train_norm, dtype=torch.float32, device=device)\n",
    "y_val_tensor = torch.tensor(y_val_norm, dtype=torch.float32, device=device)\n",
    "y_test_tensor = torch.tensor(y_test_norm, dtype=torch.float32, device=device)\n",
    "\n",
    "print(f\"모든 텐서가 {device}에 배치됨\")\n"
   ]
  },
  {
   "cell_type": "markdown",
   "id": "996a7ee0",
   "metadata": {},
   "source": [
    "step7. dataset dictionary 만들기"
   ]
  },
  {
   "cell_type": "code",
   "execution_count": 9,
   "id": "d8165a42",
   "metadata": {},
   "outputs": [
    {
     "name": "stdout",
     "output_type": "stream",
     "text": [
      "train_input: torch.Size([1521, 9])\n",
      "train_label: torch.Size([1521, 1])\n",
      "val_input: torch.Size([381, 9])\n",
      "val_label: torch.Size([381, 1])\n",
      "test_input: torch.Size([476, 9])\n",
      "test_label: torch.Size([476, 1])\n"
     ]
    }
   ],
   "source": [
    "# 나중에 정의하기 편하게 dataset을 정의하기 -- 참고로 dataset들은 tensor 이다\n",
    "\n",
    "dataset = {'train_input': X_train_tensor,'train_label': y_train_tensor,\n",
    "            'val_input': X_val_tensor, 'val_label': y_val_tensor,\n",
    "            'test_input': X_test_tensor,'test_label': y_test_tensor }    # dataset dictionary에 key값과 value 값을 설정한다\n",
    "\n",
    "# 데이터셋 검토차 크기 확인\n",
    "for key, value in dataset.items():                     #.items()를 쓰면 key와 value 값을 묶어서 출력 // .items()가 없으면 오직 key만 출력\n",
    "    print(f\"{key}: {value.shape}\")\n",
    "\n"
   ]
  },
  {
   "cell_type": "code",
   "execution_count": 10,
   "id": "4a2d709a",
   "metadata": {},
   "outputs": [
    {
     "name": "stdout",
     "output_type": "stream",
     "text": [
      "torch.Size([1521, 9])\n"
     ]
    }
   ],
   "source": [
    "print(dataset['train_input'].shape)  # (샘플수, 피처수)\n"
   ]
  },
  {
   "cell_type": "markdown",
   "id": "7f52eab5",
   "metadata": {},
   "source": [
    "step8. 1개의 KAN 모델 생성"
   ]
  },
  {
   "cell_type": "code",
   "execution_count": 11,
   "id": "227d86c0",
   "metadata": {},
   "outputs": [
    {
     "name": "stdout",
     "output_type": "stream",
     "text": [
      "checkpoint directory created: ./model\n",
      "saving model version 0.0\n"
     ]
    }
   ],
   "source": [
    "# KAN 모델 생성\n",
    "model = KAN(width=[9,14,1], grid=3, k=3, seed=42, device=device)"
   ]
  },
  {
   "cell_type": "markdown",
   "id": "d6debc95",
   "metadata": {},
   "source": [
    "step9. KAN 학습 및 prune 후 재학습"
   ]
  },
  {
   "cell_type": "code",
   "execution_count": 12,
   "id": "947446ce",
   "metadata": {},
   "outputs": [
    {
     "name": "stderr",
     "output_type": "stream",
     "text": [
      "| train_loss: 2.39e-02 | test_loss: 2.29e-02 | reg: 2.58e+00 | : 100%|█| 50/50 [00:37<00:00,  1.35it\n"
     ]
    },
    {
     "name": "stdout",
     "output_type": "stream",
     "text": [
      "saving model version 0.1\n"
     ]
    },
    {
     "data": {
      "image/png": "[encoded data removed]",
      "text/plain": [
       "<Figure size 500x400 with 156 Axes>"
      ]
     },
     "metadata": {},
     "output_type": "display_data"
    }
   ],
   "source": [
    "# KAN 학습\n",
    "model.fit(dataset, opt=\"LBFGS\", steps=50, lamb=0.004)\n",
    "model.plot()"
   ]
  },
  {
   "cell_type": "markdown",
   "id": "d2f2ba8b",
   "metadata": {},
   "source": [
    "model의 성질을 잠깐 출력해보자"
   ]
  },
  {
   "cell_type": "code",
   "execution_count": 13,
   "id": "bbe9133d",
   "metadata": {},
   "outputs": [
    {
     "name": "stdout",
     "output_type": "stream",
     "text": [
      "--- 모델의 전체 구조 (print) ---\n",
      "MultKAN(\n",
      "  (act_fun): ModuleList(\n",
      "    (0-1): 2 x KANLayer(\n",
      "      (base_fun): SiLU()\n",
      "    )\n",
      "  )\n",
      "  (base_fun): SiLU()\n",
      "  (symbolic_fun): ModuleList(\n",
      "    (0-1): 2 x Symbolic_KANLayer()\n",
      "  )\n",
      ")\n",
      "\n",
      "--- 모델의 모든 속성 리스트 (dir) ---\n",
      "['T_destination', '__annotations__', '__call__', '__class__', '__delattr__', '__dict__', '__dir__', '__doc__', '__eq__', '__format__', '__ge__', '__getattr__', '__getattribute__', '__getstate__', '__gt__', '__hash__', '__init__', '__init_subclass__', '__le__', '__lt__', '__module__', '__ne__', '__new__', '__reduce__', '__reduce_ex__', '__repr__', '__setattr__', '__setstate__', '__sizeof__', '__str__', '__subclasshook__', '__weakref__', '_apply', '_backward_hooks', '_backward_pre_hooks', '_buffers', '_call_impl', '_compiled_call_impl', '_forward_hooks', '_forward_hooks_always_called', '_forward_hooks_with_kwargs', '_forward_pre_hooks', '_forward_pre_hooks_with_kwargs', '_get_backward_hooks', '_get_backward_pre_hooks', '_get_name', '_is_full_backward_hook', '_load_from_state_dict', '_load_state_dict_post_hooks', '_load_state_dict_pre_hooks', '_maybe_warn_non_full_backward_hook', '_modules', '_named_members', '_non_persistent_buffers_set', '_parameters', '_register_load_state_dict_pre_hook', '_register_state_dict_hook', '_replicate_for_data_parallel', '_save_to_state_dict', '_slow_forward', '_state_dict_hooks', '_state_dict_pre_hooks', '_version', '_wrapped_call_impl', 'act_fun', 'acts', 'acts_premult', 'acts_scale', 'acts_scale_spline', 'add_module', 'affine_trainable', 'apply', 'attribute', 'auto_save', 'auto_swap', 'auto_swap_l', 'auto_symbolic', 'base_fun', 'base_fun_name', 'bfloat16', 'buffers', 'cache_data', 'call_super_init', 'checkout', 'children', 'ckpt_path', 'compile', 'connection_cost', 'copy', 'cpu', 'cuda', 'depth', 'device', 'disable_symbolic_in_fit', 'double', 'dump_patches', 'edge_actscale', 'edge_scores', 'edge_scores_all', 'eval', 'evaluate', 'expand_depth', 'expand_width', 'extra_repr', 'feature_interaction', 'feature_score', 'fit', 'fix_symbolic', 'float', 'forward', 'get_act', 'get_buffer', 'get_extra_state', 'get_fun', 'get_parameter', 'get_params', 'get_range', 'get_reg', 'get_submodule', 'grid', 'grid_eps', 'grid_range', 'half', 'history', 'initialize_from_another_model', 'initialize_grid_from_another_model', 'input_id', 'ipu', 'k', 'load_state_dict', 'loadckpt', 'log_history', 'module', 'modules', 'mtia', 'mult_arity', 'mult_homo', 'n_edge', 'n_mult', 'n_sum', 'named_buffers', 'named_children', 'named_modules', 'named_parameters', 'node_attribute', 'node_bias', 'node_bias_0', 'node_bias_1', 'node_scale', 'node_scale_0', 'node_scale_1', 'node_scores', 'node_scores_all', 'parameters', 'perturb', 'plot', 'prune', 'prune_edge', 'prune_input', 'prune_node', 'refine', 'reg', 'register_backward_hook', 'register_buffer', 'register_forward_hook', 'register_forward_pre_hook', 'register_full_backward_hook', 'register_full_backward_pre_hook', 'register_load_state_dict_post_hook', 'register_load_state_dict_pre_hook', 'register_module', 'register_parameter', 'register_state_dict_post_hook', 'register_state_dict_pre_hook', 'remove_edge', 'remove_node', 'requires_grad_', 'rewind', 'round', 'save_act', 'saveckpt', 'sb_trainable', 'set_extra_state', 'set_mode', 'set_submodule', 'share_memory', 'sp_trainable', 'speed', 'spline_postacts', 'spline_postsplines', 'spline_preacts', 'state_dict', 'state_id', 'subnode_actscale', 'subnode_bias', 'subnode_bias_0', 'subnode_bias_1', 'subnode_scale', 'subnode_scale_0', 'subnode_scale_1', 'subnode_scores', 'subnode_scores_all', 'suggest_symbolic', 'swap', 'symbolic_enabled', 'symbolic_formula', 'symbolic_fun', 'to', 'to_empty', 'train', 'training', 'tree', 'type', 'unfix_symbolic', 'unfix_symbolic_all', 'update_grid', 'update_grid_from_samples', 'width', 'width_in', 'width_out', 'xpu', 'zero_grad']\n"
     ]
    }
   ],
   "source": [
    "# 1. 모델의 전체 구조를 친절하게 출력해보기 (가장 추천!)\n",
    "print(\"--- 모델의 전체 구조 (print) ---\")\n",
    "print(model)\n",
    "\n",
    "# 2. 모델이 가진 모든 속성(변수, 함수) 리스트를 확인해보기\n",
    "print(\"\\n--- 모델의 모든 속성 리스트 (dir) ---\")\n",
    "print(dir(model))\n"
   ]
  },
  {
   "cell_type": "markdown",
   "id": "2ad68e51",
   "metadata": {},
   "source": [
    "학습가능 파라미터 수 "
   ]
  },
  {
   "cell_type": "code",
   "execution_count": 14,
   "id": "553f6ac5",
   "metadata": {},
   "outputs": [
    {
     "name": "stdout",
     "output_type": "stream",
     "text": [
      "학습가능 파라미터 수: 1,680\n",
      "act_fun.0.coef                           torch.Size([9, 14, 6])   756\n",
      "act_fun.0.scale_base                     torch.Size([9, 14])   126\n",
      "act_fun.0.scale_sp                       torch.Size([9, 14])   126\n",
      "act_fun.1.coef                           torch.Size([14, 1, 6])    84\n",
      "act_fun.1.scale_base                     torch.Size([14, 1])    14\n",
      "act_fun.1.scale_sp                       torch.Size([14, 1])    14\n",
      "symbolic_fun.0.affine                    torch.Size([14, 9, 4])   504\n",
      "symbolic_fun.1.affine                    torch.Size([1, 14, 4])    56\n"
     ]
    }
   ],
   "source": [
    "num_params = sum(p.numel() for p in model.parameters() if p.requires_grad)\n",
    "print(f\"학습가능 파라미터 수: {num_params:,}\")\n",
    "\n",
    "for name, p in model.named_parameters():\n",
    "    if p.requires_grad:\n",
    "        print(f\"{name:40s} {p.shape} {p.numel():5d}\")\n"
   ]
  },
  {
   "cell_type": "markdown",
   "id": "91261a8c",
   "metadata": {},
   "source": [
    "학습가능한 파라미터의 리스트를 나열해보자"
   ]
  },
  {
   "cell_type": "code",
   "execution_count": 15,
   "id": "324ce580",
   "metadata": {},
   "outputs": [
    {
     "name": "stdout",
     "output_type": "stream",
     "text": [
      "(감지된 모델 타입: MultKAN)\n",
      "\n",
      "  [ Layer 0 (KANLayer) ] \n",
      " \n",
      " > Coefficients Shape: (9, 14, 6)\n",
      "  > Coefficients List (전체 파라미터)\n",
      "[[[-7.13685586e-04  2.94852983e-02  1.07318712e-02  3.27866687e-03\n",
      "   -2.00261548e-02  1.62812148e-03]\n",
      "  [ 9.22591798e-03  6.97937310e-02  1.72171239e-02 -1.27959913e-02\n",
      "   -7.44565651e-02 -7.67650008e-02]\n",
      "  [-1.61666945e-02 -9.27592143e-02 -2.93226838e-02  3.14834923e-03\n",
      "    7.73894936e-02  7.16423020e-02]\n",
      "  [-7.51865357e-02 -1.02785662e-01 -6.90158159e-02 -4.77872379e-02\n",
      "   -7.04581942e-03  9.59058059e-04]\n",
      "  [-1.02505065e-03  1.20139159e-02  1.39108635e-02  2.06014253e-02\n",
      "    2.44875737e-02  3.77516374e-02]\n",
      "  [-4.15339246e-02 -5.48405293e-03 -1.25256530e-03  1.47991246e-02\n",
      "    2.65578851e-02  5.34183979e-02]\n",
      "  [ 2.73436848e-02  1.45483911e-02  1.32576600e-02  8.68935231e-03\n",
      "    4.40703472e-03  1.16978795e-03]\n",
      "  [ 5.75156510e-03 -7.93449394e-03  2.56757792e-02  5.00572622e-02\n",
      "    9.40048099e-02  9.95604694e-02]\n",
      "  [ 4.51082066e-02  2.32710335e-02  8.45673308e-03 -1.19383829e-02\n",
      "   -3.45879495e-02 -6.13617264e-02]\n",
      "  [-5.89694716e-02 -7.89236724e-02 -4.61296365e-02 -2.22350601e-02\n",
      "    1.98878087e-02  2.83802077e-02]\n",
      "  [-1.74534246e-02 -1.57327589e-03  1.57888737e-02  3.66228223e-02\n",
      "    6.35409579e-02  7.88270086e-02]\n",
      "  [-6.77864701e-02 -6.41632825e-02 -3.56261171e-02 -8.86569452e-03\n",
      "    3.06250528e-02  4.69705053e-02]\n",
      "  [ 4.63274382e-02  7.75302202e-02  2.58721840e-02  1.51543773e-03\n",
      "   -6.17025420e-02 -6.02117069e-02]\n",
      "  [ 9.78562050e-04  1.04700204e-03  2.11980864e-02  3.11509073e-02\n",
      "    6.45122752e-02  2.37558540e-02]]\n",
      "\n",
      " [[ 2.60928329e-02  3.74835730e-02  1.91700477e-02  6.64926274e-03\n",
      "   -1.71738695e-02 -1.47087686e-02]\n",
      "  [ 1.76411383e-02  4.18273583e-02  3.26194093e-02  2.99552716e-02\n",
      "    2.03679707e-02  2.48734709e-02]\n",
      "  [-3.19220759e-02 -2.05574408e-02 -1.21547412e-02 -1.51164085e-03\n",
      "    1.10353651e-02  2.45324876e-02]\n",
      "  [-2.83431839e-02 -4.12379093e-02 -4.27126996e-02 -4.93665524e-02\n",
      "   -5.07076383e-02 -7.76273161e-02]\n",
      "  [-3.69735621e-03 -1.04389032e-02 -1.35360789e-02 -1.81387756e-02\n",
      "   -2.33033113e-02 -2.73219980e-02]\n",
      "  [ 6.24997634e-03  1.31579023e-02 -5.54395560e-03 -1.82889998e-02\n",
      "   -4.32348698e-02 -3.91633399e-02]\n",
      "  [ 7.37136528e-02  9.79269296e-02  5.65980971e-02  2.65837740e-02\n",
      "   -2.56965924e-02 -3.24647278e-02]\n",
      "  [ 3.28367911e-02  9.51720215e-03  2.38143113e-02  2.78831422e-02\n",
      "    4.65982631e-02  1.85035896e-02]\n",
      "  [ 9.50031802e-02  5.32295592e-02  4.07977067e-02  1.54916430e-02\n",
      "   -5.54558961e-03 -5.24295084e-02]\n",
      "  [-3.98481032e-03 -3.01461164e-02 -1.03297550e-02  1.34669681e-04\n",
      "    2.21772399e-02  2.35094298e-02]\n",
      "  [ 1.59579050e-02  2.33542733e-03  3.43319634e-03 -2.46154168e-03\n",
      "    9.93123278e-04 -3.64832021e-02]\n",
      "  [ 3.70878391e-02  1.26154199e-02  1.36527643e-02  6.94161188e-03\n",
      "    4.62868204e-03 -1.03879264e-02]\n",
      "  [ 4.79936339e-02  1.54908244e-02  1.29979616e-02 -4.64643890e-05\n",
      "   -7.62004964e-03 -3.33160236e-02]\n",
      "  [-6.17794544e-02 -3.07667255e-02 -3.60376202e-02 -3.01461983e-02\n",
      "   -3.33924107e-02 -9.40222573e-03]]\n",
      "\n",
      " [[-6.99704606e-03  5.37946634e-03 -8.51128623e-03 -1.93275195e-02\n",
      "   -3.56430896e-02 -4.60865721e-02]\n",
      "  [-6.57986999e-02  9.76722687e-02  1.70945913e-01 -4.85975593e-02\n",
      "   -1.12098783e-01 -3.95242907e-02]\n",
      "  [ 2.20105257e-02  1.31735113e-02 -4.59772907e-03 -2.54705679e-02\n",
      "   -4.93224449e-02 -7.73878023e-02]\n",
      "  [-3.80590223e-02 -2.70524751e-02 -1.85617004e-02 -7.53607973e-03\n",
      "    5.33206156e-03  1.70160886e-02]\n",
      "  [-3.28247212e-02 -1.24895327e-01 -5.53487800e-02 -2.20202245e-02\n",
      "    6.07811213e-02  3.04754432e-02]\n",
      "  [ 2.13385304e-03 -2.12995280e-02 -1.67727396e-02 -1.84211321e-02\n",
      "   -1.59391239e-02 -2.32911520e-02]\n",
      "  [-1.01178046e-02 -5.84640205e-02 -1.46007100e-02  1.49812112e-02\n",
      "    6.49984851e-02  8.40497464e-02]\n",
      "  [ 5.03067300e-02  1.36131644e-01  6.89374208e-02  3.61050777e-02\n",
      "   -4.26608771e-02 -2.46836785e-02]\n",
      "  [-3.69968475e-03 -2.43662158e-03  1.73415951e-02  3.69951576e-02\n",
      "    6.20813742e-02  8.72496068e-02]\n",
      "  [-1.55878188e-02 -3.73443551e-02 -2.72357464e-02 -2.31749322e-02\n",
      "   -1.31944902e-02 -1.38026252e-02]\n",
      "  [ 1.79289393e-02  1.33851124e-02  8.43316130e-03  2.13337713e-03\n",
      "   -4.85425582e-03 -1.29526164e-02]\n",
      "  [ 1.48219243e-02  1.38707680e-03  4.50280774e-03  3.08608892e-03\n",
      "    4.98372829e-03  1.24183926e-03]\n",
      "  [-1.09100798e-02  2.98804678e-02 -2.14818325e-02 -4.59666997e-02\n",
      "   -1.13250941e-01 -7.46824294e-02]\n",
      "  [ 2.17051618e-02  1.25699034e-02 -1.88940682e-03 -1.84411295e-02\n",
      "   -3.56008671e-02 -5.94769828e-02]]\n",
      "\n",
      " [[ 4.66666818e-02  3.22696902e-02  1.90085769e-02  8.70268384e-04\n",
      "   -1.71761755e-02 -4.89781499e-02]\n",
      "  [ 4.51572426e-03  1.20383270e-01  3.19704413e-02 -4.42871498e-03\n",
      "   -1.00566238e-01 -4.88425717e-02]\n",
      "  [-1.45948911e-02 -1.52695095e-02 -3.37610953e-02 -5.09813242e-02\n",
      "   -7.52195939e-02 -9.11981985e-02]\n",
      "  [-5.08650132e-02 -3.75333987e-02 -1.81105398e-02  5.01480885e-03\n",
      "    3.14814299e-02  6.25734776e-02]\n",
      "  [-3.88557464e-02 -3.53212953e-02 -1.45328930e-02  7.17276242e-03\n",
      "    3.47650573e-02  5.69886528e-02]\n",
      "  [ 1.93164758e-02  1.17690517e-02  4.85060364e-03 -4.48182784e-03\n",
      "   -1.35053769e-02 -3.18569764e-02]\n",
      "  [-1.38167879e-02 -1.08455196e-02 -6.23728009e-03 -5.87497198e-04\n",
      "    5.30558871e-03  1.47998743e-02]\n",
      "  [ 3.00216209e-02  4.13792282e-02  7.39137596e-03 -1.96594093e-02\n",
      "   -6.31905496e-02 -8.17006305e-02]\n",
      "  [-3.67761068e-02 -3.52382399e-02 -2.74031926e-02 -1.93370432e-02\n",
      "   -9.12250672e-03  9.29784030e-04]\n",
      "  [-3.05819064e-02 -5.32714576e-02 -1.96918789e-02  2.42219679e-03\n",
      "    4.26782817e-02  5.24677336e-02]\n",
      "  [ 3.15404013e-02  3.11131738e-02  1.80020630e-02  6.63823728e-03\n",
      "   -1.02528762e-02 -1.73400044e-02]\n",
      "  [ 1.58887766e-02  4.32289243e-02  2.46693362e-02  1.54216839e-02\n",
      "   -3.41704185e-03 -9.49348044e-03]\n",
      "  [ 2.05576420e-02 -1.92113046e-04 -5.30447438e-03 -1.93138681e-02\n",
      "   -2.51245983e-02 -6.87753558e-02]\n",
      "  [ 5.98439761e-02  1.33188561e-01  6.19640611e-02  2.69135218e-02\n",
      "   -6.28242195e-02 -1.52023379e-02]]\n",
      "\n",
      " [[ 2.34223977e-02  1.91393159e-02 -6.09899033e-03 -3.21305171e-02\n",
      "   -6.54725283e-02 -9.31282341e-02]\n",
      "  [ 3.33800167e-02  1.57019079e-01  7.10624903e-02  3.69141474e-02\n",
      "   -6.53186366e-02 -3.86676821e-03]\n",
      "  [ 2.21785437e-02  2.38319598e-02  1.16955740e-02  2.42547970e-03\n",
      "   -1.42526841e-02 -1.28298672e-02]\n",
      "  [-2.64291040e-04 -7.53627047e-02 -1.59667917e-02  8.99598189e-03\n",
      "    8.16109180e-02  3.48431841e-02]\n",
      "  [-4.37377952e-02 -1.13405019e-01 -5.75294606e-02 -3.07604447e-02\n",
      "    3.35231684e-02  2.64230035e-02]\n",
      "  [-1.27406549e-02 -6.82312064e-03  4.42657573e-03  1.86046865e-02\n",
      "    3.28267626e-02  5.65409549e-02]\n",
      "  [-6.85048709e-03 -1.05520943e-02  1.46574918e-02  2.84650102e-02\n",
      "    6.85976818e-02  2.31849942e-02]\n",
      "  [-8.51013639e-04  1.55381514e-02  2.17488371e-02  3.48577835e-02\n",
      "    4.20216210e-02  8.16880986e-02]\n",
      "  [-2.26201192e-02 -4.69880216e-02 -3.12652206e-03  2.04154961e-02\n",
      "    8.07363391e-02  4.13440540e-02]\n",
      "  [-1.64396912e-02 -3.17199044e-02  1.63526740e-02  4.92064022e-02\n",
      "    1.16759695e-01  8.21098089e-02]\n",
      "  [-1.77381840e-02  2.44057667e-03  1.67251360e-02  3.69601399e-02\n",
      "    5.73093295e-02  8.89523104e-02]\n",
      "  [ 1.94375012e-02 -3.36112119e-02  1.88693497e-03  1.43261636e-02\n",
      "    5.84565960e-02  1.26228472e-02]\n",
      "  [-4.83829565e-02 -6.47186711e-02 -4.26341482e-02 -2.89783385e-02\n",
      "   -1.42711587e-03 -2.57109641e-04]\n",
      "  [ 2.78080236e-02  3.67012359e-02  2.73859948e-02  2.18819175e-02\n",
      "    1.27633577e-02  9.20643937e-03]]\n",
      "\n",
      " [[ 3.61931846e-02  7.76455402e-02  4.33813743e-02  2.57706102e-02\n",
      "   -1.57193355e-02 -3.61998519e-03]\n",
      "  [ 5.32591753e-02  5.40905185e-02  3.43954638e-02  1.69566553e-02\n",
      "   -8.88308510e-03 -2.26611737e-02]\n",
      "  [-6.06767833e-02 -5.80731146e-02 -4.04946804e-02 -2.27308124e-02\n",
      "    1.44849197e-04  1.90354530e-02]\n",
      "  [-6.73434371e-03 -1.83440130e-02 -3.06070875e-02 -4.78839204e-02\n",
      "   -6.38057813e-02 -1.00957818e-01]\n",
      "  [-8.30579698e-02 -8.39979425e-02 -6.45881146e-02 -4.52206098e-02\n",
      "   -2.04603486e-02  2.59726774e-03]\n",
      "  [-6.91790804e-02 -4.34719212e-02 -3.01184412e-02 -9.61832982e-03\n",
      "    1.07925432e-02  4.40647490e-02]\n",
      "  [ 4.02963981e-02  4.01052050e-02  1.55580146e-02 -3.51113896e-03\n",
      "   -3.85519378e-02 -3.17105576e-02]\n",
      "  [-1.90655179e-02 -3.45173031e-02 -4.50278027e-03  1.67693272e-02\n",
      "    5.38856909e-02  6.16534986e-02]\n",
      "  [ 4.42986563e-02  1.22089637e-02  1.27512170e-02  3.12982523e-03\n",
      "   -1.05070497e-03 -2.26297192e-02]\n",
      "  [-1.39592378e-03  7.11596310e-02  2.81756893e-02  1.74414329e-02\n",
      "   -3.22192758e-02  1.10664740e-02]\n",
      "  [ 4.45153750e-03 -2.09353305e-02 -1.09109338e-02 -1.00770863e-02\n",
      "    3.80455429e-04 -1.48997670e-02]\n",
      "  [-4.41345572e-03 -2.22972315e-02 -2.39877980e-02 -3.16600055e-02\n",
      "   -3.51722613e-02 -5.65823838e-02]\n",
      "  [-2.45621242e-02 -2.26891302e-02 -6.31069951e-03  9.04079620e-03\n",
      "    3.02757379e-02  4.48115133e-02]\n",
      "  [ 6.33224379e-03  5.23476396e-03  4.82983002e-03  4.01260238e-03\n",
      "    3.46272159e-03  1.74497953e-03]]\n",
      "\n",
      " [[ 4.18964279e-04  2.44510756e-03  4.50297445e-03  6.66971551e-03\n",
      "    1.00272950e-02  9.33311414e-03]\n",
      "  [ 8.61653686e-02  1.00736216e-01  5.83677366e-02  2.17168983e-02\n",
      "   -3.07013411e-02 -6.55224621e-02]\n",
      "  [-4.77915257e-02 -3.69838402e-02 -2.99196094e-02 -2.04294566e-02\n",
      "   -9.36178863e-03 -5.96630154e-04]\n",
      "  [ 7.42617575e-03  1.57372113e-02 -1.23147294e-02 -3.38613614e-02\n",
      "   -7.00848103e-02 -7.57150277e-02]\n",
      "  [-3.80684324e-02 -8.82827193e-02 -4.57044020e-02 -2.65340153e-02\n",
      "    2.63849366e-02 -3.62077914e-03]\n",
      "  [ 2.75973734e-02  1.89757310e-02  7.26305833e-03 -6.80914009e-03\n",
      "   -2.29026452e-02 -4.11417261e-02]\n",
      "  [-4.56088074e-02 -1.62974428e-02 -6.39156904e-04  2.32385844e-02\n",
      "    4.65747155e-02  8.59037563e-02]\n",
      "  [-6.33654445e-02 -5.38792163e-02 -2.03429088e-02  1.42853549e-02\n",
      "    5.87578379e-02  9.66494158e-02]\n",
      "  [-5.50697520e-02 -1.18699316e-02 -6.82549691e-03  1.03360247e-02\n",
      "    2.35426836e-02  4.69412357e-02]\n",
      "  [-6.66071996e-02 -8.56507868e-02 -3.51888128e-02  5.11224102e-03\n",
      "    7.07938075e-02  8.42381865e-02]\n",
      "  [ 3.72548327e-02  1.17119774e-01  6.48717061e-02  4.44379449e-02\n",
      "   -1.25337178e-02  3.63476598e-03]\n",
      "  [ 2.52959952e-02  2.00070050e-02  1.00686494e-02 -9.57677141e-04\n",
      "   -1.44073926e-02 -2.68644039e-02]\n",
      "  [-7.13524520e-02 -5.96927255e-02 -4.62687798e-02 -2.76177842e-02\n",
      "   -8.88343155e-03  1.63682178e-02]\n",
      "  [ 4.20533493e-02  7.03815892e-02  4.18829024e-02  2.48667430e-02\n",
      "   -9.90159065e-03 -8.89466051e-03]]\n",
      "\n",
      " [[-6.00724891e-02 -8.32500607e-02 -2.93416847e-02 -4.75492235e-03\n",
      "    6.98435828e-02  1.08630024e-02]\n",
      "  [ 7.31355473e-02  6.11165762e-02  6.25206232e-02  1.26931230e-02\n",
      "    4.26051905e-03 -1.79172233e-02]\n",
      "  [ 9.29490849e-03  1.78949051e-02  1.01935556e-02  6.63717510e-03\n",
      "   -2.55611003e-03  2.94267177e-03]\n",
      "  [-1.32494522e-02 -7.31651708e-02 -1.32882325e-02  1.50345825e-02\n",
      "    9.00135264e-02  4.54270653e-02]\n",
      "  [-9.81426090e-02 -1.13096908e-01 -6.23454303e-02 -2.05368642e-02\n",
      "    4.28385735e-02  7.22700581e-02]\n",
      "  [-8.54471792e-03 -1.68789718e-02 -1.17523372e-02 -9.42860264e-03\n",
      "   -4.22897469e-03 -3.36259510e-03]\n",
      "  [ 1.97671019e-02  9.64542255e-02  3.30172069e-02 -8.89725634e-05\n",
      "   -7.21881911e-02 -6.62317798e-02]\n",
      "  [ 7.07806423e-02  1.12624630e-01  4.60644811e-02  6.66276552e-03\n",
      "   -8.25551823e-02 -3.51895094e-02]\n",
      "  [ 2.94171423e-02  2.16270387e-02 -1.68467057e-03 -2.65135635e-02\n",
      "   -5.69902621e-02 -8.50956813e-02]\n",
      "  [ 3.55407931e-02  1.96792260e-02  2.10910812e-02  1.69941634e-02\n",
      "    1.75587498e-02  1.34021335e-03]\n",
      "  [-1.18235238e-02 -1.40937278e-02  5.65019390e-03  2.32876129e-02\n",
      "    4.87610400e-02  6.18691966e-02]\n",
      "  [ 3.65104936e-02  7.10262433e-02  1.68969203e-02 -1.58619341e-02\n",
      "   -8.80108029e-02 -4.79426309e-02]\n",
      "  [-3.08317114e-02 -2.26552952e-02 -9.33174416e-03  1.47557014e-03\n",
      "    2.44727153e-02  3.53592378e-03]\n",
      "  [ 1.76558010e-02  1.41907576e-03  1.61246154e-02  2.56479755e-02\n",
      "    4.16861959e-02  4.95453291e-02]]\n",
      "\n",
      " [[-5.02865724e-02  8.61584395e-03  6.69832760e-03  6.92151301e-03\n",
      "    4.68163798e-03  7.91255571e-03]\n",
      "  [-4.27002162e-02  8.48335773e-02  4.56344634e-02  8.66788775e-02\n",
      "   -1.12762302e-02 -8.06118548e-03]\n",
      "  [ 3.15602608e-02 -3.18850353e-02 -2.51575802e-02 -9.27306898e-03\n",
      "    4.10299795e-03  5.79103418e-02]\n",
      "  [-1.91485584e-02 -4.79507376e-04 -1.40230842e-02 -2.81433500e-02\n",
      "   -7.66630396e-02 -6.53888583e-02]\n",
      "  [-1.66664347e-02 -8.42616260e-02 -7.19123706e-02 -5.22007234e-02\n",
      "   -1.69129055e-02  2.61361748e-02]\n",
      "  [-1.71560254e-02  1.99545012e-03  1.51507673e-03  2.29656696e-03\n",
      "    2.54585641e-03  5.32661937e-03]\n",
      "  [-1.00836465e-02 -1.28537242e-03  1.30602000e-02  3.00596356e-02\n",
      "    8.54488611e-02  7.48955086e-02]\n",
      "  [-3.02145816e-02  7.78287742e-03  1.50747187e-02  3.18023525e-02\n",
      "    6.20067641e-02  9.32713598e-02]\n",
      "  [-3.97360474e-02 -3.56294885e-02 -3.32214385e-02 -2.83316895e-02\n",
      "   -2.01371610e-02 -9.21618752e-03]\n",
      "  [ 2.11773496e-02 -3.56505327e-02 -2.71003060e-02 -1.53489737e-02\n",
      "    2.56097596e-03  3.84983309e-02]\n",
      "  [-1.82762071e-02 -1.68117974e-02 -1.58311632e-02 -1.39639936e-02\n",
      "   -1.07636675e-02 -6.19992102e-03]\n",
      "  [ 4.62872088e-02  2.84884851e-02  2.19126046e-02  2.89650052e-03\n",
      "   -1.59138199e-02 -7.80422240e-02]\n",
      "  [-1.24401497e-02 -6.58598319e-02 -4.23342548e-02 -1.41421705e-02\n",
      "    6.84048161e-02  8.44994038e-02]\n",
      "  [-3.04116141e-02  6.30035102e-02  5.56108691e-02  4.65078391e-02\n",
      "    3.38420048e-02 -6.99587166e-04]]]\n",
      "\n",
      "  [ Layer 1 (KANLayer) ] \n",
      " \n",
      " > Coefficients Shape: (14, 1, 6)\n",
      "  > Coefficients List (전체 파라미터)\n",
      "[[[ 0.07221643  0.07292366  0.07306982  0.07330553  0.07346234\n",
      "    0.07385199]]\n",
      "\n",
      " [[ 0.3948986   0.5237387   0.01321066 -0.2052656  -0.273679\n",
      "   -0.4409    ]]\n",
      "\n",
      " [[ 0.08581841  0.08483081  0.08514296  0.08564283  0.086214\n",
      "    0.08657254]]\n",
      "\n",
      " [[ 0.08344958  0.08417039  0.0843733   0.0847555   0.08487891\n",
      "    0.08682566]]\n",
      "\n",
      " [[ 0.12645674  0.12680914  0.1269772   0.12717701  0.12734875\n",
      "    0.12753859]]\n",
      "\n",
      " [[ 0.12537952  0.12520017  0.12500483  0.12481398  0.12461842\n",
      "    0.1243493 ]]\n",
      "\n",
      " [[ 0.12192177  0.12183186  0.12178203  0.12177623  0.12175264\n",
      "    0.12168549]]\n",
      "\n",
      " [[-0.03062163 -0.03012799 -0.03026528 -0.0303552  -0.03052372\n",
      "   -0.03053072]]\n",
      "\n",
      " [[ 0.14724347  0.14700109  0.14697075  0.14687036  0.14685513\n",
      "    0.14640503]]\n",
      "\n",
      " [[ 0.11055267  0.11002184  0.10999122  0.10995352  0.10989445\n",
      "    0.10998815]]\n",
      "\n",
      " [[ 0.11789472  0.1176884   0.11747051  0.11727561  0.11705396\n",
      "    0.11698275]]\n",
      "\n",
      " [[ 0.10618929  0.10563589  0.10533933  0.10492922  0.10458504\n",
      "    0.10376281]]\n",
      "\n",
      " [[ 0.08976845  0.08408584  0.08535393  0.08579651  0.08622646\n",
      "    0.08676256]]\n",
      "\n",
      " [[ 0.17547223  0.17461929  0.17393535  0.17320953  0.17246069\n",
      "    0.17158027]]]\n"
     ]
    }
   ],
   "source": [
    "import numpy as np\n",
    "import torch\n",
    "\n",
    "def print_parameters(model):\n",
    "  \n",
    "    \n",
    "    target_layers = None\n",
    "    model_type_name = type(model).__name__   # class 이름 알려주기  -- 보통 MultKIKAN이다\n",
    "    \n",
    "    print(f\"(감지된 모델 타입: {model_type_name})\")\n",
    "    \n",
    "\n",
    "\n",
    "   \n",
    "    if model_type_name == 'MultKAN':\n",
    "        target_layers = model.act_fun\n",
    "    elif model_type_name == 'KAN':\n",
    "        target_layers = model.layers\n",
    "    else:\n",
    "        print(f\"[에러] 지원되지 않는 모델 타입입니다: {model_type_name}\")\n",
    "        return\n",
    "\n",
    "\n",
    "\n",
    "\n",
    "\n",
    "    # layer 자체의 coef 속성에 직접 접근합니다.\n",
    "    for i, layer in enumerate(target_layers):                        # enumerate 는 layer의 원소와 이름을 쌍으로 가져옴   # (0, 첫번째 레이어), (1, 두번째 레이어), ...\n",
    "\n",
    "        print(f\"\\n  [ Layer {i} ({type(layer).__name__}) ] \")\n",
    "        \n",
    "        # 'KANLayer' 객체(layer)가 가진 .coef 속성을 직접 가져옵니다.\n",
    "        # 이로써 내부 for문이 완전히 사라지고 코드가 더 간결해졌습니다.\n",
    "        coeffs = layer.coef.detach().cpu().numpy()\n",
    "        \n",
    "        print(f\" \\n > Coefficients Shape: {coeffs.shape}\")\n",
    "        print(f\"  > Coefficients List (전체 파라미터)\")\n",
    "        print(f\"{coeffs}\")  # 이게 파라미터들의 리스트\n",
    "            \n",
    "    \n",
    "\n",
    "# 이 최종 완성된 함수를 실행합니다.\n",
    "print_parameters(model)\n",
    "\n",
    "# [팁] 파라미터 리스트가 너무 길어서 [...]로 생략된다면,NumPy의 출력 옵션을 설정하여 전체 배열을 볼 수 있음\n",
    "# np.set_printoptions(threshold=np.inf)\n",
    "\n",
    "\n"
   ]
  },
  {
   "cell_type": "code",
   "execution_count": 16,
   "id": "97aa8bd6",
   "metadata": {},
   "outputs": [
    {
     "name": "stdout",
     "output_type": "stream",
     "text": [
      "saving model version 0.2\n"
     ]
    },
    {
     "data": {
      "image/png": "[encoded data removed]",
      "text/plain": [
       "<Figure size 500x400 with 13 Axes>"
      ]
     },
     "metadata": {},
     "output_type": "display_data"
    }
   ],
   "source": [
    "#pruning\n",
    "model = model.prune(node_th=1e-2, edge_th=3e-2)  # 더 자르고 싶으면 값을 높이고, 덜 자르고 변수를 많이 있게 하고 싶으면 값을 낮추기\n",
    "model.plot()"
   ]
  },
  {
   "cell_type": "code",
   "execution_count": 17,
   "id": "52219276",
   "metadata": {},
   "outputs": [
    {
     "name": "stderr",
     "output_type": "stream",
     "text": [
      "| train_loss: 1.01e-04 | test_loss: 8.92e-05 | reg: 3.67e+00 | : 100%|█| 50/50 [00:12<00:00,  3.86it\n"
     ]
    },
    {
     "name": "stdout",
     "output_type": "stream",
     "text": [
      "saving model version 0.3\n"
     ]
    },
    {
     "data": {
      "image/png": "[encoded data removed]",
      "text/plain": [
       "<Figure size 500x400 with 13 Axes>"
      ]
     },
     "metadata": {},
     "output_type": "display_data"
    }
   ],
   "source": [
    "#학습\n",
    "model.fit(dataset, opt=\"LBFGS\", steps=50)  # update_grid = False일때랑 // True일때랑 차이는 아직은 잘... 와닿지는 않는다\n",
    "model.plot()"
   ]
  },
  {
   "cell_type": "markdown",
   "id": "6d477e33",
   "metadata": {},
   "source": [
    "step10. KAN refine(grid extension) 후 재학습"
   ]
  },
  {
   "cell_type": "code",
   "execution_count": 18,
   "id": "29921454",
   "metadata": {},
   "outputs": [
    {
     "name": "stdout",
     "output_type": "stream",
     "text": [
      "saving model version 0.4\n"
     ]
    },
    {
     "name": "stderr",
     "output_type": "stream",
     "text": [
      "| train_loss: 1.18e-03 | test_loss: 8.88e-04 | reg: 3.38e+00 | : 100%|█| 50/50 [00:16<00:00,  3.09it\n"
     ]
    },
    {
     "name": "stdout",
     "output_type": "stream",
     "text": [
      "saving model version 0.5\n"
     ]
    },
    {
     "data": {
      "image/png": "[encoded data removed]",
      "text/plain": [
       "<Figure size 500x400 with 13 Axes>"
      ]
     },
     "metadata": {},
     "output_type": "display_data"
    }
   ],
   "source": [
    "# refine(grid extension) 그리드 세분화(구간 세분화)(전체 구간 개수 30개로 변화)\n",
    "model = model.refine(30)\n",
    "model.fit(dataset, opt=\"LBFGS\", steps=50)\n",
    "model.plot()"
   ]
  },
  {
   "cell_type": "markdown",
   "id": "445c58e6",
   "metadata": {},
   "source": [
    "step11. KAN symbolification"
   ]
  },
  {
   "cell_type": "code",
   "execution_count": 19,
   "id": "666a6d8c",
   "metadata": {},
   "outputs": [
    {
     "name": "stdout",
     "output_type": "stream",
     "text": [
      "fixing (0,0,0) with 0\n",
      "fixing (0,1,0) with 0\n",
      "fixing (0,2,0) with x, r2=0.059964682906866074, c=1\n",
      "fixing (0,3,0) with x, r2=3.213799209333956e-05, c=1\n",
      "fixing (0,4,0) with 0\n",
      "fixing (0,5,0) with 0\n",
      "fixing (0,6,0) with 0\n",
      "fixing (0,7,0) with 0\n",
      "fixing (0,8,0) with x, r2=0.2859186828136444, c=1\n",
      "fixing (1,0,0) with x, r2=0.2854110896587372, c=1\n",
      "saving model version 0.6\n"
     ]
    }
   ],
   "source": [
    "# 자동 모드로 심볼릭 회귀 수행\n",
    "lib = ['x', 'x^2', 'x^3', 'x^4', 'exp', 'log', 'sqrt', 'tanh', 'sin']   #'x^(-1)', 'x^(-2)', 'x^(-3)', 'x^(-4)'\n",
    "model.auto_symbolic(lib=lib)\n"
   ]
  },
  {
   "cell_type": "code",
   "execution_count": 20,
   "id": "eb7e1c7e",
   "metadata": {},
   "outputs": [
    {
     "name": "stderr",
     "output_type": "stream",
     "text": [
      "| train_loss: 7.80e-07 | test_loss: 7.92e-07 | reg: 0.00e+00 | : 100%|█| 50/50 [00:05<00:00,  9.94it\n"
     ]
    },
    {
     "name": "stdout",
     "output_type": "stream",
     "text": [
      "saving model version 0.7\n"
     ]
    },
    {
     "data": {
      "image/png": "[encoded data removed]",
      "text/plain": [
       "<Figure size 500x400 with 13 Axes>"
      ]
     },
     "metadata": {},
     "output_type": "display_data"
    }
   ],
   "source": [
    "# symbolic 함수로 대체 후 학습\n",
    "model.fit(dataset, opt=\"LBFGS\", steps=50)\n",
    "model.plot()"
   ]
  },
  {
   "cell_type": "markdown",
   "id": "a2914843",
   "metadata": {},
   "source": [
    "step12. symbolic 수식 출력"
   ]
  },
  {
   "cell_type": "code",
   "execution_count": 21,
   "id": "9988d940",
   "metadata": {},
   "outputs": [
    {
     "name": "stdout",
     "output_type": "stream",
     "text": [
      "formula = 1.0*x_9\n",
      "(x_1: Current density, x_2: Faradaic efficiency, ... x_8: crossover rate, x_9 : Output)\n"
     ]
    }
   ],
   "source": [
    "# 심볼릭 수식 출력\n",
    "formula = ex_round(model.symbolic_formula()[0][0], 4)  # ex_round(  , 4) -- 소수점 뒤에 숫자 4개? // \n",
    "print(\"formula =\" , formula)  \n",
    "print('(x_1: Current density, x_2: Faradaic efficiency, ... x_8: crossover rate, x_9 : Output)')\n"
   ]
  },
  {
   "cell_type": "markdown",
   "id": "f43772d9",
   "metadata": {},
   "source": [
    "step13. KAN이 예측한 수식 정확도 검증을 위한 함수 정의"
   ]
  },
  {
   "cell_type": "code",
   "execution_count": 22,
   "id": "d723e550",
   "metadata": {},
   "outputs": [],
   "source": [
    "# validation set으로 성능을 평가하는 함수 만들기\n",
    "def evaluate_model_performance(model, dataset, scaler_y, phase=\"validation\"):    # phase = validation 아니면 test 이다\n",
    "    \n",
    "    \n",
    "    if phase == \"validation\":\n",
    "        input_tensor = dataset['val_input']\n",
    "        label_tensor = dataset['val_label']\n",
    "    elif phase == \"test\":\n",
    "        input_tensor = dataset['test_input']\n",
    "        label_tensor = dataset['test_label']\n",
    "    else:\n",
    "        raise ValueError(\"phase는 'validation' 또는 'test'만 가능합니다\")\n",
    "    \n",
    "    # 예측 수행\n",
    "    with torch.no_grad():  # 굳이 기울기 계산할 필요 X because 이거는 test 이기에 학습 X --- 시간 더 빠르게 하려고 torch.no_grad()\n",
    "        pred_norm = model(input_tensor) #input_tensor 는 val_inut or test_input / pred_norm은 그에 대한 출력값\n",
    "    \n",
    "    # 역정규화\n",
    "    pred_real = scaler_y.inverse_transform(pred_norm.cpu().detach().numpy())   # pred_real 은 0.1~0.9 사이의 입력 val_input or test_input을 받고 출력된 값은 다시 역정규화 한 실제 출력값\n",
    "    label_real = scaler_y.inverse_transform(label_tensor.cpu().detach().numpy()) # label_real은 0.1~0.9 사이의 입력 val_label or test_label을 받고 출력한 값 역정규화\n",
    "    # inverse_transform 함수는  numpy 를 입력으로 받기 떄문에 pytorch tensor를 cpu로 옮기고 numpy로 변환\n",
    "    \n",
    "    # numpy는 cpu에서만 돌아가니까 tensor를 .cpu로 옮기고 그다음 tensor의 추가정보 (numpy 정보 + 어떻게 계산되었는지 식에 대한 정보)를 detach --- 그 다음에 .numpy()를 통해 numpy로 변환\n",
    "    \n",
    "    # 성능 지표 계산 from 역정규화된 label_real, pred_real 값들 from val input or test input + numpy에서 계산\n",
    "    rmse = np.sqrt(mean_squared_error(label_real, pred_real))  # 오차 제곱 평균의 루트\n",
    "    r2 = r2_score(label_real, pred_real)  #1에 가까울수록 좋다 \n",
    "    mae = np.mean(np.abs(label_real - pred_real)) # 오차 절댓값들의 평균 -- MAE\n",
    "    \n",
    "    print(f\"{phase} SET 성능 평가\") # phase = validation 또는 test \n",
    "    print(f\"RMSE: {rmse:.4f}\")     # f\"{변수:포맷코드}\"\n",
    "    print(f\"R²: {r2:.4f}\")\n",
    "    print(f\"MAE: {mae:.4f}\")\n",
    "    \n",
    "    print(f\"실제값 평균: {label_real.mean():.4f}\")  #label_real의 평균값(실제값)\n",
    "    print(f\"예측값 평균: {pred_real.mean():.4f}\")   #pred_real의 평균값(KAN 모델로 예측한 값)\n",
    "    \n",
    "    return pred_real, label_real, {'rmse': rmse, 'r2': r2, 'mae': mae}"
   ]
  },
  {
   "cell_type": "markdown",
   "id": "fb77ff0c",
   "metadata": {},
   "source": [
    "Step14. Validation data(검증셋)으로 성능 평가"
   ]
  },
  {
   "cell_type": "code",
   "execution_count": 23,
   "id": "497efffd",
   "metadata": {},
   "outputs": [
    {
     "name": "stdout",
     "output_type": "stream",
     "text": [
      "validation SET 성능 평가\n",
      "RMSE: 0.0002\n",
      "R²: 1.0000\n",
      "MAE: 0.0002\n",
      "실제값 평균: 48.6630\n",
      "예측값 평균: 48.6630\n"
     ]
    }
   ],
   "source": [
    "# validation dataset(검증셋)으로 성능 평가 (모델 개발 과정에서)\n",
    "val_pred, val_actual, val_metrics = evaluate_model_performance(model, dataset, scaler_y, \"validation\")\n",
    "\n",
    "#scaler_y : step5 에서 정의한 정규화된 y 변환법\n",
    "# validation --- 검증셋 이용할거라는 의미 / 나중에 \n",
    "# val_pred 변수: evaluate_model_performance 함수가 반환한 첫 번째 결과물(pred_real)(모델의 예측값 배열)이 저장\n",
    "# val_actual 변수: 함수가 반환한 두 번째 결과물(label_real)(실제 정답 값 배열)이 저장\n",
    "# val_metrics 변수: 함수가 반환한 세 번째 결과물(RMSE, R², MAE가 담긴 딕셔너리)이 저장\n"
   ]
  },
  {
   "cell_type": "markdown",
   "id": "937e66a3",
   "metadata": {},
   "source": [
    "step15. KAN이 예측한 수식의 정확도 최종계산 _ using test_input, test_label"
   ]
  },
  {
   "cell_type": "code",
   "execution_count": 24,
   "id": "8acf1afc",
   "metadata": {},
   "outputs": [
    {
     "name": "stdout",
     "output_type": "stream",
     "text": [
      "최종 테스트셋 평가\n",
      "test SET 성능 평가\n",
      "RMSE: 0.0002\n",
      "R²: 1.0000\n",
      "MAE: 0.0002\n",
      "실제값 평균: 50.3135\n",
      "예측값 평균: 50.3135\n",
      "\n",
      "최종 모델 성능:\n",
      "테스트셋 RMSE: 0.0002\n",
      "테스트셋 R²: 1.0000\n",
      "테스트셋 MAE: 0.0002\n"
     ]
    }
   ],
   "source": [
    "# 모든 모델 개발이 완료된 후 최종 한 번만 수행\n",
    "print(\"최종 테스트셋 평가\")\n",
    "\n",
    "\n",
    "# 최종 테스트셋 평가(phase만 'test'로 변경하여 테스트 데이터를 사용)(이전에 정의한 evaluate_model_performance 함수를 그대로 사용)\n",
    "test_pred, test_actual, test_metrics = evaluate_model_performance(\n",
    "    model, dataset, scaler_y, \"test\"\n",
    ")\n",
    "\n",
    "# test_pred : 모델의 예측값 , test_actual : 실제 정답 값 배열 , test_metrics : (RMSE, R², MAE가 담긴 딕셔너리)\n",
    "\n",
    "print(f\"\\n최종 모델 성능:\")\n",
    "print(f\"테스트셋 RMSE: {test_metrics['rmse']:.4f}\")\n",
    "print(f\"테스트셋 R²: {test_metrics['r2']:.4f}\")\n",
    "print(f\"테스트셋 MAE: {test_metrics['mae']:.4f}\")\n"
   ]
  },
  {
   "cell_type": "markdown",
   "id": "cd9bb436",
   "metadata": {},
   "source": [
    "step16. KAN 예측값 / 실제값 그래프"
   ]
  },
  {
   "cell_type": "code",
   "execution_count": 25,
   "id": "7931b4ce",
   "metadata": {},
   "outputs": [
    {
     "data": {
      "image/png": "[encoded data removed]",
      "text/plain": [
       "<Figure size 400x400 with 1 Axes>"
      ]
     },
     "metadata": {},
     "output_type": "display_data"
    }
   ],
   "source": [
    "# step14. KAN 예측값 / 실제값 그래프\n",
    "import matplotlib.pyplot as plt\n",
    "\n",
    "plt.figure(figsize=(4, 4))  # 도화지 그리기~\n",
    "\n",
    "# test_actual (x축) vs test_pred (y축) , alpha = 투명도\n",
    "plt.scatter(test_actual, test_pred, alpha=0.7, edgecolors='k', label='Model Predictions')\n",
    "\n",
    "# 제일 작은 값, 제일 큰 값 설정\n",
    "min_val = min(test_actual.min(), test_pred.min())\n",
    "max_val = max(test_actual.max(), test_pred.max())\n",
    "plt.plot([min_val, max_val], [min_val, max_val], 'r--', linewidth=2, label='Perfect Fit (y=x)')  # y = x 선긋기\n",
    "\n",
    "# 그래프 제목과 축 레이블 설정\n",
    "plt.xlabel(\"Actual \" + predicting , fontsize=12)   # Actual 다음에 우리가 보고자 하는 output predicting 변수가 뜸\n",
    "plt.ylabel(\"Predicted \" + predicting, fontsize=12) # \n",
    "plt.title(f'Test Set: Actual vs. Predicted (R² = {test_metrics[\"r2\"]:.4f})', fontsize=14)\n",
    "plt.legend()\n",
    "plt.grid(True)  # 격자 on \n",
    "plt.axis('equal') # x, y축 스케일을 동일하게 설정\n",
    "plt.tight_layout()\n",
    "plt.show()\n"
   ]
  },
  {
   "cell_type": "markdown",
   "id": "c9f2f548",
   "metadata": {},
   "source": [
    "잔차 플롯 (Residual Plot): 모델의 예측 오차 패턴 분석"
   ]
  },
  {
   "cell_type": "code",
   "execution_count": 26,
   "id": "da62b6b9",
   "metadata": {},
   "outputs": [
    {
     "data": {
      "image/png": "[encoded data removed]",
      "text/plain": [
       "<Figure size 700x400 with 1 Axes>"
      ]
     },
     "metadata": {},
     "output_type": "display_data"
    }
   ],
   "source": [
    "# 1. 잔차 계산 (실제값 - 예측값)\n",
    "residuals = test_actual - test_pred\n",
    "\n",
    "# 2. 잔차 플롯 시각화\n",
    "plt.figure(figsize=(7, 4))\n",
    "\n",
    "# x축은 예측값, y축은 잔차\n",
    "plt.scatter(test_pred, residuals, alpha=0.7, edgecolors='k')\n",
    "\n",
    "# y=0 기준선 추가 (오차가 0인 선)\n",
    "plt.axhline(y=0, color='r', linestyle='--', linewidth=2)\n",
    "\n",
    "plt.xlabel(\"Predicted \"+predicting, fontsize=12)\n",
    "plt.ylabel('Residuals (Actual - Predicted)', fontsize=12)\n",
    "plt.title('Residual Plot for Test Set', fontsize=14)\n",
    "plt.grid(True)\n",
    "plt.show()\n"
   ]
  },
  {
   "cell_type": "markdown",
   "id": "85cd30ad",
   "metadata": {},
   "source": [
    "2. 개별 변수 영향도 플롯 (Partial Dependence Plot): 변수-결과 관계 시각화"
   ]
  },
  {
   "cell_type": "code",
   "execution_count": 27,
   "id": "ff333b84",
   "metadata": {},
   "outputs": [
    {
     "name": "stdout",
     "output_type": "stream",
     "text": [
      "--- 모든 입력 변수에 대한 개별 영향도 플롯 ---\n"
     ]
    },
    {
     "data": {
      "image/png": "[encoded data removed]",
      "text/plain": [
       "<Figure size 500x400 with 13 Axes>"
      ]
     },
     "metadata": {},
     "output_type": "display_data"
    }
   ],
   "source": [
    "import numpy as np\n",
    "import matplotlib.pyplot as plt\n",
    "\n",
    "# 1. (NameError 해결) feature_names 리스트를 먼저 정의합니다.\n",
    "feature_names = [\n",
    "    \"Current density\", \"Faradaic efficiency\", \"CO coversion\", \"Voltage\",\n",
    "    \"Electricity cost\", \"Membrain cost\", \"Capture energy\", \"Crossover rate\"\n",
    "]\n",
    "\n",
    "try:\n",
    "    print(\"--- 모든 입력 변수에 대한 개별 영향도 플롯 ---\")\n",
    "    \n",
    "    # 2. (TypeError 해결) 'vars' 인자 없이 plot() 함수를 호출합니다.\n",
    "    # 이렇게 하면 8개 변수 각각에 대한 영향도 그래프가 한 번에 그려집니다.\n",
    "    model.plot()\n",
    "    \n",
    "    # 전체 그래프에 대한 제목 설정 (선택 사항)\n",
    "    plt.suptitle('Partial Dependence Plots for All Features', y=1.02)\n",
    "    plt.show()\n",
    "\n",
    "except Exception as e:\n",
    "    print(f\"오류가 발생했습니다: {e}\")\n",
    "    print(\"이전 단계에서 'model' 객체가 성공적으로 생성되었는지 확인해주세요.\")\n",
    "\n"
   ]
  },
  {
   "cell_type": "code",
   "execution_count": 28,
   "id": "22bee12d",
   "metadata": {},
   "outputs": [
    {
     "name": "stdout",
     "output_type": "stream",
     "text": [
      "formula= 1.0*x_9\n"
     ]
    }
   ],
   "source": [
    "# step11의 코드를 다시 실행\n",
    "formula = ex_round(model.symbolic_formula()[0][0], 4)\n",
    "print(\"formula=\", formula)\n",
    "\n",
    "# 여기서 맨 왼쪽부터  x_1부터 x_9\n"
   ]
  },
  {
   "cell_type": "markdown",
   "id": "7180d5fa",
   "metadata": {},
   "source": [
    "-------"
   ]
  },
  {
   "cell_type": "markdown",
   "id": "7b03ef06",
   "metadata": {},
   "source": [
    "------"
   ]
  },
  {
   "cell_type": "markdown",
   "id": "c161d08d",
   "metadata": {},
   "source": [
    "------------------------------------------------------------------------------------------------------------------------------------------------"
   ]
  },
  {
   "cell_type": "markdown",
   "id": "61f2ffb4",
   "metadata": {},
   "source": [
    "step17.실제 KAN이 구현한 수식에 X값을 대입해서 결과 구해보기_역정규화 이용"
   ]
  },
  {
   "cell_type": "code",
   "execution_count": 29,
   "id": "bd032dac",
   "metadata": {},
   "outputs": [
    {
     "name": "stdout",
     "output_type": "stream",
     "text": [
      "--- [입력 변수(X) 정규화 키] ---\n",
      "x_1 (Current density (mA/cm2)):\n",
      "  min = 123.17073171\n",
      "  max = 1999.62015194\n",
      "\n",
      "x_2 (Faradaic efficiency (%)):\n",
      "  min = 0.50009796\n",
      "  max = 0.98970612\n",
      "\n",
      "x_3 (CO coversion):\n",
      "  min = 0.02733906\n",
      "  max = 0.59988205\n",
      "\n",
      "x_4 (Voltage (V)):\n",
      "  min = 1.30043982\n",
      "  max = 3.49868053\n",
      "\n",
      "x_5 (Electricity cost ($/kWh)):\n",
      "  min = 0.05002999\n",
      "  max = 0.09999000\n",
      "\n",
      "x_6 (Membrain cost ($/m2)):\n",
      "  min = 285.03798481\n",
      "  max = 348.32067173\n",
      "\n",
      "x_7 (Catpure energy (GJ/ton)):\n",
      "  min = 3.00039984\n",
      "  max = 4.99640144\n",
      "\n",
      "x_8 (Crossover rate):\n",
      "  min = 0.00039984\n",
      "  max = 1.99880048\n",
      "\n",
      "--- [출력 변수(y) 역정규화 키] ---\n",
      "y_min = 14.99042938\n",
      "y_max = 217.83096166\n"
     ]
    }
   ],
   "source": [
    "# 이전에 학습에 사용했던 scaler_X 와 scaler_y 객체가 필요합니다.\n",
    "\n",
    "# 1. 입력 변수(X)의 최소/최대값 추출\n",
    "#    사용된 변수의 순서에 맞게 이름을 지정합니다.\n",
    "feature_names = [\n",
    "    \"Current density (mA/cm2)\", \"Faradaic efficiency (%)\", \"CO coversion\",\n",
    "    \"Voltage (V)\", \"Electricity cost ($/kWh)\", \"Membrain cost ($/m2)\",\n",
    "    \"Catpure energy (GJ/ton)\", \"Crossover rate\"\n",
    "]\n",
    "\n",
    "print(\"--- [입력 변수(X) 정규화 키] ---\")\n",
    "for i, name in enumerate(feature_names):\n",
    "    min_val = scaler_X.data_min_[i]\n",
    "    max_val = scaler_X.data_max_[i]\n",
    "    print(f\"x_{i+1} ({name}):\")\n",
    "    print(f\"  min = {min_val:.8f}\")\n",
    "    print(f\"  max = {max_val:.8f}\\n\")\n",
    "\n",
    "# 2. 출력 변수(y)의 최소/최대값 추출\n",
    "y_min = scaler_y.data_min_[0]\n",
    "y_max = scaler_y.data_max_[0]\n",
    "\n",
    "print(\"--- [출력 변수(y) 역정규화 키] ---\")\n",
    "print(f\"y_min = {y_min:.8f}\")\n",
    "print(f\"y_max = {y_max:.8f}\")\n"
   ]
  },
  {
   "cell_type": "code",
   "execution_count": 30,
   "id": "b562d0ba",
   "metadata": {},
   "outputs": [
    {
     "name": "stdout",
     "output_type": "stream",
     "text": [
      "formula= 1.0*x_9\n",
      "(x_1: Current density, x_2: Faradaic efficiency, ... x_8: crossover rate)\n"
     ]
    }
   ],
   "source": [
    "# step11의 코드를 다시 실행\n",
    "formula = ex_round(model.symbolic_formula()[0][0], 4)\n",
    "print(\"formula=\", formula)\n",
    "print('(x_1: Current density, x_2: Faradaic efficiency, ... x_8: crossover rate)')\n"
   ]
  },
  {
   "cell_type": "markdown",
   "id": "6bf9a624",
   "metadata": {},
   "source": [
    "python에서도 시험삼아 몇 개 출력해보기"
   ]
  },
  {
   "cell_type": "code",
   "execution_count": 31,
   "id": "a983cab0",
   "metadata": {},
   "outputs": [
    {
     "name": "stdout",
     "output_type": "stream",
     "text": [
      "▶ 자동으로 감지된 수식: y = -5.3590753185135e-7*x_3 + 4.40731480669665e-8*x_4 + 0.999999699717667*x_9 + 4.53146142831429e-7\n",
      "\n",
      "==============================================================\n",
      "### 역정규화 (Inverse Normalization)에 사용되는 수식 ###\n",
      "실제값 = (정규화된 값 * (최대값 - 최소값)) + 최소값\n",
      "실제값 = (정규화된 값 * 253.5507) + 0.0409\n",
      "==============================================================\n",
      "\n",
      "--------- [단순화된 수식 모델]의 예측 성능 ---------\n",
      "     실제값   수식 예측값 \n",
      "0   45.30    45.30\n",
      "1   40.06    40.06\n",
      "2   20.16    20.16\n",
      "3   19.25    19.25\n",
      "4   61.87    61.87\n",
      "5   45.20    45.20\n",
      "6   20.45    20.45\n",
      "7   49.03    49.03\n",
      "8   49.91    49.91\n",
      "9   27.39    27.39\n",
      "10  51.01    51.01\n",
      "11  34.97    34.97\n",
      "12  42.71    42.71\n",
      "13  30.27    30.27\n",
      "14  29.03    29.03\n",
      "15  26.70    26.70\n",
      "16  36.01    36.01\n",
      "17  24.82    24.82\n",
      "18  35.81    35.81\n",
      "19  53.95    53.95\n",
      "20  42.39    42.39\n",
      "21  29.30    29.30\n",
      "22  31.46    31.46\n",
      "23  49.61    49.61\n",
      "24  26.20    26.20\n",
      "25  38.95    38.95\n",
      "26  27.72    27.72\n",
      "27  36.66    36.66\n",
      "28  36.64    36.64\n",
      "29 111.45   111.45\n"
     ]
    }
   ],
   "source": [
    "import numpy as np\n",
    "import pandas as pd\n",
    "from sympy import sympify, symbols, lambdify \n",
    "# sympy 라이브러리 추가\n",
    "\n",
    "# 1. KAN 모델에서 직접 심볼릭 수식 문자열을 가져오기\n",
    "formula_str = model.symbolic_formula()[0][0] # 실제 모델에서 가져오는 코드\n",
    "\n",
    "print(f\"▶ 자동으로 감지된 수식: y = {formula_str}\\n\")\n",
    "\n",
    "# 2. 모든 변수(x_1 ~ x_8)를 기호로 정의\n",
    "num_features = len(feature_names)\n",
    "x_vars = symbols(f'x_1:{num_features + 2}')\n",
    "\n",
    "# 3. 문자열 수식을 실제 계산 가능한 함수로 변환합니다. (핵심 부분)\n",
    "#    lambdify는 sympy 수식을 매우 빠른 numpy 함수로 바꿔주는 기능입니다.\n",
    "symbolic_func = lambdify(x_vars, sympify(formula_str), 'numpy')\n",
    "\n",
    "# 4. 새로운 '만능' 예측 함수를 정의합니다.\n",
    "def auto_symbolic_prediction(x_norm):\n",
    "    \"\"\"\n",
    "    정규화된 입력 데이터(x_norm)를 받아,\n",
    "    자동으로 생성된 symbolic_func를 사용해 예측값을 반환합니다.\n",
    "    \"\"\"\n",
    "    # x_norm 배열의 각 열을 개별 인자로 분리하여 함수에 전달합니다.\n",
    "    # 예: symbolic_func(x_norm[:,0], x_norm[:,1], ..., x_norm[:,7])\n",
    "    # x_norm.T는 배열을 전치하여 각 행이 변수가 되도록 합니다.\n",
    "    return symbolic_func(*x_norm.T)\n",
    "\n",
    "# --- [자동화된 수식 처리 부분 끝] ---\n",
    "\n",
    "\n",
    "# 2. 역정규화에 사용되는 수식 출력 (이전과 동일)\n",
    "min_val = scaler_y.min_[0]\n",
    "scale_range = 1 / scaler_y.scale_[0]\n",
    "print(\"==============================================================\")\n",
    "print(\"### 역정규화 (Inverse Normalization)에 사용되는 수식 ###\")\n",
    "print(f\"실제값 = (정규화된 값 * (최대값 - 최소값)) + 최소값\")\n",
    "print(f\"실제값 = (정규화된 값 * {scale_range:.4f}) + {min_val:.4f}\")\n",
    "print(\"==============================================================\\n\")\n",
    "\n",
    "\n",
    "# 4. 테스트 데이터셋 전체를 사용하여 예측을 수행합니다.\n",
    "test_input_norm = dataset['test_input']\n",
    "# 여기서 새롭게 정의한 자동화 함수를 호출합니다!\n",
    "y_pred_norm = auto_symbolic_prediction(test_input_norm)\n",
    "\n",
    "\n",
    "# 5. 이후 모든 코드는 이전과 완전히 동일합니다.\n",
    "y_pred_norm_reshaped = y_pred_norm.reshape(-1, 1)\n",
    "y_pred_real_scale = scaler_y.inverse_transform(y_pred_norm_reshaped)\n",
    "y_true_real_scale = scaler_y.inverse_transform(dataset['test_label'])\n",
    "results_df = pd.DataFrame({\n",
    "    '실제값 ': y_true_real_scale.flatten(),\n",
    "    '수식 예측값 ': y_pred_real_scale.flatten()\n",
    "})\n",
    "pd.options.display.float_format = '{:.2f}'.format\n",
    "\n",
    "print(\"--------- [단순화된 수식 모델]의 예측 성능 ---------\")\n",
    "print(results_df.head(30))\n"
   ]
  }
 ],
 "metadata": {
  "kernelspec": {
   "display_name": "venv",
   "language": "python",
   "name": "python3"
  },
  "language_info": {
   "codemirror_mode": {
    "name": "ipython",
    "version": 3
   },
   "file_extension": ".py",
   "mimetype": "text/x-python",
   "name": "python",
   "nbconvert_exporter": "python",
   "pygments_lexer": "ipython3",
   "version": "3.11.9"
  }
 },
 "nbformat": 4,
 "nbformat_minor": 5
}
