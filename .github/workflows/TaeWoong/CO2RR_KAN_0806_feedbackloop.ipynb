{
 "cells": [
  {
   "cell_type": "markdown",
   "id": "0895cbba",
   "metadata": {},
   "source": [
    "## CO2RR 공정 datasheet 분석"
   ]
  },
  {
   "cell_type": "markdown",
   "id": "4e0157fd",
   "metadata": {},
   "source": [
    "----------------------------------"
   ]
  },
  {
   "cell_type": "markdown",
   "id": "499fd6e3",
   "metadata": {},
   "source": [
    "-------"
   ]
  },
  {
   "cell_type": "markdown",
   "id": "4d576959",
   "metadata": {},
   "source": [
    "Output 중 Required energy_total (MJ/kgCO), MSP 분석 예정"
   ]
  },
  {
   "cell_type": "markdown",
   "id": "bd5404b7",
   "metadata": {},
   "source": [
    "step0. 라이브러리 정리"
   ]
  },
  {
   "cell_type": "code",
   "execution_count": 1,
   "id": "ed16aea4",
   "metadata": {},
   "outputs": [
    {
     "name": "stdout",
     "output_type": "stream",
     "text": [
      "cpu\n"
     ]
    }
   ],
   "source": [
    "import pandas as pd\n",
    "import numpy as np\n",
    "import torch\n",
    "from sklearn.preprocessing import StandardScaler\n",
    "from sklearn.model_selection import train_test_split\n",
    "from sklearn.metrics import mean_squared_error, r2_score\n",
    "from kan import KAN\n",
    "from kan.utils import ex_round\n",
    "device = torch.device('cuda' if torch.cuda.is_available() else 'cpu')\n",
    "print(device)"
   ]
  },
  {
   "cell_type": "markdown",
   "id": "f34c39e8",
   "metadata": {},
   "source": [
    "step1. 엑셀 파일 불러오기"
   ]
  },
  {
   "cell_type": "code",
   "execution_count": 2,
   "id": "c0466943",
   "metadata": {},
   "outputs": [],
   "source": [
    "# 엑셀 데이터 로드 \n",
    "filepath = r\"C:\\Users\\kepco201\\Desktop\\KAN_python\\pykan-master\\.github\\workflows\\TaeWoong\\25.01.14_CO2RR_GSA.xlsx\"\n",
    "xls = pd.ExcelFile(filepath) \n",
    "df_in  = pd.read_excel(xls, sheet_name='Input')\n",
    "df_out = pd.read_excel(xls, sheet_name='Output')\n",
    "\n"
   ]
  },
  {
   "cell_type": "markdown",
   "id": "12dafb3a",
   "metadata": {},
   "source": [
    "step2.결측값 대체 및 이상치 제거"
   ]
  },
  {
   "cell_type": "raw",
   "id": "d0c919d6",
   "metadata": {
    "vscode": {
     "languageId": "raw"
    }
   },
   "source": [
    "# [기존 step2]\n",
    "# df_in  = df_in.fillna(df_in.mean(numeric_only=True))\n",
    "# df_out = df_out.fillna(df_out.mean(numeric_only=True))\n",
    "\n",
    "# [수정된 step2] : 결측치가 있는 행 삭제\n",
    "\n",
    "# 1. 삭제 전 데이터 크기 확인\n",
    "print(f\"결측값 삭제 전 Input 데이터 크기: {df_in.shape}\")\n",
    "print(f\"결측값 삭제 전 Output 데이터 크기: {df_out.shape}\")\n",
    "\n",
    "# 2. 결측치가 있는 행 삭제\n",
    "# 두 데이터프레임의 인덱스를 맞추기 위해, 한쪽에서 삭제된 인덱스를 다른 쪽에도 적용\n",
    "na_rows_in = df_in.isnull().any(axis=1)\n",
    "na_rows_out = df_out.isnull().any(axis=1)\n",
    "rows_to_drop = na_rows_in | na_rows_out # 둘 중 하나라도 결측치가 있으면 삭제 대상\n",
    "\n",
    "df_in_cleaned = df_in[~rows_to_drop]\n",
    "df_out_cleaned = df_out[~rows_to_drop]\n",
    "\n",
    "# 3. 삭제 후 데이터 크기 확인\n",
    "print(f\"결측값 삭제 후 Input 데이터 크기: {df_in_cleaned.shape}\")\n",
    "print(f\"결측값 삭제 후 Output 데이터 크기: {df_out_cleaned.shape}\")\n",
    "\n",
    "# 이후 step3 에서는 df_in_cleaned와 df_out_cleaned 를 사용합니다.\n",
    "# X = df_in_cleaned[[...]].values\n",
    "# y = df_out_cleaned[[...]].values.reshape(-1, 1)\n",
    "\n",
    "\n"
   ]
  },
  {
   "cell_type": "markdown",
   "id": "77407cf1",
   "metadata": {},
   "source": [
    "이상치(Outlier) 제거 / 전체 데이터의 10% 이내로 극소량만 제거"
   ]
  },
  {
   "cell_type": "code",
   "execution_count": 3,
   "id": "cb9b8719",
   "metadata": {},
   "outputs": [
    {
     "name": "stdout",
     "output_type": "stream",
     "text": [
      "--- 이상치 제거 시작 ---\n",
      "이상치 제거 전 데이터 수: 2501 개\n",
      "이상치 제거 후 데이터 수: 2378 개 (123 개 제거됨)\n",
      "--- 이상치 제거 완료 ---\n",
      "\n"
     ]
    }
   ],
   "source": [
    "# 이상치(Outlier) 제거 (IQR 방식) ---\n",
    "\n",
    "print(\"--- 이상치 제거 시작 ---\")\n",
    "\n",
    "\n",
    "print(f\"이상치 제거 전 데이터 수: {len(df_in)} 개\")   # len(df_in) 을 통해 이상치 제거 전 데이터 길이(개수) 출력\n",
    "\n",
    "\n",
    "def remove_outliers_iqr(df_in, df_out):              # outlier 제거 함수 정의\n",
    "    \n",
    "    combined_df = pd.concat([df_in, df_out], axis=1) # pd.concat = 2개를 합치기 // 입력 변수(X)와 출력 변수(y)를 합쳐서 전체 데이터프레임 생성 // x랑 y를 한번에 고려\n",
    "                                                     # axis = 1 --- 오른쪽으로 합치기 --- 데이터 구조를 보면 예쁘게 정리가 된다\n",
    "    \n",
    "    numeric_cols = combined_df.select_dtypes(include=np.number).columns  # .select_dtypes 를 통해 특정 열만 출력 outlier 를 탐지할 숫자형 컬럼만 선택\n",
    "                                    # numeric_cols = 숫자로만 구성된 열들의 이름 리스트 (.colums = 그 열의 이름을 리스트로 출력)\n",
    "\n",
    "    # 각 컬럼에 대해 이상치 경계 계산 \n",
    "    Q1 = combined_df[numeric_cols].quantile(0.25)   # .quantile(0.25) = 데이터를 오름차순으로 정렬했을 떄 하위 25% 지점 \n",
    "    Q3 = combined_df[numeric_cols].quantile(0.75)   # .quantile(0.75) = 데이터를 오름차순으로 정렬했을 떄 상위 25% 지점 \n",
    "    IQR = Q3 - Q1 # IQR은 대략 상위 25% - 상위75% = 중간정도의 값에 해당\n",
    "    \n",
    "    lower_bound = Q1 - 6 * IQR  # 보통은 1.5* IQR을 진행하지만 최대한 삭제되는 데이터가 적도록 진행\n",
    "    upper_bound = Q3 + 6 * IQR\n",
    "    \n",
    "\n",
    "    # 밑의 줄은 공부를 더 해보자\n",
    "    # 모든 컬럼에 대해 정상 범위 내에 있는 데이터만 True로 표시\n",
    "    # (row의 어떤 컬럼이라도 이상치면 해당 row 전체가 False가 됨)\n",
    "    condition = ~((combined_df[numeric_cols] < lower_bound) | (combined_df[numeric_cols] > upper_bound)).any(axis=1)\n",
    "    \n",
    "\n",
    "    # 정상 범위에 있는 데이터만 필터링\n",
    "    df_in_no_outliers = df_in[condition]\n",
    "    df_out_no_outliers = df_out[condition]\n",
    "    \n",
    "    return df_in_no_outliers, df_out_no_outliers\n",
    "\n",
    "# 3. 함수를 사용하여 이상치 제거\n",
    "#    이전에 결측치를 제거한 df_in_cleaned, df_out_cleaned를 사용합니다.\n",
    "df_in_final, df_out_final = remove_outliers_iqr(df_in, df_out)\n",
    "\n",
    "\n",
    "# 4. 이상치 제거 후 남은 데이터 개수 확인\n",
    "removed_count = len(df_in) - len(df_in_final)  # 몇 개 지웠는지 세기\n",
    "print(f\"이상치 제거 후 데이터 수: {len(df_in_final)} 개 ({removed_count} 개 제거됨)\")\n",
    "print(\"--- 이상치 제거 완료 ---\\n\")\n",
    "\n",
    "\n",
    "# 이제 'df_in_final'과 'df_out_final'을 사용하자\n",
    "\n"
   ]
  },
  {
   "cell_type": "markdown",
   "id": "c1592a6a",
   "metadata": {},
   "source": [
    "step3. 엑셀 파일 속 data 추출 및 !predict 할 데이터 이름 입력! // 이상치 제거 후 X, Y 정의하기"
   ]
  },
  {
   "cell_type": "code",
   "execution_count": 4,
   "id": "b7eba938",
   "metadata": {},
   "outputs": [
    {
     "name": "stdout",
     "output_type": "stream",
     "text": [
      "[[1.97379048e+03 9.73836465e-01 3.72471012e-02 ... 2.89292283e+02\n",
      "  3.14514194e+00 1.49940024e-01]\n",
      " [1.95631747e+03 9.63060776e-01 5.54118353e-02 ... 2.92153805e+02\n",
      "  3.24190324e+00 2.49900040e-01]\n",
      " [1.93884446e+03 9.52285086e-01 7.35765694e-02 ... 2.95015327e+02\n",
      "  3.33866453e+00 3.49860056e-01]\n",
      " ...\n",
      " [1.61155538e+02 5.37714914e-01 5.36423431e-01 ... 3.38318006e+02\n",
      "  4.66133547e+00 1.65013994e+00]\n",
      " [1.43682527e+02 5.26939224e-01 5.54588165e-01 ... 3.41179528e+02\n",
      "  4.75809676e+00 1.75009996e+00]\n",
      " [1.26209516e+02 5.16163535e-01 5.72752899e-01 ... 3.44041050e+02\n",
      "  4.85485806e+00 1.85005998e+00]]\n",
      "====================\n",
      "[[137.83276055]\n",
      " [ 97.65612097]\n",
      " [ 77.61576681]\n",
      " ...\n",
      " [ 47.34602399]\n",
      " [ 50.01962389]\n",
      " [ 53.6021701 ]]\n"
     ]
    }
   ],
   "source": [
    "# 입력·출력 변수 선택 및 numpy 변환    # outlier 삭제를 원하지 않을시에는 df_in_final 을 df_in으로, df_out_final을 df_out으로 바꾸면 된다\n",
    "X = df_in_final[[\n",
    "    \"Current density (mA/cm2)\", \"Faradaic efficiency (%)\", \"CO coversion\",\n",
    "    \"Voltage (V)\", \"Electricity cost ($/kWh)\",\n",
    "    \"Membrain cost ($/m2)\", \"Catpure energy (GJ/ton)\",  # catpure energy? excel 파일에서 이렇게 오타가 났기에 그냥 사용\n",
    "    \"Crossover rate\"\n",
    "]].values\n",
    "\n",
    "\n",
    "\n",
    "\n",
    "predicting = \"Required energy_total (MJ/kgCO)\" # 다른 output 변수 보고싶으면 이거 보면 됨 # Required energy_total (MJ/kgCO) # MSP ($/kgCO)\n",
    "###### 이거를 수정해서 다른 output도 보자\n",
    "\n",
    "y = df_out_final[predicting].values.reshape(-1, 1)   # df_out_final[] 는 pandas datatframe이기에 이것을 skitlearn 이나 Keras 형태로 바꾸기 -- 그래야 \n",
    "                                                     # .values 를 통해 Numpy 배열로 변환 (값만 뽑기 때문) # 그 후에 reshape(-1.1) 을 통해 \n",
    "                                                     # .reshape()을 이용해 열 1개\n",
    "print(X)\n",
    "print(\"====================\")\n",
    "print(y)\n",
    "\n",
    "\n",
    "\n",
    "\n"
   ]
  },
  {
   "cell_type": "markdown",
   "id": "620e7b8a",
   "metadata": {},
   "source": [
    "추가한 부분 -- y값을 input variable X_9로 추가한다 -- feedback loop"
   ]
  },
  {
   "cell_type": "code",
   "execution_count": 5,
   "id": "000d646a",
   "metadata": {},
   "outputs": [
    {
     "name": "stdout",
     "output_type": "stream",
     "text": [
      "(2378, 8)\n",
      "(2378, 9)\n"
     ]
    }
   ],
   "source": [
    "# **핵심: y값을 X에 추가해서 9개 피처로 만들기**\n",
    "print(X.shape)\n",
    "X = np.concatenate([X, y], axis=1)  # numpy.concatenate( [numpy배열1, numpy 배열2], axis = 1) 이면 옆방향으로 이어붙이기\n",
    "print(X.shape)\n"
   ]
  },
  {
   "cell_type": "markdown",
   "id": "39df47d1",
   "metadata": {},
   "source": [
    "step4. train_set, valadation_set, test_set 만들기 (64:16:20) 우측 하단 RAW로 일단 설정해놓음 나중에 python으로 바꾸기"
   ]
  },
  {
   "cell_type": "code",
   "execution_count": 6,
   "id": "c5e4f043",
   "metadata": {},
   "outputs": [
    {
     "name": "stdout",
     "output_type": "stream",
     "text": [
      "[[6.39764094e+02 8.75483806e-01 2.88958417e-01 ... 3.22830868e+00\n",
      "  3.92243103e-01 2.31302585e+01]\n",
      " [1.92303079e+02 6.42141144e-01 1.31609356e-01 ... 3.07636945e+00\n",
      "  1.13674530e+00 6.60698792e+01]\n",
      " [1.80057977e+03 5.59070372e-01 2.64424230e-01 ... 3.93042783e+00\n",
      "  1.81567373e+00 5.22713630e+01]\n",
      " ...\n",
      " [1.23612555e+03 6.04132347e-01 1.88462615e-01 ... 4.33506597e+00\n",
      "  1.76129548e+00 4.52431765e+01]\n",
      " [1.70637745e+03 6.59774090e-01 1.61333467e-01 ... 3.23470612e+00\n",
      "  1.97241104e+00 5.69643198e+01]\n",
      " [1.03100760e+03 8.20625750e-01 1.96483407e-01 ... 3.72091164e+00\n",
      "  1.93482607e+00 4.80965084e+01]]\n",
      "전체 데이터셋 크기: 2378\n",
      "훈련셋 크기: 1521 (64.0%)\n",
      "검증셋 크기: 381 (16.0%)\n",
      "테스트셋 크기: 476 (20.0%)\n"
     ]
    }
   ],
   "source": [
    "# 1단계: 먼저 train+val과 test로 분할 (80:20)\n",
    "X_temp, X_test, y_temp, y_test = train_test_split(X, y, test_size=0.2, random_state=42)\n",
    "\n",
    "\n",
    "# 2단계: train+val을 train과 val로 분할 (64:16, 전체 대비)\n",
    "X_train, X_val, y_train, y_val = train_test_split(X_temp, y_temp, test_size=0.2, random_state=42)  # 0.2 × 0.8 = 0.16 (전체의 16%)\n",
    "\n",
    "\n",
    "# 최종 비율 확인\n",
    "# (X[:,0])~(X[:,7]) 에 각각의 입력변수들의 값들이 각각 저장됨\n",
    "\n",
    "\n",
    "\n",
    "print(X_val)\n",
    "print(f\"전체 데이터셋 크기: {len(X)}\")\n",
    "print(f\"훈련셋 크기: {len(X_train)} ({len(X_train)/len(X)*100:.1f}%)\")\n",
    "print(f\"검증셋 크기: {len(X_val)} ({len(X_val)/len(X)*100:.1f}%)\")  \n",
    "print(f\"테스트셋 크기: {len(X_test)} ({len(X_test)/len(X)*100:.1f}%)\")\n",
    "\n",
    "\n"
   ]
  },
  {
   "cell_type": "markdown",
   "id": "c8e1d9a9",
   "metadata": {},
   "source": [
    "step4-1. 층화추출(Stratified Sampling on y)을 하고 싶을 때 step4 대신 실행 / 데이터의 밀도가 다른 점을 고려"
   ]
  },
  {
   "cell_type": "raw",
   "id": "836e051a",
   "metadata": {
    "vscode": {
     "languageId": "raw"
    }
   },
   "source": [
    "\n",
    "\n",
    "# ===================================================================\n",
    "# Step 4: 데이터 분할 (훈련/검증/테스트 6:2:2, 층화 추출 적용)\n",
    "# ===================================================================\n",
    "\n",
    "from sklearn.model_selection import train_test_split\n",
    "import pandas as pd\n",
    "import numpy as np\n",
    "\n",
    "print(\"--- 데이터 분할 시작 (훈련/검증/테스트, 층화 추출 방식) ---\")\n",
    "\n",
    "# 1. 층화 추출을 위한 y값 그룹(strata) 생성\n",
    "num_bins = 5\n",
    "try:\n",
    "    y_binned = pd.cut(y.flatten(), bins=num_bins, labels=False)\n",
    "    stratify_option = y_binned\n",
    "    print(f\"y값을 {num_bins}개 구간으로 나누어 층화 추출을 진행합니다.\")\n",
    "except ValueError as e:\n",
    "    print(f\"경고: y값으로 층화 추출을 시도했으나 실패했습니다. ({e})\")\n",
    "    print(\"일반 무작위 추출 방식으로 전환합니다.\")\n",
    "    stratify_option = None\n",
    "\n",
    "# 2. 먼저, 훈련+검증 데이터(80%)와 최종 테스트 데이터(20%)로 분할합니다.\n",
    "X_train_val, X_test, y_train_val, y_test = train_test_split(\n",
    "    X, y, \n",
    "    test_size=0.2, \n",
    "    random_state=42, \n",
    "    stratify=stratify_option\n",
    ")\n",
    "\n",
    "# 3. 다음으로, 훈련+검증 데이터(X_train_val)를 다시 훈련 데이터(75%)와 검증 데이터(25%)로 분할합니다.\n",
    "#    (전체 데이터의 80% 중 75%는 60%, 25%는 20%에 해당하여, 최종적으로 60:20:20 비율이 됩니다.)\n",
    "\n",
    "# 층화 추출을 두 번째 분할에도 일관되게 적용하기 위해 y_train_val 그룹을 다시 만듭니다.\n",
    "try:\n",
    "    y_train_val_binned = pd.cut(y_train_val.flatten(), bins=num_bins, labels=False)\n",
    "    stratify_option_2 = y_train_val_binned\n",
    "except ValueError:\n",
    "    stratify_option_2 = None # 분할이 불가능하면 일반 추출\n",
    "\n",
    "X_train, X_val, y_train, y_val = train_test_split(\n",
    "    X_train_val, y_train_val,\n",
    "    test_size=0.25, # 80% 중 25%는 전체의 20%\n",
    "    random_state=42,\n",
    "    stratify=stratify_option_2\n",
    ")\n",
    "\n",
    "print(\"\\n--- 최종 분할 후 데이터셋 크기 ---\")\n",
    "print(f\"훈련 데이터 (X_train): {X_train.shape}\")\n",
    "print(f\"검증 데이터 (X_val): {X_val.shape}\")\n",
    "print(f\"테스트 데이터 (X_test): {X_test.shape}\")\n",
    "print(\"\\n--- 데이터 분할 완료 ---\")\n",
    "\n"
   ]
  },
  {
   "cell_type": "markdown",
   "id": "9cd52a27",
   "metadata": {},
   "source": [
    "step5. 데이터 정규화(normalization)_전처리 과정"
   ]
  },
  {
   "cell_type": "code",
   "execution_count": 7,
   "id": "7c5cc170",
   "metadata": {},
   "outputs": [
    {
     "name": "stdout",
     "output_type": "stream",
     "text": [
      "정규화 후 통계:\n",
      "X_train_norm: mean=0.4694, std=0.2368\n",
      "X_val_norm: mean=0.4733, std=0.2381\n",
      "X_test_norm: mean=0.4729, std=0.2374\n",
      "y_train_norm: mean=0.2327, std=0.1235\n",
      "y_val_norm: mean=0.2328, std=0.1356\n",
      "y_test_norm: mean=0.2393, std=0.1316\n"
     ]
    }
   ],
   "source": [
    "# 중요: 훈련 데이터(X_train, y_train)의 최소/최대값을 기준으로 스케일러를 학습(fit)하고,\n",
    "# 이 기준으로 모든 데이터셋(train, val, test)을 동일하게 변환합니다.\n",
    "# 이렇게 해야 테스트 과정에서 미래 정보(테스트셋의 최소/최대값)가 모델에 유출되는 것을 막을 수 있다.\n",
    "# validation dataset이나 test data로 스케일링을 할 시 데이터 누수 발생 가능\n",
    "\n",
    "from sklearn.preprocessing import MinMaxScaler\n",
    "import numpy as np\n",
    "\n",
    "\n",
    "\n",
    "# 1. MinMaxScaler 객체 생성 --- 범위를 0.1~0.9로 재설정\n",
    "scaler_X = MinMaxScaler(feature_range=(0.1, 0.9))\n",
    "scaler_y = MinMaxScaler(feature_range=(0.1, 0.9))\n",
    "\n",
    "\n",
    "\n",
    "\n",
    "X_train_norm = scaler_X.fit_transform(X_train) # 훈련 데이터로 스케일러 학습 및 변환 (fit_transform)\n",
    "y_train_norm = scaler_y.fit_transform(y_train) # X_train의 각 변수(컬럼)별로 최소값은 0, 최대값은 1이 되도록 변환됩니다.\n",
    "\n",
    "# 3. 학습된 스케일러로 검증 및 테스트 데이터 변환 (transform)\n",
    "# X_train의 기준으로 나머지 데이터들을 변환합니다.\n",
    "X_val_norm = scaler_X.transform(X_val)\n",
    "X_test_norm = scaler_X.transform(X_test)\n",
    "\n",
    "y_val_norm = scaler_y.transform(y_val)   # y_val 과 y_test 도 y_train 의 정규분포를 따라 변환된다\n",
    "y_test_norm = scaler_y.transform(y_test)\n",
    "\n",
    "\n",
    "#print(X_train_norm)\n",
    "\n",
    "#print(X_val_norm)\n",
    "\n",
    "#print(X_test_norm)\n",
    "\n",
    "#print(y_train_norm)\n",
    "\n",
    "#print(y_val_norm)\n",
    "\n",
    "#print(y_test_norm)\n",
    "\n",
    "# X_train_norm 은 [[x0~x7], [x0~x7],....,[x0~x7]] 에서 각 x0~x7은 각 열마다 각각 범위가 0~1로 범위가 변환됨\n",
    "# 이 변환된 정도를 X_val_norm 과 X_test_norm도 적용받음\n",
    "\n",
    "# 정규화 후 통계 확인\n",
    "print(\"정규화 후 통계:\")\n",
    "print(f\"X_train_norm: mean={X_train_norm.mean():.4f}, std={X_train_norm.std():.4f}\")\n",
    "print(f\"X_val_norm: mean={X_val_norm.mean():.4f}, std={X_val_norm.std():.4f}\")\n",
    "print(f\"X_test_norm: mean={X_test_norm.mean():.4f}, std={X_test_norm.std():.4f}\")\n",
    "print(f\"y_train_norm: mean={y_train_norm.mean():.4f}, std={y_train_norm.std():.4f}\")\n",
    "print(f\"y_val_norm: mean={y_val_norm.mean():.4f}, std={y_val_norm.std():.4f}\")\n",
    "print(f\"y_test_norm: mean={y_test_norm.mean():.4f}, std={y_test_norm.std():.4f}\")\n",
    "\n"
   ]
  },
  {
   "cell_type": "markdown",
   "id": "9ad59c20",
   "metadata": {},
   "source": [
    "step6. tensor 변환"
   ]
  },
  {
   "cell_type": "code",
   "execution_count": 8,
   "id": "482b4c61",
   "metadata": {},
   "outputs": [
    {
     "name": "stdout",
     "output_type": "stream",
     "text": [
      "모든 텐서가 cpu에 배치됨\n"
     ]
    }
   ],
   "source": [
    "# 딥러닝을 진행하기 전 모든 데이터셋을 tensor로 변환  # 원래는 numpy 배열이었음 --- 아까 scikitlearn의 train test split 이나 .fit transform 스케일러를 사용하였기에 \n",
    "X_train_tensor = torch.tensor(X_train_norm, dtype=torch.float32, device=device)\n",
    "X_val_tensor = torch.tensor(X_val_norm, dtype=torch.float32, device=device)\n",
    "X_test_tensor = torch.tensor(X_test_norm, dtype=torch.float32, device=device)\n",
    "y_train_tensor = torch.tensor(y_train_norm, dtype=torch.float32, device=device)\n",
    "y_val_tensor = torch.tensor(y_val_norm, dtype=torch.float32, device=device)\n",
    "y_test_tensor = torch.tensor(y_test_norm, dtype=torch.float32, device=device)\n",
    "\n",
    "print(f\"모든 텐서가 {device}에 배치됨\")\n"
   ]
  },
  {
   "cell_type": "markdown",
   "id": "996a7ee0",
   "metadata": {},
   "source": [
    "step7. dataset dictionary 만들기"
   ]
  },
  {
   "cell_type": "code",
   "execution_count": 9,
   "id": "d8165a42",
   "metadata": {},
   "outputs": [
    {
     "name": "stdout",
     "output_type": "stream",
     "text": [
      "train_input: torch.Size([1521, 9])\n",
      "train_label: torch.Size([1521, 1])\n",
      "val_input: torch.Size([381, 9])\n",
      "val_label: torch.Size([381, 1])\n",
      "test_input: torch.Size([476, 9])\n",
      "test_label: torch.Size([476, 1])\n"
     ]
    }
   ],
   "source": [
    "# 나중에 정의하기 편하게 dataset을 정의하기 -- 참고로 dataset들은 tensor 이다\n",
    "\n",
    "dataset = {'train_input': X_train_tensor,'train_label': y_train_tensor,\n",
    "            'val_input': X_val_tensor, 'val_label': y_val_tensor,\n",
    "            'test_input': X_test_tensor,'test_label': y_test_tensor }    # dataset dictionary에 key값과 value 값을 설정한다\n",
    "\n",
    "# 데이터셋 검토차 크기 확인\n",
    "for key, value in dataset.items():                     #.items()를 쓰면 key와 value 값을 묶어서 출력 // .items()가 없으면 오직 key만 출력\n",
    "    print(f\"{key}: {value.shape}\")\n",
    "\n"
   ]
  },
  {
   "cell_type": "code",
   "execution_count": 10,
   "id": "4a2d709a",
   "metadata": {},
   "outputs": [
    {
     "name": "stdout",
     "output_type": "stream",
     "text": [
      "torch.Size([1521, 9])\n"
     ]
    }
   ],
   "source": [
    "print(dataset['train_input'].shape)  # (샘플수, 피처수)\n"
   ]
  },
  {
   "cell_type": "markdown",
   "id": "7f52eab5",
   "metadata": {},
   "source": [
    "step8. 1개의 KAN 모델 생성"
   ]
  },
  {
   "cell_type": "code",
   "execution_count": 11,
   "id": "227d86c0",
   "metadata": {},
   "outputs": [
    {
     "name": "stdout",
     "output_type": "stream",
     "text": [
      "checkpoint directory created: ./model\n",
      "saving model version 0.0\n"
     ]
    }
   ],
   "source": [
    "# KAN 모델 생성\n",
    "model = KAN(width=[9,16,1], grid=3, k=3, seed=42, device=device)"
   ]
  },
  {
   "cell_type": "markdown",
   "id": "d6debc95",
   "metadata": {},
   "source": [
    "step9. KAN 학습 및 prune 후 재학습"
   ]
  },
  {
   "cell_type": "code",
   "execution_count": 12,
   "id": "947446ce",
   "metadata": {},
   "outputs": [
    {
     "name": "stderr",
     "output_type": "stream",
     "text": [
      "| train_loss: 1.59e-02 | test_loss: 1.68e-02 | reg: 2.51e+00 | : 100%|█| 50/50 [00:31<00:00,  1.58it\n"
     ]
    },
    {
     "name": "stdout",
     "output_type": "stream",
     "text": [
      "saving model version 0.1\n"
     ]
    },
    {
     "data": {
      "image/png": "[encoded data removed]",
      "text/plain": [
       "<Figure size 500x400 with 178 Axes>"
      ]
     },
     "metadata": {},
     "output_type": "display_data"
    }
   ],
   "source": [
    "# KAN 학습\n",
    "model.fit(dataset, opt=\"LBFGS\", steps=50, lamb=0.004)\n",
    "model.plot()"
   ]
  },
  {
   "cell_type": "code",
   "execution_count": 13,
   "id": "cb1a179d",
   "metadata": {},
   "outputs": [
    {
     "name": "stdout",
     "output_type": "stream",
     "text": [
      "-0.7355379036024421\n",
      "0.1968230750718144\n"
     ]
    }
   ],
   "source": [
    "import numpy as np\n",
    "print(np.corrcoef(X[:,2], y.reshape(-1))[0,1])  # x_3-y\n",
    "print(np.corrcoef(X[:,3], y.reshape(-1))[0,1])  # x_4-y\n"
   ]
  },
  {
   "cell_type": "markdown",
   "id": "d2f2ba8b",
   "metadata": {},
   "source": [
    "model의 성질을 잠깐 출력해보자"
   ]
  },
  {
   "cell_type": "code",
   "execution_count": 14,
   "id": "bbe9133d",
   "metadata": {},
   "outputs": [
    {
     "name": "stdout",
     "output_type": "stream",
     "text": [
      "--- 모델의 전체 구조 (print) ---\n",
      "MultKAN(\n",
      "  (act_fun): ModuleList(\n",
      "    (0-1): 2 x KANLayer(\n",
      "      (base_fun): SiLU()\n",
      "    )\n",
      "  )\n",
      "  (base_fun): SiLU()\n",
      "  (symbolic_fun): ModuleList(\n",
      "    (0-1): 2 x Symbolic_KANLayer()\n",
      "  )\n",
      ")\n",
      "\n",
      "--- 모델의 모든 속성 리스트 (dir) ---\n",
      "['T_destination', '__annotations__', '__call__', '__class__', '__delattr__', '__dict__', '__dir__', '__doc__', '__eq__', '__format__', '__ge__', '__getattr__', '__getattribute__', '__getstate__', '__gt__', '__hash__', '__init__', '__init_subclass__', '__le__', '__lt__', '__module__', '__ne__', '__new__', '__reduce__', '__reduce_ex__', '__repr__', '__setattr__', '__setstate__', '__sizeof__', '__str__', '__subclasshook__', '__weakref__', '_apply', '_backward_hooks', '_backward_pre_hooks', '_buffers', '_call_impl', '_compiled_call_impl', '_forward_hooks', '_forward_hooks_always_called', '_forward_hooks_with_kwargs', '_forward_pre_hooks', '_forward_pre_hooks_with_kwargs', '_get_backward_hooks', '_get_backward_pre_hooks', '_get_name', '_is_full_backward_hook', '_load_from_state_dict', '_load_state_dict_post_hooks', '_load_state_dict_pre_hooks', '_maybe_warn_non_full_backward_hook', '_modules', '_named_members', '_non_persistent_buffers_set', '_parameters', '_register_load_state_dict_pre_hook', '_register_state_dict_hook', '_replicate_for_data_parallel', '_save_to_state_dict', '_slow_forward', '_state_dict_hooks', '_state_dict_pre_hooks', '_version', '_wrapped_call_impl', 'act_fun', 'acts', 'acts_premult', 'acts_scale', 'acts_scale_spline', 'add_module', 'affine_trainable', 'apply', 'attribute', 'auto_save', 'auto_swap', 'auto_swap_l', 'auto_symbolic', 'base_fun', 'base_fun_name', 'bfloat16', 'buffers', 'cache_data', 'call_super_init', 'checkout', 'children', 'ckpt_path', 'compile', 'connection_cost', 'copy', 'cpu', 'cuda', 'depth', 'device', 'disable_symbolic_in_fit', 'double', 'dump_patches', 'edge_actscale', 'edge_scores', 'edge_scores_all', 'eval', 'evaluate', 'expand_depth', 'expand_width', 'extra_repr', 'feature_interaction', 'feature_score', 'fit', 'fix_symbolic', 'float', 'forward', 'get_act', 'get_buffer', 'get_extra_state', 'get_fun', 'get_parameter', 'get_params', 'get_range', 'get_reg', 'get_submodule', 'grid', 'grid_eps', 'grid_range', 'half', 'history', 'initialize_from_another_model', 'initialize_grid_from_another_model', 'input_id', 'ipu', 'k', 'load_state_dict', 'loadckpt', 'log_history', 'module', 'modules', 'mtia', 'mult_arity', 'mult_homo', 'n_edge', 'n_mult', 'n_sum', 'named_buffers', 'named_children', 'named_modules', 'named_parameters', 'node_attribute', 'node_bias', 'node_bias_0', 'node_bias_1', 'node_scale', 'node_scale_0', 'node_scale_1', 'node_scores', 'node_scores_all', 'parameters', 'perturb', 'plot', 'prune', 'prune_edge', 'prune_input', 'prune_node', 'refine', 'reg', 'register_backward_hook', 'register_buffer', 'register_forward_hook', 'register_forward_pre_hook', 'register_full_backward_hook', 'register_full_backward_pre_hook', 'register_load_state_dict_post_hook', 'register_load_state_dict_pre_hook', 'register_module', 'register_parameter', 'register_state_dict_post_hook', 'register_state_dict_pre_hook', 'remove_edge', 'remove_node', 'requires_grad_', 'rewind', 'round', 'save_act', 'saveckpt', 'sb_trainable', 'set_extra_state', 'set_mode', 'set_submodule', 'share_memory', 'sp_trainable', 'speed', 'spline_postacts', 'spline_postsplines', 'spline_preacts', 'state_dict', 'state_id', 'subnode_actscale', 'subnode_bias', 'subnode_bias_0', 'subnode_bias_1', 'subnode_scale', 'subnode_scale_0', 'subnode_scale_1', 'subnode_scores', 'subnode_scores_all', 'suggest_symbolic', 'swap', 'symbolic_enabled', 'symbolic_formula', 'symbolic_fun', 'to', 'to_empty', 'train', 'training', 'tree', 'type', 'unfix_symbolic', 'unfix_symbolic_all', 'update_grid', 'update_grid_from_samples', 'width', 'width_in', 'width_out', 'xpu', 'zero_grad']\n"
     ]
    }
   ],
   "source": [
    "# 1. 모델의 전체 구조를 친절하게 출력해보기 (가장 추천!)\n",
    "print(\"--- 모델의 전체 구조 (print) ---\")\n",
    "print(model)\n",
    "\n",
    "# 2. 모델이 가진 모든 속성(변수, 함수) 리스트를 확인해보기\n",
    "print(\"\\n--- 모델의 모든 속성 리스트 (dir) ---\")\n",
    "print(dir(model))\n"
   ]
  },
  {
   "cell_type": "markdown",
   "id": "2ad68e51",
   "metadata": {},
   "source": [
    "학습가능 파라미터 수 "
   ]
  },
  {
   "cell_type": "code",
   "execution_count": 15,
   "id": "553f6ac5",
   "metadata": {},
   "outputs": [
    {
     "name": "stdout",
     "output_type": "stream",
     "text": [
      "학습가능 파라미터 수: 1,920\n",
      "act_fun.0.coef                           torch.Size([9, 16, 6])   864\n",
      "act_fun.0.scale_base                     torch.Size([9, 16])   144\n",
      "act_fun.0.scale_sp                       torch.Size([9, 16])   144\n",
      "act_fun.1.coef                           torch.Size([16, 1, 6])    96\n",
      "act_fun.1.scale_base                     torch.Size([16, 1])    16\n",
      "act_fun.1.scale_sp                       torch.Size([16, 1])    16\n",
      "symbolic_fun.0.affine                    torch.Size([16, 9, 4])   576\n",
      "symbolic_fun.1.affine                    torch.Size([1, 16, 4])    64\n"
     ]
    }
   ],
   "source": [
    "num_params = sum(p.numel() for p in model.parameters() if p.requires_grad)\n",
    "print(f\"학습가능 파라미터 수: {num_params:,}\")\n",
    "\n",
    "for name, p in model.named_parameters():\n",
    "    if p.requires_grad:\n",
    "        print(f\"{name:40s} {p.shape} {p.numel():5d}\")\n"
   ]
  },
  {
   "cell_type": "markdown",
   "id": "91261a8c",
   "metadata": {},
   "source": [
    "학습가능한 파라미터의 리스트를 나열해보자"
   ]
  },
  {
   "cell_type": "code",
   "execution_count": 16,
   "id": "324ce580",
   "metadata": {},
   "outputs": [
    {
     "name": "stdout",
     "output_type": "stream",
     "text": [
      "(감지된 모델 타입: MultKAN)\n",
      "\n",
      "  [ Layer 0 (KANLayer) ] \n",
      " \n",
      " > Coefficients Shape: (9, 16, 6)\n",
      "  > Coefficients List (전체 파라미터)\n",
      "[[[-9.96981631e-04 -6.01956330e-04  1.90708414e-03  4.10206849e-03\n",
      "    7.86559843e-03  7.45705608e-03]\n",
      "  [ 2.45673824e-02  3.43423784e-02  2.02023834e-02  1.04458621e-02\n",
      "   -7.20292889e-03 -1.09516094e-02]\n",
      "  [ 8.78109317e-03  6.86526718e-03  2.19645211e-03 -2.22888170e-03\n",
      "   -8.31483305e-03 -1.48352664e-02]\n",
      "  [-2.53895335e-02 -2.70395558e-02 -5.68311894e-03  1.36070382e-02\n",
      "    4.13906425e-02  6.02837875e-02]\n",
      "  [ 1.51201980e-02 -6.02037704e-04 -1.56778060e-02 -3.36264968e-02\n",
      "   -5.74047677e-02 -6.91215992e-02]\n",
      "  [-9.29030403e-02 -1.28254190e-01 -7.22812787e-02 -2.69144494e-02\n",
      "    4.62633111e-02  5.39534912e-02]\n",
      "  [ 1.48518840e-02  1.06302854e-02  5.14257327e-03 -1.44339155e-03\n",
      "   -9.17027239e-03 -1.74952522e-02]\n",
      "  [ 8.17482732e-03  7.08552003e-02  1.77365057e-02 -6.19034562e-03\n",
      "   -7.35595301e-02 -3.49455439e-02]\n",
      "  [-4.12819386e-02 -3.72290537e-02 -4.18871902e-02 -2.81986836e-02\n",
      "   -3.06081325e-02 -2.47859135e-02]\n",
      "  [-2.20169686e-02 -2.12974194e-02 -1.07494881e-02 -2.10524988e-04\n",
      "    1.34645021e-02  2.60584727e-02]\n",
      "  [-1.40498718e-02 -2.76060328e-02 -9.77908261e-03  3.00209341e-03\n",
      "    2.50428785e-02  3.14584412e-02]\n",
      "  [-5.09784259e-02 -3.37804779e-02 -1.86703317e-02  1.14041963e-03\n",
      "    2.32055970e-02  4.87606004e-02]\n",
      "  [-1.55330235e-02 -5.05588250e-03  4.76651918e-03  1.73580144e-02\n",
      "    3.18827592e-02  4.66815345e-02]\n",
      "  [ 5.88580500e-03 -1.16085925e-03 -9.40625463e-03 -1.96086038e-02\n",
      "   -3.09724230e-02 -4.56236266e-02]\n",
      "  [-1.11256149e-02 -1.75595470e-02 -2.63821669e-02 -3.67216207e-02\n",
      "   -4.81947437e-02 -6.63733929e-02]\n",
      "  [ 6.84858533e-04  5.42464405e-02  1.54070864e-02  5.04099391e-03\n",
      "   -4.31721099e-02  2.49321200e-03]]\n",
      "\n",
      " [[-2.65650135e-02 -9.94573310e-02 -3.64990607e-02  1.40417984e-03\n",
      "    7.28304982e-02  7.96129629e-02]\n",
      "  [ 5.25360443e-02  4.02345546e-02  2.40283236e-02  4.63120174e-03\n",
      "   -1.80485286e-02 -4.23647910e-02]\n",
      "  [-1.68275833e-02 -8.49744305e-03 -2.30517075e-03  5.71080949e-03\n",
      "    1.50244916e-02  2.49668546e-02]\n",
      "  [-4.68635038e-02 -5.27167097e-02 -3.10757849e-02 -1.22397197e-02\n",
      "    2.16725469e-02 -6.54498674e-03]\n",
      "  [-1.52378911e-02 -2.20184922e-02 -2.38995850e-02 -2.81990282e-02\n",
      "   -3.12785357e-02 -4.01941985e-02]\n",
      "  [-4.13489789e-02 -7.94778839e-02 -2.99092866e-02  6.78878045e-03\n",
      "    7.12304190e-02  5.82197793e-02]\n",
      "  [ 3.60727012e-02  5.43968156e-02  2.98058353e-02  1.27167525e-02\n",
      "   -1.66839417e-02 -2.47174166e-02]\n",
      "  [ 6.80313930e-02  5.57085909e-02  4.41224314e-02  2.92828064e-02\n",
      "    1.24980193e-02 -6.74298126e-03]\n",
      "  [-4.96607274e-02 -9.29152966e-02 -5.21706343e-02 -3.31284702e-02\n",
      "    1.26335993e-02  1.84953418e-02]\n",
      "  [ 1.18540376e-02  9.63089801e-03  1.18358154e-02  1.33567452e-02\n",
      "    1.54278213e-02  1.94116123e-02]\n",
      "  [-2.12046150e-02 -3.10686696e-02  8.75261333e-03  3.34271900e-02\n",
      "    9.13680196e-02  5.31135760e-02]\n",
      "  [-2.34308839e-02 -1.45744672e-02 -1.25913098e-02 -8.29882734e-03\n",
      "   -3.96969030e-03  3.09754032e-05]\n",
      "  [ 8.54810793e-03  4.59323451e-03  7.56824156e-03  9.24458541e-03\n",
      "    1.21307848e-02  1.47102121e-02]\n",
      "  [-1.43292714e-02 -3.85618582e-02  5.69196744e-03  2.87104957e-02\n",
      "    8.97291675e-02  5.30764423e-02]\n",
      "  [-7.37788007e-02 -9.65027511e-02 -4.65591699e-02 -1.15694320e-02\n",
      "    5.15285321e-02  6.48303926e-02]\n",
      "  [ 1.26756672e-02  6.37060823e-03  2.15001055e-04 -7.36965286e-03\n",
      "   -1.67272408e-02 -2.38091592e-02]]\n",
      "\n",
      " [[-3.01106740e-02 -2.59545981e-03 -1.63687896e-02 -2.27824543e-02\n",
      "   -3.99752930e-02 -2.06428953e-02]\n",
      "  [-2.83108186e-03  9.19769183e-02  7.78943151e-02 -1.71554293e-02\n",
      "   -1.35822698e-01 -5.05878627e-02]\n",
      "  [ 8.93458724e-02  1.14726298e-01  5.66162206e-02  1.24975936e-02\n",
      "   -5.98682053e-02 -9.09064487e-02]\n",
      "  [-3.93037573e-02 -3.06879915e-02 -1.54374344e-02 -1.78254454e-03\n",
      "    2.35413630e-02  1.29549298e-02]\n",
      "  [-4.24436145e-02 -9.29753631e-02 -3.74018699e-02  3.60785797e-03\n",
      "    7.03493059e-02  9.04265270e-02]\n",
      "  [ 1.16006527e-02  1.54296672e-02 -2.24325876e-03 -1.08889239e-02\n",
      "   -4.05064896e-02  2.05733138e-03]\n",
      "  [-2.29690783e-02 -1.68308429e-02 -1.02389827e-02 -1.56688318e-03\n",
      "    7.25391926e-03  2.15307269e-02]\n",
      "  [-2.17576679e-02 -1.51166553e-02 -7.81560782e-03  9.92924091e-04\n",
      "    1.16850883e-02  2.08852272e-02]\n",
      "  [-2.10938677e-02 -4.24264967e-02 -2.22188793e-02 -9.35459044e-03\n",
      "    1.16384570e-02  3.02969906e-02]\n",
      "  [-1.46281468e-02 -9.29110274e-02 -3.76067236e-02 -1.23651316e-02\n",
      "    5.23122065e-02  3.44166122e-02]\n",
      "  [ 2.26992648e-02  1.72254667e-02  1.29461726e-02  7.50113651e-03\n",
      "    7.89126090e-04 -2.93619325e-03]\n",
      "  [ 3.13449046e-03  7.63981864e-02  1.72802266e-02  3.77598195e-03\n",
      "   -6.40424415e-02 -7.58942496e-03]\n",
      "  [-7.06575215e-02 -6.08278289e-02 -5.02145998e-02 -3.67736481e-02\n",
      "   -2.18725298e-02 -4.13913466e-03]\n",
      "  [-3.40446420e-02 -3.83992791e-02 -3.60189863e-02 -3.53159532e-02\n",
      "   -3.25029790e-02 -3.50393504e-02]\n",
      "  [-3.31283659e-02 -8.84734094e-02 -3.61563861e-02 -4.12369566e-03\n",
      "    6.71722814e-02  2.13422086e-02]\n",
      "  [-5.65958209e-02 -4.51807790e-02 -2.60483567e-02 -3.78601532e-03\n",
      "    2.20094994e-02  5.13850413e-02]]\n",
      "\n",
      " [[-9.85273812e-03 -2.44805007e-03  2.36871536e-03  9.29840747e-03\n",
      "    1.64329987e-02  2.65753698e-02]\n",
      "  [ 3.06424070e-02 -1.74497592e-03  1.64529495e-02  1.43573685e-02\n",
      "    3.51325721e-02  5.07730711e-03]\n",
      "  [ 5.77428751e-03  1.20347983e-03 -4.61815624e-03 -1.16723264e-02\n",
      "   -1.97967496e-02 -2.87606101e-02]\n",
      "  [ 1.85044650e-02  1.14342710e-02  4.53758659e-03 -3.21434485e-03\n",
      "   -1.31505309e-02 -2.25969944e-02]\n",
      "  [-2.81244889e-02 -1.00697257e-01 -4.58003096e-02 -1.50331100e-02\n",
      "    5.94653785e-02  1.04275569e-02]\n",
      "  [-4.83591342e-03 -1.24329804e-02 -1.96068995e-02 -2.91712712e-02\n",
      "   -3.90496403e-02 -5.43487966e-02]\n",
      "  [-4.75690588e-02 -8.18785205e-02 -3.35087702e-02 -3.25773959e-03\n",
      "    5.51311597e-02  6.73399791e-02]\n",
      "  [-3.29089761e-02 -2.38964837e-02 -1.63599215e-02 -6.37981668e-03\n",
      "    4.51424392e-03  1.81256346e-02]\n",
      "  [-6.11093305e-02 -4.75318432e-02 -3.27840559e-02 -1.46768214e-02\n",
      "    6.36325637e-03  2.86795329e-02]\n",
      "  [-1.42768864e-02  1.68040732e-03 -5.97590348e-03 -5.70512144e-03\n",
      "   -1.58434734e-02  6.25672145e-03]\n",
      "  [ 4.06528413e-02  3.78267244e-02  3.71562578e-02  3.59333977e-02\n",
      "    3.43273766e-02  3.43829244e-02]\n",
      "  [-3.42506394e-02 -4.42007668e-02 -2.05331873e-02 -1.78163010e-03\n",
      "    2.74810139e-02  4.34271917e-02]\n",
      "  [-5.88779263e-02 -1.26029655e-01 -5.63323423e-02 -1.59489270e-02\n",
      "    6.91515133e-02  5.98687939e-02]\n",
      "  [-4.21218537e-02 -3.67091484e-02 -1.88193675e-02  5.93111734e-04\n",
      "    2.42959782e-02  4.66967635e-02]\n",
      "  [-5.96201122e-02 -1.04137130e-01 -4.27311100e-02 -7.00357649e-03\n",
      "    7.26147071e-02  4.27914783e-02]\n",
      "  [-6.52660383e-04  4.93165525e-03  7.59692397e-03  1.22298263e-02\n",
      "    1.60075873e-02  2.55083144e-02]]\n",
      "\n",
      " [[ 1.97232515e-02  1.63965821e-02  1.62827130e-02  1.51027013e-02\n",
      "    1.47866486e-02  1.16265239e-02]\n",
      "  [-3.84610990e-04 -3.32493447e-02  1.53608480e-02  5.01863621e-02\n",
      "    1.15816094e-01  8.75128880e-02]\n",
      "  [ 3.60505581e-02  6.28883913e-02  8.63506552e-03 -2.39075795e-02\n",
      "   -9.72730741e-02 -5.35702780e-02]\n",
      "  [ 5.31130545e-02  4.79028970e-02  1.98715311e-02 -7.83051830e-03\n",
      "   -4.49323393e-02 -7.05647990e-02]\n",
      "  [-5.02600968e-02 -8.10385942e-02 -2.83590388e-02  9.45585128e-03\n",
      "    8.69834274e-02  2.55552586e-02]\n",
      "  [-5.29414304e-02 -4.70135473e-02 -3.36870439e-02 -1.88724976e-02\n",
      "   -1.20748091e-03  1.72770172e-02]\n",
      "  [-2.62998231e-02 -2.59459820e-02 -2.27200389e-02 -1.95795875e-02\n",
      "   -1.54965892e-02 -1.22749144e-02]\n",
      "  [ 6.67702407e-02  6.34829029e-02  5.95769137e-02  5.52680828e-02\n",
      "    4.94265370e-02  4.72572073e-02]\n",
      "  [-5.14845140e-02 -3.64857763e-02 -1.94422323e-02  1.99348666e-03\n",
      "    2.57520974e-02  5.35252728e-02]\n",
      "  [-6.23955652e-02 -6.79090098e-02 -3.59393060e-02 -7.40004145e-03\n",
      "    3.35391313e-02  5.62539361e-02]\n",
      "  [ 3.05587929e-02  3.39153856e-02 -4.54188325e-03 -4.13338169e-02\n",
      "   -9.76597145e-02 -8.27481672e-02]\n",
      "  [-3.93012874e-02 -4.49858382e-02 -2.74253208e-02 -1.43809542e-02\n",
      "    8.10908154e-03  1.40581187e-02]\n",
      "  [ 1.95356999e-02  3.84758636e-02  7.18455995e-03 -1.28110610e-02\n",
      "   -5.13677225e-02 -5.57365194e-02]\n",
      "  [ 1.57631412e-02  1.31260687e-02  7.13568274e-03  2.86713970e-04\n",
      "   -7.52023002e-03 -1.70034263e-02]\n",
      "  [-2.36773696e-02 -2.20816433e-02 -1.69888493e-02 -1.17911324e-02\n",
      "   -4.89627523e-03 -6.63573388e-04]\n",
      "  [ 8.99163913e-03  3.54938805e-02 -7.76606053e-03 -4.16708998e-02\n",
      "   -9.89752859e-02 -8.91987756e-02]]\n",
      "\n",
      " [[-8.05134326e-02 -6.44759163e-02 -4.56083231e-02 -2.23045181e-02\n",
      "    4.23126481e-03  3.45641673e-02]\n",
      "  [ 3.07539292e-03 -5.09740692e-03 -2.81277113e-03 -3.67499259e-03\n",
      "   -1.37799350e-03 -7.37205194e-03]\n",
      "  [ 7.00449273e-02  5.73550388e-02  4.03893106e-02  2.04062853e-02\n",
      "   -3.63903889e-03 -2.65626553e-02]\n",
      "  [ 6.75384328e-02  8.46038237e-02  3.22802514e-02 -6.48147380e-03\n",
      "   -7.33401403e-02 -9.49658677e-02]\n",
      "  [-8.67780820e-02 -1.02686569e-01 -4.72885072e-02 -1.54088833e-03\n",
      "    7.00279474e-02  9.72287208e-02]\n",
      "  [-1.97040234e-02 -2.63322201e-02 -3.14882323e-02 -3.87068316e-02\n",
      "   -4.58357632e-02 -5.84361963e-02]\n",
      "  [-9.46360379e-02 -1.34787023e-01 -6.24434724e-02 -5.70277963e-03\n",
      "    8.90452862e-02  9.61115807e-02]\n",
      "  [ 5.32224178e-02  5.38696274e-02  2.67640594e-02  2.26274831e-03\n",
      "   -3.34350988e-02 -4.92781475e-02]\n",
      "  [ 1.85779016e-02  1.27644762e-02  3.88018973e-03 -6.77775964e-03\n",
      "   -1.85260382e-02 -3.43669765e-02]\n",
      "  [ 1.72023438e-02  2.03650035e-02  2.12865770e-02  2.35261992e-02\n",
      "    2.48289593e-02  3.07715125e-02]\n",
      "  [ 7.68640786e-02  5.77545092e-02  4.02896330e-02  1.69641003e-02\n",
      "   -8.15531611e-03 -3.99174280e-02]\n",
      "  [-4.43809628e-02 -3.44123095e-02 -2.23618615e-02 -7.34663615e-03\n",
      "    9.29705240e-03  3.04469150e-02]\n",
      "  [ 3.07706818e-02  2.62290183e-02  2.19316166e-02  1.66652221e-02\n",
      "    1.03493715e-02  4.28521074e-03]\n",
      "  [-8.00790116e-02 -1.07812017e-01 -6.91926032e-02 -4.04159576e-02\n",
      "    1.06501477e-02  5.47914859e-03]\n",
      "  [-4.49321158e-02 -3.44338380e-02 -1.88005455e-02 -1.19017641e-04\n",
      "    2.16389075e-02  4.43266034e-02]\n",
      "  [ 2.44983882e-02  6.58567473e-02  3.57452109e-02  2.32962277e-02\n",
      "   -8.99832696e-03 -1.34987431e-02]]\n",
      "\n",
      " [[ 3.63838151e-02  6.02396689e-02  2.11821012e-02 -7.57968193e-03\n",
      "   -6.11904189e-02 -4.01660353e-02]\n",
      "  [ 3.33473124e-02  7.62449950e-02  4.51296456e-02  2.10227240e-02\n",
      "   -1.40074231e-02 -2.09955592e-02]\n",
      "  [-5.50455563e-02 -4.26109321e-02 -2.12403145e-02  3.21534718e-03\n",
      "    3.22622806e-02  6.20077513e-02]\n",
      "  [ 9.59427841e-03  3.28761041e-02 -3.14653874e-03 -2.64067277e-02\n",
      "   -7.20845386e-02 -6.85795173e-02]\n",
      "  [-7.54013890e-03 -6.93588704e-03 -1.69818511e-03  3.69545445e-03\n",
      "    1.05695678e-02  1.58416964e-02]\n",
      "  [-6.19495511e-02 -4.01585586e-02 -1.89255755e-02  8.26974679e-03\n",
      "    3.86371613e-02  7.36402422e-02]\n",
      "  [-7.06628934e-02 -1.02432765e-01 -4.10297252e-02  7.33217644e-03\n",
      "    8.81491899e-02  8.68656263e-02]\n",
      "  [ 9.67070274e-03  1.13986759e-02  8.69425293e-03  6.16912311e-03\n",
      "    3.09325429e-03 -1.33808667e-03]\n",
      "  [ 3.88321951e-02  3.17735970e-02  4.03602328e-03 -2.45702751e-02\n",
      "   -6.12885877e-02 -9.17002857e-02]\n",
      "  [ 2.49337517e-02  1.98455211e-02  1.47608770e-02  8.19790922e-03\n",
      "    1.44405535e-03 -9.60626360e-03]\n",
      "  [-1.73139982e-02 -1.30112004e-02 -9.47608426e-03 -4.06611105e-03\n",
      "    3.69546120e-04  1.17993113e-02]\n",
      "  [-3.63691337e-02 -2.63382308e-02 -1.74594093e-02 -3.79252550e-03\n",
      "    9.61792469e-03  2.39635557e-02]\n",
      "  [-6.37991726e-02 -6.35042787e-02 -5.04307859e-02 -3.70814838e-02\n",
      "   -1.98498424e-02 -7.55436439e-03]\n",
      "  [ 1.70357861e-02  4.79624346e-02  1.33178998e-02 -1.53643470e-02\n",
      "   -6.06358238e-02 -5.09261265e-02]\n",
      "  [-5.13715819e-02 -1.00930423e-01 -4.17816378e-02 -7.93928653e-03\n",
      "    7.08036944e-02  2.91667785e-02]\n",
      "  [-4.70675491e-02 -3.69463712e-02 -2.27100644e-02 -5.51970629e-03\n",
      "    1.37591027e-02  3.75835784e-02]]\n",
      "\n",
      " [[-2.85325665e-02 -9.81399640e-02 -2.44018510e-02  1.87595598e-02\n",
      "    1.07835792e-01  9.31375399e-02]\n",
      "  [-1.72065001e-03  3.91463330e-03  9.57059208e-03  1.86160021e-02\n",
      "    2.61902232e-02  4.16964777e-02]\n",
      "  [ 6.12398684e-02  4.69062552e-02  3.88184562e-02  2.65354756e-02\n",
      "    1.44376494e-02 -4.11806069e-03]\n",
      "  [ 4.75550070e-02  8.25776458e-02  3.61373089e-02  1.35618784e-02\n",
      "   -4.83793542e-02 -1.73105788e-03]\n",
      "  [-4.43191454e-03 -2.95056659e-03  4.45342576e-03  1.12468731e-02\n",
      "    2.13551316e-02  2.43281815e-02]\n",
      "  [-1.59747675e-02  8.71220231e-03 -2.56350078e-02 -4.81259190e-02\n",
      "   -9.56277028e-02 -6.04908317e-02]\n",
      "  [-2.13789009e-02 -1.96618773e-02 -2.32889727e-02 -2.62131561e-02\n",
      "   -3.07679549e-02 -3.20454203e-02]\n",
      "  [ 1.30904214e-02  4.32212353e-02  1.70290861e-02  5.03325975e-03\n",
      "   -2.67471187e-02 -7.93717243e-03]\n",
      "  [ 1.36896707e-02  1.05684893e-02 -1.28700119e-02 -3.17891575e-02\n",
      "   -6.41296208e-02 -6.28235713e-02]\n",
      "  [ 5.88460639e-02  5.74251786e-02  3.17831300e-02  9.31289885e-03\n",
      "   -2.63429470e-02 -3.08313183e-02]\n",
      "  [-4.28189784e-02 -3.10862008e-02 -2.00704820e-02 -5.42559568e-03\n",
      "    9.89800598e-03  3.10684219e-02]\n",
      "  [ 2.40372382e-02  3.51309143e-02 -4.02508723e-03 -3.83856222e-02\n",
      "   -9.26004872e-02 -8.42957124e-02]\n",
      "  [ 4.78098467e-02  3.70732360e-02  2.75243968e-02  1.47448191e-02\n",
      "    1.26579707e-03 -1.62811186e-02]\n",
      "  [-4.54138592e-02 -3.25569808e-02 -1.61737558e-02  3.72117874e-03\n",
      "    2.55979933e-02  5.50920367e-02]\n",
      "  [-8.65963567e-03 -2.84283813e-02  4.03900776e-04  1.88653599e-02\n",
      "    5.40874228e-02  5.51734939e-02]\n",
      "  [-7.45989606e-02 -6.65716678e-02 -2.31089164e-02  1.90607905e-02\n",
      "    7.74037316e-02  1.09030031e-01]]\n",
      "\n",
      " [[ 3.24452333e-02 -1.43517200e-02 -1.03685353e-02 -5.44570200e-03\n",
      "    2.69143330e-03  1.62509270e-02]\n",
      "  [ 5.80156334e-02  1.09724417e-01 -9.67924297e-03  2.23374534e-02\n",
      "    2.25840192e-02  3.70760858e-02]\n",
      "  [ 5.38796857e-02  2.82047689e-02  2.24989522e-02  8.49368796e-03\n",
      "   -1.29227554e-02 -4.49615195e-02]\n",
      "  [-1.99439116e-02 -9.16799065e-03 -1.56441610e-02 -2.75628176e-02\n",
      "   -4.77231629e-02 -7.46912062e-02]\n",
      "  [-4.95147333e-02 -9.01182890e-02 -6.39082268e-02 -4.39373590e-02\n",
      "    4.78329509e-02  1.96890999e-02]\n",
      "  [ 1.19195960e-04 -1.18590267e-02 -1.53246401e-02 -2.34620702e-02\n",
      "   -3.54784839e-02 -5.61434515e-02]\n",
      "  [ 2.71850806e-02 -4.53879237e-02 -4.21055481e-02 -4.14225608e-02\n",
      "   -3.76595892e-02 -3.62396203e-02]\n",
      "  [-6.09037131e-02  7.95754865e-02  6.03145398e-02  3.35769840e-02\n",
      "   -1.53087638e-02 -7.66450241e-02]\n",
      "  [-1.50724882e-02  5.15830591e-02  3.49061601e-02  8.99750646e-03\n",
      "   -3.81937250e-02 -9.90443304e-02]\n",
      "  [-3.82587574e-02 -8.99759457e-02 -6.17424585e-02 -4.19456623e-02\n",
      "    6.19805306e-02  1.17854346e-02]\n",
      "  [-1.19696045e-02  6.32793605e-02  3.86223570e-02  7.69378431e-03\n",
      "   -7.43379220e-02 -1.04623564e-01]\n",
      "  [-2.93379147e-02  1.55390310e-03 -1.73892416e-02 -3.56427915e-02\n",
      "   -9.63561609e-02 -1.15700200e-01]\n",
      "  [-3.12552936e-02 -1.86209828e-02 -2.31339727e-02 -3.11217234e-02\n",
      "   -4.44982387e-02 -6.33691326e-02]\n",
      "  [-9.36632138e-03 -7.13217184e-02 -4.48858738e-02 -1.43792937e-02\n",
      "    7.55795464e-02  8.87028426e-02]\n",
      "  [-6.48498312e-02 -4.81672436e-02 -3.67769673e-02 -1.19307693e-02\n",
      "    2.32432839e-02  9.38002244e-02]\n",
      "  [ 5.14030010e-02  3.87131074e-03  5.60250599e-03  5.20151807e-03\n",
      "    6.45380560e-03  4.84506739e-03]]]\n",
      "\n",
      "  [ Layer 1 (KANLayer) ] \n",
      " \n",
      " > Coefficients Shape: (16, 1, 6)\n",
      "  > Coefficients List (전체 파라미터)\n",
      "[[[ 0.04757925  0.04819327  0.04862468  0.04920587  0.04967667\n",
      "    0.05123316]]\n",
      "\n",
      " [[ 0.4862938   0.42463177  0.02406929 -0.2550011  -0.36246622\n",
      "   -0.23302902]]\n",
      "\n",
      " [[ 0.07873508  0.07862268  0.07851548  0.07836906  0.07819483\n",
      "    0.07812511]]\n",
      "\n",
      " [[ 0.11186925  0.11190435  0.11165129  0.11138424  0.11123235\n",
      "    0.11026272]]\n",
      "\n",
      " [[ 0.13972911  0.14137843  0.1423263   0.14346656  0.1442136\n",
      "    0.14618595]]\n",
      "\n",
      " [[ 0.20918639  0.20876625  0.20851448  0.20823821  0.20800914\n",
      "    0.20752029]]\n",
      "\n",
      " [[ 0.12718645  0.12730412  0.12774393  0.12815006  0.12860583\n",
      "    0.12902999]]\n",
      "\n",
      " [[ 0.18040438  0.17968644  0.17927007  0.17874576  0.17829698\n",
      "    0.17790191]]\n",
      "\n",
      " [[ 0.0259018   0.02558229  0.02522298  0.024844    0.02443333\n",
      "    0.02406746]]\n",
      "\n",
      " [[ 0.00631078  0.00838449  0.00836168  0.00869346  0.00884876\n",
      "    0.00950165]]\n",
      "\n",
      " [[ 0.10021946  0.1000866   0.09984857  0.09949689  0.09922854\n",
      "    0.09880132]]\n",
      "\n",
      " [[ 0.04322017  0.04298554  0.04369001  0.04440753  0.04486828\n",
      "    0.04840471]]\n",
      "\n",
      " [[ 0.03351999  0.03358773  0.03383923  0.03418977  0.03443749\n",
      "    0.03495592]]\n",
      "\n",
      " [[ 0.14582531  0.14581273  0.14613007  0.1464434   0.14661162\n",
      "    0.1474215 ]]\n",
      "\n",
      " [[ 0.13246447  0.13679308  0.13746265  0.13861875  0.13929933\n",
      "    0.14108454]]\n",
      "\n",
      " [[ 0.09053025  0.08985034  0.08936214  0.08875558  0.0882645\n",
      "    0.08748583]]]\n"
     ]
    }
   ],
   "source": [
    "import numpy as np\n",
    "import torch\n",
    "\n",
    "def print_parameters(model):\n",
    "  \n",
    "    \n",
    "    target_layers = None\n",
    "    model_type_name = type(model).__name__   # class 이름 알려주기  -- 보통 MultKIKAN이다\n",
    "    \n",
    "    print(f\"(감지된 모델 타입: {model_type_name})\")\n",
    "    \n",
    "\n",
    "\n",
    "   \n",
    "    if model_type_name == 'MultKAN':\n",
    "        target_layers = model.act_fun\n",
    "    elif model_type_name == 'KAN':\n",
    "        target_layers = model.layers\n",
    "    else:\n",
    "        print(f\"[에러] 지원되지 않는 모델 타입입니다: {model_type_name}\")\n",
    "        return\n",
    "\n",
    "\n",
    "\n",
    "\n",
    "\n",
    "    # layer 자체의 coef 속성에 직접 접근합니다.\n",
    "    for i, layer in enumerate(target_layers):                        # enumerate 는 layer의 원소와 이름을 쌍으로 가져옴   # (0, 첫번째 레이어), (1, 두번째 레이어), ...\n",
    "\n",
    "        print(f\"\\n  [ Layer {i} ({type(layer).__name__}) ] \")\n",
    "        \n",
    "        # 'KANLayer' 객체(layer)가 가진 .coef 속성을 직접 가져옵니다.\n",
    "        # 이로써 내부 for문이 완전히 사라지고 코드가 더 간결해졌습니다.\n",
    "        coeffs = layer.coef.detach().cpu().numpy()\n",
    "        \n",
    "        print(f\" \\n > Coefficients Shape: {coeffs.shape}\")\n",
    "        print(f\"  > Coefficients List (전체 파라미터)\")\n",
    "        print(f\"{coeffs}\")  # 이게 파라미터들의 리스트\n",
    "            \n",
    "    \n",
    "\n",
    "# 이 최종 완성된 함수를 실행합니다.\n",
    "print_parameters(model)\n",
    "\n",
    "# [팁] 파라미터 리스트가 너무 길어서 [...]로 생략된다면,NumPy의 출력 옵션을 설정하여 전체 배열을 볼 수 있음\n",
    "# np.set_printoptions(threshold=np.inf)\n",
    "\n",
    "\n"
   ]
  },
  {
   "cell_type": "code",
   "execution_count": 17,
   "id": "97aa8bd6",
   "metadata": {},
   "outputs": [
    {
     "name": "stdout",
     "output_type": "stream",
     "text": [
      "saving model version 0.2\n"
     ]
    },
    {
     "data": {
      "image/png": "[encoded data removed]",
      "text/plain": [
       "<Figure size 500x400 with 13 Axes>"
      ]
     },
     "metadata": {},
     "output_type": "display_data"
    }
   ],
   "source": [
    "#pruning\n",
    "model = model.prune(node_th=1e-2, edge_th=3e-2)  # 더 자르고 싶으면 값을 높이고, 덜 자르고 변수를 많이 있게 하고 싶으면 값을 낮추기\n",
    "model.plot()"
   ]
  },
  {
   "cell_type": "code",
   "execution_count": 18,
   "id": "8a81d2f9",
   "metadata": {},
   "outputs": [
    {
     "name": "stdout",
     "output_type": "stream",
     "text": [
      "x_1와 y의 상관계수: -0.0015\n",
      "x_2와 y의 상관계수: -0.1332\n",
      "x_3와 y의 상관계수: -0.7355\n",
      "x_4와 y의 상관계수: 0.1968\n",
      "x_5와 y의 상관계수: -0.0160\n",
      "x_6와 y의 상관계수: -0.0020\n",
      "x_7와 y의 상관계수: 0.0796\n",
      "x_8와 y의 상관계수: 0.0015\n",
      "x_9와 y의 상관계수: 1.0000\n"
     ]
    }
   ],
   "source": [
    "import numpy as np\n",
    "\n",
    "print(f\"x_1와 y의 상관계수: {np.corrcoef(X[:,0], y.reshape(-1))[0,1]:.4f}\")\n",
    "print(f\"x_2와 y의 상관계수: {np.corrcoef(X[:,1], y.reshape(-1))[0,1]:.4f}\")\n",
    "print(f\"x_3와 y의 상관계수: {np.corrcoef(X[:,2], y.reshape(-1))[0,1]:.4f}\")\n",
    "print(f\"x_4와 y의 상관계수: {np.corrcoef(X[:,3], y.reshape(-1))[0,1]:.4f}\")\n",
    "print(f\"x_5와 y의 상관계수: {np.corrcoef(X[:,4], y.reshape(-1))[0,1]:.4f}\")\n",
    "print(f\"x_6와 y의 상관계수: {np.corrcoef(X[:,5], y.reshape(-1))[0,1]:.4f}\")\n",
    "print(f\"x_7와 y의 상관계수: {np.corrcoef(X[:,6], y.reshape(-1))[0,1]:.4f}\")\n",
    "print(f\"x_8와 y의 상관계수: {np.corrcoef(X[:,7], y.reshape(-1))[0,1]:.4f}\")\n",
    "print(f\"x_9와 y의 상관계수: {np.corrcoef(X[:,8], y.reshape(-1))[0,1]:.4f}\")"
   ]
  },
  {
   "cell_type": "code",
   "execution_count": 19,
   "id": "52219276",
   "metadata": {},
   "outputs": [
    {
     "name": "stderr",
     "output_type": "stream",
     "text": [
      "| train_loss: 1.61e-05 | test_loss: 1.52e-05 | reg: 3.96e+00 | : 100%|█| 50/50 [00:09<00:00,  5.08it\n"
     ]
    },
    {
     "name": "stdout",
     "output_type": "stream",
     "text": [
      "saving model version 0.3\n"
     ]
    },
    {
     "data": {
      "image/png": "[encoded data removed]",
      "text/plain": [
       "<Figure size 500x400 with 13 Axes>"
      ]
     },
     "metadata": {},
     "output_type": "display_data"
    }
   ],
   "source": [
    "#학습\n",
    "model.fit(dataset, opt=\"LBFGS\", steps=50)  # update_grid = False일때랑 // True일때랑 차이는 아직은 잘... 와닿지는 않는다\n",
    "model.plot()"
   ]
  },
  {
   "cell_type": "markdown",
   "id": "6d477e33",
   "metadata": {},
   "source": [
    "step10. KAN refine(grid extension) 후 재학습"
   ]
  },
  {
   "cell_type": "code",
   "execution_count": 20,
   "id": "29921454",
   "metadata": {},
   "outputs": [
    {
     "name": "stdout",
     "output_type": "stream",
     "text": [
      "saving model version 0.4\n"
     ]
    },
    {
     "name": "stderr",
     "output_type": "stream",
     "text": [
      "| train_loss: 7.90e-06 | test_loss: 1.33e-05 | reg: 3.89e+00 | : 100%|█| 50/50 [00:14<00:00,  3.51it\n"
     ]
    },
    {
     "name": "stdout",
     "output_type": "stream",
     "text": [
      "saving model version 0.5\n"
     ]
    },
    {
     "data": {
      "image/png": "[encoded data removed]",
      "text/plain": [
       "<Figure size 500x400 with 13 Axes>"
      ]
     },
     "metadata": {},
     "output_type": "display_data"
    }
   ],
   "source": [
    "# refine(grid extension) 그리드 세분화(구간 세분화)(전체 구간 개수 30개로 변화)\n",
    "model = model.refine(30)\n",
    "model.fit(dataset, opt=\"LBFGS\", steps=50)\n",
    "model.plot()"
   ]
  },
  {
   "cell_type": "markdown",
   "id": "445c58e6",
   "metadata": {},
   "source": [
    "step11. KAN symbolification"
   ]
  },
  {
   "cell_type": "code",
   "execution_count": 21,
   "id": "666a6d8c",
   "metadata": {},
   "outputs": [
    {
     "name": "stdout",
     "output_type": "stream",
     "text": [
      "fixing (0,0,0) with 0\n",
      "fixing (0,1,0) with 0\n",
      "fixing (0,2,0) with x, r2=0.029166417196393013, c=1\n",
      "fixing (0,3,0) with 0\n",
      "fixing (0,4,0) with 0\n",
      "fixing (0,5,0) with 0\n",
      "fixing (0,6,0) with 0\n",
      "fixing (0,7,0) with 0\n",
      "fixing (0,8,0) with x^2, r2=0.9999971985816956, c=2\n",
      "fixing (1,0,0) with sqrt, r2=0.9999953508377075, c=2\n",
      "saving model version 0.6\n"
     ]
    }
   ],
   "source": [
    "# 자동 모드로 심볼릭 회귀 수행\n",
    "lib = ['x', 'x^2', 'x^3', 'x^4', 'exp', 'log', 'sqrt', 'tanh', 'sin']   #'x^(-1)', 'x^(-2)', 'x^(-3)', 'x^(-4)'\n",
    "model.auto_symbolic(lib=lib)\n"
   ]
  },
  {
   "cell_type": "code",
   "execution_count": 22,
   "id": "eb7e1c7e",
   "metadata": {},
   "outputs": [
    {
     "name": "stderr",
     "output_type": "stream",
     "text": [
      "| train_loss: 7.83e-05 | test_loss: 7.63e-05 | reg: 0.00e+00 | : 100%|█| 50/50 [00:03<00:00, 14.27it\n"
     ]
    },
    {
     "name": "stdout",
     "output_type": "stream",
     "text": [
      "saving model version 0.7\n"
     ]
    },
    {
     "data": {
      "image/png": "[encoded data removed]",
      "text/plain": [
       "<Figure size 500x400 with 13 Axes>"
      ]
     },
     "metadata": {},
     "output_type": "display_data"
    }
   ],
   "source": [
    "# symbolic 함수로 대체 후 학습\n",
    "model.fit(dataset, opt=\"LBFGS\", steps=50)\n",
    "model.plot()"
   ]
  },
  {
   "cell_type": "markdown",
   "id": "a2914843",
   "metadata": {},
   "source": [
    "step12. symbolic 수식 출력"
   ]
  },
  {
   "cell_type": "code",
   "execution_count": null,
   "id": "9988d940",
   "metadata": {},
   "outputs": [
    {
     "name": "stdout",
     "output_type": "stream",
     "text": [
      "formula = 1.1745*sqrt(0.0006*x_3 + 0.0098*(-8.5516*x_9 - 9.5938)**2 - 0.0186) - 1.1049\n",
      "x_1: Current density, x_2: Faradaic efficiency, ... x_8: crossover rate, x_9: Required energy_total (MJ/kgCO)\n"
     ]
    }
   ],
   "source": [
    "# 심볼릭 수식 출력\n",
    "formula = ex_round(model.symbolic_formula()[0][0], 4)  # ex_round(  , 4) -- 소수점 뒤에 숫자 4개\n",
    "print(\"formula =\" , formula)  \n",
    "print(f\"x_1: Current density, x_2: Faradaic efficiency, ... x_8: crossover rate, x_9: {predicting}\")"
   ]
  },
  {
   "cell_type": "markdown",
   "id": "f43772d9",
   "metadata": {},
   "source": [
    "step13. KAN이 예측한 수식 정확도 검증을 위한 함수 정의"
   ]
  },
  {
   "cell_type": "code",
   "execution_count": 25,
   "id": "d723e550",
   "metadata": {},
   "outputs": [],
   "source": [
    "# validation set으로 성능을 평가하는 함수 만들기\n",
    "def evaluate_model_performance(model, dataset, scaler_y, phase=\"validation\"):    # phase = validation 아니면 test 이다\n",
    "    \n",
    "    \n",
    "    if phase == \"validation\":\n",
    "        input_tensor = dataset['val_input']\n",
    "        label_tensor = dataset['val_label']\n",
    "    elif phase == \"test\":\n",
    "        input_tensor = dataset['test_input']\n",
    "        label_tensor = dataset['test_label']\n",
    "    else:\n",
    "        raise ValueError(\"phase는 'validation' 또는 'test'만 가능합니다\")\n",
    "    \n",
    "    # 예측 수행\n",
    "    with torch.no_grad():  # 굳이 기울기 계산할 필요 X because 이거는 test 이기에 학습 X --- 시간 더 빠르게 하려고 torch.no_grad()\n",
    "        pred_norm = model(input_tensor) #input_tensor 는 val_inut or test_input / pred_norm은 그에 대한 출력값\n",
    "    \n",
    "    # 역정규화\n",
    "    pred_real = scaler_y.inverse_transform(pred_norm.cpu().detach().numpy())   # pred_real 은 0.1~0.9 사이의 입력 val_input or test_input을 받고 출력된 값은 다시 역정규화 한 실제 출력값\n",
    "    label_real = scaler_y.inverse_transform(label_tensor.cpu().detach().numpy()) # label_real은 0.1~0.9 사이의 입력 val_label or test_label을 받고 출력한 값 역정규화\n",
    "    # inverse_transform 함수는  numpy 를 입력으로 받기 떄문에 pytorch tensor를 cpu로 옮기고 numpy로 변환\n",
    "    \n",
    "    # numpy는 cpu에서만 돌아가니까 tensor를 .cpu로 옮기고 그다음 tensor의 추가정보 (numpy 정보 + 어떻게 계산되었는지 식에 대한 정보)를 detach --- 그 다음에 .numpy()를 통해 numpy로 변환\n",
    "    \n",
    "    # 성능 지표 계산 from 역정규화된 label_real, pred_real 값들 from val input or test input + numpy에서 계산\n",
    "    rmse = np.sqrt(mean_squared_error(label_real, pred_real))  # 오차 제곱 평균의 루트\n",
    "    r2 = r2_score(label_real, pred_real)  #1에 가까울수록 좋다 \n",
    "    mae = np.mean(np.abs(label_real - pred_real)) # 오차 절댓값들의 평균 -- MAE\n",
    "    \n",
    "    print(f\"{phase} SET 성능 평가\") # phase = validation 또는 test \n",
    "    print(f\"RMSE: {rmse:.4f}\")     # f\"{변수:포맷코드}\"\n",
    "    print(f\"R²: {r2:.4f}\")\n",
    "    print(f\"MAE: {mae:.4f}\")\n",
    "    \n",
    "    print(f\"실제값 평균: {label_real.mean():.4f}\")  #label_real의 평균값(실제값)\n",
    "    print(f\"예측값 평균: {pred_real.mean():.4f}\")   #pred_real의 평균값(KAN 모델로 예측한 값)\n",
    "    \n",
    "    return pred_real, label_real, {'rmse': rmse, 'r2': r2, 'mae': mae}"
   ]
  },
  {
   "cell_type": "markdown",
   "id": "fb77ff0c",
   "metadata": {},
   "source": [
    "Step14. Validation data(검증셋)으로 성능 평가"
   ]
  },
  {
   "cell_type": "code",
   "execution_count": 26,
   "id": "497efffd",
   "metadata": {},
   "outputs": [
    {
     "name": "stdout",
     "output_type": "stream",
     "text": [
      "validation SET 성능 평가\n",
      "RMSE: 0.0211\n",
      "R²: 1.0000\n",
      "MAE: 0.0155\n",
      "실제값 평균: 48.6630\n",
      "예측값 평균: 48.6617\n"
     ]
    }
   ],
   "source": [
    "# validation dataset(검증셋)으로 성능 평가 (모델 개발 과정에서)\n",
    "val_pred, val_actual, val_metrics = evaluate_model_performance(model, dataset, scaler_y, \"validation\")\n",
    "\n",
    "#scaler_y : step5 에서 정의한 정규화된 y 변환법\n",
    "# validation --- 검증셋 이용할거라는 의미 / 나중에 \n",
    "# val_pred 변수: evaluate_model_performance 함수가 반환한 첫 번째 결과물(pred_real)(모델의 예측값 배열)이 저장\n",
    "# val_actual 변수: 함수가 반환한 두 번째 결과물(label_real)(실제 정답 값 배열)이 저장\n",
    "# val_metrics 변수: 함수가 반환한 세 번째 결과물(RMSE, R², MAE가 담긴 딕셔너리)이 저장\n"
   ]
  },
  {
   "cell_type": "markdown",
   "id": "937e66a3",
   "metadata": {},
   "source": [
    "step15. KAN이 예측한 수식의 정확도 최종계산 _ using test_input, test_label"
   ]
  },
  {
   "cell_type": "code",
   "execution_count": 27,
   "id": "8acf1afc",
   "metadata": {},
   "outputs": [
    {
     "name": "stdout",
     "output_type": "stream",
     "text": [
      "최종 테스트셋 평가\n",
      "test SET 성능 평가\n",
      "RMSE: 0.0193\n",
      "R²: 1.0000\n",
      "MAE: 0.0147\n",
      "실제값 평균: 50.3135\n",
      "예측값 평균: 50.3133\n",
      "\n",
      "최종 모델 성능:\n",
      "테스트셋 RMSE: 0.0193\n",
      "테스트셋 R²: 1.0000\n",
      "테스트셋 MAE: 0.0147\n"
     ]
    }
   ],
   "source": [
    "# 모든 모델 개발이 완료된 후 최종 한 번만 수행\n",
    "print(\"최종 테스트셋 평가\")\n",
    "\n",
    "\n",
    "# 최종 테스트셋 평가(phase만 'test'로 변경하여 테스트 데이터를 사용)(이전에 정의한 evaluate_model_performance 함수를 그대로 사용)\n",
    "test_pred, test_actual, test_metrics = evaluate_model_performance(\n",
    "    model, dataset, scaler_y, \"test\"\n",
    ")\n",
    "\n",
    "# test_pred : 모델의 예측값 , test_actual : 실제 정답 값 배열 , test_metrics : (RMSE, R², MAE가 담긴 딕셔너리)\n",
    "\n",
    "print(f\"\\n최종 모델 성능:\")\n",
    "print(f\"테스트셋 RMSE: {test_metrics['rmse']:.4f}\")\n",
    "print(f\"테스트셋 R²: {test_metrics['r2']:.4f}\")\n",
    "print(f\"테스트셋 MAE: {test_metrics['mae']:.4f}\")\n"
   ]
  },
  {
   "cell_type": "markdown",
   "id": "cd9bb436",
   "metadata": {},
   "source": [
    "step16. KAN 예측값 / 실제값 그래프"
   ]
  },
  {
   "cell_type": "code",
   "execution_count": 30,
   "id": "7931b4ce",
   "metadata": {},
   "outputs": [
    {
     "data": {
      "image/png": "[encoded data removed]",
      "text/plain": [
       "<Figure size 400x400 with 1 Axes>"
      ]
     },
     "metadata": {},
     "output_type": "display_data"
    }
   ],
   "source": [
    "# step14. KAN 예측값 / 실제값 그래프\n",
    "import matplotlib.pyplot as plt\n",
    "\n",
    "plt.figure(figsize=(4, 4))  # 도화지 그리기~\n",
    "\n",
    "# test_actual (x축) vs test_pred (y축) , alpha = 투명도\n",
    "plt.scatter(test_actual, test_pred, alpha=0.7, edgecolors='k', label='Model Predictions')\n",
    "\n",
    "# 제일 작은 값, 제일 큰 값 설정\n",
    "min_val = min(test_actual.min(), test_pred.min())\n",
    "max_val = max(test_actual.max(), test_pred.max())\n",
    "plt.plot([min_val, max_val], [min_val, max_val], 'r--', linewidth=2, label='Perfect Fit (y=x)')  # y = x 선긋기\n",
    "\n",
    "# 그래프 제목과 축 레이블 설정\n",
    "plt.xlabel(\"Actual \" + predicting , fontsize=12)   # Actual 다음에 우리가 보고자 하는 output predicting 변수가 뜸\n",
    "plt.ylabel(\"Predicted \" + predicting, fontsize=12) # \n",
    "plt.title(f'Test Set: Actual vs. Predicted (R² = {test_metrics[\"r2\"]:.4f})', fontsize=14)\n",
    "plt.legend()\n",
    "plt.grid(True)  # 격자 on \n",
    "plt.axis('equal') # x, y축 스케일을 동일하게 설정\n",
    "plt.tight_layout()\n",
    "plt.show()\n"
   ]
  },
  {
   "cell_type": "markdown",
   "id": "c9f2f548",
   "metadata": {},
   "source": [
    "잔차 플롯 (Residual Plot): 모델의 예측 오차 패턴 분석"
   ]
  },
  {
   "cell_type": "code",
   "execution_count": 31,
   "id": "da62b6b9",
   "metadata": {},
   "outputs": [
    {
     "data": {
      "image/png": "[encoded data removed]",
      "text/plain": [
       "<Figure size 700x400 with 1 Axes>"
      ]
     },
     "metadata": {},
     "output_type": "display_data"
    }
   ],
   "source": [
    "# 1. 잔차 계산 (실제값 - 예측값)\n",
    "residuals = test_actual - test_pred\n",
    "\n",
    "# 2. 잔차 플롯 시각화\n",
    "plt.figure(figsize=(7, 4))\n",
    "\n",
    "# x축은 예측값, y축은 잔차\n",
    "plt.scatter(test_pred, residuals, alpha=0.7, edgecolors='k')\n",
    "\n",
    "# y=0 기준선 추가 (오차가 0인 선)\n",
    "plt.axhline(y=0, color='r', linestyle='--', linewidth=2)\n",
    "\n",
    "plt.xlabel(\"Predicted \"+predicting, fontsize=12)\n",
    "plt.ylabel('Residuals (Actual - Predicted)', fontsize=12)\n",
    "plt.title('Residual Plot for Test Set', fontsize=14)\n",
    "plt.grid(True)\n",
    "plt.show()\n"
   ]
  },
  {
   "cell_type": "markdown",
   "id": "85cd30ad",
   "metadata": {},
   "source": [
    "2. 개별 변수 영향도 플롯 (Partial Dependence Plot): 변수-결과 관계 시각화"
   ]
  },
  {
   "cell_type": "code",
   "execution_count": 32,
   "id": "ff333b84",
   "metadata": {},
   "outputs": [
    {
     "name": "stdout",
     "output_type": "stream",
     "text": [
      "--- 모든 입력 변수에 대한 개별 영향도 플롯 ---\n"
     ]
    },
    {
     "data": {
      "image/png": "[encoded data removed]",
      "text/plain": [
       "<Figure size 500x400 with 13 Axes>"
      ]
     },
     "metadata": {},
     "output_type": "display_data"
    }
   ],
   "source": [
    "import numpy as np\n",
    "import matplotlib.pyplot as plt\n",
    "\n",
    "# 1. (NameError 해결) feature_names 리스트를 먼저 정의합니다.\n",
    "feature_names = [\n",
    "    \"Current density\", \"Faradaic efficiency\", \"CO coversion\", \"Voltage\",\n",
    "    \"Electricity cost\", \"Membrain cost\", \"Capture energy\", \"Crossover rate\"\n",
    "]\n",
    "\n",
    "try:\n",
    "    print(\"--- 모든 입력 변수에 대한 개별 영향도 플롯 ---\")\n",
    "    \n",
    "    # 2. (TypeError 해결) 'vars' 인자 없이 plot() 함수를 호출합니다.\n",
    "    # 이렇게 하면 8개 변수 각각에 대한 영향도 그래프가 한 번에 그려집니다.\n",
    "    model.plot()\n",
    "    \n",
    "    # 전체 그래프에 대한 제목 설정 (선택 사항)\n",
    "    plt.suptitle('Partial Dependence Plots for All Features', y=1.02)\n",
    "    plt.show()\n",
    "\n",
    "except Exception as e:\n",
    "    print(f\"오류가 발생했습니다: {e}\")\n",
    "    print(\"이전 단계에서 'model' 객체가 성공적으로 생성되었는지 확인해주세요.\")\n",
    "\n"
   ]
  },
  {
   "cell_type": "code",
   "execution_count": 33,
   "id": "22bee12d",
   "metadata": {},
   "outputs": [
    {
     "name": "stdout",
     "output_type": "stream",
     "text": [
      "formula= 1.1745*sqrt(0.0006*x_3 + 0.0098*(-8.5516*x_9 - 9.5938)**2 - 0.0186) - 1.1049\n"
     ]
    }
   ],
   "source": [
    "# step11의 코드를 다시 실행\n",
    "formula = ex_round(model.symbolic_formula()[0][0], 4) # 유효숫자 설정 시 \n",
    "print(\"formula=\", formula)\n",
    "\n",
    "# 여기서 맨 왼쪽부터  x_1부터 x_9\n"
   ]
  },
  {
   "cell_type": "markdown",
   "id": "7180d5fa",
   "metadata": {},
   "source": [
    "-------"
   ]
  },
  {
   "cell_type": "markdown",
   "id": "7b03ef06",
   "metadata": {},
   "source": [
    "------"
   ]
  },
  {
   "cell_type": "markdown",
   "id": "c161d08d",
   "metadata": {},
   "source": [
    "------------------------------------------------------------------------------------------------------------------------------------------------"
   ]
  },
  {
   "cell_type": "markdown",
   "id": "61f2ffb4",
   "metadata": {},
   "source": [
    "step17.실제 KAN이 구현한 수식에 X값을 대입해서 결과 구해보기_역정규화 이용"
   ]
  },
  {
   "cell_type": "code",
   "execution_count": 34,
   "id": "bd032dac",
   "metadata": {},
   "outputs": [
    {
     "name": "stdout",
     "output_type": "stream",
     "text": [
      "--- [입력 변수(X) 정규화 키] ---\n",
      "x_1 (Current density (mA/cm2)):\n",
      "  min = 123.17073171\n",
      "  max = 1999.62015194\n",
      "\n",
      "x_2 (Faradaic efficiency (%)):\n",
      "  min = 0.50009796\n",
      "  max = 0.98970612\n",
      "\n",
      "x_3 (CO coversion):\n",
      "  min = 0.02733906\n",
      "  max = 0.59988205\n",
      "\n",
      "x_4 (Voltage (V)):\n",
      "  min = 1.30043982\n",
      "  max = 3.49868053\n",
      "\n",
      "x_5 (Electricity cost ($/kWh)):\n",
      "  min = 0.05002999\n",
      "  max = 0.09999000\n",
      "\n",
      "x_6 (Membrain cost ($/m2)):\n",
      "  min = 285.03798481\n",
      "  max = 348.32067173\n",
      "\n",
      "x_7 (Catpure energy (GJ/ton)):\n",
      "  min = 3.00039984\n",
      "  max = 4.99640144\n",
      "\n",
      "x_8 (Crossover rate):\n",
      "  min = 0.00039984\n",
      "  max = 1.99880048\n",
      "\n",
      "--- [출력 변수(y) 역정규화 키] ---\n",
      "y_min = 14.99042938\n",
      "y_max = 217.83096166\n"
     ]
    }
   ],
   "source": [
    "# 이전에 학습에 사용했던 scaler_X 와 scaler_y 객체가 필요합니다.\n",
    "\n",
    "# 1. 입력 변수(X)의 최소/최대값 추출\n",
    "#    사용된 변수의 순서에 맞게 이름을 지정합니다.\n",
    "feature_names = [\n",
    "    \"Current density (mA/cm2)\", \"Faradaic efficiency (%)\", \"CO coversion\",\n",
    "    \"Voltage (V)\", \"Electricity cost ($/kWh)\", \"Membrain cost ($/m2)\",\n",
    "    \"Catpure energy (GJ/ton)\", \"Crossover rate\"\n",
    "]\n",
    "\n",
    "print(\"--- [입력 변수(X) 정규화 키] ---\")\n",
    "for i, name in enumerate(feature_names):\n",
    "    min_val = scaler_X.data_min_[i]\n",
    "    max_val = scaler_X.data_max_[i]\n",
    "    print(f\"x_{i+1} ({name}):\")\n",
    "    print(f\"  min = {min_val:.8f}\")\n",
    "    print(f\"  max = {max_val:.8f}\\n\")\n",
    "\n",
    "# 2. 출력 변수(y)의 최소/최대값 추출\n",
    "y_min = scaler_y.data_min_[0]\n",
    "y_max = scaler_y.data_max_[0]\n",
    "\n",
    "print(\"--- [출력 변수(y) 역정규화 키] ---\")\n",
    "print(f\"y_min = {y_min:.8f}\")\n",
    "print(f\"y_max = {y_max:.8f}\")\n"
   ]
  },
  {
   "cell_type": "code",
   "execution_count": 38,
   "id": "b562d0ba",
   "metadata": {},
   "outputs": [
    {
     "name": "stdout",
     "output_type": "stream",
     "text": [
      "formula= 1.1745*sqrt(0.0006*x_3 + 0.0098*(-8.5516*x_9 - 9.5938)**2 - 0.0186) - 1.1049\n",
      "x_1: Current density, x_2: Faradaic efficiency, ... x_8: crossover rate, x_9: Required energy_total (MJ/kgCO)\n"
     ]
    }
   ],
   "source": [
    "# step11의 코드를 다시 실행\n",
    "formula = ex_round(model.symbolic_formula()[0][0], 4)\n",
    "print(\"formula=\", formula)\n",
    "print(f\"x_1: Current density, x_2: Faradaic efficiency, ... x_8: crossover rate, x_9: {predicting}\")\n"
   ]
  },
  {
   "cell_type": "markdown",
   "id": "6bf9a624",
   "metadata": {},
   "source": [
    "python에서도 시험삼아 몇 개 출력해보기"
   ]
  },
  {
   "cell_type": "code",
   "execution_count": 37,
   "id": "a983cab0",
   "metadata": {},
   "outputs": [
    {
     "name": "stdout",
     "output_type": "stream",
     "text": [
      "▶ 자동으로 감지된 수식: y = 1.17450678348541*sqrt(0.000646268146142011*x_3 + 0.00980380941544523*(-8.55160045623779*x_9 - 9.59383964538574)**2 - 0.018633732113718) - 1.1049427986145\n",
      "\n",
      "==============================================================\n",
      "### 역정규화 (Inverse Normalization)에 사용되는 수식 ###\n",
      "실제값 = (정규화된 값 * (최대값 - 최소값)) + 최소값\n",
      "실제값 = (정규화된 값 * 253.5507) + 0.0409\n",
      "==============================================================\n",
      "\n",
      "--------- [단순화된 수식 모델]의 예측 성능 ---------\n",
      "     실제값   수식 예측값 \n",
      "0   45.30    45.30\n",
      "1   40.06    40.04\n",
      "2   20.16    20.14\n",
      "3   19.25    19.24\n",
      "4   61.87    61.88\n",
      "5   45.20    45.21\n",
      "6   20.45    20.44\n",
      "7   49.03    49.03\n",
      "8   49.91    49.92\n",
      "9   27.39    27.37\n",
      "10  51.01    51.01\n",
      "11  34.97    34.97\n",
      "12  42.71    42.72\n",
      "13  30.27    30.25\n",
      "14  29.03    29.02\n",
      "15  26.70    26.70\n",
      "16  36.01    36.00\n",
      "17  24.82    24.81\n",
      "18  35.81    35.80\n",
      "19  53.95    53.95\n",
      "20  42.39    42.40\n",
      "21  29.30    29.31\n",
      "22  31.46    31.46\n",
      "23  49.61    49.61\n",
      "24  26.20    26.19\n",
      "25  38.95    38.97\n",
      "26  27.72    27.73\n",
      "27  36.66    36.68\n",
      "28  36.64    36.63\n",
      "29 111.45   111.46\n"
     ]
    }
   ],
   "source": [
    "import numpy as np\n",
    "import pandas as pd\n",
    "from sympy import sympify, symbols, lambdify \n",
    "# sympy 라이브러리 추가\n",
    "\n",
    "# 1. KAN 모델에서 직접 심볼릭 수식 문자열을 가져오기\n",
    "formula_str = model.symbolic_formula()[0][0] # 실제 모델에서 가져오는 코드\n",
    "\n",
    "print(f\"▶ 자동으로 감지된 수식: y = {formula_str}\\n\")\n",
    "\n",
    "# 2. 모든 변수(x_1 ~ x_8)를 기호로 정의\n",
    "num_features = len(feature_names)\n",
    "x_vars = symbols(f'x_1:{num_features + 2}')\n",
    "\n",
    "# 3. 문자열 수식을 실제 계산 가능한 함수로 변환합니다. (핵심 부분)\n",
    "#    lambdify는 sympy 수식을 매우 빠른 numpy 함수로 바꿔주는 기능입니다.\n",
    "symbolic_func = lambdify(x_vars, sympify(formula_str), 'numpy')\n",
    "\n",
    "# 4. 새로운 '만능' 예측 함수를 정의합니다.\n",
    "def auto_symbolic_prediction(x_norm):\n",
    "    \"\"\"\n",
    "    정규화된 입력 데이터(x_norm)를 받아,\n",
    "    자동으로 생성된 symbolic_func를 사용해 예측값을 반환합니다.\n",
    "    \"\"\"\n",
    "    # x_norm 배열의 각 열을 개별 인자로 분리하여 함수에 전달합니다.\n",
    "    # 예: symbolic_func(x_norm[:,0], x_norm[:,1], ..., x_norm[:,7])\n",
    "    # x_norm.T는 배열을 전치하여 각 행이 변수가 되도록 합니다.\n",
    "    return symbolic_func(*x_norm.T)\n",
    "\n",
    "# --- [자동화된 수식 처리 부분 끝] ---\n",
    "\n",
    "\n",
    "# 2. 역정규화에 사용되는 수식 출력 (이전과 동일)\n",
    "min_val = scaler_y.min_[0]\n",
    "scale_range = 1 / scaler_y.scale_[0]\n",
    "print(\"==============================================================\")\n",
    "print(\"### 역정규화 (Inverse Normalization)에 사용되는 수식 ###\")\n",
    "print(f\"실제값 = (정규화된 값 * (최대값 - 최소값)) + 최소값\")\n",
    "print(f\"실제값 = (정규화된 값 * {scale_range:.4f}) + {min_val:.4f}\")\n",
    "print(\"==============================================================\\n\")\n",
    "\n",
    "\n",
    "# 4. 테스트 데이터셋 전체를 사용하여 예측을 수행합니다.\n",
    "test_input_norm = dataset['test_input']\n",
    "# 여기서 새롭게 정의한 자동화 함수를 호출합니다!\n",
    "y_pred_norm = auto_symbolic_prediction(test_input_norm)\n",
    "\n",
    "\n",
    "# 5. 이후 모든 코드는 이전과 완전히 동일합니다.\n",
    "y_pred_norm_reshaped = y_pred_norm.reshape(-1, 1)\n",
    "y_pred_real_scale = scaler_y.inverse_transform(y_pred_norm_reshaped)\n",
    "y_true_real_scale = scaler_y.inverse_transform(dataset['test_label'])\n",
    "results_df = pd.DataFrame({\n",
    "    '실제값 ': y_true_real_scale.flatten(),\n",
    "    '수식 예측값 ': y_pred_real_scale.flatten()\n",
    "})\n",
    "pd.options.display.float_format = '{:.2f}'.format\n",
    "\n",
    "print(\"--------- [단순화된 수식 모델]의 예측 성능 ---------\")\n",
    "print(results_df.head(30))\n"
   ]
  }
 ],
 "metadata": {
  "kernelspec": {
   "display_name": "venv",
   "language": "python",
   "name": "python3"
  },
  "language_info": {
   "codemirror_mode": {
    "name": "ipython",
    "version": 3
   },
   "file_extension": ".py",
   "mimetype": "text/x-python",
   "name": "python",
   "nbconvert_exporter": "python",
   "pygments_lexer": "ipython3",
   "version": "3.11.9"
  }
 },
 "nbformat": 4,
 "nbformat_minor": 5
}
