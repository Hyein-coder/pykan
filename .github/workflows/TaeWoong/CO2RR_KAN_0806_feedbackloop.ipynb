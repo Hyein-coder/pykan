{
 "cells": [
  {
   "cell_type": "markdown",
   "id": "0895cbba",
   "metadata": {},
   "source": [
    "## CO2RR 공정 datasheet 분석"
   ]
  },
  {
   "cell_type": "markdown",
   "id": "4e0157fd",
   "metadata": {},
   "source": [
    "----------------------------------"
   ]
  },
  {
   "cell_type": "markdown",
   "id": "499fd6e3",
   "metadata": {},
   "source": [
    "-------"
   ]
  },
  {
   "cell_type": "markdown",
   "id": "4d576959",
   "metadata": {},
   "source": [
    "Output 중 Required energy_total (MJ/kgCO), MSP 분석 예정"
   ]
  },
  {
   "cell_type": "markdown",
   "id": "bd5404b7",
   "metadata": {},
   "source": [
    "step0. 라이브러리 정리"
   ]
  },
  {
   "cell_type": "code",
   "execution_count": 1,
   "id": "ed16aea4",
   "metadata": {},
   "outputs": [
    {
     "name": "stdout",
     "output_type": "stream",
     "text": [
      "cpu\n"
     ]
    }
   ],
   "source": [
    "import pandas as pd\n",
    "import numpy as np\n",
    "import torch\n",
    "from sklearn.preprocessing import StandardScaler\n",
    "from sklearn.model_selection import train_test_split\n",
    "from sklearn.metrics import mean_squared_error, r2_score\n",
    "from kan import KAN\n",
    "from kan.utils import ex_round\n",
    "device = torch.device('cuda' if torch.cuda.is_available() else 'cpu')\n",
    "print(device)"
   ]
  },
  {
   "cell_type": "markdown",
   "id": "f34c39e8",
   "metadata": {},
   "source": [
    "step1. 엑셀 파일 불러오기"
   ]
  },
  {
   "cell_type": "code",
   "execution_count": 2,
   "id": "c0466943",
   "metadata": {},
   "outputs": [],
   "source": [
    "# 엑셀 데이터 로드 \n",
    "filepath = r\"C:\\Users\\kepco201\\Desktop\\KAN_python\\pykan-master\\.github\\workflows\\TaeWoong\\25.01.14_CO2RR_GSA.xlsx\"\n",
    "xls = pd.ExcelFile(filepath) \n",
    "df_in  = pd.read_excel(xls, sheet_name='Input')\n",
    "df_out = pd.read_excel(xls, sheet_name='Output')\n",
    "\n"
   ]
  },
  {
   "cell_type": "markdown",
   "id": "12dafb3a",
   "metadata": {},
   "source": [
    "step2.결측값 대체 및 이상치 제거"
   ]
  },
  {
   "cell_type": "raw",
   "id": "d0c919d6",
   "metadata": {
    "vscode": {
     "languageId": "raw"
    }
   },
   "source": [
    "# [기존 step2]\n",
    "# df_in  = df_in.fillna(df_in.mean(numeric_only=True))\n",
    "# df_out = df_out.fillna(df_out.mean(numeric_only=True))\n",
    "\n",
    "# [수정된 step2] : 결측치가 있는 행 삭제\n",
    "\n",
    "# 1. 삭제 전 데이터 크기 확인\n",
    "print(f\"결측값 삭제 전 Input 데이터 크기: {df_in.shape}\")\n",
    "print(f\"결측값 삭제 전 Output 데이터 크기: {df_out.shape}\")\n",
    "\n",
    "# 2. 결측치가 있는 행 삭제\n",
    "# 두 데이터프레임의 인덱스를 맞추기 위해, 한쪽에서 삭제된 인덱스를 다른 쪽에도 적용\n",
    "na_rows_in = df_in.isnull().any(axis=1)\n",
    "na_rows_out = df_out.isnull().any(axis=1)\n",
    "rows_to_drop = na_rows_in | na_rows_out # 둘 중 하나라도 결측치가 있으면 삭제 대상\n",
    "\n",
    "df_in_cleaned = df_in[~rows_to_drop]\n",
    "df_out_cleaned = df_out[~rows_to_drop]\n",
    "\n",
    "# 3. 삭제 후 데이터 크기 확인\n",
    "print(f\"결측값 삭제 후 Input 데이터 크기: {df_in_cleaned.shape}\")\n",
    "print(f\"결측값 삭제 후 Output 데이터 크기: {df_out_cleaned.shape}\")\n",
    "\n",
    "# 이후 step3 에서는 df_in_cleaned와 df_out_cleaned 를 사용합니다.\n",
    "# X = df_in_cleaned[[...]].values\n",
    "# y = df_out_cleaned[[...]].values.reshape(-1, 1)\n",
    "\n",
    "\n"
   ]
  },
  {
   "cell_type": "markdown",
   "id": "77407cf1",
   "metadata": {},
   "source": [
    "이상치(Outlier) 제거 / 전체 데이터의 10% 이내로 극소량만 제거"
   ]
  },
  {
   "cell_type": "code",
   "execution_count": 3,
   "id": "cb9b8719",
   "metadata": {},
   "outputs": [
    {
     "name": "stdout",
     "output_type": "stream",
     "text": [
      "--- 이상치 제거 시작 ---\n",
      "이상치 제거 전 데이터 수: 2501 개\n",
      "이상치 제거 후 데이터 수: 2378 개 (123 개 제거됨)\n",
      "--- 이상치 제거 완료 ---\n",
      "\n"
     ]
    }
   ],
   "source": [
    "# 이상치(Outlier) 제거 (IQR 방식) ---\n",
    "\n",
    "print(\"--- 이상치 제거 시작 ---\")\n",
    "\n",
    "\n",
    "print(f\"이상치 제거 전 데이터 수: {len(df_in)} 개\")   # len(df_in) 을 통해 이상치 제거 전 데이터 길이(개수) 출력\n",
    "\n",
    "\n",
    "def remove_outliers_iqr(df_in, df_out):              # outlier 제거 함수 정의\n",
    "    \n",
    "    combined_df = pd.concat([df_in, df_out], axis=1) # pd.concat = 2개를 합치기 // 입력 변수(X)와 출력 변수(y)를 합쳐서 전체 데이터프레임 생성 // x랑 y를 한번에 고려\n",
    "                                                     # axis = 1 --- 오른쪽으로 합치기 --- 데이터 구조를 보면 예쁘게 정리가 된다\n",
    "    \n",
    "    numeric_cols = combined_df.select_dtypes(include=np.number).columns  # .select_dtypes 를 통해 특정 열만 출력 outlier 를 탐지할 숫자형 컬럼만 선택\n",
    "                                    # numeric_cols = 숫자로만 구성된 열들의 이름 리스트 (.colums = 그 열의 이름을 리스트로 출력)\n",
    "\n",
    "    # 각 컬럼에 대해 이상치 경계 계산 \n",
    "    Q1 = combined_df[numeric_cols].quantile(0.25)   # .quantile(0.25) = 데이터를 오름차순으로 정렬했을 떄 하위 25% 지점 \n",
    "    Q3 = combined_df[numeric_cols].quantile(0.75)   # .quantile(0.75) = 데이터를 오름차순으로 정렬했을 떄 상위 25% 지점 \n",
    "    IQR = Q3 - Q1 # IQR은 대략 상위 25% - 상위75% = 중간정도의 값에 해당\n",
    "    \n",
    "    lower_bound = Q1 - 6 * IQR  # 보통은 1.5* IQR을 진행하지만 최대한 삭제되는 데이터가 적도록 진행\n",
    "    upper_bound = Q3 + 6 * IQR\n",
    "    \n",
    "\n",
    "    # 밑의 줄은 공부를 더 해보자\n",
    "    # 모든 컬럼에 대해 정상 범위 내에 있는 데이터만 True로 표시\n",
    "    # (row의 어떤 컬럼이라도 이상치면 해당 row 전체가 False가 됨)\n",
    "    condition = ~((combined_df[numeric_cols] < lower_bound) | (combined_df[numeric_cols] > upper_bound)).any(axis=1)\n",
    "    \n",
    "\n",
    "    # 정상 범위에 있는 데이터만 필터링\n",
    "    df_in_no_outliers = df_in[condition]\n",
    "    df_out_no_outliers = df_out[condition]\n",
    "    \n",
    "    return df_in_no_outliers, df_out_no_outliers\n",
    "\n",
    "# 3. 함수를 사용하여 이상치 제거\n",
    "#    이전에 결측치를 제거한 df_in_cleaned, df_out_cleaned를 사용합니다.\n",
    "df_in_final, df_out_final = remove_outliers_iqr(df_in, df_out)\n",
    "\n",
    "\n",
    "# 4. 이상치 제거 후 남은 데이터 개수 확인\n",
    "removed_count = len(df_in) - len(df_in_final)  # 몇 개 지웠는지 세기\n",
    "print(f\"이상치 제거 후 데이터 수: {len(df_in_final)} 개 ({removed_count} 개 제거됨)\")\n",
    "print(\"--- 이상치 제거 완료 ---\\n\")\n",
    "\n",
    "\n",
    "# 이제 'df_in_final'과 'df_out_final'을 사용하자\n",
    "\n"
   ]
  },
  {
   "cell_type": "markdown",
   "id": "e01c4177",
   "metadata": {},
   "source": [
    "이상치 제거 후 X, Y 정의하기"
   ]
  },
  {
   "cell_type": "code",
   "execution_count": 4,
   "id": "2044e67e",
   "metadata": {},
   "outputs": [],
   "source": [
    "# 입력 변수(X) 선택\n",
    "# 모델이 '총 필요 에너지'를 예측하는 데 사용할 정보(컬럼)들을 선택\n",
    "#X = df_in_final[[\n",
    "#    \"Current density (mA/cm2)\", \n",
    "#    \"Faradaic efficiency (%)\", \n",
    "#    \"CO coversion\",\n",
    "#    \"Voltage (V)\", \n",
    "#    \"Electricity cost ($/kWh)\", \n",
    "#    \"Membrain cost ($/m2)\",\n",
    "#    \"Catpure energy (GJ/ton)\", \n",
    "#    \"Crossover rate\"\n",
    "#]].values\n",
    "\n",
    "\n",
    "\n",
    "## 이 밑의 코드 수정하기!!!! \n",
    "\n",
    "# 출력 변수(y) 선택\n",
    "# 모델이 최종적으로 맞춰야 할 정답(타겟)을 선택\n",
    "#y = df_out_final['Required energy_total (MJ/kgCO)'].values.reshape(-1, 1)"
   ]
  },
  {
   "cell_type": "markdown",
   "id": "c1592a6a",
   "metadata": {},
   "source": [
    "step3. 엑셀 파일 속 data 추출 및 !predict 할 데이터 이름 입력!"
   ]
  },
  {
   "cell_type": "code",
   "execution_count": 5,
   "id": "b7eba938",
   "metadata": {},
   "outputs": [
    {
     "name": "stdout",
     "output_type": "stream",
     "text": [
      "[[1.97379048e+03 9.73836465e-01 3.72471012e-02 ... 2.89292283e+02\n",
      "  3.14514194e+00 1.49940024e-01]\n",
      " [1.95631747e+03 9.63060776e-01 5.54118353e-02 ... 2.92153805e+02\n",
      "  3.24190324e+00 2.49900040e-01]\n",
      " [1.93884446e+03 9.52285086e-01 7.35765694e-02 ... 2.95015327e+02\n",
      "  3.33866453e+00 3.49860056e-01]\n",
      " ...\n",
      " [1.61155538e+02 5.37714914e-01 5.36423431e-01 ... 3.38318006e+02\n",
      "  4.66133547e+00 1.65013994e+00]\n",
      " [1.43682527e+02 5.26939224e-01 5.54588165e-01 ... 3.41179528e+02\n",
      "  4.75809676e+00 1.75009996e+00]\n",
      " [1.26209516e+02 5.16163535e-01 5.72752899e-01 ... 3.44041050e+02\n",
      "  4.85485806e+00 1.85005998e+00]]\n",
      "====================\n",
      "[[137.83276055]\n",
      " [ 97.65612097]\n",
      " [ 77.61576681]\n",
      " ...\n",
      " [ 47.34602399]\n",
      " [ 50.01962389]\n",
      " [ 53.6021701 ]]\n"
     ]
    }
   ],
   "source": [
    "# 입력·출력 변수 선택 및 numpy 변환    # outlier 삭제를 원하지 않을시에는 df_in_final 을 df_in으로, df_out_final을 df_out으로 바꾸면 된다\n",
    "X = df_in_final[[\n",
    "    \"Current density (mA/cm2)\", \"Faradaic efficiency (%)\", \"CO coversion\",\n",
    "    \"Voltage (V)\", \"Electricity cost ($/kWh)\",\n",
    "    \"Membrain cost ($/m2)\", \"Catpure energy (GJ/ton)\",  # catpure energy? excel 파일에서 이렇게 오타가 났기에 그냥 사용\n",
    "    \"Crossover rate\"\n",
    "]].values\n",
    "\n",
    "\n",
    "\n",
    "\n",
    "predicting = \"Required energy_total (MJ/kgCO)\" # 다른 output 변수 보고싶으면 이거 보면 됨 # Required energy_total (MJ/kgCO) # MSP ($/kgCO)\n",
    "###### 이거를 수정해서 다른 output도 보자\n",
    "\n",
    "y = df_out_final[predicting].values.reshape(-1, 1)   # df_out_final[] 는 pandas datatframe이기에 이것을 skitlearn 이나 Keras 형태로 바꾸기 -- 그래야 \n",
    "                                                     # .values 를 통해 Numpy 배열로 변환 (값만 뽑기 때문) # 그 후에 reshape(-1.1) 을 통해 \n",
    "                                                     # .reshape()을 이용해 열 1개\n",
    "print(X)\n",
    "print(\"====================\")\n",
    "print(y)\n",
    "\n",
    "\n",
    "\n",
    "\n"
   ]
  },
  {
   "cell_type": "markdown",
   "id": "620e7b8a",
   "metadata": {},
   "source": [
    "추가한 부분 -- y값을 input variable X_9로 추가한다 -- feedback loop"
   ]
  },
  {
   "cell_type": "code",
   "execution_count": 6,
   "id": "000d646a",
   "metadata": {},
   "outputs": [
    {
     "name": "stdout",
     "output_type": "stream",
     "text": [
      "(2378, 8)\n",
      "(2378, 9)\n"
     ]
    }
   ],
   "source": [
    "# **핵심: y값을 X에 추가해서 9개 피처로 만들기**\n",
    "print(X.shape)\n",
    "X = np.concatenate([X, y], axis=1)  # numpy.concatenate( [numpy배열1, numpy 배열2], axis = 1) 이면 옆방향으로 이어붙이기\n",
    "print(X.shape)\n"
   ]
  },
  {
   "cell_type": "markdown",
   "id": "39df47d1",
   "metadata": {},
   "source": [
    "step4. train_set, valadation_set, test_set 만들기 (64:16:20) 우측 하단 RAW로 일단 설정해놓음 나중에 python으로 바꾸기"
   ]
  },
  {
   "cell_type": "code",
   "execution_count": 7,
   "id": "c5e4f043",
   "metadata": {},
   "outputs": [
    {
     "name": "stdout",
     "output_type": "stream",
     "text": [
      "[[6.39764094e+02 8.75483806e-01 2.88958417e-01 ... 3.22830868e+00\n",
      "  3.92243103e-01 2.31302585e+01]\n",
      " [1.92303079e+02 6.42141144e-01 1.31609356e-01 ... 3.07636945e+00\n",
      "  1.13674530e+00 6.60698792e+01]\n",
      " [1.80057977e+03 5.59070372e-01 2.64424230e-01 ... 3.93042783e+00\n",
      "  1.81567373e+00 5.22713630e+01]\n",
      " ...\n",
      " [1.23612555e+03 6.04132347e-01 1.88462615e-01 ... 4.33506597e+00\n",
      "  1.76129548e+00 4.52431765e+01]\n",
      " [1.70637745e+03 6.59774090e-01 1.61333467e-01 ... 3.23470612e+00\n",
      "  1.97241104e+00 5.69643198e+01]\n",
      " [1.03100760e+03 8.20625750e-01 1.96483407e-01 ... 3.72091164e+00\n",
      "  1.93482607e+00 4.80965084e+01]]\n",
      "전체 데이터셋 크기: 2378\n",
      "훈련셋 크기: 1521 (64.0%)\n",
      "검증셋 크기: 381 (16.0%)\n",
      "테스트셋 크기: 476 (20.0%)\n"
     ]
    }
   ],
   "source": [
    "# 1단계: 먼저 train+val과 test로 분할 (80:20)\n",
    "X_temp, X_test, y_temp, y_test = train_test_split(X, y, test_size=0.2, random_state=42)\n",
    "\n",
    "\n",
    "# 2단계: train+val을 train과 val로 분할 (64:16, 전체 대비)\n",
    "X_train, X_val, y_train, y_val = train_test_split(X_temp, y_temp, test_size=0.2, random_state=42)  # 0.2 × 0.8 = 0.16 (전체의 16%)\n",
    "\n",
    "\n",
    "# 최종 비율 확인\n",
    "# (X[:,0])~(X[:,7]) 에 각각의 입력변수들의 값들이 각각 저장됨\n",
    "\n",
    "\n",
    "\n",
    "print(X_val)\n",
    "print(f\"전체 데이터셋 크기: {len(X)}\")\n",
    "print(f\"훈련셋 크기: {len(X_train)} ({len(X_train)/len(X)*100:.1f}%)\")\n",
    "print(f\"검증셋 크기: {len(X_val)} ({len(X_val)/len(X)*100:.1f}%)\")  \n",
    "print(f\"테스트셋 크기: {len(X_test)} ({len(X_test)/len(X)*100:.1f}%)\")\n",
    "\n",
    "\n"
   ]
  },
  {
   "cell_type": "markdown",
   "id": "c8e1d9a9",
   "metadata": {},
   "source": [
    "step4-1. 층화추출(Stratified Sampling on y)을 하고 싶을 때 step4 대신 실행 / 데이터의 밀도가 다른 점을 고려"
   ]
  },
  {
   "cell_type": "raw",
   "id": "836e051a",
   "metadata": {
    "vscode": {
     "languageId": "raw"
    }
   },
   "source": [
    "\n",
    "\n",
    "# ===================================================================\n",
    "# Step 4: 데이터 분할 (훈련/검증/테스트 6:2:2, 층화 추출 적용)\n",
    "# ===================================================================\n",
    "\n",
    "from sklearn.model_selection import train_test_split\n",
    "import pandas as pd\n",
    "import numpy as np\n",
    "\n",
    "print(\"--- 데이터 분할 시작 (훈련/검증/테스트, 층화 추출 방식) ---\")\n",
    "\n",
    "# 1. 층화 추출을 위한 y값 그룹(strata) 생성\n",
    "num_bins = 5\n",
    "try:\n",
    "    y_binned = pd.cut(y.flatten(), bins=num_bins, labels=False)\n",
    "    stratify_option = y_binned\n",
    "    print(f\"y값을 {num_bins}개 구간으로 나누어 층화 추출을 진행합니다.\")\n",
    "except ValueError as e:\n",
    "    print(f\"경고: y값으로 층화 추출을 시도했으나 실패했습니다. ({e})\")\n",
    "    print(\"일반 무작위 추출 방식으로 전환합니다.\")\n",
    "    stratify_option = None\n",
    "\n",
    "# 2. 먼저, 훈련+검증 데이터(80%)와 최종 테스트 데이터(20%)로 분할합니다.\n",
    "X_train_val, X_test, y_train_val, y_test = train_test_split(\n",
    "    X, y, \n",
    "    test_size=0.2, \n",
    "    random_state=42, \n",
    "    stratify=stratify_option\n",
    ")\n",
    "\n",
    "# 3. 다음으로, 훈련+검증 데이터(X_train_val)를 다시 훈련 데이터(75%)와 검증 데이터(25%)로 분할합니다.\n",
    "#    (전체 데이터의 80% 중 75%는 60%, 25%는 20%에 해당하여, 최종적으로 60:20:20 비율이 됩니다.)\n",
    "\n",
    "# 층화 추출을 두 번째 분할에도 일관되게 적용하기 위해 y_train_val 그룹을 다시 만듭니다.\n",
    "try:\n",
    "    y_train_val_binned = pd.cut(y_train_val.flatten(), bins=num_bins, labels=False)\n",
    "    stratify_option_2 = y_train_val_binned\n",
    "except ValueError:\n",
    "    stratify_option_2 = None # 분할이 불가능하면 일반 추출\n",
    "\n",
    "X_train, X_val, y_train, y_val = train_test_split(\n",
    "    X_train_val, y_train_val,\n",
    "    test_size=0.25, # 80% 중 25%는 전체의 20%\n",
    "    random_state=42,\n",
    "    stratify=stratify_option_2\n",
    ")\n",
    "\n",
    "print(\"\\n--- 최종 분할 후 데이터셋 크기 ---\")\n",
    "print(f\"훈련 데이터 (X_train): {X_train.shape}\")\n",
    "print(f\"검증 데이터 (X_val): {X_val.shape}\")\n",
    "print(f\"테스트 데이터 (X_test): {X_test.shape}\")\n",
    "print(\"\\n--- 데이터 분할 완료 ---\")\n",
    "\n"
   ]
  },
  {
   "cell_type": "markdown",
   "id": "9cd52a27",
   "metadata": {},
   "source": [
    "step5. 데이터 정규화(normalization)_전처리 과정"
   ]
  },
  {
   "cell_type": "code",
   "execution_count": 8,
   "id": "7c5cc170",
   "metadata": {},
   "outputs": [
    {
     "name": "stdout",
     "output_type": "stream",
     "text": [
      "정규화 후 통계:\n",
      "X_train_norm: mean=0.4694, std=0.2368\n",
      "X_val_norm: mean=0.4733, std=0.2381\n",
      "X_test_norm: mean=0.4729, std=0.2374\n",
      "y_train_norm: mean=0.2327, std=0.1235\n",
      "y_val_norm: mean=0.2328, std=0.1356\n",
      "y_test_norm: mean=0.2393, std=0.1316\n"
     ]
    }
   ],
   "source": [
    "# 중요: 훈련 데이터(X_train, y_train)의 최소/최대값을 기준으로 스케일러를 학습(fit)하고,\n",
    "# 이 기준으로 모든 데이터셋(train, val, test)을 동일하게 변환합니다.\n",
    "# 이렇게 해야 테스트 과정에서 미래 정보(테스트셋의 최소/최대값)가 모델에 유출되는 것을 막을 수 있다.\n",
    "# validation dataset이나 test data로 스케일링을 할 시 데이터 누수 발생 가능\n",
    "\n",
    "from sklearn.preprocessing import MinMaxScaler\n",
    "import numpy as np\n",
    "\n",
    "\n",
    "\n",
    "# 1. MinMaxScaler 객체 생성 --- 범위를 0.1~0.9로 재설정\n",
    "scaler_X = MinMaxScaler(feature_range=(0.1, 0.9))\n",
    "scaler_y = MinMaxScaler(feature_range=(0.1, 0.9))\n",
    "\n",
    "\n",
    "\n",
    "\n",
    "X_train_norm = scaler_X.fit_transform(X_train) # 훈련 데이터로 스케일러 학습 및 변환 (fit_transform)\n",
    "y_train_norm = scaler_y.fit_transform(y_train) # X_train의 각 변수(컬럼)별로 최소값은 0, 최대값은 1이 되도록 변환됩니다.\n",
    "\n",
    "# 3. 학습된 스케일러로 검증 및 테스트 데이터 변환 (transform)\n",
    "# X_train의 기준으로 나머지 데이터들을 변환합니다.\n",
    "X_val_norm = scaler_X.transform(X_val)\n",
    "X_test_norm = scaler_X.transform(X_test)\n",
    "\n",
    "y_val_norm = scaler_y.transform(y_val)   # y_val 과 y_test 도 y_train 의 정규분포를 따라 변환된다\n",
    "y_test_norm = scaler_y.transform(y_test)\n",
    "\n",
    "\n",
    "#print(X_train_norm)\n",
    "\n",
    "#print(X_val_norm)\n",
    "\n",
    "#print(X_test_norm)\n",
    "\n",
    "#print(y_train_norm)\n",
    "\n",
    "#print(y_val_norm)\n",
    "\n",
    "#print(y_test_norm)\n",
    "\n",
    "# X_train_norm 은 [[x0~x7], [x0~x7],....,[x0~x7]] 에서 각 x0~x7은 각 열마다 각각 범위가 0~1로 범위가 변환됨\n",
    "# 이 변환된 정도를 X_val_norm 과 X_test_norm도 적용받음\n",
    "\n",
    "# 정규화 후 통계 확인\n",
    "print(\"정규화 후 통계:\")\n",
    "print(f\"X_train_norm: mean={X_train_norm.mean():.4f}, std={X_train_norm.std():.4f}\")\n",
    "print(f\"X_val_norm: mean={X_val_norm.mean():.4f}, std={X_val_norm.std():.4f}\")\n",
    "print(f\"X_test_norm: mean={X_test_norm.mean():.4f}, std={X_test_norm.std():.4f}\")\n",
    "print(f\"y_train_norm: mean={y_train_norm.mean():.4f}, std={y_train_norm.std():.4f}\")\n",
    "print(f\"y_val_norm: mean={y_val_norm.mean():.4f}, std={y_val_norm.std():.4f}\")\n",
    "print(f\"y_test_norm: mean={y_test_norm.mean():.4f}, std={y_test_norm.std():.4f}\")\n",
    "\n"
   ]
  },
  {
   "cell_type": "markdown",
   "id": "9ad59c20",
   "metadata": {},
   "source": [
    "step6. tensor 변환"
   ]
  },
  {
   "cell_type": "code",
   "execution_count": 9,
   "id": "482b4c61",
   "metadata": {},
   "outputs": [
    {
     "name": "stdout",
     "output_type": "stream",
     "text": [
      "모든 텐서가 cpu에 배치됨\n"
     ]
    }
   ],
   "source": [
    "# 딥러닝을 진행하기 전 모든 데이터셋을 tensor로 변환  # 원래는 numpy 배열이었음 --- 아까 scikitlearn의 train test split 이나 .fit transform 스케일러를 사용하였기에 \n",
    "X_train_tensor = torch.tensor(X_train_norm, dtype=torch.float32, device=device)\n",
    "X_val_tensor = torch.tensor(X_val_norm, dtype=torch.float32, device=device)\n",
    "X_test_tensor = torch.tensor(X_test_norm, dtype=torch.float32, device=device)\n",
    "y_train_tensor = torch.tensor(y_train_norm, dtype=torch.float32, device=device)\n",
    "y_val_tensor = torch.tensor(y_val_norm, dtype=torch.float32, device=device)\n",
    "y_test_tensor = torch.tensor(y_test_norm, dtype=torch.float32, device=device)\n",
    "\n",
    "print(f\"모든 텐서가 {device}에 배치됨\")\n"
   ]
  },
  {
   "cell_type": "markdown",
   "id": "996a7ee0",
   "metadata": {},
   "source": [
    "step7. dataset dictionary 만들기"
   ]
  },
  {
   "cell_type": "code",
   "execution_count": 10,
   "id": "d8165a42",
   "metadata": {},
   "outputs": [
    {
     "name": "stdout",
     "output_type": "stream",
     "text": [
      "train_input: torch.Size([1521, 9])\n",
      "train_label: torch.Size([1521, 1])\n",
      "val_input: torch.Size([381, 9])\n",
      "val_label: torch.Size([381, 1])\n",
      "test_input: torch.Size([476, 9])\n",
      "test_label: torch.Size([476, 1])\n"
     ]
    }
   ],
   "source": [
    "# 나중에 정의하기 편하게 dataset을 정의하기 -- 참고로 dataset들은 tensor 이다\n",
    "\n",
    "dataset = {'train_input': X_train_tensor,'train_label': y_train_tensor,\n",
    "            'val_input': X_val_tensor, 'val_label': y_val_tensor,\n",
    "            'test_input': X_test_tensor,'test_label': y_test_tensor }    # dataset dictionary에 key값과 value 값을 설정한다\n",
    "\n",
    "# 데이터셋 검토차 크기 확인\n",
    "for key, value in dataset.items():                     #.items()를 쓰면 key와 value 값을 묶어서 출력 // .items()가 없으면 오직 key만 출력\n",
    "    print(f\"{key}: {value.shape}\")\n",
    "\n"
   ]
  },
  {
   "cell_type": "markdown",
   "id": "7f52eab5",
   "metadata": {},
   "source": [
    "step8. 1개의 KAN 모델 생성"
   ]
  },
  {
   "cell_type": "code",
   "execution_count": 11,
   "id": "227d86c0",
   "metadata": {},
   "outputs": [
    {
     "name": "stdout",
     "output_type": "stream",
     "text": [
      "checkpoint directory created: ./model\n",
      "saving model version 0.0\n"
     ]
    }
   ],
   "source": [
    "# KAN 모델 생성\n",
    "model = KAN(width=[8,14,1], grid=3, k=3, seed=42, device=device)"
   ]
  },
  {
   "cell_type": "markdown",
   "id": "d6debc95",
   "metadata": {},
   "source": [
    "step9. KAN 학습 및 prune 후 재학습"
   ]
  },
  {
   "cell_type": "code",
   "execution_count": 12,
   "id": "947446ce",
   "metadata": {},
   "outputs": [
    {
     "name": "stderr",
     "output_type": "stream",
     "text": [
      "| train_loss: 1.24e-01 | test_loss: 1.32e-01 | reg: 5.19e-01 | : 100%|█| 50/50 [00:38<00:00,  1.30it\n"
     ]
    },
    {
     "name": "stdout",
     "output_type": "stream",
     "text": [
      "saving model version 0.1\n"
     ]
    },
    {
     "data": {
      "image/png": "[encoded data removed]",
      "text/plain": [
       "<Figure size 500x400 with 142 Axes>"
      ]
     },
     "metadata": {},
     "output_type": "display_data"
    }
   ],
   "source": [
    "# KAN 학습\n",
    "model.fit(dataset, opt=\"LBFGS\", steps=50, lamb=0.004)\n",
    "model.plot()"
   ]
  },
  {
   "cell_type": "markdown",
   "id": "d2f2ba8b",
   "metadata": {},
   "source": [
    "model의 성질을 잠깐 출력해보자"
   ]
  },
  {
   "cell_type": "code",
   "execution_count": 13,
   "id": "bbe9133d",
   "metadata": {},
   "outputs": [
    {
     "name": "stdout",
     "output_type": "stream",
     "text": [
      "--- 모델의 전체 구조 (print) ---\n",
      "MultKAN(\n",
      "  (act_fun): ModuleList(\n",
      "    (0-1): 2 x KANLayer(\n",
      "      (base_fun): SiLU()\n",
      "    )\n",
      "  )\n",
      "  (base_fun): SiLU()\n",
      "  (symbolic_fun): ModuleList(\n",
      "    (0-1): 2 x Symbolic_KANLayer()\n",
      "  )\n",
      ")\n",
      "\n",
      "--- 모델의 모든 속성 리스트 (dir) ---\n",
      "['T_destination', '__annotations__', '__call__', '__class__', '__delattr__', '__dict__', '__dir__', '__doc__', '__eq__', '__format__', '__ge__', '__getattr__', '__getattribute__', '__getstate__', '__gt__', '__hash__', '__init__', '__init_subclass__', '__le__', '__lt__', '__module__', '__ne__', '__new__', '__reduce__', '__reduce_ex__', '__repr__', '__setattr__', '__setstate__', '__sizeof__', '__str__', '__subclasshook__', '__weakref__', '_apply', '_backward_hooks', '_backward_pre_hooks', '_buffers', '_call_impl', '_compiled_call_impl', '_forward_hooks', '_forward_hooks_always_called', '_forward_hooks_with_kwargs', '_forward_pre_hooks', '_forward_pre_hooks_with_kwargs', '_get_backward_hooks', '_get_backward_pre_hooks', '_get_name', '_is_full_backward_hook', '_load_from_state_dict', '_load_state_dict_post_hooks', '_load_state_dict_pre_hooks', '_maybe_warn_non_full_backward_hook', '_modules', '_named_members', '_non_persistent_buffers_set', '_parameters', '_register_load_state_dict_pre_hook', '_register_state_dict_hook', '_replicate_for_data_parallel', '_save_to_state_dict', '_slow_forward', '_state_dict_hooks', '_state_dict_pre_hooks', '_version', '_wrapped_call_impl', 'act_fun', 'acts', 'acts_premult', 'acts_scale', 'acts_scale_spline', 'add_module', 'affine_trainable', 'apply', 'attribute', 'auto_save', 'auto_swap', 'auto_swap_l', 'auto_symbolic', 'base_fun', 'base_fun_name', 'bfloat16', 'buffers', 'cache_data', 'call_super_init', 'checkout', 'children', 'ckpt_path', 'compile', 'connection_cost', 'copy', 'cpu', 'cuda', 'depth', 'device', 'disable_symbolic_in_fit', 'double', 'dump_patches', 'edge_actscale', 'edge_scores', 'edge_scores_all', 'eval', 'evaluate', 'expand_depth', 'expand_width', 'extra_repr', 'feature_interaction', 'feature_score', 'fit', 'fix_symbolic', 'float', 'forward', 'get_act', 'get_buffer', 'get_extra_state', 'get_fun', 'get_parameter', 'get_params', 'get_range', 'get_reg', 'get_submodule', 'grid', 'grid_eps', 'grid_range', 'half', 'history', 'initialize_from_another_model', 'initialize_grid_from_another_model', 'input_id', 'ipu', 'k', 'load_state_dict', 'loadckpt', 'log_history', 'module', 'modules', 'mtia', 'mult_arity', 'mult_homo', 'n_edge', 'n_mult', 'n_sum', 'named_buffers', 'named_children', 'named_modules', 'named_parameters', 'node_attribute', 'node_bias', 'node_bias_0', 'node_bias_1', 'node_scale', 'node_scale_0', 'node_scale_1', 'node_scores', 'node_scores_all', 'parameters', 'perturb', 'plot', 'prune', 'prune_edge', 'prune_input', 'prune_node', 'refine', 'reg', 'register_backward_hook', 'register_buffer', 'register_forward_hook', 'register_forward_pre_hook', 'register_full_backward_hook', 'register_full_backward_pre_hook', 'register_load_state_dict_post_hook', 'register_load_state_dict_pre_hook', 'register_module', 'register_parameter', 'register_state_dict_post_hook', 'register_state_dict_pre_hook', 'remove_edge', 'remove_node', 'requires_grad_', 'rewind', 'round', 'save_act', 'saveckpt', 'sb_trainable', 'set_extra_state', 'set_mode', 'set_submodule', 'share_memory', 'sp_trainable', 'speed', 'spline_postacts', 'spline_postsplines', 'spline_preacts', 'state_dict', 'state_id', 'subnode_actscale', 'subnode_bias', 'subnode_bias_0', 'subnode_bias_1', 'subnode_scale', 'subnode_scale_0', 'subnode_scale_1', 'subnode_scores', 'subnode_scores_all', 'suggest_symbolic', 'swap', 'symbolic_enabled', 'symbolic_formula', 'symbolic_fun', 'to', 'to_empty', 'train', 'training', 'tree', 'type', 'unfix_symbolic', 'unfix_symbolic_all', 'update_grid', 'update_grid_from_samples', 'width', 'width_in', 'width_out', 'xpu', 'zero_grad']\n"
     ]
    }
   ],
   "source": [
    "# 1. 모델의 전체 구조를 친절하게 출력해보기 (가장 추천!)\n",
    "print(\"--- 모델의 전체 구조 (print) ---\")\n",
    "print(model)\n",
    "\n",
    "# 2. 모델이 가진 모든 속성(변수, 함수) 리스트를 확인해보기\n",
    "print(\"\\n--- 모델의 모든 속성 리스트 (dir) ---\")\n",
    "print(dir(model))\n"
   ]
  },
  {
   "cell_type": "markdown",
   "id": "2ad68e51",
   "metadata": {},
   "source": [
    "학습가능 파라미터 수 "
   ]
  },
  {
   "cell_type": "code",
   "execution_count": 14,
   "id": "553f6ac5",
   "metadata": {},
   "outputs": [
    {
     "name": "stdout",
     "output_type": "stream",
     "text": [
      "학습가능 파라미터 수: 1,512\n",
      "act_fun.0.coef                           torch.Size([8, 14, 6])   672\n",
      "act_fun.0.scale_base                     torch.Size([8, 14])   112\n",
      "act_fun.0.scale_sp                       torch.Size([8, 14])   112\n",
      "act_fun.1.coef                           torch.Size([14, 1, 6])    84\n",
      "act_fun.1.scale_base                     torch.Size([14, 1])    14\n",
      "act_fun.1.scale_sp                       torch.Size([14, 1])    14\n",
      "symbolic_fun.0.affine                    torch.Size([14, 8, 4])   448\n",
      "symbolic_fun.1.affine                    torch.Size([1, 14, 4])    56\n"
     ]
    }
   ],
   "source": [
    "num_params = sum(p.numel() for p in model.parameters() if p.requires_grad)\n",
    "print(f\"학습가능 파라미터 수: {num_params:,}\")\n",
    "\n",
    "for name, p in model.named_parameters():\n",
    "    if p.requires_grad:\n",
    "        print(f\"{name:40s} {p.shape} {p.numel():5d}\")\n"
   ]
  },
  {
   "cell_type": "markdown",
   "id": "91261a8c",
   "metadata": {},
   "source": [
    "학습가능한 파라미터의 리스트를 나열해보자"
   ]
  },
  {
   "cell_type": "code",
   "execution_count": 15,
   "id": "324ce580",
   "metadata": {},
   "outputs": [
    {
     "name": "stdout",
     "output_type": "stream",
     "text": [
      "(감지된 모델 타입: MultKAN)\n",
      "\n",
      "  [ Layer 0 (KANLayer) ] \n",
      " \n",
      " > Coefficients Shape: (8, 14, 6)\n",
      "  > Coefficients List (전체 파라미터)\n",
      "[[[ 1.25911068e-02  4.33892272e-02 -5.96318487e-03 -3.15435976e-02\n",
      "   -1.09015524e-01 -2.42515691e-02]\n",
      "  [-5.83746992e-02 -7.57138208e-02 -1.52869700e-02  2.36042552e-02\n",
      "    1.17939651e-01  4.49258797e-02]\n",
      "  [-7.10061984e-03  7.13320728e-03  3.35753337e-03  1.34440581e-03\n",
      "    1.42670155e-03 -1.67885199e-02]\n",
      "  [-3.14850546e-02 -6.01402149e-02 -6.09700149e-03  2.33193412e-02\n",
      "    1.07760563e-01  2.08931156e-02]\n",
      "  [-2.44367030e-02 -1.26531363e-01 -5.30941710e-02 -1.90988537e-02\n",
      "    6.91421628e-02  2.78926175e-02]\n",
      "  [-7.78466910e-02 -7.75906667e-02 -6.43545017e-02 -5.11832833e-02\n",
      "   -3.42427939e-02 -1.79200545e-02]\n",
      "  [-4.61097434e-02 -5.93675822e-02 -5.40463440e-02 -5.16152307e-02\n",
      "   -4.83028926e-02 -3.75766642e-02]\n",
      "  [ 1.12065556e-03  4.00526822e-02  1.14279380e-02 -6.53474638e-03\n",
      "   -3.63269448e-02 -5.81102930e-02]\n",
      "  [-4.23683971e-03 -1.31992288e-02 -8.30597524e-03 -9.12499148e-03\n",
      "   -8.00500507e-04 -2.57628951e-02]\n",
      "  [ 1.49830505e-02  7.08571523e-02  1.45084476e-02 -1.76410489e-02\n",
      "   -8.97672400e-02 -6.44728020e-02]\n",
      "  [ 1.75853185e-02  3.15959975e-02  3.04313432e-02  3.36481482e-02\n",
      "    3.40112224e-02  4.19359691e-02]\n",
      "  [-3.52537222e-02 -4.00892235e-02 -1.37010450e-02  1.96166174e-03\n",
      "    4.54726331e-02 -3.35768517e-03]\n",
      "  [-4.90962341e-02 -5.39017506e-02 -4.32161465e-02 -3.54940146e-02\n",
      "   -2.15050988e-02 -2.15943493e-02]\n",
      "  [-2.81404629e-02 -1.57800186e-02 -1.83102023e-02 -1.48490649e-02\n",
      "   -1.77270789e-02 -1.39934069e-03]]\n",
      "\n",
      " [[-1.98069736e-02 -5.79704123e-04 -1.29361348e-02 -1.56216985e-02\n",
      "   -3.29234302e-02 -9.49951005e-04]\n",
      "  [-7.30725303e-02 -1.39915004e-01 -6.43635467e-02 -1.76487248e-02\n",
      "    7.65442327e-02  6.13159649e-02]\n",
      "  [ 4.00227308e-02  4.27395962e-02  3.11308168e-02  2.32631210e-02\n",
      "    6.60021370e-03  1.46535477e-02]\n",
      "  [-3.06273326e-02 -4.61165234e-02 -1.36829084e-02  1.10290023e-02\n",
      "    5.32566607e-02  5.62844314e-02]\n",
      "  [ 1.89617537e-02 -1.00591898e-01 -3.74322385e-02 -2.37316489e-02\n",
      "    4.74946871e-02 -2.59901378e-02]\n",
      "  [-2.49642804e-02 -1.31512552e-01 -6.07997365e-02 -2.84760259e-02\n",
      "    5.09217158e-02  3.01939398e-02]\n",
      "  [-2.59629823e-02  2.52558216e-02 -1.15209529e-02 -2.19833702e-02\n",
      "   -7.23759606e-02  3.72359552e-03]\n",
      "  [ 3.84413078e-02  5.25343567e-02  5.83643676e-04 -3.03143486e-02\n",
      "   -1.12923525e-01 -2.21996661e-02]\n",
      "  [ 1.51268192e-04  4.39318568e-02 -1.36238271e-02 -4.41107117e-02\n",
      "   -1.25695050e-01 -5.48614599e-02]\n",
      "  [-1.31578706e-02  7.26124970e-03  1.34809734e-03  4.15428728e-03\n",
      "   -2.87544378e-03  2.30747554e-02]\n",
      "  [-1.30842244e-02  6.41685352e-02  4.48023155e-03 -2.17473861e-02\n",
      "   -9.53866988e-02 -4.38240431e-02]\n",
      "  [-1.94829479e-02  1.43452687e-02  5.80162834e-03  3.76294134e-03\n",
      "    2.78711808e-03 -2.42449865e-02]\n",
      "  [-1.51701402e-02 -1.12649627e-01 -5.78985848e-02 -4.02335599e-02\n",
      "    2.05183569e-02 -2.45253500e-02]\n",
      "  [-3.00021307e-03  1.84715297e-02 -8.34988337e-03 -2.06032842e-02\n",
      "   -5.94474301e-02 -1.41862342e-02]]\n",
      "\n",
      " [[ 7.10224034e-04 -4.05335389e-02 -4.47318330e-03  1.42504247e-02\n",
      "    5.77964671e-02  4.71218042e-02]\n",
      "  [-5.71368374e-02 -1.15518309e-01 -5.16383685e-02 -1.29532022e-02\n",
      "    6.89334720e-02  4.19681966e-02]\n",
      "  [ 3.95651674e-03 -4.94814068e-02 -1.79545004e-02 -4.69449582e-03\n",
      "    2.97441650e-02  2.73389835e-02]\n",
      "  [-2.46144012e-02 -1.01492535e-02 -2.65801884e-02 -3.64460647e-02\n",
      "   -5.73557205e-02 -5.19665219e-02]\n",
      "  [ 1.11391451e-02  5.45222275e-02  1.11637693e-02 -1.58872679e-02\n",
      "   -6.75821677e-02 -7.50736669e-02]\n",
      "  [-2.41116993e-02 -1.23038925e-01 -6.38919622e-02 -3.55014354e-02\n",
      "    2.89578661e-02  2.39619091e-02]\n",
      "  [ 5.46744838e-03 -8.34143907e-02 -1.51550053e-02  1.97507367e-02\n",
      "    1.04641661e-01  6.95262924e-02]\n",
      "  [ 3.59055027e-02  3.31985466e-02  2.98639406e-02  2.57622469e-02\n",
      "    2.11801864e-02  1.55597059e-02]\n",
      "  [ 3.40282843e-02 -2.75747571e-02  3.52755841e-03  8.90957378e-03\n",
      "    4.85586971e-02 -1.29833482e-02]\n",
      "  [-7.94013515e-02 -1.58326685e-01 -8.37445706e-02 -4.07116152e-02\n",
      "    5.22134937e-02  2.44335011e-02]\n",
      "  [ 3.97050753e-02  9.15847793e-02  3.76395062e-02  2.83249468e-03\n",
      "   -6.24045171e-02 -6.64685890e-02]\n",
      "  [-2.87404303e-02 -2.63823774e-02 -2.34917216e-02 -1.99065451e-02\n",
      "   -1.59134939e-02 -1.09057073e-02]\n",
      "  [ 5.77518996e-03  5.67838289e-02  9.38948058e-03 -1.21496227e-02\n",
      "   -7.52368569e-02 -2.16599479e-02]\n",
      "  [-5.13198393e-05  1.47192568e-01  5.94739355e-02  3.28581035e-02\n",
      "   -6.50074258e-02 -8.78333859e-03]]\n",
      "\n",
      " [[ 3.80312726e-02  3.81307565e-02  2.76284050e-02  2.07409561e-02\n",
      "    3.23315640e-03  2.31652614e-02]\n",
      "  [-2.07336247e-02 -7.06643425e-03 -2.43240632e-02 -3.62687968e-02\n",
      "   -5.68630584e-02 -6.33664951e-02]\n",
      "  [ 6.53752824e-03  3.31204059e-03  4.80339071e-03  6.59908587e-03\n",
      "    6.67103147e-03  1.73281729e-02]\n",
      "  [-3.19499697e-04 -6.06634468e-03 -1.42978104e-02 -2.40229573e-02\n",
      "   -3.53894047e-02 -4.76892032e-02]\n",
      "  [ 4.90688113e-03  7.51138059e-03  1.16604660e-02  1.64262466e-02\n",
      "    2.21699253e-02  2.77618300e-02]\n",
      "  [-6.60207644e-02 -9.52269360e-02 -5.68579920e-02 -2.67607067e-02\n",
      "    1.69140249e-02  5.19577935e-02]\n",
      "  [ 3.05179879e-02  2.17291806e-02  1.23019181e-02  7.32963497e-04\n",
      "   -1.28126703e-02 -2.64919847e-02]\n",
      "  [ 4.18898053e-02  1.25240654e-01  5.78042716e-02  3.14482227e-02\n",
      "   -5.42548038e-02  1.74476262e-02]\n",
      "  [ 2.30876245e-02  1.29380571e-02  1.13320220e-02  3.41629470e-03\n",
      "    3.42417182e-03 -3.18975933e-02]\n",
      "  [-6.22422881e-02 -1.08234286e-01 -5.99794053e-02 -3.28654312e-02\n",
      "    2.93854624e-02  4.64070356e-04]\n",
      "  [-6.78348867e-03 -4.15280052e-02 -1.58358067e-02 -1.64554513e-04\n",
      "    2.65045390e-02  4.32932004e-02]\n",
      "  [-1.73311178e-02 -2.72311121e-02 -5.99893834e-03  6.62999973e-03\n",
      "    3.79618108e-02  1.11241844e-02]\n",
      "  [-1.33343926e-02 -1.30857080e-02 -1.28664775e-02 -1.25580411e-02\n",
      "   -1.22308591e-02 -1.18876826e-02]\n",
      "  [ 3.70584764e-02  3.89176495e-02 -8.32558330e-03 -3.83784696e-02\n",
      "   -1.16452657e-01 -3.87586690e-02]]\n",
      "\n",
      " [[ 2.25419048e-02  7.84475133e-02  2.75954157e-02  6.20262418e-03\n",
      "   -6.44868165e-02  1.51139675e-02]\n",
      "  [-2.92640235e-02 -1.54459588e-02 -2.10229568e-02 -1.82993189e-02\n",
      "   -2.73692627e-02  7.06778793e-03]\n",
      "  [-5.03229834e-02 -9.17514861e-02 -3.09617259e-02  5.79524599e-03\n",
      "    8.74022096e-02  4.34461422e-02]\n",
      "  [-1.69074442e-02 -4.42628786e-02 -2.25401986e-02 -1.18985586e-02\n",
      "    1.53153101e-02 -3.68448230e-03]\n",
      "  [-3.03255190e-04 -4.28462699e-02 -2.90672369e-02 -2.96802875e-02\n",
      "   -1.78523101e-02 -3.12042255e-02]\n",
      "  [-3.57466489e-02 -8.17758143e-02 -4.38645929e-02 -2.41990834e-02\n",
      "    1.85934808e-02  1.88322831e-02]\n",
      "  [-6.54972717e-02 -8.50515142e-02 -5.87317683e-02 -3.75242755e-02\n",
      "   -7.92303029e-03  1.87089667e-02]\n",
      "  [-2.02098954e-02 -6.05772063e-02  3.25526926e-03  1.57597736e-02\n",
      "    1.07106969e-01 -1.10917790e-02]\n",
      "  [-4.31933487e-03  4.38740253e-02  1.75914913e-02  4.90567321e-03\n",
      "   -2.08468530e-02 -3.02563887e-02]\n",
      "  [-1.39683280e-02 -1.37825027e-01 -4.58421484e-02 -1.92287553e-03\n",
      "    1.06080681e-01  6.23568818e-02]\n",
      "  [ 9.20651853e-03 -5.10114990e-02 -8.74048844e-03  9.79446154e-03\n",
      "    6.05131090e-02  2.73330826e-02]\n",
      "  [-6.05221577e-02 -9.52545777e-02 -3.67341191e-02 -5.58005762e-04\n",
      "    7.94255733e-02  3.32242362e-02]\n",
      "  [ 7.75592821e-03 -3.78720835e-03 -3.60507779e-02 -5.63842393e-02\n",
      "   -1.13168851e-01 -3.22971754e-02]\n",
      "  [-2.81132665e-03 -1.29952431e-01 -5.44538647e-02 -3.62655967e-02\n",
      "    4.80767116e-02 -1.39632728e-02]]\n",
      "\n",
      " [[ 3.12387720e-02  1.02315068e-01  3.00528184e-02 -1.23733031e-02\n",
      "   -1.02982633e-01 -8.05863664e-02]\n",
      "  [-4.70837355e-02 -4.30535227e-02 -3.82356681e-02 -3.23013291e-02\n",
      "   -2.55851299e-02 -1.76038500e-02]\n",
      "  [-1.24283507e-02 -4.16850708e-02 -3.09387017e-02 -2.85266805e-02\n",
      "   -1.95001885e-02 -1.99479684e-02]\n",
      "  [ 4.68900576e-02  8.16625506e-02  3.50247510e-02  8.83742794e-03\n",
      "   -5.64934462e-02 -7.36724725e-03]\n",
      "  [-1.51928444e-03 -2.51445584e-02 -1.69857107e-02 -1.57925747e-02\n",
      "   -9.07728449e-03 -1.07955774e-02]\n",
      "  [-6.44067954e-03 -9.59228538e-03 -2.76907030e-02 -4.12386209e-02\n",
      "   -7.08634183e-02 -4.63232100e-02]\n",
      "  [-3.70545755e-03  1.46053871e-02 -7.63674732e-04 -2.98158615e-03\n",
      "   -2.81954054e-02  2.35610455e-02]\n",
      "  [-2.19765473e-02 -9.94001701e-02 -2.81876046e-02  8.33902415e-03\n",
      "    1.00161724e-01  4.74535003e-02]\n",
      "  [-1.04908040e-02  2.08125962e-03 -2.65590008e-03 -5.69360855e-04\n",
      "   -7.77378585e-03  1.73393767e-02]\n",
      "  [-4.88757230e-02 -5.13406023e-02 -4.64115255e-02 -4.23610024e-02\n",
      "   -3.64348181e-02 -3.22477482e-02]\n",
      "  [ 1.89060774e-02 -2.71838886e-04 -1.19175231e-02 -2.48235539e-02\n",
      "   -4.74733114e-02 -3.38361561e-02]\n",
      "  [ 6.79270104e-02  5.87843508e-02  4.76899743e-02  3.42886895e-02\n",
      "    1.85597632e-02  2.23601004e-03]\n",
      "  [-3.22757997e-02 -3.48707326e-02 -3.79924700e-02 -4.17828411e-02\n",
      "   -4.62268293e-02 -5.08269109e-02]\n",
      "  [-1.05864732e-02 -2.49420200e-02 -7.33465608e-03 -1.89000648e-03\n",
      "    2.44270209e-02 -1.42125757e-02]]\n",
      "\n",
      " [[-1.41495820e-02 -1.16102602e-02 -8.19900818e-03 -4.13491623e-03\n",
      "    5.90477721e-04  5.64287882e-03]\n",
      "  [ 1.85015760e-02  7.09041804e-02  9.14249104e-03 -2.36757696e-02\n",
      "   -1.06219463e-01 -5.11126965e-02]\n",
      "  [ 4.17240597e-02  9.17563289e-02  3.42525765e-02 -2.25374731e-03\n",
      "   -7.24634007e-02 -7.17631206e-02]\n",
      "  [ 3.67874727e-02  3.53846438e-02  3.43767181e-02  3.29811946e-02\n",
      "    3.15265618e-02  2.94928383e-02]\n",
      "  [-7.55761713e-02 -1.52751490e-01 -6.04436025e-02 -4.84422967e-03\n",
      "    1.12882569e-01  7.91184455e-02]\n",
      "  [-3.16383503e-02 -2.53212750e-02 -1.69408079e-02 -6.97157439e-03\n",
      "    4.66410397e-03  1.68918818e-02]\n",
      "  [ 2.34234575e-02 -7.00216815e-02 -8.30872636e-03  1.09603480e-02\n",
      "    8.77767578e-02  6.06012670e-03]\n",
      "  [ 4.42000516e-02  8.98156762e-02  2.18036249e-02 -2.09671501e-02\n",
      "   -1.10682182e-01 -7.95877352e-02]\n",
      "  [-1.24495775e-02 -3.91297936e-02 -4.66585206e-03  1.09760724e-02\n",
      "    6.14262484e-02 -1.02440384e-03]\n",
      "  [-2.59814616e-02 -2.02589892e-02 -4.11225762e-03  8.92681163e-03\n",
      "    3.44211161e-02  2.18871105e-02]\n",
      "  [-2.86202636e-02 -1.87917687e-02 -6.38485933e-03  8.59060604e-03\n",
      "    2.57950854e-02  4.47591208e-02]\n",
      "  [-1.21258311e-02  2.10037008e-02  5.33176912e-03 -1.46894604e-06\n",
      "   -1.48469042e-02 -1.44489184e-02]\n",
      "  [-1.99159868e-02  4.90876054e-03 -3.55193950e-02 -5.57813011e-02\n",
      "   -1.15530513e-01 -4.80854884e-02]\n",
      "  [ 9.53742396e-03  9.63790715e-03  1.11032454e-02  1.25924237e-02\n",
      "    1.44721624e-02  1.62491594e-02]]\n",
      "\n",
      " [[ 6.52262717e-02  1.03904091e-01  4.39840667e-02  2.59372266e-03\n",
      "   -7.28204846e-02 -7.04122931e-02]\n",
      "  [ 4.72989865e-02  7.57910386e-02  3.49970385e-02  1.22471666e-02\n",
      "   -4.43049185e-02  4.19126870e-03]\n",
      "  [-2.47391034e-02  3.02293915e-02 -1.88378375e-02 -4.05997671e-02\n",
      "   -1.04141824e-01 -4.32933271e-02]\n",
      "  [-5.03829829e-02 -4.41389829e-02 -2.84302495e-02 -1.17545966e-02\n",
      "    9.31219384e-03  2.64545437e-02]\n",
      "  [-3.76457833e-02 -5.90972640e-02 -3.77702340e-02 -2.43547540e-02\n",
      "    9.27314031e-05  4.41880291e-03]\n",
      "  [ 2.61588134e-02 -4.35703322e-02 -4.08364832e-02 -4.68669534e-02\n",
      "   -6.34911656e-02  1.87498075e-03]\n",
      "  [-3.07386275e-02 -1.09478220e-01 -6.34973347e-02 -4.30951193e-02\n",
      "    4.63458430e-03  1.65090000e-03]\n",
      "  [ 8.57216481e-04  2.52193790e-02  6.89936010e-03  3.99522902e-03\n",
      "   -2.03849673e-02  2.04610396e-02]\n",
      "  [ 2.06021816e-02  9.09078121e-03  1.52416127e-02  1.60002634e-02\n",
      "    2.34995726e-02  1.12562664e-02]\n",
      "  [-4.07177545e-02 -1.15285173e-01 -3.60450484e-02  8.28642398e-03\n",
      "    1.07631721e-01  6.38327077e-02]\n",
      "  [-2.21169461e-02  5.03574125e-03 -5.48405107e-03 -3.88976216e-04\n",
      "   -1.53429806e-02  3.84432748e-02]\n",
      "  [ 2.04072949e-02 -3.37607414e-03 -1.30712315e-02 -2.56664269e-02\n",
      "   -4.56381552e-02 -3.45395692e-02]\n",
      "  [-5.92657877e-03  2.93138670e-03 -1.48503333e-02 -2.84159016e-02\n",
      "   -4.99911383e-02 -5.85002489e-02]\n",
      "  [ 7.29623658e-04  7.18129426e-02  1.34862913e-03 -6.66604470e-03\n",
      "   -9.97885466e-02  2.67410725e-02]]]\n",
      "\n",
      "  [ Layer 1 (KANLayer) ] \n",
      " \n",
      " > Coefficients Shape: (14, 1, 6)\n",
      "  > Coefficients List (전체 파라미터)\n",
      "[[[0.08045819 0.07905626 0.0780751  0.07692831 0.07591355 0.07453961]]\n",
      "\n",
      " [[0.04256938 0.04354798 0.04434425 0.04524945 0.04607624 0.04709502]]\n",
      "\n",
      " [[0.03318249 0.03314423 0.03311386 0.03307952 0.0330478  0.03300977]]\n",
      "\n",
      " [[0.10754319 0.10682619 0.10624148 0.10562415 0.10511257 0.10446127]]\n",
      "\n",
      " [[0.0528097  0.05380659 0.0546093  0.05554231 0.05636707 0.05763488]]\n",
      "\n",
      " [[0.01659049 0.0169862  0.01725668 0.0175889  0.01789669 0.01827864]]\n",
      "\n",
      " [[0.03342709 0.0340555  0.03455858 0.03511069 0.03559271 0.03618797]]\n",
      "\n",
      " [[0.01091754 0.01114594 0.01133659 0.01156507 0.0117871  0.01204582]]\n",
      "\n",
      " [[0.05121307 0.05105586 0.05095794 0.05084326 0.05074875 0.05060923]]\n",
      "\n",
      " [[0.10479602 0.10591904 0.10674137 0.10765272 0.10845728 0.10935053]]\n",
      "\n",
      " [[0.09603687 0.09596202 0.09590092 0.09583166 0.09576818 0.09568797]]\n",
      "\n",
      " [[0.04579562 0.04576013 0.04572335 0.04568937 0.0456642  0.04562316]]\n",
      "\n",
      " [[0.01939755 0.01993882 0.02033703 0.0208623  0.02139393 0.02204889]]\n",
      "\n",
      " [[0.11354637 0.11314363 0.11282054 0.11243664 0.11207037 0.11161312]]]\n"
     ]
    }
   ],
   "source": [
    "import numpy as np\n",
    "import torch\n",
    "\n",
    "def print_parameters(model):\n",
    "  \n",
    "    \n",
    "    target_layers = None\n",
    "    model_type_name = type(model).__name__   # class 이름 알려주기  -- 보통 MultKIKAN이다\n",
    "    \n",
    "    print(f\"(감지된 모델 타입: {model_type_name})\")\n",
    "    \n",
    "\n",
    "\n",
    "   \n",
    "    if model_type_name == 'MultKAN':\n",
    "        target_layers = model.act_fun\n",
    "    elif model_type_name == 'KAN':\n",
    "        target_layers = model.layers\n",
    "    else:\n",
    "        print(f\"[에러] 지원되지 않는 모델 타입입니다: {model_type_name}\")\n",
    "        return\n",
    "\n",
    "\n",
    "\n",
    "\n",
    "\n",
    "    # layer 자체의 coef 속성에 직접 접근합니다.\n",
    "    for i, layer in enumerate(target_layers):                        # enumerate 는 layer의 원소와 이름을 쌍으로 가져옴   # (0, 첫번째 레이어), (1, 두번째 레이어), ...\n",
    "\n",
    "        print(f\"\\n  [ Layer {i} ({type(layer).__name__}) ] \")\n",
    "        \n",
    "        # 'KANLayer' 객체(layer)가 가진 .coef 속성을 직접 가져옵니다.\n",
    "        # 이로써 내부 for문이 완전히 사라지고 코드가 더 간결해졌습니다.\n",
    "        coeffs = layer.coef.detach().cpu().numpy()\n",
    "        \n",
    "        print(f\" \\n > Coefficients Shape: {coeffs.shape}\")\n",
    "        print(f\"  > Coefficients List (전체 파라미터)\")\n",
    "        print(f\"{coeffs}\")  # 이게 파라미터들의 리스트\n",
    "            \n",
    "    \n",
    "\n",
    "# 이 최종 완성된 함수를 실행합니다.\n",
    "print_parameters(model)\n",
    "\n",
    "# [팁] 파라미터 리스트가 너무 길어서 [...]로 생략된다면,NumPy의 출력 옵션을 설정하여 전체 배열을 볼 수 있음\n",
    "# np.set_printoptions(threshold=np.inf)\n",
    "\n",
    "\n"
   ]
  },
  {
   "cell_type": "code",
   "execution_count": 16,
   "id": "97aa8bd6",
   "metadata": {},
   "outputs": [
    {
     "name": "stdout",
     "output_type": "stream",
     "text": [
      "saving model version 0.2\n"
     ]
    },
    {
     "data": {
      "image/png": "[encoded data removed]",
      "text/plain": [
       "<Figure size 500x400 with 12 Axes>"
      ]
     },
     "metadata": {},
     "output_type": "display_data"
    }
   ],
   "source": [
    "#pruning\n",
    "model = model.prune(node_th=1e-2, edge_th=3e-2)  # 더 자르고 싶으면 값을 높이고, 덜 자르고 변수를 많이 있게 하고 싶으면 값을 낮추기\n",
    "model.plot()"
   ]
  },
  {
   "cell_type": "code",
   "execution_count": 17,
   "id": "52219276",
   "metadata": {},
   "outputs": [
    {
     "name": "stderr",
     "output_type": "stream",
     "text": [
      "| train_loss: 2.86e-02 | test_loss: 2.93e-02 | reg: 3.23e+00 | : 100%|█| 50/50 [00:08<00:00,  5.64it\n"
     ]
    },
    {
     "name": "stdout",
     "output_type": "stream",
     "text": [
      "saving model version 0.3\n"
     ]
    },
    {
     "data": {
      "image/png": "[encoded data removed]",
      "text/plain": [
       "<Figure size 500x400 with 12 Axes>"
      ]
     },
     "metadata": {},
     "output_type": "display_data"
    }
   ],
   "source": [
    "#학습\n",
    "model.fit(dataset, opt=\"LBFGS\", steps=50, update_grid=False)  # update_grid 가 False일때랑 True일때의 차이는?\n",
    "model.plot()"
   ]
  },
  {
   "cell_type": "markdown",
   "id": "6d477e33",
   "metadata": {},
   "source": [
    "step10. KAN refine(grid extension) 후 재학습"
   ]
  },
  {
   "cell_type": "code",
   "execution_count": 18,
   "id": "29921454",
   "metadata": {},
   "outputs": [
    {
     "name": "stdout",
     "output_type": "stream",
     "text": [
      "saving model version 0.4\n"
     ]
    },
    {
     "name": "stderr",
     "output_type": "stream",
     "text": [
      "| train_loss: 2.98e-02 | test_loss: 3.58e-02 | reg: 3.19e+00 | : 100%|█| 50/50 [00:12<00:00,  4.06it\n"
     ]
    },
    {
     "name": "stdout",
     "output_type": "stream",
     "text": [
      "saving model version 0.5\n"
     ]
    },
    {
     "data": {
      "image/png": "[encoded data removed]",
      "text/plain": [
       "<Figure size 500x400 with 12 Axes>"
      ]
     },
     "metadata": {},
     "output_type": "display_data"
    }
   ],
   "source": [
    "# refine(grid extension) 그리드 세분화(구간 세분화)(전체 구간 개수 30개로 변화)\n",
    "model = model.refine(30)\n",
    "model.fit(dataset, opt=\"LBFGS\", steps=50)\n",
    "model.plot()"
   ]
  },
  {
   "cell_type": "markdown",
   "id": "445c58e6",
   "metadata": {},
   "source": [
    "step11. KAN symbolification"
   ]
  },
  {
   "cell_type": "code",
   "execution_count": 19,
   "id": "666a6d8c",
   "metadata": {},
   "outputs": [
    {
     "name": "stdout",
     "output_type": "stream",
     "text": [
      "fixing (0,0,0) with x, r2=0.09280683845281601, c=1\n",
      "fixing (0,1,0) with 0\n",
      "fixing (0,2,0) with x, r2=0.6832783222198486, c=1\n",
      "fixing (0,3,0) with x, r2=0.9347195029258728, c=1\n",
      "fixing (0,4,0) with x, r2=0.02679341658949852, c=1\n",
      "fixing (0,5,0) with 0\n",
      "fixing (0,6,0) with 0\n",
      "fixing (0,7,0) with x, r2=0.04268360510468483, c=1\n",
      "fixing (1,0,0) with x, r2=0.8961189985275269, c=1\n",
      "saving model version 0.6\n"
     ]
    }
   ],
   "source": [
    "# 자동 모드로 심볼릭 회귀 수행\n",
    "lib = ['x', 'x^2', 'x^3', 'x^4', 'exp', 'log', 'sqrt', 'tanh', 'sin']   #'x^(-1)', 'x^(-2)', 'x^(-3)', 'x^(-4)'\n",
    "model.auto_symbolic(lib=lib)\n"
   ]
  },
  {
   "cell_type": "code",
   "execution_count": 20,
   "id": "eb7e1c7e",
   "metadata": {},
   "outputs": [
    {
     "name": "stderr",
     "output_type": "stream",
     "text": [
      "| train_loss: 8.16e-02 | test_loss: 8.44e-02 | reg: 0.00e+00 | : 100%|█| 50/50 [00:02<00:00, 16.76it\n"
     ]
    },
    {
     "name": "stdout",
     "output_type": "stream",
     "text": [
      "saving model version 0.7\n"
     ]
    },
    {
     "data": {
      "image/png": "[encoded data removed]",
      "text/plain": [
       "<Figure size 500x400 with 12 Axes>"
      ]
     },
     "metadata": {},
     "output_type": "display_data"
    }
   ],
   "source": [
    "# symbolic 함수로 대체 후 학습\n",
    "model.fit(dataset, opt=\"LBFGS\", steps=50)\n",
    "model.plot()"
   ]
  },
  {
   "cell_type": "markdown",
   "id": "a2914843",
   "metadata": {},
   "source": [
    "step12. symbolic 수식 출력"
   ]
  },
  {
   "cell_type": "code",
   "execution_count": 21,
   "id": "9988d940",
   "metadata": {},
   "outputs": [
    {
     "name": "stdout",
     "output_type": "stream",
     "text": [
      "formula = 0.001*x_1 - 0.4001*x_3 + 0.0966*x_4 - 0.0094*x_5 - 0.0024*x_8 + 0.3909\n",
      "(x_1: Current density, x_2: Faradaic efficiency, ... x_8: crossover rate)\n"
     ]
    }
   ],
   "source": [
    "# 심볼릭 수식 출력\n",
    "formula = ex_round(model.symbolic_formula()[0][0], 4)  # ex_round(  , 4) -- 소수점 뒤에 숫자 4개? // \n",
    "print(\"formula =\" , formula)  \n",
    "print('(x_1: Current density, x_2: Faradaic efficiency, ... x_8: crossover rate)')\n"
   ]
  },
  {
   "cell_type": "markdown",
   "id": "f43772d9",
   "metadata": {},
   "source": [
    "step13. KAN이 예측한 수식 정확도 검증을 위한 함수 정의"
   ]
  },
  {
   "cell_type": "code",
   "execution_count": 22,
   "id": "d723e550",
   "metadata": {},
   "outputs": [],
   "source": [
    "# validation set으로 성능을 평가하는 함수 만들기\n",
    "def evaluate_model_performance(model, dataset, scaler_y, phase=\"validation\"):    # phase = validation 아니면 test 이다\n",
    "    \n",
    "    \n",
    "    if phase == \"validation\":\n",
    "        input_tensor = dataset['val_input']\n",
    "        label_tensor = dataset['val_label']\n",
    "    elif phase == \"test\":\n",
    "        input_tensor = dataset['test_input']\n",
    "        label_tensor = dataset['test_label']\n",
    "    else:\n",
    "        raise ValueError(\"phase는 'validation' 또는 'test'만 가능합니다\")\n",
    "    \n",
    "    # 예측 수행\n",
    "    with torch.no_grad():  # 굳이 기울기 계산할 필요 X because 이거는 test 이기에 학습 X --- 시간 더 빠르게 하려고 torch.no_grad()\n",
    "        pred_norm = model(input_tensor) #input_tensor 는 val_inut or test_input / pred_norm은 그에 대한 출력값\n",
    "    \n",
    "    # 역정규화\n",
    "    pred_real = scaler_y.inverse_transform(pred_norm.cpu().detach().numpy())   # pred_real 은 0.1~0.9 사이의 입력 val_input or test_input을 받고 출력된 값은 다시 역정규화 한 실제 출력값\n",
    "    label_real = scaler_y.inverse_transform(label_tensor.cpu().detach().numpy()) # label_real은 0.1~0.9 사이의 입력 val_label or test_label을 받고 출력한 값 역정규화\n",
    "    # inverse_transform 함수는  numpy 를 입력으로 받기 떄문에 pytorch tensor를 cpu로 옮기고 numpy로 변환\n",
    "    \n",
    "    # numpy는 cpu에서만 돌아가니까 tensor를 .cpu로 옮기고 그다음 tensor의 추가정보 (numpy 정보 + 어떻게 계산되었는지 식에 대한 정보)를 detach --- 그 다음에 .numpy()를 통해 numpy로 변환\n",
    "    \n",
    "    # 성능 지표 계산 from 역정규화된 label_real, pred_real 값들 from val input or test input + numpy에서 계산\n",
    "    rmse = np.sqrt(mean_squared_error(label_real, pred_real))  # 오차 제곱 평균의 루트\n",
    "    r2 = r2_score(label_real, pred_real)  #1에 가까울수록 좋다 \n",
    "    mae = np.mean(np.abs(label_real - pred_real)) # 오차 절댓값들의 평균 -- MAE\n",
    "    \n",
    "    print(f\"{phase} SET 성능 평가\") # phase = validation 또는 test \n",
    "    print(f\"RMSE: {rmse:.4f}\")     # f\"{변수:포맷코드}\"\n",
    "    print(f\"R²: {r2:.4f}\")\n",
    "    print(f\"MAE: {mae:.4f}\")\n",
    "    \n",
    "    print(f\"실제값 평균: {label_real.mean():.4f}\")  #label_real의 평균값(실제값)\n",
    "    print(f\"예측값 평균: {pred_real.mean():.4f}\")   #pred_real의 평균값(KAN 모델로 예측한 값)\n",
    "    \n",
    "    return pred_real, label_real, {'rmse': rmse, 'r2': r2, 'mae': mae}"
   ]
  },
  {
   "cell_type": "markdown",
   "id": "fb77ff0c",
   "metadata": {},
   "source": [
    "Step14. Validation data(검증셋)으로 성능 평가"
   ]
  },
  {
   "cell_type": "code",
   "execution_count": 23,
   "id": "497efffd",
   "metadata": {},
   "outputs": [
    {
     "name": "stdout",
     "output_type": "stream",
     "text": [
      "validation SET 성능 평가\n",
      "RMSE: 21.4982\n",
      "R²: 0.6089\n",
      "MAE: 14.2203\n",
      "실제값 평균: 48.6630\n",
      "예측값 평균: 46.9030\n"
     ]
    }
   ],
   "source": [
    "# validation dataset(검증셋)으로 성능 평가 (모델 개발 과정에서)\n",
    "val_pred, val_actual, val_metrics = evaluate_model_performance(model, dataset, scaler_y, \"validation\")\n",
    "\n",
    "#scaler_y : step5 에서 정의한 정규화된 y 변환법\n",
    "# validation --- 검증셋 이용할거라는 의미 / 나중에 \n",
    "# val_pred 변수: evaluate_model_performance 함수가 반환한 첫 번째 결과물(pred_real)(모델의 예측값 배열)이 저장\n",
    "# val_actual 변수: 함수가 반환한 두 번째 결과물(label_real)(실제 정답 값 배열)이 저장\n",
    "# val_metrics 변수: 함수가 반환한 세 번째 결과물(RMSE, R², MAE가 담긴 딕셔너리)이 저장\n"
   ]
  },
  {
   "cell_type": "markdown",
   "id": "937e66a3",
   "metadata": {},
   "source": [
    "step15. KAN이 예측한 수식의 정확도 최종계산 _ using test_input, test_label"
   ]
  },
  {
   "cell_type": "code",
   "execution_count": 24,
   "id": "8acf1afc",
   "metadata": {},
   "outputs": [
    {
     "name": "stdout",
     "output_type": "stream",
     "text": [
      "최종 테스트셋 평가\n",
      "test SET 성능 평가\n",
      "RMSE: 21.3913\n",
      "R²: 0.5892\n",
      "MAE: 14.7278\n",
      "실제값 평균: 50.3135\n",
      "예측값 평균: 49.5417\n",
      "\n",
      "최종 모델 성능:\n",
      "테스트셋 RMSE: 21.3913\n",
      "테스트셋 R²: 0.5892\n",
      "테스트셋 MAE: 14.7278\n"
     ]
    }
   ],
   "source": [
    "# 모든 모델 개발이 완료된 후 최종 한 번만 수행\n",
    "print(\"최종 테스트셋 평가\")\n",
    "\n",
    "\n",
    "# 최종 테스트셋 평가(phase만 'test'로 변경하여 테스트 데이터를 사용)(이전에 정의한 evaluate_model_performance 함수를 그대로 사용)\n",
    "test_pred, test_actual, test_metrics = evaluate_model_performance(\n",
    "    model, dataset, scaler_y, \"test\"\n",
    ")\n",
    "\n",
    "# test_pred : 모델의 예측값 , test_actual : 실제 정답 값 배열 , test_metrics : (RMSE, R², MAE가 담긴 딕셔너리)\n",
    "\n",
    "print(f\"\\n최종 모델 성능:\")\n",
    "print(f\"테스트셋 RMSE: {test_metrics['rmse']:.4f}\")\n",
    "print(f\"테스트셋 R²: {test_metrics['r2']:.4f}\")\n",
    "print(f\"테스트셋 MAE: {test_metrics['mae']:.4f}\")\n"
   ]
  },
  {
   "cell_type": "markdown",
   "id": "cd9bb436",
   "metadata": {},
   "source": [
    "step16. KAN 예측값 / 실제값 그래프"
   ]
  },
  {
   "cell_type": "code",
   "execution_count": 25,
   "id": "7931b4ce",
   "metadata": {},
   "outputs": [
    {
     "data": {
      "image/png": "[encoded data removed]",
      "text/plain": [
       "<Figure size 400x400 with 1 Axes>"
      ]
     },
     "metadata": {},
     "output_type": "display_data"
    }
   ],
   "source": [
    "# step14. KAN 예측값 / 실제값 그래프\n",
    "import matplotlib.pyplot as plt\n",
    "\n",
    "plt.figure(figsize=(4, 4))  # 도화지 그리기~\n",
    "\n",
    "# test_actual (x축) vs test_pred (y축) , alpha = 투명도\n",
    "plt.scatter(test_actual, test_pred, alpha=0.7, edgecolors='k', label='Model Predictions')\n",
    "\n",
    "# 제일 작은 값, 제일 큰 값 설정\n",
    "min_val = min(test_actual.min(), test_pred.min())\n",
    "max_val = max(test_actual.max(), test_pred.max())\n",
    "plt.plot([min_val, max_val], [min_val, max_val], 'r--', linewidth=2, label='Perfect Fit (y=x)')  # y = x 선긋기\n",
    "\n",
    "# 그래프 제목과 축 레이블 설정\n",
    "plt.xlabel(\"Actual \" + predicting , fontsize=12)   # Actual 다음에 우리가 보고자 하는 output predicting 변수가 뜸\n",
    "plt.ylabel(\"Predicted \" + predicting, fontsize=12) # \n",
    "plt.title(f'Test Set: Actual vs. Predicted (R² = {test_metrics[\"r2\"]:.4f})', fontsize=14)\n",
    "plt.legend()\n",
    "plt.grid(True)  # 격자 on \n",
    "plt.axis('equal') # x, y축 스케일을 동일하게 설정\n",
    "plt.tight_layout()\n",
    "plt.show()\n"
   ]
  },
  {
   "cell_type": "markdown",
   "id": "c9f2f548",
   "metadata": {},
   "source": [
    "잔차 플롯 (Residual Plot): 모델의 예측 오차 패턴 분석"
   ]
  },
  {
   "cell_type": "code",
   "execution_count": 26,
   "id": "da62b6b9",
   "metadata": {},
   "outputs": [
    {
     "data": {
      "image/png": "[encoded data removed]",
      "text/plain": [
       "<Figure size 700x400 with 1 Axes>"
      ]
     },
     "metadata": {},
     "output_type": "display_data"
    }
   ],
   "source": [
    "# 1. 잔차 계산 (실제값 - 예측값)\n",
    "residuals = test_actual - test_pred\n",
    "\n",
    "# 2. 잔차 플롯 시각화\n",
    "plt.figure(figsize=(7, 4))\n",
    "\n",
    "# x축은 예측값, y축은 잔차\n",
    "plt.scatter(test_pred, residuals, alpha=0.7, edgecolors='k')\n",
    "\n",
    "# y=0 기준선 추가 (오차가 0인 선)\n",
    "plt.axhline(y=0, color='r', linestyle='--', linewidth=2)\n",
    "\n",
    "plt.xlabel(\"Predicted \"+predicting, fontsize=12)\n",
    "plt.ylabel('Residuals (Actual - Predicted)', fontsize=12)\n",
    "plt.title('Residual Plot for Test Set', fontsize=14)\n",
    "plt.grid(True)\n",
    "plt.show()\n"
   ]
  },
  {
   "cell_type": "markdown",
   "id": "85cd30ad",
   "metadata": {},
   "source": [
    "2. 개별 변수 영향도 플롯 (Partial Dependence Plot): 변수-결과 관계 시각화"
   ]
  },
  {
   "cell_type": "code",
   "execution_count": 27,
   "id": "ff333b84",
   "metadata": {},
   "outputs": [
    {
     "name": "stdout",
     "output_type": "stream",
     "text": [
      "--- 모든 입력 변수에 대한 개별 영향도 플롯 ---\n"
     ]
    },
    {
     "data": {
      "image/png": "[encoded data removed]",
      "text/plain": [
       "<Figure size 500x400 with 12 Axes>"
      ]
     },
     "metadata": {},
     "output_type": "display_data"
    }
   ],
   "source": [
    "import numpy as np\n",
    "import matplotlib.pyplot as plt\n",
    "\n",
    "# 1. (NameError 해결) feature_names 리스트를 먼저 정의합니다.\n",
    "feature_names = [\n",
    "    \"Current density\", \"Faradaic efficiency\", \"CO coversion\", \"Voltage\",\n",
    "    \"Electricity cost\", \"Membrain cost\", \"Capture energy\", \"Crossover rate\"\n",
    "]\n",
    "\n",
    "try:\n",
    "    print(\"--- 모든 입력 변수에 대한 개별 영향도 플롯 ---\")\n",
    "    \n",
    "    # 2. (TypeError 해결) 'vars' 인자 없이 plot() 함수를 호출합니다.\n",
    "    # 이렇게 하면 8개 변수 각각에 대한 영향도 그래프가 한 번에 그려집니다.\n",
    "    model.plot()\n",
    "    \n",
    "    # 전체 그래프에 대한 제목 설정 (선택 사항)\n",
    "    plt.suptitle('Partial Dependence Plots for All Features', y=1.02)\n",
    "    plt.show()\n",
    "\n",
    "except Exception as e:\n",
    "    print(f\"오류가 발생했습니다: {e}\")\n",
    "    print(\"이전 단계에서 'model' 객체가 성공적으로 생성되었는지 확인해주세요.\")\n",
    "\n"
   ]
  },
  {
   "cell_type": "code",
   "execution_count": 28,
   "id": "22bee12d",
   "metadata": {},
   "outputs": [
    {
     "name": "stdout",
     "output_type": "stream",
     "text": [
      "formula= 0.001*x_1 - 0.4001*x_3 + 0.0966*x_4 - 0.0094*x_5 - 0.0024*x_8 + 0.3909\n"
     ]
    }
   ],
   "source": [
    "# step11의 코드를 다시 실행\n",
    "formula = ex_round(model.symbolic_formula()[0][0], 4)\n",
    "print(\"formula=\", formula)\n",
    "\n",
    "# 여기서 맨 왼쪽부터  x_1부터 x_9\n"
   ]
  },
  {
   "cell_type": "markdown",
   "id": "7180d5fa",
   "metadata": {},
   "source": [
    "-------"
   ]
  },
  {
   "cell_type": "markdown",
   "id": "7b03ef06",
   "metadata": {},
   "source": [
    "------"
   ]
  },
  {
   "cell_type": "markdown",
   "id": "c161d08d",
   "metadata": {},
   "source": [
    "------------------------------------------------------------------------------------------------------------------------------------------------"
   ]
  },
  {
   "cell_type": "markdown",
   "id": "61f2ffb4",
   "metadata": {},
   "source": [
    "step17.실제 KAN이 구현한 수식에 X값을 대입해서 결과 구해보기_역정규화 이용"
   ]
  },
  {
   "cell_type": "code",
   "execution_count": 29,
   "id": "bd032dac",
   "metadata": {},
   "outputs": [
    {
     "name": "stdout",
     "output_type": "stream",
     "text": [
      "--- [입력 변수(X) 정규화 키] ---\n",
      "x_1 (Current density (mA/cm2)):\n",
      "  min = 123.17073171\n",
      "  max = 1999.62015194\n",
      "\n",
      "x_2 (Faradaic efficiency (%)):\n",
      "  min = 0.50009796\n",
      "  max = 0.98970612\n",
      "\n",
      "x_3 (CO coversion):\n",
      "  min = 0.02733906\n",
      "  max = 0.59988205\n",
      "\n",
      "x_4 (Voltage (V)):\n",
      "  min = 1.30043982\n",
      "  max = 3.49868053\n",
      "\n",
      "x_5 (Electricity cost ($/kWh)):\n",
      "  min = 0.05002999\n",
      "  max = 0.09999000\n",
      "\n",
      "x_6 (Membrain cost ($/m2)):\n",
      "  min = 285.03798481\n",
      "  max = 348.32067173\n",
      "\n",
      "x_7 (Catpure energy (GJ/ton)):\n",
      "  min = 3.00039984\n",
      "  max = 4.99640144\n",
      "\n",
      "x_8 (Crossover rate):\n",
      "  min = 0.00039984\n",
      "  max = 1.99880048\n",
      "\n",
      "--- [출력 변수(y) 역정규화 키] ---\n",
      "y_min = 14.99042938\n",
      "y_max = 217.83096166\n"
     ]
    }
   ],
   "source": [
    "# 이전에 학습에 사용했던 scaler_X 와 scaler_y 객체가 필요합니다.\n",
    "\n",
    "# 1. 입력 변수(X)의 최소/최대값 추출\n",
    "#    사용된 변수의 순서에 맞게 이름을 지정합니다.\n",
    "feature_names = [\n",
    "    \"Current density (mA/cm2)\", \"Faradaic efficiency (%)\", \"CO coversion\",\n",
    "    \"Voltage (V)\", \"Electricity cost ($/kWh)\", \"Membrain cost ($/m2)\",\n",
    "    \"Catpure energy (GJ/ton)\", \"Crossover rate\"\n",
    "]\n",
    "\n",
    "print(\"--- [입력 변수(X) 정규화 키] ---\")\n",
    "for i, name in enumerate(feature_names):\n",
    "    min_val = scaler_X.data_min_[i]\n",
    "    max_val = scaler_X.data_max_[i]\n",
    "    print(f\"x_{i+1} ({name}):\")\n",
    "    print(f\"  min = {min_val:.8f}\")\n",
    "    print(f\"  max = {max_val:.8f}\\n\")\n",
    "\n",
    "# 2. 출력 변수(y)의 최소/최대값 추출\n",
    "y_min = scaler_y.data_min_[0]\n",
    "y_max = scaler_y.data_max_[0]\n",
    "\n",
    "print(\"--- [출력 변수(y) 역정규화 키] ---\")\n",
    "print(f\"y_min = {y_min:.8f}\")\n",
    "print(f\"y_max = {y_max:.8f}\")\n"
   ]
  },
  {
   "cell_type": "code",
   "execution_count": 30,
   "id": "b562d0ba",
   "metadata": {},
   "outputs": [
    {
     "name": "stdout",
     "output_type": "stream",
     "text": [
      "formula= 0.001*x_1 - 0.4001*x_3 + 0.0966*x_4 - 0.0094*x_5 - 0.0024*x_8 + 0.3909\n",
      "(x_1: Current density, x_2: Faradaic efficiency, ... x_8: crossover rate)\n"
     ]
    }
   ],
   "source": [
    "# step11의 코드를 다시 실행\n",
    "formula = ex_round(model.symbolic_formula()[0][0], 4)\n",
    "print(\"formula=\", formula)\n",
    "print('(x_1: Current density, x_2: Faradaic efficiency, ... x_8: crossover rate)')\n"
   ]
  },
  {
   "cell_type": "markdown",
   "id": "6bf9a624",
   "metadata": {},
   "source": [
    "python에서도 시험삼아 몇 개 출력해보기"
   ]
  },
  {
   "cell_type": "code",
   "execution_count": 31,
   "id": "a983cab0",
   "metadata": {},
   "outputs": [
    {
     "name": "stdout",
     "output_type": "stream",
     "text": [
      "▶ 자동으로 감지된 수식: y = 0.00100919946831943*x_1 - 0.400098124811949*x_3 + 0.0966227340679084*x_4 - 0.00939687879818854*x_5 - 0.0024341873110685*x_8 + 0.39092704196942\n",
      "\n",
      "==============================================================\n",
      "### 역정규화 (Inverse Normalization)에 사용되는 수식 ###\n",
      "실제값 = (정규화된 값 * (최대값 - 최소값)) + 최소값\n",
      "실제값 = (정규화된 값 * 253.5507) + 0.0409\n",
      "==============================================================\n",
      "\n",
      "--------- [단순화된 수식 모델]의 예측 성능 ---------\n",
      "     실제값   수식 예측값 \n",
      "0   45.30    66.05\n",
      "1   40.06    59.27\n",
      "2   20.16    17.44\n",
      "3   19.25     5.70\n",
      "4   61.87    67.18\n",
      "5   45.20    61.89\n",
      "6   20.45    12.80\n",
      "7   49.03    71.87\n",
      "8   49.91    57.84\n",
      "9   27.39    38.38\n",
      "10  51.01    60.09\n",
      "11  34.97    38.62\n",
      "12  42.71    47.11\n",
      "13  30.27    48.42\n",
      "14  29.03    39.07\n",
      "15  26.70    14.34\n",
      "16  36.01    58.36\n",
      "17  24.82    21.03\n",
      "18  35.81    49.66\n",
      "19  53.95    72.43\n",
      "20  42.39    48.86\n",
      "21  29.30     7.97\n",
      "22  31.46    29.44\n",
      "23  49.61    70.21\n",
      "24  26.20    19.57\n",
      "25  38.95    25.12\n",
      "26  27.72    15.49\n",
      "27  36.66    23.25\n",
      "28  36.64    58.50\n",
      "29 111.45    88.91\n"
     ]
    }
   ],
   "source": [
    "import numpy as np\n",
    "import pandas as pd\n",
    "from sympy import sympify, symbols, lambdify \n",
    "# sympy 라이브러리 추가\n",
    "\n",
    "# 1. KAN 모델에서 직접 심볼릭 수식 문자열을 가져오기\n",
    "formula_str = model.symbolic_formula()[0][0] # 실제 모델에서 가져오는 코드\n",
    "\n",
    "print(f\"▶ 자동으로 감지된 수식: y = {formula_str}\\n\")\n",
    "\n",
    "# 2. 모든 변수(x_1 ~ x_8)를 기호로 정의\n",
    "num_features = len(feature_names)\n",
    "x_vars = symbols(f'x_1:{num_features + 2}')\n",
    "\n",
    "# 3. 문자열 수식을 실제 계산 가능한 함수로 변환합니다. (핵심 부분)\n",
    "#    lambdify는 sympy 수식을 매우 빠른 numpy 함수로 바꿔주는 기능입니다.\n",
    "symbolic_func = lambdify(x_vars, sympify(formula_str), 'numpy')\n",
    "\n",
    "# 4. 새로운 '만능' 예측 함수를 정의합니다.\n",
    "def auto_symbolic_prediction(x_norm):\n",
    "    \"\"\"\n",
    "    정규화된 입력 데이터(x_norm)를 받아,\n",
    "    자동으로 생성된 symbolic_func를 사용해 예측값을 반환합니다.\n",
    "    \"\"\"\n",
    "    # x_norm 배열의 각 열을 개별 인자로 분리하여 함수에 전달합니다.\n",
    "    # 예: symbolic_func(x_norm[:,0], x_norm[:,1], ..., x_norm[:,7])\n",
    "    # x_norm.T는 배열을 전치하여 각 행이 변수가 되도록 합니다.\n",
    "    return symbolic_func(*x_norm.T)\n",
    "\n",
    "# --- [자동화된 수식 처리 부분 끝] ---\n",
    "\n",
    "\n",
    "# 2. 역정규화에 사용되는 수식 출력 (이전과 동일)\n",
    "min_val = scaler_y.min_[0]\n",
    "scale_range = 1 / scaler_y.scale_[0]\n",
    "print(\"==============================================================\")\n",
    "print(\"### 역정규화 (Inverse Normalization)에 사용되는 수식 ###\")\n",
    "print(f\"실제값 = (정규화된 값 * (최대값 - 최소값)) + 최소값\")\n",
    "print(f\"실제값 = (정규화된 값 * {scale_range:.4f}) + {min_val:.4f}\")\n",
    "print(\"==============================================================\\n\")\n",
    "\n",
    "\n",
    "# 4. 테스트 데이터셋 전체를 사용하여 예측을 수행합니다.\n",
    "test_input_norm = dataset['test_input']\n",
    "# 여기서 새롭게 정의한 자동화 함수를 호출합니다!\n",
    "y_pred_norm = auto_symbolic_prediction(test_input_norm)\n",
    "\n",
    "\n",
    "# 5. 이후 모든 코드는 이전과 완전히 동일합니다.\n",
    "y_pred_norm_reshaped = y_pred_norm.reshape(-1, 1)\n",
    "y_pred_real_scale = scaler_y.inverse_transform(y_pred_norm_reshaped)\n",
    "y_true_real_scale = scaler_y.inverse_transform(dataset['test_label'])\n",
    "results_df = pd.DataFrame({\n",
    "    '실제값 ': y_true_real_scale.flatten(),\n",
    "    '수식 예측값 ': y_pred_real_scale.flatten()\n",
    "})\n",
    "pd.options.display.float_format = '{:.2f}'.format\n",
    "\n",
    "print(\"--------- [단순화된 수식 모델]의 예측 성능 ---------\")\n",
    "print(results_df.head(30))\n"
   ]
  }
 ],
 "metadata": {
  "kernelspec": {
   "display_name": "venv",
   "language": "python",
   "name": "python3"
  },
  "language_info": {
   "codemirror_mode": {
    "name": "ipython",
    "version": 3
   },
   "file_extension": ".py",
   "mimetype": "text/x-python",
   "name": "python",
   "nbconvert_exporter": "python",
   "pygments_lexer": "ipython3",
   "version": "3.11.9"
  }
 },
 "nbformat": 4,
 "nbformat_minor": 5
}
