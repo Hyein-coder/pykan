{
 "cells": [
  {
   "cell_type": "markdown",
   "id": "0895cbba",
   "metadata": {},
   "source": [
    "## CO2RR 공정 datasheet 분석"
   ]
  },
  {
   "cell_type": "markdown",
   "id": "4e0157fd",
   "metadata": {},
   "source": [
    "----------------------------------"
   ]
  },
  {
   "cell_type": "markdown",
   "id": "499fd6e3",
   "metadata": {},
   "source": [
    "-------"
   ]
  },
  {
   "cell_type": "markdown",
   "id": "4d576959",
   "metadata": {},
   "source": [
    "Output 중 Required energy_total (MJ/kgCO), MSP 분석 예정"
   ]
  },
  {
   "cell_type": "markdown",
   "id": "bd5404b7",
   "metadata": {},
   "source": [
    "step0. 라이브러리 정리"
   ]
  },
  {
   "cell_type": "code",
   "execution_count": 1,
   "id": "ed16aea4",
   "metadata": {},
   "outputs": [
    {
     "name": "stdout",
     "output_type": "stream",
     "text": [
      "cpu\n"
     ]
    }
   ],
   "source": [
    "import pandas as pd\n",
    "import numpy as np\n",
    "import torch\n",
    "from sklearn.preprocessing import StandardScaler\n",
    "from sklearn.model_selection import train_test_split\n",
    "from sklearn.metrics import mean_squared_error, r2_score\n",
    "from kan import KAN\n",
    "from kan.utils import ex_round\n",
    "device = torch.device('cuda' if torch.cuda.is_available() else 'cpu')\n",
    "print(device)"
   ]
  },
  {
   "cell_type": "markdown",
   "id": "f34c39e8",
   "metadata": {},
   "source": [
    "step1. 엑셀 파일 불러오기"
   ]
  },
  {
   "cell_type": "code",
   "execution_count": null,
   "id": "c0466943",
   "metadata": {},
   "outputs": [],
   "source": [
    "# 엑셀 데이터 로드 \n",
    "filepath = r\"C:\\Users\\kepco201\\Desktop\\KAN_python\\pykan-master\\.github\\workflows\\TaeWoong\\25.01.14_CO2RR_GSA.xlsx\"\n",
    "xls = pd.ExcelFile(filepath) \n",
    "df_in  = pd.read_excel(xls, sheet_name='Input')\n",
    "df_out = pd.read_excel(xls, sheet_name='Output')\n",
    "\n"
   ]
  },
  {
   "cell_type": "markdown",
   "id": "12dafb3a",
   "metadata": {},
   "source": [
    "step2.결측값 대체 및 이상치 제거"
   ]
  },
  {
   "cell_type": "raw",
   "id": "d0c919d6",
   "metadata": {
    "vscode": {
     "languageId": "raw"
    }
   },
   "source": [
    "# [기존 step2]\n",
    "# df_in  = df_in.fillna(df_in.mean(numeric_only=True))\n",
    "# df_out = df_out.fillna(df_out.mean(numeric_only=True))\n",
    "\n",
    "# [수정된 step2] : 결측치가 있는 행 삭제\n",
    "\n",
    "# 1. 삭제 전 데이터 크기 확인\n",
    "print(f\"결측값 삭제 전 Input 데이터 크기: {df_in.shape}\")\n",
    "print(f\"결측값 삭제 전 Output 데이터 크기: {df_out.shape}\")\n",
    "\n",
    "# 2. 결측치가 있는 행 삭제\n",
    "# 두 데이터프레임의 인덱스를 맞추기 위해, 한쪽에서 삭제된 인덱스를 다른 쪽에도 적용\n",
    "na_rows_in = df_in.isnull().any(axis=1)\n",
    "na_rows_out = df_out.isnull().any(axis=1)\n",
    "rows_to_drop = na_rows_in | na_rows_out # 둘 중 하나라도 결측치가 있으면 삭제 대상\n",
    "\n",
    "df_in_cleaned = df_in[~rows_to_drop]\n",
    "df_out_cleaned = df_out[~rows_to_drop]\n",
    "\n",
    "# 3. 삭제 후 데이터 크기 확인\n",
    "print(f\"결측값 삭제 후 Input 데이터 크기: {df_in_cleaned.shape}\")\n",
    "print(f\"결측값 삭제 후 Output 데이터 크기: {df_out_cleaned.shape}\")\n",
    "\n",
    "# 이후 step3 에서는 df_in_cleaned와 df_out_cleaned 를 사용합니다.\n",
    "# X = df_in_cleaned[[...]].values\n",
    "# y = df_out_cleaned[[...]].values.reshape(-1, 1)\n",
    "\n",
    "\n"
   ]
  },
  {
   "cell_type": "markdown",
   "id": "77407cf1",
   "metadata": {},
   "source": [
    "이상치 제거 / 전체 데이터의 10% 이내로 극소량만 제거"
   ]
  },
  {
   "cell_type": "code",
   "execution_count": null,
   "id": "cb9b8719",
   "metadata": {},
   "outputs": [
    {
     "name": "stdout",
     "output_type": "stream",
     "text": [
      "--- 이상치 제거 시작 ---\n",
      "이상치 제거 전 데이터 수: 2501 개\n",
      "이상치 제거 후 데이터 수: 2378 개 (123 개 제거됨)\n",
      "--- 이상치 제거 완료 ---\n",
      "\n"
     ]
    }
   ],
   "source": [
    "# 이상치(Outlier) 제거 (IQR 방식) ---\n",
    "\n",
    "print(\"--- 이상치 제거 시작 ---\")\n",
    "\n",
    "\n",
    "print(f\"이상치 제거 전 데이터 수: {len(df_in)} 개\")   # len(df_in) 을 통해 이상치 제거 전 데이터 길이(개수) 출력\n",
    "\n",
    "\n",
    "def remove_outliers_iqr(df_in, df_out):              # outlier 제거 함수 정의\n",
    "    \n",
    "    combined_df = pd.concat([df_in, df_out], axis=1) # pd.concat = 2개를 합치기 // 입력 변수(X)와 출력 변수(y)를 합쳐서 전체 데이터프레임 생성 // x랑 y를 한번에 고려\n",
    "                                                     # axis = 1 --- 오른쪽으로 합치기 --- 데이터 구조를 보면 예쁘게 정리가 된다\n",
    "    \n",
    "    numeric_cols = combined_df.select_dtypes(include=np.number).columns  # .select_dtypes 를 통해 특정 열만 출력 outlier 를 탐지할 숫자형 컬럼만 선택\n",
    "                                    # numeric_cols = 숫자로만 구성된 열들의 이름 리스트 (.colums = 그 열의 이름을 리스트로 출력)\n",
    "\n",
    "    # 각 컬럼에 대해 이상치 경계 계산 \n",
    "    Q1 = combined_df[numeric_cols].quantile(0.25)   # .quantile(0.25) = 데이터를 오름차순으로 정렬했을 떄 하위 25% 지점 \n",
    "    Q3 = combined_df[numeric_cols].quantile(0.75)   # .quantile(0.75) = 데이터를 오름차순으로 정렬했을 떄 상위 25% 지점 \n",
    "    IQR = Q3 - Q1 # IQR은 대략 상위 25% - 상위75% = 중간정도의 값에 해당\n",
    "    \n",
    "    lower_bound = Q1 - 6 * IQR  # 보통은 1.5* IQR을 진행하지만 최대한 삭제되는 데이터가 적도록 진행\n",
    "    upper_bound = Q3 + 6 * IQR\n",
    "    \n",
    "\n",
    "    # 밑의 줄은 공부를 더 해보자\n",
    "    # 모든 컬럼에 대해 정상 범위 내에 있는 데이터만 True로 표시\n",
    "    # (row의 어떤 컬럼이라도 이상치면 해당 row 전체가 False가 됨)\n",
    "    condition = ~((combined_df[numeric_cols] < lower_bound) | (combined_df[numeric_cols] > upper_bound)).any(axis=1)\n",
    "    \n",
    "\n",
    "    # 정상 범위에 있는 데이터만 필터링\n",
    "    df_in_no_outliers = df_in[condition]\n",
    "    df_out_no_outliers = df_out[condition]\n",
    "    \n",
    "    return df_in_no_outliers, df_out_no_outliers\n",
    "\n",
    "# 3. 함수를 사용하여 이상치 제거\n",
    "#    이전에 결측치를 제거한 df_in_cleaned, df_out_cleaned를 사용합니다.\n",
    "df_in_final, df_out_final = remove_outliers_iqr(df_in, df_out)\n",
    "\n",
    "\n",
    "# 4. 이상치 제거 후 남은 데이터 개수 확인\n",
    "removed_count = len(df_in) - len(df_in_final)  # 몇 개 지웠는지 세기\n",
    "print(f\"이상치 제거 후 데이터 수: {len(df_in_final)} 개 ({removed_count} 개 제거됨)\")\n",
    "print(\"--- 이상치 제거 완료 ---\\n\")\n",
    "\n",
    "\n",
    "# 이제 'df_in_final'과 'df_out_final'을 사용하자\n",
    "\n",
    "\n",
    "\n",
    "\n",
    "# 입력 변수(X) 선택\n",
    "# 모델이 '총 필요 에너지'를 예측하는 데 사용할 정보(컬럼)들을 선택\n",
    "X = df_in_final[[\n",
    "    \"Current density (mA/cm2)\", \n",
    "    \"Faradaic efficiency (%)\", \n",
    "    \"CO coversion\",\n",
    "    \"Voltage (V)\", \n",
    "    \"Electricity cost ($/kWh)\", \n",
    "    \"Membrain cost ($/m2)\",\n",
    "    \"Catpure energy (GJ/ton)\", \n",
    "    \"Crossover rate\"\n",
    "]].values\n",
    "\n",
    "\n",
    "\n",
    "## 이 밑의 코드 수정하기!!!! \n",
    "\n",
    "# 출력 변수(y) 선택\n",
    "# 모델이 최종적으로 맞춰야 할 정답(타겟)을 선택\n",
    "y = df_out_final['Required energy_total (MJ/kgCO)'].values.reshape(-1, 1)\n"
   ]
  },
  {
   "cell_type": "markdown",
   "id": "e01c4177",
   "metadata": {},
   "source": [
    "이상치 제거 후 X, Y 정의하기"
   ]
  },
  {
   "cell_type": "code",
   "execution_count": null,
   "id": "2044e67e",
   "metadata": {},
   "outputs": [],
   "source": [
    "# 입력 변수(X) 선택\n",
    "# 모델이 '총 필요 에너지'를 예측하는 데 사용할 정보(컬럼)들을 선택\n",
    "X = df_in_final[[\n",
    "    \"Current density (mA/cm2)\", \n",
    "    \"Faradaic efficiency (%)\", \n",
    "    \"CO coversion\",\n",
    "    \"Voltage (V)\", \n",
    "    \"Electricity cost ($/kWh)\", \n",
    "    \"Membrain cost ($/m2)\",\n",
    "    \"Catpure energy (GJ/ton)\", \n",
    "    \"Crossover rate\"\n",
    "]].values\n",
    "\n",
    "\n",
    "\n",
    "## 이 밑의 코드 수정하기!!!! \n",
    "\n",
    "# 출력 변수(y) 선택\n",
    "# 모델이 최종적으로 맞춰야 할 정답(타겟)을 선택\n",
    "y = df_out_final['Required energy_total (MJ/kgCO)'].values.reshape(-1, 1)"
   ]
  },
  {
   "cell_type": "markdown",
   "id": "c1592a6a",
   "metadata": {},
   "source": [
    "step3. 엑셀 파일 속 data 추출 및 !predict 할 데이터 이름 입력!"
   ]
  },
  {
   "cell_type": "code",
   "execution_count": null,
   "id": "b7eba938",
   "metadata": {},
   "outputs": [
    {
     "name": "stdout",
     "output_type": "stream",
     "text": [
      "[[1.97379048e+03 9.73836465e-01 3.72471012e-02 ... 2.89292283e+02\n",
      "  3.14514194e+00 1.49940024e-01]\n",
      " [1.95631747e+03 9.63060776e-01 5.54118353e-02 ... 2.92153805e+02\n",
      "  3.24190324e+00 2.49900040e-01]\n",
      " [1.93884446e+03 9.52285086e-01 7.35765694e-02 ... 2.95015327e+02\n",
      "  3.33866453e+00 3.49860056e-01]\n",
      " ...\n",
      " [1.61155538e+02 5.37714914e-01 5.36423431e-01 ... 3.38318006e+02\n",
      "  4.66133547e+00 1.65013994e+00]\n",
      " [1.43682527e+02 5.26939224e-01 5.54588165e-01 ... 3.41179528e+02\n",
      "  4.75809676e+00 1.75009996e+00]\n",
      " [1.26209516e+02 5.16163535e-01 5.72752899e-01 ... 3.44041050e+02\n",
      "  4.85485806e+00 1.85005998e+00]]\n",
      "====================\n",
      "[[137.83276055]\n",
      " [ 97.65612097]\n",
      " [ 77.61576681]\n",
      " ...\n",
      " [ 47.34602399]\n",
      " [ 50.01962389]\n",
      " [ 53.6021701 ]]\n"
     ]
    }
   ],
   "source": [
    "# 입력·출력 변수 선택 및 numpy 변환    # outlier 삭제를 원하지 않을시에는 df_in_final 을 df_in으로, df_out_final을 df_out으로 바꾸면 된다\n",
    "X = df_in_final[[\n",
    "    \"Current density (mA/cm2)\", \"Faradaic efficiency (%)\", \"CO coversion\",\n",
    "    \"Voltage (V)\", \"Electricity cost ($/kWh)\",\n",
    "    \"Membrain cost ($/m2)\", \"Catpure energy (GJ/ton)\",  # catpure energy? excel 파일에서 이렇게 오타가 났기에 그냥 사용\n",
    "    \"Crossover rate\"\n",
    "]].values\n",
    "\n",
    "\n",
    "\n",
    "\n",
    "predicting = \"Required energy_total (MJ/kgCO)\" # 다른 output 변수 보고싶으면 이거 보면 됨 # Required energy_total (MJ/kgCO) # MSP ($/kgCO)\n",
    "###### 이거를 수정해서 다른 output도 보자\n",
    "\n",
    "y = df_out_final[predicting].values.reshape(-1, 1)   # df_out_final[] 는 pandas datatframe이기에 이것을 skitlearn 이나 Keras 형태로 바꾸기 -- 그래야 \n",
    "                                                     # .values 를 통해 Numpy 배열로 변환 (값만 뽑기 때문) # 그 후에 reshape(-1.1) 을 통해 \n",
    "                                                     # .reshape()을 이용해 열 1개\n",
    "print(X)\n",
    "print(\"====================\")\n",
    "print(y)\n",
    "\n",
    "\n",
    "\n",
    "\n"
   ]
  },
  {
   "cell_type": "markdown",
   "id": "39df47d1",
   "metadata": {},
   "source": [
    "step4. train_set, valadation_set, test_set 만들기 (64:16:20) 우측 하단 RAW로 일단 설정해놓음 나중에 python으로 바꾸기"
   ]
  },
  {
   "cell_type": "code",
   "execution_count": null,
   "id": "c5e4f043",
   "metadata": {},
   "outputs": [
    {
     "name": "stdout",
     "output_type": "stream",
     "text": [
      "[[6.39764094e+02 8.75483806e-01 2.88958417e-01 ... 3.31531387e+02\n",
      "  3.22830868e+00 3.92243103e-01]\n",
      " [1.92303079e+02 6.42141144e-01 1.31609356e-01 ... 3.46927896e+02\n",
      "  3.07636945e+00 1.13674530e+00]\n",
      " [1.80057977e+03 5.59070372e-01 2.64424230e-01 ... 3.34950020e+02\n",
      "  3.93042783e+00 1.81567373e+00]\n",
      " ...\n",
      " [1.23612555e+03 6.04132347e-01 1.88462615e-01 ... 2.99953352e+02\n",
      "  4.33506597e+00 1.76129548e+00]\n",
      " [1.70637745e+03 6.59774090e-01 1.61333467e-01 ... 3.05549780e+02\n",
      "  3.23470612e+00 1.97241104e+00]\n",
      " [1.03100760e+03 8.20625750e-01 1.96483407e-01 ... 3.39052379e+02\n",
      "  3.72091164e+00 1.93482607e+00]]\n",
      "전체 데이터셋 크기: 2378\n",
      "훈련셋 크기: 1521 (64.0%)\n",
      "검증셋 크기: 381 (16.0%)\n",
      "테스트셋 크기: 476 (20.0%)\n"
     ]
    }
   ],
   "source": [
    "# 1단계: 먼저 train+val과 test로 분할 (80:20)\n",
    "X_temp, X_test, y_temp, y_test = train_test_split(X, y, test_size=0.2, random_state=42)\n",
    "\n",
    "\n",
    "# 2단계: train+val을 train과 val로 분할 (64:16, 전체 대비)\n",
    "X_train, X_val, y_train, y_val = train_test_split(X_temp, y_temp, test_size=0.2, random_state=42)  # 0.2 × 0.8 = 0.16 (전체의 16%)\n",
    "\n",
    "\n",
    "# 최종 비율 확인\n",
    "# (X[:,0])~(X[:,7]) 에 각각의 입력변수들의 값들이 각각 저장됨\n",
    "\n",
    "\n",
    "\n",
    "print(X_val)\n",
    "print(f\"전체 데이터셋 크기: {len(X)}\")\n",
    "print(f\"훈련셋 크기: {len(X_train)} ({len(X_train)/len(X)*100:.1f}%)\")\n",
    "print(f\"검증셋 크기: {len(X_val)} ({len(X_val)/len(X)*100:.1f}%)\")  \n",
    "print(f\"테스트셋 크기: {len(X_test)} ({len(X_test)/len(X)*100:.1f}%)\")\n",
    "\n",
    "\n"
   ]
  },
  {
   "cell_type": "markdown",
   "id": "c8e1d9a9",
   "metadata": {},
   "source": [
    "step4-1. 층화추출(Stratified Sampling on y)을 하고 싶을 때 step4 대신 실행 / 데이터의 밀도가 다른 점을 고려"
   ]
  },
  {
   "cell_type": "raw",
   "id": "836e051a",
   "metadata": {
    "vscode": {
     "languageId": "raw"
    }
   },
   "source": [
    "\n",
    "\n",
    "# ===================================================================\n",
    "# Step 4: 데이터 분할 (훈련/검증/테스트 6:2:2, 층화 추출 적용)\n",
    "# ===================================================================\n",
    "\n",
    "from sklearn.model_selection import train_test_split\n",
    "import pandas as pd\n",
    "import numpy as np\n",
    "\n",
    "print(\"--- 데이터 분할 시작 (훈련/검증/테스트, 층화 추출 방식) ---\")\n",
    "\n",
    "# 1. 층화 추출을 위한 y값 그룹(strata) 생성\n",
    "num_bins = 5\n",
    "try:\n",
    "    y_binned = pd.cut(y.flatten(), bins=num_bins, labels=False)\n",
    "    stratify_option = y_binned\n",
    "    print(f\"y값을 {num_bins}개 구간으로 나누어 층화 추출을 진행합니다.\")\n",
    "except ValueError as e:\n",
    "    print(f\"경고: y값으로 층화 추출을 시도했으나 실패했습니다. ({e})\")\n",
    "    print(\"일반 무작위 추출 방식으로 전환합니다.\")\n",
    "    stratify_option = None\n",
    "\n",
    "# 2. 먼저, 훈련+검증 데이터(80%)와 최종 테스트 데이터(20%)로 분할합니다.\n",
    "X_train_val, X_test, y_train_val, y_test = train_test_split(\n",
    "    X, y, \n",
    "    test_size=0.2, \n",
    "    random_state=42, \n",
    "    stratify=stratify_option\n",
    ")\n",
    "\n",
    "# 3. 다음으로, 훈련+검증 데이터(X_train_val)를 다시 훈련 데이터(75%)와 검증 데이터(25%)로 분할합니다.\n",
    "#    (전체 데이터의 80% 중 75%는 60%, 25%는 20%에 해당하여, 최종적으로 60:20:20 비율이 됩니다.)\n",
    "\n",
    "# 층화 추출을 두 번째 분할에도 일관되게 적용하기 위해 y_train_val 그룹을 다시 만듭니다.\n",
    "try:\n",
    "    y_train_val_binned = pd.cut(y_train_val.flatten(), bins=num_bins, labels=False)\n",
    "    stratify_option_2 = y_train_val_binned\n",
    "except ValueError:\n",
    "    stratify_option_2 = None # 분할이 불가능하면 일반 추출\n",
    "\n",
    "X_train, X_val, y_train, y_val = train_test_split(\n",
    "    X_train_val, y_train_val,\n",
    "    test_size=0.25, # 80% 중 25%는 전체의 20%\n",
    "    random_state=42,\n",
    "    stratify=stratify_option_2\n",
    ")\n",
    "\n",
    "print(\"\\n--- 최종 분할 후 데이터셋 크기 ---\")\n",
    "print(f\"훈련 데이터 (X_train): {X_train.shape}\")\n",
    "print(f\"검증 데이터 (X_val): {X_val.shape}\")\n",
    "print(f\"테스트 데이터 (X_test): {X_test.shape}\")\n",
    "print(\"\\n--- 데이터 분할 완료 ---\")\n",
    "\n"
   ]
  },
  {
   "cell_type": "markdown",
   "id": "9cd52a27",
   "metadata": {},
   "source": [
    "step5. 데이터 정규화(normalization)_전처리 과정"
   ]
  },
  {
   "cell_type": "code",
   "execution_count": null,
   "id": "7c5cc170",
   "metadata": {},
   "outputs": [
    {
     "name": "stdout",
     "output_type": "stream",
     "text": [
      "정규화 후 통계:\n",
      "X_train_norm: mean=0.4987, std=0.2885\n",
      "X_val_norm: mean=0.5042, std=0.2888\n",
      "X_test_norm: mean=0.5027, std=0.2894\n",
      "y_train_norm: mean=0.1659, std=0.1544\n",
      "y_val_norm: mean=0.1660, std=0.1695\n",
      "y_test_norm: mean=0.1741, std=0.1645\n"
     ]
    }
   ],
   "source": [
    "# 중요: 훈련 데이터(X_train, y_train)의 최소/최대값을 기준으로 스케일러를 학습(fit)하고,\n",
    "# 이 기준으로 모든 데이터셋(train, val, test)을 동일하게 변환합니다.\n",
    "# 이렇게 해야 테스트 과정에서 미래 정보(테스트셋의 최소/최대값)가 모델에 유출되는 것을 막을 수 있다.\n",
    "# validation dataset이나 test data로 스케일링을 할 시 데이터 누수 발생 가능\n",
    "\n",
    "from sklearn.preprocessing import MinMaxScaler\n",
    "import numpy as np\n",
    "\n",
    "\n",
    "\n",
    "# 1. MinMaxScaler 객체 생성 --- 범위를 0.1~0.9로 재설정\n",
    "scaler_X = MinMaxScaler(feature_range=(0.1, 0.9))\n",
    "scaler_y = MinMaxScaler(feature_range=(0.1, 0.9))\n",
    "\n",
    "\n",
    "\n",
    "\n",
    "X_train_norm = scaler_X.fit_transform(X_train) # 훈련 데이터로 스케일러 학습 및 변환 (fit_transform)\n",
    "y_train_norm = scaler_y.fit_transform(y_train) # X_train의 각 변수(컬럼)별로 최소값은 0, 최대값은 1이 되도록 변환됩니다.\n",
    "\n",
    "# 3. 학습된 스케일러로 검증 및 테스트 데이터 변환 (transform)\n",
    "# X_train의 기준으로 나머지 데이터들을 변환합니다.\n",
    "X_val_norm = scaler_X.transform(X_val)\n",
    "X_test_norm = scaler_X.transform(X_test)\n",
    "\n",
    "y_val_norm = scaler_y.transform(y_val)   # y_val 과 y_test 도 y_train 의 정규분포를 따라 변환된다\n",
    "y_test_norm = scaler_y.transform(y_test)\n",
    "\n",
    "\n",
    "#print(X_train_norm)\n",
    "\n",
    "#print(X_val_norm)\n",
    "\n",
    "#print(X_test_norm)\n",
    "\n",
    "#print(y_train_norm)\n",
    "\n",
    "#print(y_val_norm)\n",
    "\n",
    "#print(y_test_norm)\n",
    "\n",
    "# X_train_norm 은 [[x0~x7], [x0~x7],....,[x0~x7]] 에서 각 x0~x7은 각 열마다 각각 범위가 0~1로 범위가 변환됨\n",
    "# 이 변환된 정도를 X_val_norm 과 X_test_norm도 적용받음\n",
    "\n",
    "# 정규화 후 통계 확인\n",
    "print(\"정규화 후 통계:\")\n",
    "print(f\"X_train_norm: mean={X_train_norm.mean():.4f}, std={X_train_norm.std():.4f}\")\n",
    "print(f\"X_val_norm: mean={X_val_norm.mean():.4f}, std={X_val_norm.std():.4f}\")\n",
    "print(f\"X_test_norm: mean={X_test_norm.mean():.4f}, std={X_test_norm.std():.4f}\")\n",
    "print(f\"y_train_norm: mean={y_train_norm.mean():.4f}, std={y_train_norm.std():.4f}\")\n",
    "print(f\"y_val_norm: mean={y_val_norm.mean():.4f}, std={y_val_norm.std():.4f}\")\n",
    "print(f\"y_test_norm: mean={y_test_norm.mean():.4f}, std={y_test_norm.std():.4f}\")\n",
    "\n"
   ]
  },
  {
   "cell_type": "markdown",
   "id": "9ad59c20",
   "metadata": {},
   "source": [
    "step6. tensor 변환"
   ]
  },
  {
   "cell_type": "code",
   "execution_count": 7,
   "id": "482b4c61",
   "metadata": {},
   "outputs": [
    {
     "name": "stdout",
     "output_type": "stream",
     "text": [
      "모든 텐서가 cpu에 배치됨\n"
     ]
    }
   ],
   "source": [
    "# 모든 데이터셋을 텐서로 변환 \n",
    "X_train_tensor = torch.tensor(X_train_norm, dtype=torch.float32, device=device)\n",
    "X_val_tensor = torch.tensor(X_val_norm, dtype=torch.float32, device=device)\n",
    "X_test_tensor = torch.tensor(X_test_norm, dtype=torch.float32, device=device)\n",
    "y_train_tensor = torch.tensor(y_train_norm, dtype=torch.float32, device=device)\n",
    "y_val_tensor = torch.tensor(y_val_norm, dtype=torch.float32, device=device)\n",
    "y_test_tensor = torch.tensor(y_test_norm, dtype=torch.float32, device=device)\n",
    "\n",
    "print(f\"모든 텐서가 {device}에 배치됨\")\n"
   ]
  },
  {
   "cell_type": "markdown",
   "id": "996a7ee0",
   "metadata": {},
   "source": [
    "step7. dataset dictionary 만들기"
   ]
  },
  {
   "cell_type": "code",
   "execution_count": 8,
   "id": "d8165a42",
   "metadata": {},
   "outputs": [
    {
     "name": "stdout",
     "output_type": "stream",
     "text": [
      "train_input: torch.Size([1521, 8])\n",
      "train_label: torch.Size([1521, 1])\n",
      "val_input: torch.Size([381, 8])\n",
      "val_label: torch.Size([381, 1])\n",
      "test_input: torch.Size([476, 8])\n",
      "test_label: torch.Size([476, 1])\n"
     ]
    }
   ],
   "source": [
    "dataset = {'train_input': X_train_tensor,'train_label': y_train_tensor,\n",
    "            'val_input': X_val_tensor, 'val_label': y_val_tensor,\n",
    "            'test_input': X_test_tensor,'test_label': y_test_tensor }\n",
    "\n",
    "# 데이터셋 크기 확인\n",
    "for key, value in dataset.items():\n",
    "    print(f\"{key}: {value.shape}\")\n",
    "\n",
    "#여기까지도 문제 없는듯\n"
   ]
  },
  {
   "cell_type": "markdown",
   "id": "a365df2c",
   "metadata": {},
   "source": [
    "step8. Validation set 및 test set의 성능을 평가하는 함수 정의(뒤의 step 13과 중복되는 듯 하다)"
   ]
  },
  {
   "cell_type": "raw",
   "id": "16def304",
   "metadata": {
    "vscode": {
     "languageId": "raw"
    }
   },
   "source": [
    "# validation set으로 성능을 평가하는 함수 만들기\n",
    "def evaluate_model_performance(model, dataset, scaler_y, phase=\"validation\"):    # phase = validation 아니면 test 이다\n",
    "    \n",
    "    \n",
    "    if phase == \"validation\":\n",
    "        input_tensor = dataset['val_input']\n",
    "        label_tensor = dataset['val_label']\n",
    "    elif phase == \"test\":\n",
    "        input_tensor = dataset['test_input']\n",
    "        label_tensor = dataset['test_label']\n",
    "    else:\n",
    "        raise ValueError(\"phase는 'validation' 또는 'test'만 가능합니다\")\n",
    "    \n",
    "    # 예측 수행\n",
    "    with torch.no_grad():\n",
    "        pred_norm = model(input_tensor) #input_tensor 는 KAN이 받는 새로운 입력값인 val_inut or test_input / pred_norm은 그에 대한 출력값\n",
    "    \n",
    "    # 역정규화\n",
    "    pred_real = scaler_y.inverse_transform(pred_norm.cpu().detach().numpy())   # pred_real 은 0~1 사이의 입력 val_input or test_input을 받고 출력된 값은 다시 역정규화 한 실제 출력값\n",
    "    label_real = scaler_y.inverse_transform(label_tensor.cpu().detach().numpy()) # label_real은 0~1 사이의 입력 val_label or test_label을 받고 출력한 값 역정규화\n",
    "    # inverse_transform 함수는  numpy 를 입력으로 받기 떄문에 pytorch tensor를 cpu로 옮기고 numpy로 변환\n",
    "    \n",
    "    \n",
    "    # 성능 지표 계산 from 역정규화된 label_real, pred_real 값들 from val input or test input + numpy에서 계산\n",
    "    rmse = np.sqrt(mean_squared_error(label_real, pred_real)) \n",
    "    r2 = r2_score(label_real, pred_real)  #1에 가까울수록 좋다\n",
    "    mae = np.mean(np.abs(label_real - pred_real)) # 오차 절댓값 평균\n",
    "    \n",
    "    print(f\"{phase} SET 성능 평가\") # phase = validation 또는 test \n",
    "    print(f\"RMSE: {rmse:.4f}\")\n",
    "    print(f\"R²: {r2:.4f}\")\n",
    "    print(f\"MAE: {mae:.4f}\")\n",
    "    \n",
    "    print(f\"실제값 평균: {label_real.mean():.4f}\")  #label_real의 평균값(실제값)\n",
    "    print(f\"예측값 평균: {pred_real.mean():.4f}\")   #pred_real의 평균값(KAN 모델로 예측한 값)\n",
    "    \n",
    "    return pred_real, label_real, {'rmse': rmse, 'r2': r2, 'mae': mae}"
   ]
  },
  {
   "cell_type": "markdown",
   "id": "7f52eab5",
   "metadata": {},
   "source": [
    "step8. 1개의 KAN 모델 생성"
   ]
  },
  {
   "cell_type": "code",
   "execution_count": 9,
   "id": "227d86c0",
   "metadata": {},
   "outputs": [
    {
     "name": "stdout",
     "output_type": "stream",
     "text": [
      "checkpoint directory created: ./model\n",
      "saving model version 0.0\n"
     ]
    }
   ],
   "source": [
    "# KAN 모델 생성\n",
    "model = KAN(width=[8,12,1], grid=3, k=3, seed=42, device=device)"
   ]
  },
  {
   "cell_type": "markdown",
   "id": "d6debc95",
   "metadata": {},
   "source": [
    "step9. KAN 학습 및 prune 후 재학습"
   ]
  },
  {
   "cell_type": "code",
   "execution_count": 10,
   "id": "947446ce",
   "metadata": {},
   "outputs": [
    {
     "name": "stderr",
     "output_type": "stream",
     "text": [
      "| train_loss: 3.13e-02 | test_loss: 3.29e-02 | reg: 2.69e+00 | : 100%|█| 50/50 [00:26<00:00,  1.89it\n"
     ]
    },
    {
     "name": "stdout",
     "output_type": "stream",
     "text": [
      "saving model version 0.1\n"
     ]
    },
    {
     "data": {
      "image/png": "[encoded data removed]",
      "text/plain": [
       "<Figure size 500x400 with 122 Axes>"
      ]
     },
     "metadata": {},
     "output_type": "display_data"
    }
   ],
   "source": [
    "# KAN 학습\n",
    "model.fit(dataset, opt=\"LBFGS\", steps=50, lamb=0.004)\n",
    "model.plot()"
   ]
  },
  {
   "cell_type": "code",
   "execution_count": 11,
   "id": "97aa8bd6",
   "metadata": {},
   "outputs": [
    {
     "name": "stdout",
     "output_type": "stream",
     "text": [
      "saving model version 0.2\n"
     ]
    },
    {
     "data": {
      "image/png": "[encoded data removed]",
      "text/plain": [
       "<Figure size 500x400 with 12 Axes>"
      ]
     },
     "metadata": {},
     "output_type": "display_data"
    }
   ],
   "source": [
    "#pruning\n",
    "model = model.prune(node_th=1e-2, edge_th=3e-2)  # 더 자르고 싶으면 값을 높이고, 덜 자르고 변수를 많이 있게 하고 싶으면 값을 낮추기\n",
    "model.plot()"
   ]
  },
  {
   "cell_type": "code",
   "execution_count": 12,
   "id": "52219276",
   "metadata": {},
   "outputs": [
    {
     "name": "stderr",
     "output_type": "stream",
     "text": [
      "| train_loss: 1.85e-02 | test_loss: 1.93e-02 | reg: 4.39e+00 | : 100%|█| 50/50 [00:09<00:00,  5.12it\n"
     ]
    },
    {
     "name": "stdout",
     "output_type": "stream",
     "text": [
      "saving model version 0.3\n"
     ]
    },
    {
     "data": {
      "image/png": "[encoded data removed]",
      "text/plain": [
       "<Figure size 500x400 with 12 Axes>"
      ]
     },
     "metadata": {},
     "output_type": "display_data"
    }
   ],
   "source": [
    "#학습\n",
    "model.fit(dataset, opt=\"LBFGS\", steps=50, update_grid=False)\n",
    "model.plot()"
   ]
  },
  {
   "cell_type": "markdown",
   "id": "6d477e33",
   "metadata": {},
   "source": [
    "step10. KAN refine(grid extension) 후 재학습"
   ]
  },
  {
   "cell_type": "code",
   "execution_count": 13,
   "id": "29921454",
   "metadata": {},
   "outputs": [
    {
     "name": "stdout",
     "output_type": "stream",
     "text": [
      "saving model version 0.4\n"
     ]
    },
    {
     "name": "stderr",
     "output_type": "stream",
     "text": [
      "| train_loss: 1.51e-02 | test_loss: 1.90e-02 | reg: 4.36e+00 | : 100%|█| 50/50 [00:15<00:00,  3.24it\n"
     ]
    },
    {
     "name": "stdout",
     "output_type": "stream",
     "text": [
      "saving model version 0.5\n"
     ]
    },
    {
     "data": {
      "image/png": "[encoded data removed]",
      "text/plain": [
       "<Figure size 500x400 with 12 Axes>"
      ]
     },
     "metadata": {},
     "output_type": "display_data"
    }
   ],
   "source": [
    "# refine(grid extension) 그리드 세분화(구간 세분화)(전체 구간 개수 30개로 변화)\n",
    "model = model.refine(30)\n",
    "model.fit(dataset, opt=\"LBFGS\", steps=50)\n",
    "model.plot()"
   ]
  },
  {
   "cell_type": "markdown",
   "id": "445c58e6",
   "metadata": {},
   "source": [
    "step11. KAN symbolification"
   ]
  },
  {
   "cell_type": "code",
   "execution_count": 14,
   "id": "666a6d8c",
   "metadata": {},
   "outputs": [
    {
     "name": "stdout",
     "output_type": "stream",
     "text": [
      "fixing (0,0,0) with 0\n",
      "fixing (0,1,0) with x, r2=0.7765498161315918, c=1\n",
      "fixing (0,2,0) with exp, r2=0.981650710105896, c=2\n",
      "fixing (0,3,0) with x, r2=0.9915482997894287, c=1\n",
      "fixing (0,4,0) with 0\n",
      "fixing (0,5,0) with 0\n",
      "fixing (0,6,0) with x, r2=0.8530014157295227, c=1\n",
      "fixing (0,7,0) with 0\n",
      "fixing (1,0,0) with x, r2=0.9733473658561707, c=1\n",
      "saving model version 0.6\n"
     ]
    }
   ],
   "source": [
    "# 자동 모드로 심볼릭 회귀 수행\n",
    "lib = ['x', 'x^2', 'x^3', 'x^4', 'exp', 'log', 'sqrt', 'tanh', 'sin']   #'x^(-1)', 'x^(-2)', 'x^(-3)', 'x^(-4)'\n",
    "model.auto_symbolic(lib=lib)\n"
   ]
  },
  {
   "cell_type": "code",
   "execution_count": 15,
   "id": "eb7e1c7e",
   "metadata": {},
   "outputs": [
    {
     "name": "stderr",
     "output_type": "stream",
     "text": [
      "| train_loss: 3.31e-02 | test_loss: 3.29e-02 | reg: 0.00e+00 | : 100%|█| 50/50 [00:05<00:00,  8.98it\n"
     ]
    },
    {
     "name": "stdout",
     "output_type": "stream",
     "text": [
      "saving model version 0.7\n"
     ]
    },
    {
     "data": {
      "image/png": "[encoded data removed]",
      "text/plain": [
       "<Figure size 500x400 with 12 Axes>"
      ]
     },
     "metadata": {},
     "output_type": "display_data"
    }
   ],
   "source": [
    "# symbolic 함수로 대체 후 학습\n",
    "model.fit(dataset, opt=\"LBFGS\", steps=50)\n",
    "model.plot()"
   ]
  },
  {
   "cell_type": "markdown",
   "id": "a2914843",
   "metadata": {},
   "source": [
    "step12. symbolic 수식 출력"
   ]
  },
  {
   "cell_type": "code",
   "execution_count": 16,
   "id": "9988d940",
   "metadata": {},
   "outputs": [
    {
     "name": "stdout",
     "output_type": "stream",
     "text": [
      "formula = -0.0764*x_2 + 0.105*x_4 + 0.0602*x_7 + 0.0249 + 0.693*exp(-6.6771*x_3)\n",
      "(x_1: Current density, x_2: Faradaic efficiency, ... x_8: crossover rate)\n"
     ]
    }
   ],
   "source": [
    "# 심볼릭 수식 출력\n",
    "formula = ex_round(model.symbolic_formula()[0][0], 4)\n",
    "print(\"formula =\" , formula)  \n",
    "print('(x_1: Current density, x_2: Faradaic efficiency, ... x_8: crossover rate)')\n"
   ]
  },
  {
   "cell_type": "markdown",
   "id": "f43772d9",
   "metadata": {},
   "source": [
    "step13. KAN이 예측한 수식 정확도 검증을 위한 함수 정의"
   ]
  },
  {
   "cell_type": "code",
   "execution_count": 17,
   "id": "d723e550",
   "metadata": {},
   "outputs": [],
   "source": [
    "# validation set으로 성능을 평가하는 함수 만들기\n",
    "def evaluate_model_performance(model, dataset, scaler_y, phase=\"validation\"):    # phase = validation 아니면 test 이다\n",
    "    \n",
    "    \n",
    "    if phase == \"validation\":\n",
    "        input_tensor = dataset['val_input']\n",
    "        label_tensor = dataset['val_label']\n",
    "    elif phase == \"test\":\n",
    "        input_tensor = dataset['test_input']\n",
    "        label_tensor = dataset['test_label']\n",
    "    else:\n",
    "        raise ValueError(\"phase는 'validation' 또는 'test'만 가능합니다\")\n",
    "    \n",
    "    # 예측 수행\n",
    "    with torch.no_grad():\n",
    "        pred_norm = model(input_tensor) #input_tensor 는 KAN이 받는 새로운 입력값인 val_inut or test_input / pred_norm은 그에 대한 출력값\n",
    "    \n",
    "    # 역정규화\n",
    "    pred_real = scaler_y.inverse_transform(pred_norm.cpu().detach().numpy())   # pred_real 은 0~1 사이의 입력 val_input or test_input을 받고 출력된 값은 다시 역정규화 한 실제 출력값\n",
    "    label_real = scaler_y.inverse_transform(label_tensor.cpu().detach().numpy()) # label_real은 0~1 사이의 입력 val_label or test_label을 받고 출력한 값 역정규화\n",
    "    # inverse_transform 함수는  numpy 를 입력으로 받기 떄문에 pytorch tensor를 cpu로 옮기고 numpy로 변환\n",
    "    \n",
    "    \n",
    "    # 성능 지표 계산 from 역정규화된 label_real, pred_real 값들 from val input or test input + numpy에서 계산\n",
    "    rmse = np.sqrt(mean_squared_error(label_real, pred_real)) \n",
    "    r2 = r2_score(label_real, pred_real)  #1에 가까울수록 좋다\n",
    "    mae = np.mean(np.abs(label_real - pred_real)) # 오차 절댓값 평균\n",
    "    \n",
    "    print(f\"{phase} SET 성능 평가\") # phase = validation 또는 test \n",
    "    print(f\"RMSE: {rmse:.4f}\")\n",
    "    print(f\"R²: {r2:.4f}\")\n",
    "    print(f\"MAE: {mae:.4f}\")\n",
    "    \n",
    "    print(f\"실제값 평균: {label_real.mean():.4f}\")  #label_real의 평균값(실제값)\n",
    "    print(f\"예측값 평균: {pred_real.mean():.4f}\")   #pred_real의 평균값(KAN 모델로 예측한 값)\n",
    "    \n",
    "    return pred_real, label_real, {'rmse': rmse, 'r2': r2, 'mae': mae}"
   ]
  },
  {
   "cell_type": "markdown",
   "id": "fb77ff0c",
   "metadata": {},
   "source": [
    "Step14. Validation data(검증셋)으로 성능 평가"
   ]
  },
  {
   "cell_type": "code",
   "execution_count": 18,
   "id": "497efffd",
   "metadata": {},
   "outputs": [
    {
     "name": "stdout",
     "output_type": "stream",
     "text": [
      "validation SET 성능 평가\n",
      "RMSE: 6.7793\n",
      "R²: 0.9611\n",
      "MAE: 4.1204\n",
      "실제값 평균: 48.6630\n",
      "예측값 평균: 48.4524\n"
     ]
    }
   ],
   "source": [
    "# validation dataset(검증셋)으로 성능 평가 (모델 개발 과정에서)\n",
    "val_pred, val_actual, val_metrics = evaluate_model_performance(model, dataset, scaler_y, \"validation\")\n",
    "\n",
    "#scaler_y : step5 에서 정의한 정규화된 y 변환법\n",
    "# validation --- 검증셋 이용할거라는 의미 / 나중에 \n",
    "# val_pred 변수: evaluate_model_performance 함수가 반환한 첫 번째 결과물(pred_real)(모델의 예측값 배열)이 저장\n",
    "# val_actual 변수: 함수가 반환한 두 번째 결과물(label_real)(실제 정답 값 배열)이 저장\n",
    "# val_metrics 변수: 함수가 반환한 세 번째 결과물(RMSE, R², MAE가 담긴 딕셔너리)이 저장\n"
   ]
  },
  {
   "cell_type": "markdown",
   "id": "937e66a3",
   "metadata": {},
   "source": [
    "step15. KAN이 예측한 수식의 정확도 최종계산 _ using test_input, test_label"
   ]
  },
  {
   "cell_type": "code",
   "execution_count": 19,
   "id": "8acf1afc",
   "metadata": {},
   "outputs": [
    {
     "name": "stdout",
     "output_type": "stream",
     "text": [
      "최종 테스트셋 평가\n",
      "test SET 성능 평가\n",
      "RMSE: 6.6824\n",
      "R²: 0.9599\n",
      "MAE: 4.1813\n",
      "실제값 평균: 50.3135\n",
      "예측값 평균: 50.6592\n",
      "\n",
      "최종 모델 성능:\n",
      "테스트셋 RMSE: 6.6824\n",
      "테스트셋 R²: 0.9599\n",
      "테스트셋 MAE: 4.1813\n"
     ]
    }
   ],
   "source": [
    "# 모든 모델 개발이 완료된 후 최종 한 번만 수행\n",
    "print(\"최종 테스트셋 평가\")\n",
    "\n",
    "\n",
    "# 최종 테스트셋 평가(phase만 'test'로 변경하여 테스트 데이터를 사용)(이전에 정의한 evaluate_model_performance 함수를 그대로 사용)\n",
    "test_pred, test_actual, test_metrics = evaluate_model_performance(\n",
    "    model, dataset, scaler_y, \"test\"\n",
    ")\n",
    "\n",
    "# test_pred : 모델의 예측값 , test_actual : 실제 정답 값 배열 , test_metrics : (RMSE, R², MAE가 담긴 딕셔너리)\n",
    "\n",
    "print(f\"\\n최종 모델 성능:\")\n",
    "print(f\"테스트셋 RMSE: {test_metrics['rmse']:.4f}\")\n",
    "print(f\"테스트셋 R²: {test_metrics['r2']:.4f}\")\n",
    "print(f\"테스트셋 MAE: {test_metrics['mae']:.4f}\")\n"
   ]
  },
  {
   "cell_type": "markdown",
   "id": "cd9bb436",
   "metadata": {},
   "source": [
    "step16. KAN 예측값 / 실제값 그래프"
   ]
  },
  {
   "cell_type": "code",
   "execution_count": 20,
   "id": "7931b4ce",
   "metadata": {},
   "outputs": [
    {
     "data": {
      "image/png": "[encoded data removed]",
      "text/plain": [
       "<Figure size 400x400 with 1 Axes>"
      ]
     },
     "metadata": {},
     "output_type": "display_data"
    }
   ],
   "source": [
    "# step14. KAN 예측값 / 실제값 그래프\n",
    "import matplotlib.pyplot as plt\n",
    "\n",
    "plt.figure(figsize=(4, 4))\n",
    "\n",
    "# test_actual (x축) vs test_pred (y축)\n",
    "plt.scatter(test_actual, test_pred, alpha=0.7, edgecolors='k', label='Model Predictions')\n",
    "\n",
    "# y=x 기준선 (완벽한 예측선)\n",
    "min_val = min(test_actual.min(), test_pred.min())\n",
    "max_val = max(test_actual.max(), test_pred.max())\n",
    "plt.plot([min_val, max_val], [min_val, max_val], 'r--', linewidth=2, label='Perfect Fit (y=x)')\n",
    "\n",
    "# 그래프 제목과 축 레이블 설정\n",
    "plt.xlabel(\"Actual \" + predicting , fontsize=12)   # MSP 일떄는 MSP 로 바꾸기\n",
    "plt.ylabel(\"Predicted \" + predicting, fontsize=12) # MSP 일떄는 MSP 로 바꾸기\n",
    "plt.title(f'Test Set: Actual vs. Predicted (R² = {test_metrics[\"r2\"]:.4f})', fontsize=14)\n",
    "plt.legend()\n",
    "plt.grid(True)\n",
    "plt.axis('equal') # x, y축 스케일을 동일하게 설정\n",
    "plt.tight_layout()\n",
    "plt.show()\n"
   ]
  },
  {
   "cell_type": "markdown",
   "id": "c9f2f548",
   "metadata": {},
   "source": [
    "잔차 플롯 (Residual Plot): 모델의 예측 오차 패턴 분석"
   ]
  },
  {
   "cell_type": "code",
   "execution_count": 21,
   "id": "da62b6b9",
   "metadata": {},
   "outputs": [
    {
     "data": {
      "image/png": "[encoded data removed]",
      "text/plain": [
       "<Figure size 700x400 with 1 Axes>"
      ]
     },
     "metadata": {},
     "output_type": "display_data"
    }
   ],
   "source": [
    "# 1. 잔차 계산 (실제값 - 예측값)\n",
    "residuals = test_actual - test_pred\n",
    "\n",
    "# 2. 잔차 플롯 시각화\n",
    "plt.figure(figsize=(7, 4))\n",
    "\n",
    "# x축은 예측값, y축은 잔차\n",
    "plt.scatter(test_pred, residuals, alpha=0.7, edgecolors='k')\n",
    "\n",
    "# y=0 기준선 추가 (오차가 0인 선)\n",
    "plt.axhline(y=0, color='r', linestyle='--', linewidth=2)\n",
    "\n",
    "plt.xlabel(\"Predicted \"+predicting, fontsize=12)\n",
    "plt.ylabel('Residuals (Actual - Predicted)', fontsize=12)\n",
    "plt.title('Residual Plot for Test Set', fontsize=14)\n",
    "plt.grid(True)\n",
    "plt.show()\n"
   ]
  },
  {
   "cell_type": "markdown",
   "id": "85cd30ad",
   "metadata": {},
   "source": [
    "2. 개별 변수 영향도 플롯 (Partial Dependence Plot): 변수-결과 관계 시각화"
   ]
  },
  {
   "cell_type": "code",
   "execution_count": 22,
   "id": "ff333b84",
   "metadata": {},
   "outputs": [
    {
     "name": "stdout",
     "output_type": "stream",
     "text": [
      "--- 모든 입력 변수에 대한 개별 영향도 플롯 ---\n"
     ]
    },
    {
     "data": {
      "image/png": "[encoded data removed]",
      "text/plain": [
       "<Figure size 500x400 with 12 Axes>"
      ]
     },
     "metadata": {},
     "output_type": "display_data"
    }
   ],
   "source": [
    "import numpy as np\n",
    "import matplotlib.pyplot as plt\n",
    "\n",
    "# 1. (NameError 해결) feature_names 리스트를 먼저 정의합니다.\n",
    "feature_names = [\n",
    "    \"Current density\", \"Faradaic efficiency\", \"CO coversion\", \"Voltage\",\n",
    "    \"Electricity cost\", \"Membrain cost\", \"Capture energy\", \"Crossover rate\"\n",
    "]\n",
    "\n",
    "try:\n",
    "    print(\"--- 모든 입력 변수에 대한 개별 영향도 플롯 ---\")\n",
    "    \n",
    "    # 2. (TypeError 해결) 'vars' 인자 없이 plot() 함수를 호출합니다.\n",
    "    # 이렇게 하면 8개 변수 각각에 대한 영향도 그래프가 한 번에 그려집니다.\n",
    "    model.plot()\n",
    "    \n",
    "    # 전체 그래프에 대한 제목 설정 (선택 사항)\n",
    "    plt.suptitle('Partial Dependence Plots for All Features', y=1.02)\n",
    "    plt.show()\n",
    "\n",
    "except Exception as e:\n",
    "    print(f\"오류가 발생했습니다: {e}\")\n",
    "    print(\"이전 단계에서 'model' 객체가 성공적으로 생성되었는지 확인해주세요.\")\n",
    "\n"
   ]
  },
  {
   "cell_type": "code",
   "execution_count": 23,
   "id": "22bee12d",
   "metadata": {},
   "outputs": [
    {
     "name": "stdout",
     "output_type": "stream",
     "text": [
      "formula= -0.0764*x_2 + 0.105*x_4 + 0.0602*x_7 + 0.0249 + 0.693*exp(-6.6771*x_3)\n"
     ]
    }
   ],
   "source": [
    "# step11의 코드를 다시 실행\n",
    "formula = ex_round(model.symbolic_formula()[0][0], 4)\n",
    "print(\"formula=\", formula)\n",
    "\n",
    "# 여기서 맨 왼쪽부터  x_1부터 x_8 \n"
   ]
  },
  {
   "cell_type": "markdown",
   "id": "7180d5fa",
   "metadata": {},
   "source": [
    "-------"
   ]
  },
  {
   "cell_type": "markdown",
   "id": "7b03ef06",
   "metadata": {},
   "source": [
    "------"
   ]
  },
  {
   "cell_type": "markdown",
   "id": "c161d08d",
   "metadata": {},
   "source": [
    "------------------------------------------------------------------------------------------------------------------------------------------------"
   ]
  },
  {
   "cell_type": "markdown",
   "id": "61f2ffb4",
   "metadata": {},
   "source": [
    "step17.실제 KAN이 구현한 수식에 X값을 대입해서 결과 구해보기_역정규화 이용"
   ]
  },
  {
   "cell_type": "code",
   "execution_count": 24,
   "id": "bd032dac",
   "metadata": {},
   "outputs": [
    {
     "name": "stdout",
     "output_type": "stream",
     "text": [
      "--- [입력 변수(X) 정규화 키] ---\n",
      "x_1 (Current density (mA/cm2)):\n",
      "  min = 123.17073171\n",
      "  max = 1999.62015194\n",
      "\n",
      "x_2 (Faradaic efficiency (%)):\n",
      "  min = 0.50009796\n",
      "  max = 0.98970612\n",
      "\n",
      "x_3 (CO coversion):\n",
      "  min = 0.02733906\n",
      "  max = 0.59988205\n",
      "\n",
      "x_4 (Voltage (V)):\n",
      "  min = 1.30043982\n",
      "  max = 3.49868053\n",
      "\n",
      "x_5 (Electricity cost ($/kWh)):\n",
      "  min = 0.05002999\n",
      "  max = 0.09999000\n",
      "\n",
      "x_6 (Membrain cost ($/m2)):\n",
      "  min = 285.03798481\n",
      "  max = 348.32067173\n",
      "\n",
      "x_7 (Catpure energy (GJ/ton)):\n",
      "  min = 3.00039984\n",
      "  max = 4.99640144\n",
      "\n",
      "x_8 (Crossover rate):\n",
      "  min = 0.00039984\n",
      "  max = 1.99880048\n",
      "\n",
      "--- [출력 변수(y) 역정규화 키] ---\n",
      "y_min = 14.99042938\n",
      "y_max = 217.83096166\n"
     ]
    }
   ],
   "source": [
    "# 이전에 학습에 사용했던 scaler_X 와 scaler_y 객체가 필요합니다.\n",
    "\n",
    "# 1. 입력 변수(X)의 최소/최대값 추출\n",
    "#    사용된 변수의 순서에 맞게 이름을 지정합니다.\n",
    "feature_names = [\n",
    "    \"Current density (mA/cm2)\", \"Faradaic efficiency (%)\", \"CO coversion\",\n",
    "    \"Voltage (V)\", \"Electricity cost ($/kWh)\", \"Membrain cost ($/m2)\",\n",
    "    \"Catpure energy (GJ/ton)\", \"Crossover rate\"\n",
    "]\n",
    "\n",
    "print(\"--- [입력 변수(X) 정규화 키] ---\")\n",
    "for i, name in enumerate(feature_names):\n",
    "    min_val = scaler_X.data_min_[i]\n",
    "    max_val = scaler_X.data_max_[i]\n",
    "    print(f\"x_{i+1} ({name}):\")\n",
    "    print(f\"  min = {min_val:.8f}\")\n",
    "    print(f\"  max = {max_val:.8f}\\n\")\n",
    "\n",
    "# 2. 출력 변수(y)의 최소/최대값 추출\n",
    "y_min = scaler_y.data_min_[0]\n",
    "y_max = scaler_y.data_max_[0]\n",
    "\n",
    "print(\"--- [출력 변수(y) 역정규화 키] ---\")\n",
    "print(f\"y_min = {y_min:.8f}\")\n",
    "print(f\"y_max = {y_max:.8f}\")\n"
   ]
  },
  {
   "cell_type": "code",
   "execution_count": 25,
   "id": "b562d0ba",
   "metadata": {},
   "outputs": [
    {
     "name": "stdout",
     "output_type": "stream",
     "text": [
      "formula= -0.0764*x_2 + 0.105*x_4 + 0.0602*x_7 + 0.0249 + 0.693*exp(-6.6771*x_3)\n",
      "(x_1: Current density, x_2: Faradaic efficiency, ... x_8: crossover rate)\n"
     ]
    }
   ],
   "source": [
    "# step11의 코드를 다시 실행\n",
    "formula = ex_round(model.symbolic_formula()[0][0], 4)\n",
    "print(\"formula=\", formula)\n",
    "print('(x_1: Current density, x_2: Faradaic efficiency, ... x_8: crossover rate)')\n"
   ]
  },
  {
   "cell_type": "markdown",
   "id": "6bf9a624",
   "metadata": {},
   "source": [
    "python에서도 시험삼아 몇 개 출력해보기"
   ]
  },
  {
   "cell_type": "code",
   "execution_count": 26,
   "id": "a983cab0",
   "metadata": {},
   "outputs": [
    {
     "name": "stdout",
     "output_type": "stream",
     "text": [
      "▶ 자동으로 감지된 수식: y = -0.0763715605653708*x_2 + 0.104982079149281*x_4 + 0.0602469955134812*x_7 + 0.024882507672493 + 0.692970294659561*exp(-6.67709636688232*x_3)\n",
      "\n",
      "==============================================================\n",
      "### 역정규화 (Inverse Normalization)에 사용되는 수식 ###\n",
      "실제값 = (정규화된 값 * (최대값 - 최소값)) + 최소값\n",
      "실제값 = (정규화된 값 * 202.8405) + -0.0739\n",
      "==============================================================\n",
      "\n",
      "--------- [단순화된 수식 모델]의 예측 성능 ---------\n",
      "     실제값   수식 예측값 \n",
      "0   45.30    44.19\n",
      "1   40.06    40.05\n",
      "2   20.16    22.63\n",
      "3   19.25    21.13\n",
      "4   61.87    65.83\n",
      "5   45.20    44.91\n",
      "6   20.45    16.85\n",
      "7   49.03    49.99\n",
      "8   49.91    49.20\n",
      "9   27.39    24.92\n",
      "10  51.01    52.13\n",
      "11  34.97    37.08\n",
      "12  42.71    39.50\n",
      "13  30.27    28.20\n",
      "14  29.03    26.69\n",
      "15  26.70    26.50\n",
      "16  36.01    32.66\n",
      "17  24.82    24.05\n",
      "18  35.81    34.95\n",
      "19  53.95    54.33\n",
      "20  42.39    42.31\n",
      "21  29.30    27.25\n",
      "22  31.46    34.45\n",
      "23  49.61    52.18\n",
      "24  26.20    29.19\n",
      "25  38.95    40.01\n",
      "26  27.72    27.55\n",
      "27  36.66    38.08\n",
      "28  36.64    34.62\n",
      "29 111.45   117.18\n"
     ]
    }
   ],
   "source": [
    "import numpy as np\n",
    "import pandas as pd\n",
    "from sympy import sympify, symbols, lambdify # sympy 라이브러리 추가\n",
    "\n",
    "# --- [자동화된 수식 처리 부분 시작] ---\n",
    "\n",
    "# 1. KAN 모델에서 직접 심볼릭 수식 문자열을 가져옵니다.\n",
    "#    이제 이 'formula_str' 변수만 있으면 모든 과정이 자동으로 처리됩니다.\n",
    "#    (실제 코드에서는 model.symbolic_formula()[0][0] 로 가져오시면 됩니다)\n",
    "#    예시 수식:\n",
    "# formula_str = \n",
    "formula_str = model.symbolic_formula()[0][0] # 실제 모델에서 가져오는 코드\n",
    "\n",
    "print(f\"▶ 자동으로 감지된 수식: y = {formula_str}\\n\")\n",
    "\n",
    "# 2. 수식에 사용될 가능성이 있는 모든 변수(x_1 ~ x_8)를 기호로 정의합니다.\n",
    "#    feature_names 리스트는 이전에 정의되어 있어야 합니다.\n",
    "num_features = len(feature_names)\n",
    "x_vars = symbols(f'x_1:{num_features + 1}')\n",
    "\n",
    "# 3. 문자열 수식을 실제 계산 가능한 함수로 변환합니다. (핵심 부분)\n",
    "#    lambdify는 sympy 수식을 매우 빠른 numpy 함수로 바꿔주는 기능입니다.\n",
    "symbolic_func = lambdify(x_vars, sympify(formula_str), 'numpy')\n",
    "\n",
    "# 4. 새로운 '만능' 예측 함수를 정의합니다.\n",
    "def auto_symbolic_prediction(x_norm):\n",
    "    \"\"\"\n",
    "    정규화된 입력 데이터(x_norm)를 받아,\n",
    "    자동으로 생성된 symbolic_func를 사용해 예측값을 반환합니다.\n",
    "    \"\"\"\n",
    "    # x_norm 배열의 각 열을 개별 인자로 분리하여 함수에 전달합니다.\n",
    "    # 예: symbolic_func(x_norm[:,0], x_norm[:,1], ..., x_norm[:,7])\n",
    "    # x_norm.T는 배열을 전치하여 각 행이 변수가 되도록 합니다.\n",
    "    return symbolic_func(*x_norm.T)\n",
    "\n",
    "# --- [자동화된 수식 처리 부분 끝] ---\n",
    "\n",
    "\n",
    "# 2. 역정규화에 사용되는 수식 출력 (이전과 동일)\n",
    "min_val = scaler_y.min_[0]\n",
    "scale_range = 1 / scaler_y.scale_[0]\n",
    "print(\"==============================================================\")\n",
    "print(\"### 역정규화 (Inverse Normalization)에 사용되는 수식 ###\")\n",
    "print(f\"실제값 = (정규화된 값 * (최대값 - 최소값)) + 최소값\")\n",
    "print(f\"실제값 = (정규화된 값 * {scale_range:.4f}) + {min_val:.4f}\")\n",
    "print(\"==============================================================\\n\")\n",
    "\n",
    "\n",
    "# 4. 테스트 데이터셋 전체를 사용하여 예측을 수행합니다.\n",
    "test_input_norm = dataset['test_input']\n",
    "# 여기서 새롭게 정의한 자동화 함수를 호출합니다!\n",
    "y_pred_norm = auto_symbolic_prediction(test_input_norm)\n",
    "\n",
    "\n",
    "# 5. 이후 모든 코드는 이전과 완전히 동일합니다.\n",
    "y_pred_norm_reshaped = y_pred_norm.reshape(-1, 1)\n",
    "y_pred_real_scale = scaler_y.inverse_transform(y_pred_norm_reshaped)\n",
    "y_true_real_scale = scaler_y.inverse_transform(dataset['test_label'])\n",
    "results_df = pd.DataFrame({\n",
    "    '실제값 ': y_true_real_scale.flatten(),\n",
    "    '수식 예측값 ': y_pred_real_scale.flatten()\n",
    "})\n",
    "pd.options.display.float_format = '{:.2f}'.format\n",
    "\n",
    "print(\"--------- [단순화된 수식 모델]의 예측 성능 ---------\")\n",
    "print(results_df.head(30))\n"
   ]
  }
 ],
 "metadata": {
  "kernelspec": {
   "display_name": "venv",
   "language": "python",
   "name": "python3"
  },
  "language_info": {
   "codemirror_mode": {
    "name": "ipython",
    "version": 3
   },
   "file_extension": ".py",
   "mimetype": "text/x-python",
   "name": "python",
   "nbconvert_exporter": "python",
   "pygments_lexer": "ipython3",
   "version": "3.11.9"
  }
 },
 "nbformat": 4,
 "nbformat_minor": 5
}
