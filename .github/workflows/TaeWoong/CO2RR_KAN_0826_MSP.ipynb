{
 "cells": [
  {
   "cell_type": "markdown",
   "id": "0895cbba",
   "metadata": {},
   "source": [
    "## CO2RR 공정 datasheet 분석"
   ]
  },
  {
   "cell_type": "markdown",
   "id": "4e0157fd",
   "metadata": {},
   "source": [
    "----------------------------------"
   ]
  },
  {
   "cell_type": "markdown",
   "id": "499fd6e3",
   "metadata": {},
   "source": [
    "-------"
   ]
  },
  {
   "cell_type": "markdown",
   "id": "4d576959",
   "metadata": {},
   "source": [
    "Output 중 Required energy_total (MJ/kgCO), MSP 분석 예정"
   ]
  },
  {
   "cell_type": "markdown",
   "id": "bd5404b7",
   "metadata": {},
   "source": [
    "step0. 라이브러리 정리"
   ]
  },
  {
   "cell_type": "code",
   "execution_count": 1,
   "id": "ed16aea4",
   "metadata": {},
   "outputs": [
    {
     "name": "stdout",
     "output_type": "stream",
     "text": [
      "cpu\n"
     ]
    }
   ],
   "source": [
    "import pandas as pd\n",
    "import numpy as np\n",
    "import torch\n",
    "from sklearn.preprocessing import StandardScaler\n",
    "from sklearn.model_selection import train_test_split\n",
    "from sklearn.metrics import mean_squared_error, r2_score\n",
    "from kan import KAN\n",
    "from kan.utils import ex_round\n",
    "device = torch.device('cuda' if torch.cuda.is_available() else 'cpu')\n",
    "print(device)"
   ]
  },
  {
   "cell_type": "markdown",
   "id": "f34c39e8",
   "metadata": {},
   "source": [
    "step1. 엑셀 파일 불러오기"
   ]
  },
  {
   "cell_type": "code",
   "execution_count": 2,
   "id": "c0466943",
   "metadata": {},
   "outputs": [],
   "source": [
    "# 엑셀 데이터 로드 \n",
    "filepath = r\"C:\\Users\\kepco201\\Desktop\\KAN_python\\pykan-master\\.github\\workflows\\TaeWoong\\25.01.14_CO2RR_GSA.xlsx\"\n",
    "xls = pd.ExcelFile(filepath) \n",
    "df_in  = pd.read_excel(xls, sheet_name='Input')\n",
    "df_out = pd.read_excel(xls, sheet_name='Output')\n",
    "\n"
   ]
  },
  {
   "cell_type": "markdown",
   "id": "12dafb3a",
   "metadata": {},
   "source": [
    "step2.결측값 대체 및 이상치 제거"
   ]
  },
  {
   "cell_type": "raw",
   "id": "d0c919d6",
   "metadata": {
    "vscode": {
     "languageId": "raw"
    }
   },
   "source": [
    "# [기존 step2]\n",
    "# df_in  = df_in.fillna(df_in.mean(numeric_only=True))\n",
    "# df_out = df_out.fillna(df_out.mean(numeric_only=True))\n",
    "\n",
    "# [수정된 step2] : 결측치가 있는 행 삭제\n",
    "\n",
    "# 1. 삭제 전 데이터 크기 확인\n",
    "print(f\"결측값 삭제 전 Input 데이터 크기: {df_in.shape}\")\n",
    "print(f\"결측값 삭제 전 Output 데이터 크기: {df_out.shape}\")\n",
    "\n",
    "# 2. 결측치가 있는 행 삭제\n",
    "# 두 데이터프레임의 인덱스를 맞추기 위해, 한쪽에서 삭제된 인덱스를 다른 쪽에도 적용\n",
    "na_rows_in = df_in.isnull().any(axis=1)\n",
    "na_rows_out = df_out.isnull().any(axis=1)\n",
    "rows_to_drop = na_rows_in | na_rows_out # 둘 중 하나라도 결측치가 있으면 삭제 대상\n",
    "\n",
    "df_in_cleaned = df_in[~rows_to_drop]\n",
    "df_out_cleaned = df_out[~rows_to_drop]\n",
    "\n",
    "# 3. 삭제 후 데이터 크기 확인\n",
    "print(f\"결측값 삭제 후 Input 데이터 크기: {df_in_cleaned.shape}\")\n",
    "print(f\"결측값 삭제 후 Output 데이터 크기: {df_out_cleaned.shape}\")\n",
    "\n",
    "# 이후 step3 에서는 df_in_cleaned와 df_out_cleaned 를 사용합니다.\n",
    "# X = df_in_cleaned[[...]].values\n",
    "# y = df_out_cleaned[[...]].values.reshape(-1, 1)\n",
    "\n",
    "\n"
   ]
  },
  {
   "cell_type": "markdown",
   "id": "77407cf1",
   "metadata": {},
   "source": [
    "이상치(Outlier) 제거 / 전체 데이터의 10% 이내로 극소량만 제거"
   ]
  },
  {
   "cell_type": "code",
   "execution_count": 3,
   "id": "cb9b8719",
   "metadata": {},
   "outputs": [
    {
     "name": "stdout",
     "output_type": "stream",
     "text": [
      "--- 이상치 제거 시작 ---\n",
      "이상치 제거 전 데이터 수: 2501 개\n",
      "이상치 제거 후 데이터 수: 2378 개 (123 개 제거됨)\n",
      "--- 이상치 제거 완료 ---\n",
      "\n"
     ]
    }
   ],
   "source": [
    "# 이상치(Outlier) 제거 (IQR 방식) ---\n",
    "\n",
    "print(\"--- 이상치 제거 시작 ---\")\n",
    "\n",
    "\n",
    "print(f\"이상치 제거 전 데이터 수: {len(df_in)} 개\")   # len(df_in) 을 통해 이상치 제거 전 데이터 길이(개수) 출력\n",
    "\n",
    "\n",
    "def remove_outliers_iqr(df_in, df_out):              # outlier 제거 함수 정의\n",
    "    \n",
    "    combined_df = pd.concat([df_in, df_out], axis=1) # pd.concat = 2개를 합치기 // 입력 변수(X)와 출력 변수(y)를 합쳐서 전체 데이터프레임 생성 // x랑 y를 한번에 고려\n",
    "                                                     # axis = 1 --- 오른쪽으로 합치기 --- 데이터 구조를 보면 예쁘게 정리가 된다\n",
    "    \n",
    "    numeric_cols = combined_df.select_dtypes(include=np.number).columns  # .select_dtypes 를 통해 특정 열만 출력 outlier 를 탐지할 숫자형 컬럼만 선택\n",
    "                                    # numeric_cols = 숫자로만 구성된 열들의 이름 리스트 (.colums = 그 열의 이름을 리스트로 출력)\n",
    "\n",
    "    # 각 컬럼에 대해 이상치 경계 계산 \n",
    "    Q1 = combined_df[numeric_cols].quantile(0.25)   # .quantile(0.25) = 데이터를 오름차순으로 정렬했을 떄 하위 25% 지점 \n",
    "    Q3 = combined_df[numeric_cols].quantile(0.75)   # .quantile(0.75) = 데이터를 오름차순으로 정렬했을 떄 상위 25% 지점 \n",
    "    IQR = Q3 - Q1 # IQR은 대략 상위 25% - 상위75% = 중간정도의 값에 해당\n",
    "    \n",
    "    lower_bound = Q1 - 6 * IQR  # 보통은 1.5* IQR을 진행하지만 최대한 삭제되는 데이터가 적도록 진행\n",
    "    upper_bound = Q3 + 6 * IQR\n",
    "    \n",
    "\n",
    "    # 밑의 줄은 공부를 더 해보자\n",
    "    # 모든 컬럼에 대해 정상 범위 내에 있는 데이터만 True로 표시\n",
    "    # (row의 어떤 컬럼이라도 이상치면 해당 row 전체가 False가 됨)\n",
    "    condition = ~((combined_df[numeric_cols] < lower_bound) | (combined_df[numeric_cols] > upper_bound)).any(axis=1)\n",
    "    \n",
    "\n",
    "    # 정상 범위에 있는 데이터만 필터링\n",
    "    df_in_no_outliers = df_in[condition]\n",
    "    df_out_no_outliers = df_out[condition]\n",
    "    \n",
    "    return df_in_no_outliers, df_out_no_outliers\n",
    "\n",
    "# 3. 함수를 사용하여 이상치 제거\n",
    "#    이전에 결측치를 제거한 df_in_cleaned, df_out_cleaned를 사용합니다.\n",
    "df_in_final, df_out_final = remove_outliers_iqr(df_in, df_out)\n",
    "\n",
    "\n",
    "# 4. 이상치 제거 후 남은 데이터 개수 확인\n",
    "removed_count = len(df_in) - len(df_in_final)  # 몇 개 지웠는지 세기\n",
    "print(f\"이상치 제거 후 데이터 수: {len(df_in_final)} 개 ({removed_count} 개 제거됨)\")\n",
    "print(\"--- 이상치 제거 완료 ---\\n\")\n",
    "\n",
    "\n",
    "# 이제 'df_in_final'과 'df_out_final'을 사용하자\n",
    "\n",
    "\n",
    "\n",
    "\n"
   ]
  },
  {
   "cell_type": "markdown",
   "id": "e01c4177",
   "metadata": {},
   "source": [
    "이상치 제거 후 X, Y 정의하기"
   ]
  },
  {
   "cell_type": "code",
   "execution_count": 4,
   "id": "2044e67e",
   "metadata": {},
   "outputs": [],
   "source": [
    "# 입력 변수(X) 선택\n",
    "# 모델이 '총 필요 에너지'를 예측하는 데 사용할 정보(컬럼)들을 선택\n",
    "X = df_in_final[[\n",
    "    \"Current density (mA/cm2)\", \n",
    "    \"Faradaic efficiency (%)\", \n",
    "    \"CO coversion\",\n",
    "    \"Voltage (V)\", \n",
    "    \"Electricity cost ($/kWh)\", \n",
    "    \"Membrain cost ($/m2)\",\n",
    "    \"Catpure energy (GJ/ton)\", \n",
    "    \"Crossover rate\"\n",
    "]].values"
   ]
  },
  {
   "cell_type": "markdown",
   "id": "c1592a6a",
   "metadata": {},
   "source": [
    "step3. 엑셀 파일 속 data 추출 및 !predict 할 데이터 이름 입력!"
   ]
  },
  {
   "cell_type": "code",
   "execution_count": 5,
   "id": "b7eba938",
   "metadata": {},
   "outputs": [
    {
     "name": "stdout",
     "output_type": "stream",
     "text": [
      "[[1.97379048e+03 9.73836465e-01 3.72471012e-02 ... 2.89292283e+02\n",
      "  3.14514194e+00 1.49940024e-01]\n",
      " [1.95631747e+03 9.63060776e-01 5.54118353e-02 ... 2.92153805e+02\n",
      "  3.24190324e+00 2.49900040e-01]\n",
      " [1.93884446e+03 9.52285086e-01 7.35765694e-02 ... 2.95015327e+02\n",
      "  3.33866453e+00 3.49860056e-01]\n",
      " ...\n",
      " [1.61155538e+02 5.37714914e-01 5.36423431e-01 ... 3.38318006e+02\n",
      "  4.66133547e+00 1.65013994e+00]\n",
      " [1.43682527e+02 5.26939224e-01 5.54588165e-01 ... 3.41179528e+02\n",
      "  4.75809676e+00 1.75009996e+00]\n",
      " [1.26209516e+02 5.16163535e-01 5.72752899e-01 ... 3.44041050e+02\n",
      "  4.85485806e+00 1.85005998e+00]]\n",
      "====================\n",
      "[[1.01270078]\n",
      " [0.77514288]\n",
      " [0.64809651]\n",
      " ...\n",
      " [0.78464141]\n",
      " [0.92776384]\n",
      " [1.18767663]]\n"
     ]
    }
   ],
   "source": [
    "predicting = \"MSP ($/kgCO)\" # 다른 output 변수 보고싶으면 이거 보면 됨 # Required energy_total (MJ/kgCO) # MSP ($/kgCO)\n",
    "###### 이거를 수정해서 다른 output도 보자\n",
    "\n",
    "y = df_out_final[predicting].values.reshape(-1, 1)   # df_out_final[] 는 pandas datatframe이기에 이것을 skitlearn 이나 Keras 형태로 바꾸기 -- 그래야 \n",
    "                                                     # .values 를 통해 Numpy 배열로 변환 (값만 뽑기 때문) # 그 후에 reshape(-1.1) 을 통해 \n",
    "                                                     # .reshape()을 이용해 열 1개\n",
    "print(X)\n",
    "print(\"====================\")\n",
    "print(y)\n",
    "\n",
    "\n",
    "\n",
    "\n"
   ]
  },
  {
   "cell_type": "markdown",
   "id": "39df47d1",
   "metadata": {},
   "source": [
    "step4. train_set, valadation_set, test_set 만들기 (64:16:20) 우측 하단 RAW로 일단 설정해놓음 나중에 python으로 바꾸기"
   ]
  },
  {
   "cell_type": "code",
   "execution_count": 6,
   "id": "c5e4f043",
   "metadata": {},
   "outputs": [
    {
     "name": "stdout",
     "output_type": "stream",
     "text": [
      "전체 데이터셋 크기: 2378\n",
      "훈련셋 크기: 1521 (64.0%)\n",
      "검증셋 크기: 381 (16.0%)\n",
      "테스트셋 크기: 476 (20.0%)\n"
     ]
    }
   ],
   "source": [
    "# 1단계: 먼저 train+val과 test로 분할 (80:20)\n",
    "X_temp, X_test, y_temp, y_test = train_test_split(X, y, test_size=0.2, random_state=42)\n",
    "\n",
    "\n",
    "# 2단계: train+val을 train과 val로 분할 (64:16, 전체 대비)\n",
    "X_train, X_val, y_train, y_val = train_test_split(X_temp, y_temp, test_size=0.2, random_state=42)  # 0.2 × 0.8 = 0.16 (전체의 16%)\n",
    "\n",
    "\n",
    "# 최종 비율 확인\n",
    "# (X[:,0])~(X[:,7]) 에 각각의 입력변수들의 값들이 각각 저장됨\n",
    "\n",
    "\n",
    "\n",
    "\n",
    "print(f\"전체 데이터셋 크기: {len(X)}\")\n",
    "print(f\"훈련셋 크기: {len(X_train)} ({len(X_train)/len(X)*100:.1f}%)\")\n",
    "print(f\"검증셋 크기: {len(X_val)} ({len(X_val)/len(X)*100:.1f}%)\")  \n",
    "print(f\"테스트셋 크기: {len(X_test)} ({len(X_test)/len(X)*100:.1f}%)\")\n",
    "\n",
    "\n"
   ]
  },
  {
   "cell_type": "markdown",
   "id": "c8e1d9a9",
   "metadata": {},
   "source": [
    "step4-1. 층화추출(Stratified Sampling on y)을 하고 싶을 때 step4 대신 실행 / 데이터의 밀도가 다른 점을 고려"
   ]
  },
  {
   "cell_type": "raw",
   "id": "836e051a",
   "metadata": {
    "vscode": {
     "languageId": "raw"
    }
   },
   "source": [
    "\n",
    "\n",
    "# ===================================================================\n",
    "# Step 4: 데이터 분할 (훈련/검증/테스트 6:2:2, 층화 추출 적용)\n",
    "# ===================================================================\n",
    "\n",
    "from sklearn.model_selection import train_test_split\n",
    "import pandas as pd\n",
    "import numpy as np\n",
    "\n",
    "print(\"--- 데이터 분할 시작 (훈련/검증/테스트, 층화 추출 방식) ---\")\n",
    "\n",
    "# 1. 층화 추출을 위한 y값 그룹(strata) 생성\n",
    "num_bins = 5\n",
    "try:\n",
    "    y_binned = pd.cut(y.flatten(), bins=num_bins, labels=False)\n",
    "    stratify_option = y_binned\n",
    "    print(f\"y값을 {num_bins}개 구간으로 나누어 층화 추출을 진행합니다.\")\n",
    "except ValueError as e:\n",
    "    print(f\"경고: y값으로 층화 추출을 시도했으나 실패했습니다. ({e})\")\n",
    "    print(\"일반 무작위 추출 방식으로 전환합니다.\")\n",
    "    stratify_option = None\n",
    "\n",
    "# 2. 먼저, 훈련+검증 데이터(80%)와 최종 테스트 데이터(20%)로 분할합니다.\n",
    "X_train_val, X_test, y_train_val, y_test = train_test_split(\n",
    "    X, y, \n",
    "    test_size=0.2, \n",
    "    random_state=42, \n",
    "    stratify=stratify_option\n",
    ")\n",
    "\n",
    "# 3. 다음으로, 훈련+검증 데이터(X_train_val)를 다시 훈련 데이터(75%)와 검증 데이터(25%)로 분할합니다.\n",
    "#    (전체 데이터의 80% 중 75%는 60%, 25%는 20%에 해당하여, 최종적으로 60:20:20 비율이 됩니다.)\n",
    "\n",
    "# 층화 추출을 두 번째 분할에도 일관되게 적용하기 위해 y_train_val 그룹을 다시 만듭니다.\n",
    "try:\n",
    "    y_train_val_binned = pd.cut(y_train_val.flatten(), bins=num_bins, labels=False)\n",
    "    stratify_option_2 = y_train_val_binned\n",
    "except ValueError:\n",
    "    stratify_option_2 = None # 분할이 불가능하면 일반 추출\n",
    "\n",
    "X_train, X_val, y_train, y_val = train_test_split(\n",
    "    X_train_val, y_train_val,\n",
    "    test_size=0.25, # 80% 중 25%는 전체의 20%\n",
    "    random_state=42,\n",
    "    stratify=stratify_option_2\n",
    ")\n",
    "\n",
    "print(\"\\n--- 최종 분할 후 데이터셋 크기 ---\")\n",
    "print(f\"훈련 데이터 (X_train): {X_train.shape}\")\n",
    "print(f\"검증 데이터 (X_val): {X_val.shape}\")\n",
    "print(f\"테스트 데이터 (X_test): {X_test.shape}\")\n",
    "print(\"\\n--- 데이터 분할 완료 ---\")\n",
    "\n"
   ]
  },
  {
   "cell_type": "markdown",
   "id": "9cd52a27",
   "metadata": {},
   "source": [
    "step5. 데이터 정규화(normalization)_전처리 과정"
   ]
  },
  {
   "cell_type": "code",
   "execution_count": 7,
   "id": "7c5cc170",
   "metadata": {},
   "outputs": [
    {
     "name": "stdout",
     "output_type": "stream",
     "text": [
      "정규화 후 통계:\n",
      "X_train_norm: mean=0.4990, std=0.2308\n",
      "X_val_norm: mean=0.5033, std=0.2310\n",
      "X_test_norm: mean=0.5021, std=0.2315\n",
      "y_train_norm: mean=0.2647, std=0.1361\n",
      "y_val_norm: mean=0.2583, std=0.1516\n",
      "y_test_norm: mean=0.2700, std=0.1425\n"
     ]
    }
   ],
   "source": [
    "# 중요: 훈련 데이터(X_train, y_train)의 최소/최대값을 기준으로 스케일러를 학습(fit)하고,\n",
    "# 이 기준으로 모든 데이터셋(train, val, test)을 동일하게 변환합니다.\n",
    "# 이렇게 해야 테스트 과정에서 미래 정보(테스트셋의 최소/최대값)가 모델에 유출되는 것을 막을 수 있다.\n",
    "# validation dataset이나 test data로 스케일링을 할 시 데이터 누수 발생 가능\n",
    "\n",
    "from sklearn.preprocessing import MinMaxScaler\n",
    "import numpy as np\n",
    "\n",
    "\n",
    "\n",
    "# 1. MinMaxScaler 객체 생성 --- 범위를 0.1~0.9로 재설정\n",
    "scaler_X = MinMaxScaler(feature_range=(0.1, 0.9))\n",
    "scaler_y = MinMaxScaler(feature_range=(0.1, 0.9))\n",
    "\n",
    "\n",
    "\n",
    "\n",
    "X_train_norm = scaler_X.fit_transform(X_train) # 훈련 데이터로 스케일러 학습 및 변환 (fit_transform)\n",
    "y_train_norm = scaler_y.fit_transform(y_train) # X_train의 각 변수(컬럼)별로 최소값은 0, 최대값은 1이 되도록 변환됩니다.\n",
    "\n",
    "# 3. 학습된 스케일러로 검증 및 테스트 데이터 변환 (transform)\n",
    "# X_train의 기준으로 나머지 데이터들을 변환합니다.\n",
    "X_val_norm = scaler_X.transform(X_val)\n",
    "X_test_norm = scaler_X.transform(X_test)\n",
    "\n",
    "y_val_norm = scaler_y.transform(y_val)   # y_val 과 y_test 도 y_train 의 정규분포를 따라 변환된다\n",
    "y_test_norm = scaler_y.transform(y_test)\n",
    "\n",
    "\n",
    "#print(X_train_norm)\n",
    "\n",
    "#print(X_val_norm)\n",
    "\n",
    "#print(X_test_norm)\n",
    "\n",
    "#print(y_train_norm)\n",
    "\n",
    "#print(y_val_norm)\n",
    "\n",
    "#print(y_test_norm)\n",
    "\n",
    "# X_train_norm 은 [[x0~x7], [x0~x7],....,[x0~x7]] 에서 각 x0~x7은 각 열마다 각각 범위가 0~1로 범위가 변환됨\n",
    "# 이 변환된 정도를 X_val_norm 과 X_test_norm도 적용받음\n",
    "\n",
    "# 정규화 후 통계 확인\n",
    "print(\"정규화 후 통계:\")\n",
    "print(f\"X_train_norm: mean={X_train_norm.mean():.4f}, std={X_train_norm.std():.4f}\")\n",
    "print(f\"X_val_norm: mean={X_val_norm.mean():.4f}, std={X_val_norm.std():.4f}\")\n",
    "print(f\"X_test_norm: mean={X_test_norm.mean():.4f}, std={X_test_norm.std():.4f}\")\n",
    "print(f\"y_train_norm: mean={y_train_norm.mean():.4f}, std={y_train_norm.std():.4f}\")\n",
    "print(f\"y_val_norm: mean={y_val_norm.mean():.4f}, std={y_val_norm.std():.4f}\")\n",
    "print(f\"y_test_norm: mean={y_test_norm.mean():.4f}, std={y_test_norm.std():.4f}\")\n",
    "\n"
   ]
  },
  {
   "cell_type": "markdown",
   "id": "9ad59c20",
   "metadata": {},
   "source": [
    "step6. tensor 변환"
   ]
  },
  {
   "cell_type": "code",
   "execution_count": 8,
   "id": "482b4c61",
   "metadata": {},
   "outputs": [
    {
     "name": "stdout",
     "output_type": "stream",
     "text": [
      "모든 텐서가 cpu에 배치됨\n"
     ]
    }
   ],
   "source": [
    "# 딥러닝을 진행하기 전 모든 데이터셋을 tensor로 변환  # 원래는 numpy 배열이었음 --- 아까 scikitlearn의 train test split 이나 .fit transform 스케일러를 사용하였기에 \n",
    "X_train_tensor = torch.tensor(X_train_norm, dtype=torch.float32, device=device)\n",
    "X_val_tensor = torch.tensor(X_val_norm, dtype=torch.float32, device=device)\n",
    "X_test_tensor = torch.tensor(X_test_norm, dtype=torch.float32, device=device)\n",
    "y_train_tensor = torch.tensor(y_train_norm, dtype=torch.float32, device=device)\n",
    "y_val_tensor = torch.tensor(y_val_norm, dtype=torch.float32, device=device)\n",
    "y_test_tensor = torch.tensor(y_test_norm, dtype=torch.float32, device=device)\n",
    "\n",
    "print(f\"모든 텐서가 {device}에 배치됨\")\n"
   ]
  },
  {
   "cell_type": "markdown",
   "id": "996a7ee0",
   "metadata": {},
   "source": [
    "step7. dataset dictionary 만들기"
   ]
  },
  {
   "cell_type": "code",
   "execution_count": 9,
   "id": "d8165a42",
   "metadata": {},
   "outputs": [
    {
     "name": "stdout",
     "output_type": "stream",
     "text": [
      "train_input: torch.Size([1521, 8])\n",
      "train_label: torch.Size([1521, 1])\n",
      "val_input: torch.Size([381, 8])\n",
      "val_label: torch.Size([381, 1])\n",
      "test_input: torch.Size([476, 8])\n",
      "test_label: torch.Size([476, 1])\n"
     ]
    }
   ],
   "source": [
    "# 나중에 정의하기 편하게 dataset을 정의하기 -- 참고로 dataset들은 tensor 이다\n",
    "\n",
    "dataset = {'train_input': X_train_tensor,'train_label': y_train_tensor,\n",
    "            'val_input': X_val_tensor, 'val_label': y_val_tensor,\n",
    "            'test_input': X_test_tensor,'test_label': y_test_tensor }    # dataset dictionary에 key값과 value 값을 설정한다\n",
    "\n",
    "# 데이터셋 검토차 크기 확인\n",
    "for key, value in dataset.items():                     #.items()를 쓰면 key와 value 값을 묶어서 출력 // .items()가 없으면 오직 key만 출력\n",
    "    print(f\"{key}: {value.shape}\")\n",
    "\n"
   ]
  },
  {
   "cell_type": "markdown",
   "id": "7f52eab5",
   "metadata": {},
   "source": [
    "step8. 1개의 KAN 모델 생성"
   ]
  },
  {
   "cell_type": "code",
   "execution_count": 10,
   "id": "227d86c0",
   "metadata": {},
   "outputs": [
    {
     "name": "stdout",
     "output_type": "stream",
     "text": [
      "checkpoint directory created: ./model\n",
      "saving model version 0.0\n"
     ]
    }
   ],
   "source": [
    "# KAN 모델 생성\n",
    "model = KAN(width=[8,12,1], grid=3, k=3, seed=42, device=device)"
   ]
  },
  {
   "cell_type": "markdown",
   "id": "d6debc95",
   "metadata": {},
   "source": [
    "step9. KAN 학습 및 prune 후 재학습"
   ]
  },
  {
   "cell_type": "code",
   "execution_count": 11,
   "id": "947446ce",
   "metadata": {},
   "outputs": [
    {
     "name": "stderr",
     "output_type": "stream",
     "text": [
      "| train_loss: 1.75e-02 | test_loss: 1.60e-02 | reg: 2.90e+00 | : 100%|█| 50/50 [00:33<00:00,  1.50it\n"
     ]
    },
    {
     "name": "stdout",
     "output_type": "stream",
     "text": [
      "saving model version 0.1\n"
     ]
    },
    {
     "data": {
      "image/png": "[encoded data removed]",
      "text/plain": [
       "<Figure size 500x400 with 122 Axes>"
      ]
     },
     "metadata": {},
     "output_type": "display_data"
    }
   ],
   "source": [
    "# KAN 학습\n",
    "model.fit(dataset, opt=\"LBFGS\", steps=50, lamb=0.001)\n",
    "model.plot()"
   ]
  },
  {
   "cell_type": "markdown",
   "id": "d2f2ba8b",
   "metadata": {},
   "source": [
    "학습 가능 파라미터를 수정해보자 + model의 성질을 잠깐 출력해보자"
   ]
  },
  {
   "cell_type": "code",
   "execution_count": 12,
   "id": "1e9034fc",
   "metadata": {},
   "outputs": [
    {
     "name": "stdout",
     "output_type": "stream",
     "text": [
      "=== Step 1: 스케일 파라미터 수정 실험 준비 ===\n",
      "첫 번째 레이어 엣지 개수: torch.Size([8, 12])\n",
      "원본 scale_base (처음 3개): tensor([-0.0297,  0.1495, -0.0708], grad_fn=<SliceBackward0>)\n",
      "원본 scale_sp (처음 3개): tensor([0.2804, 0.3774, 0.3491], grad_fn=<SliceBackward0>)\n",
      "\n",
      "--- 원본 모델 상태 ---\n",
      "원본 공식: 0\n"
     ]
    },
    {
     "data": {
      "image/png": "[encoded data removed]",
      "text/plain": [
       "<Figure size 500x400 with 122 Axes>"
      ]
     },
     "metadata": {},
     "output_type": "display_data"
    }
   ],
   "source": [
    "import torch\n",
    "import numpy as np\n",
    "\n",
    "# 원본 파라미터 백업\n",
    "original_scale_base = model.act_fun[0].scale_base.clone()\n",
    "original_scale_sp = model.act_fun[0].scale_sp.clone()\n",
    "\n",
    "print(\"=== Step 1: 스케일 파라미터 수정 실험 준비 ===\")\n",
    "print(f\"첫 번째 레이어 엣지 개수: {model.act_fun[0].scale_base.shape}\")\n",
    "print(f\"원본 scale_base (처음 3개): {original_scale_base[0, :3]}\")\n",
    "print(f\"원본 scale_sp (처음 3개): {original_scale_sp[0, :3]}\")\n",
    "\n",
    "print(\"\\n--- 원본 모델 상태 ---\")\n",
    "model.plot()\n",
    "try:\n",
    "    formula_original = ex_round(model.symbolic_formula()[0][0], 4)\n",
    "    print(f\"원본 공식: {formula_original}\")\n",
    "except:\n",
    "    print(\"심볼릭 공식 생성 실패 (아직 심볼화되지 않았을 수 있음)\")"
   ]
  },
  {
   "cell_type": "code",
   "execution_count": 13,
   "id": "7fcce008",
   "metadata": {},
   "outputs": [
    {
     "name": "stdout",
     "output_type": "stream",
     "text": [
      "==================================================\n",
      "실험 1-1: Base function 비활성화 (w_b = 0)\n",
      "==================================================\n",
      "수정된 scale_base (처음 3개): tensor([0., 0., 0.], requires_grad=True)\n",
      "현재 scale_sp (처음 3개): tensor([0.2804, 0.3774, 0.3491], requires_grad=True)\n",
      "\n",
      "--- Base function OFF 결과 ---\n",
      "Base OFF 공식: 0\n",
      "\n",
      "🔍 관찰 포인트:\n",
      "- 활성화 함수가 더 복잡하고 비선형적으로 변했나요?\n",
      "- 스플라인만 사용하므로 더 '구불구불한' 패턴을 보이나요?\n"
     ]
    },
    {
     "data": {
      "image/png": "[encoded data removed]",
      "text/plain": [
       "<Figure size 500x400 with 122 Axes>"
      ]
     },
     "metadata": {},
     "output_type": "display_data"
    }
   ],
   "source": [
    "print(\"=\"*50)\n",
    "print(\"실험 1-1: Base function 비활성화 (w_b = 0)\")\n",
    "print(\"=\"*50)\n",
    "\n",
    "with torch.no_grad():\n",
    "    model.act_fun[0].scale_base.fill_(0.0)  # 모든 base 함수 끄기\n",
    "    print(f\"수정된 scale_base (처음 3개): {model.act_fun[0].scale_base[0, :3]}\")\n",
    "    print(f\"현재 scale_sp (처음 3개): {model.act_fun[0].scale_sp[0, :3]}\")\n",
    "\n",
    "print(\"\\n--- Base function OFF 결과 ---\")\n",
    "model.plot()\n",
    "try:\n",
    "    formula_no_base = ex_round(model.symbolic_formula()[0][0], 4)\n",
    "    print(f\"Base OFF 공식: {formula_no_base}\")\n",
    "except:\n",
    "    print(\"심볼릭 공식 생성 실패\")\n",
    "\n",
    "print(\"\\n🔍 관찰 포인트:\")\n",
    "print(\"- 활성화 함수가 더 복잡하고 비선형적으로 변했나요?\")\n",
    "print(\"- 스플라인만 사용하므로 더 '구불구불한' 패턴을 보이나요?\")\n"
   ]
  },
  {
   "cell_type": "code",
   "execution_count": 14,
   "id": "707e2550",
   "metadata": {},
   "outputs": [
    {
     "name": "stdout",
     "output_type": "stream",
     "text": [
      "==================================================\n",
      "실험 1-2: Spline function 비활성화 (w_s = 0)\n",
      "==================================================\n",
      "현재 scale_base (처음 3개): tensor([1., 1., 1.], requires_grad=True)\n",
      "수정된 scale_sp (처음 3개): tensor([0., 0., 0.], requires_grad=True)\n",
      "\n",
      "--- Spline function OFF 결과 ---\n",
      "Spline OFF 공식: 0\n",
      "\n",
      "🔍 관찰 포인트:\n",
      "- 활성화 함수가 단순해졌나요? (보통 SiLU 함수만 남음)\n",
      "- 모델이 더 선형적인 동작을 보이나요?\n",
      "- 원본 대비 성능이나 복잡도가 어떻게 변했나요?\n"
     ]
    },
    {
     "data": {
      "image/png": "[encoded data removed]",
      "text/plain": [
       "<Figure size 500x400 with 122 Axes>"
      ]
     },
     "metadata": {},
     "output_type": "display_data"
    }
   ],
   "source": [
    "print(\"=\"*50)\n",
    "print(\"실험 1-2: Spline function 비활성화 (w_s = 0)\")\n",
    "print(\"=\"*50)\n",
    "\n",
    "with torch.no_grad():\n",
    "    model.act_fun[0].scale_base.fill_(1.0)  # base w_b를 다 1로 만들기 -- 여기 origin scale_base 불러오는 것으로 수정하기\n",
    "    model.act_fun[0].scale_sp.fill_(0.0)   # 모든 spline 함수 끄기\n",
    "    print(f\"현재 scale_base (처음 3개): {model.act_fun[0].scale_base[0, :3]}\")\n",
    "    print(f\"수정된 scale_sp (처음 3개): {model.act_fun[0].scale_sp[0, :3]}\")\n",
    "\n",
    "print(\"\\n--- Spline function OFF 결과 ---\")\n",
    "model.plot()\n",
    "try:\n",
    "    formula_no_spline = ex_round(model.symbolic_formula()[0][0], 4)\n",
    "    print(f\"Spline OFF 공식: {formula_no_spline}\")\n",
    "except:\n",
    "    print(\"심볼릭 공식 생성 실패\")\n",
    "\n",
    "print(\"\\n🔍 관찰 포인트:\")\n",
    "print(\"- 활성화 함수가 단순해졌나요? (보통 SiLU 함수만 남음)\")\n",
    "print(\"- 모델이 더 선형적인 동작을 보이나요?\")\n",
    "print(\"- 원본 대비 성능이나 복잡도가 어떻게 변했나요?\")\n"
   ]
  },
  {
   "cell_type": "code",
   "execution_count": 15,
   "id": "2519be05",
   "metadata": {},
   "outputs": [
    {
     "name": "stdout",
     "output_type": "stream",
     "text": [
      "==================================================\n",
      "실험 1-3: Base vs Spline 비율 조정\n",
      "==================================================\n",
      "강화된 scale_base (처음 3개): tensor([-0.1487,  0.7477, -0.3540], requires_grad=True)\n",
      "약화된 scale_sp (처음 3개): tensor([0.0561, 0.0755, 0.0698], requires_grad=True)\n",
      "\n",
      "--- 비율 조정 결과 (Base 강화, Spline 약화) ---\n",
      "비율 조정 공식: 0\n",
      "\n",
      "🔍 관찰 포인트:\n",
      "- Base가 강화되어 더 단순하고 매끄러운 패턴을 보이나요?\n",
      "- Spline이 약화되어 비선형성이 줄어들었나요?\n",
      "- 원본과 비교했을 때 어떤 부분이 변했나요?\n"
     ]
    },
    {
     "data": {
      "image/png": "[encoded data removed]",
      "text/plain": [
       "<Figure size 500x400 with 122 Axes>"
      ]
     },
     "metadata": {},
     "output_type": "display_data"
    }
   ],
   "source": [
    "print(\"=\"*50)\n",
    "print(\"실험 1-3: Base vs Spline 비율 조정\")\n",
    "print(\"=\"*50)\n",
    "\n",
    "# 원본으로 일단 복원\n",
    "with torch.no_grad():\n",
    "    model.act_fun[0].scale_base.copy_(original_scale_base)\n",
    "    model.act_fun[0].scale_sp.copy_(original_scale_sp)\n",
    "\n",
    "# 비율 실험: base를 5배 강화, spline을 0.2배 약화\n",
    "with torch.no_grad():\n",
    "    model.act_fun[0].scale_base *= 5.0    # base 함수 5배 강화\n",
    "    model.act_fun[0].scale_sp *= 0.2      # spline 함수 0.2배 약화\n",
    "    \n",
    "    print(f\"강화된 scale_base (처음 3개): {model.act_fun[0].scale_base[0, :3]}\")\n",
    "    print(f\"약화된 scale_sp (처음 3개): {model.act_fun[0].scale_sp[0, :3]}\")\n",
    "\n",
    "print(\"\\n--- 비율 조정 결과 (Base 강화, Spline 약화) ---\")\n",
    "model.plot()\n",
    "try:\n",
    "    formula_ratio = ex_round(model.symbolic_formula()[0][0], 4)\n",
    "    print(f\"비율 조정 공식: {formula_ratio}\")\n",
    "except:\n",
    "    print(\"심볼릭 공식 생성 실패\")\n",
    "\n",
    "print(\"\\n🔍 관찰 포인트:\")\n",
    "print(\"- Base가 강화되어 더 단순하고 매끄러운 패턴을 보이나요?\")\n",
    "print(\"- Spline이 약화되어 비선형성이 줄어들었나요?\")\n",
    "print(\"- 원본과 비교했을 때 어떤 부분이 변했나요?\")\n"
   ]
  },
  {
   "cell_type": "code",
   "execution_count": null,
   "id": "b3fc05d6",
   "metadata": {},
   "outputs": [
    {
     "name": "stdout",
     "output_type": "stream",
     "text": [
      "==================================================\n",
      "실험 1-4: 특정 엣지만 선택적으로 수정\n",
      "==================================================\n",
      "수정된 엣지 [0→4]:\n",
      "  scale_base: 10.0\n",
      "  scale_sp: 0.0\n",
      "\n",
      "--- 특정 엣지 수정 결과 ---\n",
      "특정 엣지 수정 공식: 0\n",
      "\n",
      "🔍 관찰 포인트:\n",
      "- 특정 입력 변수(첫 번째 입력)의 영향력이 변했나요?\n",
      "- 다른 엣지들은 그대로인 상태에서 하나만 바뀐 효과를 관찰할 수 있나요?\n",
      "- 전체 모델에서 이 하나의 엣지가 얼마나 중요한 역할을 하는지 알 수 있나요?\n"
     ]
    },
    {
     "data": {
      "image/png": "[encoded data removed]",
      "text/plain": [
       "<Figure size 500x400 with 122 Axes>"
      ]
     },
     "metadata": {},
     "output_type": "display_data"
    }
   ],
   "source": [
    "print(\"=\"*50)\n",
    "print(\"실험 1-4: 특정 엣지만 선택적으로 수정\")\n",
    "print(\"=\"*50)\n",
    "\n",
    "# 원본으로 복원\n",
    "with torch.no_grad():\n",
    "    model.act_fun[0].scale_base.copy_(original_scale_base)\n",
    "    model.act_fun[0].scale_sp.copy_(original_scale_sp)\n",
    "\n",
    "# 첫 번째 입력(0)과 첫 번째 출력(0) 엣지만 극단적으로 수정\n",
    "target_input, target_output = 0, 4\n",
    "\n",
    "with torch.no_grad():\n",
    "    model.act_fun[0].scale_base[target_input, target_output] *= 10.0  # 이 엣지만 base 10배\n",
    "    model.act_fun[0].scale_sp[target_input, target_output] = 0.0     # 이 엣지만 spline 끄기\n",
    "    \n",
    "    print(f\"수정된 엣지 [{target_input}→{target_output}]:\")\n",
    "    print(f\"  scale_base: {model.act_fun[0].scale_base[target_input, target_output]}\")\n",
    "    print(f\"  scale_sp: {model.act_fun[0].scale_sp[target_input, target_output]}\")\n",
    "\n",
    "print(\"\\n--- 특정 엣지 수정 결과 ---\")\n",
    "model.plot()\n",
    "try:\n",
    "    formula_specific = ex_round(model.symbolic_formula()[0][0], 4)\n",
    "    print(f\"특정 엣지 수정 공식: {formula_specific}\")\n",
    "except:\n",
    "    print(\"심볼릭 공식 생성 실패\")\n",
    "\n",
    "print(\"\\n🔍 관찰 포인트:\")\n",
    "print(\"- 특정 입력 변수(첫 번째 입력)의 영향력이 변했나요?\")\n",
    "print(\"- 다른 엣지들은 그대로인 상태에서 하나만 바뀐 효과를 관찰할 수 있나요?\")\n",
    "print(\"- 전체 모델에서 이 하나의 엣지가 얼마나 중요한 역할을 하는지 알 수 있나요?\")\n"
   ]
  },
  {
   "cell_type": "code",
   "execution_count": 17,
   "id": "17331d67",
   "metadata": {},
   "outputs": [
    {
     "name": "stdout",
     "output_type": "stream",
     "text": [
      "==================================================\n",
      "실험 완료 - 원본 상태로 복원\n",
      "==================================================\n",
      "✅ 원본 상태로 복원 완료!\n",
      "복원된 scale_base (처음 3개): tensor([-0.0297,  0.1495, -0.0708], grad_fn=<SliceBackward0>)\n",
      "복원된 scale_sp (처음 3개): tensor([0.2804, 0.3774, 0.3491], grad_fn=<SliceBackward0>)\n",
      "\n",
      "--- 복원된 원본 모델 ---\n",
      "\n",
      "📋 Step 1 실험 요약:\n",
      "1. Base function OFF: 스플라인만 사용 → 더 복잡한 비선형 패턴\n",
      "2. Spline function OFF: Base만 사용 → 더 단순한 선형적 패턴\n",
      "3. 비율 조정: Base/Spline 비율 변경 → 복잡도 조절\n",
      "4. 특정 엣지 수정: 개별 연결 조작 → 국소적 영향 관찰\n",
      "\n",
      "다음 Step 2로 진행할 준비가 되었습니다! 🚀\n"
     ]
    },
    {
     "data": {
      "image/png": "[encoded data removed]",
      "text/plain": [
       "<Figure size 500x400 with 122 Axes>"
      ]
     },
     "metadata": {},
     "output_type": "display_data"
    }
   ],
   "source": [
    "print(\"=\"*50)\n",
    "print(\"실험 완료 - 원본 상태로 복원\")\n",
    "print(\"=\"*50)\n",
    "\n",
    "with torch.no_grad():\n",
    "    model.act_fun[0].scale_base.copy_(original_scale_base)\n",
    "    model.act_fun[0].scale_sp.copy_(original_scale_sp)\n",
    "\n",
    "print(\"✅ 원본 상태로 복원 완료!\")\n",
    "print(f\"복원된 scale_base (처음 3개): {model.act_fun[0].scale_base[0, :3]}\")\n",
    "print(f\"복원된 scale_sp (처음 3개): {model.act_fun[0].scale_sp[0, :3]}\")\n",
    "\n",
    "print(\"\\n--- 복원된 원본 모델 ---\")\n",
    "model.plot()\n",
    "\n",
    "print(\"\\n📋 Step 1 실험 요약:\")\n",
    "print(\"1. Base function OFF: 스플라인만 사용 → 더 복잡한 비선형 패턴\")\n",
    "print(\"2. Spline function OFF: Base만 사용 → 더 단순한 선형적 패턴\") \n",
    "print(\"3. 비율 조정: Base/Spline 비율 변경 → 복잡도 조절\")\n",
    "print(\"4. 특정 엣지 수정: 개별 연결 조작 → 국소적 영향 관찰\")\n",
    "print(\"\\n다음 Step 2로 진행할 준비가 되었습니다! 🚀\")\n"
   ]
  },
  {
   "cell_type": "code",
   "execution_count": 18,
   "id": "bbe9133d",
   "metadata": {},
   "outputs": [
    {
     "name": "stdout",
     "output_type": "stream",
     "text": [
      "--- 모델의 전체 구조 (print) ---\n",
      "MultKAN(\n",
      "  (act_fun): ModuleList(\n",
      "    (0-1): 2 x KANLayer(\n",
      "      (base_fun): SiLU()\n",
      "    )\n",
      "  )\n",
      "  (base_fun): SiLU()\n",
      "  (symbolic_fun): ModuleList(\n",
      "    (0-1): 2 x Symbolic_KANLayer()\n",
      "  )\n",
      ")\n",
      "\n",
      "--- 모델의 모든 속성 리스트 (dir) ---\n",
      "['T_destination', '__annotations__', '__call__', '__class__', '__delattr__', '__dict__', '__dir__', '__doc__', '__eq__', '__format__', '__ge__', '__getattr__', '__getattribute__', '__getstate__', '__gt__', '__hash__', '__init__', '__init_subclass__', '__le__', '__lt__', '__module__', '__ne__', '__new__', '__reduce__', '__reduce_ex__', '__repr__', '__setattr__', '__setstate__', '__sizeof__', '__str__', '__subclasshook__', '__weakref__', '_apply', '_backward_hooks', '_backward_pre_hooks', '_buffers', '_call_impl', '_compiled_call_impl', '_forward_hooks', '_forward_hooks_always_called', '_forward_hooks_with_kwargs', '_forward_pre_hooks', '_forward_pre_hooks_with_kwargs', '_get_backward_hooks', '_get_backward_pre_hooks', '_get_name', '_is_full_backward_hook', '_load_from_state_dict', '_load_state_dict_post_hooks', '_load_state_dict_pre_hooks', '_maybe_warn_non_full_backward_hook', '_modules', '_named_members', '_non_persistent_buffers_set', '_parameters', '_register_load_state_dict_pre_hook', '_register_state_dict_hook', '_replicate_for_data_parallel', '_save_to_state_dict', '_slow_forward', '_state_dict_hooks', '_state_dict_pre_hooks', '_version', '_wrapped_call_impl', 'act_fun', 'acts', 'acts_premult', 'acts_scale', 'acts_scale_spline', 'add_module', 'affine_trainable', 'apply', 'attribute', 'auto_save', 'auto_swap', 'auto_swap_l', 'auto_symbolic', 'base_fun', 'base_fun_name', 'bfloat16', 'buffers', 'cache_data', 'call_super_init', 'checkout', 'children', 'ckpt_path', 'compile', 'connection_cost', 'copy', 'cpu', 'cuda', 'depth', 'device', 'disable_symbolic_in_fit', 'double', 'dump_patches', 'edge_actscale', 'edge_scores', 'edge_scores_all', 'eval', 'evaluate', 'expand_depth', 'expand_width', 'extra_repr', 'feature_interaction', 'feature_score', 'fit', 'fix_symbolic', 'float', 'forward', 'get_act', 'get_buffer', 'get_extra_state', 'get_fun', 'get_parameter', 'get_params', 'get_range', 'get_reg', 'get_submodule', 'grid', 'grid_eps', 'grid_range', 'half', 'history', 'initialize_from_another_model', 'initialize_grid_from_another_model', 'input_id', 'ipu', 'k', 'load_state_dict', 'loadckpt', 'log_history', 'module', 'modules', 'mtia', 'mult_arity', 'mult_homo', 'n_edge', 'n_mult', 'n_sum', 'named_buffers', 'named_children', 'named_modules', 'named_parameters', 'node_attribute', 'node_bias', 'node_bias_0', 'node_bias_1', 'node_scale', 'node_scale_0', 'node_scale_1', 'node_scores', 'node_scores_all', 'parameters', 'perturb', 'plot', 'prune', 'prune_edge', 'prune_input', 'prune_node', 'refine', 'reg', 'register_backward_hook', 'register_buffer', 'register_forward_hook', 'register_forward_pre_hook', 'register_full_backward_hook', 'register_full_backward_pre_hook', 'register_load_state_dict_post_hook', 'register_load_state_dict_pre_hook', 'register_module', 'register_parameter', 'register_state_dict_post_hook', 'register_state_dict_pre_hook', 'remove_edge', 'remove_node', 'requires_grad_', 'rewind', 'round', 'save_act', 'saveckpt', 'sb_trainable', 'set_extra_state', 'set_mode', 'set_submodule', 'share_memory', 'sp_trainable', 'speed', 'spline_postacts', 'spline_postsplines', 'spline_preacts', 'state_dict', 'state_id', 'subnode_actscale', 'subnode_bias', 'subnode_bias_0', 'subnode_bias_1', 'subnode_scale', 'subnode_scale_0', 'subnode_scale_1', 'subnode_scores', 'subnode_scores_all', 'suggest_symbolic', 'swap', 'symbolic_acts', 'symbolic_acts_premult', 'symbolic_enabled', 'symbolic_formula', 'symbolic_fun', 'to', 'to_empty', 'train', 'training', 'tree', 'type', 'unfix_symbolic', 'unfix_symbolic_all', 'update_grid', 'update_grid_from_samples', 'width', 'width_in', 'width_out', 'xpu', 'zero_grad']\n"
     ]
    }
   ],
   "source": [
    "# 1. 모델의 전체 구조를 친절하게 출력해보기 (가장 추천!)\n",
    "print(\"--- 모델의 전체 구조 (print) ---\")\n",
    "print(model)\n",
    "\n",
    "# 2. 모델이 가진 모든 속성(변수, 함수) 리스트를 확인해보기\n",
    "print(\"\\n--- 모델의 모든 속성 리스트 (dir) ---\")\n",
    "print(dir(model))\n"
   ]
  },
  {
   "cell_type": "markdown",
   "id": "2ad68e51",
   "metadata": {},
   "source": [
    "학습가능 파라미터 수 "
   ]
  },
  {
   "cell_type": "code",
   "execution_count": 19,
   "id": "553f6ac5",
   "metadata": {},
   "outputs": [
    {
     "name": "stdout",
     "output_type": "stream",
     "text": [
      "학습가능 파라미터 수: 1,296\n",
      "act_fun.0.coef                           torch.Size([8, 12, 6])   576\n",
      "act_fun.0.scale_base                     torch.Size([8, 12])    96\n",
      "act_fun.0.scale_sp                       torch.Size([8, 12])    96\n",
      "act_fun.1.coef                           torch.Size([12, 1, 6])    72\n",
      "act_fun.1.scale_base                     torch.Size([12, 1])    12\n",
      "act_fun.1.scale_sp                       torch.Size([12, 1])    12\n",
      "symbolic_fun.0.affine                    torch.Size([12, 8, 4])   384\n",
      "symbolic_fun.1.affine                    torch.Size([1, 12, 4])    48\n"
     ]
    }
   ],
   "source": [
    "num_params = sum(p.numel() for p in model.parameters() if p.requires_grad)\n",
    "print(f\"학습가능 파라미터 수: {num_params:,}\")\n",
    "\n",
    "for name, p in model.named_parameters():\n",
    "    if p.requires_grad:\n",
    "        print(f\"{name:40s} {p.shape} {p.numel():5d}\")\n"
   ]
  },
  {
   "cell_type": "markdown",
   "id": "91261a8c",
   "metadata": {},
   "source": [
    "학습가능한 파라미터의 리스트를 나열해보자"
   ]
  },
  {
   "cell_type": "code",
   "execution_count": 20,
   "id": "324ce580",
   "metadata": {},
   "outputs": [
    {
     "name": "stdout",
     "output_type": "stream",
     "text": [
      "(감지된 모델 타입: MultKAN)\n",
      "\n",
      "  [ Layer 0 (KANLayer) ] \n",
      " \n",
      " > Coefficients Shape: (8, 12, 6)\n",
      "  > Coefficients List (전체 파라미터)\n",
      "[[[ 1.73718501e-02 -3.43479253e-02 -6.64361985e-04  1.11090774e-02\n",
      "    4.30452898e-02  4.67861481e-02]\n",
      "  [ 5.86232059e-02  2.04189867e-01  9.67531949e-02  4.57777567e-02\n",
      "   -7.90514275e-02 -5.97767718e-02]\n",
      "  [-6.27715737e-02 -8.60250667e-02 -4.24970500e-02 -9.13366303e-03\n",
      "    4.67293039e-02  5.97330779e-02]\n",
      "  [-7.55276084e-02 -6.23924695e-02 -4.56266291e-02 -2.57830303e-02\n",
      "   -1.57734507e-03  2.01082360e-02]\n",
      "  [-2.43144795e-01  2.39047304e-01  1.47484347e-01  6.44966066e-02\n",
      "   -7.60879368e-02 -1.38885126e-01]\n",
      "  [ 4.13936153e-02  3.07239685e-02  1.64053179e-02 -9.60812555e-04\n",
      "   -2.07921565e-02 -4.47404124e-02]\n",
      "  [ 3.04266587e-02  3.36498544e-02  3.32632624e-02  2.94334553e-02\n",
      "    2.79580951e-02  3.09191197e-02]\n",
      "  [-6.27955049e-02 -5.15330434e-02 -3.75561751e-02 -2.08712574e-02\n",
      "   -8.91445845e-04  1.86889246e-02]\n",
      "  [-4.79749516e-02 -5.61918877e-02 -6.04826137e-02 -6.70676753e-02\n",
      "   -7.40110055e-02 -8.22035596e-02]\n",
      "  [-1.31180463e-03 -6.31695380e-03 -1.32194133e-02 -2.12780386e-02\n",
      "   -3.10401935e-02 -4.07115631e-02]\n",
      "  [-2.54688729e-02 -2.95761805e-02 -2.67294925e-02 -2.52033416e-02\n",
      "   -2.20002495e-02 -2.20455118e-02]\n",
      "  [-2.89969780e-02 -1.75457090e-01 -8.29601660e-02 -3.68155576e-02\n",
      "    7.62720928e-02  9.01429076e-03]]\n",
      "\n",
      " [[-9.46693271e-02 -1.48040161e-01 -7.13346303e-02 -2.59927064e-02\n",
      "    6.85455054e-02  5.62212579e-02]\n",
      "  [ 3.41934785e-02  2.67579611e-02  1.54510913e-02  2.18459871e-03\n",
      "   -1.34207336e-02 -3.01370602e-02]\n",
      "  [ 3.88920773e-03 -4.05971054e-03 -1.28166033e-02 -2.34395228e-02\n",
      "   -3.61479260e-02 -4.78773899e-02]\n",
      "  [-7.80248567e-02 -6.04907721e-02 -4.79419939e-02 -3.02792005e-02\n",
      "   -1.16546024e-02  1.32668456e-02]\n",
      "  [-2.83358097e-02  3.81086171e-02  2.12484971e-02  8.12940113e-03\n",
      "   -2.14105509e-02 -2.72973981e-02]\n",
      "  [ 3.44454162e-02  1.06571108e-01  5.82521334e-02  3.86039130e-02\n",
      "   -1.33815883e-02  1.56475035e-05]\n",
      "  [ 5.53331338e-02  5.50419874e-02  3.51583734e-02  1.62082817e-02\n",
      "   -1.00169675e-02 -2.60008853e-02]\n",
      "  [-1.95760410e-02 -1.42747210e-02 -7.54102878e-03  5.98044717e-04\n",
      "    1.00126779e-02  2.04572342e-02]\n",
      "  [-9.36738476e-02 -1.02014288e-01 -7.42167681e-02 -5.01225479e-02\n",
      "   -1.52665898e-02  6.40628347e-03]\n",
      "  [-9.69515294e-02 -1.02550730e-01 -5.57243153e-02 -1.42471408e-02\n",
      "    4.61603068e-02  7.84786418e-02]\n",
      "  [-9.22726840e-02 -1.60115167e-01 -7.06369802e-02 -8.17791745e-03\n",
      "    1.02537572e-01  1.14795089e-01]\n",
      "  [-6.54034615e-02 -9.63133350e-02 -4.35090363e-02 -4.44107456e-03\n",
      "    6.49784580e-02  7.07454383e-02]]\n",
      "\n",
      " [[ 6.77364599e-03 -1.42104417e-01 -7.05022141e-02 -3.81360389e-02\n",
      "    4.21132222e-02 -2.13991180e-02]\n",
      "  [ 1.73621867e-02  9.82870534e-02  5.01096658e-02  3.20258923e-02\n",
      "   -1.88433342e-02 -4.83128196e-03]\n",
      "  [-2.83915922e-02 -1.43618342e-02  4.29471303e-03  2.62120422e-02\n",
      "    5.23202792e-02  7.77742565e-02]\n",
      "  [-7.30715692e-02 -5.67697883e-02 -3.55032794e-02 -9.76089854e-03\n",
      "    1.95564702e-02  5.30702397e-02]\n",
      "  [-4.28294420e-01  2.95299470e-01  2.10350543e-01  1.33273646e-01\n",
      "    9.16747283e-03 -1.37383282e-01]\n",
      "  [ 2.71631759e-02  1.21550620e-01  7.44199827e-02  6.11339994e-02\n",
      "    1.58675462e-02  2.49884613e-02]\n",
      "  [-1.66803509e-01 -3.29883746e-03  4.50100571e-01 -1.57047540e-01\n",
      "   -7.71645531e-02  3.36701376e-03]\n",
      "  [-8.68741721e-02 -6.71931431e-02 -4.20916788e-02 -1.18615441e-02\n",
      "    2.30157413e-02  6.11812584e-02]\n",
      "  [-5.82765564e-02 -1.33886069e-01 -8.65425691e-02 -6.22026064e-02\n",
      "   -1.10386750e-02 -5.04699815e-03]\n",
      "  [ 4.02599387e-02  2.63449568e-02  1.50803262e-02  3.28327296e-04\n",
      "   -1.59484409e-02 -3.58266123e-02]\n",
      "  [-4.67275828e-03 -8.91991332e-02 -2.36755833e-02  1.33294938e-02\n",
      "    8.94660577e-02  8.49365517e-02]\n",
      "  [ 2.02613864e-02 -2.12104067e-01 -7.59808645e-02 -3.50897126e-02\n",
      "    1.34642601e-01  6.25959039e-02]]\n",
      "\n",
      " [[-9.87389460e-02 -8.86607021e-02 -7.40179047e-02 -5.67714758e-02\n",
      "   -3.65113430e-02 -1.48841664e-02]\n",
      "  [ 1.96520295e-02  1.30433803e-02  4.18106327e-03 -6.41578948e-03\n",
      "   -1.87634062e-02 -3.19486521e-02]\n",
      "  [-8.79640579e-02 -9.50992480e-02 -6.47399798e-02 -3.68542746e-02\n",
      "    1.77906395e-03  2.66999081e-02]\n",
      "  [ 4.97579612e-02  3.17482352e-02  7.32240500e-03 -2.17616837e-02\n",
      "   -5.56743294e-02 -9.24698114e-02]\n",
      "  [ 1.07803106e-01  6.94708377e-02  3.90286483e-02 -4.53642523e-03\n",
      "   -4.68851551e-02 -1.13759935e-01]\n",
      "  [ 7.07363188e-02  5.89451864e-02  4.21964601e-02  2.24364195e-02\n",
      "   -8.70886957e-04 -2.50682775e-02]\n",
      "  [ 4.82721291e-02  5.14110923e-02  4.83029559e-02  4.63666879e-02\n",
      "    4.26998474e-02  4.22381498e-02]\n",
      "  [-6.34615123e-02 -9.76513177e-02 -4.03762609e-02 -1.94601103e-04\n",
      "    7.30048865e-02  7.64986053e-02]\n",
      "  [-6.71366379e-02 -7.41363764e-02 -5.48465587e-02 -3.90602648e-02\n",
      "   -1.51980910e-02 -6.66646869e-04]\n",
      "  [-3.11761964e-02 -3.54306549e-02 -3.97922806e-02 -4.53883260e-02\n",
      "   -5.15738651e-02 -5.89931495e-02]\n",
      "  [-5.04331551e-02 -4.57004011e-02 -3.84807549e-02 -3.01564615e-02\n",
      "   -2.02119555e-02 -1.02910893e-02]\n",
      "  [-1.34854987e-01 -1.19861320e-01 -9.83303040e-02 -7.30840042e-02\n",
      "   -4.32855785e-02 -1.18075619e-02]]\n",
      "\n",
      " [[-6.82964027e-02 -5.62927239e-02 -3.67130823e-02 -1.40584446e-02\n",
      "    1.24640344e-02  4.08295542e-02]\n",
      "  [ 6.44581020e-02  9.36737061e-02  5.40778004e-02  2.65005454e-02\n",
      "   -2.36597359e-02 -2.51350682e-02]\n",
      "  [-3.16992849e-02 -7.22551644e-02 -3.40486020e-02 -1.26931826e-02\n",
      "    3.26496623e-02  2.71733645e-02]\n",
      "  [ 2.55169012e-02  1.29714115e-02 -2.44447007e-03 -2.07614377e-02\n",
      "   -4.25634906e-02 -6.33412227e-02]\n",
      "  [ 3.51094007e-02  3.16286460e-02  2.73211747e-02  2.22165417e-02\n",
      "    1.57837905e-02  1.22709945e-02]\n",
      "  [-4.71641863e-04  1.72396773e-03 -3.69361159e-03 -8.06104206e-03\n",
      "   -1.49078583e-02 -1.75368655e-02]\n",
      "  [ 3.58560239e-03  1.54921487e-02  2.66098627e-03 -2.99380091e-03\n",
      "   -1.73437577e-02 -2.05055587e-02]\n",
      "  [-1.45411324e-02 -1.86602492e-02 -2.38969494e-02 -3.02606262e-02\n",
      "   -3.74249481e-02 -4.59173508e-02]\n",
      "  [-9.43822414e-02 -8.23698565e-02 -6.69735745e-02 -4.85430099e-02\n",
      "   -2.72652786e-02 -4.12827590e-03]\n",
      "  [ 4.88908663e-02  3.58058475e-02  1.18482159e-02 -1.49585530e-02\n",
      "   -4.74405549e-02 -7.88821876e-02]\n",
      "  [-6.49956241e-02 -4.79911938e-02 -2.75756307e-02 -2.67093629e-03\n",
      "    2.55559608e-02  5.78173138e-02]\n",
      "  [-6.52382001e-02 -6.55677319e-02 -6.71503022e-02 -6.88831657e-02\n",
      "   -7.08378851e-02 -7.34822229e-02]]\n",
      "\n",
      " [[ 2.08479725e-02  1.53889414e-03 -1.90638918e-02 -4.54200581e-02\n",
      "   -7.40962029e-02 -1.12563342e-01]\n",
      "  [ 2.25784928e-02  2.43225638e-02  2.64073461e-02  2.89616846e-02\n",
      "    3.18687484e-02  3.52858752e-02]\n",
      "  [-6.16666153e-02 -6.56936094e-02 -3.19906771e-02 -5.01794450e-04\n",
      "    4.28994484e-02  7.29763657e-02]\n",
      "  [-1.32673252e-02 -1.84631608e-02 -2.06391029e-02 -2.47842409e-02\n",
      "   -2.77946182e-02 -3.67164575e-02]\n",
      "  [ 1.24848992e-01  1.14519313e-01  8.35997537e-02  4.99589480e-02\n",
      "    1.11555560e-02 -4.71015833e-02]\n",
      "  [-2.96723899e-02 -1.16236666e-02  5.00740809e-03  2.67256033e-02\n",
      "    5.09305336e-02  7.90693164e-02]\n",
      "  [ 6.16405942e-02  4.64422219e-02  2.78217588e-02  4.89353295e-03\n",
      "   -2.10622679e-02 -5.16898558e-02]\n",
      "  [-6.74969777e-02 -1.06497929e-01 -3.93766835e-02  1.28392858e-04\n",
      "    9.02549475e-02  6.70314208e-02]\n",
      "  [-3.21101099e-02 -1.06253847e-01 -3.15677747e-02  8.00165627e-03\n",
      "    9.83948931e-02  8.41844007e-02]\n",
      "  [-2.45190524e-02 -2.42308732e-02 -2.39005163e-02 -2.33345218e-02\n",
      "   -2.27763299e-02 -2.21488196e-02]\n",
      "  [-2.72072461e-02 -2.66930778e-02 -2.83806399e-02 -2.98298225e-02\n",
      "   -3.19389887e-02 -3.33193727e-02]\n",
      "  [-5.11438176e-02 -6.73189685e-02 -3.84424478e-02 -1.72078609e-02\n",
      "    1.77665427e-02  3.66753563e-02]]\n",
      "\n",
      " [[-5.23879044e-02 -4.45396528e-02 -3.26410867e-02 -1.87742393e-02\n",
      "   -2.41350755e-03  1.47094065e-02]\n",
      "  [ 8.81282091e-02  1.87519431e-01  9.21144709e-02  3.23715732e-02\n",
      "   -7.94963017e-02 -8.63890871e-02]\n",
      "  [-1.47667434e-02 -1.98007375e-02 -2.63824221e-02 -3.42608616e-02\n",
      "   -4.33527641e-02 -5.33979163e-02]\n",
      "  [-5.76573461e-02 -4.04790677e-02 -2.23368909e-02  3.07429262e-04\n",
      "    2.58611552e-02  5.48050851e-02]\n",
      "  [ 3.55444141e-02  4.60213497e-02  3.80229354e-02  2.65112482e-02\n",
      "    1.86439380e-02  1.32059082e-02]\n",
      "  [ 2.16230750e-02  1.73357446e-02  9.59939975e-03  1.21261098e-03\n",
      "   -9.52781737e-03 -1.79041419e-02]\n",
      "  [ 3.69322412e-02  7.74216205e-02  4.62105796e-02  2.66377740e-02\n",
      "   -8.89531244e-03 -1.68056581e-02]\n",
      "  [-1.08315803e-01 -1.14661098e-01 -8.03523064e-02 -4.92117256e-02\n",
      "   -5.42375864e-03  2.13893875e-02]\n",
      "  [-2.38347687e-02 -2.81027630e-02 -3.45300734e-02 -4.20478210e-02\n",
      "   -5.08343168e-02 -6.02217130e-02]\n",
      "  [-4.42187209e-03  3.56994104e-03  1.13746878e-02  2.11360920e-02\n",
      "    3.24533060e-02  4.38808762e-02]\n",
      "  [-2.70945653e-02 -8.95101130e-02 -1.91943012e-02  2.49438621e-02\n",
      "    1.11882716e-01  1.00741915e-01]\n",
      "  [-1.26373306e-01 -1.33100644e-01 -7.78813362e-02 -2.76142992e-02\n",
      "    4.28121090e-02  8.80068317e-02]]\n",
      "\n",
      " [[-1.37743000e-02 -2.54353248e-02 -4.17893082e-02 -6.06396981e-02\n",
      "   -8.33659545e-02 -1.03902243e-01]\n",
      "  [ 1.01985648e-01  1.59766972e-01  8.28700289e-02  2.82633901e-02\n",
      "   -6.66141957e-02 -6.61470369e-02]\n",
      "  [ 6.65192232e-02  5.24804704e-02  1.66975372e-02 -2.01792158e-02\n",
      "   -6.82085454e-02 -1.05161600e-01]\n",
      "  [-1.63515098e-02 -2.42259912e-02 -3.41250449e-02 -4.58497740e-02\n",
      "   -5.97223230e-02 -7.27651641e-02]\n",
      "  [ 8.79163593e-02  9.18464437e-02  4.87120561e-02  1.61229093e-02\n",
      "   -3.42020206e-02 -6.19995482e-02]\n",
      "  [ 2.36337781e-02  2.38217879e-02  2.38138884e-02  2.39349883e-02\n",
      "    2.39364728e-02  2.43196525e-02]\n",
      "  [-1.09394677e-02  2.76443716e-02  2.90059354e-02  4.35552970e-02\n",
      "    4.98205200e-02  8.36845338e-02]\n",
      "  [-7.83398096e-03 -2.49164160e-02 -3.44720073e-02 -4.92280684e-02\n",
      "   -6.34236559e-02 -8.63529295e-02]\n",
      "  [-1.09662473e-01 -1.16061091e-01 -6.53772056e-02 -1.89665779e-02\n",
      "    4.53176163e-02  8.45026299e-02]\n",
      "  [-6.33971617e-02 -4.91086431e-02 -3.65248434e-02 -1.98448300e-02\n",
      "   -2.10882025e-03  2.12472565e-02]\n",
      "  [-1.13417007e-01 -1.10312089e-01 -7.20845386e-02 -3.48902270e-02\n",
      "    1.46542378e-02  5.07665537e-02]\n",
      "  [-4.10022773e-02 -3.08081508e-02 -1.51504762e-02  3.10138217e-03\n",
      "    2.43985280e-02  4.61598225e-02]]]\n",
      "\n",
      "  [ Layer 1 (KANLayer) ] \n",
      " \n",
      " > Coefficients Shape: (12, 1, 6)\n",
      "  > Coefficients List (전체 파라미터)\n",
      "[[[ 0.07667837  0.07683785  0.07647088  0.07619099  0.07582277\n",
      "    0.07631341]]\n",
      "\n",
      " [[ 0.1665024   0.16428968  0.1625866   0.16078421  0.15929475\n",
      "    0.1571687 ]]\n",
      "\n",
      " [[ 0.12307891  0.12313184  0.12320817  0.12329044  0.1233727\n",
      "    0.12349474]]\n",
      "\n",
      " [[ 0.1346401   0.13465902  0.13467732  0.13469422  0.13471232\n",
      "    0.13475664]]\n",
      "\n",
      " [[ 0.6746312   0.3486325   0.03222506 -0.17945948 -0.30849674\n",
      "    0.37898368]]\n",
      "\n",
      " [[ 0.14812398  0.14742109  0.14686869  0.14632045  0.14589696\n",
      "    0.14486742]]\n",
      "\n",
      " [[-0.00123469 -0.00796754 -0.01412925 -0.0197847  -0.02395551\n",
      "   -0.02838616]]\n",
      "\n",
      " [[ 0.1075074   0.10796591  0.10831716  0.1087304   0.10900661\n",
      "    0.11019851]]\n",
      "\n",
      " [[ 0.16143152  0.16235821  0.16312918  0.16408463  0.16486774\n",
      "    0.16680193]]\n",
      "\n",
      " [[ 0.11066749  0.11084629  0.11085383  0.11088204  0.11090823\n",
      "    0.11086769]]\n",
      "\n",
      " [[ 0.15524171  0.15556549  0.15620981  0.15690292  0.1575799\n",
      "    0.15836142]]\n",
      "\n",
      " [[ 0.04186454  0.04038214  0.03943769  0.03844374  0.0374391\n",
      "    0.03654508]]]\n"
     ]
    }
   ],
   "source": [
    "import numpy as np\n",
    "import torch\n",
    "\n",
    "def print_parameters(model):\n",
    "  \n",
    "    \n",
    "    target_layers = None\n",
    "    model_type_name = type(model).__name__   # class 이름 알려주기  -- 보통 MultKIKAN이다\n",
    "    \n",
    "    print(f\"(감지된 모델 타입: {model_type_name})\")\n",
    "    \n",
    "\n",
    "\n",
    "   \n",
    "    if model_type_name == 'MultKAN':\n",
    "        target_layers = model.act_fun\n",
    "    elif model_type_name == 'KAN':\n",
    "        target_layers = model.layers\n",
    "    else:\n",
    "        print(f\"[에러] 지원되지 않는 모델 타입입니다: {model_type_name}\")\n",
    "        return\n",
    "\n",
    "\n",
    "\n",
    "\n",
    "\n",
    "    # layer 자체의 coef 속성에 직접 접근합니다.\n",
    "    for i, layer in enumerate(target_layers):                        # enumerate 는 layer의 원소와 이름을 쌍으로 가져옴   # (0, 첫번째 레이어), (1, 두번째 레이어), ...\n",
    "\n",
    "        print(f\"\\n  [ Layer {i} ({type(layer).__name__}) ] \")\n",
    "        \n",
    "        # 'KANLayer' 객체(layer)가 가진 .coef 속성을 직접 가져옵니다.\n",
    "        # 이로써 내부 for문이 완전히 사라지고 코드가 더 간결해졌습니다.\n",
    "        coeffs = layer.coef.detach().cpu().numpy()\n",
    "        \n",
    "        print(f\" \\n > Coefficients Shape: {coeffs.shape}\")\n",
    "        print(f\"  > Coefficients List (전체 파라미터)\")\n",
    "        print(f\"{coeffs}\")  # 이게 파라미터들의 리스트\n",
    "            \n",
    "    \n",
    "\n",
    "# 이 최종 완성된 함수를 실행합니다.\n",
    "print_parameters(model)\n",
    "\n",
    "# [팁] 파라미터 리스트가 너무 길어서 [...]로 생략된다면,NumPy의 출력 옵션을 설정하여 전체 배열을 볼 수 있음\n",
    "# np.set_printoptions(threshold=np.inf)\n",
    "\n",
    "\n"
   ]
  },
  {
   "cell_type": "code",
   "execution_count": 21,
   "id": "97aa8bd6",
   "metadata": {},
   "outputs": [
    {
     "name": "stdout",
     "output_type": "stream",
     "text": [
      "saving model version 0.2\n"
     ]
    },
    {
     "data": {
      "image/png": "[encoded data removed]",
      "text/plain": [
       "<Figure size 500x400 with 12 Axes>"
      ]
     },
     "metadata": {},
     "output_type": "display_data"
    }
   ],
   "source": [
    "#pruning\n",
    "model = model.prune(node_th=1e-2, edge_th=3e-2)  # 더 자르고 싶으면 값을 높이고, 덜 자르고 변수를 많이 있게 하고 싶으면 값을 낮추기\n",
    "model.plot()"
   ]
  },
  {
   "cell_type": "code",
   "execution_count": 22,
   "id": "52219276",
   "metadata": {},
   "outputs": [
    {
     "name": "stderr",
     "output_type": "stream",
     "text": [
      "| train_loss: 1.65e-02 | test_loss: 1.54e-02 | reg: 3.71e+00 | : 100%|█| 50/50 [00:08<00:00,  5.63it\n"
     ]
    },
    {
     "name": "stdout",
     "output_type": "stream",
     "text": [
      "saving model version 0.3\n"
     ]
    },
    {
     "data": {
      "image/png": "[encoded data removed]",
      "text/plain": [
       "<Figure size 500x400 with 12 Axes>"
      ]
     },
     "metadata": {},
     "output_type": "display_data"
    }
   ],
   "source": [
    "#학습\n",
    "model.fit(dataset, opt=\"LBFGS\", steps=50)  # update_grid 가 False일때랑 True일때의 차이는?\n",
    "model.plot()"
   ]
  },
  {
   "cell_type": "markdown",
   "id": "6d477e33",
   "metadata": {},
   "source": [
    "step10. KAN refine(grid extension) 후 재학습"
   ]
  },
  {
   "cell_type": "code",
   "execution_count": 23,
   "id": "29921454",
   "metadata": {},
   "outputs": [
    {
     "name": "stdout",
     "output_type": "stream",
     "text": [
      "saving model version 0.4\n"
     ]
    },
    {
     "name": "stderr",
     "output_type": "stream",
     "text": [
      "| train_loss: 1.25e-02 | test_loss: 1.62e-02 | reg: 3.75e+00 | : 100%|█| 50/50 [00:12<00:00,  3.99it\n"
     ]
    },
    {
     "name": "stdout",
     "output_type": "stream",
     "text": [
      "saving model version 0.5\n"
     ]
    },
    {
     "data": {
      "image/png": "[encoded data removed]",
      "text/plain": [
       "<Figure size 500x400 with 12 Axes>"
      ]
     },
     "metadata": {},
     "output_type": "display_data"
    }
   ],
   "source": [
    "# refine(grid extension) 그리드 세분화(구간 세분화)(전체 구간 개수 30개로 변화) \n",
    "model = model.refine(30)\n",
    "model.fit(dataset, opt=\"LBFGS\", steps=50)\n",
    "model.plot()"
   ]
  },
  {
   "cell_type": "markdown",
   "id": "445c58e6",
   "metadata": {},
   "source": [
    "step11. KAN symbolification"
   ]
  },
  {
   "cell_type": "code",
   "execution_count": 24,
   "id": "666a6d8c",
   "metadata": {},
   "outputs": [
    {
     "name": "stdout",
     "output_type": "stream",
     "text": [
      "fixing (0,0,0) with exp, r2=0.9814107418060303, c=2\n",
      "fixing (0,1,0) with x, r2=0.9497223496437073, c=1\n",
      "fixing (0,2,0) with x, r2=0.728888213634491, c=1\n",
      "fixing (0,3,0) with 0\n",
      "fixing (0,4,0) with 0\n",
      "fixing (0,5,0) with 0\n",
      "fixing (0,6,0) with x, r2=0.7060781717300415, c=1\n",
      "fixing (0,7,0) with x, r2=0.6618900895118713, c=1\n",
      "fixing (1,0,0) with x, r2=0.9917652010917664, c=1\n",
      "saving model version 0.6\n"
     ]
    },
    {
     "data": {
      "image/png": "[encoded data removed]",
      "text/plain": [
       "<Figure size 500x400 with 12 Axes>"
      ]
     },
     "metadata": {},
     "output_type": "display_data"
    }
   ],
   "source": [
    "# 자동 모드로 심볼릭 회귀 수행\n",
    "lib = ['x', 'x^2', 'x^3', 'x^4', 'exp', 'log', 'sqrt', 'tanh', 'sin']   #'x^(-1)', 'x^(-2)', 'x^(-3)', 'x^(-4)'\n",
    "model.auto_symbolic(lib=lib)\n",
    "model.plot()"
   ]
  },
  {
   "cell_type": "code",
   "execution_count": 25,
   "id": "eb7e1c7e",
   "metadata": {},
   "outputs": [
    {
     "name": "stderr",
     "output_type": "stream",
     "text": [
      "| train_loss: 7.00e-02 | test_loss: 7.26e-02 | reg: 0.00e+00 | : 100%|█| 50/50 [00:03<00:00, 12.68it\n"
     ]
    },
    {
     "name": "stdout",
     "output_type": "stream",
     "text": [
      "saving model version 0.7\n"
     ]
    },
    {
     "data": {
      "image/png": "[encoded data removed]",
      "text/plain": [
       "<Figure size 500x400 with 12 Axes>"
      ]
     },
     "metadata": {},
     "output_type": "display_data"
    }
   ],
   "source": [
    "# symbolic 함수로 대체 후 학습\n",
    "model.fit(dataset, opt=\"LBFGS\", steps=50)\n",
    "model.plot()"
   ]
  },
  {
   "cell_type": "markdown",
   "id": "a2914843",
   "metadata": {},
   "source": [
    "step12. symbolic 수식 출력"
   ]
  },
  {
   "cell_type": "code",
   "execution_count": 26,
   "id": "9988d940",
   "metadata": {},
   "outputs": [
    {
     "name": "stdout",
     "output_type": "stream",
     "text": [
      "formula = -0.1248*x_2 - 0.4409*x_3 + 0.028*x_7 + 0.0185*x_8 + 0.4909 + 0.5633*exp(-8.7999*x_1)\n",
      "(x_1: Current density, x_2: Faradaic efficiency, ... x_8: crossover rate)\n"
     ]
    }
   ],
   "source": [
    "# 심볼릭 수식 출력\n",
    "formula = ex_round(model.symbolic_formula()[0][0], 4)  # ex_round(  , 4) -- 소수점 뒤에 숫자 4개? // \n",
    "print(\"formula =\" , formula)  \n",
    "print('(x_1: Current density, x_2: Faradaic efficiency, ... x_8: crossover rate)')\n"
   ]
  },
  {
   "cell_type": "markdown",
   "id": "f43772d9",
   "metadata": {},
   "source": [
    "step13. KAN이 예측한 수식 정확도 검증을 위한 함수 정의"
   ]
  },
  {
   "cell_type": "code",
   "execution_count": 27,
   "id": "d723e550",
   "metadata": {},
   "outputs": [],
   "source": [
    "# validation set으로 성능을 평가하는 함수 만들기\n",
    "def evaluate_model_performance(model, dataset, scaler_y, phase=\"validation\"):    # phase = validation 아니면 test 이다\n",
    "    \n",
    "    \n",
    "    if phase == \"validation\":\n",
    "        input_tensor = dataset['val_input']\n",
    "        label_tensor = dataset['val_label']\n",
    "    elif phase == \"test\":\n",
    "        input_tensor = dataset['test_input']\n",
    "        label_tensor = dataset['test_label']\n",
    "    else:\n",
    "        raise ValueError(\"phase는 'validation' 또는 'test'만 가능합니다\")\n",
    "    \n",
    "    # 예측 수행\n",
    "    with torch.no_grad():  # 굳이 기울기 계산할 필요 X because 이거는 test 이기에 학습 X --- 시간 더 빠르게 하려고 torch.no_grad()\n",
    "        pred_norm = model(input_tensor) #input_tensor 는 val_inut or test_input / pred_norm은 그에 대한 출력값\n",
    "    \n",
    "    # 역정규화\n",
    "    pred_real = scaler_y.inverse_transform(pred_norm.cpu().detach().numpy())   # pred_real 은 0.1~0.9 사이의 입력 val_input or test_input을 받고 출력된 값은 다시 역정규화 한 실제 출력값\n",
    "    label_real = scaler_y.inverse_transform(label_tensor.cpu().detach().numpy()) # label_real은 0.1~0.9 사이의 입력 val_label or test_label을 받고 출력한 값 역정규화\n",
    "    # inverse_transform 함수는  numpy 를 입력으로 받기 떄문에 pytorch tensor를 cpu로 옮기고 numpy로 변환\n",
    "    \n",
    "    # numpy는 cpu에서만 돌아가니까 tensor를 .cpu로 옮기고 그다음 tensor의 추가정보 (numpy 정보 + 어떻게 계산되었는지 식에 대한 정보)를 detach --- 그 다음에 .numpy()를 통해 numpy로 변환\n",
    "    \n",
    "    # 성능 지표 계산 from 역정규화된 label_real, pred_real 값들 from val input or test input + numpy에서 계산\n",
    "    rmse = np.sqrt(mean_squared_error(label_real, pred_real))  # 오차 제곱 평균의 루트\n",
    "    r2 = r2_score(label_real, pred_real)  #1에 가까울수록 좋다 \n",
    "    mae = np.mean(np.abs(label_real - pred_real)) # 오차 절댓값들의 평균 -- MAE\n",
    "    \n",
    "    print(f\"{phase} SET Performance Evaluation\") # phase = validation 또는 test \n",
    "    print(f\"RMSE: {rmse:.4f}\")     # f\"{변수:포맷코드}\"\n",
    "    print(f\"R²: {r2:.4f}\")\n",
    "    print(f\"MAE: {mae:.4f}\")\n",
    "    \n",
    "    print(f\"실제값 평균: {label_real.mean():.4f}\")  #label_real의 평균값(실제값)\n",
    "    print(f\"예측값 평균: {pred_real.mean():.4f}\")   #pred_real의 평균값(KAN 모델로 예측한 값)\n",
    "    \n",
    "    return pred_real, label_real, {'rmse': rmse, 'r2': r2, 'mae': mae}"
   ]
  },
  {
   "cell_type": "markdown",
   "id": "fb77ff0c",
   "metadata": {},
   "source": [
    "Step14. Validation data(검증셋)으로 성능 평가"
   ]
  },
  {
   "cell_type": "code",
   "execution_count": 28,
   "id": "497efffd",
   "metadata": {},
   "outputs": [
    {
     "name": "stdout",
     "output_type": "stream",
     "text": [
      "validation SET Performance Evaluation\n",
      "RMSE: 0.1327\n",
      "R²: 0.7479\n",
      "MAE: 0.0879\n",
      "실제값 평균: 0.4463\n",
      "예측값 평균: 0.4332\n"
     ]
    }
   ],
   "source": [
    "# validation dataset(검증셋)으로 성능 평가 (모델 개발 과정에서)\n",
    "val_pred, val_actual, val_metrics = evaluate_model_performance(model, dataset, scaler_y, \"validation\")\n",
    "\n",
    "#scaler_y : step5 에서 정의한 정규화된 y 변환법\n",
    "# validation --- 검증셋 이용할거라는 의미 / 나중에 \n",
    "# val_pred 변수: evaluate_model_performance 함수가 반환한 첫 번째 결과물(pred_real)(모델의 예측값 배열)이 저장\n",
    "# val_actual 변수: 함수가 반환한 두 번째 결과물(label_real)(실제 정답 값 배열)이 저장\n",
    "# val_metrics 변수: 함수가 반환한 세 번째 결과물(RMSE, R², MAE가 담긴 딕셔너리)이 저장\n"
   ]
  },
  {
   "cell_type": "markdown",
   "id": "937e66a3",
   "metadata": {},
   "source": [
    "step15. KAN이 예측한 수식의 정확도 최종계산 _ using test_input, test_label"
   ]
  },
  {
   "cell_type": "code",
   "execution_count": 29,
   "id": "8acf1afc",
   "metadata": {},
   "outputs": [
    {
     "name": "stdout",
     "output_type": "stream",
     "text": [
      "최종 테스트셋 평가\n",
      "test SET Performance Evaluation\n",
      "RMSE: 0.1265\n",
      "R²: 0.7407\n",
      "MAE: 0.0880\n",
      "실제값 평균: 0.4667\n",
      "예측값 평균: 0.4620\n",
      "\n",
      "Final model performance evaluation:\n",
      "Test set RMSE: 0.1265\n",
      "Test set R²: 0.7407\n",
      "Test set MAE: 0.0880\n"
     ]
    }
   ],
   "source": [
    "# 모든 모델 개발이 완료된 후 최종 한 번만 수행\n",
    "print(\"최종 테스트셋 평가\")\n",
    "\n",
    "\n",
    "# 최종 테스트셋 평가(phase만 'test'로 변경하여 테스트 데이터를 사용)(이전에 정의한 evaluate_model_performance 함수를 그대로 사용)\n",
    "test_pred, test_actual, test_metrics = evaluate_model_performance(\n",
    "    model, dataset, scaler_y, \"test\"\n",
    ")\n",
    "\n",
    "# test_pred : 모델의 예측값 , test_actual : 실제 정답 값 배열 , test_metrics : (RMSE, R², MAE가 담긴 딕셔너리)\n",
    "\n",
    "print(f\"\\nFinal model performance evaluation:\")\n",
    "print(f\"Test set RMSE: {test_metrics['rmse']:.4f}\")\n",
    "print(f\"Test set R²: {test_metrics['r2']:.4f}\")\n",
    "print(f\"Test set MAE: {test_metrics['mae']:.4f}\")\n"
   ]
  },
  {
   "cell_type": "markdown",
   "id": "cd9bb436",
   "metadata": {},
   "source": [
    "step16. KAN 예측값 / 실제값 그래프"
   ]
  },
  {
   "cell_type": "code",
   "execution_count": 30,
   "id": "7931b4ce",
   "metadata": {},
   "outputs": [
    {
     "data": {
      "image/png": "[encoded data removed]",
      "text/plain": [
       "<Figure size 400x400 with 1 Axes>"
      ]
     },
     "metadata": {},
     "output_type": "display_data"
    }
   ],
   "source": [
    "# step14. KAN 예측값 / 실제값 그래프\n",
    "import matplotlib.pyplot as plt\n",
    "\n",
    "plt.figure(figsize=(4, 4))  # 도화지 그리기~\n",
    "\n",
    "# test_actual (x축) vs test_pred (y축) , alpha = 투명도\n",
    "plt.scatter(test_actual, test_pred, alpha=0.7, edgecolors='k', label='Model Predictions')\n",
    "\n",
    "# 제일 작은 값, 제일 큰 값 설정\n",
    "min_val = min(test_actual.min(), test_pred.min())\n",
    "max_val = max(test_actual.max(), test_pred.max())\n",
    "plt.plot([min_val, max_val], [min_val, max_val], 'r--', linewidth=2, label='Perfect Fit (y=x)')  # y = x 선긋기\n",
    "\n",
    "# 그래프 제목과 축 레이블 설정\n",
    "plt.xlabel(\"Actual \" + predicting , fontsize=12)   # Actual 다음에 우리가 보고자 하는 output predicting 변수가 뜸\n",
    "plt.ylabel(\"Predicted \" + predicting, fontsize=12) # \n",
    "plt.title(f'Test Set: Actual vs. Predicted (R² = {test_metrics[\"r2\"]:.4f})', fontsize=14)\n",
    "plt.legend()\n",
    "plt.grid(True)  # 격자 on \n",
    "plt.axis('equal') # x, y축 스케일을 동일하게 설정\n",
    "plt.tight_layout()\n",
    "plt.show()\n"
   ]
  },
  {
   "cell_type": "markdown",
   "id": "c9f2f548",
   "metadata": {},
   "source": [
    "잔차 플롯 (Residual Plot): 모델의 예측 오차 패턴 분석"
   ]
  },
  {
   "cell_type": "code",
   "execution_count": 31,
   "id": "da62b6b9",
   "metadata": {},
   "outputs": [
    {
     "data": {
      "image/png": "[encoded data removed]",
      "text/plain": [
       "<Figure size 700x400 with 1 Axes>"
      ]
     },
     "metadata": {},
     "output_type": "display_data"
    }
   ],
   "source": [
    "# 1. 잔차 계산 (실제값 - 예측값)\n",
    "residuals = test_actual - test_pred\n",
    "\n",
    "# 2. 잔차 플롯 시각화\n",
    "plt.figure(figsize=(7, 4))\n",
    "\n",
    "# x축은 예측값, y축은 잔차\n",
    "plt.scatter(test_pred, residuals, alpha=0.7, edgecolors='k')\n",
    "\n",
    "# y=0 기준선 추가 (오차가 0인 선)\n",
    "plt.axhline(y=0, color='r', linestyle='--', linewidth=2)\n",
    "\n",
    "plt.xlabel(\"Predicted \"+predicting, fontsize=12)\n",
    "plt.ylabel('Residuals (Actual - Predicted)', fontsize=12)\n",
    "plt.title('Residual Plot for Test Set', fontsize=14)\n",
    "plt.grid(True)\n",
    "plt.show()\n"
   ]
  },
  {
   "cell_type": "markdown",
   "id": "85cd30ad",
   "metadata": {},
   "source": [
    "2. 개별 변수 영향도 플롯 (Partial Dependence Plot): 변수-결과 관계 시각화"
   ]
  },
  {
   "cell_type": "code",
   "execution_count": 32,
   "id": "ff333b84",
   "metadata": {},
   "outputs": [
    {
     "name": "stdout",
     "output_type": "stream",
     "text": [
      "--- 모든 입력 변수에 대한 개별 영향도 플롯 ---\n"
     ]
    },
    {
     "data": {
      "image/png": "[encoded data removed]",
      "text/plain": [
       "<Figure size 500x400 with 12 Axes>"
      ]
     },
     "metadata": {},
     "output_type": "display_data"
    }
   ],
   "source": [
    "import numpy as np\n",
    "import matplotlib.pyplot as plt\n",
    "\n",
    "# 1. (NameError 해결) feature_names 리스트를 먼저 정의합니다.\n",
    "feature_names = [\n",
    "    \"Current density\", \"Faradaic efficiency\", \"CO coversion\", \"Voltage\",\n",
    "    \"Electricity cost\", \"Membrain cost\", \"Capture energy\", \"Crossover rate\"\n",
    "]\n",
    "\n",
    "try:\n",
    "    print(\"--- 모든 입력 변수에 대한 개별 영향도 플롯 ---\")\n",
    "    \n",
    "    # 2. (TypeError 해결) 'vars' 인자 없이 plot() 함수를 호출합니다.\n",
    "    # 이렇게 하면 8개 변수 각각에 대한 영향도 그래프가 한 번에 그려집니다.\n",
    "    model.plot()\n",
    "    \n",
    "    # 전체 그래프에 대한 제목 설정 (선택 사항)\n",
    "    plt.suptitle('Partial Dependence Plots for All Features', y=1.02)\n",
    "    plt.show()\n",
    "\n",
    "except Exception as e:\n",
    "    print(f\"오류가 발생했습니다: {e}\")\n",
    "    print(\"이전 단계에서 'model' 객체가 성공적으로 생성되었는지 확인해주세요.\")\n",
    "\n"
   ]
  },
  {
   "cell_type": "code",
   "execution_count": 33,
   "id": "22bee12d",
   "metadata": {},
   "outputs": [
    {
     "name": "stdout",
     "output_type": "stream",
     "text": [
      "formula= -0.1248*x_2 - 0.4409*x_3 + 0.028*x_7 + 0.0185*x_8 + 0.4909 + 0.5633*exp(-8.7999*x_1)\n"
     ]
    }
   ],
   "source": [
    "# step11의 코드를 다시 실행\n",
    "formula = ex_round(model.symbolic_formula()[0][0], 4)\n",
    "print(\"formula=\", formula)\n",
    "\n",
    "# 여기서 맨 왼쪽부터  x_1부터 x_8 \n"
   ]
  },
  {
   "cell_type": "markdown",
   "id": "7180d5fa",
   "metadata": {},
   "source": [
    "-------"
   ]
  },
  {
   "cell_type": "markdown",
   "id": "7b03ef06",
   "metadata": {},
   "source": [
    "------"
   ]
  },
  {
   "cell_type": "markdown",
   "id": "c161d08d",
   "metadata": {},
   "source": [
    "------------------------------------------------------------------------------------------------------------------------------------------------"
   ]
  },
  {
   "cell_type": "markdown",
   "id": "61f2ffb4",
   "metadata": {},
   "source": [
    "step17.실제 KAN이 구현한 수식에 X값을 대입해서 결과 구해보기_역정규화 이용"
   ]
  },
  {
   "cell_type": "code",
   "execution_count": 34,
   "id": "bd032dac",
   "metadata": {},
   "outputs": [
    {
     "name": "stdout",
     "output_type": "stream",
     "text": [
      "--- [입력 변수(X) 정규화 키] ---\n",
      "x_1 (Current density (mA/cm2)):\n",
      "  min = 123.17073171\n",
      "  max = 1999.62015194\n",
      "\n",
      "x_2 (Faradaic efficiency (%)):\n",
      "  min = 0.50009796\n",
      "  max = 0.98970612\n",
      "\n",
      "x_3 (CO coversion):\n",
      "  min = 0.02733906\n",
      "  max = 0.59988205\n",
      "\n",
      "x_4 (Voltage (V)):\n",
      "  min = 1.30043982\n",
      "  max = 3.49868053\n",
      "\n",
      "x_5 (Electricity cost ($/kWh)):\n",
      "  min = 0.05002999\n",
      "  max = 0.09999000\n",
      "\n",
      "x_6 (Membrain cost ($/m2)):\n",
      "  min = 285.03798481\n",
      "  max = 348.32067173\n",
      "\n",
      "x_7 (Catpure energy (GJ/ton)):\n",
      "  min = 3.00039984\n",
      "  max = 4.99640144\n",
      "\n",
      "x_8 (Crossover rate):\n",
      "  min = 0.00039984\n",
      "  max = 1.99880048\n",
      "\n",
      "--- [출력 변수(y) 역정규화 키] ---\n",
      "y_min = 0.17031000\n",
      "y_max = 1.56500635\n"
     ]
    }
   ],
   "source": [
    "# 이전에 학습에 사용했던 scaler_X 와 scaler_y 객체가 필요합니다.\n",
    "\n",
    "# 1. 입력 변수(X)의 최소/최대값 추출\n",
    "#    사용된 변수의 순서에 맞게 이름을 지정합니다.\n",
    "feature_names = [\n",
    "    \"Current density (mA/cm2)\", \"Faradaic efficiency (%)\", \"CO coversion\",\n",
    "    \"Voltage (V)\", \"Electricity cost ($/kWh)\", \"Membrain cost ($/m2)\",\n",
    "    \"Catpure energy (GJ/ton)\", \"Crossover rate\"\n",
    "]\n",
    "\n",
    "print(\"--- [입력 변수(X) 정규화 키] ---\")\n",
    "for i, name in enumerate(feature_names):\n",
    "    min_val = scaler_X.data_min_[i]\n",
    "    max_val = scaler_X.data_max_[i]\n",
    "    print(f\"x_{i+1} ({name}):\")\n",
    "    print(f\"  min = {min_val:.8f}\")\n",
    "    print(f\"  max = {max_val:.8f}\\n\")\n",
    "\n",
    "# 2. 출력 변수(y)의 최소/최대값 추출\n",
    "y_min = scaler_y.data_min_[0]\n",
    "y_max = scaler_y.data_max_[0]\n",
    "\n",
    "print(\"--- [출력 변수(y) 역정규화 키] ---\")\n",
    "print(f\"y_min = {y_min:.8f}\")\n",
    "print(f\"y_max = {y_max:.8f}\")\n"
   ]
  },
  {
   "cell_type": "code",
   "execution_count": 35,
   "id": "b562d0ba",
   "metadata": {},
   "outputs": [
    {
     "name": "stdout",
     "output_type": "stream",
     "text": [
      "formula= -0.1248*x_2 - 0.4409*x_3 + 0.028*x_7 + 0.0185*x_8 + 0.4909 + 0.5633*exp(-8.7999*x_1)\n",
      "(x_1: Current density, x_2: Faradaic efficiency, ... x_8: crossover rate)\n"
     ]
    }
   ],
   "source": [
    "# step11의 코드를 다시 실행\n",
    "formula = ex_round(model.symbolic_formula()[0][0], 4)\n",
    "print(\"formula=\", formula)\n",
    "print('(x_1: Current density, x_2: Faradaic efficiency, ... x_8: crossover rate)')\n"
   ]
  },
  {
   "cell_type": "markdown",
   "id": "6bf9a624",
   "metadata": {},
   "source": [
    "python에서도 시험삼아 몇 개 출력해보기"
   ]
  },
  {
   "cell_type": "code",
   "execution_count": 36,
   "id": "a983cab0",
   "metadata": {},
   "outputs": [
    {
     "name": "stdout",
     "output_type": "stream",
     "text": [
      "▶ 자동으로 감지된 수식: y = -0.124788018570728*x_2 - 0.440946501806949*x_3 + 0.028047372947083*x_7 + 0.0185323641757201*x_8 + 0.490861401333214 + 0.563346709021052*exp(-8.79992008209229*x_1)\n",
      "\n",
      "==============================================================\n",
      "### 역정규화 (Inverse Normalization)에 사용되는 수식 ###\n",
      "실제값 = (정규화된 값 * (최대값 - 최소값)) + 최소값\n",
      "실제값 = (정규화된 값 * 1.7434) + 0.0023\n",
      "==============================================================\n",
      "\n",
      "--------- [단순화된 수식 모델]의 예측 성능 ---------\n",
      "    실제값   수식 예측값 \n",
      "0   0.38     0.45\n",
      "1   0.43     0.51\n",
      "2   0.53     0.56\n",
      "3   0.19     0.05\n",
      "4   0.60     0.66\n",
      "5   0.45     0.58\n",
      "6   0.20     0.11\n",
      "7   0.37     0.47\n",
      "8   0.46     0.58\n",
      "9   0.32     0.40\n",
      "10  0.83     0.87\n",
      "11  0.27     0.30\n",
      "12  0.35     0.40\n",
      "13  0.38     0.48\n",
      "14  0.30     0.32\n",
      "15  0.21     0.13\n",
      "16  0.31     0.38\n",
      "17  0.18     0.11\n",
      "18  0.37     0.46\n",
      "19  0.37     0.46\n",
      "20  0.90     0.85\n",
      "21  0.30     0.18\n",
      "22  0.57     0.57\n",
      "23  0.42     0.50\n",
      "24  0.29     0.27\n",
      "25  0.27     0.29\n",
      "26  0.26     0.18\n",
      "27  0.33     0.31\n",
      "28  0.37     0.48\n",
      "29  0.82     0.69\n"
     ]
    }
   ],
   "source": [
    "import numpy as np\n",
    "import pandas as pd\n",
    "from sympy import sympify, symbols, lambdify \n",
    "# sympy 라이브러리 추가\n",
    "\n",
    "# 1. KAN 모델에서 직접 심볼릭 수식 문자열을 가져오기\n",
    "formula_str = model.symbolic_formula()[0][0] # 실제 모델에서 가져오는 코드\n",
    "\n",
    "print(f\"▶ 자동으로 감지된 수식: y = {formula_str}\\n\")\n",
    "\n",
    "# 2. 모든 변수(x_1 ~ x_8)를 기호로 정의\n",
    "num_features = len(feature_names)\n",
    "x_vars = symbols(f'x_1:{num_features + 1}')\n",
    "\n",
    "# 3. 문자열 수식을 실제 계산 가능한 함수로 변환합니다. (핵심 부분)\n",
    "#    lambdify는 sympy 수식을 매우 빠른 numpy 함수로 바꿔주는 기능입니다.\n",
    "symbolic_func = lambdify(x_vars, sympify(formula_str), 'numpy')\n",
    "\n",
    "# 4. 새로운 '만능' 예측 함수를 정의합니다.\n",
    "def auto_symbolic_prediction(x_norm):\n",
    "    \"\"\"\n",
    "    정규화된 입력 데이터(x_norm)를 받아,\n",
    "    자동으로 생성된 symbolic_func를 사용해 예측값을 반환합니다.\n",
    "    \"\"\"\n",
    "    # x_norm 배열의 각 열을 개별 인자로 분리하여 함수에 전달합니다.\n",
    "    # 예: symbolic_func(x_norm[:,0], x_norm[:,1], ..., x_norm[:,7])\n",
    "    # x_norm.T는 배열을 전치하여 각 행이 변수가 되도록 합니다.\n",
    "    return symbolic_func(*x_norm.T)\n",
    "\n",
    "# --- [자동화된 수식 처리 부분 끝] ---\n",
    "\n",
    "\n",
    "# 2. 역정규화에 사용되는 수식 출력 (이전과 동일)\n",
    "min_val = scaler_y.min_[0]\n",
    "scale_range = 1 / scaler_y.scale_[0]\n",
    "print(\"==============================================================\")\n",
    "print(\"### 역정규화 (Inverse Normalization)에 사용되는 수식 ###\")\n",
    "print(f\"실제값 = (정규화된 값 * (최대값 - 최소값)) + 최소값\")\n",
    "print(f\"실제값 = (정규화된 값 * {scale_range:.4f}) + {min_val:.4f}\")\n",
    "print(\"==============================================================\\n\")\n",
    "\n",
    "\n",
    "# 4. 테스트 데이터셋 전체를 사용하여 예측을 수행합니다.\n",
    "test_input_norm = dataset['test_input']\n",
    "# 여기서 새롭게 정의한 자동화 함수를 호출합니다!\n",
    "y_pred_norm = auto_symbolic_prediction(test_input_norm)\n",
    "\n",
    "\n",
    "# 5. 이후 모든 코드는 이전과 완전히 동일합니다.\n",
    "y_pred_norm_reshaped = y_pred_norm.reshape(-1, 1)\n",
    "y_pred_real_scale = scaler_y.inverse_transform(y_pred_norm_reshaped)\n",
    "y_true_real_scale = scaler_y.inverse_transform(dataset['test_label'])\n",
    "results_df = pd.DataFrame({\n",
    "    '실제값 ': y_true_real_scale.flatten(),\n",
    "    '수식 예측값 ': y_pred_real_scale.flatten()\n",
    "})\n",
    "pd.options.display.float_format = '{:.2f}'.format\n",
    "\n",
    "print(\"--------- [단순화된 수식 모델]의 예측 성능 ---------\")\n",
    "print(results_df.head(30))\n"
   ]
  }
 ],
 "metadata": {
  "kernelspec": {
   "display_name": "venv",
   "language": "python",
   "name": "python3"
  },
  "language_info": {
   "codemirror_mode": {
    "name": "ipython",
    "version": 3
   },
   "file_extension": ".py",
   "mimetype": "text/x-python",
   "name": "python",
   "nbconvert_exporter": "python",
   "pygments_lexer": "ipython3",
   "version": "3.11.9"
  }
 },
 "nbformat": 4,
 "nbformat_minor": 5
}
