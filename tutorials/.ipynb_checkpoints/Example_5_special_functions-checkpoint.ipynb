{
 "cells": [
  {
   "cell_type": "markdown",
   "id": "134e7f9d",
   "metadata": {},
   "source": [
    "# Example 5: Special functions"
   ]
  },
  {
   "cell_type": "markdown",
   "id": "2571d531",
   "metadata": {},
   "source": [
    "Let's construct a dataset which contains special functions $f(x,y)={\\rm exp}(J_0(20x)+y^2)$, where $J_0(x)$ is the Bessel function."
   ]
  },
  {
   "cell_type": "code",
   "execution_count": 1,
   "id": "2075ef56",
   "metadata": {},
   "outputs": [
    {
     "name": "stdout",
     "output_type": "stream",
     "text": [
      "cpu\n",
      "checkpoint directory created: ./model\n",
      "saving model version 0.0\n"
     ]
    },
    {
     "name": "stderr",
     "output_type": "stream",
     "text": [
      "| train_loss: 5.15e-01 | test_loss: 5.85e-01 | reg: 5.85e+00 | : 100%|█| 20/20 [00:03<00:00,  5.59it"
     ]
    },
    {
     "name": "stdout",
     "output_type": "stream",
     "text": [
      "saving model version 0.1\n"
     ]
    },
    {
     "name": "stderr",
     "output_type": "stream",
     "text": [
      "\n"
     ]
    }
   ],
   "source": [
    "from kan import *\n",
    "\n",
    "device = torch.device('cuda' if torch.cuda.is_available() else 'cpu')\n",
    "print(device)\n",
    "\n",
    "# create a KAN: 2D inputs, 1D output, and 5 hidden neurons. cubic spline (k=3), 5 grid intervals (grid=5).\n",
    "model = KAN(width=[2,1,1], grid=3, k=3, seed=2, device=device)\n",
    "f = lambda x: torch.exp(torch.special.bessel_j0(20*x[:,[0]]) + x[:,[1]]**2)  # bessel 함수를 다룬다  exp(J_0(20x)+y^2)\n",
    "dataset = create_dataset(f, n_var=2, device=device)\n",
    "\n",
    "# train the model 1차 학습\n",
    "model.fit(dataset, opt=\"LBFGS\", steps=20); "
   ]
  },
  {
   "cell_type": "markdown",
   "id": "2f30c3ab",
   "metadata": {},
   "source": [
    "Plot trained KAN, the bessel function shows up in the bettom left"
   ]
  },
  {
   "cell_type": "code",
   "execution_count": 2,
   "id": "3f95fcdd",
   "metadata": {},
   "outputs": [
    {
     "data": {
      "image/png": "[encoded data removed]",
      "text/plain": [
       "<Figure size 500x400 with 6 Axes>"
      ]
     },
     "metadata": {},
     "output_type": "display_data"
    }
   ],
   "source": [
    "model.plot()"
   ]
  },
  {
   "cell_type": "code",
   "execution_count": 3,
   "id": "187d19f9",
   "metadata": {},
   "outputs": [
    {
     "name": "stdout",
     "output_type": "stream",
     "text": [
      "saving model version 0.2\n"
     ]
    },
    {
     "name": "stderr",
     "output_type": "stream",
     "text": [
      "| train_loss: 1.67e-02 | test_loss: 4.55e-02 | reg: 7.58e+00 | : 100%|█| 20/20 [00:05<00:00,  3.98it"
     ]
    },
    {
     "name": "stdout",
     "output_type": "stream",
     "text": [
      "saving model version 0.3\n"
     ]
    },
    {
     "name": "stderr",
     "output_type": "stream",
     "text": [
      "\n"
     ]
    }
   ],
   "source": [
    "#grid가 20개가 되도록 늘리기 / 구간 20개로 나누기\n",
    "model = model.refine(20)\n",
    "model.fit(dataset, opt=\"LBFGS\", steps=20);"
   ]
  },
  {
   "cell_type": "code",
   "execution_count": 4,
   "id": "8d50bcef",
   "metadata": {},
   "outputs": [
    {
     "data": {
      "image/png": "[encoded data removed]",
      "text/plain": [
       "<Figure size 500x400 with 6 Axes>"
      ]
     },
     "metadata": {},
     "output_type": "display_data"
    }
   ],
   "source": [
    "model.plot()"
   ]
  },
  {
   "cell_type": "markdown",
   "id": "733a2a41",
   "metadata": {},
   "source": [
    "suggest_symbolic does not return anything that matches with it, since Bessel function isn't included in the default SYMBOLIC_LIB. We want to add Bessel to it."
   ]
  },
  {
   "cell_type": "code",
   "execution_count": null,
   "id": "031db28f",
   "metadata": {},
   "outputs": [
    {
     "name": "stdout",
     "output_type": "stream",
     "text": [
      "  function  fitting r2   r2 loss  complexity  complexity loss  total loss\n",
      "0        0    0.000000  0.000014           0                0    0.000003\n",
      "1        x    0.001663 -0.002386           1                1    0.799523\n",
      "2      sin    0.161387 -0.253906           2                2    1.549219\n",
      "3      cos    0.161387 -0.253906           2                2    1.549219\n",
      "4    1/x^2    0.099403 -0.151030           2                2    1.569794\n"
     ]
    },
    {
     "data": {
      "text/plain": [
       "('0',\n",
       " (<function kan.utils.<lambda>(x)>,\n",
       "  <function kan.utils.<lambda>(x)>,\n",
       "  0,\n",
       "  <function kan.utils.<lambda>(x, y_th)>),\n",
       " 0.0,\n",
       " 0)"
      ]
     },
     "execution_count": 5,
     "metadata": {},
     "output_type": "execute_result"
    }
   ],
   "source": [
    "\n",
    "model.suggest_symbolic(0,0,0)\n",
    "# r^2(결정계수) 가 1에 가까울수록 설명 good 0에 가까울수록 bad,  total loss = (r2 loss) + (가중치 × complexity loss) 인듯? total loss가 낮을수록 좋다"
   ]
  },
  {
   "cell_type": "code",
   "execution_count": 6,
   "id": "4b8549a2",
   "metadata": {},
   "outputs": [
    {
     "data": {
      "text/plain": [
       "dict_keys(['x', 'x^2', 'x^3', 'x^4', 'x^5', '1/x', '1/x^2', '1/x^3', '1/x^4', '1/x^5', 'sqrt', 'x^0.5', 'x^1.5', '1/sqrt(x)', '1/x^0.5', 'exp', 'log', 'abs', 'sin', 'cos', 'tan', 'tanh', 'sgn', 'arcsin', 'arccos', 'arctan', 'arctanh', '0', 'gaussian'])"
      ]
     },
     "execution_count": 6,
     "metadata": {},
     "output_type": "execute_result"
    }
   ],
   "source": [
    "#auto 를 쓰면 library에 있는 함수 종류\n",
    "SYMBOLIC_LIB.keys()"
   ]
  },
  {
   "cell_type": "markdown",
   "id": "5db9e7cf",
   "metadata": {},
   "source": [
    "add bessel function J0 to the symbolic library. we should include a name and a pytorch implementation. c is the complexity assigned to J0."
   ]
  },
  {
   "cell_type": "code",
   "execution_count": null,
   "id": "cbde1924",
   "metadata": {},
   "outputs": [],
   "source": [
    "add_symbolic('J0', torch.special.bessel_j0, c=1)\n",
    "# c 는 복잡도 점수 여기서는 J0 함수에 복잡도 점수 1점을 부여\n"
   ]
  },
  {
   "cell_type": "markdown",
   "id": "bda24c6d",
   "metadata": {},
   "source": [
    "After adding Bessel, we check suggest_symbolic again"
   ]
  },
  {
   "cell_type": "code",
   "execution_count": 8,
   "id": "83e5cfdd",
   "metadata": {},
   "outputs": [
    {
     "name": "stdout",
     "output_type": "stream",
     "text": [
      "  function  fitting r2   r2 loss  complexity  complexity loss  total loss\n",
      "0        0    0.000000  0.000014           0                0    0.000003\n",
      "1       J0    0.198490 -0.319189           1                1    0.736162\n",
      "2        x    0.001663 -0.002386           1                1    0.799523\n",
      "3      sin    0.161387 -0.253906           2                2    1.549219\n",
      "4      cos    0.161387 -0.253906           2                2    1.549219\n"
     ]
    },
    {
     "data": {
      "text/plain": [
       "('0',\n",
       " (<function kan.utils.<lambda>(x)>,\n",
       "  <function kan.utils.<lambda>(x)>,\n",
       "  0,\n",
       "  <function kan.utils.<lambda>(x, y_th)>),\n",
       " 0.0,\n",
       " 0)"
      ]
     },
     "execution_count": 8,
     "metadata": {},
     "output_type": "execute_result"
    }
   ],
   "source": [
    "# J0 fitting is not very good\n",
    "model.suggest_symbolic(0,0,0)"
   ]
  },
  {
   "cell_type": "markdown",
   "id": "4180de14",
   "metadata": {},
   "source": [
    "The fitting r2 is still not high, this is because the ground truth is J0(20x) which involves 20 which is too large. our default search is in (-10,10). so we need to set the search range bigger in order to include 20. now J0 appears at the top of the list\n"
   ]
  },
  {
   "cell_type": "code",
   "execution_count": 9,
   "id": "e78f4674",
   "metadata": {},
   "outputs": [
    {
     "name": "stdout",
     "output_type": "stream",
     "text": [
      "  function  fitting r2   r2 loss  complexity  complexity loss  total loss\n",
      "0       J0    0.998920 -9.841487           1                1   -1.168297\n",
      "1        0    0.000000  0.000014           0                0    0.000003\n",
      "2        x    0.001663 -0.002386           1                1    0.799523\n",
      "3      cos    0.585943 -1.272063           2                2    1.345587\n",
      "4      sin    0.585943 -1.272063           2                2    1.345587\n"
     ]
    },
    {
     "data": {
      "text/plain": [
       "('J0',\n",
       " (<function torch._C._special.special_bessel_j0>,\n",
       "  J0,\n",
       "  1,\n",
       "  <function torch._C._special.special_bessel_j0>),\n",
       " 0.9989200234413147,\n",
       " 1)"
      ]
     },
     "execution_count": 9,
     "metadata": {},
     "output_type": "execute_result"
    }
   ],
   "source": [
    "model.suggest_symbolic(0,0,0,a_range=(-40,40))\n",
    "# suggest_symbolic 함수에서 고정된 범위는 (-10,10) 이다. 즉 만약 sin(x)가 있으면 y = sin(ax+b) 이런 식으로 바꿀떄 a랑 b 가 -10~10이라는 것이다 \n",
    "# 여기선 J0(ax+b) 인 것이다"
   ]
  },
  {
   "cell_type": "code",
   "execution_count": null,
   "id": "014e68c1",
   "metadata": {},
   "outputs": [],
   "source": []
  }
 ],
 "metadata": {
  "kernelspec": {
   "display_name": "venv",
   "language": "python",
   "name": "python3"
  },
  "language_info": {
   "codemirror_mode": {
    "name": "ipython",
    "version": 3
   },
   "file_extension": ".py",
   "mimetype": "text/x-python",
   "name": "python",
   "nbconvert_exporter": "python",
   "pygments_lexer": "ipython3",
   "version": "3.11.9"
  }
 },
 "nbformat": 4,
 "nbformat_minor": 5
}
